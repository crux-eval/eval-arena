{
 "cells": [
  {
   "cell_type": "code",
   "execution_count": 21,
   "metadata": {},
   "outputs": [],
   "source": [
    "from collections import defaultdict\n",
    "import json, math, glob\n",
    "import numpy as np\n",
    "import pandas as pd\n",
    "import scipy.stats as stats\n",
    "import plotly.express as px\n",
    "from tqdm import tqdm\n",
    "import math\n",
    "import os"
   ]
  },
  {
   "cell_type": "code",
   "execution_count": 22,
   "metadata": {},
   "outputs": [
    {
     "data": {
      "text/html": [
       "<div>\n",
       "<style scoped>\n",
       "    .dataframe tbody tr th:only-of-type {\n",
       "        vertical-align: middle;\n",
       "    }\n",
       "\n",
       "    .dataframe tbody tr th {\n",
       "        vertical-align: top;\n",
       "    }\n",
       "\n",
       "    .dataframe thead th {\n",
       "        text-align: right;\n",
       "    }\n",
       "</style>\n",
       "<table border=\"1\" class=\"dataframe\">\n",
       "  <thead>\n",
       "    <tr style=\"text-align: right;\">\n",
       "      <th></th>\n",
       "      <th>pass1</th>\n",
       "    </tr>\n",
       "  </thead>\n",
       "  <tbody>\n",
       "    <tr>\n",
       "      <th>count</th>\n",
       "      <td>73280.000000</td>\n",
       "    </tr>\n",
       "    <tr>\n",
       "      <th>mean</th>\n",
       "      <td>0.470794</td>\n",
       "    </tr>\n",
       "    <tr>\n",
       "      <th>std</th>\n",
       "      <td>0.474130</td>\n",
       "    </tr>\n",
       "    <tr>\n",
       "      <th>min</th>\n",
       "      <td>0.000000</td>\n",
       "    </tr>\n",
       "    <tr>\n",
       "      <th>25%</th>\n",
       "      <td>0.000000</td>\n",
       "    </tr>\n",
       "    <tr>\n",
       "      <th>50%</th>\n",
       "      <td>0.300000</td>\n",
       "    </tr>\n",
       "    <tr>\n",
       "      <th>75%</th>\n",
       "      <td>1.000000</td>\n",
       "    </tr>\n",
       "    <tr>\n",
       "      <th>max</th>\n",
       "      <td>1.000000</td>\n",
       "    </tr>\n",
       "  </tbody>\n",
       "</table>\n",
       "</div>"
      ],
      "text/plain": [
       "              pass1\n",
       "count  73280.000000\n",
       "mean       0.470794\n",
       "std        0.474130\n",
       "min        0.000000\n",
       "25%        0.000000\n",
       "50%        0.300000\n",
       "75%        1.000000\n",
       "max        1.000000"
      ]
     },
     "metadata": {},
     "output_type": "display_data"
    },
    {
     "name": "stdout",
     "output_type": "stream",
     "text": [
      "{'CRUXEval-output', 'mbpp+', 'CRUXEval-input', 'humaneval+'}\n"
     ]
    },
    {
     "data": {
      "text/html": [
       "<div>\n",
       "<style scoped>\n",
       "    .dataframe tbody tr th:only-of-type {\n",
       "        vertical-align: middle;\n",
       "    }\n",
       "\n",
       "    .dataframe tbody tr th {\n",
       "        vertical-align: top;\n",
       "    }\n",
       "\n",
       "    .dataframe thead th {\n",
       "        text-align: right;\n",
       "    }\n",
       "</style>\n",
       "<table border=\"1\" class=\"dataframe\">\n",
       "  <thead>\n",
       "    <tr style=\"text-align: right;\">\n",
       "      <th></th>\n",
       "      <th>benchmark_id</th>\n",
       "      <th>model</th>\n",
       "      <th>example_id</th>\n",
       "      <th>pass1</th>\n",
       "      <th>hyperparams</th>\n",
       "      <th>groundtruth</th>\n",
       "      <th>raw_genereation</th>\n",
       "      <th>sanitized_generation</th>\n",
       "      <th>fail_base</th>\n",
       "      <th>fail_plus</th>\n",
       "      <th>base_fail_tests</th>\n",
       "      <th>plus_fail_tests</th>\n",
       "    </tr>\n",
       "  </thead>\n",
       "  <tbody>\n",
       "    <tr>\n",
       "      <th>60428</th>\n",
       "      <td>mbpp+</td>\n",
       "      <td>CohereForAI--c4ai-command-r-plus</td>\n",
       "      <td>Mbpp/2</td>\n",
       "      <td>1.0</td>\n",
       "      <td>temp0.0</td>\n",
       "      <td>\\ndef similar_elements(test_tup1, test_tup2):\\...</td>\n",
       "      <td>def similar_elements(list1: list, list2: list)...</td>\n",
       "      <td>def similar_elements(list1: list, list2: list)...</td>\n",
       "      <td>False</td>\n",
       "      <td>False</td>\n",
       "      <td>[]</td>\n",
       "      <td>[]</td>\n",
       "    </tr>\n",
       "    <tr>\n",
       "      <th>60429</th>\n",
       "      <td>mbpp+</td>\n",
       "      <td>CohereForAI--c4ai-command-r-plus</td>\n",
       "      <td>Mbpp/3</td>\n",
       "      <td>1.0</td>\n",
       "      <td>temp0.0</td>\n",
       "      <td>\\nimport math\\ndef is_not_prime(n):\\n    if n ...</td>\n",
       "      <td>def is_not_prime(n: int) -&gt; bool:\\n    \"\"\"Chec...</td>\n",
       "      <td>def is_not_prime(n: int) -&gt; bool:\\n    \"\"\"Chec...</td>\n",
       "      <td>False</td>\n",
       "      <td>False</td>\n",
       "      <td>[]</td>\n",
       "      <td>[]</td>\n",
       "    </tr>\n",
       "    <tr>\n",
       "      <th>60430</th>\n",
       "      <td>mbpp+</td>\n",
       "      <td>CohereForAI--c4ai-command-r-plus</td>\n",
       "      <td>Mbpp/4</td>\n",
       "      <td>1.0</td>\n",
       "      <td>temp0.0</td>\n",
       "      <td>\\nimport heapq as hq\\ndef heap_queue_largest(n...</td>\n",
       "      <td>import heapq\\n\\ndef heap_queue_largest(numbers...</td>\n",
       "      <td>import heapq\\ndef heap_queue_largest(numbers: ...</td>\n",
       "      <td>False</td>\n",
       "      <td>False</td>\n",
       "      <td>[]</td>\n",
       "      <td>[]</td>\n",
       "    </tr>\n",
       "    <tr>\n",
       "      <th>60431</th>\n",
       "      <td>mbpp+</td>\n",
       "      <td>CohereForAI--c4ai-command-r-plus</td>\n",
       "      <td>Mbpp/6</td>\n",
       "      <td>0.0</td>\n",
       "      <td>temp0.0</td>\n",
       "      <td>\\ndef is_Power_Of_Two(x: int): \\n    return x ...</td>\n",
       "      <td>def differ_At_One_Bit_Pos(n, m):\\n    return (...</td>\n",
       "      <td>def differ_At_One_Bit_Pos(n, m):\\n    return (...</td>\n",
       "      <td>True</td>\n",
       "      <td>True</td>\n",
       "      <td>[]</td>\n",
       "      <td>[[-1, 0]]</td>\n",
       "    </tr>\n",
       "    <tr>\n",
       "      <th>60432</th>\n",
       "      <td>mbpp+</td>\n",
       "      <td>CohereForAI--c4ai-command-r-plus</td>\n",
       "      <td>Mbpp/7</td>\n",
       "      <td>0.0</td>\n",
       "      <td>temp0.0</td>\n",
       "      <td>\\nimport re\\ndef find_char_long(text):\\n  retu...</td>\n",
       "      <td>def find_char_long(s):\\n    return [word for w...</td>\n",
       "      <td>def find_char_long(s):\\n    return [word for w...</td>\n",
       "      <td>False</td>\n",
       "      <td>True</td>\n",
       "      <td>[]</td>\n",
       "      <td>[[This is a very long string with no words tha...</td>\n",
       "    </tr>\n",
       "    <tr>\n",
       "      <th>...</th>\n",
       "      <td>...</td>\n",
       "      <td>...</td>\n",
       "      <td>...</td>\n",
       "      <td>...</td>\n",
       "      <td>...</td>\n",
       "      <td>...</td>\n",
       "      <td>...</td>\n",
       "      <td>...</td>\n",
       "      <td>...</td>\n",
       "      <td>...</td>\n",
       "      <td>...</td>\n",
       "      <td>...</td>\n",
       "    </tr>\n",
       "    <tr>\n",
       "      <th>73275</th>\n",
       "      <td>mbpp+</td>\n",
       "      <td>xwincoder-34b</td>\n",
       "      <td>Mbpp/805</td>\n",
       "      <td>0.0</td>\n",
       "      <td>temp0.0</td>\n",
       "      <td>\\ndef max_sum_list(lists):\\n return max(lists,...</td>\n",
       "      <td>def max_sum_list(list_of_lists):\\n    max_sum ...</td>\n",
       "      <td>def max_sum_list(list_of_lists):\\n    max_sum ...</td>\n",
       "      <td>False</td>\n",
       "      <td>True</td>\n",
       "      <td>[]</td>\n",
       "      <td>[[[[-10, -20, -30], [-40, -50, -60], [-70, -80...</td>\n",
       "    </tr>\n",
       "    <tr>\n",
       "      <th>73276</th>\n",
       "      <td>mbpp+</td>\n",
       "      <td>xwincoder-34b</td>\n",
       "      <td>Mbpp/806</td>\n",
       "      <td>0.0</td>\n",
       "      <td>temp0.0</td>\n",
       "      <td>\\ndef max_run_uppercase(test_str):\\n  cnt = 0\\...</td>\n",
       "      <td>def max_run_uppercase(s):\\n    max_run = 0\\n  ...</td>\n",
       "      <td>def max_run_uppercase(s):\\n    max_run = 0\\n  ...</td>\n",
       "      <td>False</td>\n",
       "      <td>True</td>\n",
       "      <td>[]</td>\n",
       "      <td>[[Aaa]]</td>\n",
       "    </tr>\n",
       "    <tr>\n",
       "      <th>73277</th>\n",
       "      <td>mbpp+</td>\n",
       "      <td>xwincoder-34b</td>\n",
       "      <td>Mbpp/807</td>\n",
       "      <td>1.0</td>\n",
       "      <td>temp0.0</td>\n",
       "      <td>\\ndef first_odd(nums):\\n  first_odd = next((el...</td>\n",
       "      <td>def first_odd(numbers):\\n    for number in num...</td>\n",
       "      <td>def first_odd(numbers):\\n    for number in num...</td>\n",
       "      <td>False</td>\n",
       "      <td>False</td>\n",
       "      <td>[]</td>\n",
       "      <td>[]</td>\n",
       "    </tr>\n",
       "    <tr>\n",
       "      <th>73278</th>\n",
       "      <td>mbpp+</td>\n",
       "      <td>xwincoder-34b</td>\n",
       "      <td>Mbpp/808</td>\n",
       "      <td>1.0</td>\n",
       "      <td>temp0.0</td>\n",
       "      <td>\\ndef check_K(test_tup, K):\\n  return K in tes...</td>\n",
       "      <td>def check_K(tup, k):\\n    return k in tup\\n\\n#...</td>\n",
       "      <td>def check_K(tup, k):\\n    return k in tup</td>\n",
       "      <td>False</td>\n",
       "      <td>False</td>\n",
       "      <td>[]</td>\n",
       "      <td>[]</td>\n",
       "    </tr>\n",
       "    <tr>\n",
       "      <th>73279</th>\n",
       "      <td>mbpp+</td>\n",
       "      <td>xwincoder-34b</td>\n",
       "      <td>Mbpp/809</td>\n",
       "      <td>1.0</td>\n",
       "      <td>temp0.0</td>\n",
       "      <td>\\ndef check_smaller(test_tup1, test_tup2):\\n  ...</td>\n",
       "      <td>def check_smaller(t1, t2):\\n    for i in range...</td>\n",
       "      <td>def check_smaller(t1, t2):\\n    for i in range...</td>\n",
       "      <td>False</td>\n",
       "      <td>False</td>\n",
       "      <td>[]</td>\n",
       "      <td>[]</td>\n",
       "    </tr>\n",
       "  </tbody>\n",
       "</table>\n",
       "<p>12852 rows × 12 columns</p>\n",
       "</div>"
      ],
      "text/plain": [
       "      benchmark_id                             model example_id  pass1  \\\n",
       "60428        mbpp+  CohereForAI--c4ai-command-r-plus     Mbpp/2    1.0   \n",
       "60429        mbpp+  CohereForAI--c4ai-command-r-plus     Mbpp/3    1.0   \n",
       "60430        mbpp+  CohereForAI--c4ai-command-r-plus     Mbpp/4    1.0   \n",
       "60431        mbpp+  CohereForAI--c4ai-command-r-plus     Mbpp/6    0.0   \n",
       "60432        mbpp+  CohereForAI--c4ai-command-r-plus     Mbpp/7    0.0   \n",
       "...            ...                               ...        ...    ...   \n",
       "73275        mbpp+                     xwincoder-34b   Mbpp/805    0.0   \n",
       "73276        mbpp+                     xwincoder-34b   Mbpp/806    0.0   \n",
       "73277        mbpp+                     xwincoder-34b   Mbpp/807    1.0   \n",
       "73278        mbpp+                     xwincoder-34b   Mbpp/808    1.0   \n",
       "73279        mbpp+                     xwincoder-34b   Mbpp/809    1.0   \n",
       "\n",
       "      hyperparams                                        groundtruth  \\\n",
       "60428     temp0.0  \\ndef similar_elements(test_tup1, test_tup2):\\...   \n",
       "60429     temp0.0  \\nimport math\\ndef is_not_prime(n):\\n    if n ...   \n",
       "60430     temp0.0  \\nimport heapq as hq\\ndef heap_queue_largest(n...   \n",
       "60431     temp0.0  \\ndef is_Power_Of_Two(x: int): \\n    return x ...   \n",
       "60432     temp0.0  \\nimport re\\ndef find_char_long(text):\\n  retu...   \n",
       "...           ...                                                ...   \n",
       "73275     temp0.0  \\ndef max_sum_list(lists):\\n return max(lists,...   \n",
       "73276     temp0.0  \\ndef max_run_uppercase(test_str):\\n  cnt = 0\\...   \n",
       "73277     temp0.0  \\ndef first_odd(nums):\\n  first_odd = next((el...   \n",
       "73278     temp0.0  \\ndef check_K(test_tup, K):\\n  return K in tes...   \n",
       "73279     temp0.0  \\ndef check_smaller(test_tup1, test_tup2):\\n  ...   \n",
       "\n",
       "                                         raw_genereation  \\\n",
       "60428  def similar_elements(list1: list, list2: list)...   \n",
       "60429  def is_not_prime(n: int) -> bool:\\n    \"\"\"Chec...   \n",
       "60430  import heapq\\n\\ndef heap_queue_largest(numbers...   \n",
       "60431  def differ_At_One_Bit_Pos(n, m):\\n    return (...   \n",
       "60432  def find_char_long(s):\\n    return [word for w...   \n",
       "...                                                  ...   \n",
       "73275  def max_sum_list(list_of_lists):\\n    max_sum ...   \n",
       "73276  def max_run_uppercase(s):\\n    max_run = 0\\n  ...   \n",
       "73277  def first_odd(numbers):\\n    for number in num...   \n",
       "73278  def check_K(tup, k):\\n    return k in tup\\n\\n#...   \n",
       "73279  def check_smaller(t1, t2):\\n    for i in range...   \n",
       "\n",
       "                                    sanitized_generation fail_base fail_plus  \\\n",
       "60428  def similar_elements(list1: list, list2: list)...     False     False   \n",
       "60429  def is_not_prime(n: int) -> bool:\\n    \"\"\"Chec...     False     False   \n",
       "60430  import heapq\\ndef heap_queue_largest(numbers: ...     False     False   \n",
       "60431  def differ_At_One_Bit_Pos(n, m):\\n    return (...      True      True   \n",
       "60432  def find_char_long(s):\\n    return [word for w...     False      True   \n",
       "...                                                  ...       ...       ...   \n",
       "73275  def max_sum_list(list_of_lists):\\n    max_sum ...     False      True   \n",
       "73276  def max_run_uppercase(s):\\n    max_run = 0\\n  ...     False      True   \n",
       "73277  def first_odd(numbers):\\n    for number in num...     False     False   \n",
       "73278          def check_K(tup, k):\\n    return k in tup     False     False   \n",
       "73279  def check_smaller(t1, t2):\\n    for i in range...     False     False   \n",
       "\n",
       "      base_fail_tests                                    plus_fail_tests  \n",
       "60428              []                                                 []  \n",
       "60429              []                                                 []  \n",
       "60430              []                                                 []  \n",
       "60431              []                                          [[-1, 0]]  \n",
       "60432              []  [[This is a very long string with no words tha...  \n",
       "...               ...                                                ...  \n",
       "73275              []  [[[[-10, -20, -30], [-40, -50, -60], [-70, -80...  \n",
       "73276              []                                            [[Aaa]]  \n",
       "73277              []                                                 []  \n",
       "73278              []                                                 []  \n",
       "73279              []                                                 []  \n",
       "\n",
       "[12852 rows x 12 columns]"
      ]
     },
     "metadata": {},
     "output_type": "display_data"
    }
   ],
   "source": [
    "records = []\n",
    "for fname in glob.glob(f\"data/*.jsonl\"):\n",
    "    with open(fname, 'rt') as f:\n",
    "        records.extend([json.loads(l) for l in f.readlines()])\n",
    "\n",
    "eval_results = pd.DataFrame(records)\n",
    "display(eval_results.describe())\n",
    "\n",
    "\n",
    "\n",
    "print(set(eval_results['benchmark_id']))\n",
    "\n",
    "benchmark_id = 'mbpp+'\n",
    "result = eval_results[eval_results['benchmark_id'] == benchmark_id]\n",
    "display(result)\n",
    "\n",
    "# figs = basic_analysis(result, benchmark_id)\n"
   ]
  },
  {
   "cell_type": "code",
   "execution_count": 23,
   "metadata": {},
   "outputs": [
    {
     "name": "stderr",
     "output_type": "stream",
     "text": [
      "/tmp/ipykernel_2154564/3357203197.py:17: FutureWarning:\n",
      "\n",
      "The default value of numeric_only in DataFrameGroupBy.mean is deprecated. In a future version, numeric_only will default to False. Either specify numeric_only or select only columns which should be valid for the function.\n",
      "\n"
     ]
    },
    {
     "data": {
      "text/html": [
       "<div>\n",
       "<style scoped>\n",
       "    .dataframe tbody tr th:only-of-type {\n",
       "        vertical-align: middle;\n",
       "    }\n",
       "\n",
       "    .dataframe tbody tr th {\n",
       "        vertical-align: top;\n",
       "    }\n",
       "\n",
       "    .dataframe thead th {\n",
       "        text-align: right;\n",
       "    }\n",
       "</style>\n",
       "<table border=\"1\" class=\"dataframe\">\n",
       "  <thead>\n",
       "    <tr style=\"text-align: right;\">\n",
       "      <th></th>\n",
       "      <th>model</th>\n",
       "      <th>pass1</th>\n",
       "    </tr>\n",
       "  </thead>\n",
       "  <tbody>\n",
       "    <tr>\n",
       "      <th>17</th>\n",
       "      <td>gpt-4-1106-preview</td>\n",
       "      <td>0.732804</td>\n",
       "    </tr>\n",
       "    <tr>\n",
       "      <th>18</th>\n",
       "      <td>meta-llama-3-70b-instruct</td>\n",
       "      <td>0.690476</td>\n",
       "    </tr>\n",
       "    <tr>\n",
       "      <th>26</th>\n",
       "      <td>opencodeinterpreter-ds-33b</td>\n",
       "      <td>0.685185</td>\n",
       "    </tr>\n",
       "    <tr>\n",
       "      <th>32</th>\n",
       "      <td>white-rabbit-neo-33b-v1</td>\n",
       "      <td>0.669312</td>\n",
       "    </tr>\n",
       "    <tr>\n",
       "      <th>27</th>\n",
       "      <td>opencodeinterpreter-ds-6.7b</td>\n",
       "      <td>0.664021</td>\n",
       "    </tr>\n",
       "    <tr>\n",
       "      <th>12</th>\n",
       "      <td>deepseek-coder-6.7b-instruct</td>\n",
       "      <td>0.656085</td>\n",
       "    </tr>\n",
       "    <tr>\n",
       "      <th>3</th>\n",
       "      <td>bigcode--starcoder2-15b-instruct-v0.1</td>\n",
       "      <td>0.650794</td>\n",
       "    </tr>\n",
       "    <tr>\n",
       "      <th>33</th>\n",
       "      <td>xwincoder-34b</td>\n",
       "      <td>0.648148</td>\n",
       "    </tr>\n",
       "    <tr>\n",
       "      <th>1</th>\n",
       "      <td>HuggingFaceH4--starchat2-15b-v0.1</td>\n",
       "      <td>0.645503</td>\n",
       "    </tr>\n",
       "    <tr>\n",
       "      <th>22</th>\n",
       "      <td>mixtral-8x22b-instruct-v0.1</td>\n",
       "      <td>0.642857</td>\n",
       "    </tr>\n",
       "    <tr>\n",
       "      <th>0</th>\n",
       "      <td>CohereForAI--c4ai-command-r-plus</td>\n",
       "      <td>0.634921</td>\n",
       "    </tr>\n",
       "    <tr>\n",
       "      <th>30</th>\n",
       "      <td>starcoder2-15b-oci</td>\n",
       "      <td>0.632275</td>\n",
       "    </tr>\n",
       "    <tr>\n",
       "      <th>28</th>\n",
       "      <td>speechless-starcoder2-15b</td>\n",
       "      <td>0.624339</td>\n",
       "    </tr>\n",
       "    <tr>\n",
       "      <th>2</th>\n",
       "      <td>Qwen--Qwen1.5-72B-Chat</td>\n",
       "      <td>0.616402</td>\n",
       "    </tr>\n",
       "    <tr>\n",
       "      <th>11</th>\n",
       "      <td>deepseek-coder-6.7b-base</td>\n",
       "      <td>0.587302</td>\n",
       "    </tr>\n",
       "    <tr>\n",
       "      <th>6</th>\n",
       "      <td>codegemma-7b-it</td>\n",
       "      <td>0.568783</td>\n",
       "    </tr>\n",
       "    <tr>\n",
       "      <th>29</th>\n",
       "      <td>speechless-starcoder2-7b</td>\n",
       "      <td>0.563492</td>\n",
       "    </tr>\n",
       "    <tr>\n",
       "      <th>10</th>\n",
       "      <td>databricks--dbrx-instruct</td>\n",
       "      <td>0.558201</td>\n",
       "    </tr>\n",
       "    <tr>\n",
       "      <th>19</th>\n",
       "      <td>microsoft--Phi-3-mini-4k-instruct</td>\n",
       "      <td>0.542328</td>\n",
       "    </tr>\n",
       "    <tr>\n",
       "      <th>5</th>\n",
       "      <td>codegemma-7b</td>\n",
       "      <td>0.523810</td>\n",
       "    </tr>\n",
       "    <tr>\n",
       "      <th>23</th>\n",
       "      <td>mixtral-8x7b-instruct</td>\n",
       "      <td>0.497354</td>\n",
       "    </tr>\n",
       "    <tr>\n",
       "      <th>24</th>\n",
       "      <td>octocoder</td>\n",
       "      <td>0.497354</td>\n",
       "    </tr>\n",
       "    <tr>\n",
       "      <th>4</th>\n",
       "      <td>codegemma-2b</td>\n",
       "      <td>0.465608</td>\n",
       "    </tr>\n",
       "    <tr>\n",
       "      <th>25</th>\n",
       "      <td>open-hermes-2.5-code-290k-13b</td>\n",
       "      <td>0.457672</td>\n",
       "    </tr>\n",
       "    <tr>\n",
       "      <th>13</th>\n",
       "      <td>gemma-1.1-7b-it</td>\n",
       "      <td>0.449735</td>\n",
       "    </tr>\n",
       "    <tr>\n",
       "      <th>31</th>\n",
       "      <td>starcoder2-3b</td>\n",
       "      <td>0.439153</td>\n",
       "    </tr>\n",
       "    <tr>\n",
       "      <th>15</th>\n",
       "      <td>gemma-7b</td>\n",
       "      <td>0.433862</td>\n",
       "    </tr>\n",
       "    <tr>\n",
       "      <th>8</th>\n",
       "      <td>codegen-6b</td>\n",
       "      <td>0.428571</td>\n",
       "    </tr>\n",
       "    <tr>\n",
       "      <th>20</th>\n",
       "      <td>mistral-7b</td>\n",
       "      <td>0.420635</td>\n",
       "    </tr>\n",
       "    <tr>\n",
       "      <th>9</th>\n",
       "      <td>codet5p-2b</td>\n",
       "      <td>0.380952</td>\n",
       "    </tr>\n",
       "    <tr>\n",
       "      <th>21</th>\n",
       "      <td>mistralai--Mistral-7B-Instruct-v0.2</td>\n",
       "      <td>0.370370</td>\n",
       "    </tr>\n",
       "    <tr>\n",
       "      <th>7</th>\n",
       "      <td>codegen-2b</td>\n",
       "      <td>0.359788</td>\n",
       "    </tr>\n",
       "    <tr>\n",
       "      <th>14</th>\n",
       "      <td>gemma-2b</td>\n",
       "      <td>0.341270</td>\n",
       "    </tr>\n",
       "    <tr>\n",
       "      <th>16</th>\n",
       "      <td>gemma-7b-it</td>\n",
       "      <td>0.328042</td>\n",
       "    </tr>\n",
       "  </tbody>\n",
       "</table>\n",
       "</div>"
      ],
      "text/plain": [
       "                                    model     pass1\n",
       "17                     gpt-4-1106-preview  0.732804\n",
       "18              meta-llama-3-70b-instruct  0.690476\n",
       "26             opencodeinterpreter-ds-33b  0.685185\n",
       "32                white-rabbit-neo-33b-v1  0.669312\n",
       "27            opencodeinterpreter-ds-6.7b  0.664021\n",
       "12           deepseek-coder-6.7b-instruct  0.656085\n",
       "3   bigcode--starcoder2-15b-instruct-v0.1  0.650794\n",
       "33                          xwincoder-34b  0.648148\n",
       "1       HuggingFaceH4--starchat2-15b-v0.1  0.645503\n",
       "22            mixtral-8x22b-instruct-v0.1  0.642857\n",
       "0        CohereForAI--c4ai-command-r-plus  0.634921\n",
       "30                     starcoder2-15b-oci  0.632275\n",
       "28              speechless-starcoder2-15b  0.624339\n",
       "2                  Qwen--Qwen1.5-72B-Chat  0.616402\n",
       "11               deepseek-coder-6.7b-base  0.587302\n",
       "6                         codegemma-7b-it  0.568783\n",
       "29               speechless-starcoder2-7b  0.563492\n",
       "10              databricks--dbrx-instruct  0.558201\n",
       "19      microsoft--Phi-3-mini-4k-instruct  0.542328\n",
       "5                            codegemma-7b  0.523810\n",
       "23                  mixtral-8x7b-instruct  0.497354\n",
       "24                              octocoder  0.497354\n",
       "4                            codegemma-2b  0.465608\n",
       "25          open-hermes-2.5-code-290k-13b  0.457672\n",
       "13                        gemma-1.1-7b-it  0.449735\n",
       "31                          starcoder2-3b  0.439153\n",
       "15                               gemma-7b  0.433862\n",
       "8                              codegen-6b  0.428571\n",
       "20                             mistral-7b  0.420635\n",
       "9                              codet5p-2b  0.380952\n",
       "21    mistralai--Mistral-7B-Instruct-v0.2  0.370370\n",
       "7                              codegen-2b  0.359788\n",
       "14                               gemma-2b  0.341270\n",
       "16                            gemma-7b-it  0.328042"
      ]
     },
     "metadata": {},
     "output_type": "display_data"
    },
    {
     "data": {
      "text/html": [
       "<div>\n",
       "<style scoped>\n",
       "    .dataframe tbody tr th:only-of-type {\n",
       "        vertical-align: middle;\n",
       "    }\n",
       "\n",
       "    .dataframe tbody tr th {\n",
       "        vertical-align: top;\n",
       "    }\n",
       "\n",
       "    .dataframe thead th {\n",
       "        text-align: right;\n",
       "    }\n",
       "</style>\n",
       "<table border=\"1\" class=\"dataframe\">\n",
       "  <thead>\n",
       "    <tr style=\"text-align: right;\">\n",
       "      <th></th>\n",
       "      <th>pass1_a</th>\n",
       "      <th>pass1_b</th>\n",
       "    </tr>\n",
       "  </thead>\n",
       "  <tbody>\n",
       "    <tr>\n",
       "      <th>count</th>\n",
       "      <td>436968.000000</td>\n",
       "      <td>436968.000000</td>\n",
       "    </tr>\n",
       "    <tr>\n",
       "      <th>mean</th>\n",
       "      <td>0.541394</td>\n",
       "      <td>0.541394</td>\n",
       "    </tr>\n",
       "    <tr>\n",
       "      <th>std</th>\n",
       "      <td>0.498284</td>\n",
       "      <td>0.498284</td>\n",
       "    </tr>\n",
       "    <tr>\n",
       "      <th>min</th>\n",
       "      <td>0.000000</td>\n",
       "      <td>0.000000</td>\n",
       "    </tr>\n",
       "    <tr>\n",
       "      <th>25%</th>\n",
       "      <td>0.000000</td>\n",
       "      <td>0.000000</td>\n",
       "    </tr>\n",
       "    <tr>\n",
       "      <th>50%</th>\n",
       "      <td>1.000000</td>\n",
       "      <td>1.000000</td>\n",
       "    </tr>\n",
       "    <tr>\n",
       "      <th>75%</th>\n",
       "      <td>1.000000</td>\n",
       "      <td>1.000000</td>\n",
       "    </tr>\n",
       "    <tr>\n",
       "      <th>max</th>\n",
       "      <td>1.000000</td>\n",
       "      <td>1.000000</td>\n",
       "    </tr>\n",
       "  </tbody>\n",
       "</table>\n",
       "</div>"
      ],
      "text/plain": [
       "             pass1_a        pass1_b\n",
       "count  436968.000000  436968.000000\n",
       "mean        0.541394       0.541394\n",
       "std         0.498284       0.498284\n",
       "min         0.000000       0.000000\n",
       "25%         0.000000       0.000000\n",
       "50%         1.000000       1.000000\n",
       "75%         1.000000       1.000000\n",
       "max         1.000000       1.000000"
      ]
     },
     "metadata": {},
     "output_type": "display_data"
    }
   ],
   "source": [
    "def pass1_to_battle(result: pd.DataFrame):\n",
    "    pa = pd.merge(result, result, on=['example_id'], suffixes=[\"_a\", \"_b\"], how='outer')\n",
    "\n",
    "    awins = (pa['pass1_a'] > 0) & (pa['pass1_b'] == 0)\n",
    "    bwins = (pa['pass1_a'] == 0) & (pa['pass1_b'] > 0)\n",
    "    ties_neither = (pa['pass1_a'] == 0) & (pa['pass1_b'] == 0)\n",
    "    ties_both = (pa['pass1_a'] > 0) & (pa['pass1_b'] > 0)\n",
    "    # pa[['winner']][awins] = 'model_a' \n",
    "    pa['winner'] = 'a'\n",
    "    pa.loc[awins, 'winner'] = 'model_a'\n",
    "    pa.loc[bwins, 'winner'] = 'model_b'\n",
    "    pa.loc[ties_neither, 'winner'] = 'neither'\n",
    "    pa.loc[ties_both, 'winner'] = 'both'\n",
    "    return pa \n",
    "\n",
    "battles = pass1_to_battle(result)\n",
    "accs = result.groupby('model').agg('mean').reset_index().sort_values(by='pass1', ascending=False)\n",
    "display(accs)\n",
    "\n",
    "display(battles.describe())"
   ]
  },
  {
   "cell_type": "code",
   "execution_count": 24,
   "metadata": {},
   "outputs": [
    {
     "data": {
      "application/vnd.plotly.v1+json": {
       "config": {
        "plotlyServerURL": "https://plot.ly"
       },
       "data": [
        {
         "coloraxis": "coloraxis",
         "hovertemplate": "Model A: %{y}<br>Model B: %{x}<br>Count: %{z}<extra></extra>",
         "name": "0",
         "texttemplate": "%{z}",
         "type": "heatmap",
         "x": [
          "speechless-starcoder2-15b",
          "speechless-starcoder2-7b",
          "xwincoder-34b",
          "deepseek-coder-6.7b-base",
          "opencodeinterpreter-ds-6.7b",
          "Qwen--Qwen1.5-72B-Chat",
          "meta-llama-3-70b-instruct",
          "starcoder2-15b-oci",
          "codegemma-7b-it",
          "deepseek-coder-6.7b-instruct",
          "HuggingFaceH4--starchat2-15b-v0.1",
          "mixtral-8x22b-instruct-v0.1",
          "octocoder",
          "white-rabbit-neo-33b-v1",
          "opencodeinterpreter-ds-33b",
          "CohereForAI--c4ai-command-r-plus",
          "bigcode--starcoder2-15b-instruct-v0.1",
          "codegemma-7b",
          "databricks--dbrx-instruct",
          "mistral-7b",
          "gemma-1.1-7b-it",
          "codegemma-2b",
          "codegen-6b",
          "starcoder2-3b",
          "gemma-7b",
          "microsoft--Phi-3-mini-4k-instruct",
          "mixtral-8x7b-instruct",
          "gpt-4-1106-preview",
          "open-hermes-2.5-code-290k-13b",
          "codet5p-2b"
         ],
         "xaxis": "x",
         "y": [
          "speechless-starcoder2-15b",
          "speechless-starcoder2-7b",
          "xwincoder-34b",
          "deepseek-coder-6.7b-base",
          "opencodeinterpreter-ds-6.7b",
          "Qwen--Qwen1.5-72B-Chat",
          "meta-llama-3-70b-instruct",
          "starcoder2-15b-oci",
          "codegemma-7b-it",
          "deepseek-coder-6.7b-instruct",
          "HuggingFaceH4--starchat2-15b-v0.1",
          "mixtral-8x22b-instruct-v0.1",
          "octocoder",
          "white-rabbit-neo-33b-v1",
          "opencodeinterpreter-ds-33b",
          "CohereForAI--c4ai-command-r-plus",
          "bigcode--starcoder2-15b-instruct-v0.1",
          "codegemma-7b",
          "databricks--dbrx-instruct",
          "mistral-7b",
          "gemma-1.1-7b-it",
          "codegemma-2b",
          "codegen-6b",
          "starcoder2-3b",
          "gemma-7b",
          "microsoft--Phi-3-mini-4k-instruct",
          "mixtral-8x7b-instruct",
          "gpt-4-1106-preview",
          "open-hermes-2.5-code-290k-13b",
          "codet5p-2b"
         ],
         "yaxis": "y",
         "z": [
          [
           0,
           63,
           51,
           68,
           67,
           69,
           57,
           47,
           73,
           72,
           52,
           67,
           86,
           61,
           67,
           66,
           58,
           82,
           83,
           109,
           104,
           106,
           108,
           98,
           112,
           91,
           104,
           81,
           107,
           116
          ],
          [
           63,
           0,
           68,
           77,
           72,
           76,
           72,
           68,
           78,
           69,
           69,
           84,
           89,
           78,
           74,
           75,
           83,
           95,
           86,
           102,
           93,
           87,
           109,
           97,
           105,
           92,
           95,
           96,
           96,
           111
          ],
          [
           51,
           68,
           0,
           71,
           60,
           60,
           56,
           70,
           76,
           61,
           61,
           58,
           91,
           60,
           64,
           75,
           63,
           93,
           76,
           114,
           113,
           109,
           113,
           115,
           115,
           88,
           99,
           76,
           112,
           133
          ],
          [
           68,
           77,
           71,
           0,
           73,
           75,
           71,
           65,
           73,
           72,
           82,
           75,
           86,
           79,
           75,
           86,
           72,
           74,
           85,
           95,
           102,
           92,
           96,
           90,
           100,
           99,
           90,
           99,
           115,
           104
          ],
          [
           67,
           72,
           60,
           73,
           0,
           68,
           60,
           70,
           86,
           41,
           67,
           66,
           89,
           60,
           64,
           75,
           71,
           89,
           88,
           110,
           101,
           111,
           111,
           107,
           111,
           84,
           93,
           72,
           114,
           131
          ],
          [
           69,
           76,
           60,
           75,
           68,
           0,
           60,
           78,
           76,
           71,
           73,
           62,
           79,
           66,
           62,
           75,
           79,
           97,
           84,
           106,
           111,
           105,
           103,
           111,
           111,
           94,
           101,
           92,
           98,
           131
          ],
          [
           57,
           72,
           56,
           71,
           60,
           60,
           0,
           64,
           68,
           55,
           55,
           60,
           103,
           60,
           62,
           61,
           65,
           97,
           90,
           118,
           121,
           107,
           119,
           117,
           117,
           104,
           107,
           62,
           122,
           133
          ],
          [
           47,
           68,
           70,
           65,
           70,
           78,
           64,
           0,
           74,
           77,
           75,
           78,
           89,
           66,
           70,
           77,
           61,
           87,
           90,
           110,
           97,
           105,
           113,
           105,
           107,
           102,
           113,
           90,
           114,
           119
          ],
          [
           73,
           78,
           76,
           73,
           86,
           76,
           68,
           74,
           0,
           83,
           83,
           88,
           87,
           86,
           88,
           89,
           89,
           81,
           92,
           94,
           91,
           95,
           107,
           89,
           89,
           108,
           103,
           98,
           104,
           109
          ],
          [
           72,
           69,
           61,
           72,
           41,
           71,
           55,
           77,
           83,
           0,
           68,
           63,
           98,
           73,
           65,
           68,
           68,
           90,
           89,
           119,
           112,
           108,
           122,
           112,
           116,
           87,
           102,
           77,
           111,
           132
          ],
          [
           52,
           69,
           61,
           82,
           67,
           73,
           55,
           75,
           83,
           68,
           0,
           61,
           96,
           67,
           69,
           64,
           76,
           104,
           89,
           115,
           114,
           116,
           116,
           110,
           124,
           87,
           106,
           73,
           109,
           124
          ],
          [
           67,
           84,
           58,
           75,
           66,
           62,
           60,
           78,
           88,
           63,
           61,
           0,
           97,
           60,
           70,
           67,
           77,
           95,
           86,
           120,
           109,
           113,
           117,
           125,
           115,
           94,
           103,
           76,
           108,
           135
          ],
          [
           86,
           89,
           91,
           86,
           89,
           79,
           103,
           89,
           87,
           98,
           96,
           97,
           0,
           99,
           95,
           102,
           100,
           92,
           97,
           71,
           86,
           82,
           72,
           86,
           84,
           103,
           108,
           119,
           99,
           88
          ],
          [
           61,
           78,
           60,
           79,
           60,
           66,
           60,
           66,
           86,
           73,
           67,
           60,
           99,
           0,
           54,
           85,
           69,
           97,
           90,
           120,
           103,
           109,
           117,
           117,
           119,
           96,
           107,
           76,
           118,
           133
          ],
          [
           67,
           74,
           64,
           75,
           64,
           62,
           62,
           70,
           88,
           65,
           69,
           70,
           95,
           54,
           0,
           73,
           71,
           103,
           92,
           116,
           113,
           113,
           117,
           127,
           123,
           100,
           105,
           74,
           108,
           135
          ],
          [
           66,
           75,
           75,
           86,
           75,
           75,
           61,
           77,
           89,
           68,
           64,
           67,
           102,
           85,
           73,
           0,
           80,
           108,
           93,
           117,
           112,
           118,
           110,
           114,
           116,
           107,
           98,
           79,
           113,
           126
          ],
          [
           58,
           83,
           63,
           72,
           71,
           79,
           65,
           61,
           89,
           68,
           76,
           77,
           100,
           69,
           71,
           80,
           0,
           98,
           89,
           121,
           110,
           118,
           114,
           122,
           118,
           97,
           110,
           79,
           123,
           124
          ],
          [
           82,
           95,
           93,
           74,
           89,
           97,
           97,
           87,
           81,
           90,
           104,
           95,
           92,
           97,
           103,
           108,
           98,
           0,
           103,
           89,
           94,
           82,
           102,
           96,
           90,
           101,
           102,
           113,
           115,
           96
          ],
          [
           83,
           86,
           76,
           85,
           88,
           84,
           90,
           90,
           92,
           89,
           89,
           86,
           97,
           90,
           92,
           93,
           89,
           103,
           0,
           110,
           105,
           111,
           115,
           109,
           115,
           96,
           105,
           98,
           106,
           127
          ],
          [
           109,
           102,
           114,
           95,
           110,
           106,
           118,
           110,
           94,
           119,
           115,
           120,
           71,
           120,
           116,
           117,
           121,
           89,
           110,
           0,
           87,
           71,
           73,
           81,
           73,
           114,
           111,
           136,
           90,
           71
          ],
          [
           104,
           93,
           113,
           102,
           101,
           111,
           121,
           97,
           91,
           112,
           114,
           109,
           86,
           103,
           113,
           112,
           110,
           94,
           105,
           87,
           0,
           90,
           92,
           100,
           88,
           115,
           102,
           131,
           105,
           96
          ],
          [
           106,
           87,
           109,
           92,
           111,
           105,
           107,
           105,
           95,
           108,
           116,
           113,
           82,
           109,
           113,
           118,
           118,
           82,
           111,
           71,
           90,
           0,
           84,
           84,
           88,
           115,
           108,
           135,
           117,
           86
          ],
          [
           108,
           109,
           113,
           96,
           111,
           103,
           119,
           113,
           107,
           122,
           116,
           117,
           72,
           117,
           117,
           110,
           114,
           102,
           115,
           73,
           92,
           84,
           0,
           98,
           88,
           117,
           118,
           135,
           113,
           76
          ],
          [
           98,
           97,
           115,
           90,
           107,
           111,
           117,
           105,
           89,
           112,
           110,
           125,
           86,
           117,
           127,
           114,
           122,
           96,
           109,
           81,
           100,
           84,
           98,
           0,
           94,
           113,
           110,
           137,
           113,
           88
          ],
          [
           112,
           105,
           115,
           100,
           111,
           111,
           117,
           107,
           89,
           116,
           124,
           115,
           84,
           119,
           123,
           116,
           118,
           90,
           115,
           73,
           88,
           88,
           88,
           94,
           0,
           129,
           112,
           141,
           107,
           90
          ],
          [
           91,
           92,
           88,
           99,
           84,
           94,
           104,
           102,
           108,
           87,
           87,
           94,
           103,
           96,
           100,
           107,
           97,
           101,
           96,
           114,
           115,
           115,
           117,
           113,
           129,
           0,
           115,
           106,
           104,
           123
          ],
          [
           104,
           95,
           99,
           90,
           93,
           101,
           107,
           113,
           103,
           102,
           106,
           103,
           108,
           107,
           105,
           98,
           110,
           102,
           105,
           111,
           102,
           108,
           118,
           110,
           112,
           115,
           0,
           121,
           117,
           120
          ],
          [
           81,
           96,
           76,
           99,
           72,
           92,
           62,
           90,
           98,
           77,
           73,
           76,
           119,
           76,
           74,
           79,
           79,
           113,
           98,
           136,
           131,
           135,
           135,
           137,
           141,
           106,
           121,
           0,
           130,
           151
          ],
          [
           107,
           96,
           112,
           115,
           114,
           98,
           122,
           114,
           104,
           111,
           109,
           108,
           99,
           118,
           108,
           113,
           123,
           115,
           106,
           90,
           105,
           117,
           113,
           113,
           107,
           104,
           117,
           130,
           0,
           99
          ],
          [
           116,
           111,
           133,
           104,
           131,
           131,
           133,
           119,
           109,
           132,
           124,
           135,
           88,
           133,
           135,
           126,
           124,
           96,
           127,
           71,
           96,
           86,
           76,
           88,
           90,
           123,
           120,
           151,
           99,
           0
          ]
         ]
        }
       ],
       "layout": {
        "coloraxis": {
         "colorscale": [
          [
           0,
           "#0d0887"
          ],
          [
           0.1111111111111111,
           "#46039f"
          ],
          [
           0.2222222222222222,
           "#7201a8"
          ],
          [
           0.3333333333333333,
           "#9c179e"
          ],
          [
           0.4444444444444444,
           "#bd3786"
          ],
          [
           0.5555555555555556,
           "#d8576b"
          ],
          [
           0.6666666666666666,
           "#ed7953"
          ],
          [
           0.7777777777777778,
           "#fb9f3a"
          ],
          [
           0.8888888888888888,
           "#fdca26"
          ],
          [
           1,
           "#f0f921"
          ]
         ]
        },
        "font": {
         "size": 10
        },
        "height": 800,
        "template": {
         "data": {
          "bar": [
           {
            "error_x": {
             "color": "#2a3f5f"
            },
            "error_y": {
             "color": "#2a3f5f"
            },
            "marker": {
             "line": {
              "color": "#E5ECF6",
              "width": 0.5
             },
             "pattern": {
              "fillmode": "overlay",
              "size": 10,
              "solidity": 0.2
             }
            },
            "type": "bar"
           }
          ],
          "barpolar": [
           {
            "marker": {
             "line": {
              "color": "#E5ECF6",
              "width": 0.5
             },
             "pattern": {
              "fillmode": "overlay",
              "size": 10,
              "solidity": 0.2
             }
            },
            "type": "barpolar"
           }
          ],
          "carpet": [
           {
            "aaxis": {
             "endlinecolor": "#2a3f5f",
             "gridcolor": "white",
             "linecolor": "white",
             "minorgridcolor": "white",
             "startlinecolor": "#2a3f5f"
            },
            "baxis": {
             "endlinecolor": "#2a3f5f",
             "gridcolor": "white",
             "linecolor": "white",
             "minorgridcolor": "white",
             "startlinecolor": "#2a3f5f"
            },
            "type": "carpet"
           }
          ],
          "choropleth": [
           {
            "colorbar": {
             "outlinewidth": 0,
             "ticks": ""
            },
            "type": "choropleth"
           }
          ],
          "contour": [
           {
            "colorbar": {
             "outlinewidth": 0,
             "ticks": ""
            },
            "colorscale": [
             [
              0,
              "#0d0887"
             ],
             [
              0.1111111111111111,
              "#46039f"
             ],
             [
              0.2222222222222222,
              "#7201a8"
             ],
             [
              0.3333333333333333,
              "#9c179e"
             ],
             [
              0.4444444444444444,
              "#bd3786"
             ],
             [
              0.5555555555555556,
              "#d8576b"
             ],
             [
              0.6666666666666666,
              "#ed7953"
             ],
             [
              0.7777777777777778,
              "#fb9f3a"
             ],
             [
              0.8888888888888888,
              "#fdca26"
             ],
             [
              1,
              "#f0f921"
             ]
            ],
            "type": "contour"
           }
          ],
          "contourcarpet": [
           {
            "colorbar": {
             "outlinewidth": 0,
             "ticks": ""
            },
            "type": "contourcarpet"
           }
          ],
          "heatmap": [
           {
            "colorbar": {
             "outlinewidth": 0,
             "ticks": ""
            },
            "colorscale": [
             [
              0,
              "#0d0887"
             ],
             [
              0.1111111111111111,
              "#46039f"
             ],
             [
              0.2222222222222222,
              "#7201a8"
             ],
             [
              0.3333333333333333,
              "#9c179e"
             ],
             [
              0.4444444444444444,
              "#bd3786"
             ],
             [
              0.5555555555555556,
              "#d8576b"
             ],
             [
              0.6666666666666666,
              "#ed7953"
             ],
             [
              0.7777777777777778,
              "#fb9f3a"
             ],
             [
              0.8888888888888888,
              "#fdca26"
             ],
             [
              1,
              "#f0f921"
             ]
            ],
            "type": "heatmap"
           }
          ],
          "heatmapgl": [
           {
            "colorbar": {
             "outlinewidth": 0,
             "ticks": ""
            },
            "colorscale": [
             [
              0,
              "#0d0887"
             ],
             [
              0.1111111111111111,
              "#46039f"
             ],
             [
              0.2222222222222222,
              "#7201a8"
             ],
             [
              0.3333333333333333,
              "#9c179e"
             ],
             [
              0.4444444444444444,
              "#bd3786"
             ],
             [
              0.5555555555555556,
              "#d8576b"
             ],
             [
              0.6666666666666666,
              "#ed7953"
             ],
             [
              0.7777777777777778,
              "#fb9f3a"
             ],
             [
              0.8888888888888888,
              "#fdca26"
             ],
             [
              1,
              "#f0f921"
             ]
            ],
            "type": "heatmapgl"
           }
          ],
          "histogram": [
           {
            "marker": {
             "pattern": {
              "fillmode": "overlay",
              "size": 10,
              "solidity": 0.2
             }
            },
            "type": "histogram"
           }
          ],
          "histogram2d": [
           {
            "colorbar": {
             "outlinewidth": 0,
             "ticks": ""
            },
            "colorscale": [
             [
              0,
              "#0d0887"
             ],
             [
              0.1111111111111111,
              "#46039f"
             ],
             [
              0.2222222222222222,
              "#7201a8"
             ],
             [
              0.3333333333333333,
              "#9c179e"
             ],
             [
              0.4444444444444444,
              "#bd3786"
             ],
             [
              0.5555555555555556,
              "#d8576b"
             ],
             [
              0.6666666666666666,
              "#ed7953"
             ],
             [
              0.7777777777777778,
              "#fb9f3a"
             ],
             [
              0.8888888888888888,
              "#fdca26"
             ],
             [
              1,
              "#f0f921"
             ]
            ],
            "type": "histogram2d"
           }
          ],
          "histogram2dcontour": [
           {
            "colorbar": {
             "outlinewidth": 0,
             "ticks": ""
            },
            "colorscale": [
             [
              0,
              "#0d0887"
             ],
             [
              0.1111111111111111,
              "#46039f"
             ],
             [
              0.2222222222222222,
              "#7201a8"
             ],
             [
              0.3333333333333333,
              "#9c179e"
             ],
             [
              0.4444444444444444,
              "#bd3786"
             ],
             [
              0.5555555555555556,
              "#d8576b"
             ],
             [
              0.6666666666666666,
              "#ed7953"
             ],
             [
              0.7777777777777778,
              "#fb9f3a"
             ],
             [
              0.8888888888888888,
              "#fdca26"
             ],
             [
              1,
              "#f0f921"
             ]
            ],
            "type": "histogram2dcontour"
           }
          ],
          "mesh3d": [
           {
            "colorbar": {
             "outlinewidth": 0,
             "ticks": ""
            },
            "type": "mesh3d"
           }
          ],
          "parcoords": [
           {
            "line": {
             "colorbar": {
              "outlinewidth": 0,
              "ticks": ""
             }
            },
            "type": "parcoords"
           }
          ],
          "pie": [
           {
            "automargin": true,
            "type": "pie"
           }
          ],
          "scatter": [
           {
            "fillpattern": {
             "fillmode": "overlay",
             "size": 10,
             "solidity": 0.2
            },
            "type": "scatter"
           }
          ],
          "scatter3d": [
           {
            "line": {
             "colorbar": {
              "outlinewidth": 0,
              "ticks": ""
             }
            },
            "marker": {
             "colorbar": {
              "outlinewidth": 0,
              "ticks": ""
             }
            },
            "type": "scatter3d"
           }
          ],
          "scattercarpet": [
           {
            "marker": {
             "colorbar": {
              "outlinewidth": 0,
              "ticks": ""
             }
            },
            "type": "scattercarpet"
           }
          ],
          "scattergeo": [
           {
            "marker": {
             "colorbar": {
              "outlinewidth": 0,
              "ticks": ""
             }
            },
            "type": "scattergeo"
           }
          ],
          "scattergl": [
           {
            "marker": {
             "colorbar": {
              "outlinewidth": 0,
              "ticks": ""
             }
            },
            "type": "scattergl"
           }
          ],
          "scattermapbox": [
           {
            "marker": {
             "colorbar": {
              "outlinewidth": 0,
              "ticks": ""
             }
            },
            "type": "scattermapbox"
           }
          ],
          "scatterpolar": [
           {
            "marker": {
             "colorbar": {
              "outlinewidth": 0,
              "ticks": ""
             }
            },
            "type": "scatterpolar"
           }
          ],
          "scatterpolargl": [
           {
            "marker": {
             "colorbar": {
              "outlinewidth": 0,
              "ticks": ""
             }
            },
            "type": "scatterpolargl"
           }
          ],
          "scatterternary": [
           {
            "marker": {
             "colorbar": {
              "outlinewidth": 0,
              "ticks": ""
             }
            },
            "type": "scatterternary"
           }
          ],
          "surface": [
           {
            "colorbar": {
             "outlinewidth": 0,
             "ticks": ""
            },
            "colorscale": [
             [
              0,
              "#0d0887"
             ],
             [
              0.1111111111111111,
              "#46039f"
             ],
             [
              0.2222222222222222,
              "#7201a8"
             ],
             [
              0.3333333333333333,
              "#9c179e"
             ],
             [
              0.4444444444444444,
              "#bd3786"
             ],
             [
              0.5555555555555556,
              "#d8576b"
             ],
             [
              0.6666666666666666,
              "#ed7953"
             ],
             [
              0.7777777777777778,
              "#fb9f3a"
             ],
             [
              0.8888888888888888,
              "#fdca26"
             ],
             [
              1,
              "#f0f921"
             ]
            ],
            "type": "surface"
           }
          ],
          "table": [
           {
            "cells": {
             "fill": {
              "color": "#EBF0F8"
             },
             "line": {
              "color": "white"
             }
            },
            "header": {
             "fill": {
              "color": "#C8D4E3"
             },
             "line": {
              "color": "white"
             }
            },
            "type": "table"
           }
          ]
         },
         "layout": {
          "annotationdefaults": {
           "arrowcolor": "#2a3f5f",
           "arrowhead": 0,
           "arrowwidth": 1
          },
          "autotypenumbers": "strict",
          "coloraxis": {
           "colorbar": {
            "outlinewidth": 0,
            "ticks": ""
           }
          },
          "colorscale": {
           "diverging": [
            [
             0,
             "#8e0152"
            ],
            [
             0.1,
             "#c51b7d"
            ],
            [
             0.2,
             "#de77ae"
            ],
            [
             0.3,
             "#f1b6da"
            ],
            [
             0.4,
             "#fde0ef"
            ],
            [
             0.5,
             "#f7f7f7"
            ],
            [
             0.6,
             "#e6f5d0"
            ],
            [
             0.7,
             "#b8e186"
            ],
            [
             0.8,
             "#7fbc41"
            ],
            [
             0.9,
             "#4d9221"
            ],
            [
             1,
             "#276419"
            ]
           ],
           "sequential": [
            [
             0,
             "#0d0887"
            ],
            [
             0.1111111111111111,
             "#46039f"
            ],
            [
             0.2222222222222222,
             "#7201a8"
            ],
            [
             0.3333333333333333,
             "#9c179e"
            ],
            [
             0.4444444444444444,
             "#bd3786"
            ],
            [
             0.5555555555555556,
             "#d8576b"
            ],
            [
             0.6666666666666666,
             "#ed7953"
            ],
            [
             0.7777777777777778,
             "#fb9f3a"
            ],
            [
             0.8888888888888888,
             "#fdca26"
            ],
            [
             1,
             "#f0f921"
            ]
           ],
           "sequentialminus": [
            [
             0,
             "#0d0887"
            ],
            [
             0.1111111111111111,
             "#46039f"
            ],
            [
             0.2222222222222222,
             "#7201a8"
            ],
            [
             0.3333333333333333,
             "#9c179e"
            ],
            [
             0.4444444444444444,
             "#bd3786"
            ],
            [
             0.5555555555555556,
             "#d8576b"
            ],
            [
             0.6666666666666666,
             "#ed7953"
            ],
            [
             0.7777777777777778,
             "#fb9f3a"
            ],
            [
             0.8888888888888888,
             "#fdca26"
            ],
            [
             1,
             "#f0f921"
            ]
           ]
          },
          "colorway": [
           "#636efa",
           "#EF553B",
           "#00cc96",
           "#ab63fa",
           "#FFA15A",
           "#19d3f3",
           "#FF6692",
           "#B6E880",
           "#FF97FF",
           "#FECB52"
          ],
          "font": {
           "color": "#2a3f5f"
          },
          "geo": {
           "bgcolor": "white",
           "lakecolor": "white",
           "landcolor": "#E5ECF6",
           "showlakes": true,
           "showland": true,
           "subunitcolor": "white"
          },
          "hoverlabel": {
           "align": "left"
          },
          "hovermode": "closest",
          "mapbox": {
           "style": "light"
          },
          "paper_bgcolor": "white",
          "plot_bgcolor": "#E5ECF6",
          "polar": {
           "angularaxis": {
            "gridcolor": "white",
            "linecolor": "white",
            "ticks": ""
           },
           "bgcolor": "#E5ECF6",
           "radialaxis": {
            "gridcolor": "white",
            "linecolor": "white",
            "ticks": ""
           }
          },
          "scene": {
           "xaxis": {
            "backgroundcolor": "#E5ECF6",
            "gridcolor": "white",
            "gridwidth": 2,
            "linecolor": "white",
            "showbackground": true,
            "ticks": "",
            "zerolinecolor": "white"
           },
           "yaxis": {
            "backgroundcolor": "#E5ECF6",
            "gridcolor": "white",
            "gridwidth": 2,
            "linecolor": "white",
            "showbackground": true,
            "ticks": "",
            "zerolinecolor": "white"
           },
           "zaxis": {
            "backgroundcolor": "#E5ECF6",
            "gridcolor": "white",
            "gridwidth": 2,
            "linecolor": "white",
            "showbackground": true,
            "ticks": "",
            "zerolinecolor": "white"
           }
          },
          "shapedefaults": {
           "line": {
            "color": "#2a3f5f"
           }
          },
          "ternary": {
           "aaxis": {
            "gridcolor": "white",
            "linecolor": "white",
            "ticks": ""
           },
           "baxis": {
            "gridcolor": "white",
            "linecolor": "white",
            "ticks": ""
           },
           "bgcolor": "#E5ECF6",
           "caxis": {
            "gridcolor": "white",
            "linecolor": "white",
            "ticks": ""
           }
          },
          "title": {
           "x": 0.05
          },
          "xaxis": {
           "automargin": true,
           "gridcolor": "white",
           "linecolor": "white",
           "ticks": "",
           "title": {
            "standoff": 15
           },
           "zerolinecolor": "white",
           "zerolinewidth": 2
          },
          "yaxis": {
           "automargin": true,
           "gridcolor": "white",
           "linecolor": "white",
           "ticks": "",
           "title": {
            "standoff": 15
           },
           "zerolinecolor": "white",
           "zerolinewidth": 2
          }
         }
        },
        "title": {
         "text": "No ties",
         "x": 0.5,
         "y": 0.07
        },
        "width": 800,
        "xaxis": {
         "anchor": "y",
         "constrain": "domain",
         "domain": [
          0,
          1
         ],
         "scaleanchor": "y",
         "side": "top",
         "title": {
          "text": "Model B"
         }
        },
        "yaxis": {
         "anchor": "x",
         "autorange": "reversed",
         "constrain": "domain",
         "domain": [
          0,
          1
         ],
         "title": {
          "text": "Model A"
         }
        }
       }
      },
      "text/html": [
       "<div>                            <div id=\"09326220-1277-412e-8e8f-1c7a4ec39d98\" class=\"plotly-graph-div\" style=\"height:800px; width:800px;\"></div>            <script type=\"text/javascript\">                require([\"plotly\"], function(Plotly) {                    window.PLOTLYENV=window.PLOTLYENV || {};                                    if (document.getElementById(\"09326220-1277-412e-8e8f-1c7a4ec39d98\")) {                    Plotly.newPlot(                        \"09326220-1277-412e-8e8f-1c7a4ec39d98\",                        [{\"coloraxis\":\"coloraxis\",\"name\":\"0\",\"texttemplate\":\"%{z}\",\"x\":[\"speechless-starcoder2-15b\",\"speechless-starcoder2-7b\",\"xwincoder-34b\",\"deepseek-coder-6.7b-base\",\"opencodeinterpreter-ds-6.7b\",\"Qwen--Qwen1.5-72B-Chat\",\"meta-llama-3-70b-instruct\",\"starcoder2-15b-oci\",\"codegemma-7b-it\",\"deepseek-coder-6.7b-instruct\",\"HuggingFaceH4--starchat2-15b-v0.1\",\"mixtral-8x22b-instruct-v0.1\",\"octocoder\",\"white-rabbit-neo-33b-v1\",\"opencodeinterpreter-ds-33b\",\"CohereForAI--c4ai-command-r-plus\",\"bigcode--starcoder2-15b-instruct-v0.1\",\"codegemma-7b\",\"databricks--dbrx-instruct\",\"mistral-7b\",\"gemma-1.1-7b-it\",\"codegemma-2b\",\"codegen-6b\",\"starcoder2-3b\",\"gemma-7b\",\"microsoft--Phi-3-mini-4k-instruct\",\"mixtral-8x7b-instruct\",\"gpt-4-1106-preview\",\"open-hermes-2.5-code-290k-13b\",\"codet5p-2b\"],\"y\":[\"speechless-starcoder2-15b\",\"speechless-starcoder2-7b\",\"xwincoder-34b\",\"deepseek-coder-6.7b-base\",\"opencodeinterpreter-ds-6.7b\",\"Qwen--Qwen1.5-72B-Chat\",\"meta-llama-3-70b-instruct\",\"starcoder2-15b-oci\",\"codegemma-7b-it\",\"deepseek-coder-6.7b-instruct\",\"HuggingFaceH4--starchat2-15b-v0.1\",\"mixtral-8x22b-instruct-v0.1\",\"octocoder\",\"white-rabbit-neo-33b-v1\",\"opencodeinterpreter-ds-33b\",\"CohereForAI--c4ai-command-r-plus\",\"bigcode--starcoder2-15b-instruct-v0.1\",\"codegemma-7b\",\"databricks--dbrx-instruct\",\"mistral-7b\",\"gemma-1.1-7b-it\",\"codegemma-2b\",\"codegen-6b\",\"starcoder2-3b\",\"gemma-7b\",\"microsoft--Phi-3-mini-4k-instruct\",\"mixtral-8x7b-instruct\",\"gpt-4-1106-preview\",\"open-hermes-2.5-code-290k-13b\",\"codet5p-2b\"],\"z\":[[0,63,51,68,67,69,57,47,73,72,52,67,86,61,67,66,58,82,83,109,104,106,108,98,112,91,104,81,107,116],[63,0,68,77,72,76,72,68,78,69,69,84,89,78,74,75,83,95,86,102,93,87,109,97,105,92,95,96,96,111],[51,68,0,71,60,60,56,70,76,61,61,58,91,60,64,75,63,93,76,114,113,109,113,115,115,88,99,76,112,133],[68,77,71,0,73,75,71,65,73,72,82,75,86,79,75,86,72,74,85,95,102,92,96,90,100,99,90,99,115,104],[67,72,60,73,0,68,60,70,86,41,67,66,89,60,64,75,71,89,88,110,101,111,111,107,111,84,93,72,114,131],[69,76,60,75,68,0,60,78,76,71,73,62,79,66,62,75,79,97,84,106,111,105,103,111,111,94,101,92,98,131],[57,72,56,71,60,60,0,64,68,55,55,60,103,60,62,61,65,97,90,118,121,107,119,117,117,104,107,62,122,133],[47,68,70,65,70,78,64,0,74,77,75,78,89,66,70,77,61,87,90,110,97,105,113,105,107,102,113,90,114,119],[73,78,76,73,86,76,68,74,0,83,83,88,87,86,88,89,89,81,92,94,91,95,107,89,89,108,103,98,104,109],[72,69,61,72,41,71,55,77,83,0,68,63,98,73,65,68,68,90,89,119,112,108,122,112,116,87,102,77,111,132],[52,69,61,82,67,73,55,75,83,68,0,61,96,67,69,64,76,104,89,115,114,116,116,110,124,87,106,73,109,124],[67,84,58,75,66,62,60,78,88,63,61,0,97,60,70,67,77,95,86,120,109,113,117,125,115,94,103,76,108,135],[86,89,91,86,89,79,103,89,87,98,96,97,0,99,95,102,100,92,97,71,86,82,72,86,84,103,108,119,99,88],[61,78,60,79,60,66,60,66,86,73,67,60,99,0,54,85,69,97,90,120,103,109,117,117,119,96,107,76,118,133],[67,74,64,75,64,62,62,70,88,65,69,70,95,54,0,73,71,103,92,116,113,113,117,127,123,100,105,74,108,135],[66,75,75,86,75,75,61,77,89,68,64,67,102,85,73,0,80,108,93,117,112,118,110,114,116,107,98,79,113,126],[58,83,63,72,71,79,65,61,89,68,76,77,100,69,71,80,0,98,89,121,110,118,114,122,118,97,110,79,123,124],[82,95,93,74,89,97,97,87,81,90,104,95,92,97,103,108,98,0,103,89,94,82,102,96,90,101,102,113,115,96],[83,86,76,85,88,84,90,90,92,89,89,86,97,90,92,93,89,103,0,110,105,111,115,109,115,96,105,98,106,127],[109,102,114,95,110,106,118,110,94,119,115,120,71,120,116,117,121,89,110,0,87,71,73,81,73,114,111,136,90,71],[104,93,113,102,101,111,121,97,91,112,114,109,86,103,113,112,110,94,105,87,0,90,92,100,88,115,102,131,105,96],[106,87,109,92,111,105,107,105,95,108,116,113,82,109,113,118,118,82,111,71,90,0,84,84,88,115,108,135,117,86],[108,109,113,96,111,103,119,113,107,122,116,117,72,117,117,110,114,102,115,73,92,84,0,98,88,117,118,135,113,76],[98,97,115,90,107,111,117,105,89,112,110,125,86,117,127,114,122,96,109,81,100,84,98,0,94,113,110,137,113,88],[112,105,115,100,111,111,117,107,89,116,124,115,84,119,123,116,118,90,115,73,88,88,88,94,0,129,112,141,107,90],[91,92,88,99,84,94,104,102,108,87,87,94,103,96,100,107,97,101,96,114,115,115,117,113,129,0,115,106,104,123],[104,95,99,90,93,101,107,113,103,102,106,103,108,107,105,98,110,102,105,111,102,108,118,110,112,115,0,121,117,120],[81,96,76,99,72,92,62,90,98,77,73,76,119,76,74,79,79,113,98,136,131,135,135,137,141,106,121,0,130,151],[107,96,112,115,114,98,122,114,104,111,109,108,99,118,108,113,123,115,106,90,105,117,113,113,107,104,117,130,0,99],[116,111,133,104,131,131,133,119,109,132,124,135,88,133,135,126,124,96,127,71,96,86,76,88,90,123,120,151,99,0]],\"type\":\"heatmap\",\"xaxis\":\"x\",\"yaxis\":\"y\",\"hovertemplate\":\"Model A: %{y}\\u003cbr\\u003eModel B: %{x}\\u003cbr\\u003eCount: %{z}\\u003cextra\\u003e\\u003c\\u002fextra\\u003e\"}],                        {\"template\":{\"data\":{\"histogram2dcontour\":[{\"type\":\"histogram2dcontour\",\"colorbar\":{\"outlinewidth\":0,\"ticks\":\"\"},\"colorscale\":[[0.0,\"#0d0887\"],[0.1111111111111111,\"#46039f\"],[0.2222222222222222,\"#7201a8\"],[0.3333333333333333,\"#9c179e\"],[0.4444444444444444,\"#bd3786\"],[0.5555555555555556,\"#d8576b\"],[0.6666666666666666,\"#ed7953\"],[0.7777777777777778,\"#fb9f3a\"],[0.8888888888888888,\"#fdca26\"],[1.0,\"#f0f921\"]]}],\"choropleth\":[{\"type\":\"choropleth\",\"colorbar\":{\"outlinewidth\":0,\"ticks\":\"\"}}],\"histogram2d\":[{\"type\":\"histogram2d\",\"colorbar\":{\"outlinewidth\":0,\"ticks\":\"\"},\"colorscale\":[[0.0,\"#0d0887\"],[0.1111111111111111,\"#46039f\"],[0.2222222222222222,\"#7201a8\"],[0.3333333333333333,\"#9c179e\"],[0.4444444444444444,\"#bd3786\"],[0.5555555555555556,\"#d8576b\"],[0.6666666666666666,\"#ed7953\"],[0.7777777777777778,\"#fb9f3a\"],[0.8888888888888888,\"#fdca26\"],[1.0,\"#f0f921\"]]}],\"heatmap\":[{\"type\":\"heatmap\",\"colorbar\":{\"outlinewidth\":0,\"ticks\":\"\"},\"colorscale\":[[0.0,\"#0d0887\"],[0.1111111111111111,\"#46039f\"],[0.2222222222222222,\"#7201a8\"],[0.3333333333333333,\"#9c179e\"],[0.4444444444444444,\"#bd3786\"],[0.5555555555555556,\"#d8576b\"],[0.6666666666666666,\"#ed7953\"],[0.7777777777777778,\"#fb9f3a\"],[0.8888888888888888,\"#fdca26\"],[1.0,\"#f0f921\"]]}],\"heatmapgl\":[{\"type\":\"heatmapgl\",\"colorbar\":{\"outlinewidth\":0,\"ticks\":\"\"},\"colorscale\":[[0.0,\"#0d0887\"],[0.1111111111111111,\"#46039f\"],[0.2222222222222222,\"#7201a8\"],[0.3333333333333333,\"#9c179e\"],[0.4444444444444444,\"#bd3786\"],[0.5555555555555556,\"#d8576b\"],[0.6666666666666666,\"#ed7953\"],[0.7777777777777778,\"#fb9f3a\"],[0.8888888888888888,\"#fdca26\"],[1.0,\"#f0f921\"]]}],\"contourcarpet\":[{\"type\":\"contourcarpet\",\"colorbar\":{\"outlinewidth\":0,\"ticks\":\"\"}}],\"contour\":[{\"type\":\"contour\",\"colorbar\":{\"outlinewidth\":0,\"ticks\":\"\"},\"colorscale\":[[0.0,\"#0d0887\"],[0.1111111111111111,\"#46039f\"],[0.2222222222222222,\"#7201a8\"],[0.3333333333333333,\"#9c179e\"],[0.4444444444444444,\"#bd3786\"],[0.5555555555555556,\"#d8576b\"],[0.6666666666666666,\"#ed7953\"],[0.7777777777777778,\"#fb9f3a\"],[0.8888888888888888,\"#fdca26\"],[1.0,\"#f0f921\"]]}],\"surface\":[{\"type\":\"surface\",\"colorbar\":{\"outlinewidth\":0,\"ticks\":\"\"},\"colorscale\":[[0.0,\"#0d0887\"],[0.1111111111111111,\"#46039f\"],[0.2222222222222222,\"#7201a8\"],[0.3333333333333333,\"#9c179e\"],[0.4444444444444444,\"#bd3786\"],[0.5555555555555556,\"#d8576b\"],[0.6666666666666666,\"#ed7953\"],[0.7777777777777778,\"#fb9f3a\"],[0.8888888888888888,\"#fdca26\"],[1.0,\"#f0f921\"]]}],\"mesh3d\":[{\"type\":\"mesh3d\",\"colorbar\":{\"outlinewidth\":0,\"ticks\":\"\"}}],\"scatter\":[{\"fillpattern\":{\"fillmode\":\"overlay\",\"size\":10,\"solidity\":0.2},\"type\":\"scatter\"}],\"parcoords\":[{\"type\":\"parcoords\",\"line\":{\"colorbar\":{\"outlinewidth\":0,\"ticks\":\"\"}}}],\"scatterpolargl\":[{\"type\":\"scatterpolargl\",\"marker\":{\"colorbar\":{\"outlinewidth\":0,\"ticks\":\"\"}}}],\"bar\":[{\"error_x\":{\"color\":\"#2a3f5f\"},\"error_y\":{\"color\":\"#2a3f5f\"},\"marker\":{\"line\":{\"color\":\"#E5ECF6\",\"width\":0.5},\"pattern\":{\"fillmode\":\"overlay\",\"size\":10,\"solidity\":0.2}},\"type\":\"bar\"}],\"scattergeo\":[{\"type\":\"scattergeo\",\"marker\":{\"colorbar\":{\"outlinewidth\":0,\"ticks\":\"\"}}}],\"scatterpolar\":[{\"type\":\"scatterpolar\",\"marker\":{\"colorbar\":{\"outlinewidth\":0,\"ticks\":\"\"}}}],\"histogram\":[{\"marker\":{\"pattern\":{\"fillmode\":\"overlay\",\"size\":10,\"solidity\":0.2}},\"type\":\"histogram\"}],\"scattergl\":[{\"type\":\"scattergl\",\"marker\":{\"colorbar\":{\"outlinewidth\":0,\"ticks\":\"\"}}}],\"scatter3d\":[{\"type\":\"scatter3d\",\"line\":{\"colorbar\":{\"outlinewidth\":0,\"ticks\":\"\"}},\"marker\":{\"colorbar\":{\"outlinewidth\":0,\"ticks\":\"\"}}}],\"scattermapbox\":[{\"type\":\"scattermapbox\",\"marker\":{\"colorbar\":{\"outlinewidth\":0,\"ticks\":\"\"}}}],\"scatterternary\":[{\"type\":\"scatterternary\",\"marker\":{\"colorbar\":{\"outlinewidth\":0,\"ticks\":\"\"}}}],\"scattercarpet\":[{\"type\":\"scattercarpet\",\"marker\":{\"colorbar\":{\"outlinewidth\":0,\"ticks\":\"\"}}}],\"carpet\":[{\"aaxis\":{\"endlinecolor\":\"#2a3f5f\",\"gridcolor\":\"white\",\"linecolor\":\"white\",\"minorgridcolor\":\"white\",\"startlinecolor\":\"#2a3f5f\"},\"baxis\":{\"endlinecolor\":\"#2a3f5f\",\"gridcolor\":\"white\",\"linecolor\":\"white\",\"minorgridcolor\":\"white\",\"startlinecolor\":\"#2a3f5f\"},\"type\":\"carpet\"}],\"table\":[{\"cells\":{\"fill\":{\"color\":\"#EBF0F8\"},\"line\":{\"color\":\"white\"}},\"header\":{\"fill\":{\"color\":\"#C8D4E3\"},\"line\":{\"color\":\"white\"}},\"type\":\"table\"}],\"barpolar\":[{\"marker\":{\"line\":{\"color\":\"#E5ECF6\",\"width\":0.5},\"pattern\":{\"fillmode\":\"overlay\",\"size\":10,\"solidity\":0.2}},\"type\":\"barpolar\"}],\"pie\":[{\"automargin\":true,\"type\":\"pie\"}]},\"layout\":{\"autotypenumbers\":\"strict\",\"colorway\":[\"#636efa\",\"#EF553B\",\"#00cc96\",\"#ab63fa\",\"#FFA15A\",\"#19d3f3\",\"#FF6692\",\"#B6E880\",\"#FF97FF\",\"#FECB52\"],\"font\":{\"color\":\"#2a3f5f\"},\"hovermode\":\"closest\",\"hoverlabel\":{\"align\":\"left\"},\"paper_bgcolor\":\"white\",\"plot_bgcolor\":\"#E5ECF6\",\"polar\":{\"bgcolor\":\"#E5ECF6\",\"angularaxis\":{\"gridcolor\":\"white\",\"linecolor\":\"white\",\"ticks\":\"\"},\"radialaxis\":{\"gridcolor\":\"white\",\"linecolor\":\"white\",\"ticks\":\"\"}},\"ternary\":{\"bgcolor\":\"#E5ECF6\",\"aaxis\":{\"gridcolor\":\"white\",\"linecolor\":\"white\",\"ticks\":\"\"},\"baxis\":{\"gridcolor\":\"white\",\"linecolor\":\"white\",\"ticks\":\"\"},\"caxis\":{\"gridcolor\":\"white\",\"linecolor\":\"white\",\"ticks\":\"\"}},\"coloraxis\":{\"colorbar\":{\"outlinewidth\":0,\"ticks\":\"\"}},\"colorscale\":{\"sequential\":[[0.0,\"#0d0887\"],[0.1111111111111111,\"#46039f\"],[0.2222222222222222,\"#7201a8\"],[0.3333333333333333,\"#9c179e\"],[0.4444444444444444,\"#bd3786\"],[0.5555555555555556,\"#d8576b\"],[0.6666666666666666,\"#ed7953\"],[0.7777777777777778,\"#fb9f3a\"],[0.8888888888888888,\"#fdca26\"],[1.0,\"#f0f921\"]],\"sequentialminus\":[[0.0,\"#0d0887\"],[0.1111111111111111,\"#46039f\"],[0.2222222222222222,\"#7201a8\"],[0.3333333333333333,\"#9c179e\"],[0.4444444444444444,\"#bd3786\"],[0.5555555555555556,\"#d8576b\"],[0.6666666666666666,\"#ed7953\"],[0.7777777777777778,\"#fb9f3a\"],[0.8888888888888888,\"#fdca26\"],[1.0,\"#f0f921\"]],\"diverging\":[[0,\"#8e0152\"],[0.1,\"#c51b7d\"],[0.2,\"#de77ae\"],[0.3,\"#f1b6da\"],[0.4,\"#fde0ef\"],[0.5,\"#f7f7f7\"],[0.6,\"#e6f5d0\"],[0.7,\"#b8e186\"],[0.8,\"#7fbc41\"],[0.9,\"#4d9221\"],[1,\"#276419\"]]},\"xaxis\":{\"gridcolor\":\"white\",\"linecolor\":\"white\",\"ticks\":\"\",\"title\":{\"standoff\":15},\"zerolinecolor\":\"white\",\"automargin\":true,\"zerolinewidth\":2},\"yaxis\":{\"gridcolor\":\"white\",\"linecolor\":\"white\",\"ticks\":\"\",\"title\":{\"standoff\":15},\"zerolinecolor\":\"white\",\"automargin\":true,\"zerolinewidth\":2},\"scene\":{\"xaxis\":{\"backgroundcolor\":\"#E5ECF6\",\"gridcolor\":\"white\",\"linecolor\":\"white\",\"showbackground\":true,\"ticks\":\"\",\"zerolinecolor\":\"white\",\"gridwidth\":2},\"yaxis\":{\"backgroundcolor\":\"#E5ECF6\",\"gridcolor\":\"white\",\"linecolor\":\"white\",\"showbackground\":true,\"ticks\":\"\",\"zerolinecolor\":\"white\",\"gridwidth\":2},\"zaxis\":{\"backgroundcolor\":\"#E5ECF6\",\"gridcolor\":\"white\",\"linecolor\":\"white\",\"showbackground\":true,\"ticks\":\"\",\"zerolinecolor\":\"white\",\"gridwidth\":2}},\"shapedefaults\":{\"line\":{\"color\":\"#2a3f5f\"}},\"annotationdefaults\":{\"arrowcolor\":\"#2a3f5f\",\"arrowhead\":0,\"arrowwidth\":1},\"geo\":{\"bgcolor\":\"white\",\"landcolor\":\"#E5ECF6\",\"subunitcolor\":\"white\",\"showland\":true,\"showlakes\":true,\"lakecolor\":\"white\"},\"title\":{\"x\":0.05},\"mapbox\":{\"style\":\"light\"}}},\"xaxis\":{\"anchor\":\"y\",\"domain\":[0.0,1.0],\"scaleanchor\":\"y\",\"constrain\":\"domain\",\"title\":{\"text\":\"Model B\"},\"side\":\"top\"},\"yaxis\":{\"anchor\":\"x\",\"domain\":[0.0,1.0],\"autorange\":\"reversed\",\"constrain\":\"domain\",\"title\":{\"text\":\"Model A\"}},\"coloraxis\":{\"colorscale\":[[0.0,\"#0d0887\"],[0.1111111111111111,\"#46039f\"],[0.2222222222222222,\"#7201a8\"],[0.3333333333333333,\"#9c179e\"],[0.4444444444444444,\"#bd3786\"],[0.5555555555555556,\"#d8576b\"],[0.6666666666666666,\"#ed7953\"],[0.7777777777777778,\"#fb9f3a\"],[0.8888888888888888,\"#fdca26\"],[1.0,\"#f0f921\"]]},\"title\":{\"text\":\"No ties\",\"y\":0.07,\"x\":0.5},\"font\":{\"size\":10},\"height\":800,\"width\":800},                        {\"responsive\": true}                    ).then(function(){\n",
       "                            \n",
       "var gd = document.getElementById('09326220-1277-412e-8e8f-1c7a4ec39d98');\n",
       "var x = new MutationObserver(function (mutations, observer) {{\n",
       "        var display = window.getComputedStyle(gd).display;\n",
       "        if (!display || display === 'none') {{\n",
       "            console.log([gd, 'removed!']);\n",
       "            Plotly.purge(gd);\n",
       "            observer.disconnect();\n",
       "        }}\n",
       "}});\n",
       "\n",
       "// Listen for the removal of the full notebook cells\n",
       "var notebookContainer = gd.closest('#notebook-container');\n",
       "if (notebookContainer) {{\n",
       "    x.observe(notebookContainer, {childList: true});\n",
       "}}\n",
       "\n",
       "// Listen for the clearing of the current output cell\n",
       "var outputEl = gd.closest('.output');\n",
       "if (outputEl) {{\n",
       "    x.observe(outputEl, {childList: true});\n",
       "}}\n",
       "\n",
       "                        })                };                });            </script>        </div>"
      ]
     },
     "metadata": {},
     "output_type": "display_data"
    }
   ],
   "source": [
    "def visualize_battle_count(battles, title, show_num_models=30):\n",
    "    ptbl = pd.pivot_table(battles, index=\"model_a\", columns=\"model_b\", aggfunc=\"size\",\n",
    "                          fill_value=0)\n",
    "    battle_counts = ptbl\n",
    "    ordering = battle_counts.sum().sort_values(ascending=True).index\n",
    "    ordering = ordering[:show_num_models]\n",
    "    fig = px.imshow(battle_counts.loc[ordering, ordering],\n",
    "                    title=title, text_auto=True)\n",
    "    fig.update_layout(xaxis_title=\"Model B\",\n",
    "                      yaxis_title=\"Model A\",\n",
    "                      xaxis_side=\"top\", height=800, width=800,\n",
    "                      title_y=0.07, title_x=0.5,\n",
    "                      font=dict(size=10))\n",
    "    fig.update_traces(hovertemplate=\n",
    "                      \"Model A: %{y}<br>Model B: %{x}<br>Count: %{z}<extra></extra>\")\n",
    "    return fig\n",
    "\n",
    "battles_no_ties = battles[battles[\"winner\"].str.contains(\"model_\")]\n",
    "fig = visualize_battle_count(battles_no_ties, \"No ties\")\n",
    "fig"
   ]
  },
  {
   "cell_type": "code",
   "execution_count": 50,
   "metadata": {},
   "outputs": [
    {
     "data": {
      "application/vnd.plotly.v1+json": {
       "config": {
        "plotlyServerURL": "https://plot.ly"
       },
       "data": [
        {
         "coloraxis": "coloraxis",
         "customdata": [
          [
           [
            0,
            0,
            0.2671957671957672,
            0.7328042328042328
           ],
           [
            0.12169312169312169,
            0.07407407407407407,
            0.1931216931216931,
            0.6111111111111112
           ],
           [
            0.10317460317460317,
            0.06084656084656084,
            0.20634920634920634,
            0.6296296296296297
           ],
           [
            0.13227513227513227,
            0.06878306878306878,
            0.1984126984126984,
            0.6005291005291006
           ],
           [
            0.1455026455026455,
            0.06349206349206349,
            0.2037037037037037,
            0.5873015873015873
           ],
           [
            0.12962962962962962,
            0.06084656084656084,
            0.20634920634920634,
            0.6031746031746031
           ],
           [
            0.1402116402116402,
            0.06349206349206349,
            0.2037037037037037,
            0.5925925925925926
           ],
           [
            0.1402116402116402,
            0.05291005291005291,
            0.21428571428571427,
            0.5925925925925926
           ],
           [
            0.1455026455026455,
            0.05555555555555555,
            0.21164021164021163,
            0.5873015873015873
           ],
           [
            0.15343915343915343,
            0.05555555555555555,
            0.21164021164021163,
            0.5793650793650794
           ],
           [
            0.14285714285714285,
            0.0582010582010582,
            0.20899470899470898,
            0.58994708994709
           ],
           [
            0.1693121693121693,
            0.06878306878306878,
            0.1984126984126984,
            0.5634920634920635
           ],
           [
            0.17989417989417988,
            0.06349206349206349,
            0.2037037037037037,
            0.5529100529100529
           ],
           [
            0.16137566137566137,
            0.05291005291005291,
            0.21428571428571427,
            0.5714285714285714
           ],
           [
            0.2037037037037037,
            0.0582010582010582,
            0.20899470899470898,
            0.5291005291005291
           ],
           [
            0.21693121693121692,
            0.042328042328042326,
            0.22486772486772486,
            0.5158730158730159
           ],
           [
            0.23544973544973544,
            0.04497354497354497,
            0.2222222222222222,
            0.4973544973544973
           ],
           [
            0.21164021164021163,
            0.047619047619047616,
            0.21957671957671956,
            0.5211640211640212
           ],
           [
            0.21164021164021163,
            0.042328042328042326,
            0.22486772486772486,
            0.5211640211640212
           ],
           [
            0.2777777777777778,
            0.042328042328042326,
            0.22486772486772486,
            0.455026455026455
           ],
           [
            0.25396825396825395,
            0.04497354497354497,
            0.2222222222222222,
            0.47883597883597884
           ],
           [
            0.30952380952380953,
            0.03439153439153439,
            0.2328042328042328,
            0.42328042328042326
           ],
           [
            0.2751322751322751,
            0.03968253968253968,
            0.2275132275132275,
            0.4576719576719577
           ],
           [
            0.31216931216931215,
            0.04497354497354497,
            0.2222222222222222,
            0.42063492063492064
           ],
           [
            0.3148148148148148,
            0.031746031746031744,
            0.23544973544973544,
            0.41798941798941797
           ],
           [
            0.328042328042328,
            0.03439153439153439,
            0.2328042328042328,
            0.40476190476190477
           ],
           [
            0.335978835978836,
            0.037037037037037035,
            0.23015873015873015,
            0.3968253968253968
           ],
           [
            0.3306878306878307,
            0.026455026455026454,
            0.24074074074074073,
            0.4021164021164021
           ],
           [
            0.38095238095238093,
            0.018518518518518517,
            0.24867724867724866,
            0.35185185185185186
           ],
           [
            0.335978835978836,
            0.023809523809523808,
            0.24338624338624337,
            0.3968253968253968
           ],
           [
            0.37566137566137564,
            0.023809523809523808,
            0.24338624338624337,
            0.35714285714285715
           ],
           [
            0.42328042328042326,
            0.018518518518518517,
            0.24867724867724866,
            0.30952380952380953
           ],
           [
            0.3915343915343915,
            0.018518518518518517,
            0.24867724867724866,
            0.3412698412698413
           ],
           [
            0.41798941798941797,
            0.026455026455026454,
            0.24074074074074073,
            0.3148148148148148
           ]
          ],
          [
           [
            0.07407407407407407,
            0.12169312169312169,
            0.1931216931216931,
            0.6111111111111112
           ],
           [
            0,
            0,
            0.3148148148148148,
            0.6851851851851852
           ],
           [
            0.07936507936507936,
            0.08465608465608465,
            0.23015873015873015,
            0.6058201058201058
           ],
           [
            0.07936507936507936,
            0.06349206349206349,
            0.25132275132275134,
            0.6058201058201058
           ],
           [
            0.1111111111111111,
            0.07671957671957672,
            0.23809523809523808,
            0.5740740740740741
           ],
           [
            0.09523809523809523,
            0.07407407407407407,
            0.24074074074074073,
            0.58994708994709
           ],
           [
            0.10052910052910052,
            0.07142857142857142,
            0.24338624338624337,
            0.5846560846560847
           ],
           [
            0.1111111111111111,
            0.07142857142857142,
            0.24338624338624337,
            0.5740740740740741
           ],
           [
            0.11375661375661375,
            0.07142857142857142,
            0.24338624338624337,
            0.5714285714285714
           ],
           [
            0.12169312169312169,
            0.07142857142857142,
            0.24338624338624337,
            0.5634920634920635
           ],
           [
            0.10317460317460317,
            0.06613756613756613,
            0.24867724867724866,
            0.582010582010582
           ],
           [
            0.11904761904761904,
            0.06613756613756613,
            0.24867724867724866,
            0.5661375661375662
           ],
           [
            0.1164021164021164,
            0.047619047619047616,
            0.2671957671957672,
            0.5687830687830688
           ],
           [
            0.11904761904761904,
            0.0582010582010582,
            0.2566137566137566,
            0.5661375661375662
           ],
           [
            0.14814814814814814,
            0.05026455026455026,
            0.26455026455026454,
            0.5370370370370371
           ],
           [
            0.18518518518518517,
            0.0582010582010582,
            0.2566137566137566,
            0.5
           ],
           [
            0.2037037037037037,
            0.06084656084656084,
            0.25396825396825395,
            0.48148148148148145
           ],
           [
            0.1746031746031746,
            0.0582010582010582,
            0.2566137566137566,
            0.5105820105820106
           ],
           [
            0.15873015873015872,
            0.037037037037037035,
            0.2777777777777778,
            0.5264550264550265
           ],
           [
            0.2328042328042328,
            0.04497354497354497,
            0.2698412698412698,
            0.4523809523809524
           ],
           [
            0.21693121693121692,
            0.05555555555555555,
            0.25925925925925924,
            0.46825396825396826
           ],
           [
            0.2566137566137566,
            0.0291005291005291,
            0.2857142857142857,
            0.42857142857142855
           ],
           [
            0.21957671957671956,
            0.031746031746031744,
            0.2830687830687831,
            0.4656084656084656
           ],
           [
            0.25925925925925924,
            0.03968253968253968,
            0.2751322751322751,
            0.42592592592592593
           ],
           [
            0.2671957671957672,
            0.031746031746031744,
            0.2830687830687831,
            0.41798941798941797
           ],
           [
            0.291005291005291,
            0.04497354497354497,
            0.2698412698412698,
            0.3941798941798942
           ],
           [
            0.28835978835978837,
            0.037037037037037035,
            0.2777777777777778,
            0.3968253968253968
           ],
           [
            0.2830687830687831,
            0.026455026455026454,
            0.28835978835978837,
            0.4021164021164021
           ],
           [
            0.3386243386243386,
            0.023809523809523808,
            0.291005291005291,
            0.34656084656084657
           ],
           [
            0.2857142857142857,
            0.021164021164021163,
            0.29365079365079366,
            0.3994708994708995
           ],
           [
            0.3306878306878307,
            0.026455026455026454,
            0.28835978835978837,
            0.3544973544973545
           ],
           [
            0.3783068783068783,
            0.021164021164021163,
            0.29365079365079366,
            0.30687830687830686
           ],
           [
            0.35185185185185186,
            0.026455026455026454,
            0.28835978835978837,
            0.3333333333333333
           ],
           [
            0.36243386243386244,
            0.018518518518518517,
            0.2962962962962963,
            0.32275132275132273
           ]
          ],
          [
           [
            0.06084656084656084,
            0.10317460317460317,
            0.20634920634920634,
            0.6296296296296297
           ],
           [
            0.08465608465608465,
            0.07936507936507936,
            0.23015873015873015,
            0.6058201058201058
           ],
           [
            0,
            0,
            0.30952380952380953,
            0.6904761904761905
           ],
           [
            0.08994708994708994,
            0.06878306878306878,
            0.24074074074074073,
            0.6005291005291006
           ],
           [
            0.10582010582010581,
            0.06613756613756613,
            0.24338624338624337,
            0.5846560846560847
           ],
           [
            0.09259259259259259,
            0.06613756613756613,
            0.24338624338624337,
            0.5978835978835979
           ],
           [
            0.08994708994708994,
            0.05555555555555555,
            0.25396825396825395,
            0.6005291005291006
           ],
           [
            0.09523809523809523,
            0.05026455026455026,
            0.25925925925925924,
            0.5952380952380952
           ],
           [
            0.10317460317460317,
            0.05555555555555555,
            0.25396825396825395,
            0.5873015873015873
           ],
           [
            0.10846560846560846,
            0.05291005291005291,
            0.2566137566137566,
            0.582010582010582
           ],
           [
            0.09523809523809523,
            0.05291005291005291,
            0.2566137566137566,
            0.5952380952380952
           ],
           [
            0.11375661375661375,
            0.05555555555555555,
            0.25396825396825395,
            0.5767195767195767
           ],
           [
            0.1164021164021164,
            0.042328042328042326,
            0.2671957671957672,
            0.5740740740740741
           ],
           [
            0.10846560846560846,
            0.042328042328042326,
            0.2671957671957672,
            0.582010582010582
           ],
           [
            0.1455026455026455,
            0.042328042328042326,
            0.2671957671957672,
            0.544973544973545
           ],
           [
            0.18518518518518517,
            0.05291005291005291,
            0.2566137566137566,
            0.5052910052910053
           ],
           [
            0.21164021164021163,
            0.06349206349206349,
            0.24603174603174602,
            0.47883597883597884
           ],
           [
            0.15079365079365079,
            0.0291005291005291,
            0.2804232804232804,
            0.5396825396825397
           ],
           [
            0.15873015873015872,
            0.031746031746031744,
            0.2777777777777778,
            0.5317460317460317
           ],
           [
            0.23809523809523808,
            0.04497354497354497,
            0.26455026455026454,
            0.4523809523809524
           ],
           [
            0.21164021164021163,
            0.04497354497354497,
            0.26455026455026454,
            0.47883597883597884
           ],
           [
            0.2777777777777778,
            0.04497354497354497,
            0.26455026455026454,
            0.4126984126984127
           ],
           [
            0.2328042328042328,
            0.03968253968253968,
            0.2698412698412698,
            0.4576719576719577
           ],
           [
            0.25396825396825395,
            0.0291005291005291,
            0.2804232804232804,
            0.4365079365079365
           ],
           [
            0.2804232804232804,
            0.03968253968253968,
            0.2698412698412698,
            0.41005291005291006
           ],
           [
            0.2804232804232804,
            0.0291005291005291,
            0.2804232804232804,
            0.41005291005291006
           ],
           [
            0.2830687830687831,
            0.026455026455026454,
            0.2830687830687831,
            0.4074074074074074
           ],
           [
            0.28835978835978837,
            0.026455026455026454,
            0.2830687830687831,
            0.4021164021164021
           ],
           [
            0.3412698412698413,
            0.021164021164021163,
            0.28835978835978837,
            0.3492063492063492
           ],
           [
            0.291005291005291,
            0.021164021164021163,
            0.28835978835978837,
            0.3994708994708995
           ],
           [
            0.3306878306878307,
            0.021164021164021163,
            0.28835978835978837,
            0.35978835978835977
           ],
           [
            0.37566137566137564,
            0.013227513227513227,
            0.2962962962962963,
            0.3148148148148148
           ],
           [
            0.3492063492063492,
            0.018518518518518517,
            0.291005291005291,
            0.3412698412698413
           ],
           [
            0.37037037037037035,
            0.021164021164021163,
            0.28835978835978837,
            0.3201058201058201
           ]
          ],
          [
           [
            0.06878306878306878,
            0.13227513227513227,
            0.1984126984126984,
            0.6005291005291006
           ],
           [
            0.06349206349206349,
            0.07936507936507936,
            0.25132275132275134,
            0.6058201058201058
           ],
           [
            0.06878306878306878,
            0.08994708994708994,
            0.24074074074074073,
            0.6005291005291006
           ],
           [
            0,
            0,
            0.3306878306878307,
            0.6693121693121693
           ],
           [
            0.10052910052910052,
            0.082010582010582,
            0.24867724867724866,
            0.5687830687830688
           ],
           [
            0.082010582010582,
            0.07671957671957672,
            0.25396825396825395,
            0.5873015873015873
           ],
           [
            0.10317460317460317,
            0.08994708994708994,
            0.24074074074074073,
            0.5661375661375662
           ],
           [
            0.10052910052910052,
            0.07671957671957672,
            0.25396825396825395,
            0.5687830687830688
           ],
           [
            0.09259259259259259,
            0.06613756613756613,
            0.26455026455026454,
            0.5767195767195767
           ],
           [
            0.12962962962962962,
            0.09523809523809523,
            0.23544973544973544,
            0.5396825396825397
           ],
           [
            0.08994708994708994,
            0.06878306878306878,
            0.2619047619047619,
            0.5793650793650794
           ],
           [
            0.10582010582010581,
            0.06878306878306878,
            0.2619047619047619,
            0.5634920634920635
           ],
           [
            0.11375661375661375,
            0.06084656084656084,
            0.2698412698412698,
            0.5555555555555556
           ],
           [
            0.10317460317460317,
            0.0582010582010582,
            0.2724867724867725,
            0.5661375661375662
           ],
           [
            0.1455026455026455,
            0.06349206349206349,
            0.2671957671957672,
            0.5238095238095238
           ],
           [
            0.1746031746031746,
            0.06349206349206349,
            0.2671957671957672,
            0.4947089947089947
           ],
           [
            0.19047619047619047,
            0.06349206349206349,
            0.2671957671957672,
            0.47883597883597884
           ],
           [
            0.164021164021164,
            0.06349206349206349,
            0.2671957671957672,
            0.5052910052910053
           ],
           [
            0.15608465608465608,
            0.05026455026455026,
            0.2804232804232804,
            0.5132275132275133
           ],
           [
            0.2275132275132275,
            0.05555555555555555,
            0.2751322751322751,
            0.4417989417989418
           ],
           [
            0.20105820105820105,
            0.05555555555555555,
            0.2751322751322751,
            0.46825396825396826
           ],
           [
            0.2619047619047619,
            0.05026455026455026,
            0.2804232804232804,
            0.4074074074074074
           ],
           [
            0.21693121693121692,
            0.04497354497354497,
            0.2857142857142857,
            0.4523809523809524
           ],
           [
            0.24603174603174602,
            0.042328042328042326,
            0.28835978835978837,
            0.42328042328042326
           ],
           [
            0.24603174603174602,
            0.026455026455026454,
            0.30423280423280424,
            0.42328042328042326
           ],
           [
            0.2698412698412698,
            0.03968253968253968,
            0.291005291005291,
            0.3994708994708995
           ],
           [
            0.2751322751322751,
            0.03968253968253968,
            0.291005291005291,
            0.3941798941798942
           ],
           [
            0.2751322751322751,
            0.03439153439153439,
            0.2962962962962963,
            0.3941798941798942
           ],
           [
            0.3306878306878307,
            0.031746031746031744,
            0.29894179894179895,
            0.3386243386243386
           ],
           [
            0.2830687830687831,
            0.03439153439153439,
            0.2962962962962963,
            0.3862433862433862
           ],
           [
            0.3201058201058201,
            0.031746031746031744,
            0.29894179894179895,
            0.3492063492063492
           ],
           [
            0.35714285714285715,
            0.015873015873015872,
            0.3148148148148148,
            0.31216931216931215
           ],
           [
            0.3386243386243386,
            0.0291005291005291,
            0.30158730158730157,
            0.3306878306878307
           ],
           [
            0.35978835978835977,
            0.031746031746031744,
            0.29894179894179895,
            0.30952380952380953
           ]
          ],
          [
           [
            0.06349206349206349,
            0.1455026455026455,
            0.2037037037037037,
            0.5873015873015873
           ],
           [
            0.07671957671957672,
            0.1111111111111111,
            0.23809523809523808,
            0.5740740740740741
           ],
           [
            0.06613756613756613,
            0.10582010582010581,
            0.24338624338624337,
            0.5846560846560847
           ],
           [
            0.082010582010582,
            0.10052910052910052,
            0.24867724867724866,
            0.5687830687830688
           ],
           [
            0,
            0,
            0.3492063492063492,
            0.6507936507936508
           ],
           [
            0.0873015873015873,
            0.10052910052910052,
            0.24867724867724866,
            0.5634920634920635
           ],
           [
            0.0873015873015873,
            0.09259259259259259,
            0.2566137566137566,
            0.5634920634920635
           ],
           [
            0.10317460317460317,
            0.09788359788359788,
            0.25132275132275134,
            0.5476190476190477
           ],
           [
            0.10582010582010581,
            0.09788359788359788,
            0.25132275132275134,
            0.544973544973545
           ],
           [
            0.11375661375661375,
            0.09788359788359788,
            0.25132275132275134,
            0.5370370370370371
           ],
           [
            0.08465608465608465,
            0.082010582010582,
            0.2671957671957672,
            0.5661375661375662
           ],
           [
            0.08994708994708994,
            0.07142857142857142,
            0.2777777777777778,
            0.5608465608465608
           ],
           [
            0.12169312169312169,
            0.0873015873015873,
            0.2619047619047619,
            0.5291005291005291
           ],
           [
            0.08994708994708994,
            0.06349206349206349,
            0.2857142857142857,
            0.5608465608465608
           ],
           [
            0.12698412698412698,
            0.06349206349206349,
            0.2857142857142857,
            0.5238095238095238
           ],
           [
            0.164021164021164,
            0.07142857142857142,
            0.2777777777777778,
            0.48677248677248675
           ],
           [
            0.18253968253968253,
            0.07407407407407407,
            0.2751322751322751,
            0.46825396825396826
           ],
           [
            0.15873015873015872,
            0.07671957671957672,
            0.2724867724867725,
            0.49206349206349204
           ],
           [
            0.15343915343915343,
            0.06613756613756613,
            0.2830687830687831,
            0.4973544973544973
           ],
           [
            0.2222222222222222,
            0.06878306878306878,
            0.2804232804232804,
            0.42857142857142855
           ],
           [
            0.1931216931216931,
            0.06613756613756613,
            0.2830687830687831,
            0.4576719576719577
           ],
           [
            0.25925925925925924,
            0.06613756613756613,
            0.2830687830687831,
            0.3915343915343915
           ],
           [
            0.20899470899470898,
            0.05555555555555555,
            0.29365079365079366,
            0.4417989417989418
           ],
           [
            0.24867724867724866,
            0.06349206349206349,
            0.2857142857142857,
            0.4021164021164021
           ],
           [
            0.24603174603174602,
            0.04497354497354497,
            0.30423280423280424,
            0.40476190476190477
           ],
           [
            0.2671957671957672,
            0.05555555555555555,
            0.29365079365079366,
            0.3835978835978836
           ],
           [
            0.26455026455026454,
            0.047619047619047616,
            0.30158730158730157,
            0.3862433862433862
           ],
           [
            0.2619047619047619,
            0.03968253968253968,
            0.30952380952380953,
            0.3888888888888889
           ],
           [
            0.328042328042328,
            0.047619047619047616,
            0.30158730158730157,
            0.32275132275132273
           ],
           [
            0.2751322751322751,
            0.04497354497354497,
            0.30423280423280424,
            0.37566137566137564
           ],
           [
            0.29894179894179895,
            0.0291005291005291,
            0.3201058201058201,
            0.35185185185185186
           ],
           [
            0.36243386243386244,
            0.03968253968253968,
            0.30952380952380953,
            0.28835978835978837
           ],
           [
            0.31746031746031744,
            0.026455026455026454,
            0.32275132275132273,
            0.3333333333333333
           ],
           [
            0.3492063492063492,
            0.03968253968253968,
            0.30952380952380953,
            0.30158730158730157
           ]
          ],
          [
           [
            0.06084656084656084,
            0.12962962962962962,
            0.20634920634920634,
            0.6031746031746031
           ],
           [
            0.07407407407407407,
            0.09523809523809523,
            0.24074074074074073,
            0.58994708994709
           ],
           [
            0.06613756613756613,
            0.09259259259259259,
            0.24338624338624337,
            0.5978835978835979
           ],
           [
            0.07671957671957672,
            0.082010582010582,
            0.25396825396825395,
            0.5873015873015873
           ],
           [
            0.10052910052910052,
            0.0873015873015873,
            0.24867724867724866,
            0.5634920634920635
           ],
           [
            0,
            0,
            0.335978835978836,
            0.6640211640211641
           ],
           [
            0.0582010582010582,
            0.05026455026455026,
            0.2857142857142857,
            0.6058201058201058
           ],
           [
            0.09788359788359788,
            0.07936507936507936,
            0.2566137566137566,
            0.5661375661375662
           ],
           [
            0.09788359788359788,
            0.07671957671957672,
            0.25925925925925924,
            0.5661375661375662
           ],
           [
            0.11375661375661375,
            0.08465608465608465,
            0.25132275132275134,
            0.5502645502645502
           ],
           [
            0.0873015873015873,
            0.07142857142857142,
            0.26455026455026454,
            0.5767195767195767
           ],
           [
            0.10846560846560846,
            0.07671957671957672,
            0.25925925925925924,
            0.5555555555555556
           ],
           [
            0.11375661375661375,
            0.06613756613756613,
            0.2698412698412698,
            0.5502645502645502
           ],
           [
            0.10846560846560846,
            0.06878306878306878,
            0.2671957671957672,
            0.5555555555555556
           ],
           [
            0.1349206349206349,
            0.0582010582010582,
            0.2777777777777778,
            0.5291005291005291
           ],
           [
            0.1693121693121693,
            0.06349206349206349,
            0.2724867724867725,
            0.4947089947089947
           ],
           [
            0.17195767195767195,
            0.05026455026455026,
            0.2857142857142857,
            0.49206349206349204
           ],
           [
            0.16137566137566137,
            0.06613756613756613,
            0.2698412698412698,
            0.5026455026455027
           ],
           [
            0.1455026455026455,
            0.04497354497354497,
            0.291005291005291,
            0.5185185185185185
           ],
           [
            0.20634920634920634,
            0.03968253968253968,
            0.2962962962962963,
            0.4576719576719577
           ],
           [
            0.18783068783068782,
            0.047619047619047616,
            0.28835978835978837,
            0.47619047619047616
           ],
           [
            0.25396825396825395,
            0.047619047619047616,
            0.28835978835978837,
            0.41005291005291006
           ],
           [
            0.20105820105820105,
            0.03439153439153439,
            0.30158730158730157,
            0.46296296296296297
           ],
           [
            0.24603174603174602,
            0.047619047619047616,
            0.28835978835978837,
            0.41798941798941797
           ],
           [
            0.24074074074074073,
            0.026455026455026454,
            0.30952380952380953,
            0.42328042328042326
           ],
           [
            0.25396825396825395,
            0.0291005291005291,
            0.30687830687830686,
            0.41005291005291006
           ],
           [
            0.2619047619047619,
            0.031746031746031744,
            0.30423280423280424,
            0.4021164021164021
           ],
           [
            0.26455026455026454,
            0.0291005291005291,
            0.30687830687830686,
            0.3994708994708995
           ],
           [
            0.3148148148148148,
            0.021164021164021163,
            0.3148148148148148,
            0.3492063492063492
           ],
           [
            0.2671957671957672,
            0.023809523809523808,
            0.31216931216931215,
            0.3968253968253968
           ],
           [
            0.3148148148148148,
            0.031746031746031744,
            0.30423280423280424,
            0.3492063492063492
           ],
           [
            0.35978835978835977,
            0.023809523809523808,
            0.31216931216931215,
            0.30423280423280424
           ],
           [
            0.3253968253968254,
            0.021164021164021163,
            0.3148148148148148,
            0.3386243386243386
           ],
           [
            0.3492063492063492,
            0.026455026455026454,
            0.30952380952380953,
            0.3148148148148148
           ]
          ],
          [
           [
            0.06349206349206349,
            0.1402116402116402,
            0.2037037037037037,
            0.5925925925925926
           ],
           [
            0.07142857142857142,
            0.10052910052910052,
            0.24338624338624337,
            0.5846560846560847
           ],
           [
            0.05555555555555555,
            0.08994708994708994,
            0.25396825396825395,
            0.6005291005291006
           ],
           [
            0.08994708994708994,
            0.10317460317460317,
            0.24074074074074073,
            0.5661375661375662
           ],
           [
            0.09259259259259259,
            0.0873015873015873,
            0.2566137566137566,
            0.5634920634920635
           ],
           [
            0.05026455026455026,
            0.0582010582010582,
            0.2857142857142857,
            0.6058201058201058
           ],
           [
            0,
            0,
            0.3439153439153439,
            0.656084656084656
           ],
           [
            0.09523809523809523,
            0.08465608465608465,
            0.25925925925925924,
            0.5608465608465608
           ],
           [
            0.08994708994708994,
            0.07671957671957672,
            0.2671957671957672,
            0.5661375661375662
           ],
           [
            0.10052910052910052,
            0.07936507936507936,
            0.26455026455026454,
            0.5555555555555556
           ],
           [
            0.08465608465608465,
            0.07671957671957672,
            0.2671957671957672,
            0.5714285714285714
           ],
           [
            0.11375661375661375,
            0.08994708994708994,
            0.25396825396825395,
            0.5423280423280423
           ],
           [
            0.11375661375661375,
            0.07407407407407407,
            0.2698412698412698,
            0.5423280423280423
           ],
           [
            0.1111111111111111,
            0.07936507936507936,
            0.26455026455026454,
            0.544973544973545
           ],
           [
            0.12962962962962962,
            0.06084656084656084,
            0.2830687830687831,
            0.5264550264550265
           ],
           [
            0.16666666666666666,
            0.06878306878306878,
            0.2751322751322751,
            0.4894179894179894
           ],
           [
            0.17195767195767195,
            0.0582010582010582,
            0.2857142857142857,
            0.48412698412698413
           ],
           [
            0.15343915343915343,
            0.06613756613756613,
            0.2777777777777778,
            0.5026455026455027
           ],
           [
            0.13756613756613756,
            0.04497354497354497,
            0.29894179894179895,
            0.5185185185185185
           ],
           [
            0.21428571428571427,
            0.05555555555555555,
            0.28835978835978837,
            0.4417989417989418
           ],
           [
            0.18518518518518517,
            0.05291005291005291,
            0.291005291005291,
            0.4708994708994709
           ],
           [
            0.24603174603174602,
            0.047619047619047616,
            0.2962962962962963,
            0.41005291005291006
           ],
           [
            0.20899470899470898,
            0.05026455026455026,
            0.29365079365079366,
            0.4470899470899471
           ],
           [
            0.23809523809523808,
            0.047619047619047616,
            0.2962962962962963,
            0.41798941798941797
           ],
           [
            0.25132275132275134,
            0.04497354497354497,
            0.29894179894179895,
            0.40476190476190477
           ],
           [
            0.2566137566137566,
            0.03968253968253968,
            0.30423280423280424,
            0.3994708994708995
           ],
           [
            0.26455026455026454,
            0.042328042328042326,
            0.30158730158730157,
            0.3915343915343915
           ],
           [
            0.2751322751322751,
            0.047619047619047616,
            0.2962962962962963,
            0.38095238095238093
           ],
           [
            0.3148148148148148,
            0.0291005291005291,
            0.3148148148148148,
            0.3412698412698413
           ],
           [
            0.2751322751322751,
            0.03968253968253968,
            0.30423280423280424,
            0.38095238095238093
           ],
           [
            0.31216931216931215,
            0.037037037037037035,
            0.30687830687830686,
            0.3439153439153439
           ],
           [
            0.35185185185185186,
            0.023809523809523808,
            0.3201058201058201,
            0.30423280423280424
           ],
           [
            0.328042328042328,
            0.031746031746031744,
            0.31216931216931215,
            0.328042328042328
           ],
           [
            0.3492063492063492,
            0.03439153439153439,
            0.30952380952380953,
            0.30687830687830686
           ]
          ],
          [
           [
            0.05291005291005291,
            0.1402116402116402,
            0.21428571428571427,
            0.5925925925925926
           ],
           [
            0.07142857142857142,
            0.1111111111111111,
            0.24338624338624337,
            0.5740740740740741
           ],
           [
            0.05026455026455026,
            0.09523809523809523,
            0.25925925925925924,
            0.5952380952380952
           ],
           [
            0.07671957671957672,
            0.10052910052910052,
            0.25396825396825395,
            0.5687830687830688
           ],
           [
            0.09788359788359788,
            0.10317460317460317,
            0.25132275132275134,
            0.5476190476190477
           ],
           [
            0.07936507936507936,
            0.09788359788359788,
            0.2566137566137566,
            0.5661375661375662
           ],
           [
            0.08465608465608465,
            0.09523809523809523,
            0.25925925925925924,
            0.5608465608465608
           ],
           [
            0,
            0,
            0.3544973544973545,
            0.6455026455026455
           ],
           [
            0.082010582010582,
            0.07936507936507936,
            0.2751322751322751,
            0.5634920634920635
           ],
           [
            0.08994708994708994,
            0.07936507936507936,
            0.2751322751322751,
            0.5555555555555556
           ],
           [
            0.07936507936507936,
            0.082010582010582,
            0.2724867724867725,
            0.5661375661375662
           ],
           [
            0.10582010582010581,
            0.09259259259259259,
            0.2619047619047619,
            0.5396825396825397
           ],
           [
            0.1111111111111111,
            0.082010582010582,
            0.2724867724867725,
            0.5343915343915344
           ],
           [
            0.07936507936507936,
            0.0582010582010582,
            0.2962962962962963,
            0.5661375661375662
           ],
           [
            0.13756613756613756,
            0.07936507936507936,
            0.2751322751322751,
            0.5079365079365079
           ],
           [
            0.16137566137566137,
            0.07407407407407407,
            0.2804232804232804,
            0.48412698412698413
           ],
           [
            0.16666666666666666,
            0.06349206349206349,
            0.291005291005291,
            0.47883597883597884
           ],
           [
            0.14814814814814814,
            0.07142857142857142,
            0.2830687830687831,
            0.4973544973544973
           ],
           [
            0.13227513227513227,
            0.05026455026455026,
            0.30423280423280424,
            0.5132275132275133
           ],
           [
            0.21428571428571427,
            0.06613756613756613,
            0.28835978835978837,
            0.4312169312169312
           ],
           [
            0.1984126984126984,
            0.07671957671957672,
            0.2777777777777778,
            0.4470899470899471
           ],
           [
            0.23809523809523808,
            0.05026455026455026,
            0.30423280423280424,
            0.4074074074074074
           ],
           [
            0.20105820105820105,
            0.05291005291005291,
            0.30158730158730157,
            0.4444444444444444
           ],
           [
            0.24338624338624337,
            0.06349206349206349,
            0.291005291005291,
            0.4021164021164021
           ],
           [
            0.24867724867724866,
            0.05291005291005291,
            0.30158730158730157,
            0.3968253968253968
           ],
           [
            0.24867724867724866,
            0.042328042328042326,
            0.31216931216931215,
            0.3968253968253968
           ],
           [
            0.2698412698412698,
            0.0582010582010582,
            0.2962962962962963,
            0.37566137566137564
           ],
           [
            0.2619047619047619,
            0.04497354497354497,
            0.30952380952380953,
            0.3835978835978836
           ],
           [
            0.30158730158730157,
            0.026455026455026454,
            0.328042328042328,
            0.3439153439153439
           ],
           [
            0.26455026455026454,
            0.03968253968253968,
            0.3148148148148148,
            0.38095238095238093
           ],
           [
            0.2962962962962963,
            0.031746031746031744,
            0.32275132275132273,
            0.3492063492063492
           ],
           [
            0.3544973544973545,
            0.037037037037037035,
            0.31746031746031744,
            0.291005291005291
           ],
           [
            0.3201058201058201,
            0.03439153439153439,
            0.3201058201058201,
            0.3253968253968254
           ],
           [
            0.335978835978836,
            0.031746031746031744,
            0.32275132275132273,
            0.30952380952380953
           ]
          ],
          [
           [
            0.05555555555555555,
            0.1455026455026455,
            0.21164021164021163,
            0.5873015873015873
           ],
           [
            0.07142857142857142,
            0.11375661375661375,
            0.24338624338624337,
            0.5714285714285714
           ],
           [
            0.05555555555555555,
            0.10317460317460317,
            0.25396825396825395,
            0.5873015873015873
           ],
           [
            0.06613756613756613,
            0.09259259259259259,
            0.26455026455026454,
            0.5767195767195767
           ],
           [
            0.09788359788359788,
            0.10582010582010581,
            0.25132275132275134,
            0.544973544973545
           ],
           [
            0.07671957671957672,
            0.09788359788359788,
            0.25925925925925924,
            0.5661375661375662
           ],
           [
            0.07671957671957672,
            0.08994708994708994,
            0.2671957671957672,
            0.5661375661375662
           ],
           [
            0.07936507936507936,
            0.082010582010582,
            0.2751322751322751,
            0.5634920634920635
           ],
           [
            0,
            0,
            0.35714285714285715,
            0.6428571428571429
           ],
           [
            0.09259259259259259,
            0.08465608465608465,
            0.2724867724867725,
            0.5502645502645502
           ],
           [
            0.07407407407407407,
            0.07936507936507936,
            0.2777777777777778,
            0.5687830687830688
           ],
           [
            0.10846560846560846,
            0.09788359788359788,
            0.25925925925925924,
            0.5343915343915344
           ],
           [
            0.09523809523809523,
            0.06878306878306878,
            0.28835978835978837,
            0.5476190476190477
           ],
           [
            0.09788359788359788,
            0.07936507936507936,
            0.2777777777777778,
            0.544973544973545
           ],
           [
            0.12698412698412698,
            0.07142857142857142,
            0.2857142857142857,
            0.5158730158730159
           ],
           [
            0.15608465608465608,
            0.07142857142857142,
            0.2857142857142857,
            0.48677248677248675
           ],
           [
            0.1746031746031746,
            0.07407407407407407,
            0.2830687830687831,
            0.46825396825396826
           ],
           [
            0.15343915343915343,
            0.07936507936507936,
            0.2777777777777778,
            0.4894179894179894
           ],
           [
            0.15079365079365079,
            0.07142857142857142,
            0.2857142857142857,
            0.49206349206349204
           ],
           [
            0.20899470899470898,
            0.06349206349206349,
            0.29365079365079366,
            0.43386243386243384
           ],
           [
            0.18518518518518517,
            0.06613756613756613,
            0.291005291005291,
            0.4576719576719577
           ],
           [
            0.23544973544973544,
            0.05026455026455026,
            0.30687830687830686,
            0.4074074074074074
           ],
           [
            0.20105820105820105,
            0.05555555555555555,
            0.30158730158730157,
            0.4417989417989418
           ],
           [
            0.23809523809523808,
            0.06084656084656084,
            0.2962962962962963,
            0.40476190476190477
           ],
           [
            0.24074074074074073,
            0.047619047619047616,
            0.30952380952380953,
            0.4021164021164021
           ],
           [
            0.2671957671957672,
            0.06349206349206349,
            0.29365079365079366,
            0.37566137566137564
           ],
           [
            0.2566137566137566,
            0.047619047619047616,
            0.30952380952380953,
            0.3862433862433862
           ],
           [
            0.2619047619047619,
            0.047619047619047616,
            0.30952380952380953,
            0.38095238095238093
           ],
           [
            0.30158730158730157,
            0.0291005291005291,
            0.328042328042328,
            0.3412698412698413
           ],
           [
            0.2698412698412698,
            0.047619047619047616,
            0.30952380952380953,
            0.373015873015873
           ],
           [
            0.30952380952380953,
            0.047619047619047616,
            0.30952380952380953,
            0.3333333333333333
           ],
           [
            0.3439153439153439,
            0.0291005291005291,
            0.328042328042328,
            0.29894179894179895
           ],
           [
            0.3253968253968254,
            0.042328042328042326,
            0.3148148148148148,
            0.31746031746031744
           ],
           [
            0.3333333333333333,
            0.031746031746031744,
            0.3253968253968254,
            0.30952380952380953
           ]
          ],
          [
           [
            0.05555555555555555,
            0.15343915343915343,
            0.21164021164021163,
            0.5793650793650794
           ],
           [
            0.07142857142857142,
            0.12169312169312169,
            0.24338624338624337,
            0.5634920634920635
           ],
           [
            0.05291005291005291,
            0.10846560846560846,
            0.2566137566137566,
            0.582010582010582
           ],
           [
            0.09523809523809523,
            0.12962962962962962,
            0.23544973544973544,
            0.5396825396825397
           ],
           [
            0.09788359788359788,
            0.11375661375661375,
            0.25132275132275134,
            0.5370370370370371
           ],
           [
            0.08465608465608465,
            0.11375661375661375,
            0.25132275132275134,
            0.5502645502645502
           ],
           [
            0.07936507936507936,
            0.10052910052910052,
            0.26455026455026454,
            0.5555555555555556
           ],
           [
            0.07936507936507936,
            0.08994708994708994,
            0.2751322751322751,
            0.5555555555555556
           ],
           [
            0.08465608465608465,
            0.09259259259259259,
            0.2724867724867725,
            0.5502645502645502
           ],
           [
            0,
            0,
            0.36507936507936506,
            0.6349206349206349
           ],
           [
            0.09259259259259259,
            0.10582010582010581,
            0.25925925925925924,
            0.5423280423280423
           ],
           [
            0.10317460317460317,
            0.10052910052910052,
            0.26455026455026454,
            0.5317460317460317
           ],
           [
            0.10846560846560846,
            0.08994708994708994,
            0.2751322751322751,
            0.5264550264550265
           ],
           [
            0.09259259259259259,
            0.082010582010582,
            0.2830687830687831,
            0.5423280423280423
           ],
           [
            0.13756613756613756,
            0.08994708994708994,
            0.2751322751322751,
            0.4973544973544973
           ],
           [
            0.16137566137566137,
            0.08465608465608465,
            0.2804232804232804,
            0.47354497354497355
           ],
           [
            0.18783068783068782,
            0.09523809523809523,
            0.2698412698412698,
            0.4470899470899471
           ],
           [
            0.15079365079365079,
            0.08465608465608465,
            0.2804232804232804,
            0.48412698412698413
           ],
           [
            0.1349206349206349,
            0.06349206349206349,
            0.30158730158730157,
            0.5
           ],
           [
            0.1984126984126984,
            0.06084656084656084,
            0.30423280423280424,
            0.4365079365079365
           ],
           [
            0.1984126984126984,
            0.0873015873015873,
            0.2777777777777778,
            0.4365079365079365
           ],
           [
            0.23809523809523808,
            0.06084656084656084,
            0.30423280423280424,
            0.3968253968253968
           ],
           [
            0.2037037037037037,
            0.06613756613756613,
            0.29894179894179895,
            0.4312169312169312
           ],
           [
            0.24074074074074073,
            0.07142857142857142,
            0.29365079365079366,
            0.3941798941798942
           ],
           [
            0.24074074074074073,
            0.05555555555555555,
            0.30952380952380953,
            0.3941798941798942
           ],
           [
            0.24867724867724866,
            0.05291005291005291,
            0.31216931216931215,
            0.3862433862433862
           ],
           [
            0.25396825396825395,
            0.05291005291005291,
            0.31216931216931215,
            0.38095238095238093
           ],
           [
            0.24867724867724866,
            0.042328042328042326,
            0.32275132275132273,
            0.3862433862433862
           ],
           [
            0.2962962962962963,
            0.031746031746031744,
            0.3333333333333333,
            0.3386243386243386
           ],
           [
            0.2619047619047619,
            0.047619047619047616,
            0.31746031746031744,
            0.373015873015873
           ],
           [
            0.29365079365079366,
            0.03968253968253968,
            0.3253968253968254,
            0.3412698412698413
           ],
           [
            0.3439153439153439,
            0.037037037037037035,
            0.328042328042328,
            0.291005291005291
           ],
           [
            0.30158730158730157,
            0.026455026455026454,
            0.3386243386243386,
            0.3333333333333333
           ],
           [
            0.328042328042328,
            0.03439153439153439,
            0.3306878306878307,
            0.30687830687830686
           ]
          ],
          [
           [
            0.0582010582010582,
            0.14285714285714285,
            0.20899470899470898,
            0.58994708994709
           ],
           [
            0.06613756613756613,
            0.10317460317460317,
            0.24867724867724866,
            0.582010582010582
           ],
           [
            0.05291005291005291,
            0.09523809523809523,
            0.2566137566137566,
            0.5952380952380952
           ],
           [
            0.06878306878306878,
            0.08994708994708994,
            0.2619047619047619,
            0.5793650793650794
           ],
           [
            0.082010582010582,
            0.08465608465608465,
            0.2671957671957672,
            0.5661375661375662
           ],
           [
            0.07142857142857142,
            0.0873015873015873,
            0.26455026455026454,
            0.5767195767195767
           ],
           [
            0.07671957671957672,
            0.08465608465608465,
            0.2671957671957672,
            0.5714285714285714
           ],
           [
            0.082010582010582,
            0.07936507936507936,
            0.2724867724867725,
            0.5661375661375662
           ],
           [
            0.07936507936507936,
            0.07407407407407407,
            0.2777777777777778,
            0.5687830687830688
           ],
           [
            0.10582010582010581,
            0.09259259259259259,
            0.25925925925925924,
            0.5423280423280423
           ],
           [
            0,
            0,
            0.35185185185185186,
            0.6481481481481481
           ],
           [
            0.10052910052910052,
            0.08465608465608465,
            0.2671957671957672,
            0.5476190476190477
           ],
           [
            0.09523809523809523,
            0.06349206349206349,
            0.28835978835978837,
            0.5529100529100529
           ],
           [
            0.07936507936507936,
            0.05555555555555555,
            0.2962962962962963,
            0.5687830687830688
           ],
           [
            0.12433862433862433,
            0.06349206349206349,
            0.28835978835978837,
            0.5238095238095238
           ],
           [
            0.1455026455026455,
            0.05555555555555555,
            0.2962962962962963,
            0.5026455026455027
           ],
           [
            0.1693121693121693,
            0.06349206349206349,
            0.28835978835978837,
            0.47883597883597884
           ],
           [
            0.1402116402116402,
            0.06084656084656084,
            0.291005291005291,
            0.5079365079365079
           ],
           [
            0.13227513227513227,
            0.047619047619047616,
            0.30423280423280424,
            0.5158730158730159
           ],
           [
            0.20634920634920634,
            0.05555555555555555,
            0.2962962962962963,
            0.4417989417989418
           ],
           [
            0.18518518518518517,
            0.06084656084656084,
            0.291005291005291,
            0.46296296296296297
           ],
           [
            0.24338624338624337,
            0.05291005291005291,
            0.29894179894179895,
            0.40476190476190477
           ],
           [
            0.19576719576719576,
            0.04497354497354497,
            0.30687830687830686,
            0.4523809523809524
           ],
           [
            0.23544973544973544,
            0.05291005291005291,
            0.29894179894179895,
            0.4126984126984127
           ],
           [
            0.24867724867724866,
            0.05026455026455026,
            0.30158730158730157,
            0.3994708994708995
           ],
           [
            0.2566137566137566,
            0.047619047619047616,
            0.30423280423280424,
            0.3915343915343915
           ],
           [
            0.25925925925925924,
            0.04497354497354497,
            0.30687830687830686,
            0.3888888888888889
           ],
           [
            0.25925925925925924,
            0.03968253968253968,
            0.31216931216931215,
            0.3888888888888889
           ],
           [
            0.29894179894179895,
            0.021164021164021163,
            0.3306878306878307,
            0.3492063492063492
           ],
           [
            0.26455026455026454,
            0.037037037037037035,
            0.3148148148148148,
            0.3835978835978836
           ],
           [
            0.30952380952380953,
            0.042328042328042326,
            0.30952380952380953,
            0.3386243386243386
           ],
           [
            0.34656084656084657,
            0.026455026455026454,
            0.3253968253968254,
            0.30158730158730157
           ],
           [
            0.32275132275132273,
            0.03439153439153439,
            0.31746031746031744,
            0.3253968253968254
           ],
           [
            0.3412698412698413,
            0.03439153439153439,
            0.31746031746031744,
            0.30687830687830686
           ]
          ],
          [
           [
            0.06878306878306878,
            0.1693121693121693,
            0.1984126984126984,
            0.5634920634920635
           ],
           [
            0.06613756613756613,
            0.11904761904761904,
            0.24867724867724866,
            0.5661375661375662
           ],
           [
            0.05555555555555555,
            0.11375661375661375,
            0.25396825396825395,
            0.5767195767195767
           ],
           [
            0.06878306878306878,
            0.10582010582010581,
            0.2619047619047619,
            0.5634920634920635
           ],
           [
            0.07142857142857142,
            0.08994708994708994,
            0.2777777777777778,
            0.5608465608465608
           ],
           [
            0.07671957671957672,
            0.10846560846560846,
            0.25925925925925924,
            0.5555555555555556
           ],
           [
            0.08994708994708994,
            0.11375661375661375,
            0.25396825396825395,
            0.5423280423280423
           ],
           [
            0.09259259259259259,
            0.10582010582010581,
            0.2619047619047619,
            0.5396825396825397
           ],
           [
            0.09788359788359788,
            0.10846560846560846,
            0.25925925925925924,
            0.5343915343915344
           ],
           [
            0.10052910052910052,
            0.10317460317460317,
            0.26455026455026454,
            0.5317460317460317
           ],
           [
            0.08465608465608465,
            0.10052910052910052,
            0.2671957671957672,
            0.5476190476190477
           ],
           [
            0,
            0,
            0.36772486772486773,
            0.6322751322751323
           ],
           [
            0.1111111111111111,
            0.09523809523809523,
            0.2724867724867725,
            0.5211640211640212
           ],
           [
            0.06613756613756613,
            0.0582010582010582,
            0.30952380952380953,
            0.5661375661375662
           ],
           [
            0.10846560846560846,
            0.06349206349206349,
            0.30423280423280424,
            0.5238095238095238
           ],
           [
            0.15608465608465608,
            0.082010582010582,
            0.2857142857142857,
            0.47619047619047616
           ],
           [
            0.17989417989417988,
            0.08994708994708994,
            0.2777777777777778,
            0.4523809523809524
           ],
           [
            0.12962962962962962,
            0.06613756613756613,
            0.30158730158730157,
            0.5026455026455027
           ],
           [
            0.12433862433862433,
            0.05555555555555555,
            0.31216931216931215,
            0.5079365079365079
           ],
           [
            0.21693121693121692,
            0.082010582010582,
            0.2857142857142857,
            0.41534391534391535
           ],
           [
            0.1693121693121693,
            0.06084656084656084,
            0.30687830687830686,
            0.46296296296296297
           ],
           [
            0.23809523809523808,
            0.06349206349206349,
            0.30423280423280424,
            0.3941798941798942
           ],
           [
            0.18518518518518517,
            0.05026455026455026,
            0.31746031746031744,
            0.4470899470899471
           ],
           [
            0.2222222222222222,
            0.05555555555555555,
            0.31216931216931215,
            0.41005291005291006
           ],
           [
            0.21957671957671956,
            0.037037037037037035,
            0.3306878306878307,
            0.4126984126984127
           ],
           [
            0.23544973544973544,
            0.042328042328042326,
            0.3253968253968254,
            0.3968253968253968
           ],
           [
            0.24074074074074073,
            0.042328042328042326,
            0.3253968253968254,
            0.3915343915343915
           ],
           [
            0.25132275132275134,
            0.047619047619047616,
            0.3201058201058201,
            0.38095238095238093
           ],
           [
            0.3201058201058201,
            0.0582010582010582,
            0.30952380952380953,
            0.31216931216931215
           ],
           [
            0.25132275132275134,
            0.03968253968253968,
            0.328042328042328,
            0.38095238095238093
           ],
           [
            0.2830687830687831,
            0.031746031746031744,
            0.335978835978836,
            0.3492063492063492
           ],
           [
            0.335978835978836,
            0.031746031746031744,
            0.335978835978836,
            0.2962962962962963
           ],
           [
            0.29894179894179895,
            0.026455026455026454,
            0.3412698412698413,
            0.3333333333333333
           ],
           [
            0.32275132275132273,
            0.031746031746031744,
            0.335978835978836,
            0.30952380952380953
           ]
          ],
          [
           [
            0.06349206349206349,
            0.17989417989417988,
            0.2037037037037037,
            0.5529100529100529
           ],
           [
            0.047619047619047616,
            0.1164021164021164,
            0.2671957671957672,
            0.5687830687830688
           ],
           [
            0.042328042328042326,
            0.1164021164021164,
            0.2671957671957672,
            0.5740740740740741
           ],
           [
            0.06084656084656084,
            0.11375661375661375,
            0.2698412698412698,
            0.5555555555555556
           ],
           [
            0.0873015873015873,
            0.12169312169312169,
            0.2619047619047619,
            0.5291005291005291
           ],
           [
            0.06613756613756613,
            0.11375661375661375,
            0.2698412698412698,
            0.5502645502645502
           ],
           [
            0.07407407407407407,
            0.11375661375661375,
            0.2698412698412698,
            0.5423280423280423
           ],
           [
            0.082010582010582,
            0.1111111111111111,
            0.2724867724867725,
            0.5343915343915344
           ],
           [
            0.06878306878306878,
            0.09523809523809523,
            0.28835978835978837,
            0.5476190476190477
           ],
           [
            0.08994708994708994,
            0.10846560846560846,
            0.2751322751322751,
            0.5264550264550265
           ],
           [
            0.06349206349206349,
            0.09523809523809523,
            0.28835978835978837,
            0.5529100529100529
           ],
           [
            0.09523809523809523,
            0.1111111111111111,
            0.2724867724867725,
            0.5211640211640212
           ],
           [
            0,
            0,
            0.3835978835978836,
            0.6164021164021164
           ],
           [
            0.0873015873015873,
            0.09523809523809523,
            0.28835978835978837,
            0.5291005291005291
           ],
           [
            0.11375661375661375,
            0.08465608465608465,
            0.29894179894179895,
            0.5026455026455027
           ],
           [
            0.1402116402116402,
            0.082010582010582,
            0.30158730158730157,
            0.47619047619047616
           ],
           [
            0.16137566137566137,
            0.0873015873015873,
            0.2962962962962963,
            0.455026455026455
           ],
           [
            0.12433862433862433,
            0.07671957671957672,
            0.30687830687830686,
            0.49206349206349204
           ],
           [
            0.12698412698412698,
            0.07407407407407407,
            0.30952380952380953,
            0.4894179894179894
           ],
           [
            0.1931216931216931,
            0.07407407407407407,
            0.30952380952380953,
            0.42328042328042326
           ],
           [
            0.1746031746031746,
            0.082010582010582,
            0.30158730158730157,
            0.4417989417989418
           ],
           [
            0.20899470899470898,
            0.05026455026455026,
            0.3333333333333333,
            0.4074074074074074
           ],
           [
            0.164021164021164,
            0.04497354497354497,
            0.3386243386243386,
            0.4523809523809524
           ],
           [
            0.21428571428571427,
            0.06349206349206349,
            0.3201058201058201,
            0.4021164021164021
           ],
           [
            0.23015873015873015,
            0.06349206349206349,
            0.3201058201058201,
            0.3862433862433862
           ],
           [
            0.23544973544973544,
            0.0582010582010582,
            0.3253968253968254,
            0.38095238095238093
           ],
           [
            0.23809523809523808,
            0.05555555555555555,
            0.328042328042328,
            0.3783068783068783
           ],
           [
            0.23015873015873015,
            0.042328042328042326,
            0.3412698412698413,
            0.3862433862433862
           ],
           [
            0.2698412698412698,
            0.023809523809523808,
            0.35978835978835977,
            0.34656084656084657
           ],
           [
            0.23809523809523808,
            0.042328042328042326,
            0.3412698412698413,
            0.3783068783068783
           ],
           [
            0.291005291005291,
            0.05555555555555555,
            0.328042328042328,
            0.3253968253968254
           ],
           [
            0.3253968253968254,
            0.037037037037037035,
            0.34656084656084657,
            0.291005291005291
           ],
           [
            0.29894179894179895,
            0.042328042328042326,
            0.3412698412698413,
            0.31746031746031744
           ],
           [
            0.30158730158730157,
            0.026455026455026454,
            0.35714285714285715,
            0.3148148148148148
           ]
          ],
          [
           [
            0.05291005291005291,
            0.16137566137566137,
            0.21428571428571427,
            0.5714285714285714
           ],
           [
            0.0582010582010582,
            0.11904761904761904,
            0.2566137566137566,
            0.5661375661375662
           ],
           [
            0.042328042328042326,
            0.10846560846560846,
            0.2671957671957672,
            0.582010582010582
           ],
           [
            0.0582010582010582,
            0.10317460317460317,
            0.2724867724867725,
            0.5661375661375662
           ],
           [
            0.06349206349206349,
            0.08994708994708994,
            0.2857142857142857,
            0.5608465608465608
           ],
           [
            0.06878306878306878,
            0.10846560846560846,
            0.2671957671957672,
            0.5555555555555556
           ],
           [
            0.07936507936507936,
            0.1111111111111111,
            0.26455026455026454,
            0.544973544973545
           ],
           [
            0.0582010582010582,
            0.07936507936507936,
            0.2962962962962963,
            0.5661375661375662
           ],
           [
            0.07936507936507936,
            0.09788359788359788,
            0.2777777777777778,
            0.544973544973545
           ],
           [
            0.082010582010582,
            0.09259259259259259,
            0.2830687830687831,
            0.5423280423280423
           ],
           [
            0.05555555555555555,
            0.07936507936507936,
            0.2962962962962963,
            0.5687830687830688
           ],
           [
            0.0582010582010582,
            0.06613756613756613,
            0.30952380952380953,
            0.5661375661375662
           ],
           [
            0.09523809523809523,
            0.0873015873015873,
            0.28835978835978837,
            0.5291005291005291
           ],
           [
            0,
            0,
            0.37566137566137564,
            0.6243386243386243
           ],
           [
            0.10846560846560846,
            0.07142857142857142,
            0.30423280423280424,
            0.5158730158730159
           ],
           [
            0.14285714285714285,
            0.07671957671957672,
            0.29894179894179895,
            0.48148148148148145
           ],
           [
            0.16137566137566137,
            0.07936507936507936,
            0.2962962962962963,
            0.46296296296296297
           ],
           [
            0.12433862433862433,
            0.06878306878306878,
            0.30687830687830686,
            0.5
           ],
           [
            0.11375661375661375,
            0.05291005291005291,
            0.32275132275132273,
            0.5105820105820106
           ],
           [
            0.20105820105820105,
            0.07407407407407407,
            0.30158730158730157,
            0.42328042328042326
           ],
           [
            0.15873015873015872,
            0.0582010582010582,
            0.31746031746031744,
            0.4656084656084656
           ],
           [
            0.22486772486772486,
            0.0582010582010582,
            0.31746031746031744,
            0.3994708994708995
           ],
           [
            0.17724867724867724,
            0.05026455026455026,
            0.3253968253968254,
            0.4470899470899471
           ],
           [
            0.21957671957671956,
            0.06084656084656084,
            0.3148148148148148,
            0.40476190476190477
           ],
           [
            0.22486772486772486,
            0.05026455026455026,
            0.3253968253968254,
            0.3994708994708995
           ],
           [
            0.2222222222222222,
            0.037037037037037035,
            0.3386243386243386,
            0.4021164021164021
           ],
           [
            0.24338624338624337,
            0.05291005291005291,
            0.32275132275132273,
            0.38095238095238093
           ],
           [
            0.24074074074074073,
            0.04497354497354497,
            0.3306878306878307,
            0.3835978835978836
           ],
           [
            0.2804232804232804,
            0.026455026455026454,
            0.3492063492063492,
            0.3439153439153439
           ],
           [
            0.24603174603174602,
            0.042328042328042326,
            0.3333333333333333,
            0.3783068783068783
           ],
           [
            0.2751322751322751,
            0.031746031746031744,
            0.3439153439153439,
            0.3492063492063492
           ],
           [
            0.3306878306878307,
            0.03439153439153439,
            0.3412698412698413,
            0.29365079365079366
           ],
           [
            0.2962962962962963,
            0.031746031746031744,
            0.3439153439153439,
            0.328042328042328
           ],
           [
            0.31746031746031744,
            0.03439153439153439,
            0.3412698412698413,
            0.30687830687830686
           ]
          ],
          [
           [
            0.0582010582010582,
            0.2037037037037037,
            0.20899470899470898,
            0.5291005291005291
           ],
           [
            0.05026455026455026,
            0.14814814814814814,
            0.26455026455026454,
            0.5370370370370371
           ],
           [
            0.042328042328042326,
            0.1455026455026455,
            0.2671957671957672,
            0.544973544973545
           ],
           [
            0.06349206349206349,
            0.1455026455026455,
            0.2671957671957672,
            0.5238095238095238
           ],
           [
            0.06349206349206349,
            0.12698412698412698,
            0.2857142857142857,
            0.5238095238095238
           ],
           [
            0.0582010582010582,
            0.1349206349206349,
            0.2777777777777778,
            0.5291005291005291
           ],
           [
            0.06084656084656084,
            0.12962962962962962,
            0.2830687830687831,
            0.5264550264550265
           ],
           [
            0.07936507936507936,
            0.13756613756613756,
            0.2751322751322751,
            0.5079365079365079
           ],
           [
            0.07142857142857142,
            0.12698412698412698,
            0.2857142857142857,
            0.5158730158730159
           ],
           [
            0.08994708994708994,
            0.13756613756613756,
            0.2751322751322751,
            0.4973544973544973
           ],
           [
            0.06349206349206349,
            0.12433862433862433,
            0.28835978835978837,
            0.5238095238095238
           ],
           [
            0.06349206349206349,
            0.10846560846560846,
            0.30423280423280424,
            0.5238095238095238
           ],
           [
            0.08465608465608465,
            0.11375661375661375,
            0.29894179894179895,
            0.5026455026455027
           ],
           [
            0.07142857142857142,
            0.10846560846560846,
            0.30423280423280424,
            0.5158730158730159
           ],
           [
            0,
            0,
            0.4126984126984127,
            0.5873015873015873
           ],
           [
            0.12698412698412698,
            0.09788359788359788,
            0.3148148148148148,
            0.4603174603174603
           ],
           [
            0.15343915343915343,
            0.10846560846560846,
            0.30423280423280424,
            0.43386243386243384
           ],
           [
            0.10582010582010581,
            0.0873015873015873,
            0.3253968253968254,
            0.48148148148148145
           ],
           [
            0.11375661375661375,
            0.08994708994708994,
            0.32275132275132273,
            0.47354497354497355
           ],
           [
            0.164021164021164,
            0.07407407407407407,
            0.3386243386243386,
            0.42328042328042326
           ],
           [
            0.12962962962962962,
            0.06613756613756613,
            0.34656084656084657,
            0.4576719576719577
           ],
           [
            0.21693121693121692,
            0.0873015873015873,
            0.3253968253968254,
            0.37037037037037035
           ],
           [
            0.15873015873015872,
            0.06878306878306878,
            0.3439153439153439,
            0.42857142857142855
           ],
           [
            0.18253968253968253,
            0.06084656084656084,
            0.35185185185185186,
            0.40476190476190477
           ],
           [
            0.2037037037037037,
            0.06613756613756613,
            0.34656084656084657,
            0.3835978835978836
           ],
           [
            0.1931216931216931,
            0.04497354497354497,
            0.36772486772486773,
            0.3941798941798942
           ],
           [
            0.20899470899470898,
            0.05555555555555555,
            0.35714285714285715,
            0.3783068783068783
           ],
           [
            0.20634920634920634,
            0.047619047619047616,
            0.36507936507936506,
            0.38095238095238093
           ],
           [
            0.2857142857142857,
            0.06878306878306878,
            0.3439153439153439,
            0.30158730158730157
           ],
           [
            0.20899470899470898,
            0.042328042328042326,
            0.37037037037037035,
            0.3783068783068783
           ],
           [
            0.24074074074074073,
            0.03439153439153439,
            0.3783068783068783,
            0.34656084656084657
           ],
           [
            0.3201058201058201,
            0.06084656084656084,
            0.35185185185185186,
            0.2671957671957672
           ],
           [
            0.25925925925925924,
            0.031746031746031744,
            0.38095238095238093,
            0.328042328042328
           ],
           [
            0.2777777777777778,
            0.031746031746031744,
            0.38095238095238093,
            0.30952380952380953
           ]
          ],
          [
           [
            0.042328042328042326,
            0.21693121693121692,
            0.22486772486772486,
            0.5158730158730159
           ],
           [
            0.0582010582010582,
            0.18518518518518517,
            0.2566137566137566,
            0.5
           ],
           [
            0.05291005291005291,
            0.18518518518518517,
            0.2566137566137566,
            0.5052910052910053
           ],
           [
            0.06349206349206349,
            0.1746031746031746,
            0.2671957671957672,
            0.4947089947089947
           ],
           [
            0.07142857142857142,
            0.164021164021164,
            0.2777777777777778,
            0.48677248677248675
           ],
           [
            0.06349206349206349,
            0.1693121693121693,
            0.2724867724867725,
            0.4947089947089947
           ],
           [
            0.06878306878306878,
            0.16666666666666666,
            0.2751322751322751,
            0.4894179894179894
           ],
           [
            0.07407407407407407,
            0.16137566137566137,
            0.2804232804232804,
            0.48412698412698413
           ],
           [
            0.07142857142857142,
            0.15608465608465608,
            0.2857142857142857,
            0.48677248677248675
           ],
           [
            0.08465608465608465,
            0.16137566137566137,
            0.2804232804232804,
            0.47354497354497355
           ],
           [
            0.05555555555555555,
            0.1455026455026455,
            0.2962962962962963,
            0.5026455026455027
           ],
           [
            0.082010582010582,
            0.15608465608465608,
            0.2857142857142857,
            0.47619047619047616
           ],
           [
            0.082010582010582,
            0.1402116402116402,
            0.30158730158730157,
            0.47619047619047616
           ],
           [
            0.07671957671957672,
            0.14285714285714285,
            0.29894179894179895,
            0.48148148148148145
           ],
           [
            0.09788359788359788,
            0.12698412698412698,
            0.3148148148148148,
            0.4603174603174603
           ],
           [
            0,
            0,
            0.4417989417989418,
            0.5582010582010583
           ],
           [
            0.1349206349206349,
            0.11904761904761904,
            0.32275132275132273,
            0.42328042328042326
           ],
           [
            0.1164021164021164,
            0.12698412698412698,
            0.3148148148148148,
            0.4417989417989418
           ],
           [
            0.1111111111111111,
            0.1164021164021164,
            0.3253968253968254,
            0.4470899470899471
           ],
           [
            0.1693121693121693,
            0.10846560846560846,
            0.3333333333333333,
            0.3888888888888889
           ],
           [
            0.15343915343915343,
            0.11904761904761904,
            0.32275132275132273,
            0.40476190476190477
           ],
           [
            0.19047619047619047,
            0.08994708994708994,
            0.35185185185185186,
            0.36772486772486773
           ],
           [
            0.15873015873015872,
            0.09788359788359788,
            0.3439153439153439,
            0.3994708994708995
           ],
           [
            0.1931216931216931,
            0.10052910052910052,
            0.3412698412698413,
            0.36507936507936506
           ],
           [
            0.1931216931216931,
            0.08465608465608465,
            0.35714285714285715,
            0.36507936507936506
           ],
           [
            0.2037037037037037,
            0.08465608465608465,
            0.35714285714285715,
            0.3544973544973545
           ],
           [
            0.21428571428571427,
            0.08994708994708994,
            0.35185185185185186,
            0.3439153439153439
           ],
           [
            0.21693121693121692,
            0.0873015873015873,
            0.3544973544973545,
            0.3412698412698413
           ],
           [
            0.24867724867724866,
            0.06084656084656084,
            0.38095238095238093,
            0.30952380952380953
           ],
           [
            0.21428571428571427,
            0.07671957671957672,
            0.36507936507936506,
            0.3439153439153439
           ],
           [
            0.2566137566137566,
            0.07936507936507936,
            0.36243386243386244,
            0.30158730158730157
           ],
           [
            0.2962962962962963,
            0.06613756613756613,
            0.37566137566137564,
            0.2619047619047619
           ],
           [
            0.2698412698412698,
            0.07142857142857142,
            0.37037037037037035,
            0.28835978835978837
           ],
           [
            0.2857142857142857,
            0.06878306878306878,
            0.373015873015873,
            0.2724867724867725
           ]
          ],
          [
           [
            0.04497354497354497,
            0.23544973544973544,
            0.2222222222222222,
            0.4973544973544973
           ],
           [
            0.06084656084656084,
            0.2037037037037037,
            0.25396825396825395,
            0.48148148148148145
           ],
           [
            0.06349206349206349,
            0.21164021164021163,
            0.24603174603174602,
            0.47883597883597884
           ],
           [
            0.06349206349206349,
            0.19047619047619047,
            0.2671957671957672,
            0.47883597883597884
           ],
           [
            0.07407407407407407,
            0.18253968253968253,
            0.2751322751322751,
            0.46825396825396826
           ],
           [
            0.05026455026455026,
            0.17195767195767195,
            0.2857142857142857,
            0.49206349206349204
           ],
           [
            0.0582010582010582,
            0.17195767195767195,
            0.2857142857142857,
            0.48412698412698413
           ],
           [
            0.06349206349206349,
            0.16666666666666666,
            0.291005291005291,
            0.47883597883597884
           ],
           [
            0.07407407407407407,
            0.1746031746031746,
            0.2830687830687831,
            0.46825396825396826
           ],
           [
            0.09523809523809523,
            0.18783068783068782,
            0.2698412698412698,
            0.4470899470899471
           ],
           [
            0.06349206349206349,
            0.1693121693121693,
            0.28835978835978837,
            0.47883597883597884
           ],
           [
            0.08994708994708994,
            0.17989417989417988,
            0.2777777777777778,
            0.4523809523809524
           ],
           [
            0.0873015873015873,
            0.16137566137566137,
            0.2962962962962963,
            0.455026455026455
           ],
           [
            0.07936507936507936,
            0.16137566137566137,
            0.2962962962962963,
            0.46296296296296297
           ],
           [
            0.10846560846560846,
            0.15343915343915343,
            0.30423280423280424,
            0.43386243386243384
           ],
           [
            0.11904761904761904,
            0.1349206349206349,
            0.32275132275132273,
            0.42328042328042326
           ],
           [
            0,
            0,
            0.4576719576719577,
            0.5423280423280423
           ],
           [
            0.12962962962962962,
            0.15608465608465608,
            0.30158730158730157,
            0.4126984126984127
           ],
           [
            0.1111111111111111,
            0.13227513227513227,
            0.3253968253968254,
            0.4312169312169312
           ],
           [
            0.1746031746031746,
            0.12962962962962962,
            0.328042328042328,
            0.36772486772486773
           ],
           [
            0.14285714285714285,
            0.12433862433862433,
            0.3333333333333333,
            0.3994708994708995
           ],
           [
            0.17989417989417988,
            0.09523809523809523,
            0.36243386243386244,
            0.36243386243386244
           ],
           [
            0.15873015873015872,
            0.11375661375661375,
            0.3439153439153439,
            0.3835978835978836
           ],
           [
            0.19047619047619047,
            0.11375661375661375,
            0.3439153439153439,
            0.35185185185185186
           ],
           [
            0.1984126984126984,
            0.10582010582010581,
            0.35185185185185186,
            0.3439153439153439
           ],
           [
            0.20105820105820105,
            0.09788359788359788,
            0.35978835978835977,
            0.3412698412698413
           ],
           [
            0.22486772486772486,
            0.1164021164021164,
            0.3412698412698413,
            0.31746031746031744
           ],
           [
            0.21164021164021163,
            0.09788359788359788,
            0.35978835978835977,
            0.3306878306878307
           ],
           [
            0.25132275132275134,
            0.07936507936507936,
            0.3783068783068783,
            0.291005291005291
           ],
           [
            0.21164021164021163,
            0.08994708994708994,
            0.36772486772486773,
            0.3306878306878307
           ],
           [
            0.24338624338624337,
            0.082010582010582,
            0.37566137566137564,
            0.29894179894179895
           ],
           [
            0.28835978835978837,
            0.07407407407407407,
            0.3835978835978836,
            0.25396825396825395
           ],
           [
            0.26455026455026454,
            0.082010582010582,
            0.37566137566137564,
            0.2777777777777778
           ],
           [
            0.2857142857142857,
            0.08465608465608465,
            0.373015873015873,
            0.2566137566137566
           ]
          ],
          [
           [
            0.047619047619047616,
            0.21164021164021163,
            0.21957671957671956,
            0.5211640211640212
           ],
           [
            0.0582010582010582,
            0.1746031746031746,
            0.2566137566137566,
            0.5105820105820106
           ],
           [
            0.0291005291005291,
            0.15079365079365079,
            0.2804232804232804,
            0.5396825396825397
           ],
           [
            0.06349206349206349,
            0.164021164021164,
            0.2671957671957672,
            0.5052910052910053
           ],
           [
            0.07671957671957672,
            0.15873015873015872,
            0.2724867724867725,
            0.49206349206349204
           ],
           [
            0.06613756613756613,
            0.16137566137566137,
            0.2698412698412698,
            0.5026455026455027
           ],
           [
            0.06613756613756613,
            0.15343915343915343,
            0.2777777777777778,
            0.5026455026455027
           ],
           [
            0.07142857142857142,
            0.14814814814814814,
            0.2830687830687831,
            0.4973544973544973
           ],
           [
            0.07936507936507936,
            0.15343915343915343,
            0.2777777777777778,
            0.4894179894179894
           ],
           [
            0.08465608465608465,
            0.15079365079365079,
            0.2804232804232804,
            0.48412698412698413
           ],
           [
            0.06084656084656084,
            0.1402116402116402,
            0.291005291005291,
            0.5079365079365079
           ],
           [
            0.06613756613756613,
            0.12962962962962962,
            0.30158730158730157,
            0.5026455026455027
           ],
           [
            0.07671957671957672,
            0.12433862433862433,
            0.30687830687830686,
            0.49206349206349204
           ],
           [
            0.06878306878306878,
            0.12433862433862433,
            0.30687830687830686,
            0.5
           ],
           [
            0.0873015873015873,
            0.10582010582010581,
            0.3253968253968254,
            0.48148148148148145
           ],
           [
            0.12698412698412698,
            0.1164021164021164,
            0.3148148148148148,
            0.4417989417989418
           ],
           [
            0.15608465608465608,
            0.12962962962962962,
            0.30158730158730157,
            0.4126984126984127
           ],
           [
            0,
            0,
            0.4312169312169312,
            0.5687830687830688
           ],
           [
            0.10582010582010581,
            0.10052910052910052,
            0.3306878306878307,
            0.46296296296296297
           ],
           [
            0.17195767195767195,
            0.10052910052910052,
            0.3306878306878307,
            0.3968253968253968
           ],
           [
            0.12962962962962962,
            0.08465608465608465,
            0.34656084656084657,
            0.43915343915343913
           ],
           [
            0.1931216931216931,
            0.082010582010582,
            0.3492063492063492,
            0.37566137566137564
           ],
           [
            0.15079365079365079,
            0.07936507936507936,
            0.35185185185185186,
            0.41798941798941797
           ],
           [
            0.17724867724867724,
            0.07407407407407407,
            0.35714285714285715,
            0.3915343915343915
           ],
           [
            0.17989417989417988,
            0.06084656084656084,
            0.37037037037037035,
            0.3888888888888889
           ],
           [
            0.18253968253968253,
            0.05291005291005291,
            0.3783068783068783,
            0.3862433862433862
           ],
           [
            0.18518518518518517,
            0.05026455026455026,
            0.38095238095238093,
            0.3835978835978836
           ],
           [
            0.21164021164021163,
            0.07142857142857142,
            0.35978835978835977,
            0.35714285714285715
           ],
           [
            0.25396825396825395,
            0.05555555555555555,
            0.37566137566137564,
            0.3148148148148148
           ],
           [
            0.1984126984126984,
            0.05026455026455026,
            0.38095238095238093,
            0.37037037037037035
           ],
           [
            0.23809523809523808,
            0.05026455026455026,
            0.38095238095238093,
            0.3306878306878307
           ],
           [
            0.2857142857142857,
            0.04497354497354497,
            0.3862433862433862,
            0.2830687830687831
           ],
           [
            0.25132275132275134,
            0.042328042328042326,
            0.3888888888888889,
            0.31746031746031744
           ],
           [
            0.2671957671957672,
            0.03968253968253968,
            0.3915343915343915,
            0.30158730158730157
           ]
          ],
          [
           [
            0.042328042328042326,
            0.21164021164021163,
            0.22486772486772486,
            0.5211640211640212
           ],
           [
            0.037037037037037035,
            0.15873015873015872,
            0.2777777777777778,
            0.5264550264550265
           ],
           [
            0.031746031746031744,
            0.15873015873015872,
            0.2777777777777778,
            0.5317460317460317
           ],
           [
            0.05026455026455026,
            0.15608465608465608,
            0.2804232804232804,
            0.5132275132275133
           ],
           [
            0.06613756613756613,
            0.15343915343915343,
            0.2830687830687831,
            0.4973544973544973
           ],
           [
            0.04497354497354497,
            0.1455026455026455,
            0.291005291005291,
            0.5185185185185185
           ],
           [
            0.04497354497354497,
            0.13756613756613756,
            0.29894179894179895,
            0.5185185185185185
           ],
           [
            0.05026455026455026,
            0.13227513227513227,
            0.30423280423280424,
            0.5132275132275133
           ],
           [
            0.07142857142857142,
            0.15079365079365079,
            0.2857142857142857,
            0.49206349206349204
           ],
           [
            0.06349206349206349,
            0.1349206349206349,
            0.30158730158730157,
            0.5
           ],
           [
            0.047619047619047616,
            0.13227513227513227,
            0.30423280423280424,
            0.5158730158730159
           ],
           [
            0.05555555555555555,
            0.12433862433862433,
            0.31216931216931215,
            0.5079365079365079
           ],
           [
            0.07407407407407407,
            0.12698412698412698,
            0.30952380952380953,
            0.4894179894179894
           ],
           [
            0.05291005291005291,
            0.11375661375661375,
            0.32275132275132273,
            0.5105820105820106
           ],
           [
            0.08994708994708994,
            0.11375661375661375,
            0.32275132275132273,
            0.47354497354497355
           ],
           [
            0.1164021164021164,
            0.1111111111111111,
            0.3253968253968254,
            0.4470899470899471
           ],
           [
            0.13227513227513227,
            0.1111111111111111,
            0.3253968253968254,
            0.4312169312169312
           ],
           [
            0.10052910052910052,
            0.10582010582010581,
            0.3306878306878307,
            0.46296296296296297
           ],
           [
            0,
            0,
            0.4365079365079365,
            0.5634920634920635
           ],
           [
            0.15873015873015872,
            0.09259259259259259,
            0.3439153439153439,
            0.40476190476190477
           ],
           [
            0.1455026455026455,
            0.10582010582010581,
            0.3306878306878307,
            0.41798941798941797
           ],
           [
            0.17989417989417988,
            0.07407407407407407,
            0.36243386243386244,
            0.3835978835978836
           ],
           [
            0.15079365079365079,
            0.08465608465608465,
            0.35185185185185186,
            0.4126984126984127
           ],
           [
            0.164021164021164,
            0.06613756613756613,
            0.37037037037037035,
            0.3994708994708995
           ],
           [
            0.17989417989417988,
            0.06613756613756613,
            0.37037037037037035,
            0.3835978835978836
           ],
           [
            0.19047619047619047,
            0.06613756613756613,
            0.37037037037037035,
            0.373015873015873
           ],
           [
            0.2037037037037037,
            0.07407407407407407,
            0.36243386243386244,
            0.35978835978835977
           ],
           [
            0.21164021164021163,
            0.07671957671957672,
            0.35978835978835977,
            0.35185185185185186
           ],
           [
            0.2566137566137566,
            0.06349206349206349,
            0.373015873015873,
            0.30687830687830686
           ],
           [
            0.20634920634920634,
            0.06349206349206349,
            0.373015873015873,
            0.35714285714285715
           ],
           [
            0.23809523809523808,
            0.05555555555555555,
            0.38095238095238093,
            0.3253968253968254
           ],
           [
            0.2751322751322751,
            0.03968253968253968,
            0.3968253968253968,
            0.28835978835978837
           ],
           [
            0.25132275132275134,
            0.047619047619047616,
            0.3888888888888889,
            0.31216931216931215
           ],
           [
            0.2566137566137566,
            0.03439153439153439,
            0.4021164021164021,
            0.30687830687830686
           ]
          ],
          [
           [
            0.042328042328042326,
            0.2777777777777778,
            0.22486772486772486,
            0.455026455026455
           ],
           [
            0.04497354497354497,
            0.2328042328042328,
            0.2698412698412698,
            0.4523809523809524
           ],
           [
            0.04497354497354497,
            0.23809523809523808,
            0.26455026455026454,
            0.4523809523809524
           ],
           [
            0.05555555555555555,
            0.2275132275132275,
            0.2751322751322751,
            0.4417989417989418
           ],
           [
            0.06878306878306878,
            0.2222222222222222,
            0.2804232804232804,
            0.42857142857142855
           ],
           [
            0.03968253968253968,
            0.20634920634920634,
            0.2962962962962963,
            0.4576719576719577
           ],
           [
            0.05555555555555555,
            0.21428571428571427,
            0.28835978835978837,
            0.4417989417989418
           ],
           [
            0.06613756613756613,
            0.21428571428571427,
            0.28835978835978837,
            0.4312169312169312
           ],
           [
            0.06349206349206349,
            0.20899470899470898,
            0.29365079365079366,
            0.43386243386243384
           ],
           [
            0.06084656084656084,
            0.1984126984126984,
            0.30423280423280424,
            0.4365079365079365
           ],
           [
            0.05555555555555555,
            0.20634920634920634,
            0.2962962962962963,
            0.4417989417989418
           ],
           [
            0.082010582010582,
            0.21693121693121692,
            0.2857142857142857,
            0.41534391534391535
           ],
           [
            0.07407407407407407,
            0.1931216931216931,
            0.30952380952380953,
            0.42328042328042326
           ],
           [
            0.07407407407407407,
            0.20105820105820105,
            0.30158730158730157,
            0.42328042328042326
           ],
           [
            0.07407407407407407,
            0.164021164021164,
            0.3386243386243386,
            0.42328042328042326
           ],
           [
            0.10846560846560846,
            0.1693121693121693,
            0.3333333333333333,
            0.3888888888888889
           ],
           [
            0.12962962962962962,
            0.1746031746031746,
            0.328042328042328,
            0.36772486772486773
           ],
           [
            0.10052910052910052,
            0.17195767195767195,
            0.3306878306878307,
            0.3968253968253968
           ],
           [
            0.09259259259259259,
            0.15873015873015872,
            0.3439153439153439,
            0.40476190476190477
           ],
           [
            0,
            0,
            0.5026455026455027,
            0.4973544973544973
           ],
           [
            0.12169312169312169,
            0.14814814814814814,
            0.3544973544973545,
            0.37566137566137564
           ],
           [
            0.1746031746031746,
            0.1349206349206349,
            0.36772486772486773,
            0.32275132275132273
           ],
           [
            0.14285714285714285,
            0.14285714285714285,
            0.35978835978835977,
            0.3544973544973545
           ],
           [
            0.15873015873015872,
            0.12698412698412698,
            0.37566137566137564,
            0.3386243386243386
           ],
           [
            0.15873015873015872,
            0.1111111111111111,
            0.3915343915343915,
            0.3386243386243386
           ],
           [
            0.1746031746031746,
            0.1164021164021164,
            0.3862433862433862,
            0.32275132275132273
           ],
           [
            0.17989417989417988,
            0.1164021164021164,
            0.3862433862433862,
            0.31746031746031744
           ],
           [
            0.19047619047619047,
            0.12169312169312169,
            0.38095238095238093,
            0.30687830687830686
           ],
           [
            0.21693121693121692,
            0.08994708994708994,
            0.4126984126984127,
            0.2804232804232804
           ],
           [
            0.18518518518518517,
            0.10846560846560846,
            0.3941798941798942,
            0.31216931216931215
           ],
           [
            0.21693121693121692,
            0.10052910052910052,
            0.4021164021164021,
            0.2804232804232804
           ],
           [
            0.2566137566137566,
            0.0873015873015873,
            0.41534391534391535,
            0.24074074074074073
           ],
           [
            0.23015873015873015,
            0.09259259259259259,
            0.41005291005291006,
            0.2671957671957672
           ],
           [
            0.24338624338624337,
            0.0873015873015873,
            0.41534391534391535,
            0.25396825396825395
           ]
          ],
          [
           [
            0.04497354497354497,
            0.25396825396825395,
            0.2222222222222222,
            0.47883597883597884
           ],
           [
            0.05555555555555555,
            0.21693121693121692,
            0.25925925925925924,
            0.46825396825396826
           ],
           [
            0.04497354497354497,
            0.21164021164021163,
            0.26455026455026454,
            0.47883597883597884
           ],
           [
            0.05555555555555555,
            0.20105820105820105,
            0.2751322751322751,
            0.46825396825396826
           ],
           [
            0.06613756613756613,
            0.1931216931216931,
            0.2830687830687831,
            0.4576719576719577
           ],
           [
            0.047619047619047616,
            0.18783068783068782,
            0.28835978835978837,
            0.47619047619047616
           ],
           [
            0.05291005291005291,
            0.18518518518518517,
            0.291005291005291,
            0.4708994708994709
           ],
           [
            0.07671957671957672,
            0.1984126984126984,
            0.2777777777777778,
            0.4470899470899471
           ],
           [
            0.06613756613756613,
            0.18518518518518517,
            0.291005291005291,
            0.4576719576719577
           ],
           [
            0.0873015873015873,
            0.1984126984126984,
            0.2777777777777778,
            0.4365079365079365
           ],
           [
            0.06084656084656084,
            0.18518518518518517,
            0.291005291005291,
            0.46296296296296297
           ],
           [
            0.06084656084656084,
            0.1693121693121693,
            0.30687830687830686,
            0.46296296296296297
           ],
           [
            0.082010582010582,
            0.1746031746031746,
            0.30158730158730157,
            0.4417989417989418
           ],
           [
            0.0582010582010582,
            0.15873015873015872,
            0.31746031746031744,
            0.4656084656084656
           ],
           [
            0.06613756613756613,
            0.12962962962962962,
            0.34656084656084657,
            0.4576719576719577
           ],
           [
            0.11904761904761904,
            0.15343915343915343,
            0.32275132275132273,
            0.40476190476190477
           ],
           [
            0.12433862433862433,
            0.14285714285714285,
            0.3333333333333333,
            0.3994708994708995
           ],
           [
            0.08465608465608465,
            0.12962962962962962,
            0.34656084656084657,
            0.43915343915343913
           ],
           [
            0.10582010582010581,
            0.1455026455026455,
            0.3306878306878307,
            0.41798941798941797
           ],
           [
            0.14814814814814814,
            0.12169312169312169,
            0.3544973544973545,
            0.37566137566137564
           ],
           [
            0,
            0,
            0.47619047619047616,
            0.5238095238095238
           ],
           [
            0.18518518518518517,
            0.11904761904761904,
            0.35714285714285715,
            0.3386243386243386
           ],
           [
            0.1349206349206349,
            0.10846560846560846,
            0.36772486772486773,
            0.3888888888888889
           ],
           [
            0.13756613756613756,
            0.07936507936507936,
            0.3968253968253968,
            0.3862433862433862
           ],
           [
            0.16137566137566137,
            0.0873015873015873,
            0.3888888888888889,
            0.36243386243386244
           ],
           [
            0.1693121693121693,
            0.08465608465608465,
            0.3915343915343915,
            0.3544973544973545
           ],
           [
            0.164021164021164,
            0.07407407407407407,
            0.4021164021164021,
            0.35978835978835977
           ],
           [
            0.18253968253968253,
            0.0873015873015873,
            0.3888888888888889,
            0.3412698412698413
           ],
           [
            0.24338624338624337,
            0.08994708994708994,
            0.3862433862433862,
            0.2804232804232804
           ],
           [
            0.1693121693121693,
            0.06613756613756613,
            0.41005291005291006,
            0.3544973544973545
           ],
           [
            0.1984126984126984,
            0.05555555555555555,
            0.42063492063492064,
            0.3253968253968254
           ],
           [
            0.25925925925925924,
            0.06349206349206349,
            0.4126984126984127,
            0.26455026455026454
           ],
           [
            0.2222222222222222,
            0.0582010582010582,
            0.41798941798941797,
            0.30158730158730157
           ],
           [
            0.23544973544973544,
            0.05291005291005291,
            0.42328042328042326,
            0.28835978835978837
           ]
          ],
          [
           [
            0.03439153439153439,
            0.30952380952380953,
            0.2328042328042328,
            0.42328042328042326
           ],
           [
            0.0291005291005291,
            0.2566137566137566,
            0.2857142857142857,
            0.42857142857142855
           ],
           [
            0.04497354497354497,
            0.2777777777777778,
            0.26455026455026454,
            0.4126984126984127
           ],
           [
            0.05026455026455026,
            0.2619047619047619,
            0.2804232804232804,
            0.4074074074074074
           ],
           [
            0.06613756613756613,
            0.25925925925925924,
            0.2830687830687831,
            0.3915343915343915
           ],
           [
            0.047619047619047616,
            0.25396825396825395,
            0.28835978835978837,
            0.41005291005291006
           ],
           [
            0.047619047619047616,
            0.24603174603174602,
            0.2962962962962963,
            0.41005291005291006
           ],
           [
            0.05026455026455026,
            0.23809523809523808,
            0.30423280423280424,
            0.4074074074074074
           ],
           [
            0.05026455026455026,
            0.23544973544973544,
            0.30687830687830686,
            0.4074074074074074
           ],
           [
            0.06084656084656084,
            0.23809523809523808,
            0.30423280423280424,
            0.3968253968253968
           ],
           [
            0.05291005291005291,
            0.24338624338624337,
            0.29894179894179895,
            0.40476190476190477
           ],
           [
            0.06349206349206349,
            0.23809523809523808,
            0.30423280423280424,
            0.3941798941798942
           ],
           [
            0.05026455026455026,
            0.20899470899470898,
            0.3333333333333333,
            0.4074074074074074
           ],
           [
            0.0582010582010582,
            0.22486772486772486,
            0.31746031746031744,
            0.3994708994708995
           ],
           [
            0.0873015873015873,
            0.21693121693121692,
            0.3253968253968254,
            0.37037037037037035
           ],
           [
            0.08994708994708994,
            0.19047619047619047,
            0.35185185185185186,
            0.36772486772486773
           ],
           [
            0.09523809523809523,
            0.17989417989417988,
            0.36243386243386244,
            0.36243386243386244
           ],
           [
            0.082010582010582,
            0.1931216931216931,
            0.3492063492063492,
            0.37566137566137564
           ],
           [
            0.07407407407407407,
            0.17989417989417988,
            0.36243386243386244,
            0.3835978835978836
           ],
           [
            0.1349206349206349,
            0.1746031746031746,
            0.36772486772486773,
            0.32275132275132273
           ],
           [
            0.11904761904761904,
            0.18518518518518517,
            0.35714285714285715,
            0.3386243386243386
           ],
           [
            0,
            0,
            0.5423280423280423,
            0.4576719576719577
           ],
           [
            0.1111111111111111,
            0.15079365079365079,
            0.3915343915343915,
            0.34656084656084657
           ],
           [
            0.15079365079365079,
            0.15873015873015872,
            0.3835978835978836,
            0.30687830687830686
           ],
           [
            0.14285714285714285,
            0.1349206349206349,
            0.4074074074074074,
            0.3148148148148148
           ],
           [
            0.15873015873015872,
            0.1402116402116402,
            0.4021164021164021,
            0.29894179894179895
           ],
           [
            0.15343915343915343,
            0.12962962962962962,
            0.4126984126984127,
            0.30423280423280424
           ],
           [
            0.164021164021164,
            0.1349206349206349,
            0.4074074074074074,
            0.29365079365079366
           ],
           [
            0.18253968253968253,
            0.09523809523809523,
            0.4470899470899471,
            0.2751322751322751
           ],
           [
            0.13756613756613756,
            0.10052910052910052,
            0.4417989417989418,
            0.3201058201058201
           ],
           [
            0.1693121693121693,
            0.09259259259259259,
            0.4497354497354497,
            0.28835978835978837
           ],
           [
            0.21957671957671956,
            0.08994708994708994,
            0.4523809523809524,
            0.23809523809523808
           ],
           [
            0.18783068783068782,
            0.08994708994708994,
            0.4523809523809524,
            0.2698412698412698
           ],
           [
            0.20899470899470898,
            0.09259259259259259,
            0.4497354497354497,
            0.24867724867724866
           ]
          ],
          [
           [
            0.03968253968253968,
            0.2751322751322751,
            0.2275132275132275,
            0.4576719576719577
           ],
           [
            0.031746031746031744,
            0.21957671957671956,
            0.2830687830687831,
            0.4656084656084656
           ],
           [
            0.03968253968253968,
            0.2328042328042328,
            0.2698412698412698,
            0.4576719576719577
           ],
           [
            0.04497354497354497,
            0.21693121693121692,
            0.2857142857142857,
            0.4523809523809524
           ],
           [
            0.05555555555555555,
            0.20899470899470898,
            0.29365079365079366,
            0.4417989417989418
           ],
           [
            0.03439153439153439,
            0.20105820105820105,
            0.30158730158730157,
            0.46296296296296297
           ],
           [
            0.05026455026455026,
            0.20899470899470898,
            0.29365079365079366,
            0.4470899470899471
           ],
           [
            0.05291005291005291,
            0.20105820105820105,
            0.30158730158730157,
            0.4444444444444444
           ],
           [
            0.05555555555555555,
            0.20105820105820105,
            0.30158730158730157,
            0.4417989417989418
           ],
           [
            0.06613756613756613,
            0.2037037037037037,
            0.29894179894179895,
            0.4312169312169312
           ],
           [
            0.04497354497354497,
            0.19576719576719576,
            0.30687830687830686,
            0.4523809523809524
           ],
           [
            0.05026455026455026,
            0.18518518518518517,
            0.31746031746031744,
            0.4470899470899471
           ],
           [
            0.04497354497354497,
            0.164021164021164,
            0.3386243386243386,
            0.4523809523809524
           ],
           [
            0.05026455026455026,
            0.17724867724867724,
            0.3253968253968254,
            0.4470899470899471
           ],
           [
            0.06878306878306878,
            0.15873015873015872,
            0.3439153439153439,
            0.42857142857142855
           ],
           [
            0.09788359788359788,
            0.15873015873015872,
            0.3439153439153439,
            0.3994708994708995
           ],
           [
            0.11375661375661375,
            0.15873015873015872,
            0.3439153439153439,
            0.3835978835978836
           ],
           [
            0.07936507936507936,
            0.15079365079365079,
            0.35185185185185186,
            0.41798941798941797
           ],
           [
            0.08465608465608465,
            0.15079365079365079,
            0.35185185185185186,
            0.4126984126984127
           ],
           [
            0.14285714285714285,
            0.14285714285714285,
            0.35978835978835977,
            0.3544973544973545
           ],
           [
            0.10846560846560846,
            0.1349206349206349,
            0.36772486772486773,
            0.3888888888888889
           ],
           [
            0.15079365079365079,
            0.1111111111111111,
            0.3915343915343915,
            0.34656084656084657
           ],
           [
            0,
            0,
            0.5026455026455027,
            0.4973544973544973
           ],
           [
            0.12433862433862433,
            0.09259259259259259,
            0.41005291005291006,
            0.373015873015873
           ],
           [
            0.13756613756613756,
            0.08994708994708994,
            0.4126984126984127,
            0.35978835978835977
           ],
           [
            0.14285714285714285,
            0.08465608465608465,
            0.41798941798941797,
            0.3544973544973545
           ],
           [
            0.14285714285714285,
            0.07936507936507936,
            0.42328042328042326,
            0.3544973544973545
           ],
           [
            0.12962962962962962,
            0.06084656084656084,
            0.4417989417989418,
            0.36772486772486773
           ],
           [
            0.2037037037037037,
            0.07671957671957672,
            0.42592592592592593,
            0.29365079365079366
           ],
           [
            0.13227513227513227,
            0.05555555555555555,
            0.4470899470899471,
            0.36507936507936506
           ],
           [
            0.1746031746031746,
            0.0582010582010582,
            0.4444444444444444,
            0.32275132275132273
           ],
           [
            0.24074074074074073,
            0.07142857142857142,
            0.4312169312169312,
            0.2566137566137566
           ],
           [
            0.18518518518518517,
            0.047619047619047616,
            0.455026455026455,
            0.31216931216931215
           ],
           [
            0.2037037037037037,
            0.047619047619047616,
            0.455026455026455,
            0.29365079365079366
           ]
          ],
          [
           [
            0.04497354497354497,
            0.31216931216931215,
            0.2222222222222222,
            0.42063492063492064
           ],
           [
            0.03968253968253968,
            0.25925925925925924,
            0.2751322751322751,
            0.42592592592592593
           ],
           [
            0.0291005291005291,
            0.25396825396825395,
            0.2804232804232804,
            0.4365079365079365
           ],
           [
            0.042328042328042326,
            0.24603174603174602,
            0.28835978835978837,
            0.42328042328042326
           ],
           [
            0.06349206349206349,
            0.24867724867724866,
            0.2857142857142857,
            0.4021164021164021
           ],
           [
            0.047619047619047616,
            0.24603174603174602,
            0.28835978835978837,
            0.41798941798941797
           ],
           [
            0.047619047619047616,
            0.23809523809523808,
            0.2962962962962963,
            0.41798941798941797
           ],
           [
            0.06349206349206349,
            0.24338624338624337,
            0.291005291005291,
            0.4021164021164021
           ],
           [
            0.06084656084656084,
            0.23809523809523808,
            0.2962962962962963,
            0.40476190476190477
           ],
           [
            0.07142857142857142,
            0.24074074074074073,
            0.29365079365079366,
            0.3941798941798942
           ],
           [
            0.05291005291005291,
            0.23544973544973544,
            0.29894179894179895,
            0.4126984126984127
           ],
           [
            0.05555555555555555,
            0.2222222222222222,
            0.31216931216931215,
            0.41005291005291006
           ],
           [
            0.06349206349206349,
            0.21428571428571427,
            0.3201058201058201,
            0.4021164021164021
           ],
           [
            0.06084656084656084,
            0.21957671957671956,
            0.3148148148148148,
            0.40476190476190477
           ],
           [
            0.06084656084656084,
            0.18253968253968253,
            0.35185185185185186,
            0.40476190476190477
           ],
           [
            0.10052910052910052,
            0.1931216931216931,
            0.3412698412698413,
            0.36507936507936506
           ],
           [
            0.11375661375661375,
            0.19047619047619047,
            0.3439153439153439,
            0.35185185185185186
           ],
           [
            0.07407407407407407,
            0.17724867724867724,
            0.35714285714285715,
            0.3915343915343915
           ],
           [
            0.06613756613756613,
            0.164021164021164,
            0.37037037037037035,
            0.3994708994708995
           ],
           [
            0.12698412698412698,
            0.15873015873015872,
            0.37566137566137564,
            0.3386243386243386
           ],
           [
            0.07936507936507936,
            0.13756613756613756,
            0.3968253968253968,
            0.3862433862433862
           ],
           [
            0.15873015873015872,
            0.15079365079365079,
            0.3835978835978836,
            0.30687830687830686
           ],
           [
            0.09259259259259259,
            0.12433862433862433,
            0.41005291005291006,
            0.373015873015873
           ],
           [
            0,
            0,
            0.5343915343915344,
            0.4656084656084656
           ],
           [
            0.12698412698412698,
            0.1111111111111111,
            0.42328042328042326,
            0.3386243386243386
           ],
           [
            0.12433862433862433,
            0.09788359788359788,
            0.4365079365079365,
            0.3412698412698413
           ],
           [
            0.13227513227513227,
            0.10052910052910052,
            0.43386243386243384,
            0.3333333333333333
           ],
           [
            0.12962962962962962,
            0.09259259259259259,
            0.4417989417989418,
            0.335978835978836
           ],
           [
            0.21164021164021163,
            0.1164021164021164,
            0.41798941798941797,
            0.25396825396825395
           ],
           [
            0.1164021164021164,
            0.07142857142857142,
            0.46296296296296297,
            0.3492063492063492
           ],
           [
            0.15608465608465608,
            0.07142857142857142,
            0.46296296296296297,
            0.30952380952380953
           ],
           [
            0.21693121693121692,
            0.07936507936507936,
            0.455026455026455,
            0.24867724867724866
           ],
           [
            0.1746031746031746,
            0.06878306878306878,
            0.4656084656084656,
            0.291005291005291
           ],
           [
            0.17195767195767195,
            0.047619047619047616,
            0.48677248677248675,
            0.29365079365079366
           ]
          ],
          [
           [
            0.031746031746031744,
            0.3148148148148148,
            0.23544973544973544,
            0.41798941798941797
           ],
           [
            0.031746031746031744,
            0.2671957671957672,
            0.2830687830687831,
            0.41798941798941797
           ],
           [
            0.03968253968253968,
            0.2804232804232804,
            0.2698412698412698,
            0.41005291005291006
           ],
           [
            0.026455026455026454,
            0.24603174603174602,
            0.30423280423280424,
            0.42328042328042326
           ],
           [
            0.04497354497354497,
            0.24603174603174602,
            0.30423280423280424,
            0.40476190476190477
           ],
           [
            0.026455026455026454,
            0.24074074074074073,
            0.30952380952380953,
            0.42328042328042326
           ],
           [
            0.04497354497354497,
            0.25132275132275134,
            0.29894179894179895,
            0.40476190476190477
           ],
           [
            0.05291005291005291,
            0.24867724867724866,
            0.30158730158730157,
            0.3968253968253968
           ],
           [
            0.047619047619047616,
            0.24074074074074073,
            0.30952380952380953,
            0.4021164021164021
           ],
           [
            0.05555555555555555,
            0.24074074074074073,
            0.30952380952380953,
            0.3941798941798942
           ],
           [
            0.05026455026455026,
            0.24867724867724866,
            0.30158730158730157,
            0.3994708994708995
           ],
           [
            0.037037037037037035,
            0.21957671957671956,
            0.3306878306878307,
            0.4126984126984127
           ],
           [
            0.06349206349206349,
            0.23015873015873015,
            0.3201058201058201,
            0.3862433862433862
           ],
           [
            0.05026455026455026,
            0.22486772486772486,
            0.3253968253968254,
            0.3994708994708995
           ],
           [
            0.06613756613756613,
            0.2037037037037037,
            0.34656084656084657,
            0.3835978835978836
           ],
           [
            0.08465608465608465,
            0.1931216931216931,
            0.35714285714285715,
            0.36507936507936506
           ],
           [
            0.10582010582010581,
            0.1984126984126984,
            0.35185185185185186,
            0.3439153439153439
           ],
           [
            0.06084656084656084,
            0.17989417989417988,
            0.37037037037037035,
            0.3888888888888889
           ],
           [
            0.06613756613756613,
            0.17989417989417988,
            0.37037037037037035,
            0.3835978835978836
           ],
           [
            0.1111111111111111,
            0.15873015873015872,
            0.3915343915343915,
            0.3386243386243386
           ],
           [
            0.0873015873015873,
            0.16137566137566137,
            0.3888888888888889,
            0.36243386243386244
           ],
           [
            0.1349206349206349,
            0.14285714285714285,
            0.4074074074074074,
            0.3148148148148148
           ],
           [
            0.08994708994708994,
            0.13756613756613756,
            0.4126984126984127,
            0.35978835978835977
           ],
           [
            0.1111111111111111,
            0.12698412698412698,
            0.42328042328042326,
            0.3386243386243386
           ],
           [
            0,
            0,
            0.5502645502645502,
            0.4497354497354497
           ],
           [
            0.13756613756613756,
            0.12698412698412698,
            0.42328042328042326,
            0.31216931216931215
           ],
           [
            0.12433862433862433,
            0.10846560846560846,
            0.4417989417989418,
            0.3253968253968254
           ],
           [
            0.13227513227513227,
            0.1111111111111111,
            0.43915343915343913,
            0.31746031746031744
           ],
           [
            0.16666666666666666,
            0.0873015873015873,
            0.46296296296296297,
            0.2830687830687831
           ],
           [
            0.12962962962962962,
            0.10052910052910052,
            0.4497354497354497,
            0.3201058201058201
           ],
           [
            0.16137566137566137,
            0.09259259259259259,
            0.4576719576719577,
            0.28835978835978837
           ],
           [
            0.18518518518518517,
            0.06349206349206349,
            0.48677248677248675,
            0.26455026455026454
           ],
           [
            0.164021164021164,
            0.07407407407407407,
            0.47619047619047616,
            0.2857142857142857
           ],
           [
            0.1746031746031746,
            0.06613756613756613,
            0.48412698412698413,
            0.2751322751322751
           ]
          ],
          [
           [
            0.03439153439153439,
            0.328042328042328,
            0.2328042328042328,
            0.40476190476190477
           ],
           [
            0.04497354497354497,
            0.291005291005291,
            0.2698412698412698,
            0.3941798941798942
           ],
           [
            0.0291005291005291,
            0.2804232804232804,
            0.2804232804232804,
            0.41005291005291006
           ],
           [
            0.03968253968253968,
            0.2698412698412698,
            0.291005291005291,
            0.3994708994708995
           ],
           [
            0.05555555555555555,
            0.2671957671957672,
            0.29365079365079366,
            0.3835978835978836
           ],
           [
            0.0291005291005291,
            0.25396825396825395,
            0.30687830687830686,
            0.41005291005291006
           ],
           [
            0.03968253968253968,
            0.2566137566137566,
            0.30423280423280424,
            0.3994708994708995
           ],
           [
            0.042328042328042326,
            0.24867724867724866,
            0.31216931216931215,
            0.3968253968253968
           ],
           [
            0.06349206349206349,
            0.2671957671957672,
            0.29365079365079366,
            0.37566137566137564
           ],
           [
            0.05291005291005291,
            0.24867724867724866,
            0.31216931216931215,
            0.3862433862433862
           ],
           [
            0.047619047619047616,
            0.2566137566137566,
            0.30423280423280424,
            0.3915343915343915
           ],
           [
            0.042328042328042326,
            0.23544973544973544,
            0.3253968253968254,
            0.3968253968253968
           ],
           [
            0.0582010582010582,
            0.23544973544973544,
            0.3253968253968254,
            0.38095238095238093
           ],
           [
            0.037037037037037035,
            0.2222222222222222,
            0.3386243386243386,
            0.4021164021164021
           ],
           [
            0.04497354497354497,
            0.1931216931216931,
            0.36772486772486773,
            0.3941798941798942
           ],
           [
            0.08465608465608465,
            0.2037037037037037,
            0.35714285714285715,
            0.3544973544973545
           ],
           [
            0.09788359788359788,
            0.20105820105820105,
            0.35978835978835977,
            0.3412698412698413
           ],
           [
            0.05291005291005291,
            0.18253968253968253,
            0.3783068783068783,
            0.3862433862433862
           ],
           [
            0.06613756613756613,
            0.19047619047619047,
            0.37037037037037035,
            0.373015873015873
           ],
           [
            0.1164021164021164,
            0.1746031746031746,
            0.3862433862433862,
            0.32275132275132273
           ],
           [
            0.08465608465608465,
            0.1693121693121693,
            0.3915343915343915,
            0.3544973544973545
           ],
           [
            0.1402116402116402,
            0.15873015873015872,
            0.4021164021164021,
            0.29894179894179895
           ],
           [
            0.08465608465608465,
            0.14285714285714285,
            0.41798941798941797,
            0.3544973544973545
           ],
           [
            0.09788359788359788,
            0.12433862433862433,
            0.4365079365079365,
            0.3412698412698413
           ],
           [
            0.12698412698412698,
            0.13756613756613756,
            0.42328042328042326,
            0.31216931216931215
           ],
           [
            0,
            0,
            0.5608465608465608,
            0.43915343915343913
           ],
           [
            0.12698412698412698,
            0.12169312169312169,
            0.43915343915343913,
            0.31216931216931215
           ],
           [
            0.1349206349206349,
            0.12433862433862433,
            0.4365079365079365,
            0.30423280423280424
           ],
           [
            0.19047619047619047,
            0.12169312169312169,
            0.43915343915343913,
            0.24867724867724866
           ],
           [
            0.1164021164021164,
            0.09788359788359788,
            0.46296296296296297,
            0.32275132275132273
           ],
           [
            0.1455026455026455,
            0.0873015873015873,
            0.47354497354497355,
            0.29365079365079366
           ],
           [
            0.20899470899470898,
            0.09788359788359788,
            0.46296296296296297,
            0.23015873015873015
           ],
           [
            0.15343915343915343,
            0.07407407407407407,
            0.48677248677248675,
            0.2857142857142857
           ],
           [
            0.18253968253968253,
            0.08465608465608465,
            0.47619047619047616,
            0.2566137566137566
           ]
          ],
          [
           [
            0.037037037037037035,
            0.335978835978836,
            0.23015873015873015,
            0.3968253968253968
           ],
           [
            0.037037037037037035,
            0.28835978835978837,
            0.2777777777777778,
            0.3968253968253968
           ],
           [
            0.026455026455026454,
            0.2830687830687831,
            0.2830687830687831,
            0.4074074074074074
           ],
           [
            0.03968253968253968,
            0.2751322751322751,
            0.291005291005291,
            0.3941798941798942
           ],
           [
            0.047619047619047616,
            0.26455026455026454,
            0.30158730158730157,
            0.3862433862433862
           ],
           [
            0.031746031746031744,
            0.2619047619047619,
            0.30423280423280424,
            0.4021164021164021
           ],
           [
            0.042328042328042326,
            0.26455026455026454,
            0.30158730158730157,
            0.3915343915343915
           ],
           [
            0.0582010582010582,
            0.2698412698412698,
            0.2962962962962963,
            0.37566137566137564
           ],
           [
            0.047619047619047616,
            0.2566137566137566,
            0.30952380952380953,
            0.3862433862433862
           ],
           [
            0.05291005291005291,
            0.25396825396825395,
            0.31216931216931215,
            0.38095238095238093
           ],
           [
            0.04497354497354497,
            0.25925925925925924,
            0.30687830687830686,
            0.3888888888888889
           ],
           [
            0.042328042328042326,
            0.24074074074074073,
            0.3253968253968254,
            0.3915343915343915
           ],
           [
            0.05555555555555555,
            0.23809523809523808,
            0.328042328042328,
            0.3783068783068783
           ],
           [
            0.05291005291005291,
            0.24338624338624337,
            0.32275132275132273,
            0.38095238095238093
           ],
           [
            0.05555555555555555,
            0.20899470899470898,
            0.35714285714285715,
            0.3783068783068783
           ],
           [
            0.08994708994708994,
            0.21428571428571427,
            0.35185185185185186,
            0.3439153439153439
           ],
           [
            0.1164021164021164,
            0.22486772486772486,
            0.3412698412698413,
            0.31746031746031744
           ],
           [
            0.05026455026455026,
            0.18518518518518517,
            0.38095238095238093,
            0.3835978835978836
           ],
           [
            0.07407407407407407,
            0.2037037037037037,
            0.36243386243386244,
            0.35978835978835977
           ],
           [
            0.1164021164021164,
            0.17989417989417988,
            0.3862433862433862,
            0.31746031746031744
           ],
           [
            0.07407407407407407,
            0.164021164021164,
            0.4021164021164021,
            0.35978835978835977
           ],
           [
            0.12962962962962962,
            0.15343915343915343,
            0.4126984126984127,
            0.30423280423280424
           ],
           [
            0.07936507936507936,
            0.14285714285714285,
            0.42328042328042326,
            0.3544973544973545
           ],
           [
            0.10052910052910052,
            0.13227513227513227,
            0.43386243386243384,
            0.3333333333333333
           ],
           [
            0.10846560846560846,
            0.12433862433862433,
            0.4417989417989418,
            0.3253968253968254
           ],
           [
            0.12169312169312169,
            0.12698412698412698,
            0.43915343915343913,
            0.31216931216931215
           ],
           [
            0,
            0,
            0.5661375661375662,
            0.43386243386243384
           ],
           [
            0.11904761904761904,
            0.11375661375661375,
            0.4523809523809524,
            0.3148148148148148
           ],
           [
            0.18518518518518517,
            0.12169312169312169,
            0.4444444444444444,
            0.24867724867724866
           ],
           [
            0.10317460317460317,
            0.08994708994708994,
            0.47619047619047616,
            0.3306878306878307
           ],
           [
            0.1455026455026455,
            0.09259259259259259,
            0.47354497354497355,
            0.28835978835978837
           ],
           [
            0.19047619047619047,
            0.08465608465608465,
            0.48148148148148145,
            0.24338624338624337
           ],
           [
            0.15608465608465608,
            0.082010582010582,
            0.48412698412698413,
            0.2777777777777778
           ],
           [
            0.164021164021164,
            0.07142857142857142,
            0.4947089947089947,
            0.2698412698412698
           ]
          ],
          [
           [
            0.026455026455026454,
            0.3306878306878307,
            0.24074074074074073,
            0.4021164021164021
           ],
           [
            0.026455026455026454,
            0.2830687830687831,
            0.28835978835978837,
            0.4021164021164021
           ],
           [
            0.026455026455026454,
            0.28835978835978837,
            0.2830687830687831,
            0.4021164021164021
           ],
           [
            0.03439153439153439,
            0.2751322751322751,
            0.2962962962962963,
            0.3941798941798942
           ],
           [
            0.03968253968253968,
            0.2619047619047619,
            0.30952380952380953,
            0.3888888888888889
           ],
           [
            0.0291005291005291,
            0.26455026455026454,
            0.30687830687830686,
            0.3994708994708995
           ],
           [
            0.047619047619047616,
            0.2751322751322751,
            0.2962962962962963,
            0.38095238095238093
           ],
           [
            0.04497354497354497,
            0.2619047619047619,
            0.30952380952380953,
            0.3835978835978836
           ],
           [
            0.047619047619047616,
            0.2619047619047619,
            0.30952380952380953,
            0.38095238095238093
           ],
           [
            0.042328042328042326,
            0.24867724867724866,
            0.32275132275132273,
            0.3862433862433862
           ],
           [
            0.03968253968253968,
            0.25925925925925924,
            0.31216931216931215,
            0.3888888888888889
           ],
           [
            0.047619047619047616,
            0.25132275132275134,
            0.3201058201058201,
            0.38095238095238093
           ],
           [
            0.042328042328042326,
            0.23015873015873015,
            0.3412698412698413,
            0.3862433862433862
           ],
           [
            0.04497354497354497,
            0.24074074074074073,
            0.3306878306878307,
            0.3835978835978836
           ],
           [
            0.047619047619047616,
            0.20634920634920634,
            0.36507936507936506,
            0.38095238095238093
           ],
           [
            0.0873015873015873,
            0.21693121693121692,
            0.3544973544973545,
            0.3412698412698413
           ],
           [
            0.09788359788359788,
            0.21164021164021163,
            0.35978835978835977,
            0.3306878306878307
           ],
           [
            0.07142857142857142,
            0.21164021164021163,
            0.35978835978835977,
            0.35714285714285715
           ],
           [
            0.07671957671957672,
            0.21164021164021163,
            0.35978835978835977,
            0.35185185185185186
           ],
           [
            0.12169312169312169,
            0.19047619047619047,
            0.38095238095238093,
            0.30687830687830686
           ],
           [
            0.0873015873015873,
            0.18253968253968253,
            0.3888888888888889,
            0.3412698412698413
           ],
           [
            0.1349206349206349,
            0.164021164021164,
            0.4074074074074074,
            0.29365079365079366
           ],
           [
            0.06084656084656084,
            0.12962962962962962,
            0.4417989417989418,
            0.36772486772486773
           ],
           [
            0.09259259259259259,
            0.12962962962962962,
            0.4417989417989418,
            0.335978835978836
           ],
           [
            0.1111111111111111,
            0.13227513227513227,
            0.43915343915343913,
            0.31746031746031744
           ],
           [
            0.12433862433862433,
            0.1349206349206349,
            0.4365079365079365,
            0.30423280423280424
           ],
           [
            0.11375661375661375,
            0.11904761904761904,
            0.4523809523809524,
            0.3148148148148148
           ],
           [
            0,
            0,
            0.5714285714285714,
            0.42857142857142855
           ],
           [
            0.1746031746031746,
            0.1164021164021164,
            0.455026455026455,
            0.25396825396825395
           ],
           [
            0.10052910052910052,
            0.09259259259259259,
            0.47883597883597884,
            0.328042328042328
           ],
           [
            0.12433862433862433,
            0.07671957671957672,
            0.4947089947089947,
            0.30423280423280424
           ],
           [
            0.21164021164021163,
            0.1111111111111111,
            0.4603174603174603,
            0.21693121693121692
           ],
           [
            0.12433862433862433,
            0.05555555555555555,
            0.5158730158730159,
            0.30423280423280424
           ],
           [
            0.14814814814814814,
            0.06084656084656084,
            0.5105820105820106,
            0.2804232804232804
           ]
          ],
          [
           [
            0.018518518518518517,
            0.38095238095238093,
            0.24867724867724866,
            0.35185185185185186
           ],
           [
            0.023809523809523808,
            0.3386243386243386,
            0.291005291005291,
            0.34656084656084657
           ],
           [
            0.021164021164021163,
            0.3412698412698413,
            0.28835978835978837,
            0.3492063492063492
           ],
           [
            0.031746031746031744,
            0.3306878306878307,
            0.29894179894179895,
            0.3386243386243386
           ],
           [
            0.047619047619047616,
            0.328042328042328,
            0.30158730158730157,
            0.32275132275132273
           ],
           [
            0.021164021164021163,
            0.3148148148148148,
            0.3148148148148148,
            0.3492063492063492
           ],
           [
            0.0291005291005291,
            0.3148148148148148,
            0.3148148148148148,
            0.3412698412698413
           ],
           [
            0.026455026455026454,
            0.30158730158730157,
            0.328042328042328,
            0.3439153439153439
           ],
           [
            0.0291005291005291,
            0.30158730158730157,
            0.328042328042328,
            0.3412698412698413
           ],
           [
            0.031746031746031744,
            0.2962962962962963,
            0.3333333333333333,
            0.3386243386243386
           ],
           [
            0.021164021164021163,
            0.29894179894179895,
            0.3306878306878307,
            0.3492063492063492
           ],
           [
            0.0582010582010582,
            0.3201058201058201,
            0.30952380952380953,
            0.31216931216931215
           ],
           [
            0.023809523809523808,
            0.2698412698412698,
            0.35978835978835977,
            0.34656084656084657
           ],
           [
            0.026455026455026454,
            0.2804232804232804,
            0.3492063492063492,
            0.3439153439153439
           ],
           [
            0.06878306878306878,
            0.2857142857142857,
            0.3439153439153439,
            0.30158730158730157
           ],
           [
            0.06084656084656084,
            0.24867724867724866,
            0.38095238095238093,
            0.30952380952380953
           ],
           [
            0.07936507936507936,
            0.25132275132275134,
            0.3783068783068783,
            0.291005291005291
           ],
           [
            0.05555555555555555,
            0.25396825396825395,
            0.37566137566137564,
            0.3148148148148148
           ],
           [
            0.06349206349206349,
            0.2566137566137566,
            0.373015873015873,
            0.30687830687830686
           ],
           [
            0.08994708994708994,
            0.21693121693121692,
            0.4126984126984127,
            0.2804232804232804
           ],
           [
            0.08994708994708994,
            0.24338624338624337,
            0.3862433862433862,
            0.2804232804232804
           ],
           [
            0.09523809523809523,
            0.18253968253968253,
            0.4470899470899471,
            0.2751322751322751
           ],
           [
            0.07671957671957672,
            0.2037037037037037,
            0.42592592592592593,
            0.29365079365079366
           ],
           [
            0.1164021164021164,
            0.21164021164021163,
            0.41798941798941797,
            0.25396825396825395
           ],
           [
            0.0873015873015873,
            0.16666666666666666,
            0.46296296296296297,
            0.2830687830687831
           ],
           [
            0.12169312169312169,
            0.19047619047619047,
            0.43915343915343913,
            0.24867724867724866
           ],
           [
            0.12169312169312169,
            0.18518518518518517,
            0.4444444444444444,
            0.24867724867724866
           ],
           [
            0.1164021164021164,
            0.1746031746031746,
            0.455026455026455,
            0.25396825396825395
           ],
           [
            0,
            0,
            0.6296296296296297,
            0.37037037037037035
           ],
           [
            0.1111111111111111,
            0.16137566137566137,
            0.46825396825396826,
            0.25925925925925924
           ],
           [
            0.14814814814814814,
            0.15873015873015872,
            0.4708994708994709,
            0.2222222222222222
           ],
           [
            0.17195767195767195,
            0.12962962962962962,
            0.5,
            0.1984126984126984
           ],
           [
            0.15608465608465608,
            0.1455026455026455,
            0.48412698412698413,
            0.21428571428571427
           ],
           [
            0.1455026455026455,
            0.1164021164021164,
            0.5132275132275133,
            0.22486772486772486
           ]
          ],
          [
           [
            0.023809523809523808,
            0.335978835978836,
            0.24338624338624337,
            0.3968253968253968
           ],
           [
            0.021164021164021163,
            0.2857142857142857,
            0.29365079365079366,
            0.3994708994708995
           ],
           [
            0.021164021164021163,
            0.291005291005291,
            0.28835978835978837,
            0.3994708994708995
           ],
           [
            0.03439153439153439,
            0.2830687830687831,
            0.2962962962962963,
            0.3862433862433862
           ],
           [
            0.04497354497354497,
            0.2751322751322751,
            0.30423280423280424,
            0.37566137566137564
           ],
           [
            0.023809523809523808,
            0.2671957671957672,
            0.31216931216931215,
            0.3968253968253968
           ],
           [
            0.03968253968253968,
            0.2751322751322751,
            0.30423280423280424,
            0.38095238095238093
           ],
           [
            0.03968253968253968,
            0.26455026455026454,
            0.3148148148148148,
            0.38095238095238093
           ],
           [
            0.047619047619047616,
            0.2698412698412698,
            0.30952380952380953,
            0.373015873015873
           ],
           [
            0.047619047619047616,
            0.2619047619047619,
            0.31746031746031744,
            0.373015873015873
           ],
           [
            0.037037037037037035,
            0.26455026455026454,
            0.3148148148148148,
            0.3835978835978836
           ],
           [
            0.03968253968253968,
            0.25132275132275134,
            0.328042328042328,
            0.38095238095238093
           ],
           [
            0.042328042328042326,
            0.23809523809523808,
            0.3412698412698413,
            0.3783068783068783
           ],
           [
            0.042328042328042326,
            0.24603174603174602,
            0.3333333333333333,
            0.3783068783068783
           ],
           [
            0.042328042328042326,
            0.20899470899470898,
            0.37037037037037035,
            0.3783068783068783
           ],
           [
            0.07671957671957672,
            0.21428571428571427,
            0.36507936507936506,
            0.3439153439153439
           ],
           [
            0.08994708994708994,
            0.21164021164021163,
            0.36772486772486773,
            0.3306878306878307
           ],
           [
            0.05026455026455026,
            0.1984126984126984,
            0.38095238095238093,
            0.37037037037037035
           ],
           [
            0.06349206349206349,
            0.20634920634920634,
            0.373015873015873,
            0.35714285714285715
           ],
           [
            0.10846560846560846,
            0.18518518518518517,
            0.3941798941798942,
            0.31216931216931215
           ],
           [
            0.06613756613756613,
            0.1693121693121693,
            0.41005291005291006,
            0.3544973544973545
           ],
           [
            0.10052910052910052,
            0.13756613756613756,
            0.4417989417989418,
            0.3201058201058201
           ],
           [
            0.05555555555555555,
            0.13227513227513227,
            0.4470899470899471,
            0.36507936507936506
           ],
           [
            0.07142857142857142,
            0.1164021164021164,
            0.46296296296296297,
            0.3492063492063492
           ],
           [
            0.10052910052910052,
            0.12962962962962962,
            0.4497354497354497,
            0.3201058201058201
           ],
           [
            0.09788359788359788,
            0.1164021164021164,
            0.46296296296296297,
            0.32275132275132273
           ],
           [
            0.08994708994708994,
            0.10317460317460317,
            0.47619047619047616,
            0.3306878306878307
           ],
           [
            0.09259259259259259,
            0.10052910052910052,
            0.47883597883597884,
            0.328042328042328
           ],
           [
            0.16137566137566137,
            0.1111111111111111,
            0.46825396825396826,
            0.25925925925925924
           ],
           [
            0,
            0,
            0.5793650793650794,
            0.42063492063492064
           ],
           [
            0.11375661375661375,
            0.07407407407407407,
            0.5052910052910053,
            0.30687830687830686
           ],
           [
            0.17989417989417988,
            0.0873015873015873,
            0.49206349206349204,
            0.24074074074074073
           ],
           [
            0.1402116402116402,
            0.07936507936507936,
            0.5,
            0.2804232804232804
           ],
           [
            0.1349206349206349,
            0.05555555555555555,
            0.5238095238095238,
            0.2857142857142857
           ]
          ],
          [
           [
            0.023809523809523808,
            0.37566137566137564,
            0.24338624338624337,
            0.35714285714285715
           ],
           [
            0.026455026455026454,
            0.3306878306878307,
            0.28835978835978837,
            0.3544973544973545
           ],
           [
            0.021164021164021163,
            0.3306878306878307,
            0.28835978835978837,
            0.35978835978835977
           ],
           [
            0.031746031746031744,
            0.3201058201058201,
            0.29894179894179895,
            0.3492063492063492
           ],
           [
            0.0291005291005291,
            0.29894179894179895,
            0.3201058201058201,
            0.35185185185185186
           ],
           [
            0.031746031746031744,
            0.3148148148148148,
            0.30423280423280424,
            0.3492063492063492
           ],
           [
            0.037037037037037035,
            0.31216931216931215,
            0.30687830687830686,
            0.3439153439153439
           ],
           [
            0.031746031746031744,
            0.2962962962962963,
            0.32275132275132273,
            0.3492063492063492
           ],
           [
            0.047619047619047616,
            0.30952380952380953,
            0.30952380952380953,
            0.3333333333333333
           ],
           [
            0.03968253968253968,
            0.29365079365079366,
            0.3253968253968254,
            0.3412698412698413
           ],
           [
            0.042328042328042326,
            0.30952380952380953,
            0.30952380952380953,
            0.3386243386243386
           ],
           [
            0.031746031746031744,
            0.2830687830687831,
            0.335978835978836,
            0.3492063492063492
           ],
           [
            0.05555555555555555,
            0.291005291005291,
            0.328042328042328,
            0.3253968253968254
           ],
           [
            0.031746031746031744,
            0.2751322751322751,
            0.3439153439153439,
            0.3492063492063492
           ],
           [
            0.03439153439153439,
            0.24074074074074073,
            0.3783068783068783,
            0.34656084656084657
           ],
           [
            0.07936507936507936,
            0.2566137566137566,
            0.36243386243386244,
            0.30158730158730157
           ],
           [
            0.082010582010582,
            0.24338624338624337,
            0.37566137566137564,
            0.29894179894179895
           ],
           [
            0.05026455026455026,
            0.23809523809523808,
            0.38095238095238093,
            0.3306878306878307
           ],
           [
            0.05555555555555555,
            0.23809523809523808,
            0.38095238095238093,
            0.3253968253968254
           ],
           [
            0.10052910052910052,
            0.21693121693121692,
            0.4021164021164021,
            0.2804232804232804
           ],
           [
            0.05555555555555555,
            0.1984126984126984,
            0.42063492063492064,
            0.3253968253968254
           ],
           [
            0.09259259259259259,
            0.1693121693121693,
            0.4497354497354497,
            0.28835978835978837
           ],
           [
            0.0582010582010582,
            0.1746031746031746,
            0.4444444444444444,
            0.32275132275132273
           ],
           [
            0.07142857142857142,
            0.15608465608465608,
            0.46296296296296297,
            0.30952380952380953
           ],
           [
            0.09259259259259259,
            0.16137566137566137,
            0.4576719576719577,
            0.28835978835978837
           ],
           [
            0.0873015873015873,
            0.1455026455026455,
            0.47354497354497355,
            0.29365079365079366
           ],
           [
            0.09259259259259259,
            0.1455026455026455,
            0.47354497354497355,
            0.28835978835978837
           ],
           [
            0.07671957671957672,
            0.12433862433862433,
            0.4947089947089947,
            0.30423280423280424
           ],
           [
            0.15873015873015872,
            0.14814814814814814,
            0.4708994708994709,
            0.2222222222222222
           ],
           [
            0.07407407407407407,
            0.11375661375661375,
            0.5052910052910053,
            0.30687830687830686
           ],
           [
            0,
            0,
            0.6190476190476191,
            0.38095238095238093
           ],
           [
            0.17195767195767195,
            0.11904761904761904,
            0.5,
            0.20899470899470898
           ],
           [
            0.06613756613756613,
            0.04497354497354497,
            0.5740740740740741,
            0.3148148148148148
           ],
           [
            0.11904761904761904,
            0.07936507936507936,
            0.5396825396825397,
            0.2619047619047619
           ]
          ],
          [
           [
            0.018518518518518517,
            0.42328042328042326,
            0.24867724867724866,
            0.30952380952380953
           ],
           [
            0.021164021164021163,
            0.3783068783068783,
            0.29365079365079366,
            0.30687830687830686
           ],
           [
            0.013227513227513227,
            0.37566137566137564,
            0.2962962962962963,
            0.3148148148148148
           ],
           [
            0.015873015873015872,
            0.35714285714285715,
            0.3148148148148148,
            0.31216931216931215
           ],
           [
            0.03968253968253968,
            0.36243386243386244,
            0.30952380952380953,
            0.28835978835978837
           ],
           [
            0.023809523809523808,
            0.35978835978835977,
            0.31216931216931215,
            0.30423280423280424
           ],
           [
            0.023809523809523808,
            0.35185185185185186,
            0.3201058201058201,
            0.30423280423280424
           ],
           [
            0.037037037037037035,
            0.3544973544973545,
            0.31746031746031744,
            0.291005291005291
           ],
           [
            0.0291005291005291,
            0.3439153439153439,
            0.328042328042328,
            0.29894179894179895
           ],
           [
            0.037037037037037035,
            0.3439153439153439,
            0.328042328042328,
            0.291005291005291
           ],
           [
            0.026455026455026454,
            0.34656084656084657,
            0.3253968253968254,
            0.30158730158730157
           ],
           [
            0.031746031746031744,
            0.335978835978836,
            0.335978835978836,
            0.2962962962962963
           ],
           [
            0.037037037037037035,
            0.3253968253968254,
            0.34656084656084657,
            0.291005291005291
           ],
           [
            0.03439153439153439,
            0.3306878306878307,
            0.3412698412698413,
            0.29365079365079366
           ],
           [
            0.06084656084656084,
            0.3201058201058201,
            0.35185185185185186,
            0.2671957671957672
           ],
           [
            0.06613756613756613,
            0.2962962962962963,
            0.37566137566137564,
            0.2619047619047619
           ],
           [
            0.07407407407407407,
            0.28835978835978837,
            0.3835978835978836,
            0.25396825396825395
           ],
           [
            0.04497354497354497,
            0.2857142857142857,
            0.3862433862433862,
            0.2830687830687831
           ],
           [
            0.03968253968253968,
            0.2751322751322751,
            0.3968253968253968,
            0.28835978835978837
           ],
           [
            0.0873015873015873,
            0.2566137566137566,
            0.41534391534391535,
            0.24074074074074073
           ],
           [
            0.06349206349206349,
            0.25925925925925924,
            0.4126984126984127,
            0.26455026455026454
           ],
           [
            0.08994708994708994,
            0.21957671957671956,
            0.4523809523809524,
            0.23809523809523808
           ],
           [
            0.07142857142857142,
            0.24074074074074073,
            0.4312169312169312,
            0.2566137566137566
           ],
           [
            0.07936507936507936,
            0.21693121693121692,
            0.455026455026455,
            0.24867724867724866
           ],
           [
            0.06349206349206349,
            0.18518518518518517,
            0.48677248677248675,
            0.26455026455026454
           ],
           [
            0.09788359788359788,
            0.20899470899470898,
            0.46296296296296297,
            0.23015873015873015
           ],
           [
            0.08465608465608465,
            0.19047619047619047,
            0.48148148148148145,
            0.24338624338624337
           ],
           [
            0.1111111111111111,
            0.21164021164021163,
            0.4603174603174603,
            0.21693121693121692
           ],
           [
            0.12962962962962962,
            0.17195767195767195,
            0.5,
            0.1984126984126984
           ],
           [
            0.0873015873015873,
            0.17989417989417988,
            0.49206349206349204,
            0.24074074074074073
           ],
           [
            0.11904761904761904,
            0.17195767195767195,
            0.5,
            0.20899470899470898
           ],
           [
            0,
            0,
            0.671957671957672,
            0.328042328042328
           ],
           [
            0.12962962962962962,
            0.16137566137566137,
            0.5105820105820106,
            0.1984126984126984
           ],
           [
            0.1349206349206349,
            0.14814814814814814,
            0.5238095238095238,
            0.1931216931216931
           ]
          ],
          [
           [
            0.018518518518518517,
            0.3915343915343915,
            0.24867724867724866,
            0.3412698412698413
           ],
           [
            0.026455026455026454,
            0.35185185185185186,
            0.28835978835978837,
            0.3333333333333333
           ],
           [
            0.018518518518518517,
            0.3492063492063492,
            0.291005291005291,
            0.3412698412698413
           ],
           [
            0.0291005291005291,
            0.3386243386243386,
            0.30158730158730157,
            0.3306878306878307
           ],
           [
            0.026455026455026454,
            0.31746031746031744,
            0.32275132275132273,
            0.3333333333333333
           ],
           [
            0.021164021164021163,
            0.3253968253968254,
            0.3148148148148148,
            0.3386243386243386
           ],
           [
            0.031746031746031744,
            0.328042328042328,
            0.31216931216931215,
            0.328042328042328
           ],
           [
            0.03439153439153439,
            0.3201058201058201,
            0.3201058201058201,
            0.3253968253968254
           ],
           [
            0.042328042328042326,
            0.3253968253968254,
            0.3148148148148148,
            0.31746031746031744
           ],
           [
            0.026455026455026454,
            0.30158730158730157,
            0.3386243386243386,
            0.3333333333333333
           ],
           [
            0.03439153439153439,
            0.32275132275132273,
            0.31746031746031744,
            0.3253968253968254
           ],
           [
            0.026455026455026454,
            0.29894179894179895,
            0.3412698412698413,
            0.3333333333333333
           ],
           [
            0.042328042328042326,
            0.29894179894179895,
            0.3412698412698413,
            0.31746031746031744
           ],
           [
            0.031746031746031744,
            0.2962962962962963,
            0.3439153439153439,
            0.328042328042328
           ],
           [
            0.031746031746031744,
            0.25925925925925924,
            0.38095238095238093,
            0.328042328042328
           ],
           [
            0.07142857142857142,
            0.2698412698412698,
            0.37037037037037035,
            0.28835978835978837
           ],
           [
            0.082010582010582,
            0.26455026455026454,
            0.37566137566137564,
            0.2777777777777778
           ],
           [
            0.042328042328042326,
            0.25132275132275134,
            0.3888888888888889,
            0.31746031746031744
           ],
           [
            0.047619047619047616,
            0.25132275132275134,
            0.3888888888888889,
            0.31216931216931215
           ],
           [
            0.09259259259259259,
            0.23015873015873015,
            0.41005291005291006,
            0.2671957671957672
           ],
           [
            0.0582010582010582,
            0.2222222222222222,
            0.41798941798941797,
            0.30158730158730157
           ],
           [
            0.08994708994708994,
            0.18783068783068782,
            0.4523809523809524,
            0.2698412698412698
           ],
           [
            0.047619047619047616,
            0.18518518518518517,
            0.455026455026455,
            0.31216931216931215
           ],
           [
            0.06878306878306878,
            0.1746031746031746,
            0.4656084656084656,
            0.291005291005291
           ],
           [
            0.07407407407407407,
            0.164021164021164,
            0.47619047619047616,
            0.2857142857142857
           ],
           [
            0.07407407407407407,
            0.15343915343915343,
            0.48677248677248675,
            0.2857142857142857
           ],
           [
            0.082010582010582,
            0.15608465608465608,
            0.48412698412698413,
            0.2777777777777778
           ],
           [
            0.05555555555555555,
            0.12433862433862433,
            0.5158730158730159,
            0.30423280423280424
           ],
           [
            0.1455026455026455,
            0.15608465608465608,
            0.48412698412698413,
            0.21428571428571427
           ],
           [
            0.07936507936507936,
            0.1402116402116402,
            0.5,
            0.2804232804232804
           ],
           [
            0.04497354497354497,
            0.06613756613756613,
            0.5740740740740741,
            0.3148148148148148
           ],
           [
            0.16137566137566137,
            0.12962962962962962,
            0.5105820105820106,
            0.1984126984126984
           ],
           [
            0,
            0,
            0.6402116402116402,
            0.35978835978835977
           ],
           [
            0.11904761904761904,
            0.10052910052910052,
            0.5396825396825397,
            0.24074074074074073
           ]
          ],
          [
           [
            0.026455026455026454,
            0.41798941798941797,
            0.24074074074074073,
            0.3148148148148148
           ],
           [
            0.018518518518518517,
            0.36243386243386244,
            0.2962962962962963,
            0.32275132275132273
           ],
           [
            0.021164021164021163,
            0.37037037037037035,
            0.28835978835978837,
            0.3201058201058201
           ],
           [
            0.031746031746031744,
            0.35978835978835977,
            0.29894179894179895,
            0.30952380952380953
           ],
           [
            0.03968253968253968,
            0.3492063492063492,
            0.30952380952380953,
            0.30158730158730157
           ],
           [
            0.026455026455026454,
            0.3492063492063492,
            0.30952380952380953,
            0.3148148148148148
           ],
           [
            0.03439153439153439,
            0.3492063492063492,
            0.30952380952380953,
            0.30687830687830686
           ],
           [
            0.031746031746031744,
            0.335978835978836,
            0.32275132275132273,
            0.30952380952380953
           ],
           [
            0.031746031746031744,
            0.3333333333333333,
            0.3253968253968254,
            0.30952380952380953
           ],
           [
            0.03439153439153439,
            0.328042328042328,
            0.3306878306878307,
            0.30687830687830686
           ],
           [
            0.03439153439153439,
            0.3412698412698413,
            0.31746031746031744,
            0.30687830687830686
           ],
           [
            0.031746031746031744,
            0.32275132275132273,
            0.335978835978836,
            0.30952380952380953
           ],
           [
            0.026455026455026454,
            0.30158730158730157,
            0.35714285714285715,
            0.3148148148148148
           ],
           [
            0.03439153439153439,
            0.31746031746031744,
            0.3412698412698413,
            0.30687830687830686
           ],
           [
            0.031746031746031744,
            0.2777777777777778,
            0.38095238095238093,
            0.30952380952380953
           ],
           [
            0.06878306878306878,
            0.2857142857142857,
            0.373015873015873,
            0.2724867724867725
           ],
           [
            0.08465608465608465,
            0.2857142857142857,
            0.373015873015873,
            0.2566137566137566
           ],
           [
            0.03968253968253968,
            0.2671957671957672,
            0.3915343915343915,
            0.30158730158730157
           ],
           [
            0.03439153439153439,
            0.2566137566137566,
            0.4021164021164021,
            0.30687830687830686
           ],
           [
            0.0873015873015873,
            0.24338624338624337,
            0.41534391534391535,
            0.25396825396825395
           ],
           [
            0.05291005291005291,
            0.23544973544973544,
            0.42328042328042326,
            0.28835978835978837
           ],
           [
            0.09259259259259259,
            0.20899470899470898,
            0.4497354497354497,
            0.24867724867724866
           ],
           [
            0.047619047619047616,
            0.2037037037037037,
            0.455026455026455,
            0.29365079365079366
           ],
           [
            0.047619047619047616,
            0.17195767195767195,
            0.48677248677248675,
            0.29365079365079366
           ],
           [
            0.06613756613756613,
            0.1746031746031746,
            0.48412698412698413,
            0.2751322751322751
           ],
           [
            0.08465608465608465,
            0.18253968253968253,
            0.47619047619047616,
            0.2566137566137566
           ],
           [
            0.07142857142857142,
            0.164021164021164,
            0.4947089947089947,
            0.2698412698412698
           ],
           [
            0.06084656084656084,
            0.14814814814814814,
            0.5105820105820106,
            0.2804232804232804
           ],
           [
            0.1164021164021164,
            0.1455026455026455,
            0.5132275132275133,
            0.22486772486772486
           ],
           [
            0.05555555555555555,
            0.1349206349206349,
            0.5238095238095238,
            0.2857142857142857
           ],
           [
            0.07936507936507936,
            0.11904761904761904,
            0.5396825396825397,
            0.2619047619047619
           ],
           [
            0.14814814814814814,
            0.1349206349206349,
            0.5238095238095238,
            0.1931216931216931
           ],
           [
            0.10052910052910052,
            0.11904761904761904,
            0.5396825396825397,
            0.24074074074074073
           ],
           [
            0,
            0,
            0.6587301587301587,
            0.3412698412698413
           ]
          ]
         ],
         "hovertemplate": "A Wins: %{customdata[0]:.3f}<br>B Wins: %{customdata[1]:.3f}<br>Neither: %{customdata[2]:.3f}<br>Both: %{customdata[3]:.3f}",
         "name": "0",
         "texttemplate": "%{z:.2f}",
         "type": "heatmap",
         "x": [
          "gpt-4-1106-preview",
          "opencodeinterpreter-ds-33b",
          "meta-llama-3-70b-instruct",
          "white-rabbit-neo-33b-v1",
          "bigcode--starcoder2-15b-instruct-v0.1",
          "opencodeinterpreter-ds-6.7b",
          "deepseek-coder-6.7b-instruct",
          "HuggingFaceH4--starchat2-15b-v0.1",
          "mixtral-8x22b-instruct-v0.1",
          "CohereForAI--c4ai-command-r-plus",
          "xwincoder-34b",
          "starcoder2-15b-oci",
          "Qwen--Qwen1.5-72B-Chat",
          "speechless-starcoder2-15b",
          "deepseek-coder-6.7b-base",
          "databricks--dbrx-instruct",
          "microsoft--Phi-3-mini-4k-instruct",
          "codegemma-7b-it",
          "speechless-starcoder2-7b",
          "mixtral-8x7b-instruct",
          "codegemma-7b",
          "open-hermes-2.5-code-290k-13b",
          "octocoder",
          "codegemma-2b",
          "gemma-1.1-7b-it",
          "starcoder2-3b",
          "gemma-7b",
          "codegen-6b",
          "mistralai--Mistral-7B-Instruct-v0.2",
          "mistral-7b",
          "codet5p-2b",
          "gemma-7b-it",
          "codegen-2b",
          "gemma-2b"
         ],
         "xaxis": "x",
         "y": [
          "gpt-4-1106-preview",
          "opencodeinterpreter-ds-33b",
          "meta-llama-3-70b-instruct",
          "white-rabbit-neo-33b-v1",
          "bigcode--starcoder2-15b-instruct-v0.1",
          "opencodeinterpreter-ds-6.7b",
          "deepseek-coder-6.7b-instruct",
          "HuggingFaceH4--starchat2-15b-v0.1",
          "mixtral-8x22b-instruct-v0.1",
          "CohereForAI--c4ai-command-r-plus",
          "xwincoder-34b",
          "starcoder2-15b-oci",
          "Qwen--Qwen1.5-72B-Chat",
          "speechless-starcoder2-15b",
          "deepseek-coder-6.7b-base",
          "databricks--dbrx-instruct",
          "microsoft--Phi-3-mini-4k-instruct",
          "codegemma-7b-it",
          "speechless-starcoder2-7b",
          "mixtral-8x7b-instruct",
          "codegemma-7b",
          "open-hermes-2.5-code-290k-13b",
          "octocoder",
          "codegemma-2b",
          "gemma-1.1-7b-it",
          "starcoder2-3b",
          "gemma-7b",
          "codegen-6b",
          "mistralai--Mistral-7B-Instruct-v0.2",
          "mistral-7b",
          "codet5p-2b",
          "gemma-7b-it",
          "codegen-2b",
          "gemma-2b"
         ],
         "yaxis": "y",
         "z": [
          [
           0,
           0.12169312169312169,
           0.10317460317460317,
           0.13227513227513227,
           0.1455026455026455,
           0.12962962962962962,
           0.1402116402116402,
           0.1402116402116402,
           0.1455026455026455,
           0.15343915343915343,
           0.14285714285714285,
           0.1693121693121693,
           0.17989417989417988,
           0.16137566137566137,
           0.2037037037037037,
           0.21693121693121692,
           0.23544973544973544,
           0.21164021164021163,
           0.21164021164021163,
           0.2777777777777778,
           0.25396825396825395,
           0.30952380952380953,
           0.2751322751322751,
           0.31216931216931215,
           0.3148148148148148,
           0.328042328042328,
           0.335978835978836,
           0.3306878306878307,
           0.38095238095238093,
           0.335978835978836,
           0.37566137566137564,
           0.42328042328042326,
           0.3915343915343915,
           0.41798941798941797
          ],
          [
           0.07407407407407407,
           0,
           0.07936507936507936,
           0.07936507936507936,
           0.1111111111111111,
           0.09523809523809523,
           0.10052910052910052,
           0.1111111111111111,
           0.11375661375661375,
           0.12169312169312169,
           0.10317460317460317,
           0.11904761904761904,
           0.1164021164021164,
           0.11904761904761904,
           0.14814814814814814,
           0.18518518518518517,
           0.2037037037037037,
           0.1746031746031746,
           0.15873015873015872,
           0.2328042328042328,
           0.21693121693121692,
           0.2566137566137566,
           0.21957671957671956,
           0.25925925925925924,
           0.2671957671957672,
           0.291005291005291,
           0.28835978835978837,
           0.2830687830687831,
           0.3386243386243386,
           0.2857142857142857,
           0.3306878306878307,
           0.3783068783068783,
           0.35185185185185186,
           0.36243386243386244
          ],
          [
           0.06084656084656084,
           0.08465608465608465,
           0,
           0.08994708994708994,
           0.10582010582010581,
           0.09259259259259259,
           0.08994708994708994,
           0.09523809523809523,
           0.10317460317460317,
           0.10846560846560846,
           0.09523809523809523,
           0.11375661375661375,
           0.1164021164021164,
           0.10846560846560846,
           0.1455026455026455,
           0.18518518518518517,
           0.21164021164021163,
           0.15079365079365079,
           0.15873015873015872,
           0.23809523809523808,
           0.21164021164021163,
           0.2777777777777778,
           0.2328042328042328,
           0.25396825396825395,
           0.2804232804232804,
           0.2804232804232804,
           0.2830687830687831,
           0.28835978835978837,
           0.3412698412698413,
           0.291005291005291,
           0.3306878306878307,
           0.37566137566137564,
           0.3492063492063492,
           0.37037037037037035
          ],
          [
           0.06878306878306878,
           0.06349206349206349,
           0.06878306878306878,
           0,
           0.10052910052910052,
           0.082010582010582,
           0.10317460317460317,
           0.10052910052910052,
           0.09259259259259259,
           0.12962962962962962,
           0.08994708994708994,
           0.10582010582010581,
           0.11375661375661375,
           0.10317460317460317,
           0.1455026455026455,
           0.1746031746031746,
           0.19047619047619047,
           0.164021164021164,
           0.15608465608465608,
           0.2275132275132275,
           0.20105820105820105,
           0.2619047619047619,
           0.21693121693121692,
           0.24603174603174602,
           0.24603174603174602,
           0.2698412698412698,
           0.2751322751322751,
           0.2751322751322751,
           0.3306878306878307,
           0.2830687830687831,
           0.3201058201058201,
           0.35714285714285715,
           0.3386243386243386,
           0.35978835978835977
          ],
          [
           0.06349206349206349,
           0.07671957671957672,
           0.06613756613756613,
           0.082010582010582,
           0,
           0.0873015873015873,
           0.0873015873015873,
           0.10317460317460317,
           0.10582010582010581,
           0.11375661375661375,
           0.08465608465608465,
           0.08994708994708994,
           0.12169312169312169,
           0.08994708994708994,
           0.12698412698412698,
           0.164021164021164,
           0.18253968253968253,
           0.15873015873015872,
           0.15343915343915343,
           0.2222222222222222,
           0.1931216931216931,
           0.25925925925925924,
           0.20899470899470898,
           0.24867724867724866,
           0.24603174603174602,
           0.2671957671957672,
           0.26455026455026454,
           0.2619047619047619,
           0.328042328042328,
           0.2751322751322751,
           0.29894179894179895,
           0.36243386243386244,
           0.31746031746031744,
           0.3492063492063492
          ],
          [
           0.06084656084656084,
           0.07407407407407407,
           0.06613756613756613,
           0.07671957671957672,
           0.10052910052910052,
           0,
           0.0582010582010582,
           0.09788359788359788,
           0.09788359788359788,
           0.11375661375661375,
           0.0873015873015873,
           0.10846560846560846,
           0.11375661375661375,
           0.10846560846560846,
           0.1349206349206349,
           0.1693121693121693,
           0.17195767195767195,
           0.16137566137566137,
           0.1455026455026455,
           0.20634920634920634,
           0.18783068783068782,
           0.25396825396825395,
           0.20105820105820105,
           0.24603174603174602,
           0.24074074074074073,
           0.25396825396825395,
           0.2619047619047619,
           0.26455026455026454,
           0.3148148148148148,
           0.2671957671957672,
           0.3148148148148148,
           0.35978835978835977,
           0.3253968253968254,
           0.3492063492063492
          ],
          [
           0.06349206349206349,
           0.07142857142857142,
           0.05555555555555555,
           0.08994708994708994,
           0.09259259259259259,
           0.05026455026455026,
           0,
           0.09523809523809523,
           0.08994708994708994,
           0.10052910052910052,
           0.08465608465608465,
           0.11375661375661375,
           0.11375661375661375,
           0.1111111111111111,
           0.12962962962962962,
           0.16666666666666666,
           0.17195767195767195,
           0.15343915343915343,
           0.13756613756613756,
           0.21428571428571427,
           0.18518518518518517,
           0.24603174603174602,
           0.20899470899470898,
           0.23809523809523808,
           0.25132275132275134,
           0.2566137566137566,
           0.26455026455026454,
           0.2751322751322751,
           0.3148148148148148,
           0.2751322751322751,
           0.31216931216931215,
           0.35185185185185186,
           0.328042328042328,
           0.3492063492063492
          ],
          [
           0.05291005291005291,
           0.07142857142857142,
           0.05026455026455026,
           0.07671957671957672,
           0.09788359788359788,
           0.07936507936507936,
           0.08465608465608465,
           0,
           0.082010582010582,
           0.08994708994708994,
           0.07936507936507936,
           0.10582010582010581,
           0.1111111111111111,
           0.07936507936507936,
           0.13756613756613756,
           0.16137566137566137,
           0.16666666666666666,
           0.14814814814814814,
           0.13227513227513227,
           0.21428571428571427,
           0.1984126984126984,
           0.23809523809523808,
           0.20105820105820105,
           0.24338624338624337,
           0.24867724867724866,
           0.24867724867724866,
           0.2698412698412698,
           0.2619047619047619,
           0.30158730158730157,
           0.26455026455026454,
           0.2962962962962963,
           0.3544973544973545,
           0.3201058201058201,
           0.335978835978836
          ],
          [
           0.05555555555555555,
           0.07142857142857142,
           0.05555555555555555,
           0.06613756613756613,
           0.09788359788359788,
           0.07671957671957672,
           0.07671957671957672,
           0.07936507936507936,
           0,
           0.09259259259259259,
           0.07407407407407407,
           0.10846560846560846,
           0.09523809523809523,
           0.09788359788359788,
           0.12698412698412698,
           0.15608465608465608,
           0.1746031746031746,
           0.15343915343915343,
           0.15079365079365079,
           0.20899470899470898,
           0.18518518518518517,
           0.23544973544973544,
           0.20105820105820105,
           0.23809523809523808,
           0.24074074074074073,
           0.2671957671957672,
           0.2566137566137566,
           0.2619047619047619,
           0.30158730158730157,
           0.2698412698412698,
           0.30952380952380953,
           0.3439153439153439,
           0.3253968253968254,
           0.3333333333333333
          ],
          [
           0.05555555555555555,
           0.07142857142857142,
           0.05291005291005291,
           0.09523809523809523,
           0.09788359788359788,
           0.08465608465608465,
           0.07936507936507936,
           0.07936507936507936,
           0.08465608465608465,
           0,
           0.09259259259259259,
           0.10317460317460317,
           0.10846560846560846,
           0.09259259259259259,
           0.13756613756613756,
           0.16137566137566137,
           0.18783068783068782,
           0.15079365079365079,
           0.1349206349206349,
           0.1984126984126984,
           0.1984126984126984,
           0.23809523809523808,
           0.2037037037037037,
           0.24074074074074073,
           0.24074074074074073,
           0.24867724867724866,
           0.25396825396825395,
           0.24867724867724866,
           0.2962962962962963,
           0.2619047619047619,
           0.29365079365079366,
           0.3439153439153439,
           0.30158730158730157,
           0.328042328042328
          ],
          [
           0.0582010582010582,
           0.06613756613756613,
           0.05291005291005291,
           0.06878306878306878,
           0.082010582010582,
           0.07142857142857142,
           0.07671957671957672,
           0.082010582010582,
           0.07936507936507936,
           0.10582010582010581,
           0,
           0.10052910052910052,
           0.09523809523809523,
           0.07936507936507936,
           0.12433862433862433,
           0.1455026455026455,
           0.1693121693121693,
           0.1402116402116402,
           0.13227513227513227,
           0.20634920634920634,
           0.18518518518518517,
           0.24338624338624337,
           0.19576719576719576,
           0.23544973544973544,
           0.24867724867724866,
           0.2566137566137566,
           0.25925925925925924,
           0.25925925925925924,
           0.29894179894179895,
           0.26455026455026454,
           0.30952380952380953,
           0.34656084656084657,
           0.32275132275132273,
           0.3412698412698413
          ],
          [
           0.06878306878306878,
           0.06613756613756613,
           0.05555555555555555,
           0.06878306878306878,
           0.07142857142857142,
           0.07671957671957672,
           0.08994708994708994,
           0.09259259259259259,
           0.09788359788359788,
           0.10052910052910052,
           0.08465608465608465,
           0,
           0.1111111111111111,
           0.06613756613756613,
           0.10846560846560846,
           0.15608465608465608,
           0.17989417989417988,
           0.12962962962962962,
           0.12433862433862433,
           0.21693121693121692,
           0.1693121693121693,
           0.23809523809523808,
           0.18518518518518517,
           0.2222222222222222,
           0.21957671957671956,
           0.23544973544973544,
           0.24074074074074073,
           0.25132275132275134,
           0.3201058201058201,
           0.25132275132275134,
           0.2830687830687831,
           0.335978835978836,
           0.29894179894179895,
           0.32275132275132273
          ],
          [
           0.06349206349206349,
           0.047619047619047616,
           0.042328042328042326,
           0.06084656084656084,
           0.0873015873015873,
           0.06613756613756613,
           0.07407407407407407,
           0.082010582010582,
           0.06878306878306878,
           0.08994708994708994,
           0.06349206349206349,
           0.09523809523809523,
           0,
           0.0873015873015873,
           0.11375661375661375,
           0.1402116402116402,
           0.16137566137566137,
           0.12433862433862433,
           0.12698412698412698,
           0.1931216931216931,
           0.1746031746031746,
           0.20899470899470898,
           0.164021164021164,
           0.21428571428571427,
           0.23015873015873015,
           0.23544973544973544,
           0.23809523809523808,
           0.23015873015873015,
           0.2698412698412698,
           0.23809523809523808,
           0.291005291005291,
           0.3253968253968254,
           0.29894179894179895,
           0.30158730158730157
          ],
          [
           0.05291005291005291,
           0.0582010582010582,
           0.042328042328042326,
           0.0582010582010582,
           0.06349206349206349,
           0.06878306878306878,
           0.07936507936507936,
           0.0582010582010582,
           0.07936507936507936,
           0.082010582010582,
           0.05555555555555555,
           0.0582010582010582,
           0.09523809523809523,
           0,
           0.10846560846560846,
           0.14285714285714285,
           0.16137566137566137,
           0.12433862433862433,
           0.11375661375661375,
           0.20105820105820105,
           0.15873015873015872,
           0.22486772486772486,
           0.17724867724867724,
           0.21957671957671956,
           0.22486772486772486,
           0.2222222222222222,
           0.24338624338624337,
           0.24074074074074073,
           0.2804232804232804,
           0.24603174603174602,
           0.2751322751322751,
           0.3306878306878307,
           0.2962962962962963,
           0.31746031746031744
          ],
          [
           0.0582010582010582,
           0.05026455026455026,
           0.042328042328042326,
           0.06349206349206349,
           0.06349206349206349,
           0.0582010582010582,
           0.06084656084656084,
           0.07936507936507936,
           0.07142857142857142,
           0.08994708994708994,
           0.06349206349206349,
           0.06349206349206349,
           0.08465608465608465,
           0.07142857142857142,
           0,
           0.12698412698412698,
           0.15343915343915343,
           0.10582010582010581,
           0.11375661375661375,
           0.164021164021164,
           0.12962962962962962,
           0.21693121693121692,
           0.15873015873015872,
           0.18253968253968253,
           0.2037037037037037,
           0.1931216931216931,
           0.20899470899470898,
           0.20634920634920634,
           0.2857142857142857,
           0.20899470899470898,
           0.24074074074074073,
           0.3201058201058201,
           0.25925925925925924,
           0.2777777777777778
          ],
          [
           0.042328042328042326,
           0.0582010582010582,
           0.05291005291005291,
           0.06349206349206349,
           0.07142857142857142,
           0.06349206349206349,
           0.06878306878306878,
           0.07407407407407407,
           0.07142857142857142,
           0.08465608465608465,
           0.05555555555555555,
           0.082010582010582,
           0.082010582010582,
           0.07671957671957672,
           0.09788359788359788,
           0,
           0.1349206349206349,
           0.1164021164021164,
           0.1111111111111111,
           0.1693121693121693,
           0.15343915343915343,
           0.19047619047619047,
           0.15873015873015872,
           0.1931216931216931,
           0.1931216931216931,
           0.2037037037037037,
           0.21428571428571427,
           0.21693121693121692,
           0.24867724867724866,
           0.21428571428571427,
           0.2566137566137566,
           0.2962962962962963,
           0.2698412698412698,
           0.2857142857142857
          ],
          [
           0.04497354497354497,
           0.06084656084656084,
           0.06349206349206349,
           0.06349206349206349,
           0.07407407407407407,
           0.05026455026455026,
           0.0582010582010582,
           0.06349206349206349,
           0.07407407407407407,
           0.09523809523809523,
           0.06349206349206349,
           0.08994708994708994,
           0.0873015873015873,
           0.07936507936507936,
           0.10846560846560846,
           0.11904761904761904,
           0,
           0.12962962962962962,
           0.1111111111111111,
           0.1746031746031746,
           0.14285714285714285,
           0.17989417989417988,
           0.15873015873015872,
           0.19047619047619047,
           0.1984126984126984,
           0.20105820105820105,
           0.22486772486772486,
           0.21164021164021163,
           0.25132275132275134,
           0.21164021164021163,
           0.24338624338624337,
           0.28835978835978837,
           0.26455026455026454,
           0.2857142857142857
          ],
          [
           0.047619047619047616,
           0.0582010582010582,
           0.0291005291005291,
           0.06349206349206349,
           0.07671957671957672,
           0.06613756613756613,
           0.06613756613756613,
           0.07142857142857142,
           0.07936507936507936,
           0.08465608465608465,
           0.06084656084656084,
           0.06613756613756613,
           0.07671957671957672,
           0.06878306878306878,
           0.0873015873015873,
           0.12698412698412698,
           0.15608465608465608,
           0,
           0.10582010582010581,
           0.17195767195767195,
           0.12962962962962962,
           0.1931216931216931,
           0.15079365079365079,
           0.17724867724867724,
           0.17989417989417988,
           0.18253968253968253,
           0.18518518518518517,
           0.21164021164021163,
           0.25396825396825395,
           0.1984126984126984,
           0.23809523809523808,
           0.2857142857142857,
           0.25132275132275134,
           0.2671957671957672
          ],
          [
           0.042328042328042326,
           0.037037037037037035,
           0.031746031746031744,
           0.05026455026455026,
           0.06613756613756613,
           0.04497354497354497,
           0.04497354497354497,
           0.05026455026455026,
           0.07142857142857142,
           0.06349206349206349,
           0.047619047619047616,
           0.05555555555555555,
           0.07407407407407407,
           0.05291005291005291,
           0.08994708994708994,
           0.1164021164021164,
           0.13227513227513227,
           0.10052910052910052,
           0,
           0.15873015873015872,
           0.1455026455026455,
           0.17989417989417988,
           0.15079365079365079,
           0.164021164021164,
           0.17989417989417988,
           0.19047619047619047,
           0.2037037037037037,
           0.21164021164021163,
           0.2566137566137566,
           0.20634920634920634,
           0.23809523809523808,
           0.2751322751322751,
           0.25132275132275134,
           0.2566137566137566
          ],
          [
           0.042328042328042326,
           0.04497354497354497,
           0.04497354497354497,
           0.05555555555555555,
           0.06878306878306878,
           0.03968253968253968,
           0.05555555555555555,
           0.06613756613756613,
           0.06349206349206349,
           0.06084656084656084,
           0.05555555555555555,
           0.082010582010582,
           0.07407407407407407,
           0.07407407407407407,
           0.07407407407407407,
           0.10846560846560846,
           0.12962962962962962,
           0.10052910052910052,
           0.09259259259259259,
           0,
           0.12169312169312169,
           0.1746031746031746,
           0.14285714285714285,
           0.15873015873015872,
           0.15873015873015872,
           0.1746031746031746,
           0.17989417989417988,
           0.19047619047619047,
           0.21693121693121692,
           0.18518518518518517,
           0.21693121693121692,
           0.2566137566137566,
           0.23015873015873015,
           0.24338624338624337
          ],
          [
           0.04497354497354497,
           0.05555555555555555,
           0.04497354497354497,
           0.05555555555555555,
           0.06613756613756613,
           0.047619047619047616,
           0.05291005291005291,
           0.07671957671957672,
           0.06613756613756613,
           0.0873015873015873,
           0.06084656084656084,
           0.06084656084656084,
           0.082010582010582,
           0.0582010582010582,
           0.06613756613756613,
           0.11904761904761904,
           0.12433862433862433,
           0.08465608465608465,
           0.10582010582010581,
           0.14814814814814814,
           0,
           0.18518518518518517,
           0.1349206349206349,
           0.13756613756613756,
           0.16137566137566137,
           0.1693121693121693,
           0.164021164021164,
           0.18253968253968253,
           0.24338624338624337,
           0.1693121693121693,
           0.1984126984126984,
           0.25925925925925924,
           0.2222222222222222,
           0.23544973544973544
          ],
          [
           0.03439153439153439,
           0.0291005291005291,
           0.04497354497354497,
           0.05026455026455026,
           0.06613756613756613,
           0.047619047619047616,
           0.047619047619047616,
           0.05026455026455026,
           0.05026455026455026,
           0.06084656084656084,
           0.05291005291005291,
           0.06349206349206349,
           0.05026455026455026,
           0.0582010582010582,
           0.0873015873015873,
           0.08994708994708994,
           0.09523809523809523,
           0.082010582010582,
           0.07407407407407407,
           0.1349206349206349,
           0.11904761904761904,
           0,
           0.1111111111111111,
           0.15079365079365079,
           0.14285714285714285,
           0.15873015873015872,
           0.15343915343915343,
           0.164021164021164,
           0.18253968253968253,
           0.13756613756613756,
           0.1693121693121693,
           0.21957671957671956,
           0.18783068783068782,
           0.20899470899470898
          ],
          [
           0.03968253968253968,
           0.031746031746031744,
           0.03968253968253968,
           0.04497354497354497,
           0.05555555555555555,
           0.03439153439153439,
           0.05026455026455026,
           0.05291005291005291,
           0.05555555555555555,
           0.06613756613756613,
           0.04497354497354497,
           0.05026455026455026,
           0.04497354497354497,
           0.05026455026455026,
           0.06878306878306878,
           0.09788359788359788,
           0.11375661375661375,
           0.07936507936507936,
           0.08465608465608465,
           0.14285714285714285,
           0.10846560846560846,
           0.15079365079365079,
           0,
           0.12433862433862433,
           0.13756613756613756,
           0.14285714285714285,
           0.14285714285714285,
           0.12962962962962962,
           0.2037037037037037,
           0.13227513227513227,
           0.1746031746031746,
           0.24074074074074073,
           0.18518518518518517,
           0.2037037037037037
          ],
          [
           0.04497354497354497,
           0.03968253968253968,
           0.0291005291005291,
           0.042328042328042326,
           0.06349206349206349,
           0.047619047619047616,
           0.047619047619047616,
           0.06349206349206349,
           0.06084656084656084,
           0.07142857142857142,
           0.05291005291005291,
           0.05555555555555555,
           0.06349206349206349,
           0.06084656084656084,
           0.06084656084656084,
           0.10052910052910052,
           0.11375661375661375,
           0.07407407407407407,
           0.06613756613756613,
           0.12698412698412698,
           0.07936507936507936,
           0.15873015873015872,
           0.09259259259259259,
           0,
           0.12698412698412698,
           0.12433862433862433,
           0.13227513227513227,
           0.12962962962962962,
           0.21164021164021163,
           0.1164021164021164,
           0.15608465608465608,
           0.21693121693121692,
           0.1746031746031746,
           0.17195767195767195
          ],
          [
           0.031746031746031744,
           0.031746031746031744,
           0.03968253968253968,
           0.026455026455026454,
           0.04497354497354497,
           0.026455026455026454,
           0.04497354497354497,
           0.05291005291005291,
           0.047619047619047616,
           0.05555555555555555,
           0.05026455026455026,
           0.037037037037037035,
           0.06349206349206349,
           0.05026455026455026,
           0.06613756613756613,
           0.08465608465608465,
           0.10582010582010581,
           0.06084656084656084,
           0.06613756613756613,
           0.1111111111111111,
           0.0873015873015873,
           0.1349206349206349,
           0.08994708994708994,
           0.1111111111111111,
           0,
           0.13756613756613756,
           0.12433862433862433,
           0.13227513227513227,
           0.16666666666666666,
           0.12962962962962962,
           0.16137566137566137,
           0.18518518518518517,
           0.164021164021164,
           0.1746031746031746
          ],
          [
           0.03439153439153439,
           0.04497354497354497,
           0.0291005291005291,
           0.03968253968253968,
           0.05555555555555555,
           0.0291005291005291,
           0.03968253968253968,
           0.042328042328042326,
           0.06349206349206349,
           0.05291005291005291,
           0.047619047619047616,
           0.042328042328042326,
           0.0582010582010582,
           0.037037037037037035,
           0.04497354497354497,
           0.08465608465608465,
           0.09788359788359788,
           0.05291005291005291,
           0.06613756613756613,
           0.1164021164021164,
           0.08465608465608465,
           0.1402116402116402,
           0.08465608465608465,
           0.09788359788359788,
           0.12698412698412698,
           0,
           0.12698412698412698,
           0.1349206349206349,
           0.19047619047619047,
           0.1164021164021164,
           0.1455026455026455,
           0.20899470899470898,
           0.15343915343915343,
           0.18253968253968253
          ],
          [
           0.037037037037037035,
           0.037037037037037035,
           0.026455026455026454,
           0.03968253968253968,
           0.047619047619047616,
           0.031746031746031744,
           0.042328042328042326,
           0.0582010582010582,
           0.047619047619047616,
           0.05291005291005291,
           0.04497354497354497,
           0.042328042328042326,
           0.05555555555555555,
           0.05291005291005291,
           0.05555555555555555,
           0.08994708994708994,
           0.1164021164021164,
           0.05026455026455026,
           0.07407407407407407,
           0.1164021164021164,
           0.07407407407407407,
           0.12962962962962962,
           0.07936507936507936,
           0.10052910052910052,
           0.10846560846560846,
           0.12169312169312169,
           0,
           0.11904761904761904,
           0.18518518518518517,
           0.10317460317460317,
           0.1455026455026455,
           0.19047619047619047,
           0.15608465608465608,
           0.164021164021164
          ],
          [
           0.026455026455026454,
           0.026455026455026454,
           0.026455026455026454,
           0.03439153439153439,
           0.03968253968253968,
           0.0291005291005291,
           0.047619047619047616,
           0.04497354497354497,
           0.047619047619047616,
           0.042328042328042326,
           0.03968253968253968,
           0.047619047619047616,
           0.042328042328042326,
           0.04497354497354497,
           0.047619047619047616,
           0.0873015873015873,
           0.09788359788359788,
           0.07142857142857142,
           0.07671957671957672,
           0.12169312169312169,
           0.0873015873015873,
           0.1349206349206349,
           0.06084656084656084,
           0.09259259259259259,
           0.1111111111111111,
           0.12433862433862433,
           0.11375661375661375,
           0,
           0.1746031746031746,
           0.10052910052910052,
           0.12433862433862433,
           0.21164021164021163,
           0.12433862433862433,
           0.14814814814814814
          ],
          [
           0.018518518518518517,
           0.023809523809523808,
           0.021164021164021163,
           0.031746031746031744,
           0.047619047619047616,
           0.021164021164021163,
           0.0291005291005291,
           0.026455026455026454,
           0.0291005291005291,
           0.031746031746031744,
           0.021164021164021163,
           0.0582010582010582,
           0.023809523809523808,
           0.026455026455026454,
           0.06878306878306878,
           0.06084656084656084,
           0.07936507936507936,
           0.05555555555555555,
           0.06349206349206349,
           0.08994708994708994,
           0.08994708994708994,
           0.09523809523809523,
           0.07671957671957672,
           0.1164021164021164,
           0.0873015873015873,
           0.12169312169312169,
           0.12169312169312169,
           0.1164021164021164,
           0,
           0.1111111111111111,
           0.14814814814814814,
           0.17195767195767195,
           0.15608465608465608,
           0.1455026455026455
          ],
          [
           0.023809523809523808,
           0.021164021164021163,
           0.021164021164021163,
           0.03439153439153439,
           0.04497354497354497,
           0.023809523809523808,
           0.03968253968253968,
           0.03968253968253968,
           0.047619047619047616,
           0.047619047619047616,
           0.037037037037037035,
           0.03968253968253968,
           0.042328042328042326,
           0.042328042328042326,
           0.042328042328042326,
           0.07671957671957672,
           0.08994708994708994,
           0.05026455026455026,
           0.06349206349206349,
           0.10846560846560846,
           0.06613756613756613,
           0.10052910052910052,
           0.05555555555555555,
           0.07142857142857142,
           0.10052910052910052,
           0.09788359788359788,
           0.08994708994708994,
           0.09259259259259259,
           0.16137566137566137,
           0,
           0.11375661375661375,
           0.17989417989417988,
           0.1402116402116402,
           0.1349206349206349
          ],
          [
           0.023809523809523808,
           0.026455026455026454,
           0.021164021164021163,
           0.031746031746031744,
           0.0291005291005291,
           0.031746031746031744,
           0.037037037037037035,
           0.031746031746031744,
           0.047619047619047616,
           0.03968253968253968,
           0.042328042328042326,
           0.031746031746031744,
           0.05555555555555555,
           0.031746031746031744,
           0.03439153439153439,
           0.07936507936507936,
           0.082010582010582,
           0.05026455026455026,
           0.05555555555555555,
           0.10052910052910052,
           0.05555555555555555,
           0.09259259259259259,
           0.0582010582010582,
           0.07142857142857142,
           0.09259259259259259,
           0.0873015873015873,
           0.09259259259259259,
           0.07671957671957672,
           0.15873015873015872,
           0.07407407407407407,
           0,
           0.17195767195767195,
           0.06613756613756613,
           0.11904761904761904
          ],
          [
           0.018518518518518517,
           0.021164021164021163,
           0.013227513227513227,
           0.015873015873015872,
           0.03968253968253968,
           0.023809523809523808,
           0.023809523809523808,
           0.037037037037037035,
           0.0291005291005291,
           0.037037037037037035,
           0.026455026455026454,
           0.031746031746031744,
           0.037037037037037035,
           0.03439153439153439,
           0.06084656084656084,
           0.06613756613756613,
           0.07407407407407407,
           0.04497354497354497,
           0.03968253968253968,
           0.0873015873015873,
           0.06349206349206349,
           0.08994708994708994,
           0.07142857142857142,
           0.07936507936507936,
           0.06349206349206349,
           0.09788359788359788,
           0.08465608465608465,
           0.1111111111111111,
           0.12962962962962962,
           0.0873015873015873,
           0.11904761904761904,
           0,
           0.12962962962962962,
           0.1349206349206349
          ],
          [
           0.018518518518518517,
           0.026455026455026454,
           0.018518518518518517,
           0.0291005291005291,
           0.026455026455026454,
           0.021164021164021163,
           0.031746031746031744,
           0.03439153439153439,
           0.042328042328042326,
           0.026455026455026454,
           0.03439153439153439,
           0.026455026455026454,
           0.042328042328042326,
           0.031746031746031744,
           0.031746031746031744,
           0.07142857142857142,
           0.082010582010582,
           0.042328042328042326,
           0.047619047619047616,
           0.09259259259259259,
           0.0582010582010582,
           0.08994708994708994,
           0.047619047619047616,
           0.06878306878306878,
           0.07407407407407407,
           0.07407407407407407,
           0.082010582010582,
           0.05555555555555555,
           0.1455026455026455,
           0.07936507936507936,
           0.04497354497354497,
           0.16137566137566137,
           0,
           0.11904761904761904
          ],
          [
           0.026455026455026454,
           0.018518518518518517,
           0.021164021164021163,
           0.031746031746031744,
           0.03968253968253968,
           0.026455026455026454,
           0.03439153439153439,
           0.031746031746031744,
           0.031746031746031744,
           0.03439153439153439,
           0.03439153439153439,
           0.031746031746031744,
           0.026455026455026454,
           0.03439153439153439,
           0.031746031746031744,
           0.06878306878306878,
           0.08465608465608465,
           0.03968253968253968,
           0.03439153439153439,
           0.0873015873015873,
           0.05291005291005291,
           0.09259259259259259,
           0.047619047619047616,
           0.047619047619047616,
           0.06613756613756613,
           0.08465608465608465,
           0.07142857142857142,
           0.06084656084656084,
           0.1164021164021164,
           0.05555555555555555,
           0.07936507936507936,
           0.14814814814814814,
           0.10052910052910052,
           0
          ]
         ]
        }
       ],
       "layout": {
        "coloraxis": {
         "colorscale": [
          [
           0,
           "rgb(103,0,31)"
          ],
          [
           0.1,
           "rgb(178,24,43)"
          ],
          [
           0.2,
           "rgb(214,96,77)"
          ],
          [
           0.3,
           "rgb(244,165,130)"
          ],
          [
           0.4,
           "rgb(253,219,199)"
          ],
          [
           0.5,
           "rgb(247,247,247)"
          ],
          [
           0.6,
           "rgb(209,229,240)"
          ],
          [
           0.7,
           "rgb(146,197,222)"
          ],
          [
           0.8,
           "rgb(67,147,195)"
          ],
          [
           0.9,
           "rgb(33,102,172)"
          ],
          [
           1,
           "rgb(5,48,97)"
          ]
         ]
        },
        "height": 900,
        "template": {
         "data": {
          "bar": [
           {
            "error_x": {
             "color": "#2a3f5f"
            },
            "error_y": {
             "color": "#2a3f5f"
            },
            "marker": {
             "line": {
              "color": "#E5ECF6",
              "width": 0.5
             },
             "pattern": {
              "fillmode": "overlay",
              "size": 10,
              "solidity": 0.2
             }
            },
            "type": "bar"
           }
          ],
          "barpolar": [
           {
            "marker": {
             "line": {
              "color": "#E5ECF6",
              "width": 0.5
             },
             "pattern": {
              "fillmode": "overlay",
              "size": 10,
              "solidity": 0.2
             }
            },
            "type": "barpolar"
           }
          ],
          "carpet": [
           {
            "aaxis": {
             "endlinecolor": "#2a3f5f",
             "gridcolor": "white",
             "linecolor": "white",
             "minorgridcolor": "white",
             "startlinecolor": "#2a3f5f"
            },
            "baxis": {
             "endlinecolor": "#2a3f5f",
             "gridcolor": "white",
             "linecolor": "white",
             "minorgridcolor": "white",
             "startlinecolor": "#2a3f5f"
            },
            "type": "carpet"
           }
          ],
          "choropleth": [
           {
            "colorbar": {
             "outlinewidth": 0,
             "ticks": ""
            },
            "type": "choropleth"
           }
          ],
          "contour": [
           {
            "colorbar": {
             "outlinewidth": 0,
             "ticks": ""
            },
            "colorscale": [
             [
              0,
              "#0d0887"
             ],
             [
              0.1111111111111111,
              "#46039f"
             ],
             [
              0.2222222222222222,
              "#7201a8"
             ],
             [
              0.3333333333333333,
              "#9c179e"
             ],
             [
              0.4444444444444444,
              "#bd3786"
             ],
             [
              0.5555555555555556,
              "#d8576b"
             ],
             [
              0.6666666666666666,
              "#ed7953"
             ],
             [
              0.7777777777777778,
              "#fb9f3a"
             ],
             [
              0.8888888888888888,
              "#fdca26"
             ],
             [
              1,
              "#f0f921"
             ]
            ],
            "type": "contour"
           }
          ],
          "contourcarpet": [
           {
            "colorbar": {
             "outlinewidth": 0,
             "ticks": ""
            },
            "type": "contourcarpet"
           }
          ],
          "heatmap": [
           {
            "colorbar": {
             "outlinewidth": 0,
             "ticks": ""
            },
            "colorscale": [
             [
              0,
              "#0d0887"
             ],
             [
              0.1111111111111111,
              "#46039f"
             ],
             [
              0.2222222222222222,
              "#7201a8"
             ],
             [
              0.3333333333333333,
              "#9c179e"
             ],
             [
              0.4444444444444444,
              "#bd3786"
             ],
             [
              0.5555555555555556,
              "#d8576b"
             ],
             [
              0.6666666666666666,
              "#ed7953"
             ],
             [
              0.7777777777777778,
              "#fb9f3a"
             ],
             [
              0.8888888888888888,
              "#fdca26"
             ],
             [
              1,
              "#f0f921"
             ]
            ],
            "type": "heatmap"
           }
          ],
          "heatmapgl": [
           {
            "colorbar": {
             "outlinewidth": 0,
             "ticks": ""
            },
            "colorscale": [
             [
              0,
              "#0d0887"
             ],
             [
              0.1111111111111111,
              "#46039f"
             ],
             [
              0.2222222222222222,
              "#7201a8"
             ],
             [
              0.3333333333333333,
              "#9c179e"
             ],
             [
              0.4444444444444444,
              "#bd3786"
             ],
             [
              0.5555555555555556,
              "#d8576b"
             ],
             [
              0.6666666666666666,
              "#ed7953"
             ],
             [
              0.7777777777777778,
              "#fb9f3a"
             ],
             [
              0.8888888888888888,
              "#fdca26"
             ],
             [
              1,
              "#f0f921"
             ]
            ],
            "type": "heatmapgl"
           }
          ],
          "histogram": [
           {
            "marker": {
             "pattern": {
              "fillmode": "overlay",
              "size": 10,
              "solidity": 0.2
             }
            },
            "type": "histogram"
           }
          ],
          "histogram2d": [
           {
            "colorbar": {
             "outlinewidth": 0,
             "ticks": ""
            },
            "colorscale": [
             [
              0,
              "#0d0887"
             ],
             [
              0.1111111111111111,
              "#46039f"
             ],
             [
              0.2222222222222222,
              "#7201a8"
             ],
             [
              0.3333333333333333,
              "#9c179e"
             ],
             [
              0.4444444444444444,
              "#bd3786"
             ],
             [
              0.5555555555555556,
              "#d8576b"
             ],
             [
              0.6666666666666666,
              "#ed7953"
             ],
             [
              0.7777777777777778,
              "#fb9f3a"
             ],
             [
              0.8888888888888888,
              "#fdca26"
             ],
             [
              1,
              "#f0f921"
             ]
            ],
            "type": "histogram2d"
           }
          ],
          "histogram2dcontour": [
           {
            "colorbar": {
             "outlinewidth": 0,
             "ticks": ""
            },
            "colorscale": [
             [
              0,
              "#0d0887"
             ],
             [
              0.1111111111111111,
              "#46039f"
             ],
             [
              0.2222222222222222,
              "#7201a8"
             ],
             [
              0.3333333333333333,
              "#9c179e"
             ],
             [
              0.4444444444444444,
              "#bd3786"
             ],
             [
              0.5555555555555556,
              "#d8576b"
             ],
             [
              0.6666666666666666,
              "#ed7953"
             ],
             [
              0.7777777777777778,
              "#fb9f3a"
             ],
             [
              0.8888888888888888,
              "#fdca26"
             ],
             [
              1,
              "#f0f921"
             ]
            ],
            "type": "histogram2dcontour"
           }
          ],
          "mesh3d": [
           {
            "colorbar": {
             "outlinewidth": 0,
             "ticks": ""
            },
            "type": "mesh3d"
           }
          ],
          "parcoords": [
           {
            "line": {
             "colorbar": {
              "outlinewidth": 0,
              "ticks": ""
             }
            },
            "type": "parcoords"
           }
          ],
          "pie": [
           {
            "automargin": true,
            "type": "pie"
           }
          ],
          "scatter": [
           {
            "fillpattern": {
             "fillmode": "overlay",
             "size": 10,
             "solidity": 0.2
            },
            "type": "scatter"
           }
          ],
          "scatter3d": [
           {
            "line": {
             "colorbar": {
              "outlinewidth": 0,
              "ticks": ""
             }
            },
            "marker": {
             "colorbar": {
              "outlinewidth": 0,
              "ticks": ""
             }
            },
            "type": "scatter3d"
           }
          ],
          "scattercarpet": [
           {
            "marker": {
             "colorbar": {
              "outlinewidth": 0,
              "ticks": ""
             }
            },
            "type": "scattercarpet"
           }
          ],
          "scattergeo": [
           {
            "marker": {
             "colorbar": {
              "outlinewidth": 0,
              "ticks": ""
             }
            },
            "type": "scattergeo"
           }
          ],
          "scattergl": [
           {
            "marker": {
             "colorbar": {
              "outlinewidth": 0,
              "ticks": ""
             }
            },
            "type": "scattergl"
           }
          ],
          "scattermapbox": [
           {
            "marker": {
             "colorbar": {
              "outlinewidth": 0,
              "ticks": ""
             }
            },
            "type": "scattermapbox"
           }
          ],
          "scatterpolar": [
           {
            "marker": {
             "colorbar": {
              "outlinewidth": 0,
              "ticks": ""
             }
            },
            "type": "scatterpolar"
           }
          ],
          "scatterpolargl": [
           {
            "marker": {
             "colorbar": {
              "outlinewidth": 0,
              "ticks": ""
             }
            },
            "type": "scatterpolargl"
           }
          ],
          "scatterternary": [
           {
            "marker": {
             "colorbar": {
              "outlinewidth": 0,
              "ticks": ""
             }
            },
            "type": "scatterternary"
           }
          ],
          "surface": [
           {
            "colorbar": {
             "outlinewidth": 0,
             "ticks": ""
            },
            "colorscale": [
             [
              0,
              "#0d0887"
             ],
             [
              0.1111111111111111,
              "#46039f"
             ],
             [
              0.2222222222222222,
              "#7201a8"
             ],
             [
              0.3333333333333333,
              "#9c179e"
             ],
             [
              0.4444444444444444,
              "#bd3786"
             ],
             [
              0.5555555555555556,
              "#d8576b"
             ],
             [
              0.6666666666666666,
              "#ed7953"
             ],
             [
              0.7777777777777778,
              "#fb9f3a"
             ],
             [
              0.8888888888888888,
              "#fdca26"
             ],
             [
              1,
              "#f0f921"
             ]
            ],
            "type": "surface"
           }
          ],
          "table": [
           {
            "cells": {
             "fill": {
              "color": "#EBF0F8"
             },
             "line": {
              "color": "white"
             }
            },
            "header": {
             "fill": {
              "color": "#C8D4E3"
             },
             "line": {
              "color": "white"
             }
            },
            "type": "table"
           }
          ]
         },
         "layout": {
          "annotationdefaults": {
           "arrowcolor": "#2a3f5f",
           "arrowhead": 0,
           "arrowwidth": 1
          },
          "autotypenumbers": "strict",
          "coloraxis": {
           "colorbar": {
            "outlinewidth": 0,
            "ticks": ""
           }
          },
          "colorscale": {
           "diverging": [
            [
             0,
             "#8e0152"
            ],
            [
             0.1,
             "#c51b7d"
            ],
            [
             0.2,
             "#de77ae"
            ],
            [
             0.3,
             "#f1b6da"
            ],
            [
             0.4,
             "#fde0ef"
            ],
            [
             0.5,
             "#f7f7f7"
            ],
            [
             0.6,
             "#e6f5d0"
            ],
            [
             0.7,
             "#b8e186"
            ],
            [
             0.8,
             "#7fbc41"
            ],
            [
             0.9,
             "#4d9221"
            ],
            [
             1,
             "#276419"
            ]
           ],
           "sequential": [
            [
             0,
             "#0d0887"
            ],
            [
             0.1111111111111111,
             "#46039f"
            ],
            [
             0.2222222222222222,
             "#7201a8"
            ],
            [
             0.3333333333333333,
             "#9c179e"
            ],
            [
             0.4444444444444444,
             "#bd3786"
            ],
            [
             0.5555555555555556,
             "#d8576b"
            ],
            [
             0.6666666666666666,
             "#ed7953"
            ],
            [
             0.7777777777777778,
             "#fb9f3a"
            ],
            [
             0.8888888888888888,
             "#fdca26"
            ],
            [
             1,
             "#f0f921"
            ]
           ],
           "sequentialminus": [
            [
             0,
             "#0d0887"
            ],
            [
             0.1111111111111111,
             "#46039f"
            ],
            [
             0.2222222222222222,
             "#7201a8"
            ],
            [
             0.3333333333333333,
             "#9c179e"
            ],
            [
             0.4444444444444444,
             "#bd3786"
            ],
            [
             0.5555555555555556,
             "#d8576b"
            ],
            [
             0.6666666666666666,
             "#ed7953"
            ],
            [
             0.7777777777777778,
             "#fb9f3a"
            ],
            [
             0.8888888888888888,
             "#fdca26"
            ],
            [
             1,
             "#f0f921"
            ]
           ]
          },
          "colorway": [
           "#636efa",
           "#EF553B",
           "#00cc96",
           "#ab63fa",
           "#FFA15A",
           "#19d3f3",
           "#FF6692",
           "#B6E880",
           "#FF97FF",
           "#FECB52"
          ],
          "font": {
           "color": "#2a3f5f"
          },
          "geo": {
           "bgcolor": "white",
           "lakecolor": "white",
           "landcolor": "#E5ECF6",
           "showlakes": true,
           "showland": true,
           "subunitcolor": "white"
          },
          "hoverlabel": {
           "align": "left"
          },
          "hovermode": "closest",
          "mapbox": {
           "style": "light"
          },
          "paper_bgcolor": "white",
          "plot_bgcolor": "#E5ECF6",
          "polar": {
           "angularaxis": {
            "gridcolor": "white",
            "linecolor": "white",
            "ticks": ""
           },
           "bgcolor": "#E5ECF6",
           "radialaxis": {
            "gridcolor": "white",
            "linecolor": "white",
            "ticks": ""
           }
          },
          "scene": {
           "xaxis": {
            "backgroundcolor": "#E5ECF6",
            "gridcolor": "white",
            "gridwidth": 2,
            "linecolor": "white",
            "showbackground": true,
            "ticks": "",
            "zerolinecolor": "white"
           },
           "yaxis": {
            "backgroundcolor": "#E5ECF6",
            "gridcolor": "white",
            "gridwidth": 2,
            "linecolor": "white",
            "showbackground": true,
            "ticks": "",
            "zerolinecolor": "white"
           },
           "zaxis": {
            "backgroundcolor": "#E5ECF6",
            "gridcolor": "white",
            "gridwidth": 2,
            "linecolor": "white",
            "showbackground": true,
            "ticks": "",
            "zerolinecolor": "white"
           }
          },
          "shapedefaults": {
           "line": {
            "color": "#2a3f5f"
           }
          },
          "ternary": {
           "aaxis": {
            "gridcolor": "white",
            "linecolor": "white",
            "ticks": ""
           },
           "baxis": {
            "gridcolor": "white",
            "linecolor": "white",
            "ticks": ""
           },
           "bgcolor": "#E5ECF6",
           "caxis": {
            "gridcolor": "white",
            "linecolor": "white",
            "ticks": ""
           }
          },
          "title": {
           "x": 0.05
          },
          "xaxis": {
           "automargin": true,
           "gridcolor": "white",
           "linecolor": "white",
           "ticks": "",
           "title": {
            "standoff": 15
           },
           "zerolinecolor": "white",
           "zerolinewidth": 2
          },
          "yaxis": {
           "automargin": true,
           "gridcolor": "white",
           "linecolor": "white",
           "ticks": "",
           "title": {
            "standoff": 15
           },
           "zerolinecolor": "white",
           "zerolinewidth": 2
          }
         }
        },
        "title": {
         "text": "win_rates",
         "x": 0.5,
         "y": 0.07
        },
        "width": 900,
        "xaxis": {
         "anchor": "y",
         "constrain": "domain",
         "domain": [
          0,
          1
         ],
         "scaleanchor": "y",
         "side": "top",
         "title": {
          "text": " Model B: Loser"
         }
        },
        "yaxis": {
         "anchor": "x",
         "autorange": "reversed",
         "constrain": "domain",
         "domain": [
          0,
          1
         ],
         "title": {
          "text": "Model A: Winner"
         }
        }
       }
      },
      "text/html": [
       "<div>                            <div id=\"1b00a1bf-387e-4960-9695-eba18eca92a3\" class=\"plotly-graph-div\" style=\"height:900px; width:900px;\"></div>            <script type=\"text/javascript\">                require([\"plotly\"], function(Plotly) {                    window.PLOTLYENV=window.PLOTLYENV || {};                                    if (document.getElementById(\"1b00a1bf-387e-4960-9695-eba18eca92a3\")) {                    Plotly.newPlot(                        \"1b00a1bf-387e-4960-9695-eba18eca92a3\",                        [{\"coloraxis\":\"coloraxis\",\"name\":\"0\",\"texttemplate\":\"%{z:.2f}\",\"x\":[\"gpt-4-1106-preview\",\"opencodeinterpreter-ds-33b\",\"meta-llama-3-70b-instruct\",\"white-rabbit-neo-33b-v1\",\"bigcode--starcoder2-15b-instruct-v0.1\",\"opencodeinterpreter-ds-6.7b\",\"deepseek-coder-6.7b-instruct\",\"HuggingFaceH4--starchat2-15b-v0.1\",\"mixtral-8x22b-instruct-v0.1\",\"CohereForAI--c4ai-command-r-plus\",\"xwincoder-34b\",\"starcoder2-15b-oci\",\"Qwen--Qwen1.5-72B-Chat\",\"speechless-starcoder2-15b\",\"deepseek-coder-6.7b-base\",\"databricks--dbrx-instruct\",\"microsoft--Phi-3-mini-4k-instruct\",\"codegemma-7b-it\",\"speechless-starcoder2-7b\",\"mixtral-8x7b-instruct\",\"codegemma-7b\",\"open-hermes-2.5-code-290k-13b\",\"octocoder\",\"codegemma-2b\",\"gemma-1.1-7b-it\",\"starcoder2-3b\",\"gemma-7b\",\"codegen-6b\",\"mistralai--Mistral-7B-Instruct-v0.2\",\"mistral-7b\",\"codet5p-2b\",\"gemma-7b-it\",\"codegen-2b\",\"gemma-2b\"],\"y\":[\"gpt-4-1106-preview\",\"opencodeinterpreter-ds-33b\",\"meta-llama-3-70b-instruct\",\"white-rabbit-neo-33b-v1\",\"bigcode--starcoder2-15b-instruct-v0.1\",\"opencodeinterpreter-ds-6.7b\",\"deepseek-coder-6.7b-instruct\",\"HuggingFaceH4--starchat2-15b-v0.1\",\"mixtral-8x22b-instruct-v0.1\",\"CohereForAI--c4ai-command-r-plus\",\"xwincoder-34b\",\"starcoder2-15b-oci\",\"Qwen--Qwen1.5-72B-Chat\",\"speechless-starcoder2-15b\",\"deepseek-coder-6.7b-base\",\"databricks--dbrx-instruct\",\"microsoft--Phi-3-mini-4k-instruct\",\"codegemma-7b-it\",\"speechless-starcoder2-7b\",\"mixtral-8x7b-instruct\",\"codegemma-7b\",\"open-hermes-2.5-code-290k-13b\",\"octocoder\",\"codegemma-2b\",\"gemma-1.1-7b-it\",\"starcoder2-3b\",\"gemma-7b\",\"codegen-6b\",\"mistralai--Mistral-7B-Instruct-v0.2\",\"mistral-7b\",\"codet5p-2b\",\"gemma-7b-it\",\"codegen-2b\",\"gemma-2b\"],\"z\":[[0.0,0.12169312169312169,0.10317460317460317,0.13227513227513227,0.1455026455026455,0.12962962962962962,0.1402116402116402,0.1402116402116402,0.1455026455026455,0.15343915343915343,0.14285714285714285,0.1693121693121693,0.17989417989417988,0.16137566137566137,0.2037037037037037,0.21693121693121692,0.23544973544973544,0.21164021164021163,0.21164021164021163,0.2777777777777778,0.25396825396825395,0.30952380952380953,0.2751322751322751,0.31216931216931215,0.3148148148148148,0.328042328042328,0.335978835978836,0.3306878306878307,0.38095238095238093,0.335978835978836,0.37566137566137564,0.42328042328042326,0.3915343915343915,0.41798941798941797],[0.07407407407407407,0.0,0.07936507936507936,0.07936507936507936,0.1111111111111111,0.09523809523809523,0.10052910052910052,0.1111111111111111,0.11375661375661375,0.12169312169312169,0.10317460317460317,0.11904761904761904,0.1164021164021164,0.11904761904761904,0.14814814814814814,0.18518518518518517,0.2037037037037037,0.1746031746031746,0.15873015873015872,0.2328042328042328,0.21693121693121692,0.2566137566137566,0.21957671957671956,0.25925925925925924,0.2671957671957672,0.291005291005291,0.28835978835978837,0.2830687830687831,0.3386243386243386,0.2857142857142857,0.3306878306878307,0.3783068783068783,0.35185185185185186,0.36243386243386244],[0.06084656084656084,0.08465608465608465,0.0,0.08994708994708994,0.10582010582010581,0.09259259259259259,0.08994708994708994,0.09523809523809523,0.10317460317460317,0.10846560846560846,0.09523809523809523,0.11375661375661375,0.1164021164021164,0.10846560846560846,0.1455026455026455,0.18518518518518517,0.21164021164021163,0.15079365079365079,0.15873015873015872,0.23809523809523808,0.21164021164021163,0.2777777777777778,0.2328042328042328,0.25396825396825395,0.2804232804232804,0.2804232804232804,0.2830687830687831,0.28835978835978837,0.3412698412698413,0.291005291005291,0.3306878306878307,0.37566137566137564,0.3492063492063492,0.37037037037037035],[0.06878306878306878,0.06349206349206349,0.06878306878306878,0.0,0.10052910052910052,0.082010582010582,0.10317460317460317,0.10052910052910052,0.09259259259259259,0.12962962962962962,0.08994708994708994,0.10582010582010581,0.11375661375661375,0.10317460317460317,0.1455026455026455,0.1746031746031746,0.19047619047619047,0.164021164021164,0.15608465608465608,0.2275132275132275,0.20105820105820105,0.2619047619047619,0.21693121693121692,0.24603174603174602,0.24603174603174602,0.2698412698412698,0.2751322751322751,0.2751322751322751,0.3306878306878307,0.2830687830687831,0.3201058201058201,0.35714285714285715,0.3386243386243386,0.35978835978835977],[0.06349206349206349,0.07671957671957672,0.06613756613756613,0.082010582010582,0.0,0.0873015873015873,0.0873015873015873,0.10317460317460317,0.10582010582010581,0.11375661375661375,0.08465608465608465,0.08994708994708994,0.12169312169312169,0.08994708994708994,0.12698412698412698,0.164021164021164,0.18253968253968253,0.15873015873015872,0.15343915343915343,0.2222222222222222,0.1931216931216931,0.25925925925925924,0.20899470899470898,0.24867724867724866,0.24603174603174602,0.2671957671957672,0.26455026455026454,0.2619047619047619,0.328042328042328,0.2751322751322751,0.29894179894179895,0.36243386243386244,0.31746031746031744,0.3492063492063492],[0.06084656084656084,0.07407407407407407,0.06613756613756613,0.07671957671957672,0.10052910052910052,0.0,0.0582010582010582,0.09788359788359788,0.09788359788359788,0.11375661375661375,0.0873015873015873,0.10846560846560846,0.11375661375661375,0.10846560846560846,0.1349206349206349,0.1693121693121693,0.17195767195767195,0.16137566137566137,0.1455026455026455,0.20634920634920634,0.18783068783068782,0.25396825396825395,0.20105820105820105,0.24603174603174602,0.24074074074074073,0.25396825396825395,0.2619047619047619,0.26455026455026454,0.3148148148148148,0.2671957671957672,0.3148148148148148,0.35978835978835977,0.3253968253968254,0.3492063492063492],[0.06349206349206349,0.07142857142857142,0.05555555555555555,0.08994708994708994,0.09259259259259259,0.05026455026455026,0.0,0.09523809523809523,0.08994708994708994,0.10052910052910052,0.08465608465608465,0.11375661375661375,0.11375661375661375,0.1111111111111111,0.12962962962962962,0.16666666666666666,0.17195767195767195,0.15343915343915343,0.13756613756613756,0.21428571428571427,0.18518518518518517,0.24603174603174602,0.20899470899470898,0.23809523809523808,0.25132275132275134,0.2566137566137566,0.26455026455026454,0.2751322751322751,0.3148148148148148,0.2751322751322751,0.31216931216931215,0.35185185185185186,0.328042328042328,0.3492063492063492],[0.05291005291005291,0.07142857142857142,0.05026455026455026,0.07671957671957672,0.09788359788359788,0.07936507936507936,0.08465608465608465,0.0,0.082010582010582,0.08994708994708994,0.07936507936507936,0.10582010582010581,0.1111111111111111,0.07936507936507936,0.13756613756613756,0.16137566137566137,0.16666666666666666,0.14814814814814814,0.13227513227513227,0.21428571428571427,0.1984126984126984,0.23809523809523808,0.20105820105820105,0.24338624338624337,0.24867724867724866,0.24867724867724866,0.2698412698412698,0.2619047619047619,0.30158730158730157,0.26455026455026454,0.2962962962962963,0.3544973544973545,0.3201058201058201,0.335978835978836],[0.05555555555555555,0.07142857142857142,0.05555555555555555,0.06613756613756613,0.09788359788359788,0.07671957671957672,0.07671957671957672,0.07936507936507936,0.0,0.09259259259259259,0.07407407407407407,0.10846560846560846,0.09523809523809523,0.09788359788359788,0.12698412698412698,0.15608465608465608,0.1746031746031746,0.15343915343915343,0.15079365079365079,0.20899470899470898,0.18518518518518517,0.23544973544973544,0.20105820105820105,0.23809523809523808,0.24074074074074073,0.2671957671957672,0.2566137566137566,0.2619047619047619,0.30158730158730157,0.2698412698412698,0.30952380952380953,0.3439153439153439,0.3253968253968254,0.3333333333333333],[0.05555555555555555,0.07142857142857142,0.05291005291005291,0.09523809523809523,0.09788359788359788,0.08465608465608465,0.07936507936507936,0.07936507936507936,0.08465608465608465,0.0,0.09259259259259259,0.10317460317460317,0.10846560846560846,0.09259259259259259,0.13756613756613756,0.16137566137566137,0.18783068783068782,0.15079365079365079,0.1349206349206349,0.1984126984126984,0.1984126984126984,0.23809523809523808,0.2037037037037037,0.24074074074074073,0.24074074074074073,0.24867724867724866,0.25396825396825395,0.24867724867724866,0.2962962962962963,0.2619047619047619,0.29365079365079366,0.3439153439153439,0.30158730158730157,0.328042328042328],[0.0582010582010582,0.06613756613756613,0.05291005291005291,0.06878306878306878,0.082010582010582,0.07142857142857142,0.07671957671957672,0.082010582010582,0.07936507936507936,0.10582010582010581,0.0,0.10052910052910052,0.09523809523809523,0.07936507936507936,0.12433862433862433,0.1455026455026455,0.1693121693121693,0.1402116402116402,0.13227513227513227,0.20634920634920634,0.18518518518518517,0.24338624338624337,0.19576719576719576,0.23544973544973544,0.24867724867724866,0.2566137566137566,0.25925925925925924,0.25925925925925924,0.29894179894179895,0.26455026455026454,0.30952380952380953,0.34656084656084657,0.32275132275132273,0.3412698412698413],[0.06878306878306878,0.06613756613756613,0.05555555555555555,0.06878306878306878,0.07142857142857142,0.07671957671957672,0.08994708994708994,0.09259259259259259,0.09788359788359788,0.10052910052910052,0.08465608465608465,0.0,0.1111111111111111,0.06613756613756613,0.10846560846560846,0.15608465608465608,0.17989417989417988,0.12962962962962962,0.12433862433862433,0.21693121693121692,0.1693121693121693,0.23809523809523808,0.18518518518518517,0.2222222222222222,0.21957671957671956,0.23544973544973544,0.24074074074074073,0.25132275132275134,0.3201058201058201,0.25132275132275134,0.2830687830687831,0.335978835978836,0.29894179894179895,0.32275132275132273],[0.06349206349206349,0.047619047619047616,0.042328042328042326,0.06084656084656084,0.0873015873015873,0.06613756613756613,0.07407407407407407,0.082010582010582,0.06878306878306878,0.08994708994708994,0.06349206349206349,0.09523809523809523,0.0,0.0873015873015873,0.11375661375661375,0.1402116402116402,0.16137566137566137,0.12433862433862433,0.12698412698412698,0.1931216931216931,0.1746031746031746,0.20899470899470898,0.164021164021164,0.21428571428571427,0.23015873015873015,0.23544973544973544,0.23809523809523808,0.23015873015873015,0.2698412698412698,0.23809523809523808,0.291005291005291,0.3253968253968254,0.29894179894179895,0.30158730158730157],[0.05291005291005291,0.0582010582010582,0.042328042328042326,0.0582010582010582,0.06349206349206349,0.06878306878306878,0.07936507936507936,0.0582010582010582,0.07936507936507936,0.082010582010582,0.05555555555555555,0.0582010582010582,0.09523809523809523,0.0,0.10846560846560846,0.14285714285714285,0.16137566137566137,0.12433862433862433,0.11375661375661375,0.20105820105820105,0.15873015873015872,0.22486772486772486,0.17724867724867724,0.21957671957671956,0.22486772486772486,0.2222222222222222,0.24338624338624337,0.24074074074074073,0.2804232804232804,0.24603174603174602,0.2751322751322751,0.3306878306878307,0.2962962962962963,0.31746031746031744],[0.0582010582010582,0.05026455026455026,0.042328042328042326,0.06349206349206349,0.06349206349206349,0.0582010582010582,0.06084656084656084,0.07936507936507936,0.07142857142857142,0.08994708994708994,0.06349206349206349,0.06349206349206349,0.08465608465608465,0.07142857142857142,0.0,0.12698412698412698,0.15343915343915343,0.10582010582010581,0.11375661375661375,0.164021164021164,0.12962962962962962,0.21693121693121692,0.15873015873015872,0.18253968253968253,0.2037037037037037,0.1931216931216931,0.20899470899470898,0.20634920634920634,0.2857142857142857,0.20899470899470898,0.24074074074074073,0.3201058201058201,0.25925925925925924,0.2777777777777778],[0.042328042328042326,0.0582010582010582,0.05291005291005291,0.06349206349206349,0.07142857142857142,0.06349206349206349,0.06878306878306878,0.07407407407407407,0.07142857142857142,0.08465608465608465,0.05555555555555555,0.082010582010582,0.082010582010582,0.07671957671957672,0.09788359788359788,0.0,0.1349206349206349,0.1164021164021164,0.1111111111111111,0.1693121693121693,0.15343915343915343,0.19047619047619047,0.15873015873015872,0.1931216931216931,0.1931216931216931,0.2037037037037037,0.21428571428571427,0.21693121693121692,0.24867724867724866,0.21428571428571427,0.2566137566137566,0.2962962962962963,0.2698412698412698,0.2857142857142857],[0.04497354497354497,0.06084656084656084,0.06349206349206349,0.06349206349206349,0.07407407407407407,0.05026455026455026,0.0582010582010582,0.06349206349206349,0.07407407407407407,0.09523809523809523,0.06349206349206349,0.08994708994708994,0.0873015873015873,0.07936507936507936,0.10846560846560846,0.11904761904761904,0.0,0.12962962962962962,0.1111111111111111,0.1746031746031746,0.14285714285714285,0.17989417989417988,0.15873015873015872,0.19047619047619047,0.1984126984126984,0.20105820105820105,0.22486772486772486,0.21164021164021163,0.25132275132275134,0.21164021164021163,0.24338624338624337,0.28835978835978837,0.26455026455026454,0.2857142857142857],[0.047619047619047616,0.0582010582010582,0.0291005291005291,0.06349206349206349,0.07671957671957672,0.06613756613756613,0.06613756613756613,0.07142857142857142,0.07936507936507936,0.08465608465608465,0.06084656084656084,0.06613756613756613,0.07671957671957672,0.06878306878306878,0.0873015873015873,0.12698412698412698,0.15608465608465608,0.0,0.10582010582010581,0.17195767195767195,0.12962962962962962,0.1931216931216931,0.15079365079365079,0.17724867724867724,0.17989417989417988,0.18253968253968253,0.18518518518518517,0.21164021164021163,0.25396825396825395,0.1984126984126984,0.23809523809523808,0.2857142857142857,0.25132275132275134,0.2671957671957672],[0.042328042328042326,0.037037037037037035,0.031746031746031744,0.05026455026455026,0.06613756613756613,0.04497354497354497,0.04497354497354497,0.05026455026455026,0.07142857142857142,0.06349206349206349,0.047619047619047616,0.05555555555555555,0.07407407407407407,0.05291005291005291,0.08994708994708994,0.1164021164021164,0.13227513227513227,0.10052910052910052,0.0,0.15873015873015872,0.1455026455026455,0.17989417989417988,0.15079365079365079,0.164021164021164,0.17989417989417988,0.19047619047619047,0.2037037037037037,0.21164021164021163,0.2566137566137566,0.20634920634920634,0.23809523809523808,0.2751322751322751,0.25132275132275134,0.2566137566137566],[0.042328042328042326,0.04497354497354497,0.04497354497354497,0.05555555555555555,0.06878306878306878,0.03968253968253968,0.05555555555555555,0.06613756613756613,0.06349206349206349,0.06084656084656084,0.05555555555555555,0.082010582010582,0.07407407407407407,0.07407407407407407,0.07407407407407407,0.10846560846560846,0.12962962962962962,0.10052910052910052,0.09259259259259259,0.0,0.12169312169312169,0.1746031746031746,0.14285714285714285,0.15873015873015872,0.15873015873015872,0.1746031746031746,0.17989417989417988,0.19047619047619047,0.21693121693121692,0.18518518518518517,0.21693121693121692,0.2566137566137566,0.23015873015873015,0.24338624338624337],[0.04497354497354497,0.05555555555555555,0.04497354497354497,0.05555555555555555,0.06613756613756613,0.047619047619047616,0.05291005291005291,0.07671957671957672,0.06613756613756613,0.0873015873015873,0.06084656084656084,0.06084656084656084,0.082010582010582,0.0582010582010582,0.06613756613756613,0.11904761904761904,0.12433862433862433,0.08465608465608465,0.10582010582010581,0.14814814814814814,0.0,0.18518518518518517,0.1349206349206349,0.13756613756613756,0.16137566137566137,0.1693121693121693,0.164021164021164,0.18253968253968253,0.24338624338624337,0.1693121693121693,0.1984126984126984,0.25925925925925924,0.2222222222222222,0.23544973544973544],[0.03439153439153439,0.0291005291005291,0.04497354497354497,0.05026455026455026,0.06613756613756613,0.047619047619047616,0.047619047619047616,0.05026455026455026,0.05026455026455026,0.06084656084656084,0.05291005291005291,0.06349206349206349,0.05026455026455026,0.0582010582010582,0.0873015873015873,0.08994708994708994,0.09523809523809523,0.082010582010582,0.07407407407407407,0.1349206349206349,0.11904761904761904,0.0,0.1111111111111111,0.15079365079365079,0.14285714285714285,0.15873015873015872,0.15343915343915343,0.164021164021164,0.18253968253968253,0.13756613756613756,0.1693121693121693,0.21957671957671956,0.18783068783068782,0.20899470899470898],[0.03968253968253968,0.031746031746031744,0.03968253968253968,0.04497354497354497,0.05555555555555555,0.03439153439153439,0.05026455026455026,0.05291005291005291,0.05555555555555555,0.06613756613756613,0.04497354497354497,0.05026455026455026,0.04497354497354497,0.05026455026455026,0.06878306878306878,0.09788359788359788,0.11375661375661375,0.07936507936507936,0.08465608465608465,0.14285714285714285,0.10846560846560846,0.15079365079365079,0.0,0.12433862433862433,0.13756613756613756,0.14285714285714285,0.14285714285714285,0.12962962962962962,0.2037037037037037,0.13227513227513227,0.1746031746031746,0.24074074074074073,0.18518518518518517,0.2037037037037037],[0.04497354497354497,0.03968253968253968,0.0291005291005291,0.042328042328042326,0.06349206349206349,0.047619047619047616,0.047619047619047616,0.06349206349206349,0.06084656084656084,0.07142857142857142,0.05291005291005291,0.05555555555555555,0.06349206349206349,0.06084656084656084,0.06084656084656084,0.10052910052910052,0.11375661375661375,0.07407407407407407,0.06613756613756613,0.12698412698412698,0.07936507936507936,0.15873015873015872,0.09259259259259259,0.0,0.12698412698412698,0.12433862433862433,0.13227513227513227,0.12962962962962962,0.21164021164021163,0.1164021164021164,0.15608465608465608,0.21693121693121692,0.1746031746031746,0.17195767195767195],[0.031746031746031744,0.031746031746031744,0.03968253968253968,0.026455026455026454,0.04497354497354497,0.026455026455026454,0.04497354497354497,0.05291005291005291,0.047619047619047616,0.05555555555555555,0.05026455026455026,0.037037037037037035,0.06349206349206349,0.05026455026455026,0.06613756613756613,0.08465608465608465,0.10582010582010581,0.06084656084656084,0.06613756613756613,0.1111111111111111,0.0873015873015873,0.1349206349206349,0.08994708994708994,0.1111111111111111,0.0,0.13756613756613756,0.12433862433862433,0.13227513227513227,0.16666666666666666,0.12962962962962962,0.16137566137566137,0.18518518518518517,0.164021164021164,0.1746031746031746],[0.03439153439153439,0.04497354497354497,0.0291005291005291,0.03968253968253968,0.05555555555555555,0.0291005291005291,0.03968253968253968,0.042328042328042326,0.06349206349206349,0.05291005291005291,0.047619047619047616,0.042328042328042326,0.0582010582010582,0.037037037037037035,0.04497354497354497,0.08465608465608465,0.09788359788359788,0.05291005291005291,0.06613756613756613,0.1164021164021164,0.08465608465608465,0.1402116402116402,0.08465608465608465,0.09788359788359788,0.12698412698412698,0.0,0.12698412698412698,0.1349206349206349,0.19047619047619047,0.1164021164021164,0.1455026455026455,0.20899470899470898,0.15343915343915343,0.18253968253968253],[0.037037037037037035,0.037037037037037035,0.026455026455026454,0.03968253968253968,0.047619047619047616,0.031746031746031744,0.042328042328042326,0.0582010582010582,0.047619047619047616,0.05291005291005291,0.04497354497354497,0.042328042328042326,0.05555555555555555,0.05291005291005291,0.05555555555555555,0.08994708994708994,0.1164021164021164,0.05026455026455026,0.07407407407407407,0.1164021164021164,0.07407407407407407,0.12962962962962962,0.07936507936507936,0.10052910052910052,0.10846560846560846,0.12169312169312169,0.0,0.11904761904761904,0.18518518518518517,0.10317460317460317,0.1455026455026455,0.19047619047619047,0.15608465608465608,0.164021164021164],[0.026455026455026454,0.026455026455026454,0.026455026455026454,0.03439153439153439,0.03968253968253968,0.0291005291005291,0.047619047619047616,0.04497354497354497,0.047619047619047616,0.042328042328042326,0.03968253968253968,0.047619047619047616,0.042328042328042326,0.04497354497354497,0.047619047619047616,0.0873015873015873,0.09788359788359788,0.07142857142857142,0.07671957671957672,0.12169312169312169,0.0873015873015873,0.1349206349206349,0.06084656084656084,0.09259259259259259,0.1111111111111111,0.12433862433862433,0.11375661375661375,0.0,0.1746031746031746,0.10052910052910052,0.12433862433862433,0.21164021164021163,0.12433862433862433,0.14814814814814814],[0.018518518518518517,0.023809523809523808,0.021164021164021163,0.031746031746031744,0.047619047619047616,0.021164021164021163,0.0291005291005291,0.026455026455026454,0.0291005291005291,0.031746031746031744,0.021164021164021163,0.0582010582010582,0.023809523809523808,0.026455026455026454,0.06878306878306878,0.06084656084656084,0.07936507936507936,0.05555555555555555,0.06349206349206349,0.08994708994708994,0.08994708994708994,0.09523809523809523,0.07671957671957672,0.1164021164021164,0.0873015873015873,0.12169312169312169,0.12169312169312169,0.1164021164021164,0.0,0.1111111111111111,0.14814814814814814,0.17195767195767195,0.15608465608465608,0.1455026455026455],[0.023809523809523808,0.021164021164021163,0.021164021164021163,0.03439153439153439,0.04497354497354497,0.023809523809523808,0.03968253968253968,0.03968253968253968,0.047619047619047616,0.047619047619047616,0.037037037037037035,0.03968253968253968,0.042328042328042326,0.042328042328042326,0.042328042328042326,0.07671957671957672,0.08994708994708994,0.05026455026455026,0.06349206349206349,0.10846560846560846,0.06613756613756613,0.10052910052910052,0.05555555555555555,0.07142857142857142,0.10052910052910052,0.09788359788359788,0.08994708994708994,0.09259259259259259,0.16137566137566137,0.0,0.11375661375661375,0.17989417989417988,0.1402116402116402,0.1349206349206349],[0.023809523809523808,0.026455026455026454,0.021164021164021163,0.031746031746031744,0.0291005291005291,0.031746031746031744,0.037037037037037035,0.031746031746031744,0.047619047619047616,0.03968253968253968,0.042328042328042326,0.031746031746031744,0.05555555555555555,0.031746031746031744,0.03439153439153439,0.07936507936507936,0.082010582010582,0.05026455026455026,0.05555555555555555,0.10052910052910052,0.05555555555555555,0.09259259259259259,0.0582010582010582,0.07142857142857142,0.09259259259259259,0.0873015873015873,0.09259259259259259,0.07671957671957672,0.15873015873015872,0.07407407407407407,0.0,0.17195767195767195,0.06613756613756613,0.11904761904761904],[0.018518518518518517,0.021164021164021163,0.013227513227513227,0.015873015873015872,0.03968253968253968,0.023809523809523808,0.023809523809523808,0.037037037037037035,0.0291005291005291,0.037037037037037035,0.026455026455026454,0.031746031746031744,0.037037037037037035,0.03439153439153439,0.06084656084656084,0.06613756613756613,0.07407407407407407,0.04497354497354497,0.03968253968253968,0.0873015873015873,0.06349206349206349,0.08994708994708994,0.07142857142857142,0.07936507936507936,0.06349206349206349,0.09788359788359788,0.08465608465608465,0.1111111111111111,0.12962962962962962,0.0873015873015873,0.11904761904761904,0.0,0.12962962962962962,0.1349206349206349],[0.018518518518518517,0.026455026455026454,0.018518518518518517,0.0291005291005291,0.026455026455026454,0.021164021164021163,0.031746031746031744,0.03439153439153439,0.042328042328042326,0.026455026455026454,0.03439153439153439,0.026455026455026454,0.042328042328042326,0.031746031746031744,0.031746031746031744,0.07142857142857142,0.082010582010582,0.042328042328042326,0.047619047619047616,0.09259259259259259,0.0582010582010582,0.08994708994708994,0.047619047619047616,0.06878306878306878,0.07407407407407407,0.07407407407407407,0.082010582010582,0.05555555555555555,0.1455026455026455,0.07936507936507936,0.04497354497354497,0.16137566137566137,0.0,0.11904761904761904],[0.026455026455026454,0.018518518518518517,0.021164021164021163,0.031746031746031744,0.03968253968253968,0.026455026455026454,0.03439153439153439,0.031746031746031744,0.031746031746031744,0.03439153439153439,0.03439153439153439,0.031746031746031744,0.026455026455026454,0.03439153439153439,0.031746031746031744,0.06878306878306878,0.08465608465608465,0.03968253968253968,0.03439153439153439,0.0873015873015873,0.05291005291005291,0.09259259259259259,0.047619047619047616,0.047619047619047616,0.06613756613756613,0.08465608465608465,0.07142857142857142,0.06084656084656084,0.1164021164021164,0.05555555555555555,0.07936507936507936,0.14814814814814814,0.10052910052910052,0.0]],\"type\":\"heatmap\",\"xaxis\":\"x\",\"yaxis\":\"y\",\"hovertemplate\":\"A Wins: %{customdata[0]:.3f}\\u003cbr\\u003eB Wins: %{customdata[1]:.3f}\\u003cbr\\u003eNeither: %{customdata[2]:.3f}\\u003cbr\\u003eBoth: %{customdata[3]:.3f}\",\"customdata\":[[[0.0,0.0,0.2671957671957672,0.7328042328042328],[0.12169312169312169,0.07407407407407407,0.1931216931216931,0.6111111111111112],[0.10317460317460317,0.06084656084656084,0.20634920634920634,0.6296296296296297],[0.13227513227513227,0.06878306878306878,0.1984126984126984,0.6005291005291006],[0.1455026455026455,0.06349206349206349,0.2037037037037037,0.5873015873015873],[0.12962962962962962,0.06084656084656084,0.20634920634920634,0.6031746031746031],[0.1402116402116402,0.06349206349206349,0.2037037037037037,0.5925925925925926],[0.1402116402116402,0.05291005291005291,0.21428571428571427,0.5925925925925926],[0.1455026455026455,0.05555555555555555,0.21164021164021163,0.5873015873015873],[0.15343915343915343,0.05555555555555555,0.21164021164021163,0.5793650793650794],[0.14285714285714285,0.0582010582010582,0.20899470899470898,0.58994708994709],[0.1693121693121693,0.06878306878306878,0.1984126984126984,0.5634920634920635],[0.17989417989417988,0.06349206349206349,0.2037037037037037,0.5529100529100529],[0.16137566137566137,0.05291005291005291,0.21428571428571427,0.5714285714285714],[0.2037037037037037,0.0582010582010582,0.20899470899470898,0.5291005291005291],[0.21693121693121692,0.042328042328042326,0.22486772486772486,0.5158730158730159],[0.23544973544973544,0.04497354497354497,0.2222222222222222,0.4973544973544973],[0.21164021164021163,0.047619047619047616,0.21957671957671956,0.5211640211640212],[0.21164021164021163,0.042328042328042326,0.22486772486772486,0.5211640211640212],[0.2777777777777778,0.042328042328042326,0.22486772486772486,0.455026455026455],[0.25396825396825395,0.04497354497354497,0.2222222222222222,0.47883597883597884],[0.30952380952380953,0.03439153439153439,0.2328042328042328,0.42328042328042326],[0.2751322751322751,0.03968253968253968,0.2275132275132275,0.4576719576719577],[0.31216931216931215,0.04497354497354497,0.2222222222222222,0.42063492063492064],[0.3148148148148148,0.031746031746031744,0.23544973544973544,0.41798941798941797],[0.328042328042328,0.03439153439153439,0.2328042328042328,0.40476190476190477],[0.335978835978836,0.037037037037037035,0.23015873015873015,0.3968253968253968],[0.3306878306878307,0.026455026455026454,0.24074074074074073,0.4021164021164021],[0.38095238095238093,0.018518518518518517,0.24867724867724866,0.35185185185185186],[0.335978835978836,0.023809523809523808,0.24338624338624337,0.3968253968253968],[0.37566137566137564,0.023809523809523808,0.24338624338624337,0.35714285714285715],[0.42328042328042326,0.018518518518518517,0.24867724867724866,0.30952380952380953],[0.3915343915343915,0.018518518518518517,0.24867724867724866,0.3412698412698413],[0.41798941798941797,0.026455026455026454,0.24074074074074073,0.3148148148148148]],[[0.07407407407407407,0.12169312169312169,0.1931216931216931,0.6111111111111112],[0.0,0.0,0.3148148148148148,0.6851851851851852],[0.07936507936507936,0.08465608465608465,0.23015873015873015,0.6058201058201058],[0.07936507936507936,0.06349206349206349,0.25132275132275134,0.6058201058201058],[0.1111111111111111,0.07671957671957672,0.23809523809523808,0.5740740740740741],[0.09523809523809523,0.07407407407407407,0.24074074074074073,0.58994708994709],[0.10052910052910052,0.07142857142857142,0.24338624338624337,0.5846560846560847],[0.1111111111111111,0.07142857142857142,0.24338624338624337,0.5740740740740741],[0.11375661375661375,0.07142857142857142,0.24338624338624337,0.5714285714285714],[0.12169312169312169,0.07142857142857142,0.24338624338624337,0.5634920634920635],[0.10317460317460317,0.06613756613756613,0.24867724867724866,0.582010582010582],[0.11904761904761904,0.06613756613756613,0.24867724867724866,0.5661375661375662],[0.1164021164021164,0.047619047619047616,0.2671957671957672,0.5687830687830688],[0.11904761904761904,0.0582010582010582,0.2566137566137566,0.5661375661375662],[0.14814814814814814,0.05026455026455026,0.26455026455026454,0.5370370370370371],[0.18518518518518517,0.0582010582010582,0.2566137566137566,0.5],[0.2037037037037037,0.06084656084656084,0.25396825396825395,0.48148148148148145],[0.1746031746031746,0.0582010582010582,0.2566137566137566,0.5105820105820106],[0.15873015873015872,0.037037037037037035,0.2777777777777778,0.5264550264550265],[0.2328042328042328,0.04497354497354497,0.2698412698412698,0.4523809523809524],[0.21693121693121692,0.05555555555555555,0.25925925925925924,0.46825396825396826],[0.2566137566137566,0.0291005291005291,0.2857142857142857,0.42857142857142855],[0.21957671957671956,0.031746031746031744,0.2830687830687831,0.4656084656084656],[0.25925925925925924,0.03968253968253968,0.2751322751322751,0.42592592592592593],[0.2671957671957672,0.031746031746031744,0.2830687830687831,0.41798941798941797],[0.291005291005291,0.04497354497354497,0.2698412698412698,0.3941798941798942],[0.28835978835978837,0.037037037037037035,0.2777777777777778,0.3968253968253968],[0.2830687830687831,0.026455026455026454,0.28835978835978837,0.4021164021164021],[0.3386243386243386,0.023809523809523808,0.291005291005291,0.34656084656084657],[0.2857142857142857,0.021164021164021163,0.29365079365079366,0.3994708994708995],[0.3306878306878307,0.026455026455026454,0.28835978835978837,0.3544973544973545],[0.3783068783068783,0.021164021164021163,0.29365079365079366,0.30687830687830686],[0.35185185185185186,0.026455026455026454,0.28835978835978837,0.3333333333333333],[0.36243386243386244,0.018518518518518517,0.2962962962962963,0.32275132275132273]],[[0.06084656084656084,0.10317460317460317,0.20634920634920634,0.6296296296296297],[0.08465608465608465,0.07936507936507936,0.23015873015873015,0.6058201058201058],[0.0,0.0,0.30952380952380953,0.6904761904761905],[0.08994708994708994,0.06878306878306878,0.24074074074074073,0.6005291005291006],[0.10582010582010581,0.06613756613756613,0.24338624338624337,0.5846560846560847],[0.09259259259259259,0.06613756613756613,0.24338624338624337,0.5978835978835979],[0.08994708994708994,0.05555555555555555,0.25396825396825395,0.6005291005291006],[0.09523809523809523,0.05026455026455026,0.25925925925925924,0.5952380952380952],[0.10317460317460317,0.05555555555555555,0.25396825396825395,0.5873015873015873],[0.10846560846560846,0.05291005291005291,0.2566137566137566,0.582010582010582],[0.09523809523809523,0.05291005291005291,0.2566137566137566,0.5952380952380952],[0.11375661375661375,0.05555555555555555,0.25396825396825395,0.5767195767195767],[0.1164021164021164,0.042328042328042326,0.2671957671957672,0.5740740740740741],[0.10846560846560846,0.042328042328042326,0.2671957671957672,0.582010582010582],[0.1455026455026455,0.042328042328042326,0.2671957671957672,0.544973544973545],[0.18518518518518517,0.05291005291005291,0.2566137566137566,0.5052910052910053],[0.21164021164021163,0.06349206349206349,0.24603174603174602,0.47883597883597884],[0.15079365079365079,0.0291005291005291,0.2804232804232804,0.5396825396825397],[0.15873015873015872,0.031746031746031744,0.2777777777777778,0.5317460317460317],[0.23809523809523808,0.04497354497354497,0.26455026455026454,0.4523809523809524],[0.21164021164021163,0.04497354497354497,0.26455026455026454,0.47883597883597884],[0.2777777777777778,0.04497354497354497,0.26455026455026454,0.4126984126984127],[0.2328042328042328,0.03968253968253968,0.2698412698412698,0.4576719576719577],[0.25396825396825395,0.0291005291005291,0.2804232804232804,0.4365079365079365],[0.2804232804232804,0.03968253968253968,0.2698412698412698,0.41005291005291006],[0.2804232804232804,0.0291005291005291,0.2804232804232804,0.41005291005291006],[0.2830687830687831,0.026455026455026454,0.2830687830687831,0.4074074074074074],[0.28835978835978837,0.026455026455026454,0.2830687830687831,0.4021164021164021],[0.3412698412698413,0.021164021164021163,0.28835978835978837,0.3492063492063492],[0.291005291005291,0.021164021164021163,0.28835978835978837,0.3994708994708995],[0.3306878306878307,0.021164021164021163,0.28835978835978837,0.35978835978835977],[0.37566137566137564,0.013227513227513227,0.2962962962962963,0.3148148148148148],[0.3492063492063492,0.018518518518518517,0.291005291005291,0.3412698412698413],[0.37037037037037035,0.021164021164021163,0.28835978835978837,0.3201058201058201]],[[0.06878306878306878,0.13227513227513227,0.1984126984126984,0.6005291005291006],[0.06349206349206349,0.07936507936507936,0.25132275132275134,0.6058201058201058],[0.06878306878306878,0.08994708994708994,0.24074074074074073,0.6005291005291006],[0.0,0.0,0.3306878306878307,0.6693121693121693],[0.10052910052910052,0.082010582010582,0.24867724867724866,0.5687830687830688],[0.082010582010582,0.07671957671957672,0.25396825396825395,0.5873015873015873],[0.10317460317460317,0.08994708994708994,0.24074074074074073,0.5661375661375662],[0.10052910052910052,0.07671957671957672,0.25396825396825395,0.5687830687830688],[0.09259259259259259,0.06613756613756613,0.26455026455026454,0.5767195767195767],[0.12962962962962962,0.09523809523809523,0.23544973544973544,0.5396825396825397],[0.08994708994708994,0.06878306878306878,0.2619047619047619,0.5793650793650794],[0.10582010582010581,0.06878306878306878,0.2619047619047619,0.5634920634920635],[0.11375661375661375,0.06084656084656084,0.2698412698412698,0.5555555555555556],[0.10317460317460317,0.0582010582010582,0.2724867724867725,0.5661375661375662],[0.1455026455026455,0.06349206349206349,0.2671957671957672,0.5238095238095238],[0.1746031746031746,0.06349206349206349,0.2671957671957672,0.4947089947089947],[0.19047619047619047,0.06349206349206349,0.2671957671957672,0.47883597883597884],[0.164021164021164,0.06349206349206349,0.2671957671957672,0.5052910052910053],[0.15608465608465608,0.05026455026455026,0.2804232804232804,0.5132275132275133],[0.2275132275132275,0.05555555555555555,0.2751322751322751,0.4417989417989418],[0.20105820105820105,0.05555555555555555,0.2751322751322751,0.46825396825396826],[0.2619047619047619,0.05026455026455026,0.2804232804232804,0.4074074074074074],[0.21693121693121692,0.04497354497354497,0.2857142857142857,0.4523809523809524],[0.24603174603174602,0.042328042328042326,0.28835978835978837,0.42328042328042326],[0.24603174603174602,0.026455026455026454,0.30423280423280424,0.42328042328042326],[0.2698412698412698,0.03968253968253968,0.291005291005291,0.3994708994708995],[0.2751322751322751,0.03968253968253968,0.291005291005291,0.3941798941798942],[0.2751322751322751,0.03439153439153439,0.2962962962962963,0.3941798941798942],[0.3306878306878307,0.031746031746031744,0.29894179894179895,0.3386243386243386],[0.2830687830687831,0.03439153439153439,0.2962962962962963,0.3862433862433862],[0.3201058201058201,0.031746031746031744,0.29894179894179895,0.3492063492063492],[0.35714285714285715,0.015873015873015872,0.3148148148148148,0.31216931216931215],[0.3386243386243386,0.0291005291005291,0.30158730158730157,0.3306878306878307],[0.35978835978835977,0.031746031746031744,0.29894179894179895,0.30952380952380953]],[[0.06349206349206349,0.1455026455026455,0.2037037037037037,0.5873015873015873],[0.07671957671957672,0.1111111111111111,0.23809523809523808,0.5740740740740741],[0.06613756613756613,0.10582010582010581,0.24338624338624337,0.5846560846560847],[0.082010582010582,0.10052910052910052,0.24867724867724866,0.5687830687830688],[0.0,0.0,0.3492063492063492,0.6507936507936508],[0.0873015873015873,0.10052910052910052,0.24867724867724866,0.5634920634920635],[0.0873015873015873,0.09259259259259259,0.2566137566137566,0.5634920634920635],[0.10317460317460317,0.09788359788359788,0.25132275132275134,0.5476190476190477],[0.10582010582010581,0.09788359788359788,0.25132275132275134,0.544973544973545],[0.11375661375661375,0.09788359788359788,0.25132275132275134,0.5370370370370371],[0.08465608465608465,0.082010582010582,0.2671957671957672,0.5661375661375662],[0.08994708994708994,0.07142857142857142,0.2777777777777778,0.5608465608465608],[0.12169312169312169,0.0873015873015873,0.2619047619047619,0.5291005291005291],[0.08994708994708994,0.06349206349206349,0.2857142857142857,0.5608465608465608],[0.12698412698412698,0.06349206349206349,0.2857142857142857,0.5238095238095238],[0.164021164021164,0.07142857142857142,0.2777777777777778,0.48677248677248675],[0.18253968253968253,0.07407407407407407,0.2751322751322751,0.46825396825396826],[0.15873015873015872,0.07671957671957672,0.2724867724867725,0.49206349206349204],[0.15343915343915343,0.06613756613756613,0.2830687830687831,0.4973544973544973],[0.2222222222222222,0.06878306878306878,0.2804232804232804,0.42857142857142855],[0.1931216931216931,0.06613756613756613,0.2830687830687831,0.4576719576719577],[0.25925925925925924,0.06613756613756613,0.2830687830687831,0.3915343915343915],[0.20899470899470898,0.05555555555555555,0.29365079365079366,0.4417989417989418],[0.24867724867724866,0.06349206349206349,0.2857142857142857,0.4021164021164021],[0.24603174603174602,0.04497354497354497,0.30423280423280424,0.40476190476190477],[0.2671957671957672,0.05555555555555555,0.29365079365079366,0.3835978835978836],[0.26455026455026454,0.047619047619047616,0.30158730158730157,0.3862433862433862],[0.2619047619047619,0.03968253968253968,0.30952380952380953,0.3888888888888889],[0.328042328042328,0.047619047619047616,0.30158730158730157,0.32275132275132273],[0.2751322751322751,0.04497354497354497,0.30423280423280424,0.37566137566137564],[0.29894179894179895,0.0291005291005291,0.3201058201058201,0.35185185185185186],[0.36243386243386244,0.03968253968253968,0.30952380952380953,0.28835978835978837],[0.31746031746031744,0.026455026455026454,0.32275132275132273,0.3333333333333333],[0.3492063492063492,0.03968253968253968,0.30952380952380953,0.30158730158730157]],[[0.06084656084656084,0.12962962962962962,0.20634920634920634,0.6031746031746031],[0.07407407407407407,0.09523809523809523,0.24074074074074073,0.58994708994709],[0.06613756613756613,0.09259259259259259,0.24338624338624337,0.5978835978835979],[0.07671957671957672,0.082010582010582,0.25396825396825395,0.5873015873015873],[0.10052910052910052,0.0873015873015873,0.24867724867724866,0.5634920634920635],[0.0,0.0,0.335978835978836,0.6640211640211641],[0.0582010582010582,0.05026455026455026,0.2857142857142857,0.6058201058201058],[0.09788359788359788,0.07936507936507936,0.2566137566137566,0.5661375661375662],[0.09788359788359788,0.07671957671957672,0.25925925925925924,0.5661375661375662],[0.11375661375661375,0.08465608465608465,0.25132275132275134,0.5502645502645502],[0.0873015873015873,0.07142857142857142,0.26455026455026454,0.5767195767195767],[0.10846560846560846,0.07671957671957672,0.25925925925925924,0.5555555555555556],[0.11375661375661375,0.06613756613756613,0.2698412698412698,0.5502645502645502],[0.10846560846560846,0.06878306878306878,0.2671957671957672,0.5555555555555556],[0.1349206349206349,0.0582010582010582,0.2777777777777778,0.5291005291005291],[0.1693121693121693,0.06349206349206349,0.2724867724867725,0.4947089947089947],[0.17195767195767195,0.05026455026455026,0.2857142857142857,0.49206349206349204],[0.16137566137566137,0.06613756613756613,0.2698412698412698,0.5026455026455027],[0.1455026455026455,0.04497354497354497,0.291005291005291,0.5185185185185185],[0.20634920634920634,0.03968253968253968,0.2962962962962963,0.4576719576719577],[0.18783068783068782,0.047619047619047616,0.28835978835978837,0.47619047619047616],[0.25396825396825395,0.047619047619047616,0.28835978835978837,0.41005291005291006],[0.20105820105820105,0.03439153439153439,0.30158730158730157,0.46296296296296297],[0.24603174603174602,0.047619047619047616,0.28835978835978837,0.41798941798941797],[0.24074074074074073,0.026455026455026454,0.30952380952380953,0.42328042328042326],[0.25396825396825395,0.0291005291005291,0.30687830687830686,0.41005291005291006],[0.2619047619047619,0.031746031746031744,0.30423280423280424,0.4021164021164021],[0.26455026455026454,0.0291005291005291,0.30687830687830686,0.3994708994708995],[0.3148148148148148,0.021164021164021163,0.3148148148148148,0.3492063492063492],[0.2671957671957672,0.023809523809523808,0.31216931216931215,0.3968253968253968],[0.3148148148148148,0.031746031746031744,0.30423280423280424,0.3492063492063492],[0.35978835978835977,0.023809523809523808,0.31216931216931215,0.30423280423280424],[0.3253968253968254,0.021164021164021163,0.3148148148148148,0.3386243386243386],[0.3492063492063492,0.026455026455026454,0.30952380952380953,0.3148148148148148]],[[0.06349206349206349,0.1402116402116402,0.2037037037037037,0.5925925925925926],[0.07142857142857142,0.10052910052910052,0.24338624338624337,0.5846560846560847],[0.05555555555555555,0.08994708994708994,0.25396825396825395,0.6005291005291006],[0.08994708994708994,0.10317460317460317,0.24074074074074073,0.5661375661375662],[0.09259259259259259,0.0873015873015873,0.2566137566137566,0.5634920634920635],[0.05026455026455026,0.0582010582010582,0.2857142857142857,0.6058201058201058],[0.0,0.0,0.3439153439153439,0.656084656084656],[0.09523809523809523,0.08465608465608465,0.25925925925925924,0.5608465608465608],[0.08994708994708994,0.07671957671957672,0.2671957671957672,0.5661375661375662],[0.10052910052910052,0.07936507936507936,0.26455026455026454,0.5555555555555556],[0.08465608465608465,0.07671957671957672,0.2671957671957672,0.5714285714285714],[0.11375661375661375,0.08994708994708994,0.25396825396825395,0.5423280423280423],[0.11375661375661375,0.07407407407407407,0.2698412698412698,0.5423280423280423],[0.1111111111111111,0.07936507936507936,0.26455026455026454,0.544973544973545],[0.12962962962962962,0.06084656084656084,0.2830687830687831,0.5264550264550265],[0.16666666666666666,0.06878306878306878,0.2751322751322751,0.4894179894179894],[0.17195767195767195,0.0582010582010582,0.2857142857142857,0.48412698412698413],[0.15343915343915343,0.06613756613756613,0.2777777777777778,0.5026455026455027],[0.13756613756613756,0.04497354497354497,0.29894179894179895,0.5185185185185185],[0.21428571428571427,0.05555555555555555,0.28835978835978837,0.4417989417989418],[0.18518518518518517,0.05291005291005291,0.291005291005291,0.4708994708994709],[0.24603174603174602,0.047619047619047616,0.2962962962962963,0.41005291005291006],[0.20899470899470898,0.05026455026455026,0.29365079365079366,0.4470899470899471],[0.23809523809523808,0.047619047619047616,0.2962962962962963,0.41798941798941797],[0.25132275132275134,0.04497354497354497,0.29894179894179895,0.40476190476190477],[0.2566137566137566,0.03968253968253968,0.30423280423280424,0.3994708994708995],[0.26455026455026454,0.042328042328042326,0.30158730158730157,0.3915343915343915],[0.2751322751322751,0.047619047619047616,0.2962962962962963,0.38095238095238093],[0.3148148148148148,0.0291005291005291,0.3148148148148148,0.3412698412698413],[0.2751322751322751,0.03968253968253968,0.30423280423280424,0.38095238095238093],[0.31216931216931215,0.037037037037037035,0.30687830687830686,0.3439153439153439],[0.35185185185185186,0.023809523809523808,0.3201058201058201,0.30423280423280424],[0.328042328042328,0.031746031746031744,0.31216931216931215,0.328042328042328],[0.3492063492063492,0.03439153439153439,0.30952380952380953,0.30687830687830686]],[[0.05291005291005291,0.1402116402116402,0.21428571428571427,0.5925925925925926],[0.07142857142857142,0.1111111111111111,0.24338624338624337,0.5740740740740741],[0.05026455026455026,0.09523809523809523,0.25925925925925924,0.5952380952380952],[0.07671957671957672,0.10052910052910052,0.25396825396825395,0.5687830687830688],[0.09788359788359788,0.10317460317460317,0.25132275132275134,0.5476190476190477],[0.07936507936507936,0.09788359788359788,0.2566137566137566,0.5661375661375662],[0.08465608465608465,0.09523809523809523,0.25925925925925924,0.5608465608465608],[0.0,0.0,0.3544973544973545,0.6455026455026455],[0.082010582010582,0.07936507936507936,0.2751322751322751,0.5634920634920635],[0.08994708994708994,0.07936507936507936,0.2751322751322751,0.5555555555555556],[0.07936507936507936,0.082010582010582,0.2724867724867725,0.5661375661375662],[0.10582010582010581,0.09259259259259259,0.2619047619047619,0.5396825396825397],[0.1111111111111111,0.082010582010582,0.2724867724867725,0.5343915343915344],[0.07936507936507936,0.0582010582010582,0.2962962962962963,0.5661375661375662],[0.13756613756613756,0.07936507936507936,0.2751322751322751,0.5079365079365079],[0.16137566137566137,0.07407407407407407,0.2804232804232804,0.48412698412698413],[0.16666666666666666,0.06349206349206349,0.291005291005291,0.47883597883597884],[0.14814814814814814,0.07142857142857142,0.2830687830687831,0.4973544973544973],[0.13227513227513227,0.05026455026455026,0.30423280423280424,0.5132275132275133],[0.21428571428571427,0.06613756613756613,0.28835978835978837,0.4312169312169312],[0.1984126984126984,0.07671957671957672,0.2777777777777778,0.4470899470899471],[0.23809523809523808,0.05026455026455026,0.30423280423280424,0.4074074074074074],[0.20105820105820105,0.05291005291005291,0.30158730158730157,0.4444444444444444],[0.24338624338624337,0.06349206349206349,0.291005291005291,0.4021164021164021],[0.24867724867724866,0.05291005291005291,0.30158730158730157,0.3968253968253968],[0.24867724867724866,0.042328042328042326,0.31216931216931215,0.3968253968253968],[0.2698412698412698,0.0582010582010582,0.2962962962962963,0.37566137566137564],[0.2619047619047619,0.04497354497354497,0.30952380952380953,0.3835978835978836],[0.30158730158730157,0.026455026455026454,0.328042328042328,0.3439153439153439],[0.26455026455026454,0.03968253968253968,0.3148148148148148,0.38095238095238093],[0.2962962962962963,0.031746031746031744,0.32275132275132273,0.3492063492063492],[0.3544973544973545,0.037037037037037035,0.31746031746031744,0.291005291005291],[0.3201058201058201,0.03439153439153439,0.3201058201058201,0.3253968253968254],[0.335978835978836,0.031746031746031744,0.32275132275132273,0.30952380952380953]],[[0.05555555555555555,0.1455026455026455,0.21164021164021163,0.5873015873015873],[0.07142857142857142,0.11375661375661375,0.24338624338624337,0.5714285714285714],[0.05555555555555555,0.10317460317460317,0.25396825396825395,0.5873015873015873],[0.06613756613756613,0.09259259259259259,0.26455026455026454,0.5767195767195767],[0.09788359788359788,0.10582010582010581,0.25132275132275134,0.544973544973545],[0.07671957671957672,0.09788359788359788,0.25925925925925924,0.5661375661375662],[0.07671957671957672,0.08994708994708994,0.2671957671957672,0.5661375661375662],[0.07936507936507936,0.082010582010582,0.2751322751322751,0.5634920634920635],[0.0,0.0,0.35714285714285715,0.6428571428571429],[0.09259259259259259,0.08465608465608465,0.2724867724867725,0.5502645502645502],[0.07407407407407407,0.07936507936507936,0.2777777777777778,0.5687830687830688],[0.10846560846560846,0.09788359788359788,0.25925925925925924,0.5343915343915344],[0.09523809523809523,0.06878306878306878,0.28835978835978837,0.5476190476190477],[0.09788359788359788,0.07936507936507936,0.2777777777777778,0.544973544973545],[0.12698412698412698,0.07142857142857142,0.2857142857142857,0.5158730158730159],[0.15608465608465608,0.07142857142857142,0.2857142857142857,0.48677248677248675],[0.1746031746031746,0.07407407407407407,0.2830687830687831,0.46825396825396826],[0.15343915343915343,0.07936507936507936,0.2777777777777778,0.4894179894179894],[0.15079365079365079,0.07142857142857142,0.2857142857142857,0.49206349206349204],[0.20899470899470898,0.06349206349206349,0.29365079365079366,0.43386243386243384],[0.18518518518518517,0.06613756613756613,0.291005291005291,0.4576719576719577],[0.23544973544973544,0.05026455026455026,0.30687830687830686,0.4074074074074074],[0.20105820105820105,0.05555555555555555,0.30158730158730157,0.4417989417989418],[0.23809523809523808,0.06084656084656084,0.2962962962962963,0.40476190476190477],[0.24074074074074073,0.047619047619047616,0.30952380952380953,0.4021164021164021],[0.2671957671957672,0.06349206349206349,0.29365079365079366,0.37566137566137564],[0.2566137566137566,0.047619047619047616,0.30952380952380953,0.3862433862433862],[0.2619047619047619,0.047619047619047616,0.30952380952380953,0.38095238095238093],[0.30158730158730157,0.0291005291005291,0.328042328042328,0.3412698412698413],[0.2698412698412698,0.047619047619047616,0.30952380952380953,0.373015873015873],[0.30952380952380953,0.047619047619047616,0.30952380952380953,0.3333333333333333],[0.3439153439153439,0.0291005291005291,0.328042328042328,0.29894179894179895],[0.3253968253968254,0.042328042328042326,0.3148148148148148,0.31746031746031744],[0.3333333333333333,0.031746031746031744,0.3253968253968254,0.30952380952380953]],[[0.05555555555555555,0.15343915343915343,0.21164021164021163,0.5793650793650794],[0.07142857142857142,0.12169312169312169,0.24338624338624337,0.5634920634920635],[0.05291005291005291,0.10846560846560846,0.2566137566137566,0.582010582010582],[0.09523809523809523,0.12962962962962962,0.23544973544973544,0.5396825396825397],[0.09788359788359788,0.11375661375661375,0.25132275132275134,0.5370370370370371],[0.08465608465608465,0.11375661375661375,0.25132275132275134,0.5502645502645502],[0.07936507936507936,0.10052910052910052,0.26455026455026454,0.5555555555555556],[0.07936507936507936,0.08994708994708994,0.2751322751322751,0.5555555555555556],[0.08465608465608465,0.09259259259259259,0.2724867724867725,0.5502645502645502],[0.0,0.0,0.36507936507936506,0.6349206349206349],[0.09259259259259259,0.10582010582010581,0.25925925925925924,0.5423280423280423],[0.10317460317460317,0.10052910052910052,0.26455026455026454,0.5317460317460317],[0.10846560846560846,0.08994708994708994,0.2751322751322751,0.5264550264550265],[0.09259259259259259,0.082010582010582,0.2830687830687831,0.5423280423280423],[0.13756613756613756,0.08994708994708994,0.2751322751322751,0.4973544973544973],[0.16137566137566137,0.08465608465608465,0.2804232804232804,0.47354497354497355],[0.18783068783068782,0.09523809523809523,0.2698412698412698,0.4470899470899471],[0.15079365079365079,0.08465608465608465,0.2804232804232804,0.48412698412698413],[0.1349206349206349,0.06349206349206349,0.30158730158730157,0.5],[0.1984126984126984,0.06084656084656084,0.30423280423280424,0.4365079365079365],[0.1984126984126984,0.0873015873015873,0.2777777777777778,0.4365079365079365],[0.23809523809523808,0.06084656084656084,0.30423280423280424,0.3968253968253968],[0.2037037037037037,0.06613756613756613,0.29894179894179895,0.4312169312169312],[0.24074074074074073,0.07142857142857142,0.29365079365079366,0.3941798941798942],[0.24074074074074073,0.05555555555555555,0.30952380952380953,0.3941798941798942],[0.24867724867724866,0.05291005291005291,0.31216931216931215,0.3862433862433862],[0.25396825396825395,0.05291005291005291,0.31216931216931215,0.38095238095238093],[0.24867724867724866,0.042328042328042326,0.32275132275132273,0.3862433862433862],[0.2962962962962963,0.031746031746031744,0.3333333333333333,0.3386243386243386],[0.2619047619047619,0.047619047619047616,0.31746031746031744,0.373015873015873],[0.29365079365079366,0.03968253968253968,0.3253968253968254,0.3412698412698413],[0.3439153439153439,0.037037037037037035,0.328042328042328,0.291005291005291],[0.30158730158730157,0.026455026455026454,0.3386243386243386,0.3333333333333333],[0.328042328042328,0.03439153439153439,0.3306878306878307,0.30687830687830686]],[[0.0582010582010582,0.14285714285714285,0.20899470899470898,0.58994708994709],[0.06613756613756613,0.10317460317460317,0.24867724867724866,0.582010582010582],[0.05291005291005291,0.09523809523809523,0.2566137566137566,0.5952380952380952],[0.06878306878306878,0.08994708994708994,0.2619047619047619,0.5793650793650794],[0.082010582010582,0.08465608465608465,0.2671957671957672,0.5661375661375662],[0.07142857142857142,0.0873015873015873,0.26455026455026454,0.5767195767195767],[0.07671957671957672,0.08465608465608465,0.2671957671957672,0.5714285714285714],[0.082010582010582,0.07936507936507936,0.2724867724867725,0.5661375661375662],[0.07936507936507936,0.07407407407407407,0.2777777777777778,0.5687830687830688],[0.10582010582010581,0.09259259259259259,0.25925925925925924,0.5423280423280423],[0.0,0.0,0.35185185185185186,0.6481481481481481],[0.10052910052910052,0.08465608465608465,0.2671957671957672,0.5476190476190477],[0.09523809523809523,0.06349206349206349,0.28835978835978837,0.5529100529100529],[0.07936507936507936,0.05555555555555555,0.2962962962962963,0.5687830687830688],[0.12433862433862433,0.06349206349206349,0.28835978835978837,0.5238095238095238],[0.1455026455026455,0.05555555555555555,0.2962962962962963,0.5026455026455027],[0.1693121693121693,0.06349206349206349,0.28835978835978837,0.47883597883597884],[0.1402116402116402,0.06084656084656084,0.291005291005291,0.5079365079365079],[0.13227513227513227,0.047619047619047616,0.30423280423280424,0.5158730158730159],[0.20634920634920634,0.05555555555555555,0.2962962962962963,0.4417989417989418],[0.18518518518518517,0.06084656084656084,0.291005291005291,0.46296296296296297],[0.24338624338624337,0.05291005291005291,0.29894179894179895,0.40476190476190477],[0.19576719576719576,0.04497354497354497,0.30687830687830686,0.4523809523809524],[0.23544973544973544,0.05291005291005291,0.29894179894179895,0.4126984126984127],[0.24867724867724866,0.05026455026455026,0.30158730158730157,0.3994708994708995],[0.2566137566137566,0.047619047619047616,0.30423280423280424,0.3915343915343915],[0.25925925925925924,0.04497354497354497,0.30687830687830686,0.3888888888888889],[0.25925925925925924,0.03968253968253968,0.31216931216931215,0.3888888888888889],[0.29894179894179895,0.021164021164021163,0.3306878306878307,0.3492063492063492],[0.26455026455026454,0.037037037037037035,0.3148148148148148,0.3835978835978836],[0.30952380952380953,0.042328042328042326,0.30952380952380953,0.3386243386243386],[0.34656084656084657,0.026455026455026454,0.3253968253968254,0.30158730158730157],[0.32275132275132273,0.03439153439153439,0.31746031746031744,0.3253968253968254],[0.3412698412698413,0.03439153439153439,0.31746031746031744,0.30687830687830686]],[[0.06878306878306878,0.1693121693121693,0.1984126984126984,0.5634920634920635],[0.06613756613756613,0.11904761904761904,0.24867724867724866,0.5661375661375662],[0.05555555555555555,0.11375661375661375,0.25396825396825395,0.5767195767195767],[0.06878306878306878,0.10582010582010581,0.2619047619047619,0.5634920634920635],[0.07142857142857142,0.08994708994708994,0.2777777777777778,0.5608465608465608],[0.07671957671957672,0.10846560846560846,0.25925925925925924,0.5555555555555556],[0.08994708994708994,0.11375661375661375,0.25396825396825395,0.5423280423280423],[0.09259259259259259,0.10582010582010581,0.2619047619047619,0.5396825396825397],[0.09788359788359788,0.10846560846560846,0.25925925925925924,0.5343915343915344],[0.10052910052910052,0.10317460317460317,0.26455026455026454,0.5317460317460317],[0.08465608465608465,0.10052910052910052,0.2671957671957672,0.5476190476190477],[0.0,0.0,0.36772486772486773,0.6322751322751323],[0.1111111111111111,0.09523809523809523,0.2724867724867725,0.5211640211640212],[0.06613756613756613,0.0582010582010582,0.30952380952380953,0.5661375661375662],[0.10846560846560846,0.06349206349206349,0.30423280423280424,0.5238095238095238],[0.15608465608465608,0.082010582010582,0.2857142857142857,0.47619047619047616],[0.17989417989417988,0.08994708994708994,0.2777777777777778,0.4523809523809524],[0.12962962962962962,0.06613756613756613,0.30158730158730157,0.5026455026455027],[0.12433862433862433,0.05555555555555555,0.31216931216931215,0.5079365079365079],[0.21693121693121692,0.082010582010582,0.2857142857142857,0.41534391534391535],[0.1693121693121693,0.06084656084656084,0.30687830687830686,0.46296296296296297],[0.23809523809523808,0.06349206349206349,0.30423280423280424,0.3941798941798942],[0.18518518518518517,0.05026455026455026,0.31746031746031744,0.4470899470899471],[0.2222222222222222,0.05555555555555555,0.31216931216931215,0.41005291005291006],[0.21957671957671956,0.037037037037037035,0.3306878306878307,0.4126984126984127],[0.23544973544973544,0.042328042328042326,0.3253968253968254,0.3968253968253968],[0.24074074074074073,0.042328042328042326,0.3253968253968254,0.3915343915343915],[0.25132275132275134,0.047619047619047616,0.3201058201058201,0.38095238095238093],[0.3201058201058201,0.0582010582010582,0.30952380952380953,0.31216931216931215],[0.25132275132275134,0.03968253968253968,0.328042328042328,0.38095238095238093],[0.2830687830687831,0.031746031746031744,0.335978835978836,0.3492063492063492],[0.335978835978836,0.031746031746031744,0.335978835978836,0.2962962962962963],[0.29894179894179895,0.026455026455026454,0.3412698412698413,0.3333333333333333],[0.32275132275132273,0.031746031746031744,0.335978835978836,0.30952380952380953]],[[0.06349206349206349,0.17989417989417988,0.2037037037037037,0.5529100529100529],[0.047619047619047616,0.1164021164021164,0.2671957671957672,0.5687830687830688],[0.042328042328042326,0.1164021164021164,0.2671957671957672,0.5740740740740741],[0.06084656084656084,0.11375661375661375,0.2698412698412698,0.5555555555555556],[0.0873015873015873,0.12169312169312169,0.2619047619047619,0.5291005291005291],[0.06613756613756613,0.11375661375661375,0.2698412698412698,0.5502645502645502],[0.07407407407407407,0.11375661375661375,0.2698412698412698,0.5423280423280423],[0.082010582010582,0.1111111111111111,0.2724867724867725,0.5343915343915344],[0.06878306878306878,0.09523809523809523,0.28835978835978837,0.5476190476190477],[0.08994708994708994,0.10846560846560846,0.2751322751322751,0.5264550264550265],[0.06349206349206349,0.09523809523809523,0.28835978835978837,0.5529100529100529],[0.09523809523809523,0.1111111111111111,0.2724867724867725,0.5211640211640212],[0.0,0.0,0.3835978835978836,0.6164021164021164],[0.0873015873015873,0.09523809523809523,0.28835978835978837,0.5291005291005291],[0.11375661375661375,0.08465608465608465,0.29894179894179895,0.5026455026455027],[0.1402116402116402,0.082010582010582,0.30158730158730157,0.47619047619047616],[0.16137566137566137,0.0873015873015873,0.2962962962962963,0.455026455026455],[0.12433862433862433,0.07671957671957672,0.30687830687830686,0.49206349206349204],[0.12698412698412698,0.07407407407407407,0.30952380952380953,0.4894179894179894],[0.1931216931216931,0.07407407407407407,0.30952380952380953,0.42328042328042326],[0.1746031746031746,0.082010582010582,0.30158730158730157,0.4417989417989418],[0.20899470899470898,0.05026455026455026,0.3333333333333333,0.4074074074074074],[0.164021164021164,0.04497354497354497,0.3386243386243386,0.4523809523809524],[0.21428571428571427,0.06349206349206349,0.3201058201058201,0.4021164021164021],[0.23015873015873015,0.06349206349206349,0.3201058201058201,0.3862433862433862],[0.23544973544973544,0.0582010582010582,0.3253968253968254,0.38095238095238093],[0.23809523809523808,0.05555555555555555,0.328042328042328,0.3783068783068783],[0.23015873015873015,0.042328042328042326,0.3412698412698413,0.3862433862433862],[0.2698412698412698,0.023809523809523808,0.35978835978835977,0.34656084656084657],[0.23809523809523808,0.042328042328042326,0.3412698412698413,0.3783068783068783],[0.291005291005291,0.05555555555555555,0.328042328042328,0.3253968253968254],[0.3253968253968254,0.037037037037037035,0.34656084656084657,0.291005291005291],[0.29894179894179895,0.042328042328042326,0.3412698412698413,0.31746031746031744],[0.30158730158730157,0.026455026455026454,0.35714285714285715,0.3148148148148148]],[[0.05291005291005291,0.16137566137566137,0.21428571428571427,0.5714285714285714],[0.0582010582010582,0.11904761904761904,0.2566137566137566,0.5661375661375662],[0.042328042328042326,0.10846560846560846,0.2671957671957672,0.582010582010582],[0.0582010582010582,0.10317460317460317,0.2724867724867725,0.5661375661375662],[0.06349206349206349,0.08994708994708994,0.2857142857142857,0.5608465608465608],[0.06878306878306878,0.10846560846560846,0.2671957671957672,0.5555555555555556],[0.07936507936507936,0.1111111111111111,0.26455026455026454,0.544973544973545],[0.0582010582010582,0.07936507936507936,0.2962962962962963,0.5661375661375662],[0.07936507936507936,0.09788359788359788,0.2777777777777778,0.544973544973545],[0.082010582010582,0.09259259259259259,0.2830687830687831,0.5423280423280423],[0.05555555555555555,0.07936507936507936,0.2962962962962963,0.5687830687830688],[0.0582010582010582,0.06613756613756613,0.30952380952380953,0.5661375661375662],[0.09523809523809523,0.0873015873015873,0.28835978835978837,0.5291005291005291],[0.0,0.0,0.37566137566137564,0.6243386243386243],[0.10846560846560846,0.07142857142857142,0.30423280423280424,0.5158730158730159],[0.14285714285714285,0.07671957671957672,0.29894179894179895,0.48148148148148145],[0.16137566137566137,0.07936507936507936,0.2962962962962963,0.46296296296296297],[0.12433862433862433,0.06878306878306878,0.30687830687830686,0.5],[0.11375661375661375,0.05291005291005291,0.32275132275132273,0.5105820105820106],[0.20105820105820105,0.07407407407407407,0.30158730158730157,0.42328042328042326],[0.15873015873015872,0.0582010582010582,0.31746031746031744,0.4656084656084656],[0.22486772486772486,0.0582010582010582,0.31746031746031744,0.3994708994708995],[0.17724867724867724,0.05026455026455026,0.3253968253968254,0.4470899470899471],[0.21957671957671956,0.06084656084656084,0.3148148148148148,0.40476190476190477],[0.22486772486772486,0.05026455026455026,0.3253968253968254,0.3994708994708995],[0.2222222222222222,0.037037037037037035,0.3386243386243386,0.4021164021164021],[0.24338624338624337,0.05291005291005291,0.32275132275132273,0.38095238095238093],[0.24074074074074073,0.04497354497354497,0.3306878306878307,0.3835978835978836],[0.2804232804232804,0.026455026455026454,0.3492063492063492,0.3439153439153439],[0.24603174603174602,0.042328042328042326,0.3333333333333333,0.3783068783068783],[0.2751322751322751,0.031746031746031744,0.3439153439153439,0.3492063492063492],[0.3306878306878307,0.03439153439153439,0.3412698412698413,0.29365079365079366],[0.2962962962962963,0.031746031746031744,0.3439153439153439,0.328042328042328],[0.31746031746031744,0.03439153439153439,0.3412698412698413,0.30687830687830686]],[[0.0582010582010582,0.2037037037037037,0.20899470899470898,0.5291005291005291],[0.05026455026455026,0.14814814814814814,0.26455026455026454,0.5370370370370371],[0.042328042328042326,0.1455026455026455,0.2671957671957672,0.544973544973545],[0.06349206349206349,0.1455026455026455,0.2671957671957672,0.5238095238095238],[0.06349206349206349,0.12698412698412698,0.2857142857142857,0.5238095238095238],[0.0582010582010582,0.1349206349206349,0.2777777777777778,0.5291005291005291],[0.06084656084656084,0.12962962962962962,0.2830687830687831,0.5264550264550265],[0.07936507936507936,0.13756613756613756,0.2751322751322751,0.5079365079365079],[0.07142857142857142,0.12698412698412698,0.2857142857142857,0.5158730158730159],[0.08994708994708994,0.13756613756613756,0.2751322751322751,0.4973544973544973],[0.06349206349206349,0.12433862433862433,0.28835978835978837,0.5238095238095238],[0.06349206349206349,0.10846560846560846,0.30423280423280424,0.5238095238095238],[0.08465608465608465,0.11375661375661375,0.29894179894179895,0.5026455026455027],[0.07142857142857142,0.10846560846560846,0.30423280423280424,0.5158730158730159],[0.0,0.0,0.4126984126984127,0.5873015873015873],[0.12698412698412698,0.09788359788359788,0.3148148148148148,0.4603174603174603],[0.15343915343915343,0.10846560846560846,0.30423280423280424,0.43386243386243384],[0.10582010582010581,0.0873015873015873,0.3253968253968254,0.48148148148148145],[0.11375661375661375,0.08994708994708994,0.32275132275132273,0.47354497354497355],[0.164021164021164,0.07407407407407407,0.3386243386243386,0.42328042328042326],[0.12962962962962962,0.06613756613756613,0.34656084656084657,0.4576719576719577],[0.21693121693121692,0.0873015873015873,0.3253968253968254,0.37037037037037035],[0.15873015873015872,0.06878306878306878,0.3439153439153439,0.42857142857142855],[0.18253968253968253,0.06084656084656084,0.35185185185185186,0.40476190476190477],[0.2037037037037037,0.06613756613756613,0.34656084656084657,0.3835978835978836],[0.1931216931216931,0.04497354497354497,0.36772486772486773,0.3941798941798942],[0.20899470899470898,0.05555555555555555,0.35714285714285715,0.3783068783068783],[0.20634920634920634,0.047619047619047616,0.36507936507936506,0.38095238095238093],[0.2857142857142857,0.06878306878306878,0.3439153439153439,0.30158730158730157],[0.20899470899470898,0.042328042328042326,0.37037037037037035,0.3783068783068783],[0.24074074074074073,0.03439153439153439,0.3783068783068783,0.34656084656084657],[0.3201058201058201,0.06084656084656084,0.35185185185185186,0.2671957671957672],[0.25925925925925924,0.031746031746031744,0.38095238095238093,0.328042328042328],[0.2777777777777778,0.031746031746031744,0.38095238095238093,0.30952380952380953]],[[0.042328042328042326,0.21693121693121692,0.22486772486772486,0.5158730158730159],[0.0582010582010582,0.18518518518518517,0.2566137566137566,0.5],[0.05291005291005291,0.18518518518518517,0.2566137566137566,0.5052910052910053],[0.06349206349206349,0.1746031746031746,0.2671957671957672,0.4947089947089947],[0.07142857142857142,0.164021164021164,0.2777777777777778,0.48677248677248675],[0.06349206349206349,0.1693121693121693,0.2724867724867725,0.4947089947089947],[0.06878306878306878,0.16666666666666666,0.2751322751322751,0.4894179894179894],[0.07407407407407407,0.16137566137566137,0.2804232804232804,0.48412698412698413],[0.07142857142857142,0.15608465608465608,0.2857142857142857,0.48677248677248675],[0.08465608465608465,0.16137566137566137,0.2804232804232804,0.47354497354497355],[0.05555555555555555,0.1455026455026455,0.2962962962962963,0.5026455026455027],[0.082010582010582,0.15608465608465608,0.2857142857142857,0.47619047619047616],[0.082010582010582,0.1402116402116402,0.30158730158730157,0.47619047619047616],[0.07671957671957672,0.14285714285714285,0.29894179894179895,0.48148148148148145],[0.09788359788359788,0.12698412698412698,0.3148148148148148,0.4603174603174603],[0.0,0.0,0.4417989417989418,0.5582010582010583],[0.1349206349206349,0.11904761904761904,0.32275132275132273,0.42328042328042326],[0.1164021164021164,0.12698412698412698,0.3148148148148148,0.4417989417989418],[0.1111111111111111,0.1164021164021164,0.3253968253968254,0.4470899470899471],[0.1693121693121693,0.10846560846560846,0.3333333333333333,0.3888888888888889],[0.15343915343915343,0.11904761904761904,0.32275132275132273,0.40476190476190477],[0.19047619047619047,0.08994708994708994,0.35185185185185186,0.36772486772486773],[0.15873015873015872,0.09788359788359788,0.3439153439153439,0.3994708994708995],[0.1931216931216931,0.10052910052910052,0.3412698412698413,0.36507936507936506],[0.1931216931216931,0.08465608465608465,0.35714285714285715,0.36507936507936506],[0.2037037037037037,0.08465608465608465,0.35714285714285715,0.3544973544973545],[0.21428571428571427,0.08994708994708994,0.35185185185185186,0.3439153439153439],[0.21693121693121692,0.0873015873015873,0.3544973544973545,0.3412698412698413],[0.24867724867724866,0.06084656084656084,0.38095238095238093,0.30952380952380953],[0.21428571428571427,0.07671957671957672,0.36507936507936506,0.3439153439153439],[0.2566137566137566,0.07936507936507936,0.36243386243386244,0.30158730158730157],[0.2962962962962963,0.06613756613756613,0.37566137566137564,0.2619047619047619],[0.2698412698412698,0.07142857142857142,0.37037037037037035,0.28835978835978837],[0.2857142857142857,0.06878306878306878,0.373015873015873,0.2724867724867725]],[[0.04497354497354497,0.23544973544973544,0.2222222222222222,0.4973544973544973],[0.06084656084656084,0.2037037037037037,0.25396825396825395,0.48148148148148145],[0.06349206349206349,0.21164021164021163,0.24603174603174602,0.47883597883597884],[0.06349206349206349,0.19047619047619047,0.2671957671957672,0.47883597883597884],[0.07407407407407407,0.18253968253968253,0.2751322751322751,0.46825396825396826],[0.05026455026455026,0.17195767195767195,0.2857142857142857,0.49206349206349204],[0.0582010582010582,0.17195767195767195,0.2857142857142857,0.48412698412698413],[0.06349206349206349,0.16666666666666666,0.291005291005291,0.47883597883597884],[0.07407407407407407,0.1746031746031746,0.2830687830687831,0.46825396825396826],[0.09523809523809523,0.18783068783068782,0.2698412698412698,0.4470899470899471],[0.06349206349206349,0.1693121693121693,0.28835978835978837,0.47883597883597884],[0.08994708994708994,0.17989417989417988,0.2777777777777778,0.4523809523809524],[0.0873015873015873,0.16137566137566137,0.2962962962962963,0.455026455026455],[0.07936507936507936,0.16137566137566137,0.2962962962962963,0.46296296296296297],[0.10846560846560846,0.15343915343915343,0.30423280423280424,0.43386243386243384],[0.11904761904761904,0.1349206349206349,0.32275132275132273,0.42328042328042326],[0.0,0.0,0.4576719576719577,0.5423280423280423],[0.12962962962962962,0.15608465608465608,0.30158730158730157,0.4126984126984127],[0.1111111111111111,0.13227513227513227,0.3253968253968254,0.4312169312169312],[0.1746031746031746,0.12962962962962962,0.328042328042328,0.36772486772486773],[0.14285714285714285,0.12433862433862433,0.3333333333333333,0.3994708994708995],[0.17989417989417988,0.09523809523809523,0.36243386243386244,0.36243386243386244],[0.15873015873015872,0.11375661375661375,0.3439153439153439,0.3835978835978836],[0.19047619047619047,0.11375661375661375,0.3439153439153439,0.35185185185185186],[0.1984126984126984,0.10582010582010581,0.35185185185185186,0.3439153439153439],[0.20105820105820105,0.09788359788359788,0.35978835978835977,0.3412698412698413],[0.22486772486772486,0.1164021164021164,0.3412698412698413,0.31746031746031744],[0.21164021164021163,0.09788359788359788,0.35978835978835977,0.3306878306878307],[0.25132275132275134,0.07936507936507936,0.3783068783068783,0.291005291005291],[0.21164021164021163,0.08994708994708994,0.36772486772486773,0.3306878306878307],[0.24338624338624337,0.082010582010582,0.37566137566137564,0.29894179894179895],[0.28835978835978837,0.07407407407407407,0.3835978835978836,0.25396825396825395],[0.26455026455026454,0.082010582010582,0.37566137566137564,0.2777777777777778],[0.2857142857142857,0.08465608465608465,0.373015873015873,0.2566137566137566]],[[0.047619047619047616,0.21164021164021163,0.21957671957671956,0.5211640211640212],[0.0582010582010582,0.1746031746031746,0.2566137566137566,0.5105820105820106],[0.0291005291005291,0.15079365079365079,0.2804232804232804,0.5396825396825397],[0.06349206349206349,0.164021164021164,0.2671957671957672,0.5052910052910053],[0.07671957671957672,0.15873015873015872,0.2724867724867725,0.49206349206349204],[0.06613756613756613,0.16137566137566137,0.2698412698412698,0.5026455026455027],[0.06613756613756613,0.15343915343915343,0.2777777777777778,0.5026455026455027],[0.07142857142857142,0.14814814814814814,0.2830687830687831,0.4973544973544973],[0.07936507936507936,0.15343915343915343,0.2777777777777778,0.4894179894179894],[0.08465608465608465,0.15079365079365079,0.2804232804232804,0.48412698412698413],[0.06084656084656084,0.1402116402116402,0.291005291005291,0.5079365079365079],[0.06613756613756613,0.12962962962962962,0.30158730158730157,0.5026455026455027],[0.07671957671957672,0.12433862433862433,0.30687830687830686,0.49206349206349204],[0.06878306878306878,0.12433862433862433,0.30687830687830686,0.5],[0.0873015873015873,0.10582010582010581,0.3253968253968254,0.48148148148148145],[0.12698412698412698,0.1164021164021164,0.3148148148148148,0.4417989417989418],[0.15608465608465608,0.12962962962962962,0.30158730158730157,0.4126984126984127],[0.0,0.0,0.4312169312169312,0.5687830687830688],[0.10582010582010581,0.10052910052910052,0.3306878306878307,0.46296296296296297],[0.17195767195767195,0.10052910052910052,0.3306878306878307,0.3968253968253968],[0.12962962962962962,0.08465608465608465,0.34656084656084657,0.43915343915343913],[0.1931216931216931,0.082010582010582,0.3492063492063492,0.37566137566137564],[0.15079365079365079,0.07936507936507936,0.35185185185185186,0.41798941798941797],[0.17724867724867724,0.07407407407407407,0.35714285714285715,0.3915343915343915],[0.17989417989417988,0.06084656084656084,0.37037037037037035,0.3888888888888889],[0.18253968253968253,0.05291005291005291,0.3783068783068783,0.3862433862433862],[0.18518518518518517,0.05026455026455026,0.38095238095238093,0.3835978835978836],[0.21164021164021163,0.07142857142857142,0.35978835978835977,0.35714285714285715],[0.25396825396825395,0.05555555555555555,0.37566137566137564,0.3148148148148148],[0.1984126984126984,0.05026455026455026,0.38095238095238093,0.37037037037037035],[0.23809523809523808,0.05026455026455026,0.38095238095238093,0.3306878306878307],[0.2857142857142857,0.04497354497354497,0.3862433862433862,0.2830687830687831],[0.25132275132275134,0.042328042328042326,0.3888888888888889,0.31746031746031744],[0.2671957671957672,0.03968253968253968,0.3915343915343915,0.30158730158730157]],[[0.042328042328042326,0.21164021164021163,0.22486772486772486,0.5211640211640212],[0.037037037037037035,0.15873015873015872,0.2777777777777778,0.5264550264550265],[0.031746031746031744,0.15873015873015872,0.2777777777777778,0.5317460317460317],[0.05026455026455026,0.15608465608465608,0.2804232804232804,0.5132275132275133],[0.06613756613756613,0.15343915343915343,0.2830687830687831,0.4973544973544973],[0.04497354497354497,0.1455026455026455,0.291005291005291,0.5185185185185185],[0.04497354497354497,0.13756613756613756,0.29894179894179895,0.5185185185185185],[0.05026455026455026,0.13227513227513227,0.30423280423280424,0.5132275132275133],[0.07142857142857142,0.15079365079365079,0.2857142857142857,0.49206349206349204],[0.06349206349206349,0.1349206349206349,0.30158730158730157,0.5],[0.047619047619047616,0.13227513227513227,0.30423280423280424,0.5158730158730159],[0.05555555555555555,0.12433862433862433,0.31216931216931215,0.5079365079365079],[0.07407407407407407,0.12698412698412698,0.30952380952380953,0.4894179894179894],[0.05291005291005291,0.11375661375661375,0.32275132275132273,0.5105820105820106],[0.08994708994708994,0.11375661375661375,0.32275132275132273,0.47354497354497355],[0.1164021164021164,0.1111111111111111,0.3253968253968254,0.4470899470899471],[0.13227513227513227,0.1111111111111111,0.3253968253968254,0.4312169312169312],[0.10052910052910052,0.10582010582010581,0.3306878306878307,0.46296296296296297],[0.0,0.0,0.4365079365079365,0.5634920634920635],[0.15873015873015872,0.09259259259259259,0.3439153439153439,0.40476190476190477],[0.1455026455026455,0.10582010582010581,0.3306878306878307,0.41798941798941797],[0.17989417989417988,0.07407407407407407,0.36243386243386244,0.3835978835978836],[0.15079365079365079,0.08465608465608465,0.35185185185185186,0.4126984126984127],[0.164021164021164,0.06613756613756613,0.37037037037037035,0.3994708994708995],[0.17989417989417988,0.06613756613756613,0.37037037037037035,0.3835978835978836],[0.19047619047619047,0.06613756613756613,0.37037037037037035,0.373015873015873],[0.2037037037037037,0.07407407407407407,0.36243386243386244,0.35978835978835977],[0.21164021164021163,0.07671957671957672,0.35978835978835977,0.35185185185185186],[0.2566137566137566,0.06349206349206349,0.373015873015873,0.30687830687830686],[0.20634920634920634,0.06349206349206349,0.373015873015873,0.35714285714285715],[0.23809523809523808,0.05555555555555555,0.38095238095238093,0.3253968253968254],[0.2751322751322751,0.03968253968253968,0.3968253968253968,0.28835978835978837],[0.25132275132275134,0.047619047619047616,0.3888888888888889,0.31216931216931215],[0.2566137566137566,0.03439153439153439,0.4021164021164021,0.30687830687830686]],[[0.042328042328042326,0.2777777777777778,0.22486772486772486,0.455026455026455],[0.04497354497354497,0.2328042328042328,0.2698412698412698,0.4523809523809524],[0.04497354497354497,0.23809523809523808,0.26455026455026454,0.4523809523809524],[0.05555555555555555,0.2275132275132275,0.2751322751322751,0.4417989417989418],[0.06878306878306878,0.2222222222222222,0.2804232804232804,0.42857142857142855],[0.03968253968253968,0.20634920634920634,0.2962962962962963,0.4576719576719577],[0.05555555555555555,0.21428571428571427,0.28835978835978837,0.4417989417989418],[0.06613756613756613,0.21428571428571427,0.28835978835978837,0.4312169312169312],[0.06349206349206349,0.20899470899470898,0.29365079365079366,0.43386243386243384],[0.06084656084656084,0.1984126984126984,0.30423280423280424,0.4365079365079365],[0.05555555555555555,0.20634920634920634,0.2962962962962963,0.4417989417989418],[0.082010582010582,0.21693121693121692,0.2857142857142857,0.41534391534391535],[0.07407407407407407,0.1931216931216931,0.30952380952380953,0.42328042328042326],[0.07407407407407407,0.20105820105820105,0.30158730158730157,0.42328042328042326],[0.07407407407407407,0.164021164021164,0.3386243386243386,0.42328042328042326],[0.10846560846560846,0.1693121693121693,0.3333333333333333,0.3888888888888889],[0.12962962962962962,0.1746031746031746,0.328042328042328,0.36772486772486773],[0.10052910052910052,0.17195767195767195,0.3306878306878307,0.3968253968253968],[0.09259259259259259,0.15873015873015872,0.3439153439153439,0.40476190476190477],[0.0,0.0,0.5026455026455027,0.4973544973544973],[0.12169312169312169,0.14814814814814814,0.3544973544973545,0.37566137566137564],[0.1746031746031746,0.1349206349206349,0.36772486772486773,0.32275132275132273],[0.14285714285714285,0.14285714285714285,0.35978835978835977,0.3544973544973545],[0.15873015873015872,0.12698412698412698,0.37566137566137564,0.3386243386243386],[0.15873015873015872,0.1111111111111111,0.3915343915343915,0.3386243386243386],[0.1746031746031746,0.1164021164021164,0.3862433862433862,0.32275132275132273],[0.17989417989417988,0.1164021164021164,0.3862433862433862,0.31746031746031744],[0.19047619047619047,0.12169312169312169,0.38095238095238093,0.30687830687830686],[0.21693121693121692,0.08994708994708994,0.4126984126984127,0.2804232804232804],[0.18518518518518517,0.10846560846560846,0.3941798941798942,0.31216931216931215],[0.21693121693121692,0.10052910052910052,0.4021164021164021,0.2804232804232804],[0.2566137566137566,0.0873015873015873,0.41534391534391535,0.24074074074074073],[0.23015873015873015,0.09259259259259259,0.41005291005291006,0.2671957671957672],[0.24338624338624337,0.0873015873015873,0.41534391534391535,0.25396825396825395]],[[0.04497354497354497,0.25396825396825395,0.2222222222222222,0.47883597883597884],[0.05555555555555555,0.21693121693121692,0.25925925925925924,0.46825396825396826],[0.04497354497354497,0.21164021164021163,0.26455026455026454,0.47883597883597884],[0.05555555555555555,0.20105820105820105,0.2751322751322751,0.46825396825396826],[0.06613756613756613,0.1931216931216931,0.2830687830687831,0.4576719576719577],[0.047619047619047616,0.18783068783068782,0.28835978835978837,0.47619047619047616],[0.05291005291005291,0.18518518518518517,0.291005291005291,0.4708994708994709],[0.07671957671957672,0.1984126984126984,0.2777777777777778,0.4470899470899471],[0.06613756613756613,0.18518518518518517,0.291005291005291,0.4576719576719577],[0.0873015873015873,0.1984126984126984,0.2777777777777778,0.4365079365079365],[0.06084656084656084,0.18518518518518517,0.291005291005291,0.46296296296296297],[0.06084656084656084,0.1693121693121693,0.30687830687830686,0.46296296296296297],[0.082010582010582,0.1746031746031746,0.30158730158730157,0.4417989417989418],[0.0582010582010582,0.15873015873015872,0.31746031746031744,0.4656084656084656],[0.06613756613756613,0.12962962962962962,0.34656084656084657,0.4576719576719577],[0.11904761904761904,0.15343915343915343,0.32275132275132273,0.40476190476190477],[0.12433862433862433,0.14285714285714285,0.3333333333333333,0.3994708994708995],[0.08465608465608465,0.12962962962962962,0.34656084656084657,0.43915343915343913],[0.10582010582010581,0.1455026455026455,0.3306878306878307,0.41798941798941797],[0.14814814814814814,0.12169312169312169,0.3544973544973545,0.37566137566137564],[0.0,0.0,0.47619047619047616,0.5238095238095238],[0.18518518518518517,0.11904761904761904,0.35714285714285715,0.3386243386243386],[0.1349206349206349,0.10846560846560846,0.36772486772486773,0.3888888888888889],[0.13756613756613756,0.07936507936507936,0.3968253968253968,0.3862433862433862],[0.16137566137566137,0.0873015873015873,0.3888888888888889,0.36243386243386244],[0.1693121693121693,0.08465608465608465,0.3915343915343915,0.3544973544973545],[0.164021164021164,0.07407407407407407,0.4021164021164021,0.35978835978835977],[0.18253968253968253,0.0873015873015873,0.3888888888888889,0.3412698412698413],[0.24338624338624337,0.08994708994708994,0.3862433862433862,0.2804232804232804],[0.1693121693121693,0.06613756613756613,0.41005291005291006,0.3544973544973545],[0.1984126984126984,0.05555555555555555,0.42063492063492064,0.3253968253968254],[0.25925925925925924,0.06349206349206349,0.4126984126984127,0.26455026455026454],[0.2222222222222222,0.0582010582010582,0.41798941798941797,0.30158730158730157],[0.23544973544973544,0.05291005291005291,0.42328042328042326,0.28835978835978837]],[[0.03439153439153439,0.30952380952380953,0.2328042328042328,0.42328042328042326],[0.0291005291005291,0.2566137566137566,0.2857142857142857,0.42857142857142855],[0.04497354497354497,0.2777777777777778,0.26455026455026454,0.4126984126984127],[0.05026455026455026,0.2619047619047619,0.2804232804232804,0.4074074074074074],[0.06613756613756613,0.25925925925925924,0.2830687830687831,0.3915343915343915],[0.047619047619047616,0.25396825396825395,0.28835978835978837,0.41005291005291006],[0.047619047619047616,0.24603174603174602,0.2962962962962963,0.41005291005291006],[0.05026455026455026,0.23809523809523808,0.30423280423280424,0.4074074074074074],[0.05026455026455026,0.23544973544973544,0.30687830687830686,0.4074074074074074],[0.06084656084656084,0.23809523809523808,0.30423280423280424,0.3968253968253968],[0.05291005291005291,0.24338624338624337,0.29894179894179895,0.40476190476190477],[0.06349206349206349,0.23809523809523808,0.30423280423280424,0.3941798941798942],[0.05026455026455026,0.20899470899470898,0.3333333333333333,0.4074074074074074],[0.0582010582010582,0.22486772486772486,0.31746031746031744,0.3994708994708995],[0.0873015873015873,0.21693121693121692,0.3253968253968254,0.37037037037037035],[0.08994708994708994,0.19047619047619047,0.35185185185185186,0.36772486772486773],[0.09523809523809523,0.17989417989417988,0.36243386243386244,0.36243386243386244],[0.082010582010582,0.1931216931216931,0.3492063492063492,0.37566137566137564],[0.07407407407407407,0.17989417989417988,0.36243386243386244,0.3835978835978836],[0.1349206349206349,0.1746031746031746,0.36772486772486773,0.32275132275132273],[0.11904761904761904,0.18518518518518517,0.35714285714285715,0.3386243386243386],[0.0,0.0,0.5423280423280423,0.4576719576719577],[0.1111111111111111,0.15079365079365079,0.3915343915343915,0.34656084656084657],[0.15079365079365079,0.15873015873015872,0.3835978835978836,0.30687830687830686],[0.14285714285714285,0.1349206349206349,0.4074074074074074,0.3148148148148148],[0.15873015873015872,0.1402116402116402,0.4021164021164021,0.29894179894179895],[0.15343915343915343,0.12962962962962962,0.4126984126984127,0.30423280423280424],[0.164021164021164,0.1349206349206349,0.4074074074074074,0.29365079365079366],[0.18253968253968253,0.09523809523809523,0.4470899470899471,0.2751322751322751],[0.13756613756613756,0.10052910052910052,0.4417989417989418,0.3201058201058201],[0.1693121693121693,0.09259259259259259,0.4497354497354497,0.28835978835978837],[0.21957671957671956,0.08994708994708994,0.4523809523809524,0.23809523809523808],[0.18783068783068782,0.08994708994708994,0.4523809523809524,0.2698412698412698],[0.20899470899470898,0.09259259259259259,0.4497354497354497,0.24867724867724866]],[[0.03968253968253968,0.2751322751322751,0.2275132275132275,0.4576719576719577],[0.031746031746031744,0.21957671957671956,0.2830687830687831,0.4656084656084656],[0.03968253968253968,0.2328042328042328,0.2698412698412698,0.4576719576719577],[0.04497354497354497,0.21693121693121692,0.2857142857142857,0.4523809523809524],[0.05555555555555555,0.20899470899470898,0.29365079365079366,0.4417989417989418],[0.03439153439153439,0.20105820105820105,0.30158730158730157,0.46296296296296297],[0.05026455026455026,0.20899470899470898,0.29365079365079366,0.4470899470899471],[0.05291005291005291,0.20105820105820105,0.30158730158730157,0.4444444444444444],[0.05555555555555555,0.20105820105820105,0.30158730158730157,0.4417989417989418],[0.06613756613756613,0.2037037037037037,0.29894179894179895,0.4312169312169312],[0.04497354497354497,0.19576719576719576,0.30687830687830686,0.4523809523809524],[0.05026455026455026,0.18518518518518517,0.31746031746031744,0.4470899470899471],[0.04497354497354497,0.164021164021164,0.3386243386243386,0.4523809523809524],[0.05026455026455026,0.17724867724867724,0.3253968253968254,0.4470899470899471],[0.06878306878306878,0.15873015873015872,0.3439153439153439,0.42857142857142855],[0.09788359788359788,0.15873015873015872,0.3439153439153439,0.3994708994708995],[0.11375661375661375,0.15873015873015872,0.3439153439153439,0.3835978835978836],[0.07936507936507936,0.15079365079365079,0.35185185185185186,0.41798941798941797],[0.08465608465608465,0.15079365079365079,0.35185185185185186,0.4126984126984127],[0.14285714285714285,0.14285714285714285,0.35978835978835977,0.3544973544973545],[0.10846560846560846,0.1349206349206349,0.36772486772486773,0.3888888888888889],[0.15079365079365079,0.1111111111111111,0.3915343915343915,0.34656084656084657],[0.0,0.0,0.5026455026455027,0.4973544973544973],[0.12433862433862433,0.09259259259259259,0.41005291005291006,0.373015873015873],[0.13756613756613756,0.08994708994708994,0.4126984126984127,0.35978835978835977],[0.14285714285714285,0.08465608465608465,0.41798941798941797,0.3544973544973545],[0.14285714285714285,0.07936507936507936,0.42328042328042326,0.3544973544973545],[0.12962962962962962,0.06084656084656084,0.4417989417989418,0.36772486772486773],[0.2037037037037037,0.07671957671957672,0.42592592592592593,0.29365079365079366],[0.13227513227513227,0.05555555555555555,0.4470899470899471,0.36507936507936506],[0.1746031746031746,0.0582010582010582,0.4444444444444444,0.32275132275132273],[0.24074074074074073,0.07142857142857142,0.4312169312169312,0.2566137566137566],[0.18518518518518517,0.047619047619047616,0.455026455026455,0.31216931216931215],[0.2037037037037037,0.047619047619047616,0.455026455026455,0.29365079365079366]],[[0.04497354497354497,0.31216931216931215,0.2222222222222222,0.42063492063492064],[0.03968253968253968,0.25925925925925924,0.2751322751322751,0.42592592592592593],[0.0291005291005291,0.25396825396825395,0.2804232804232804,0.4365079365079365],[0.042328042328042326,0.24603174603174602,0.28835978835978837,0.42328042328042326],[0.06349206349206349,0.24867724867724866,0.2857142857142857,0.4021164021164021],[0.047619047619047616,0.24603174603174602,0.28835978835978837,0.41798941798941797],[0.047619047619047616,0.23809523809523808,0.2962962962962963,0.41798941798941797],[0.06349206349206349,0.24338624338624337,0.291005291005291,0.4021164021164021],[0.06084656084656084,0.23809523809523808,0.2962962962962963,0.40476190476190477],[0.07142857142857142,0.24074074074074073,0.29365079365079366,0.3941798941798942],[0.05291005291005291,0.23544973544973544,0.29894179894179895,0.4126984126984127],[0.05555555555555555,0.2222222222222222,0.31216931216931215,0.41005291005291006],[0.06349206349206349,0.21428571428571427,0.3201058201058201,0.4021164021164021],[0.06084656084656084,0.21957671957671956,0.3148148148148148,0.40476190476190477],[0.06084656084656084,0.18253968253968253,0.35185185185185186,0.40476190476190477],[0.10052910052910052,0.1931216931216931,0.3412698412698413,0.36507936507936506],[0.11375661375661375,0.19047619047619047,0.3439153439153439,0.35185185185185186],[0.07407407407407407,0.17724867724867724,0.35714285714285715,0.3915343915343915],[0.06613756613756613,0.164021164021164,0.37037037037037035,0.3994708994708995],[0.12698412698412698,0.15873015873015872,0.37566137566137564,0.3386243386243386],[0.07936507936507936,0.13756613756613756,0.3968253968253968,0.3862433862433862],[0.15873015873015872,0.15079365079365079,0.3835978835978836,0.30687830687830686],[0.09259259259259259,0.12433862433862433,0.41005291005291006,0.373015873015873],[0.0,0.0,0.5343915343915344,0.4656084656084656],[0.12698412698412698,0.1111111111111111,0.42328042328042326,0.3386243386243386],[0.12433862433862433,0.09788359788359788,0.4365079365079365,0.3412698412698413],[0.13227513227513227,0.10052910052910052,0.43386243386243384,0.3333333333333333],[0.12962962962962962,0.09259259259259259,0.4417989417989418,0.335978835978836],[0.21164021164021163,0.1164021164021164,0.41798941798941797,0.25396825396825395],[0.1164021164021164,0.07142857142857142,0.46296296296296297,0.3492063492063492],[0.15608465608465608,0.07142857142857142,0.46296296296296297,0.30952380952380953],[0.21693121693121692,0.07936507936507936,0.455026455026455,0.24867724867724866],[0.1746031746031746,0.06878306878306878,0.4656084656084656,0.291005291005291],[0.17195767195767195,0.047619047619047616,0.48677248677248675,0.29365079365079366]],[[0.031746031746031744,0.3148148148148148,0.23544973544973544,0.41798941798941797],[0.031746031746031744,0.2671957671957672,0.2830687830687831,0.41798941798941797],[0.03968253968253968,0.2804232804232804,0.2698412698412698,0.41005291005291006],[0.026455026455026454,0.24603174603174602,0.30423280423280424,0.42328042328042326],[0.04497354497354497,0.24603174603174602,0.30423280423280424,0.40476190476190477],[0.026455026455026454,0.24074074074074073,0.30952380952380953,0.42328042328042326],[0.04497354497354497,0.25132275132275134,0.29894179894179895,0.40476190476190477],[0.05291005291005291,0.24867724867724866,0.30158730158730157,0.3968253968253968],[0.047619047619047616,0.24074074074074073,0.30952380952380953,0.4021164021164021],[0.05555555555555555,0.24074074074074073,0.30952380952380953,0.3941798941798942],[0.05026455026455026,0.24867724867724866,0.30158730158730157,0.3994708994708995],[0.037037037037037035,0.21957671957671956,0.3306878306878307,0.4126984126984127],[0.06349206349206349,0.23015873015873015,0.3201058201058201,0.3862433862433862],[0.05026455026455026,0.22486772486772486,0.3253968253968254,0.3994708994708995],[0.06613756613756613,0.2037037037037037,0.34656084656084657,0.3835978835978836],[0.08465608465608465,0.1931216931216931,0.35714285714285715,0.36507936507936506],[0.10582010582010581,0.1984126984126984,0.35185185185185186,0.3439153439153439],[0.06084656084656084,0.17989417989417988,0.37037037037037035,0.3888888888888889],[0.06613756613756613,0.17989417989417988,0.37037037037037035,0.3835978835978836],[0.1111111111111111,0.15873015873015872,0.3915343915343915,0.3386243386243386],[0.0873015873015873,0.16137566137566137,0.3888888888888889,0.36243386243386244],[0.1349206349206349,0.14285714285714285,0.4074074074074074,0.3148148148148148],[0.08994708994708994,0.13756613756613756,0.4126984126984127,0.35978835978835977],[0.1111111111111111,0.12698412698412698,0.42328042328042326,0.3386243386243386],[0.0,0.0,0.5502645502645502,0.4497354497354497],[0.13756613756613756,0.12698412698412698,0.42328042328042326,0.31216931216931215],[0.12433862433862433,0.10846560846560846,0.4417989417989418,0.3253968253968254],[0.13227513227513227,0.1111111111111111,0.43915343915343913,0.31746031746031744],[0.16666666666666666,0.0873015873015873,0.46296296296296297,0.2830687830687831],[0.12962962962962962,0.10052910052910052,0.4497354497354497,0.3201058201058201],[0.16137566137566137,0.09259259259259259,0.4576719576719577,0.28835978835978837],[0.18518518518518517,0.06349206349206349,0.48677248677248675,0.26455026455026454],[0.164021164021164,0.07407407407407407,0.47619047619047616,0.2857142857142857],[0.1746031746031746,0.06613756613756613,0.48412698412698413,0.2751322751322751]],[[0.03439153439153439,0.328042328042328,0.2328042328042328,0.40476190476190477],[0.04497354497354497,0.291005291005291,0.2698412698412698,0.3941798941798942],[0.0291005291005291,0.2804232804232804,0.2804232804232804,0.41005291005291006],[0.03968253968253968,0.2698412698412698,0.291005291005291,0.3994708994708995],[0.05555555555555555,0.2671957671957672,0.29365079365079366,0.3835978835978836],[0.0291005291005291,0.25396825396825395,0.30687830687830686,0.41005291005291006],[0.03968253968253968,0.2566137566137566,0.30423280423280424,0.3994708994708995],[0.042328042328042326,0.24867724867724866,0.31216931216931215,0.3968253968253968],[0.06349206349206349,0.2671957671957672,0.29365079365079366,0.37566137566137564],[0.05291005291005291,0.24867724867724866,0.31216931216931215,0.3862433862433862],[0.047619047619047616,0.2566137566137566,0.30423280423280424,0.3915343915343915],[0.042328042328042326,0.23544973544973544,0.3253968253968254,0.3968253968253968],[0.0582010582010582,0.23544973544973544,0.3253968253968254,0.38095238095238093],[0.037037037037037035,0.2222222222222222,0.3386243386243386,0.4021164021164021],[0.04497354497354497,0.1931216931216931,0.36772486772486773,0.3941798941798942],[0.08465608465608465,0.2037037037037037,0.35714285714285715,0.3544973544973545],[0.09788359788359788,0.20105820105820105,0.35978835978835977,0.3412698412698413],[0.05291005291005291,0.18253968253968253,0.3783068783068783,0.3862433862433862],[0.06613756613756613,0.19047619047619047,0.37037037037037035,0.373015873015873],[0.1164021164021164,0.1746031746031746,0.3862433862433862,0.32275132275132273],[0.08465608465608465,0.1693121693121693,0.3915343915343915,0.3544973544973545],[0.1402116402116402,0.15873015873015872,0.4021164021164021,0.29894179894179895],[0.08465608465608465,0.14285714285714285,0.41798941798941797,0.3544973544973545],[0.09788359788359788,0.12433862433862433,0.4365079365079365,0.3412698412698413],[0.12698412698412698,0.13756613756613756,0.42328042328042326,0.31216931216931215],[0.0,0.0,0.5608465608465608,0.43915343915343913],[0.12698412698412698,0.12169312169312169,0.43915343915343913,0.31216931216931215],[0.1349206349206349,0.12433862433862433,0.4365079365079365,0.30423280423280424],[0.19047619047619047,0.12169312169312169,0.43915343915343913,0.24867724867724866],[0.1164021164021164,0.09788359788359788,0.46296296296296297,0.32275132275132273],[0.1455026455026455,0.0873015873015873,0.47354497354497355,0.29365079365079366],[0.20899470899470898,0.09788359788359788,0.46296296296296297,0.23015873015873015],[0.15343915343915343,0.07407407407407407,0.48677248677248675,0.2857142857142857],[0.18253968253968253,0.08465608465608465,0.47619047619047616,0.2566137566137566]],[[0.037037037037037035,0.335978835978836,0.23015873015873015,0.3968253968253968],[0.037037037037037035,0.28835978835978837,0.2777777777777778,0.3968253968253968],[0.026455026455026454,0.2830687830687831,0.2830687830687831,0.4074074074074074],[0.03968253968253968,0.2751322751322751,0.291005291005291,0.3941798941798942],[0.047619047619047616,0.26455026455026454,0.30158730158730157,0.3862433862433862],[0.031746031746031744,0.2619047619047619,0.30423280423280424,0.4021164021164021],[0.042328042328042326,0.26455026455026454,0.30158730158730157,0.3915343915343915],[0.0582010582010582,0.2698412698412698,0.2962962962962963,0.37566137566137564],[0.047619047619047616,0.2566137566137566,0.30952380952380953,0.3862433862433862],[0.05291005291005291,0.25396825396825395,0.31216931216931215,0.38095238095238093],[0.04497354497354497,0.25925925925925924,0.30687830687830686,0.3888888888888889],[0.042328042328042326,0.24074074074074073,0.3253968253968254,0.3915343915343915],[0.05555555555555555,0.23809523809523808,0.328042328042328,0.3783068783068783],[0.05291005291005291,0.24338624338624337,0.32275132275132273,0.38095238095238093],[0.05555555555555555,0.20899470899470898,0.35714285714285715,0.3783068783068783],[0.08994708994708994,0.21428571428571427,0.35185185185185186,0.3439153439153439],[0.1164021164021164,0.22486772486772486,0.3412698412698413,0.31746031746031744],[0.05026455026455026,0.18518518518518517,0.38095238095238093,0.3835978835978836],[0.07407407407407407,0.2037037037037037,0.36243386243386244,0.35978835978835977],[0.1164021164021164,0.17989417989417988,0.3862433862433862,0.31746031746031744],[0.07407407407407407,0.164021164021164,0.4021164021164021,0.35978835978835977],[0.12962962962962962,0.15343915343915343,0.4126984126984127,0.30423280423280424],[0.07936507936507936,0.14285714285714285,0.42328042328042326,0.3544973544973545],[0.10052910052910052,0.13227513227513227,0.43386243386243384,0.3333333333333333],[0.10846560846560846,0.12433862433862433,0.4417989417989418,0.3253968253968254],[0.12169312169312169,0.12698412698412698,0.43915343915343913,0.31216931216931215],[0.0,0.0,0.5661375661375662,0.43386243386243384],[0.11904761904761904,0.11375661375661375,0.4523809523809524,0.3148148148148148],[0.18518518518518517,0.12169312169312169,0.4444444444444444,0.24867724867724866],[0.10317460317460317,0.08994708994708994,0.47619047619047616,0.3306878306878307],[0.1455026455026455,0.09259259259259259,0.47354497354497355,0.28835978835978837],[0.19047619047619047,0.08465608465608465,0.48148148148148145,0.24338624338624337],[0.15608465608465608,0.082010582010582,0.48412698412698413,0.2777777777777778],[0.164021164021164,0.07142857142857142,0.4947089947089947,0.2698412698412698]],[[0.026455026455026454,0.3306878306878307,0.24074074074074073,0.4021164021164021],[0.026455026455026454,0.2830687830687831,0.28835978835978837,0.4021164021164021],[0.026455026455026454,0.28835978835978837,0.2830687830687831,0.4021164021164021],[0.03439153439153439,0.2751322751322751,0.2962962962962963,0.3941798941798942],[0.03968253968253968,0.2619047619047619,0.30952380952380953,0.3888888888888889],[0.0291005291005291,0.26455026455026454,0.30687830687830686,0.3994708994708995],[0.047619047619047616,0.2751322751322751,0.2962962962962963,0.38095238095238093],[0.04497354497354497,0.2619047619047619,0.30952380952380953,0.3835978835978836],[0.047619047619047616,0.2619047619047619,0.30952380952380953,0.38095238095238093],[0.042328042328042326,0.24867724867724866,0.32275132275132273,0.3862433862433862],[0.03968253968253968,0.25925925925925924,0.31216931216931215,0.3888888888888889],[0.047619047619047616,0.25132275132275134,0.3201058201058201,0.38095238095238093],[0.042328042328042326,0.23015873015873015,0.3412698412698413,0.3862433862433862],[0.04497354497354497,0.24074074074074073,0.3306878306878307,0.3835978835978836],[0.047619047619047616,0.20634920634920634,0.36507936507936506,0.38095238095238093],[0.0873015873015873,0.21693121693121692,0.3544973544973545,0.3412698412698413],[0.09788359788359788,0.21164021164021163,0.35978835978835977,0.3306878306878307],[0.07142857142857142,0.21164021164021163,0.35978835978835977,0.35714285714285715],[0.07671957671957672,0.21164021164021163,0.35978835978835977,0.35185185185185186],[0.12169312169312169,0.19047619047619047,0.38095238095238093,0.30687830687830686],[0.0873015873015873,0.18253968253968253,0.3888888888888889,0.3412698412698413],[0.1349206349206349,0.164021164021164,0.4074074074074074,0.29365079365079366],[0.06084656084656084,0.12962962962962962,0.4417989417989418,0.36772486772486773],[0.09259259259259259,0.12962962962962962,0.4417989417989418,0.335978835978836],[0.1111111111111111,0.13227513227513227,0.43915343915343913,0.31746031746031744],[0.12433862433862433,0.1349206349206349,0.4365079365079365,0.30423280423280424],[0.11375661375661375,0.11904761904761904,0.4523809523809524,0.3148148148148148],[0.0,0.0,0.5714285714285714,0.42857142857142855],[0.1746031746031746,0.1164021164021164,0.455026455026455,0.25396825396825395],[0.10052910052910052,0.09259259259259259,0.47883597883597884,0.328042328042328],[0.12433862433862433,0.07671957671957672,0.4947089947089947,0.30423280423280424],[0.21164021164021163,0.1111111111111111,0.4603174603174603,0.21693121693121692],[0.12433862433862433,0.05555555555555555,0.5158730158730159,0.30423280423280424],[0.14814814814814814,0.06084656084656084,0.5105820105820106,0.2804232804232804]],[[0.018518518518518517,0.38095238095238093,0.24867724867724866,0.35185185185185186],[0.023809523809523808,0.3386243386243386,0.291005291005291,0.34656084656084657],[0.021164021164021163,0.3412698412698413,0.28835978835978837,0.3492063492063492],[0.031746031746031744,0.3306878306878307,0.29894179894179895,0.3386243386243386],[0.047619047619047616,0.328042328042328,0.30158730158730157,0.32275132275132273],[0.021164021164021163,0.3148148148148148,0.3148148148148148,0.3492063492063492],[0.0291005291005291,0.3148148148148148,0.3148148148148148,0.3412698412698413],[0.026455026455026454,0.30158730158730157,0.328042328042328,0.3439153439153439],[0.0291005291005291,0.30158730158730157,0.328042328042328,0.3412698412698413],[0.031746031746031744,0.2962962962962963,0.3333333333333333,0.3386243386243386],[0.021164021164021163,0.29894179894179895,0.3306878306878307,0.3492063492063492],[0.0582010582010582,0.3201058201058201,0.30952380952380953,0.31216931216931215],[0.023809523809523808,0.2698412698412698,0.35978835978835977,0.34656084656084657],[0.026455026455026454,0.2804232804232804,0.3492063492063492,0.3439153439153439],[0.06878306878306878,0.2857142857142857,0.3439153439153439,0.30158730158730157],[0.06084656084656084,0.24867724867724866,0.38095238095238093,0.30952380952380953],[0.07936507936507936,0.25132275132275134,0.3783068783068783,0.291005291005291],[0.05555555555555555,0.25396825396825395,0.37566137566137564,0.3148148148148148],[0.06349206349206349,0.2566137566137566,0.373015873015873,0.30687830687830686],[0.08994708994708994,0.21693121693121692,0.4126984126984127,0.2804232804232804],[0.08994708994708994,0.24338624338624337,0.3862433862433862,0.2804232804232804],[0.09523809523809523,0.18253968253968253,0.4470899470899471,0.2751322751322751],[0.07671957671957672,0.2037037037037037,0.42592592592592593,0.29365079365079366],[0.1164021164021164,0.21164021164021163,0.41798941798941797,0.25396825396825395],[0.0873015873015873,0.16666666666666666,0.46296296296296297,0.2830687830687831],[0.12169312169312169,0.19047619047619047,0.43915343915343913,0.24867724867724866],[0.12169312169312169,0.18518518518518517,0.4444444444444444,0.24867724867724866],[0.1164021164021164,0.1746031746031746,0.455026455026455,0.25396825396825395],[0.0,0.0,0.6296296296296297,0.37037037037037035],[0.1111111111111111,0.16137566137566137,0.46825396825396826,0.25925925925925924],[0.14814814814814814,0.15873015873015872,0.4708994708994709,0.2222222222222222],[0.17195767195767195,0.12962962962962962,0.5,0.1984126984126984],[0.15608465608465608,0.1455026455026455,0.48412698412698413,0.21428571428571427],[0.1455026455026455,0.1164021164021164,0.5132275132275133,0.22486772486772486]],[[0.023809523809523808,0.335978835978836,0.24338624338624337,0.3968253968253968],[0.021164021164021163,0.2857142857142857,0.29365079365079366,0.3994708994708995],[0.021164021164021163,0.291005291005291,0.28835978835978837,0.3994708994708995],[0.03439153439153439,0.2830687830687831,0.2962962962962963,0.3862433862433862],[0.04497354497354497,0.2751322751322751,0.30423280423280424,0.37566137566137564],[0.023809523809523808,0.2671957671957672,0.31216931216931215,0.3968253968253968],[0.03968253968253968,0.2751322751322751,0.30423280423280424,0.38095238095238093],[0.03968253968253968,0.26455026455026454,0.3148148148148148,0.38095238095238093],[0.047619047619047616,0.2698412698412698,0.30952380952380953,0.373015873015873],[0.047619047619047616,0.2619047619047619,0.31746031746031744,0.373015873015873],[0.037037037037037035,0.26455026455026454,0.3148148148148148,0.3835978835978836],[0.03968253968253968,0.25132275132275134,0.328042328042328,0.38095238095238093],[0.042328042328042326,0.23809523809523808,0.3412698412698413,0.3783068783068783],[0.042328042328042326,0.24603174603174602,0.3333333333333333,0.3783068783068783],[0.042328042328042326,0.20899470899470898,0.37037037037037035,0.3783068783068783],[0.07671957671957672,0.21428571428571427,0.36507936507936506,0.3439153439153439],[0.08994708994708994,0.21164021164021163,0.36772486772486773,0.3306878306878307],[0.05026455026455026,0.1984126984126984,0.38095238095238093,0.37037037037037035],[0.06349206349206349,0.20634920634920634,0.373015873015873,0.35714285714285715],[0.10846560846560846,0.18518518518518517,0.3941798941798942,0.31216931216931215],[0.06613756613756613,0.1693121693121693,0.41005291005291006,0.3544973544973545],[0.10052910052910052,0.13756613756613756,0.4417989417989418,0.3201058201058201],[0.05555555555555555,0.13227513227513227,0.4470899470899471,0.36507936507936506],[0.07142857142857142,0.1164021164021164,0.46296296296296297,0.3492063492063492],[0.10052910052910052,0.12962962962962962,0.4497354497354497,0.3201058201058201],[0.09788359788359788,0.1164021164021164,0.46296296296296297,0.32275132275132273],[0.08994708994708994,0.10317460317460317,0.47619047619047616,0.3306878306878307],[0.09259259259259259,0.10052910052910052,0.47883597883597884,0.328042328042328],[0.16137566137566137,0.1111111111111111,0.46825396825396826,0.25925925925925924],[0.0,0.0,0.5793650793650794,0.42063492063492064],[0.11375661375661375,0.07407407407407407,0.5052910052910053,0.30687830687830686],[0.17989417989417988,0.0873015873015873,0.49206349206349204,0.24074074074074073],[0.1402116402116402,0.07936507936507936,0.5,0.2804232804232804],[0.1349206349206349,0.05555555555555555,0.5238095238095238,0.2857142857142857]],[[0.023809523809523808,0.37566137566137564,0.24338624338624337,0.35714285714285715],[0.026455026455026454,0.3306878306878307,0.28835978835978837,0.3544973544973545],[0.021164021164021163,0.3306878306878307,0.28835978835978837,0.35978835978835977],[0.031746031746031744,0.3201058201058201,0.29894179894179895,0.3492063492063492],[0.0291005291005291,0.29894179894179895,0.3201058201058201,0.35185185185185186],[0.031746031746031744,0.3148148148148148,0.30423280423280424,0.3492063492063492],[0.037037037037037035,0.31216931216931215,0.30687830687830686,0.3439153439153439],[0.031746031746031744,0.2962962962962963,0.32275132275132273,0.3492063492063492],[0.047619047619047616,0.30952380952380953,0.30952380952380953,0.3333333333333333],[0.03968253968253968,0.29365079365079366,0.3253968253968254,0.3412698412698413],[0.042328042328042326,0.30952380952380953,0.30952380952380953,0.3386243386243386],[0.031746031746031744,0.2830687830687831,0.335978835978836,0.3492063492063492],[0.05555555555555555,0.291005291005291,0.328042328042328,0.3253968253968254],[0.031746031746031744,0.2751322751322751,0.3439153439153439,0.3492063492063492],[0.03439153439153439,0.24074074074074073,0.3783068783068783,0.34656084656084657],[0.07936507936507936,0.2566137566137566,0.36243386243386244,0.30158730158730157],[0.082010582010582,0.24338624338624337,0.37566137566137564,0.29894179894179895],[0.05026455026455026,0.23809523809523808,0.38095238095238093,0.3306878306878307],[0.05555555555555555,0.23809523809523808,0.38095238095238093,0.3253968253968254],[0.10052910052910052,0.21693121693121692,0.4021164021164021,0.2804232804232804],[0.05555555555555555,0.1984126984126984,0.42063492063492064,0.3253968253968254],[0.09259259259259259,0.1693121693121693,0.4497354497354497,0.28835978835978837],[0.0582010582010582,0.1746031746031746,0.4444444444444444,0.32275132275132273],[0.07142857142857142,0.15608465608465608,0.46296296296296297,0.30952380952380953],[0.09259259259259259,0.16137566137566137,0.4576719576719577,0.28835978835978837],[0.0873015873015873,0.1455026455026455,0.47354497354497355,0.29365079365079366],[0.09259259259259259,0.1455026455026455,0.47354497354497355,0.28835978835978837],[0.07671957671957672,0.12433862433862433,0.4947089947089947,0.30423280423280424],[0.15873015873015872,0.14814814814814814,0.4708994708994709,0.2222222222222222],[0.07407407407407407,0.11375661375661375,0.5052910052910053,0.30687830687830686],[0.0,0.0,0.6190476190476191,0.38095238095238093],[0.17195767195767195,0.11904761904761904,0.5,0.20899470899470898],[0.06613756613756613,0.04497354497354497,0.5740740740740741,0.3148148148148148],[0.11904761904761904,0.07936507936507936,0.5396825396825397,0.2619047619047619]],[[0.018518518518518517,0.42328042328042326,0.24867724867724866,0.30952380952380953],[0.021164021164021163,0.3783068783068783,0.29365079365079366,0.30687830687830686],[0.013227513227513227,0.37566137566137564,0.2962962962962963,0.3148148148148148],[0.015873015873015872,0.35714285714285715,0.3148148148148148,0.31216931216931215],[0.03968253968253968,0.36243386243386244,0.30952380952380953,0.28835978835978837],[0.023809523809523808,0.35978835978835977,0.31216931216931215,0.30423280423280424],[0.023809523809523808,0.35185185185185186,0.3201058201058201,0.30423280423280424],[0.037037037037037035,0.3544973544973545,0.31746031746031744,0.291005291005291],[0.0291005291005291,0.3439153439153439,0.328042328042328,0.29894179894179895],[0.037037037037037035,0.3439153439153439,0.328042328042328,0.291005291005291],[0.026455026455026454,0.34656084656084657,0.3253968253968254,0.30158730158730157],[0.031746031746031744,0.335978835978836,0.335978835978836,0.2962962962962963],[0.037037037037037035,0.3253968253968254,0.34656084656084657,0.291005291005291],[0.03439153439153439,0.3306878306878307,0.3412698412698413,0.29365079365079366],[0.06084656084656084,0.3201058201058201,0.35185185185185186,0.2671957671957672],[0.06613756613756613,0.2962962962962963,0.37566137566137564,0.2619047619047619],[0.07407407407407407,0.28835978835978837,0.3835978835978836,0.25396825396825395],[0.04497354497354497,0.2857142857142857,0.3862433862433862,0.2830687830687831],[0.03968253968253968,0.2751322751322751,0.3968253968253968,0.28835978835978837],[0.0873015873015873,0.2566137566137566,0.41534391534391535,0.24074074074074073],[0.06349206349206349,0.25925925925925924,0.4126984126984127,0.26455026455026454],[0.08994708994708994,0.21957671957671956,0.4523809523809524,0.23809523809523808],[0.07142857142857142,0.24074074074074073,0.4312169312169312,0.2566137566137566],[0.07936507936507936,0.21693121693121692,0.455026455026455,0.24867724867724866],[0.06349206349206349,0.18518518518518517,0.48677248677248675,0.26455026455026454],[0.09788359788359788,0.20899470899470898,0.46296296296296297,0.23015873015873015],[0.08465608465608465,0.19047619047619047,0.48148148148148145,0.24338624338624337],[0.1111111111111111,0.21164021164021163,0.4603174603174603,0.21693121693121692],[0.12962962962962962,0.17195767195767195,0.5,0.1984126984126984],[0.0873015873015873,0.17989417989417988,0.49206349206349204,0.24074074074074073],[0.11904761904761904,0.17195767195767195,0.5,0.20899470899470898],[0.0,0.0,0.671957671957672,0.328042328042328],[0.12962962962962962,0.16137566137566137,0.5105820105820106,0.1984126984126984],[0.1349206349206349,0.14814814814814814,0.5238095238095238,0.1931216931216931]],[[0.018518518518518517,0.3915343915343915,0.24867724867724866,0.3412698412698413],[0.026455026455026454,0.35185185185185186,0.28835978835978837,0.3333333333333333],[0.018518518518518517,0.3492063492063492,0.291005291005291,0.3412698412698413],[0.0291005291005291,0.3386243386243386,0.30158730158730157,0.3306878306878307],[0.026455026455026454,0.31746031746031744,0.32275132275132273,0.3333333333333333],[0.021164021164021163,0.3253968253968254,0.3148148148148148,0.3386243386243386],[0.031746031746031744,0.328042328042328,0.31216931216931215,0.328042328042328],[0.03439153439153439,0.3201058201058201,0.3201058201058201,0.3253968253968254],[0.042328042328042326,0.3253968253968254,0.3148148148148148,0.31746031746031744],[0.026455026455026454,0.30158730158730157,0.3386243386243386,0.3333333333333333],[0.03439153439153439,0.32275132275132273,0.31746031746031744,0.3253968253968254],[0.026455026455026454,0.29894179894179895,0.3412698412698413,0.3333333333333333],[0.042328042328042326,0.29894179894179895,0.3412698412698413,0.31746031746031744],[0.031746031746031744,0.2962962962962963,0.3439153439153439,0.328042328042328],[0.031746031746031744,0.25925925925925924,0.38095238095238093,0.328042328042328],[0.07142857142857142,0.2698412698412698,0.37037037037037035,0.28835978835978837],[0.082010582010582,0.26455026455026454,0.37566137566137564,0.2777777777777778],[0.042328042328042326,0.25132275132275134,0.3888888888888889,0.31746031746031744],[0.047619047619047616,0.25132275132275134,0.3888888888888889,0.31216931216931215],[0.09259259259259259,0.23015873015873015,0.41005291005291006,0.2671957671957672],[0.0582010582010582,0.2222222222222222,0.41798941798941797,0.30158730158730157],[0.08994708994708994,0.18783068783068782,0.4523809523809524,0.2698412698412698],[0.047619047619047616,0.18518518518518517,0.455026455026455,0.31216931216931215],[0.06878306878306878,0.1746031746031746,0.4656084656084656,0.291005291005291],[0.07407407407407407,0.164021164021164,0.47619047619047616,0.2857142857142857],[0.07407407407407407,0.15343915343915343,0.48677248677248675,0.2857142857142857],[0.082010582010582,0.15608465608465608,0.48412698412698413,0.2777777777777778],[0.05555555555555555,0.12433862433862433,0.5158730158730159,0.30423280423280424],[0.1455026455026455,0.15608465608465608,0.48412698412698413,0.21428571428571427],[0.07936507936507936,0.1402116402116402,0.5,0.2804232804232804],[0.04497354497354497,0.06613756613756613,0.5740740740740741,0.3148148148148148],[0.16137566137566137,0.12962962962962962,0.5105820105820106,0.1984126984126984],[0.0,0.0,0.6402116402116402,0.35978835978835977],[0.11904761904761904,0.10052910052910052,0.5396825396825397,0.24074074074074073]],[[0.026455026455026454,0.41798941798941797,0.24074074074074073,0.3148148148148148],[0.018518518518518517,0.36243386243386244,0.2962962962962963,0.32275132275132273],[0.021164021164021163,0.37037037037037035,0.28835978835978837,0.3201058201058201],[0.031746031746031744,0.35978835978835977,0.29894179894179895,0.30952380952380953],[0.03968253968253968,0.3492063492063492,0.30952380952380953,0.30158730158730157],[0.026455026455026454,0.3492063492063492,0.30952380952380953,0.3148148148148148],[0.03439153439153439,0.3492063492063492,0.30952380952380953,0.30687830687830686],[0.031746031746031744,0.335978835978836,0.32275132275132273,0.30952380952380953],[0.031746031746031744,0.3333333333333333,0.3253968253968254,0.30952380952380953],[0.03439153439153439,0.328042328042328,0.3306878306878307,0.30687830687830686],[0.03439153439153439,0.3412698412698413,0.31746031746031744,0.30687830687830686],[0.031746031746031744,0.32275132275132273,0.335978835978836,0.30952380952380953],[0.026455026455026454,0.30158730158730157,0.35714285714285715,0.3148148148148148],[0.03439153439153439,0.31746031746031744,0.3412698412698413,0.30687830687830686],[0.031746031746031744,0.2777777777777778,0.38095238095238093,0.30952380952380953],[0.06878306878306878,0.2857142857142857,0.373015873015873,0.2724867724867725],[0.08465608465608465,0.2857142857142857,0.373015873015873,0.2566137566137566],[0.03968253968253968,0.2671957671957672,0.3915343915343915,0.30158730158730157],[0.03439153439153439,0.2566137566137566,0.4021164021164021,0.30687830687830686],[0.0873015873015873,0.24338624338624337,0.41534391534391535,0.25396825396825395],[0.05291005291005291,0.23544973544973544,0.42328042328042326,0.28835978835978837],[0.09259259259259259,0.20899470899470898,0.4497354497354497,0.24867724867724866],[0.047619047619047616,0.2037037037037037,0.455026455026455,0.29365079365079366],[0.047619047619047616,0.17195767195767195,0.48677248677248675,0.29365079365079366],[0.06613756613756613,0.1746031746031746,0.48412698412698413,0.2751322751322751],[0.08465608465608465,0.18253968253968253,0.47619047619047616,0.2566137566137566],[0.07142857142857142,0.164021164021164,0.4947089947089947,0.2698412698412698],[0.06084656084656084,0.14814814814814814,0.5105820105820106,0.2804232804232804],[0.1164021164021164,0.1455026455026455,0.5132275132275133,0.22486772486772486],[0.05555555555555555,0.1349206349206349,0.5238095238095238,0.2857142857142857],[0.07936507936507936,0.11904761904761904,0.5396825396825397,0.2619047619047619],[0.14814814814814814,0.1349206349206349,0.5238095238095238,0.1931216931216931],[0.10052910052910052,0.11904761904761904,0.5396825396825397,0.24074074074074073],[0.0,0.0,0.6587301587301587,0.3412698412698413]]]}],                        {\"template\":{\"data\":{\"histogram2dcontour\":[{\"type\":\"histogram2dcontour\",\"colorbar\":{\"outlinewidth\":0,\"ticks\":\"\"},\"colorscale\":[[0.0,\"#0d0887\"],[0.1111111111111111,\"#46039f\"],[0.2222222222222222,\"#7201a8\"],[0.3333333333333333,\"#9c179e\"],[0.4444444444444444,\"#bd3786\"],[0.5555555555555556,\"#d8576b\"],[0.6666666666666666,\"#ed7953\"],[0.7777777777777778,\"#fb9f3a\"],[0.8888888888888888,\"#fdca26\"],[1.0,\"#f0f921\"]]}],\"choropleth\":[{\"type\":\"choropleth\",\"colorbar\":{\"outlinewidth\":0,\"ticks\":\"\"}}],\"histogram2d\":[{\"type\":\"histogram2d\",\"colorbar\":{\"outlinewidth\":0,\"ticks\":\"\"},\"colorscale\":[[0.0,\"#0d0887\"],[0.1111111111111111,\"#46039f\"],[0.2222222222222222,\"#7201a8\"],[0.3333333333333333,\"#9c179e\"],[0.4444444444444444,\"#bd3786\"],[0.5555555555555556,\"#d8576b\"],[0.6666666666666666,\"#ed7953\"],[0.7777777777777778,\"#fb9f3a\"],[0.8888888888888888,\"#fdca26\"],[1.0,\"#f0f921\"]]}],\"heatmap\":[{\"type\":\"heatmap\",\"colorbar\":{\"outlinewidth\":0,\"ticks\":\"\"},\"colorscale\":[[0.0,\"#0d0887\"],[0.1111111111111111,\"#46039f\"],[0.2222222222222222,\"#7201a8\"],[0.3333333333333333,\"#9c179e\"],[0.4444444444444444,\"#bd3786\"],[0.5555555555555556,\"#d8576b\"],[0.6666666666666666,\"#ed7953\"],[0.7777777777777778,\"#fb9f3a\"],[0.8888888888888888,\"#fdca26\"],[1.0,\"#f0f921\"]]}],\"heatmapgl\":[{\"type\":\"heatmapgl\",\"colorbar\":{\"outlinewidth\":0,\"ticks\":\"\"},\"colorscale\":[[0.0,\"#0d0887\"],[0.1111111111111111,\"#46039f\"],[0.2222222222222222,\"#7201a8\"],[0.3333333333333333,\"#9c179e\"],[0.4444444444444444,\"#bd3786\"],[0.5555555555555556,\"#d8576b\"],[0.6666666666666666,\"#ed7953\"],[0.7777777777777778,\"#fb9f3a\"],[0.8888888888888888,\"#fdca26\"],[1.0,\"#f0f921\"]]}],\"contourcarpet\":[{\"type\":\"contourcarpet\",\"colorbar\":{\"outlinewidth\":0,\"ticks\":\"\"}}],\"contour\":[{\"type\":\"contour\",\"colorbar\":{\"outlinewidth\":0,\"ticks\":\"\"},\"colorscale\":[[0.0,\"#0d0887\"],[0.1111111111111111,\"#46039f\"],[0.2222222222222222,\"#7201a8\"],[0.3333333333333333,\"#9c179e\"],[0.4444444444444444,\"#bd3786\"],[0.5555555555555556,\"#d8576b\"],[0.6666666666666666,\"#ed7953\"],[0.7777777777777778,\"#fb9f3a\"],[0.8888888888888888,\"#fdca26\"],[1.0,\"#f0f921\"]]}],\"surface\":[{\"type\":\"surface\",\"colorbar\":{\"outlinewidth\":0,\"ticks\":\"\"},\"colorscale\":[[0.0,\"#0d0887\"],[0.1111111111111111,\"#46039f\"],[0.2222222222222222,\"#7201a8\"],[0.3333333333333333,\"#9c179e\"],[0.4444444444444444,\"#bd3786\"],[0.5555555555555556,\"#d8576b\"],[0.6666666666666666,\"#ed7953\"],[0.7777777777777778,\"#fb9f3a\"],[0.8888888888888888,\"#fdca26\"],[1.0,\"#f0f921\"]]}],\"mesh3d\":[{\"type\":\"mesh3d\",\"colorbar\":{\"outlinewidth\":0,\"ticks\":\"\"}}],\"scatter\":[{\"fillpattern\":{\"fillmode\":\"overlay\",\"size\":10,\"solidity\":0.2},\"type\":\"scatter\"}],\"parcoords\":[{\"type\":\"parcoords\",\"line\":{\"colorbar\":{\"outlinewidth\":0,\"ticks\":\"\"}}}],\"scatterpolargl\":[{\"type\":\"scatterpolargl\",\"marker\":{\"colorbar\":{\"outlinewidth\":0,\"ticks\":\"\"}}}],\"bar\":[{\"error_x\":{\"color\":\"#2a3f5f\"},\"error_y\":{\"color\":\"#2a3f5f\"},\"marker\":{\"line\":{\"color\":\"#E5ECF6\",\"width\":0.5},\"pattern\":{\"fillmode\":\"overlay\",\"size\":10,\"solidity\":0.2}},\"type\":\"bar\"}],\"scattergeo\":[{\"type\":\"scattergeo\",\"marker\":{\"colorbar\":{\"outlinewidth\":0,\"ticks\":\"\"}}}],\"scatterpolar\":[{\"type\":\"scatterpolar\",\"marker\":{\"colorbar\":{\"outlinewidth\":0,\"ticks\":\"\"}}}],\"histogram\":[{\"marker\":{\"pattern\":{\"fillmode\":\"overlay\",\"size\":10,\"solidity\":0.2}},\"type\":\"histogram\"}],\"scattergl\":[{\"type\":\"scattergl\",\"marker\":{\"colorbar\":{\"outlinewidth\":0,\"ticks\":\"\"}}}],\"scatter3d\":[{\"type\":\"scatter3d\",\"line\":{\"colorbar\":{\"outlinewidth\":0,\"ticks\":\"\"}},\"marker\":{\"colorbar\":{\"outlinewidth\":0,\"ticks\":\"\"}}}],\"scattermapbox\":[{\"type\":\"scattermapbox\",\"marker\":{\"colorbar\":{\"outlinewidth\":0,\"ticks\":\"\"}}}],\"scatterternary\":[{\"type\":\"scatterternary\",\"marker\":{\"colorbar\":{\"outlinewidth\":0,\"ticks\":\"\"}}}],\"scattercarpet\":[{\"type\":\"scattercarpet\",\"marker\":{\"colorbar\":{\"outlinewidth\":0,\"ticks\":\"\"}}}],\"carpet\":[{\"aaxis\":{\"endlinecolor\":\"#2a3f5f\",\"gridcolor\":\"white\",\"linecolor\":\"white\",\"minorgridcolor\":\"white\",\"startlinecolor\":\"#2a3f5f\"},\"baxis\":{\"endlinecolor\":\"#2a3f5f\",\"gridcolor\":\"white\",\"linecolor\":\"white\",\"minorgridcolor\":\"white\",\"startlinecolor\":\"#2a3f5f\"},\"type\":\"carpet\"}],\"table\":[{\"cells\":{\"fill\":{\"color\":\"#EBF0F8\"},\"line\":{\"color\":\"white\"}},\"header\":{\"fill\":{\"color\":\"#C8D4E3\"},\"line\":{\"color\":\"white\"}},\"type\":\"table\"}],\"barpolar\":[{\"marker\":{\"line\":{\"color\":\"#E5ECF6\",\"width\":0.5},\"pattern\":{\"fillmode\":\"overlay\",\"size\":10,\"solidity\":0.2}},\"type\":\"barpolar\"}],\"pie\":[{\"automargin\":true,\"type\":\"pie\"}]},\"layout\":{\"autotypenumbers\":\"strict\",\"colorway\":[\"#636efa\",\"#EF553B\",\"#00cc96\",\"#ab63fa\",\"#FFA15A\",\"#19d3f3\",\"#FF6692\",\"#B6E880\",\"#FF97FF\",\"#FECB52\"],\"font\":{\"color\":\"#2a3f5f\"},\"hovermode\":\"closest\",\"hoverlabel\":{\"align\":\"left\"},\"paper_bgcolor\":\"white\",\"plot_bgcolor\":\"#E5ECF6\",\"polar\":{\"bgcolor\":\"#E5ECF6\",\"angularaxis\":{\"gridcolor\":\"white\",\"linecolor\":\"white\",\"ticks\":\"\"},\"radialaxis\":{\"gridcolor\":\"white\",\"linecolor\":\"white\",\"ticks\":\"\"}},\"ternary\":{\"bgcolor\":\"#E5ECF6\",\"aaxis\":{\"gridcolor\":\"white\",\"linecolor\":\"white\",\"ticks\":\"\"},\"baxis\":{\"gridcolor\":\"white\",\"linecolor\":\"white\",\"ticks\":\"\"},\"caxis\":{\"gridcolor\":\"white\",\"linecolor\":\"white\",\"ticks\":\"\"}},\"coloraxis\":{\"colorbar\":{\"outlinewidth\":0,\"ticks\":\"\"}},\"colorscale\":{\"sequential\":[[0.0,\"#0d0887\"],[0.1111111111111111,\"#46039f\"],[0.2222222222222222,\"#7201a8\"],[0.3333333333333333,\"#9c179e\"],[0.4444444444444444,\"#bd3786\"],[0.5555555555555556,\"#d8576b\"],[0.6666666666666666,\"#ed7953\"],[0.7777777777777778,\"#fb9f3a\"],[0.8888888888888888,\"#fdca26\"],[1.0,\"#f0f921\"]],\"sequentialminus\":[[0.0,\"#0d0887\"],[0.1111111111111111,\"#46039f\"],[0.2222222222222222,\"#7201a8\"],[0.3333333333333333,\"#9c179e\"],[0.4444444444444444,\"#bd3786\"],[0.5555555555555556,\"#d8576b\"],[0.6666666666666666,\"#ed7953\"],[0.7777777777777778,\"#fb9f3a\"],[0.8888888888888888,\"#fdca26\"],[1.0,\"#f0f921\"]],\"diverging\":[[0,\"#8e0152\"],[0.1,\"#c51b7d\"],[0.2,\"#de77ae\"],[0.3,\"#f1b6da\"],[0.4,\"#fde0ef\"],[0.5,\"#f7f7f7\"],[0.6,\"#e6f5d0\"],[0.7,\"#b8e186\"],[0.8,\"#7fbc41\"],[0.9,\"#4d9221\"],[1,\"#276419\"]]},\"xaxis\":{\"gridcolor\":\"white\",\"linecolor\":\"white\",\"ticks\":\"\",\"title\":{\"standoff\":15},\"zerolinecolor\":\"white\",\"automargin\":true,\"zerolinewidth\":2},\"yaxis\":{\"gridcolor\":\"white\",\"linecolor\":\"white\",\"ticks\":\"\",\"title\":{\"standoff\":15},\"zerolinecolor\":\"white\",\"automargin\":true,\"zerolinewidth\":2},\"scene\":{\"xaxis\":{\"backgroundcolor\":\"#E5ECF6\",\"gridcolor\":\"white\",\"linecolor\":\"white\",\"showbackground\":true,\"ticks\":\"\",\"zerolinecolor\":\"white\",\"gridwidth\":2},\"yaxis\":{\"backgroundcolor\":\"#E5ECF6\",\"gridcolor\":\"white\",\"linecolor\":\"white\",\"showbackground\":true,\"ticks\":\"\",\"zerolinecolor\":\"white\",\"gridwidth\":2},\"zaxis\":{\"backgroundcolor\":\"#E5ECF6\",\"gridcolor\":\"white\",\"linecolor\":\"white\",\"showbackground\":true,\"ticks\":\"\",\"zerolinecolor\":\"white\",\"gridwidth\":2}},\"shapedefaults\":{\"line\":{\"color\":\"#2a3f5f\"}},\"annotationdefaults\":{\"arrowcolor\":\"#2a3f5f\",\"arrowhead\":0,\"arrowwidth\":1},\"geo\":{\"bgcolor\":\"white\",\"landcolor\":\"#E5ECF6\",\"subunitcolor\":\"white\",\"showland\":true,\"showlakes\":true,\"lakecolor\":\"white\"},\"title\":{\"x\":0.05},\"mapbox\":{\"style\":\"light\"}}},\"xaxis\":{\"anchor\":\"y\",\"domain\":[0.0,1.0],\"scaleanchor\":\"y\",\"constrain\":\"domain\",\"title\":{\"text\":\" Model B: Loser\"},\"side\":\"top\"},\"yaxis\":{\"anchor\":\"x\",\"domain\":[0.0,1.0],\"autorange\":\"reversed\",\"constrain\":\"domain\",\"title\":{\"text\":\"Model A: Winner\"}},\"coloraxis\":{\"colorscale\":[[0.0,\"rgb(103,0,31)\"],[0.1,\"rgb(178,24,43)\"],[0.2,\"rgb(214,96,77)\"],[0.3,\"rgb(244,165,130)\"],[0.4,\"rgb(253,219,199)\"],[0.5,\"rgb(247,247,247)\"],[0.6,\"rgb(209,229,240)\"],[0.7,\"rgb(146,197,222)\"],[0.8,\"rgb(67,147,195)\"],[0.9,\"rgb(33,102,172)\"],[1.0,\"rgb(5,48,97)\"]]},\"title\":{\"text\":\"win_rates\",\"y\":0.07,\"x\":0.5},\"height\":900,\"width\":900},                        {\"responsive\": true}                    ).then(function(){\n",
       "                            \n",
       "var gd = document.getElementById('1b00a1bf-387e-4960-9695-eba18eca92a3');\n",
       "var x = new MutationObserver(function (mutations, observer) {{\n",
       "        var display = window.getComputedStyle(gd).display;\n",
       "        if (!display || display === 'none') {{\n",
       "            console.log([gd, 'removed!']);\n",
       "            Plotly.purge(gd);\n",
       "            observer.disconnect();\n",
       "        }}\n",
       "}});\n",
       "\n",
       "// Listen for the removal of the full notebook cells\n",
       "var notebookContainer = gd.closest('#notebook-container');\n",
       "if (notebookContainer) {{\n",
       "    x.observe(notebookContainer, {childList: true});\n",
       "}}\n",
       "\n",
       "// Listen for the clearing of the current output cell\n",
       "var outputEl = gd.closest('.output');\n",
       "if (outputEl) {{\n",
       "    x.observe(outputEl, {childList: true});\n",
       "}}\n",
       "\n",
       "                        })                };                });            </script>        </div>"
      ]
     },
     "metadata": {},
     "output_type": "display_data"
    },
    {
     "data": {
      "application/vnd.plotly.v1+json": {
       "config": {
        "plotlyServerURL": "https://plot.ly"
       },
       "data": [
        {
         "coloraxis": "coloraxis",
         "customdata": [
          [
           [
            "nan",
            1,
            0,
            0,
            1
           ],
           [
            0.6290322580645161,
            0.05589722669971112,
            16,
            62,
            0.05677982347435695
           ],
           [
            0.6216216216216216,
            0.04739297550405176,
            18,
            74,
            0.04813101378106177
           ],
           [
            0.6578947368421053,
            0.007905180027859783,
            24,
            76,
            0.008332751739180244
           ],
           [
            0.6805555555555556,
            0.002942760530124976,
            26,
            72,
            0.0032162293101274386
           ],
           [
            0.6883116883116883,
            0.0012632268710478355,
            29,
            77,
            0.001418322554605278
           ],
           [
            0.7105263157894737,
            0.0003129786008370502,
            32,
            76,
            0.00037662448096864587
           ],
           [
            0.6962025316455697,
            0.0006393977673643526,
            31,
            79,
            0.0007374499096730602
           ],
           [
            0.726027397260274,
            0.00014163707253552724,
            33,
            73,
            0.00018016634498463358
           ],
           [
            0.7236842105263158,
            0.0001206291159979032,
            34,
            76,
            0.0001534864651312473
           ],
           [
            0.7111111111111111,
            0.00007657072931048342,
            38,
            90,
            0.00009613610778647086
           ],
           [
            0.7341772151898734,
            0.00003761512780416609,
            37,
            79,
            0.000051148417964497206
           ],
           [
            0.7530864197530864,
            0.000005656214894965935,
            41,
            81,
            0.000008811927405205644
           ],
           [
            0.7391304347826086,
            0.000004935351419046992,
            44,
            92,
            0.0000073580263503236765
           ],
           [
            0.7777777777777778,
            2.4928338709270455e-8,
            55,
            99,
            5.724362428516372e-8
           ],
           [
            0.8163265306122449,
            1.6606697571045604e-10,
            62,
            98,
            7.186338191189634e-10
           ],
           [
            0.8333333333333334,
            2.0744109143956072e-11,
            64,
            96,
            1.2767908952326934e-10
           ],
           [
            0.8367346938775511,
            7.380354309112728e-12,
            66,
            98,
            5.168776517905371e-11
           ],
           [
            0.839622641509434,
            5.912079008704511e-13,
            72,
            106,
            5.343836484428266e-12
           ],
           [
            0.8495575221238938,
            1.4727515742257347e-14,
            79,
            113,
            2.1738166822160565e-13
           ],
           [
            0.8739495798319328,
            1.450249679735154e-17,
            89,
            119,
            6.661338147750939e-16
           ],
           [
            0.8677685950413223,
            3.162946279828288e-17,
            89,
            121,
            1.2212453270876722e-15
           ],
           [
            0.8740740740740741,
            8.634558219080549e-20,
            101,
            135,
            0
           ],
           [
            0.9,
            4.31422564584497e-22,
            104,
            130,
            0
           ],
           [
            0.9083969465648855,
            2.587003859247397e-23,
            107,
            131,
            0
           ],
           [
            0.9051094890510949,
            6.84026545842273e-24,
            111,
            137,
            0
           ],
           [
            0.900709219858156,
            5.815315210521221e-24,
            113,
            141,
            0
           ],
           [
            0.9259259259259259,
            1.962657178574568e-26,
            115,
            135,
            0
           ],
           [
            0.9338235294117647,
            8.260011277058911e-28,
            118,
            136,
            0
           ],
           [
            0.9403973509933775,
            6.591678161717244e-32,
            133,
            151,
            0
           ],
           [
            0.9536423841059603,
            2.269603084085948e-34,
            137,
            151,
            0
           ],
           [
            0.9548387096774194,
            1.7074014022960796e-35,
            141,
            155,
            0
           ],
           [
            0.9580838323353293,
            7.070419183978223e-39,
            153,
            167,
            0
           ],
           [
            0.9404761904761905,
            2.1416199587982634e-35,
            148,
            168,
            0
           ]
          ],
          [
           [
            0.3709677419354839,
            0.05589722669971112,
            -16,
            62,
            0.05677982347435695
           ],
           [
            "nan",
            1,
            0,
            0,
            1
           ],
           [
            0.5161290322580645,
            0.8990763136528589,
            2,
            62,
            0.8989402980321263
           ],
           [
            0.5666666666666667,
            0.36629400670329104,
            8,
            60,
            0.3661565601940605
           ],
           [
            0.5833333333333334,
            0.2450608330229457,
            10,
            60,
            0.2452781168067728
           ],
           [
            0.6181818181818182,
            0.10478948242660333,
            13,
            55,
            0.10564542920187636
           ],
           [
            0.6428571428571429,
            0.044046546102150766,
            16,
            56,
            0.04502088100253876
           ],
           [
            0.6153846153846154,
            0.08168153394154003,
            15,
            65,
            0.08247788747320972
           ],
           [
            0.6545454545454545,
            0.030028945411892487,
            17,
            55,
            0.03097143165084626
           ],
           [
            0.65,
            0.027340133868077935,
            18,
            60,
            0.028185802147907335
           ],
           [
            0.671875,
            0.008146902228698568,
            22,
            64,
            0.008664896726025106
           ],
           [
            0.6721311475409836,
            0.009853448195259268,
            21,
            61,
            0.01044502138496417
           ],
           [
            0.7192982456140351,
            0.001263559472435463,
            25,
            57,
            0.0014784647972274634
           ],
           [
            0.7333333333333333,
            0.00039404324272610154,
            28,
            60,
            0.0004908786448403202
           ],
           [
            0.7746478873239436,
            0.000003753237688593051,
            39,
            71,
            0.000006489785649321789
           ],
           [
            0.8382352941176471,
            1.2750032374450517e-8,
            46,
            68,
            4.841058065530035e-8
           ],
           [
            0.8333333333333334,
            8.055498526741105e-9,
            48,
            72,
            3.0419822660832097e-8
           ],
           [
            0.7777777777777778,
            1.1363565084238009e-7,
            50,
            90,
            2.403701460096386e-7
           ],
           [
            0.7692307692307693,
            3.221505246540145e-8,
            56,
            104,
            6.921626105604872e-8
           ],
           [
            0.8247422680412371,
            6.007962189879819e-11,
            63,
            97,
            3.071102261387182e-10
           ],
           [
            0.8543689320388349,
            9.654706383228215e-14,
            73,
            103,
            1.2994050280212832e-12
           ],
           [
            0.8411214953271028,
            3.5057799981190235e-13,
            73,
            107,
            3.390621117205228e-12
           ],
           [
            0.897196261682243,
            4.300826607582504e-18,
            85,
            107,
            4.440892098500626e-16
           ],
           [
            0.860655737704918,
            1.1474562133221443e-16,
            88,
            122,
            3.3306690738754696e-15
           ],
           [
            0.8760330578512396,
            4.715659082533631e-18,
            91,
            121,
            3.3306690738754696e-16
           ],
           [
            0.905982905982906,
            1.1625691644538388e-20,
            95,
            117,
            0
           ],
           [
            0.9145299145299145,
            1.1819170779356622e-21,
            97,
            117,
            0
           ],
           [
            0.9159663865546218,
            3.518195580823734e-22,
            99,
            119,
            0
           ],
           [
            0.9322033898305084,
            4.74093238312722e-24,
            102,
            118,
            0
           ],
           [
            0.9398496240601504,
            3.8402956425115606e-28,
            117,
            133,
            0
           ],
           [
            0.9416058394160584,
            3.0554882002890587e-29,
            121,
            137,
            0
           ],
           [
            0.9496402877697842,
            5.166045778807018e-31,
            125,
            139,
            0
           ],
           [
            0.9659863945578231,
            6.201799122350081e-36,
            137,
            147,
            0
           ],
           [
            0.9459459459459459,
            2.797312157195774e-32,
            132,
            148,
            0
           ]
          ],
          [
           [
            0.3783783783783784,
            0.04739297550405176,
            -18,
            74,
            0.04813101378106177
           ],
           [
            0.4838709677419355,
            0.8990763136528589,
            -2,
            62,
            0.8989402980321263
           ],
           [
            "nan",
            1,
            0,
            0,
            1
           ],
           [
            0.5555555555555556,
            0.49661743531793345,
            6,
            54,
            0.49624247444426284
           ],
           [
            0.5625,
            0.3817327947933377,
            8,
            64,
            0.38157390570502125
           ],
           [
            0.5846153846153846,
            0.2145391940081784,
            11,
            65,
            0.2148469474056489
           ],
           [
            0.609375,
            0.10342187831608088,
            14,
            64,
            0.10416255883043912
           ],
           [
            0.5915492957746479,
            0.1539127693264563,
            13,
            71,
            0.15440653110764235
           ],
           [
            0.6086956521739131,
            0.09118649056701154,
            15,
            69,
            0.09191104899535951
           ],
           [
            0.6142857142857143,
            0.07223792719176257,
            16,
            70,
            0.07299804543011579
           ],
           [
            0.6428571428571429,
            0.022462895492509273,
            20,
            70,
            0.023150951985246304
           ],
           [
            0.6301369863013698,
            0.034415913668175036,
            19,
            73,
            0.035140066579092855
           ],
           [
            0.6716417910447762,
            0.006741447363103123,
            23,
            67,
            0.007194001885687196
           ],
           [
            0.7096774193548387,
            0.0012990027709550095,
            26,
            62,
            0.001498348617996581
           ],
           [
            0.7466666666666667,
            0.000022429642158970264,
            37,
            75,
            0.0000322564145623927
           ],
           [
            0.75,
            0.0000028793907495367242,
            44,
            88,
            0.000004565673459744346
           ],
           [
            0.8108108108108109,
            6.221761416347879e-8,
            46,
            74,
            1.6846444461648957e-7
           ],
           [
            0.7608695652173914,
            5.348143171041871e-7,
            48,
            92,
            9.579338275944593e-7
           ],
           [
            0.77,
            5.513580775850052e-8,
            54,
            100,
            1.1580268077793221e-7
           ],
           [
            0.7961165048543689,
            1.0696750216702928e-9,
            61,
            103,
            3.3802848298236654e-9
           ],
           [
            0.8736842105263158,
            3.211393990185144e-14,
            71,
            95,
            6.877831637552845e-13
           ],
           [
            0.8380952380952381,
            9.952845271763166e-13,
            71,
            105,
            8.414824392843911e-12
           ],
           [
            0.8672566371681416,
            4.098728148755534e-16,
            83,
            113,
            1.2212453270876722e-14
           ],
           [
            0.8981481481481481,
            2.391242454166262e-18,
            86,
            108,
            3.3306690738754696e-16
           ],
           [
            0.8938053097345132,
            1.0769168220004768e-18,
            89,
            113,
            1.1102230246251565e-16
           ],
           [
            0.8661417322834646,
            7.386767234722092e-18,
            93,
            127,
            3.3306690738754696e-16
           ],
           [
            0.8861788617886179,
            2.0761409799356805e-19,
            95,
            123,
            0
           ],
           [
            0.9145299145299145,
            1.1819170779356622e-21,
            97,
            117,
            0
           ],
           [
            0.9310344827586207,
            1.6492278067940443e-23,
            100,
            116,
            0
           ],
           [
            0.9259259259259259,
            1.962657178574568e-26,
            115,
            135,
            0
           ],
           [
            0.9343065693430657,
            4.417855826116116e-28,
            119,
            137,
            0
           ],
           [
            0.9300699300699301,
            1.3833392965568367e-28,
            123,
            143,
            0
           ],
           [
            0.9470198675496688,
            4.116489201690665e-33,
            135,
            151,
            0
           ],
           [
            0.9513888888888888,
            2.0745989755018755e-32,
            130,
            144,
            0
           ]
          ],
          [
           [
            0.34210526315789475,
            0.007905180027859783,
            -24,
            76,
            0.008332751739180244
           ],
           [
            0.43333333333333335,
            0.36629400670329104,
            -8,
            60,
            0.3661565601940605
           ],
           [
            0.4444444444444444,
            0.49661743531793345,
            -6,
            54,
            0.49624247444426284
           ],
           [
            "nan",
            1,
            0,
            0,
            1
           ],
           [
            0.5166666666666667,
            0.8974218269914307,
            2,
            60,
            0.897278961260083
           ],
           [
            0.5342465753424658,
            0.6399729317539425,
            5,
            73,
            0.6396668933244998
           ],
           [
            0.5666666666666667,
            0.36629400670329104,
            8,
            60,
            0.3661565601940605
           ],
           [
            0.5507246376811594,
            0.47036853185814453,
            7,
            69,
            0.4701007598741287
           ],
           [
            0.5671641791044776,
            0.3284320626971897,
            9,
            67,
            0.32839315835531246
           ],
           [
            0.5833333333333334,
            0.2450608330229457,
            10,
            60,
            0.2452781168067728
           ],
           [
            0.6060606060606061,
            0.10885696440971612,
            14,
            66,
            0.10955657678268615
           ],
           [
            0.5764705882352941,
            0.19276043534155876,
            13,
            85,
            0.19305906087643565
           ],
           [
            0.639344262295082,
            0.03961701489849968,
            17,
            61,
            0.040502215582606804
           ],
           [
            0.6515151515151515,
            0.01865726035402101,
            20,
            66,
            0.019348980200336707
           ],
           [
            0.6962025316455697,
            0.0006393977673643526,
            31,
            79,
            0.0007374499096730602
           ],
           [
            0.7209302325581395,
            0.00005083654201844156,
            38,
            86,
            0.00006612551641249631
           ],
           [
            0.7564102564102564,
            0.00000641506390670917,
            40,
            78,
            0.000010059968254427787
           ],
           [
            0.7333333333333333,
            0.000010902049191089246,
            42,
            90,
            0.000015477584790146715
           ],
           [
            0.75,
            9.69923242552742e-7,
            48,
            96,
            0.000001611259937583931
           ],
           [
            0.7835051546391752,
            1.7194329935998188e-8,
            55,
            97,
            4.184822177677461e-8
           ],
           [
            0.8282828282828283,
            2.1806410800143945e-11,
            65,
            99,
            1.2573531105175562e-10
           ],
           [
            0.8037383177570093,
            1.6010060804361699e-10,
            65,
            107,
            6.127583995763075e-10
           ],
           [
            0.8532110091743119,
            2.2089187156338813e-14,
            77,
            109,
            3.3506530883187224e-13
           ],
           [
            0.8389830508474576,
            3.055970137442688e-14,
            80,
            118,
            3.5282887722587475e-13
           ],
           [
            0.9029126213592233,
            5.198609903817759e-18,
            83,
            103,
            6.661338147750939e-16
           ],
           [
            0.8717948717948718,
            4.439257960696856e-17,
            87,
            117,
            1.887379141862766e-15
           ],
           [
            0.8739495798319328,
            1.450249679735154e-17,
            89,
            119,
            6.661338147750939e-16
           ],
           [
            0.8888888888888888,
            8.490021806129161e-19,
            91,
            117,
            1.1102230246251565e-16
           ],
           [
            0.8916666666666667,
            1.4958728419663173e-19,
            94,
            120,
            0
           ],
           [
            0.9097744360902256,
            7.805904320346072e-24,
            109,
            133,
            0
           ],
           [
            0.9124087591240876,
            7.0458837577401e-25,
            113,
            137,
            0
           ],
           [
            0.920863309352518,
            1.9582705465490264e-26,
            117,
            139,
            0
           ],
           [
            0.9574468085106383,
            7.352026653297796e-33,
            129,
            141,
            0
           ],
           [
            0.918918918918919,
            8.95281620858886e-28,
            124,
            148,
            0
           ]
          ],
          [
           [
            0.3194444444444444,
            0.002942760530124976,
            -26,
            72,
            0.0032162293101274386
           ],
           [
            0.4166666666666667,
            0.2450608330229457,
            -10,
            60,
            0.2452781168067728
           ],
           [
            0.4375,
            0.3817327947933377,
            -8,
            64,
            0.38157390570502125
           ],
           [
            0.48333333333333334,
            0.8974218269914307,
            -2,
            60,
            0.897278961260083
           ],
           [
            "nan",
            1,
            0,
            0,
            1
           ],
           [
            0.5365853658536586,
            0.755228657504631,
            3,
            41,
            0.7547764265871045
           ],
           [
            0.55,
            0.5189580031896519,
            6,
            60,
            0.5186050164287255
           ],
           [
            0.5352112676056338,
            0.6353076420876663,
            5,
            71,
            0.6349917907446543
           ],
           [
            0.5522388059701493,
            0.46381761789686937,
            7,
            67,
            0.4635482645312403
           ],
           [
            0.5606060606060606,
            0.3890524605477928,
            8,
            66,
            0.38888541180776515
           ],
           [
            0.5857142857142857,
            0.18821620302302766,
            12,
            70,
            0.1885934421817631
           ],
           [
            0.5733333333333334,
            0.24804574189252784,
            11,
            75,
            0.24821307898992362
           ],
           [
            0.6119402985074627,
            0.08643723427347082,
            15,
            67,
            0.08719706449021136
           ],
           [
            0.6323529411764706,
            0.038460053348927506,
            18,
            68,
            0.03925033046769266
           ],
           [
            0.6986301369863014,
            0.0009142745821630902,
            29,
            73,
            0.0010485985788697416
           ],
           [
            0.7093023255813954,
            0.00013037942991199537,
            36,
            86,
            0.00016055603247933092
           ],
           [
            0.7638888888888888,
            0.00000814003082672391,
            38,
            72,
            0.00001297704350999851
           ],
           [
            0.7272727272727273,
            0.000023726590787439646,
            40,
            88,
            0.00003218704260965488
           ],
           [
            0.7738095238095238,
            4.748492975346606e-7,
            46,
            84,
            9.112167294045292e-7
           ],
           [
            0.797752808988764,
            1.2968749869187788e-8,
            53,
            89,
            3.5480114846109245e-8
           ],
           [
            0.8539325842696629,
            5.446803038068455e-12,
            63,
            89,
            4.96482854828173e-11
           ],
           [
            0.8387096774193549,
            1.9393097995260696e-11,
            63,
            93,
            1.2836121054959904e-10
           ],
           [
            0.8378378378378378,
            2.2601502838438826e-13,
            75,
            111,
            2.1596058275008545e-12
           ],
           [
            0.8421052631578947,
            4.721433127339268e-14,
            78,
            114,
            5.525579993559404e-13
           ],
           [
            0.900990099009901,
            1.6977475366916752e-17,
            81,
            101,
            1.6653345369377348e-15
           ],
           [
            0.897196261682243,
            4.300826607582504e-18,
            85,
            107,
            4.440892098500626e-16
           ],
           [
            0.8918918918918919,
            3.4466261850741707e-18,
            87,
            111,
            3.3306690738754696e-16
           ],
           [
            0.9009009009009009,
            4.0853725805661456e-19,
            89,
            111,
            1.1102230246251565e-16
           ],
           [
            0.9181818181818182,
            7.837961736461263e-21,
            92,
            110,
            0
           ],
           [
            0.9083969465648855,
            2.587003859247397e-23,
            107,
            131,
            0
           ],
           [
            0.937007874015748,
            1.6869953653078252e-26,
            111,
            127,
            0
           ],
           [
            0.9389312977099237,
            1.3576781839928254e-27,
            115,
            131,
            0
           ],
           [
            0.9379310344827586,
            2.907347193787138e-30,
            127,
            145,
            0
           ],
           [
            0.9295774647887324,
            2.574736689877734e-28,
            122,
            142,
            0
           ]
          ],
          [
           [
            0.3116883116883117,
            0.0012632268710478355,
            -29,
            77,
            0.001418322554605278
           ],
           [
            0.38181818181818183,
            0.10478948242660333,
            -13,
            55,
            0.10564542920187636
           ],
           [
            0.4153846153846154,
            0.2145391940081784,
            -11,
            65,
            0.2148469474056489
           ],
           [
            0.4657534246575342,
            0.6399729317539425,
            -5,
            73,
            0.6396668933244998
           ],
           [
            0.4634146341463415,
            0.755228657504631,
            -3,
            41,
            0.7547764265871045
           ],
           [
            "nan",
            1,
            0,
            0,
            1
           ],
           [
            0.5245901639344263,
            0.7981526273057179,
            3,
            61,
            0.7978938831986565
           ],
           [
            0.5147058823529411,
            0.9035973456835127,
            2,
            68,
            0.9034789137192296
           ],
           [
            0.5294117647058824,
            0.716300760154337,
            4,
            68,
            0.716004795504331
           ],
           [
            0.5396825396825397,
            0.6146550157654618,
            5,
            63,
            0.6142946646634825
           ],
           [
            0.5584415584415584,
            0.36203179773966154,
            9,
            77,
            0.36193476692119253
           ],
           [
            0.5588235294117647,
            0.39612484029702977,
            8,
            68,
            0.3959510250893423
           ],
           [
            0.5833333333333334,
            0.1945051658673991,
            12,
            72,
            0.19485064860886947
           ],
           [
            0.6056338028169014,
            0.09592363141082376,
            15,
            71,
            0.09661420844785251
           ],
           [
            0.6805555555555556,
            0.002942760530124976,
            26,
            72,
            0.0032162293101274386
           ],
           [
            0.6987951807228916,
            0.0003783427631607787,
            33,
            83,
            0.00044398497897857325
           ],
           [
            0.7536231884057971,
            0.000029304321745456655,
            35,
            69,
            0.000042560914196188016
           ],
           [
            0.7078651685393258,
            0.00010992624937112814,
            37,
            89,
            0.00013563669654459432
           ],
           [
            0.7471264367816092,
            0.000004348703111758687,
            43,
            87,
            0.000006704106102373153
           ],
           [
            0.7777777777777778,
            1.1363565084238009e-7,
            50,
            90,
            2.403701460096386e-7
           ],
           [
            0.8061224489795918,
            7.127385901074282e-10,
            60,
            98,
            2.523923181563248e-9
           ],
           [
            0.7941176470588235,
            1.709865174269227e-9,
            60,
            102,
            5.161792548946664e-9
           ],
           [
            0.8333333333333334,
            1.0657835390692565e-12,
            72,
            108,
            8.375189430864793e-12
           ],
           [
            0.8378378378378378,
            2.2601502838438826e-13,
            75,
            111,
            2.1596058275008545e-12
           ],
           [
            0.8482142857142857,
            2.507729768138009e-14,
            78,
            112,
            3.4428015993626104e-13
           ],
           [
            0.8660714285714286,
            7.121860330286232e-16,
            82,
            112,
            1.9539925233402755e-14
           ],
           [
            0.8620689655172413,
            4.958638770872384e-16,
            84,
            116,
            1.2989609388114332e-14
           ],
           [
            0.8524590163934426,
            6.780884736177504e-16,
            86,
            122,
            1.4099832412739488e-14
           ],
           [
            0.8739495798319328,
            1.450249679735154e-17,
            89,
            119,
            6.661338147750939e-16
           ],
           [
            0.8939393939393939,
            1.1384055538138498e-21,
            104,
            132,
            0
           ],
           [
            0.9153846153846154,
            4.6966135406816054e-24,
            108,
            130,
            0
           ],
           [
            0.9117647058823529,
            1.2868059091640347e-24,
            112,
            136,
            0
           ],
           [
            0.9366197183098591,
            1.9194190323593825e-29,
            124,
            142,
            0
           ],
           [
            0.9103448275862069,
            5.738497867872483e-26,
            119,
            145,
            0
           ]
          ],
          [
           [
            0.2894736842105263,
            0.0003129786008370502,
            -32,
            76,
            0.00037662448096864587
           ],
           [
            0.35714285714285715,
            0.044046546102150766,
            -16,
            56,
            0.04502088100253876
           ],
           [
            0.390625,
            0.10342187831608088,
            -14,
            64,
            0.10416255883043912
           ],
           [
            0.43333333333333335,
            0.36629400670329104,
            -8,
            60,
            0.3661565601940605
           ],
           [
            0.45,
            0.5189580031896519,
            -6,
            60,
            0.5186050164287255
           ],
           [
            0.47540983606557374,
            0.7981526273057179,
            -3,
            61,
            0.7978938831986565
           ],
           [
            "nan",
            1,
            0,
            0,
            1
           ],
           [
            0.49206349206349204,
            1,
            -1,
            63,
            1
           ],
           [
            0.5081967213114754,
            1,
            1,
            61,
            1
           ],
           [
            0.5172413793103449,
            0.8956832138895906,
            2,
            58,
            0.8955329031670437
           ],
           [
            0.5428571428571428,
            0.5504125118224712,
            6,
            70,
            0.5500973172303969
           ],
           [
            0.5333333333333333,
            0.6444639138942256,
            5,
            75,
            0.6441672226837103
           ],
           [
            0.5882352941176471,
            0.2624375357110438,
            9,
            51,
            0.2626182904425206
           ],
           [
            0.6,
            0.1550019040032606,
            12,
            60,
            0.15558034779219365
           ],
           [
            0.6619718309859155,
            0.008554538502693429,
            23,
            71,
            0.009029910762692439
           ],
           [
            0.6973684210526315,
            0.0007645817391550476,
            30,
            76,
            0.000879351401835371
           ],
           [
            0.7352941176470589,
            0.00013083876154198454,
            32,
            68,
            0.0001703879348371462
           ],
           [
            0.7236842105263158,
            0.0001206291159979032,
            34,
            76,
            0.0001534864651312473
           ],
           [
            0.7272727272727273,
            0.000023726590787439646,
            40,
            88,
            0.00003218704260965488
           ],
           [
            0.7526881720430108,
            0.0000011026255560645484,
            47,
            93,
            0.0000018424622734158902
           ],
           [
            0.8131868131868132,
            1.1934080595966506e-9,
            57,
            91,
            4.347578297370092e-9
           ],
           [
            0.7878787878787878,
            6.88231823830183e-9,
            57,
            99,
            1.8208745844461305e-8
           ],
           [
            0.8165137614678899,
            1.4176630345560641e-11,
            69,
            109,
            7.355727138502743e-11
           ],
           [
            0.8214285714285714,
            3.1880856558543937e-12,
            72,
            112,
            1.961386608684279e-11
           ],
           [
            0.831858407079646,
            4.045693021158809e-13,
            75,
            113,
            3.3706371027619753e-12
           ],
           [
            0.8434782608695652,
            2.792528455178105e-14,
            79,
            115,
            3.5016434196677437e-13
           ],
           [
            0.8521739130434782,
            5.056827098324028e-15,
            81,
            115,
            8.64863736182997e-14
           ],
           [
            0.8672566371681416,
            4.098728148755534e-16,
            83,
            113,
            1.2212453270876722e-14
           ],
           [
            0.8771929824561403,
            3.487916162229429e-17,
            86,
            114,
            1.6653345369377348e-15
           ],
           [
            0.8796992481203008,
            3.7982000367999554e-20,
            101,
            133,
            0
           ],
           [
            0.9338842975206612,
            7.2744533233669705e-25,
            105,
            121,
            0
           ],
           [
            0.9037037037037037,
            2.2438953310017013e-23,
            109,
            135,
            0
           ],
           [
            0.9290780141843972,
            4.789729026756024e-28,
            121,
            141,
            0
           ],
           [
            0.9084507042253521,
            3.4647755616804067e-25,
            116,
            142,
            0
           ]
          ],
          [
           [
            0.3037974683544304,
            0.0006393977673643526,
            -31,
            79,
            0.0007374499096730602
           ],
           [
            0.38461538461538464,
            0.08168153394154003,
            -15,
            65,
            0.08247788747320972
           ],
           [
            0.4084507042253521,
            0.1539127693264563,
            -13,
            71,
            0.15440653110764235
           ],
           [
            0.4492753623188406,
            0.47036853185814453,
            -7,
            69,
            0.4701007598741287
           ],
           [
            0.4647887323943662,
            0.6353076420876663,
            -5,
            71,
            0.6349917907446543
           ],
           [
            0.4852941176470588,
            0.9035973456835127,
            -2,
            68,
            0.9034789137192296
           ],
           [
            0.5079365079365079,
            1,
            1,
            63,
            1
           ],
           [
            "nan",
            1,
            0,
            0,
            1
           ],
           [
            0.5131578947368421,
            0.9087769252754927,
            2,
            76,
            0.9086766781799486
           ],
           [
            0.5194805194805194,
            0.8198929037490488,
            3,
            77,
            0.8197075378297882
           ],
           [
            0.5573770491803278,
            0.4426260049464714,
            7,
            61,
            0.44235573329514033
           ],
           [
            0.5375,
            0.5764306261883931,
            6,
            80,
            0.5761501220305787
           ],
           [
            0.5862068965517241,
            0.23704711476271959,
            10,
            58,
            0.2373017786499998
           ],
           [
            0.5822784810126582,
            0.17661055306016424,
            13,
            79,
            0.17698215046060206
           ],
           [
            0.6666666666666666,
            0.006309827313666047,
            24,
            72,
            0.006716645502620966
           ],
           [
            0.6741573033707865,
            0.0013352623656219375,
            31,
            89,
            0.0014727828467661075
           ],
           [
            0.6987951807228916,
            0.0003783427631607787,
            33,
            83,
            0.00044398497897857325
           ],
           [
            0.6966292134831461,
            0.00026558534298746995,
            35,
            89,
            0.0003133657498484155
           ],
           [
            0.711340206185567,
            0.00003803794805755345,
            41,
            97,
            0.00004878251767115316
           ],
           [
            0.7448979591836735,
            0.0000012796062450772919,
            48,
            98,
            0.000002057256577203681
           ],
           [
            0.79,
            4.3373666334216375e-9,
            58,
            100,
            1.1980742842254699e-8
           ],
           [
            0.7636363636363637,
            2.6140393458029345e-8,
            58,
            110,
            5.487738741205561e-8
           ],
           [
            0.7966101694915254,
            5.560432964003839e-11,
            70,
            118,
            2.125818410192437e-10
           ],
           [
            0.7967479674796748,
            2.0789169979429998e-11,
            73,
            123,
            8.469225321050544e-11
           ],
           [
            0.8454545454545455,
            7.237227129476198e-14,
            76,
            110,
            8.61644089411584e-13
           ],
           [
            0.8278688524590164,
            9.677506062033449e-14,
            80,
            122,
            8.532063944244328e-13
           ],
           [
            0.847457627118644,
            5.725061244691279e-15,
            82,
            118,
            8.870681966755001e-14
           ],
           [
            0.868421052631579,
            2.355799901240388e-16,
            84,
            114,
            7.66053886991358e-15
           ],
           [
            0.859504132231405,
            1.9786177986614588e-16,
            87,
            121,
            5.329070518200751e-15
           ],
           [
            0.9112903225806451,
            1.7582222198414876e-22,
            102,
            124,
            0
           ],
           [
            0.8732394366197183,
            1.1693737942974311e-20,
            106,
            142,
            0
           ],
           [
            0.9230769230769231,
            4.263429420007923e-25,
            110,
            130,
            0
           ],
           [
            0.9013157894736842,
            7.854293204336358e-26,
            122,
            152,
            0
           ],
           [
            0.8979591836734694,
            1.4907381626203358e-24,
            117,
            147,
            0
           ]
          ],
          [
           [
            0.273972602739726,
            0.00014163707253552724,
            -33,
            73,
            0.00018016634498463358
           ],
           [
            0.34545454545454546,
            0.030028945411892487,
            -17,
            55,
            0.03097143165084626
           ],
           [
            0.391304347826087,
            0.09118649056701154,
            -15,
            69,
            0.09191104899535951
           ],
           [
            0.43283582089552236,
            0.3284320626971897,
            -9,
            67,
            0.32839315835531246
           ],
           [
            0.44776119402985076,
            0.46381761789686937,
            -7,
            67,
            0.4635482645312403
           ],
           [
            0.47058823529411764,
            0.716300760154337,
            -4,
            68,
            0.716004795504331
           ],
           [
            0.4918032786885246,
            1,
            -1,
            61,
            1
           ],
           [
            0.4868421052631579,
            0.9087769252754927,
            -2,
            76,
            0.9086766781799486
           ],
           [
            "nan",
            1,
            0,
            0,
            1
           ],
           [
            0.5081967213114754,
            1,
            1,
            61,
            1
           ],
           [
            0.5333333333333333,
            0.6444639138942256,
            5,
            75,
            0.6441672226837103
           ],
           [
            0.53125,
            0.7079807541347641,
            4,
            64,
            0.7076604666545525
           ],
           [
            0.5769230769230769,
            0.3317497633694906,
            8,
            52,
            0.3316850680568626
           ],
           [
            0.5753424657534246,
            0.241644723140752,
            11,
            73,
            0.24183542123691049
           ],
           [
            0.6341463414634146,
            0.0198269158458416,
            22,
            82,
            0.020391672237361158
           ],
           [
            0.6746987951807228,
            0.0019314374822250477,
            29,
            83,
            0.002116351150048157
           ],
           [
            0.7246376811594203,
            0.00024439701657757496,
            31,
            69,
            0.00030434234335940946
           ],
           [
            0.6853932584269663,
            0.0006102590502807983,
            33,
            89,
            0.0006938615813185667
           ],
           [
            0.7241379310344828,
            0.000034799669459257334,
            39,
            87,
            0.00004620699551383112
           ],
           [
            0.7211538461538461,
            0.000007366510614966003,
            46,
            104,
            0.000010213043956541767
           ],
           [
            0.7916666666666666,
            7.319367989521492e-9,
            56,
            96,
            1.983732222932133e-8
           ],
           [
            0.7641509433962265,
            4.4793745175678225e-8,
            56,
            106,
            9.189001737297531e-8
           ],
           [
            0.7931034482758621,
            1.4181822700488308e-10,
            68,
            116,
            4.946457687893258e-10
           ],
           [
            0.8256880733944955,
            3.098472966432261e-12,
            71,
            109,
            2.017042088908738e-11
           ],
           [
            0.8245614035087719,
            1.1680094670975612e-12,
            74,
            114,
            8.082534641573602e-12
           ],
           [
            0.8545454545454545,
            1.2897655647164703e-14,
            78,
            110,
            2.1094237467877974e-13
           ],
           [
            0.8225806451612904,
            1.6601952366746198e-13,
            80,
            124,
            1.2990719611138957e-12
           ],
           [
            0.853448275862069,
            2.9566626383126712e-15,
            82,
            116,
            5.4511950509095186e-14
           ],
           [
            0.8695652173913043,
            1.3522957587316638e-16,
            85,
            115,
            4.773959005888173e-15
           ],
           [
            0.9032258064516129,
            1.6733702780891284e-21,
            100,
            124,
            0
           ],
           [
            0.9193548387096774,
            1.6790570008398702e-23,
            104,
            124,
            0
           ],
           [
            0.9029850746268657,
            4.0594773352756886e-23,
            108,
            134,
            0
           ],
           [
            0.9054054054054054,
            9.191926693634371e-26,
            120,
            148,
            0
           ],
           [
            0.9136690647482014,
            2.108124581703748e-25,
            115,
            139,
            0
           ]
          ],
          [
           [
            0.27631578947368424,
            0.0001206291159979032,
            -34,
            76,
            0.0001534864651312473
           ],
           [
            0.35,
            0.027340133868077935,
            -18,
            60,
            0.028185802147907335
           ],
           [
            0.38571428571428573,
            0.07223792719176257,
            -16,
            70,
            0.07299804543011579
           ],
           [
            0.4166666666666667,
            0.2450608330229457,
            -10,
            60,
            0.2452781168067728
           ],
           [
            0.4393939393939394,
            0.3890524605477928,
            -8,
            66,
            0.38888541180776515
           ],
           [
            0.4603174603174603,
            0.6146550157654618,
            -5,
            63,
            0.6142946646634825
           ],
           [
            0.4827586206896552,
            0.8956832138895906,
            -2,
            58,
            0.8955329031670437
           ],
           [
            0.4805194805194805,
            0.8198929037490488,
            -3,
            77,
            0.8197075378297882
           ],
           [
            0.4918032786885246,
            1,
            -1,
            61,
            1
           ],
           [
            "nan",
            1,
            0,
            0,
            1
           ],
           [
            0.5256410256410257,
            0.7343420330298466,
            4,
            78,
            0.7340951823194757
           ],
           [
            0.5223880597014925,
            0.8071946913670247,
            3,
            67,
            0.8069683671707382
           ],
           [
            0.5522388059701493,
            0.46381761789686937,
            7,
            67,
            0.4635482645312403
           ],
           [
            0.5806451612903226,
            0.25285439418811073,
            10,
            62,
            0.2530381164947547
           ],
           [
            0.64,
            0.02029840699010744,
            21,
            75,
            0.020921335337794056
           ],
           [
            0.6590909090909091,
            0.0037465093469812305,
            28,
            88,
            0.003999392249374956
           ],
           [
            0.6785714285714286,
            0.0014044946311139559,
            30,
            84,
            0.0015553158298389214
           ],
           [
            0.686046511627907,
            0.0007317100653124087,
            32,
            86,
            0.0008293287959082463
           ],
           [
            0.7021276595744681,
            0.00011112062020663294,
            38,
            94,
            0.0001354904977910465
           ],
           [
            0.7368421052631579,
            0.000004271012269463366,
            45,
            95,
            0.000006352481595084392
           ],
           [
            0.7835051546391752,
            1.7194329935998188e-8,
            55,
            97,
            4.184822177677461e-8
           ],
           [
            0.7669902912621359,
            4.980762968257179e-8,
            55,
            103,
            1.0332436806148593e-7
           ],
           [
            0.7964601769911505,
            1.4884906475803411e-10,
            67,
            113,
            5.34050803580044e-10
           ],
           [
            0.8240740740740741,
            5.13116239379527e-12,
            70,
            108,
            3.1468938566092675e-11
           ],
           [
            0.8348623853211009,
            6.366602155148437e-13,
            73,
            109,
            5.33562083404604e-12
           ],
           [
            0.808,
            1.9702912858306405e-12,
            77,
            125,
            1.06341602190696e-11
           ],
           [
            0.8434782608695652,
            2.792528455178105e-14,
            79,
            115,
            3.5016434196677437e-13
           ],
           [
            0.8461538461538461,
            9.723859231682611e-15,
            81,
            117,
            1.4033219031261979e-13
           ],
           [
            0.85,
            1.9758911914423336e-15,
            84,
            120,
            3.5416114485542494e-14
           ],
           [
            0.8666666666666667,
            5.723995795100052e-19,
            99,
            135,
            0
           ],
           [
            0.912,
            9.630639599627373e-23,
            103,
            125,
            0
           ],
           [
            0.8848920863309353,
            1.2448774653760878e-21,
            107,
            139,
            0
           ],
           [
            0.9219858156028369,
            5.754681923240256e-27,
            119,
            141,
            0
           ],
           [
            0.9130434782608695,
            3.855331674762765e-25,
            114,
            138,
            0
           ]
          ],
          [
           [
            0.28888888888888886,
            0.00007657072931048342,
            -38,
            90,
            0.00009613610778647086
           ],
           [
            0.328125,
            0.008146902228698568,
            -22,
            64,
            0.008664896726025106
           ],
           [
            0.35714285714285715,
            0.022462895492509273,
            -20,
            70,
            0.023150951985246304
           ],
           [
            0.3939393939393939,
            0.10885696440971612,
            -14,
            66,
            0.10955657678268615
           ],
           [
            0.4142857142857143,
            0.18821620302302766,
            -12,
            70,
            0.1885934421817631
           ],
           [
            0.44155844155844154,
            0.36203179773966154,
            -9,
            77,
            0.36193476692119253
           ],
           [
            0.45714285714285713,
            0.5504125118224712,
            -6,
            70,
            0.5500973172303969
           ],
           [
            0.4426229508196721,
            0.4426260049464714,
            -7,
            61,
            0.44235573329514033
           ],
           [
            0.4666666666666667,
            0.6444639138942256,
            -5,
            75,
            0.6441672226837103
           ],
           [
            0.47435897435897434,
            0.7343420330298466,
            -4,
            78,
            0.7340951823194757
           ],
           [
            "nan",
            1,
            0,
            0,
            1
           ],
           [
            0.4935064935064935,
            1,
            -1,
            77,
            1
           ],
           [
            0.5319148936170213,
            0.7708669945730263,
            3,
            47,
            0.7704930827944241
           ],
           [
            0.5384615384615384,
            0.5715867180030723,
            6,
            78,
            0.5712996214994485
           ],
           [
            0.6307692307692307,
            0.0463534743329112,
            17,
            65,
            0.04719391926101513
           ],
           [
            0.6621621621621622,
            0.007084252673880489,
            24,
            74,
            0.007502049219659579
           ],
           [
            0.6911764705882353,
            0.0021862431776861714,
            26,
            68,
            0.0024318453627428793
           ],
           [
            0.6555555555555556,
            0.0041651140158244435,
            28,
            90,
            0.004426525857919805
           ],
           [
            0.6666666666666666,
            0.000986536808184603,
            34,
            102,
            0.0010850689109981326
           ],
           [
            0.735632183908046,
            0.000012653512115621955,
            41,
            87,
            0.000017992417668311056
           ],
           [
            0.7865168539325843,
            4.957489567762136e-8,
            51,
            89,
            1.1580940417754704e-7
           ],
           [
            0.7256637168141593,
            0.0000017300043785001778,
            51,
            113,
            0.0000025560836984794832
           ],
           [
            0.8,
            4.157046960834439e-10,
            63,
            105,
            1.4432486317161874e-9
           ],
           [
            0.7894736842105263,
            3.5862160099959136e-10,
            66,
            114,
            1.1446718017893431e-9
           ],
           [
            0.8556701030927835,
            4.2224144708722095e-13,
            69,
            97,
            5.0431880893597736e-12
           ],
           [
            0.8476190476190476,
            1.87131274564586e-13,
            73,
            105,
            2.1180834863798736e-12
           ],
           [
            0.8504672897196262,
            6.449578410896073e-14,
            75,
            107,
            8.43769498715119e-13
           ],
           [
            0.8407079646017699,
            7.970114680452795e-14,
            77,
            113,
            8.710809851208978e-13
           ],
           [
            0.8636363636363636,
            2.141608136429023e-15,
            80,
            110,
            4.984901380566953e-14
           ],
           [
            0.8991596638655462,
            3.207808350413538e-20,
            95,
            119,
            0
           ],
           [
            0.8461538461538461,
            9.247508456613193e-18,
            99,
            143,
            2.220446049250313e-16
           ],
           [
            0.9186991869918699,
            3.0898216554634606e-23,
            103,
            123,
            0
           ],
           [
            0.9136690647482014,
            2.108124581703748e-25,
            115,
            139,
            0
           ],
           [
            0.9104477611940298,
            4.283133267277142e-24,
            110,
            134,
            0
           ]
          ],
          [
           [
            0.26582278481012656,
            0.00003761512780416609,
            -37,
            79,
            0.000051148417964497206
           ],
           [
            0.32786885245901637,
            0.009853448195259268,
            -21,
            61,
            0.01044502138496417
           ],
           [
            0.3698630136986301,
            0.034415913668175036,
            -19,
            73,
            0.035140066579092855
           ],
           [
            0.4235294117647059,
            0.19276043534155876,
            -13,
            85,
            0.19305906087643565
           ],
           [
            0.4266666666666667,
            0.24804574189252784,
            -11,
            75,
            0.24821307898992362
           ],
           [
            0.4411764705882353,
            0.39612484029702977,
            -8,
            68,
            0.3959510250893423
           ],
           [
            0.4666666666666667,
            0.6444639138942256,
            -5,
            75,
            0.6441672226837103
           ],
           [
            0.4625,
            0.5764306261883931,
            -6,
            80,
            0.5761501220305787
           ],
           [
            0.46875,
            0.7079807541347641,
            -4,
            64,
            0.7076604666545525
           ],
           [
            0.47761194029850745,
            0.8071946913670247,
            -3,
            67,
            0.8069683671707382
           ],
           [
            0.5064935064935064,
            1,
            1,
            77,
            1
           ],
           [
            "nan",
            1,
            0,
            0,
            1
           ],
           [
            0.5303030303030303,
            0.7122308826373509,
            4,
            66,
            0.71192315069219
           ],
           [
            0.5466666666666666,
            0.48868297090314317,
            7,
            75,
            0.4884223166225936
           ],
           [
            0.6046511627906976,
            0.06615259746138927,
            18,
            86,
            0.06677920499969492
           ],
           [
            0.6404494382022472,
            0.010546897231105523,
            25,
            89,
            0.010959268093534646
           ],
           [
            0.68,
            0.0024442284992149655,
            27,
            75,
            0.002680171728068448
           ],
           [
            0.6559139784946236,
            0.0034618534914423785,
            29,
            93,
            0.003690585198680707
           ],
           [
            0.6635514018691588,
            0.0009231579958033549,
            35,
            107,
            0.001012953367415026
           ],
           [
            0.6944444444444444,
            0.00006550370792480047,
            42,
            108,
            0.00007972447000903493
           ],
           [
            0.7549019607843137,
            2.4519113385990644e-7,
            52,
            102,
            4.423829176314342e-7
           ],
           [
            0.7653061224489796,
            1.3172242120654855e-7,
            52,
            98,
            2.5802840453170717e-7
           ],
           [
            0.7711864406779662,
            2.6899026850690616e-9,
            64,
            118,
            6.646532435539143e-9
           ],
           [
            0.7964601769911505,
            1.4884906475803411e-10,
            67,
            113,
            5.34050803580044e-10
           ],
           [
            0.8125,
            1.419861081655098e-11,
            70,
            112,
            7.036027316331683e-11
           ],
           [
            0.8245614035087719,
            1.1680094670975612e-12,
            74,
            114,
            8.082534641573602e-12
           ],
           [
            0.8275862068965517,
            4.248735618228405e-13,
            76,
            116,
            3.3174574198824303e-12
           ],
           [
            0.8545454545454545,
            1.2897655647164703e-14,
            78,
            110,
            2.1094237467877974e-13
           ],
           [
            0.8461538461538461,
            9.723859231682611e-15,
            81,
            117,
            1.4033219031261979e-13
           ],
           [
            0.8809523809523809,
            2.788349566618262e-19,
            96,
            126,
            0
           ],
           [
            0.9032258064516129,
            1.6733702780891284e-21,
            100,
            124,
            0
           ],
           [
            0.9193548387096774,
            1.6790570008398702e-23,
            104,
            124,
            0
           ],
           [
            0.9027777777777778,
            9.874919036815883e-25,
            116,
            144,
            0
           ],
           [
            0.9051094890510949,
            6.84026545842273e-24,
            111,
            137,
            0
           ]
          ],
          [
           [
            0.24691358024691357,
            0.000005656214894965935,
            -41,
            81,
            0.000008811927405205644
           ],
           [
            0.2807017543859649,
            0.001263559472435463,
            -25,
            57,
            0.0014784647972274634
           ],
           [
            0.3283582089552239,
            0.006741447363103123,
            -23,
            67,
            0.007194001885687196
           ],
           [
            0.36065573770491804,
            0.03961701489849968,
            -17,
            61,
            0.040502215582606804
           ],
           [
            0.3880597014925373,
            0.08643723427347082,
            -15,
            67,
            0.08719706449021136
           ],
           [
            0.4166666666666667,
            0.1945051658673991,
            -12,
            72,
            0.19485064860886947
           ],
           [
            0.4117647058823529,
            0.2624375357110438,
            -9,
            51,
            0.2626182904425206
           ],
           [
            0.41379310344827586,
            0.23704711476271959,
            -10,
            58,
            0.2373017786499998
           ],
           [
            0.4230769230769231,
            0.3317497633694906,
            -8,
            52,
            0.3316850680568626
           ],
           [
            0.44776119402985076,
            0.46381761789686937,
            -7,
            67,
            0.4635482645312403
           ],
           [
            0.46808510638297873,
            0.7708669945730263,
            -3,
            47,
            0.7704930827944241
           ],
           [
            0.4696969696969697,
            0.7122308826373509,
            -4,
            66,
            0.71192315069219
           ],
           [
            "nan",
            1,
            0,
            0,
            1
           ],
           [
            0.5217391304347826,
            0.8099490529189248,
            3,
            69,
            0.80973205979319
           ],
           [
            0.6029411764705882,
            0.11425430684992327,
            14,
            68,
            0.11491486452557431
           ],
           [
            0.6438356164383562,
            0.01861775143319464,
            21,
            73,
            0.019241289593884825
           ],
           [
            0.6825396825396826,
            0.005152397042092064,
            23,
            63,
            0.005575764332991229
           ],
           [
            0.6506024096385542,
            0.008036706377857002,
            25,
            83,
            0.008430046878470487
           ],
           [
            0.6703296703296703,
            0.0015165131944572209,
            31,
            91,
            0.0016616944579834758
           ],
           [
            0.7317073170731707,
            0.000032317126198897614,
            38,
            82,
            0.000043893718355558775
           ],
           [
            0.7790697674418605,
            1.9409574271727466e-7,
            48,
            86,
            4.0172117921066786e-7
           ],
           [
            0.7307692307692307,
            0.000002736780589985052,
            48,
            104,
            0.000004051376426561504
           ],
           [
            0.7830188679245284,
            3.787227599932374e-9,
            60,
            106,
            1.0008392226090734e-8
           ],
           [
            0.794392523364486,
            6.375481651166934e-10,
            63,
            107,
            2.050360548011554e-9
           ],
           [
            0.8173076923076923,
            3.7855174633264834e-11,
            66,
            104,
            1.8443180316296548e-10
           ],
           [
            0.8571428571428571,
            2.4575158375112673e-13,
            70,
            98,
            3.1682434453728092e-12
           ],
           [
            0.8214285714285714,
            3.1880856558543937e-12,
            72,
            112,
            1.961386608684279e-11
           ],
           [
            0.8425925925925926,
            2.0753689196043157e-13,
            74,
            108,
            2.149391775674303e-12
           ],
           [
            0.8532110091743119,
            2.2089187156338813e-14,
            77,
            109,
            3.3506530883187224e-13
           ],
           [
            0.896551724137931,
            1.8667049442323873e-19,
            92,
            116,
            0
           ],
           [
            0.9137931034482759,
            2.1638104132572854e-21,
            96,
            116,
            0
           ],
           [
            0.9032258064516129,
            1.6733702780891284e-21,
            100,
            124,
            0
           ],
           [
            0.9057971014492754,
            3.772426917098371e-24,
            112,
            138,
            0
           ],
           [
            0.9022556390977443,
            7.33836423851677e-23,
            107,
            133,
            0
           ]
          ],
          [
           [
            0.2608695652173913,
            0.000004935351419046992,
            -44,
            92,
            0.0000073580263503236765
           ],
           [
            0.26666666666666666,
            0.00039404324272610154,
            -28,
            60,
            0.0004908786448403202
           ],
           [
            0.2903225806451613,
            0.0012990027709550095,
            -26,
            62,
            0.001498348617996581
           ],
           [
            0.3484848484848485,
            0.01865726035402101,
            -20,
            66,
            0.019348980200336707
           ],
           [
            0.36764705882352944,
            0.038460053348927506,
            -18,
            68,
            0.03925033046769266
           ],
           [
            0.39436619718309857,
            0.09592363141082376,
            -15,
            71,
            0.09661420844785251
           ],
           [
            0.4,
            0.1550019040032606,
            -12,
            60,
            0.15558034779219365
           ],
           [
            0.4177215189873418,
            0.17661055306016424,
            -13,
            79,
            0.17698215046060206
           ],
           [
            0.4246575342465753,
            0.241644723140752,
            -11,
            73,
            0.24183542123691049
           ],
           [
            0.41935483870967744,
            0.25285439418811073,
            -10,
            62,
            0.2530381164947547
           ],
           [
            0.46153846153846156,
            0.5715867180030723,
            -6,
            78,
            0.5712996214994485
           ],
           [
            0.4533333333333333,
            0.48868297090314317,
            -7,
            75,
            0.4884223166225936
           ],
           [
            0.4782608695652174,
            0.8099490529189248,
            -3,
            69,
            0.80973205979319
           ],
           [
            "nan",
            1,
            0,
            0,
            1
           ],
           [
            0.5733333333333334,
            0.24804574189252784,
            11,
            75,
            0.24821307898992362
           ],
           [
            0.618421052631579,
            0.050452410247217666,
            18,
            76,
            0.05117209797510924
           ],
           [
            0.631578947368421,
            0.028626655508737896,
            20,
            76,
            0.029298294404550562
           ],
           [
            0.6309523809523809,
            0.021383189937144585,
            22,
            84,
            0.021946771003246823
           ],
           [
            0.648936170212766,
            0.00507843581282981,
            28,
            94,
            0.00535545771184176
           ],
           [
            0.6804123711340206,
            0.000490157948963301,
            35,
            97,
            0.0005560828940536222
           ],
           [
            0.7848101265822784,
            3.5883588815862885e-7,
            45,
            79,
            7.406614173088855e-7
           ],
           [
            0.7227722772277227,
            0.000008635781314660544,
            45,
            101,
            0.000011968347738977592
           ],
           [
            0.7714285714285715,
            2.0779877274240742e-8,
            57,
            105,
            4.6280136611898115e-8
           ],
           [
            0.8061224489795918,
            7.127385901074282e-10,
            60,
            98,
            2.523923181563248e-9
           ],
           [
            0.7837837837837838,
            1.4180922486418413e-9,
            63,
            111,
            3.98584842908889e-9
           ],
           [
            0.8018018018018018,
            9.633963090742948e-11,
            67,
            111,
            3.7416092446562743e-10
           ],
           [
            0.8108108108108109,
            2.3144662509616954e-11,
            69,
            111,
            1.0873868472316417e-10
           ],
           [
            0.8446601941747572,
            5.394032051902122e-13,
            71,
            103,
            5.29987165265311e-12
           ],
           [
            0.8490566037735849,
            1.0994809875335328e-13,
            74,
            106,
            1.3373746554634636e-12
           ],
           [
            0.8396946564885496,
            9.432004555623528e-16,
            89,
            131,
            1.4876988529977098e-14
           ],
           [
            0.918918918918919,
            4.2608701445754604e-21,
            93,
            111,
            0
           ],
           [
            0.875968992248062,
            3.6361201608796156e-19,
            97,
            129,
            0
           ],
           [
            0.8978102189781022,
            6.118483390473997e-23,
            109,
            137,
            0
           ],
           [
            0.9193548387096774,
            1.6790570008398702e-23,
            104,
            124,
            0
           ]
          ],
          [
           [
            0.2222222222222222,
            2.4928338709270455e-8,
            -55,
            99,
            5.724362428516372e-8
           ],
           [
            0.22535211267605634,
            0.000003753237688593051,
            -39,
            71,
            0.000006489785649321789
           ],
           [
            0.25333333333333335,
            0.000022429642158970264,
            -37,
            75,
            0.0000322564145623927
           ],
           [
            0.3037974683544304,
            0.0006393977673643526,
            -31,
            79,
            0.0007374499096730602
           ],
           [
            0.3013698630136986,
            0.0009142745821630902,
            -29,
            73,
            0.0010485985788697416
           ],
           [
            0.3194444444444444,
            0.002942760530124976,
            -26,
            72,
            0.0032162293101274386
           ],
           [
            0.3380281690140845,
            0.008554538502693429,
            -23,
            71,
            0.009029910762692439
           ],
           [
            0.3333333333333333,
            0.006309827313666047,
            -24,
            72,
            0.006716645502620966
           ],
           [
            0.36585365853658536,
            0.0198269158458416,
            -22,
            82,
            0.020391672237361158
           ],
           [
            0.36,
            0.02029840699010744,
            -21,
            75,
            0.020921335337794056
           ],
           [
            0.36923076923076925,
            0.0463534743329112,
            -17,
            65,
            0.04719391926101513
           ],
           [
            0.3953488372093023,
            0.06615259746138927,
            -18,
            86,
            0.06677920499969492
           ],
           [
            0.39705882352941174,
            0.11425430684992327,
            -14,
            68,
            0.11491486452557431
           ],
           [
            0.4266666666666667,
            0.24804574189252784,
            -11,
            75,
            0.24821307898992362
           ],
           [
            "nan",
            1,
            0,
            0,
            1
           ],
           [
            0.547945205479452,
            0.48278855684402133,
            7,
            73,
            0.48252521231388223
           ],
           [
            0.5584415584415584,
            0.36203179773966154,
            9,
            77,
            0.36193476692119253
           ],
           [
            0.5647058823529412,
            0.2779992890805517,
            11,
            85,
            0.278075686620885
           ],
           [
            0.5858585858585859,
            0.10735158653318887,
            17,
            99,
            0.1078219281599685
           ],
           [
            0.6621621621621622,
            0.007084252673880489,
            24,
            74,
            0.007502049219659579
           ],
           [
            0.6976744186046512,
            0.00031699928227764087,
            34,
            86,
            0.00037300503570447674
           ],
           [
            0.6888888888888889,
            0.0004379221966341338,
            34,
            90,
            0.0005042182294490161
           ],
           [
            0.75,
            0.000001670436795024911,
            46,
            92,
            0.0000027111075749930436
           ],
           [
            0.7130434782608696,
            0.000005571423208480338,
            49,
            115,
            0.00000760462677229512
           ],
           [
            0.7549019607843137,
            2.4519113385990644e-7,
            52,
            102,
            4.423829176314342e-7
           ],
           [
            0.8111111111111111,
            1.9482376627755696e-9,
            56,
            90,
            6.730715207403648e-9
           ],
           [
            0.79,
            4.3373666334216375e-9,
            58,
            100,
            1.1980742842254699e-8
           ],
           [
            0.8125,
            4.4469352439058753e-10,
            60,
            96,
            1.7263480645013374e-9
           ],
           [
            0.8315789473684211,
            3.4675436577962654e-11,
            63,
            95,
            2.0035861858502813e-10
           ],
           [
            0.875,
            1.4016007077149398e-15,
            78,
            104,
            4.340972026284362e-14
           ],
           [
            0.8059701492537313,
            4.479313635598752e-13,
            82,
            134,
            2.608802063264193e-12
           ],
           [
            0.8909090909090909,
            6.156273065927667e-18,
            86,
            110,
            5.551115123125783e-16
           ],
           [
            0.8402777777777778,
            2.923580700821239e-17,
            98,
            144,
            6.661338147750939e-16
           ],
           [
            0.8974358974358975,
            1.0387903364952914e-19,
            93,
            117,
            0
           ]
          ],
          [
           [
            0.1836734693877551,
            1.6606697571045604e-10,
            -62,
            98,
            7.186338191189634e-10
           ],
           [
            0.16176470588235295,
            1.2750032374450517e-8,
            -46,
            68,
            4.841058065530035e-8
           ],
           [
            0.25,
            0.0000028793907495367242,
            -44,
            88,
            0.000004565673459744346
           ],
           [
            0.27906976744186046,
            0.00005083654201844156,
            -38,
            86,
            0.00006612551641249631
           ],
           [
            0.29069767441860467,
            0.00013037942991199537,
            -36,
            86,
            0.00016055603247933092
           ],
           [
            0.30120481927710846,
            0.0003783427631607787,
            -33,
            83,
            0.00044398497897857325
           ],
           [
            0.3026315789473684,
            0.0007645817391550476,
            -30,
            76,
            0.000879351401835371
           ],
           [
            0.3258426966292135,
            0.0013352623656219375,
            -31,
            89,
            0.0014727828467661075
           ],
           [
            0.3253012048192771,
            0.0019314374822250477,
            -29,
            83,
            0.002116351150048157
           ],
           [
            0.3409090909090909,
            0.0037465093469812305,
            -28,
            88,
            0.003999392249374956
           ],
           [
            0.33783783783783783,
            0.007084252673880489,
            -24,
            74,
            0.007502049219659579
           ],
           [
            0.3595505617977528,
            0.010546897231105523,
            -25,
            89,
            0.010959268093534646
           ],
           [
            0.3561643835616438,
            0.01861775143319464,
            -21,
            73,
            0.019241289593884825
           ],
           [
            0.3815789473684211,
            0.050452410247217666,
            -18,
            76,
            0.05117209797510924
           ],
           [
            0.4520547945205479,
            0.48278855684402133,
            -7,
            73,
            0.48252521231388223
           ],
           [
            "nan",
            1,
            0,
            0,
            1
           ],
           [
            0.5128205128205128,
            0.9099464518745242,
            2,
            78,
            0.9098500327472845
           ],
           [
            0.5217391304347826,
            0.7546517496104984,
            4,
            92,
            0.7544541774940892
           ],
           [
            0.5462962962962963,
            0.3865726089882613,
            10,
            108,
            0.3864762307712325
           ],
           [
            0.6049382716049383,
            0.07478815428283364,
            17,
            81,
            0.0754403596268004
           ],
           [
            0.6551724137931034,
            0.005013598900146386,
            27,
            87,
            0.00531176689565338
           ],
           [
            0.6310679611650486,
            0.010063333265586338,
            27,
            103,
            0.01041144396288407
           ],
           [
            0.7052631578947368,
            0.00007804247056315925,
            39,
            95,
            0.00009670342062695347
           ],
           [
            0.7019230769230769,
            0.000046569869697466,
            42,
            104,
            0.00005810415079887665
           ],
           [
            0.7472527472527473,
            0.0000025221536534654515,
            45,
            91,
            0.0000039794400585879686
           ],
           [
            0.7752808988764045,
            1.7769640600713887e-7,
            49,
            89,
            3.618787830506065e-7
           ],
           [
            0.7865168539325843,
            4.957489567762136e-8,
            51,
            89,
            1.1580940417754704e-7
           ],
           [
            0.7476635514018691,
            2.87737462890791e-7,
            53,
            107,
            4.981351168220627e-7
           ],
           [
            0.7978723404255319,
            4.8181440754468005e-9,
            56,
            94,
            1.4046838026082753e-8
           ],
           [
            0.8256880733944955,
            3.098472966432261e-12,
            71,
            109,
            2.017042088908738e-11
           ],
           [
            0.8205128205128205,
            1.1987559175109566e-12,
            75,
            117,
            7.847611449562919e-12
           ],
           [
            0.8558558558558559,
            7.519631891796862e-15,
            79,
            111,
            1.326716514427062e-13
           ],
           [
            0.864,
            2.2210629525385693e-17,
            91,
            125,
            7.771561172376096e-16
           ],
           [
            0.8706896551724138,
            7.752808767891496e-17,
            86,
            116,
            2.9976021664879227e-15
           ]
          ],
          [
           [
            0.16666666666666666,
            2.0744109143956072e-11,
            -64,
            96,
            1.2767908952326934e-10
           ],
           [
            0.16666666666666666,
            8.055498526741105e-9,
            -48,
            72,
            3.0419822660832097e-8
           ],
           [
            0.1891891891891892,
            6.221761416347879e-8,
            -46,
            74,
            1.6846444461648957e-7
           ],
           [
            0.24358974358974358,
            0.00000641506390670917,
            -40,
            78,
            0.000010059968254427787
           ],
           [
            0.2361111111111111,
            0.00000814003082672391,
            -38,
            72,
            0.00001297704350999851
           ],
           [
            0.2463768115942029,
            0.000029304321745456655,
            -35,
            69,
            0.000042560914196188016
           ],
           [
            0.2647058823529412,
            0.00013083876154198454,
            -32,
            68,
            0.0001703879348371462
           ],
           [
            0.30120481927710846,
            0.0003783427631607787,
            -33,
            83,
            0.00044398497897857325
           ],
           [
            0.2753623188405797,
            0.00024439701657757496,
            -31,
            69,
            0.00030434234335940946
           ],
           [
            0.32142857142857145,
            0.0014044946311139559,
            -30,
            84,
            0.0015553158298389214
           ],
           [
            0.3088235294117647,
            0.0021862431776861714,
            -26,
            68,
            0.0024318453627428793
           ],
           [
            0.32,
            0.0024442284992149655,
            -27,
            75,
            0.002680171728068448
           ],
           [
            0.31746031746031744,
            0.005152397042092064,
            -23,
            63,
            0.005575764332991229
           ],
           [
            0.3684210526315789,
            0.028626655508737896,
            -20,
            76,
            0.029298294404550562
           ],
           [
            0.44155844155844154,
            0.36203179773966154,
            -9,
            77,
            0.36193476692119253
           ],
           [
            0.48717948717948717,
            0.9099464518745242,
            -2,
            78,
            0.9098500327472845
           ],
           [
            "nan",
            1,
            0,
            0,
            1
           ],
           [
            0.5116279069767442,
            0.9142116370824498,
            2,
            86,
            0.9141283452014198
           ],
           [
            0.5434782608695652,
            0.46570744577306195,
            8,
            92,
            0.46551216987418653
           ],
           [
            0.5789473684210527,
            0.1505180638902294,
            15,
            95,
            0.15089717233442645
           ],
           [
            0.6404494382022472,
            0.010546897231105523,
            25,
            89,
            0.010959268093534646
           ],
           [
            0.631578947368421,
            0.013378703026003939,
            25,
            95,
            0.0138030648623656
           ],
           [
            0.7126436781609196,
            0.0000906079859652185,
            37,
            87,
            0.00011357039293058424
           ],
           [
            0.7083333333333334,
            0.00005459154357711447,
            40,
            96,
            0.00006879337319387613
           ],
           [
            0.7311827956989247,
            0.000009375635307717017,
            43,
            93,
            0.000013294722762569045
           ],
           [
            0.7422680412371134,
            0.0000019187392502875328,
            47,
            97,
            0.00000300332409342019
           ],
           [
            0.7333333333333333,
            0.0000018534768352189496,
            49,
            105,
            0.0000028089040436940493
           ],
           [
            0.7339449541284404,
            0.000001080908243358372,
            51,
            109,
            0.0000016750475317905966
           ],
           [
            0.7647058823529411,
            7.679430153026993e-8,
            54,
            102,
            1.5394132146795414e-7
           ],
           [
            0.8108108108108109,
            2.3144662509616954e-11,
            69,
            111,
            1.0873868472316417e-10
           ],
           [
            0.8016528925619835,
            1.3442945758766515e-11,
            73,
            121,
            5.931466429132115e-11
           ],
           [
            0.8407079646017699,
            7.970114680452795e-14,
            77,
            113,
            8.710809851208978e-13
           ],
           [
            0.8739495798319328,
            1.450249679735154e-17,
            89,
            119,
            6.661338147750939e-16
           ],
           [
            0.8818181818181818,
            4.700941065418037e-17,
            84,
            110,
            2.4424906541753444e-15
           ]
          ],
          [
           [
            0.16326530612244897,
            7.380354309112728e-12,
            -66,
            98,
            5.168776517905371e-11
           ],
           [
            0.2222222222222222,
            1.1363565084238009e-7,
            -50,
            90,
            2.403701460096386e-7
           ],
           [
            0.2391304347826087,
            5.348143171041871e-7,
            -48,
            92,
            9.579338275944593e-7
           ],
           [
            0.26666666666666666,
            0.000010902049191089246,
            -42,
            90,
            0.000015477584790146715
           ],
           [
            0.2727272727272727,
            0.000023726590787439646,
            -40,
            88,
            0.00003218704260965488
           ],
           [
            0.29213483146067415,
            0.00010992624937112814,
            -37,
            89,
            0.00013563669654459432
           ],
           [
            0.27631578947368424,
            0.0001206291159979032,
            -34,
            76,
            0.0001534864651312473
           ],
           [
            0.30337078651685395,
            0.00026558534298746995,
            -35,
            89,
            0.0003133657498484155
           ],
           [
            0.3146067415730337,
            0.0006102590502807983,
            -33,
            89,
            0.0006938615813185667
           ],
           [
            0.313953488372093,
            0.0007317100653124087,
            -32,
            86,
            0.0008293287959082463
           ],
           [
            0.34444444444444444,
            0.0041651140158244435,
            -28,
            90,
            0.004426525857919805
           ],
           [
            0.34408602150537637,
            0.0034618534914423785,
            -29,
            93,
            0.003690585198680707
           ],
           [
            0.3493975903614458,
            0.008036706377857002,
            -25,
            83,
            0.008430046878470487
           ],
           [
            0.36904761904761907,
            0.021383189937144585,
            -22,
            84,
            0.021946771003246823
           ],
           [
            0.43529411764705883,
            0.2779992890805517,
            -11,
            85,
            0.278075686620885
           ],
           [
            0.4782608695652174,
            0.7546517496104984,
            -4,
            92,
            0.7544541774940892
           ],
           [
            0.4883720930232558,
            0.9142116370824498,
            -2,
            86,
            0.9141283452014198
           ],
           [
            "nan",
            1,
            0,
            0,
            1
           ],
           [
            0.53125,
            0.610068266105178,
            6,
            96,
            0.6098340436734595
           ],
           [
            0.5631067961165048,
            0.23690187778029279,
            13,
            103,
            0.2370489531527742
           ],
           [
            0.6185567010309279,
            0.02499073659259804,
            23,
            97,
            0.025498765843179783
           ],
           [
            0.6095238095238096,
            0.03130178457554002,
            23,
            105,
            0.03179486110380603
           ],
           [
            0.6576576576576577,
            0.0011510187915276821,
            35,
            111,
            0.0012503549718007045
           ],
           [
            0.6792452830188679,
            0.00028452861891625184,
            38,
            106,
            0.0003259429757349608
           ],
           [
            0.6952380952380952,
            0.00007808423662658282,
            41,
            105,
            0.00009477225139786771
           ],
           [
            0.7064220183486238,
            0.00001938048409366411,
            45,
            109,
            0.000025040352692795587
           ],
           [
            0.7043478260869566,
            0.000013800344917800584,
            47,
            115,
            0.000017905798157413777
           ],
           [
            0.7130434782608696,
            0.000005571423208480338,
            49,
            115,
            0.00000760462677229512
           ],
           [
            0.7363636363636363,
            7.293567965336598e-7,
            52,
            110,
            0.0000011581915660974218
           ],
           [
            0.7637795275590551,
            1.984553317143075e-9,
            67,
            127,
            4.725729252363919e-9
           ],
           [
            0.8034188034188035,
            2.2313814815989472e-11,
            71,
            117,
            9.703327030763376e-11
           ],
           [
            0.7906976744186046,
            1.8819747521132473e-11,
            75,
            129,
            7.252676237357036e-11
           ],
           [
            0.8175182481751825,
            2.403640054084458e-14,
            87,
            137,
            2.0194956817931597e-13
           ],
           [
            0.8059701492537313,
            4.479313635598752e-13,
            82,
            134,
            2.608802063264193e-12
           ]
          ],
          [
           [
            0.16037735849056603,
            5.912079008704511e-13,
            -72,
            106,
            5.343836484428266e-12
           ],
           [
            0.23076923076923078,
            3.221505246540145e-8,
            -56,
            104,
            6.921626105604872e-8
           ],
           [
            0.23,
            5.513580775850052e-8,
            -54,
            100,
            1.1580268077793221e-7
           ],
           [
            0.25,
            9.69923242552742e-7,
            -48,
            96,
            0.000001611259937583931
           ],
           [
            0.2261904761904762,
            4.748492975346606e-7,
            -46,
            84,
            9.112167294045292e-7
           ],
           [
            0.25287356321839083,
            0.000004348703111758687,
            -43,
            87,
            0.000006704106102373153
           ],
           [
            0.2727272727272727,
            0.000023726590787439646,
            -40,
            88,
            0.00003218704260965488
           ],
           [
            0.28865979381443296,
            0.00003803794805755345,
            -41,
            97,
            0.00004878251767115316
           ],
           [
            0.27586206896551724,
            0.000034799669459257334,
            -39,
            87,
            0.00004620699551383112
           ],
           [
            0.2978723404255319,
            0.00011112062020663294,
            -38,
            94,
            0.0001354904977910465
           ],
           [
            0.3333333333333333,
            0.000986536808184603,
            -34,
            102,
            0.0010850689109981326
           ],
           [
            0.3364485981308411,
            0.0009231579958033549,
            -35,
            107,
            0.001012953367415026
           ],
           [
            0.32967032967032966,
            0.0015165131944572209,
            -31,
            91,
            0.0016616944579834758
           ],
           [
            0.35106382978723405,
            0.00507843581282981,
            -28,
            94,
            0.00535545771184176
           ],
           [
            0.41414141414141414,
            0.10735158653318887,
            -17,
            99,
            0.1078219281599685
           ],
           [
            0.4537037037037037,
            0.3865726089882613,
            -10,
            108,
            0.3864762307712325
           ],
           [
            0.45652173913043476,
            0.46570744577306195,
            -8,
            92,
            0.46551216987418653
           ],
           [
            0.46875,
            0.610068266105178,
            -6,
            96,
            0.6098340436734595
           ],
           [
            "nan",
            1,
            0,
            0,
            1
           ],
           [
            0.5346534653465347,
            0.5507089135982715,
            7,
            101,
            0.550492482749823
           ],
           [
            0.5825242718446602,
            0.11446824201255822,
            17,
            103,
            0.11490443706556042
           ],
           [
            0.5739130434782609,
            0.1353504098348154,
            17,
            115,
            0.13569712855072358
           ],
           [
            0.6260869565217392,
            0.00873510868433317,
            29,
            115,
            0.00902743397923611
           ],
           [
            0.6538461538461539,
            0.0022094328919877613,
            32,
            104,
            0.0023673522414633386
           ],
           [
            0.6521739130434783,
            0.001412957498607674,
            35,
            115,
            0.0015216827001912625
           ],
           [
            0.672566371681416,
            0.00030960246353573076,
            39,
            113,
            0.0003505770414741205
           ],
           [
            0.6589147286821705,
            0.00038715513395483516,
            41,
            129,
            0.00042862152099487627
           ],
           [
            0.6837606837606838,
            0.00008717436729426461,
            43,
            117,
            0.00010321744149510703
           ],
           [
            0.7017543859649122,
            0.000019596368034800084,
            46,
            114,
            0.00002501811902921869
           ],
           [
            0.7479674796747967,
            3.3173529174399884e-8,
            61,
            123,
            6.3018482210353e-8
           ],
           [
            0.76,
            4.659978428792858e-9,
            65,
            125,
            1.0384026971621552e-8
           ],
           [
            0.7633587786259542,
            1.1612274833072096e-9,
            69,
            131,
            2.8296458509657896e-9
           ],
           [
            0.7956204379562044,
            1.7449187258294395e-12,
            81,
            137,
            8.208433932566095e-12
           ],
           [
            0.7714285714285715,
            7.793986201015429e-11,
            76,
            140,
            2.3177670893659297e-10
           ]
          ],
          [
           [
            0.1504424778761062,
            1.4727515742257347e-14,
            -79,
            113,
            2.1738166822160565e-13
           ],
           [
            0.17525773195876287,
            6.007962189879819e-11,
            -63,
            97,
            3.071102261387182e-10
           ],
           [
            0.20388349514563106,
            1.0696750216702928e-9,
            -61,
            103,
            3.3802848298236654e-9
           ],
           [
            0.21649484536082475,
            1.7194329935998188e-8,
            -55,
            97,
            4.184822177677461e-8
           ],
           [
            0.20224719101123595,
            1.2968749869187788e-8,
            -53,
            89,
            3.5480114846109245e-8
           ],
           [
            0.2222222222222222,
            1.1363565084238009e-7,
            -50,
            90,
            2.403701460096386e-7
           ],
           [
            0.24731182795698925,
            0.0000011026255560645484,
            -47,
            93,
            0.0000018424622734158902
           ],
           [
            0.25510204081632654,
            0.0000012796062450772919,
            -48,
            98,
            0.000002057256577203681
           ],
           [
            0.27884615384615385,
            0.000007366510614966003,
            -46,
            104,
            0.000010213043956541767
           ],
           [
            0.2631578947368421,
            0.000004271012269463366,
            -45,
            95,
            0.000006352481595084392
           ],
           [
            0.26436781609195403,
            0.000012653512115621955,
            -41,
            87,
            0.000017992417668311056
           ],
           [
            0.3055555555555556,
            0.00006550370792480047,
            -42,
            108,
            0.00007972447000903493
           ],
           [
            0.2682926829268293,
            0.000032317126198897614,
            -38,
            82,
            0.000043893718355558775
           ],
           [
            0.31958762886597936,
            0.000490157948963301,
            -35,
            97,
            0.0005560828940536222
           ],
           [
            0.33783783783783783,
            0.007084252673880489,
            -24,
            74,
            0.007502049219659579
           ],
           [
            0.3950617283950617,
            0.07478815428283364,
            -17,
            81,
            0.0754403596268004
           ],
           [
            0.42105263157894735,
            0.1505180638902294,
            -15,
            95,
            0.15089717233442645
           ],
           [
            0.4368932038834951,
            0.23690187778029279,
            -13,
            103,
            0.2370489531527742
           ],
           [
            0.46534653465346537,
            0.5507089135982715,
            -7,
            101,
            0.550492482749823
           ],
           [
            "nan",
            1,
            0,
            0,
            1
           ],
           [
            0.5543478260869565,
            0.3481412903192059,
            10,
            92,
            0.3480826236329241
           ],
           [
            0.5490196078431373,
            0.3729436680836294,
            10,
            102,
            0.37285793639518305
           ],
           [
            0.6341463414634146,
            0.0198269158458416,
            22,
            82,
            0.020391672237361158
           ],
           [
            0.6086956521739131,
            0.024793536339643575,
            25,
            115,
            0.025220302605390765
           ],
           [
            0.648936170212766,
            0.00507843581282981,
            28,
            94,
            0.00535545771184176
           ],
           [
            0.6666666666666666,
            0.001424496094649118,
            32,
            96,
            0.0015565730248836562
           ],
           [
            0.6888888888888889,
            0.0004379221966341338,
            34,
            90,
            0.0005042182294490161
           ],
           [
            0.6764705882352942,
            0.00046860434916208907,
            36,
            102,
            0.000529214248540133
           ],
           [
            0.7191011235955056,
            0.00004321520924983878,
            39,
            89,
            0.00005625527075858727
           ],
           [
            0.78125,
            2.7069291882474876e-8,
            54,
            96,
            6.327515134074702e-8
           ],
           [
            0.7301587301587301,
            2.364920722052491e-7,
            58,
            126,
            3.8150176728812824e-7
           ],
           [
            0.7924528301886793,
            1.0168289347541834e-9,
            62,
            106,
            3.125944503246103e-9
           ],
           [
            0.8032786885245902,
            8.341401161083558e-12,
            74,
            122,
            3.8663849899478464e-11
           ],
           [
            0.8165137614678899,
            1.4176630345560641e-11,
            69,
            109,
            7.355727138502743e-11
           ]
          ],
          [
           [
            0.12605042016806722,
            1.450249679735154e-17,
            -89,
            119,
            6.661338147750939e-16
           ],
           [
            0.14563106796116504,
            9.654706383228215e-14,
            -73,
            103,
            1.2994050280212832e-12
           ],
           [
            0.12631578947368421,
            3.211393990185144e-14,
            -71,
            95,
            6.877831637552845e-13
           ],
           [
            0.1717171717171717,
            2.1806410800143945e-11,
            -65,
            99,
            1.2573531105175562e-10
           ],
           [
            0.14606741573033707,
            5.446803038068455e-12,
            -63,
            89,
            4.96482854828173e-11
           ],
           [
            0.19387755102040816,
            7.127385901074282e-10,
            -60,
            98,
            2.523923181563248e-9
           ],
           [
            0.18681318681318682,
            1.1934080595966506e-9,
            -57,
            91,
            4.347578297370092e-9
           ],
           [
            0.21,
            4.3373666334216375e-9,
            -58,
            100,
            1.1980742842254699e-8
           ],
           [
            0.20833333333333334,
            7.319367989521492e-9,
            -56,
            96,
            1.983732222932133e-8
           ],
           [
            0.21649484536082475,
            1.7194329935998188e-8,
            -55,
            97,
            4.184822177677461e-8
           ],
           [
            0.21348314606741572,
            4.957489567762136e-8,
            -51,
            89,
            1.1580940417754704e-7
           ],
           [
            0.24509803921568626,
            2.4519113385990644e-7,
            -52,
            102,
            4.423829176314342e-7
           ],
           [
            0.22093023255813954,
            1.9409574271727466e-7,
            -48,
            86,
            4.0172117921066786e-7
           ],
           [
            0.21518987341772153,
            3.5883588815862885e-7,
            -45,
            79,
            7.406614173088855e-7
           ],
           [
            0.3023255813953488,
            0.00031699928227764087,
            -34,
            86,
            0.00037300503570447674
           ],
           [
            0.3448275862068966,
            0.005013598900146386,
            -27,
            87,
            0.00531176689565338
           ],
           [
            0.3595505617977528,
            0.010546897231105523,
            -25,
            89,
            0.010959268093534646
           ],
           [
            0.38144329896907214,
            0.02499073659259804,
            -23,
            97,
            0.025498765843179783
           ],
           [
            0.4174757281553398,
            0.11446824201255822,
            -17,
            103,
            0.11490443706556042
           ],
           [
            0.44565217391304346,
            0.3481412903192059,
            -10,
            92,
            0.3480826236329241
           ],
           [
            "nan",
            1,
            0,
            0,
            1
           ],
           [
            0.5,
            1,
            0,
            108,
            0.9233418401809065
           ],
           [
            0.573170731707317,
            0.22424452830608183,
            12,
            82,
            0.22446268200786768
           ],
           [
            0.5757575757575758,
            0.15906965188123823,
            15,
            99,
            0.15941169079839512
           ],
           [
            0.6046511627906976,
            0.06615259746138927,
            18,
            86,
            0.06677920499969492
           ],
           [
            0.627906976744186,
            0.02298259190715704,
            22,
            86,
            0.02354410241255278
           ],
           [
            0.6428571428571429,
            0.011634454119925825,
            24,
            84,
            0.012090025148399741
           ],
           [
            0.6805555555555556,
            0.002942760530124976,
            26,
            72,
            0.0032162293101274386
           ],
           [
            0.704225352112676,
            0.0007667649897412908,
            29,
            71,
            0.0008905854024855442
           ],
           [
            0.75,
            0.0000028793907495367242,
            44,
            88,
            0.000004565673459744346
           ],
           [
            0.7264150943396226,
            0.0000034525612188472383,
            48,
            106,
            0.0000049939065063231425
           ],
           [
            0.7954545454545454,
            2.0783545041774735e-8,
            52,
            88,
            5.4301301122272605e-8
           ],
           [
            0.7711864406779662,
            2.6899026850690616e-9,
            64,
            118,
            6.646532435539143e-9
           ],
           [
            0.8105263157894737,
            7.252322160518573e-10,
            59,
            95,
            2.6703979028042113e-9
           ]
          ],
          [
           [
            0.1322314049586777,
            3.162946279828288e-17,
            -89,
            121,
            1.2212453270876722e-15
           ],
           [
            0.1588785046728972,
            3.5057799981190235e-13,
            -73,
            107,
            3.390621117205228e-12
           ],
           [
            0.1619047619047619,
            9.952845271763166e-13,
            -71,
            105,
            8.414824392843911e-12
           ],
           [
            0.19626168224299065,
            1.6010060804361699e-10,
            -65,
            107,
            6.127583995763075e-10
           ],
           [
            0.16129032258064516,
            1.9393097995260696e-11,
            -63,
            93,
            1.2836121054959904e-10
           ],
           [
            0.20588235294117646,
            1.709865174269227e-9,
            -60,
            102,
            5.161792548946664e-9
           ],
           [
            0.21212121212121213,
            6.88231823830183e-9,
            -57,
            99,
            1.8208745844461305e-8
           ],
           [
            0.23636363636363636,
            2.6140393458029345e-8,
            -58,
            110,
            5.487738741205561e-8
           ],
           [
            0.2358490566037736,
            4.4793745175678225e-8,
            -56,
            106,
            9.189001737297531e-8
           ],
           [
            0.23300970873786409,
            4.980762968257179e-8,
            -55,
            103,
            1.0332436806148593e-7
           ],
           [
            0.2743362831858407,
            0.0000017300043785001778,
            -51,
            113,
            0.0000025560836984794832
           ],
           [
            0.23469387755102042,
            1.3172242120654855e-7,
            -52,
            98,
            2.5802840453170717e-7
           ],
           [
            0.2692307692307692,
            0.000002736780589985052,
            -48,
            104,
            0.000004051376426561504
           ],
           [
            0.27722772277227725,
            0.000008635781314660544,
            -45,
            101,
            0.000011968347738977592
           ],
           [
            0.3111111111111111,
            0.0004379221966341338,
            -34,
            90,
            0.0005042182294490161
           ],
           [
            0.36893203883495146,
            0.010063333265586338,
            -27,
            103,
            0.01041144396288407
           ],
           [
            0.3684210526315789,
            0.013378703026003939,
            -25,
            95,
            0.0138030648623656
           ],
           [
            0.3904761904761905,
            0.03130178457554002,
            -23,
            105,
            0.03179486110380603
           ],
           [
            0.4260869565217391,
            0.1353504098348154,
            -17,
            115,
            0.13569712855072358
           ],
           [
            0.45098039215686275,
            0.3729436680836294,
            -10,
            102,
            0.37285793639518305
           ],
           [
            0.5,
            1,
            0,
            108,
            0.9233418401809065
           ],
           [
            "nan",
            1,
            0,
            0,
            1
           ],
           [
            0.5555555555555556,
            0.2897982154050616,
            12,
            108,
            0.289838717607508
           ],
           [
            0.5641025641025641,
            0.19534905940457784,
            15,
            117,
            0.1955616583996035
           ],
           [
            0.5882352941176471,
            0.09183767826908278,
            18,
            102,
            0.09232654595631029
           ],
           [
            0.6,
            0.04476209415697338,
            22,
            110,
            0.04525554618596206
           ],
           [
            0.6071428571428571,
            0.029302222971632798,
            24,
            112,
            0.029758067435199154
           ],
           [
            0.6101694915254238,
            0.02097002953003506,
            26,
            118,
            0.021366968260868258
           ],
           [
            0.6306306306306306,
            0.0075848117754316186,
            29,
            111,
            0.007868934200841227
           ],
           [
            0.6833333333333333,
            0.00007291502428713535,
            44,
            120,
            0.00008660552398787047
           ],
           [
            0.7068965517241379,
            0.000009685884063140466,
            48,
            116,
            0.00001277988023229426
           ],
           [
            0.7131147540983607,
            0.0000027878838112871152,
            52,
            122,
            0.000003887218965270556
           ],
           [
            0.7461538461538462,
            1.69872442575104e-8,
            64,
            130,
            3.286131100566081e-8
           ],
           [
            0.736,
            1.2560405612579237e-7,
            59,
            125,
            2.1293269891753397e-7
           ]
          ],
          [
           [
            0.1259259259259259,
            8.634558219080549e-20,
            -101,
            135,
            0
           ],
           [
            0.102803738317757,
            4.300826607582504e-18,
            -85,
            107,
            4.440892098500626e-16
           ],
           [
            0.13274336283185842,
            4.098728148755534e-16,
            -83,
            113,
            1.2212453270876722e-14
           ],
           [
            0.14678899082568808,
            2.2089187156338813e-14,
            -77,
            109,
            3.3506530883187224e-13
           ],
           [
            0.16216216216216217,
            2.2601502838438826e-13,
            -75,
            111,
            2.1596058275008545e-12
           ],
           [
            0.16666666666666666,
            1.0657835390692565e-12,
            -72,
            108,
            8.375189430864793e-12
           ],
           [
            0.1834862385321101,
            1.4176630345560641e-11,
            -69,
            109,
            7.355727138502743e-11
           ],
           [
            0.2033898305084746,
            5.560432964003839e-11,
            -70,
            118,
            2.125818410192437e-10
           ],
           [
            0.20689655172413793,
            1.4181822700488308e-10,
            -68,
            116,
            4.946457687893258e-10
           ],
           [
            0.20353982300884957,
            1.4884906475803411e-10,
            -67,
            113,
            5.34050803580044e-10
           ],
           [
            0.2,
            4.157046960834439e-10,
            -63,
            105,
            1.4432486317161874e-9
           ],
           [
            0.2288135593220339,
            2.6899026850690616e-9,
            -64,
            118,
            6.646532435539143e-9
           ],
           [
            0.2169811320754717,
            3.787227599932374e-9,
            -60,
            106,
            1.0008392226090734e-8
           ],
           [
            0.22857142857142856,
            2.0779877274240742e-8,
            -57,
            105,
            4.6280136611898115e-8
           ],
           [
            0.25,
            0.000001670436795024911,
            -46,
            92,
            0.0000027111075749930436
           ],
           [
            0.29473684210526313,
            0.00007804247056315925,
            -39,
            95,
            0.00009670342062695347
           ],
           [
            0.28735632183908044,
            0.0000906079859652185,
            -37,
            87,
            0.00011357039293058424
           ],
           [
            0.34234234234234234,
            0.0011510187915276821,
            -35,
            111,
            0.0012503549718007045
           ],
           [
            0.3739130434782609,
            0.00873510868433317,
            -29,
            115,
            0.00902743397923611
           ],
           [
            0.36585365853658536,
            0.0198269158458416,
            -22,
            82,
            0.020391672237361158
           ],
           [
            0.4268292682926829,
            0.22424452830608183,
            -12,
            82,
            0.22446268200786768
           ],
           [
            0.4444444444444444,
            0.2897982154050616,
            -12,
            108,
            0.289838717607508
           ],
           [
            "nan",
            1,
            0,
            0,
            1
           ],
           [
            0.5128205128205128,
            0.8534084458955624,
            3,
            117,
            0.8533074196871153
           ],
           [
            0.5333333333333333,
            0.5984117182335192,
            6,
            90,
            0.5981614526835279
           ],
           [
            0.5595238095238095,
            0.3261341711919829,
            10,
            84,
            0.32610945202048924
           ],
           [
            0.5681818181818182,
            0.2407931245390016,
            12,
            88,
            0.24095466870157023
           ],
           [
            0.5833333333333334,
            0.15565646371399705,
            14,
            84,
            0.15606926343163963
           ],
           [
            0.6197183098591549,
            0.05681467793283902,
            17,
            71,
            0.057584115072876085
           ],
           [
            0.686046511627907,
            0.0007317100653124087,
            32,
            86,
            0.0008293287959082463
           ],
           [
            0.6451612903225806,
            0.0015647340261696686,
            36,
            124,
            0.001671728396484773
           ],
           [
            0.717391304347826,
            0.000036700459237994134,
            40,
            92,
            0.00004782056236174448
           ],
           [
            0.7321428571428571,
            9.322584031886636e-7,
            52,
            112,
            0.0000014424555103698111
           ],
           [
            0.7831325301204819,
            2.1054542433593656e-7,
            47,
            83,
            4.437663474465836e-7
           ]
          ],
          [
           [
            0.1,
            4.31422564584497e-22,
            -104,
            130,
            0
           ],
           [
            0.13934426229508196,
            1.1474562133221443e-16,
            -88,
            122,
            3.3306690738754696e-15
           ],
           [
            0.10185185185185185,
            2.391242454166262e-18,
            -86,
            108,
            3.3306690738754696e-16
           ],
           [
            0.16101694915254236,
            3.055970137442688e-14,
            -80,
            118,
            3.5282887722587475e-13
           ],
           [
            0.15789473684210525,
            4.721433127339268e-14,
            -78,
            114,
            5.525579993559404e-13
           ],
           [
            0.16216216216216217,
            2.2601502838438826e-13,
            -75,
            111,
            2.1596058275008545e-12
           ],
           [
            0.17857142857142858,
            3.1880856558543937e-12,
            -72,
            112,
            1.961386608684279e-11
           ],
           [
            0.2032520325203252,
            2.0789169979429998e-11,
            -73,
            123,
            8.469225321050544e-11
           ],
           [
            0.1743119266055046,
            3.098472966432261e-12,
            -71,
            109,
            2.017042088908738e-11
           ],
           [
            0.17592592592592593,
            5.13116239379527e-12,
            -70,
            108,
            3.1468938566092675e-11
           ],
           [
            0.21052631578947367,
            3.5862160099959136e-10,
            -66,
            114,
            1.1446718017893431e-9
           ],
           [
            0.20353982300884957,
            1.4884906475803411e-10,
            -67,
            113,
            5.34050803580044e-10
           ],
           [
            0.205607476635514,
            6.375481651166934e-10,
            -63,
            107,
            2.050360548011554e-9
           ],
           [
            0.19387755102040816,
            7.127385901074282e-10,
            -60,
            98,
            2.523923181563248e-9
           ],
           [
            0.28695652173913044,
            0.000005571423208480338,
            -49,
            115,
            0.00000760462677229512
           ],
           [
            0.2980769230769231,
            0.000046569869697466,
            -42,
            104,
            0.00005810415079887665
           ],
           [
            0.2916666666666667,
            0.00005459154357711447,
            -40,
            96,
            0.00006879337319387613
           ],
           [
            0.32075471698113206,
            0.00028452861891625184,
            -38,
            106,
            0.0003259429757349608
           ],
           [
            0.34615384615384615,
            0.0022094328919877613,
            -32,
            104,
            0.0023673522414633386
           ],
           [
            0.391304347826087,
            0.024793536339643575,
            -25,
            115,
            0.025220302605390765
           ],
           [
            0.42424242424242425,
            0.15906965188123823,
            -15,
            99,
            0.15941169079839512
           ],
           [
            0.4358974358974359,
            0.19534905940457784,
            -15,
            117,
            0.1955616583996035
           ],
           [
            0.48717948717948717,
            0.8534084458955624,
            -3,
            117,
            0.8533074196871153
           ],
           [
            "nan",
            1,
            0,
            0,
            1
           ],
           [
            0.5142857142857142,
            0.8453703188825517,
            3,
            105,
            0.8452520242196513
           ],
           [
            0.5309734513274337,
            0.5726564757939484,
            7,
            113,
            0.5724598115575816
           ],
           [
            0.5420560747663551,
            0.43944010177908255,
            9,
            107,
            0.4392920848474955
           ],
           [
            0.5486725663716814,
            0.34689310509533516,
            11,
            113,
            0.34684792186514724
           ],
           [
            0.5777777777777777,
            0.17024239504607366,
            14,
            90,
            0.17058693287144122
           ],
           [
            0.6464646464646465,
            0.004640654088434308,
            29,
            99,
            0.004891311452359326
           ],
           [
            0.6571428571428571,
            0.0016590268898995495,
            33,
            105,
            0.0017909060837688617
           ],
           [
            0.6761904761904762,
            0.00039070001552236726,
            37,
            105,
            0.00044267698634337105
           ],
           [
            0.7094017094017094,
            0.000006775655653746717,
            49,
            117,
            0.000009096680073095165
           ],
           [
            0.6929824561403509,
            0.00004609247371251201,
            44,
            114,
            0.00005641646937404321
           ]
          ],
          [
           [
            0.0916030534351145,
            2.587003859247397e-23,
            -107,
            131,
            0
           ],
           [
            0.12396694214876033,
            4.715659082533631e-18,
            -91,
            121,
            3.3306690738754696e-16
           ],
           [
            0.10619469026548672,
            1.0769168220004768e-18,
            -89,
            113,
            1.1102230246251565e-16
           ],
           [
            0.0970873786407767,
            5.198609903817759e-18,
            -83,
            103,
            6.661338147750939e-16
           ],
           [
            0.09900990099009901,
            1.6977475366916752e-17,
            -81,
            101,
            1.6653345369377348e-15
           ],
           [
            0.15178571428571427,
            2.507729768138009e-14,
            -78,
            112,
            3.4428015993626104e-13
           ],
           [
            0.168141592920354,
            4.045693021158809e-13,
            -75,
            113,
            3.3706371027619753e-12
           ],
           [
            0.15454545454545454,
            7.237227129476198e-14,
            -76,
            110,
            8.61644089411584e-13
           ],
           [
            0.17543859649122806,
            1.1680094670975612e-12,
            -74,
            114,
            8.082534641573602e-12
           ],
           [
            0.1651376146788991,
            6.366602155148437e-13,
            -73,
            109,
            5.33562083404604e-12
           ],
           [
            0.14432989690721648,
            4.2224144708722095e-13,
            -69,
            97,
            5.0431880893597736e-12
           ],
           [
            0.1875,
            1.419861081655098e-11,
            -70,
            112,
            7.036027316331683e-11
           ],
           [
            0.18269230769230768,
            3.7855174633264834e-11,
            -66,
            104,
            1.8443180316296548e-10
           ],
           [
            0.21621621621621623,
            1.4180922486418413e-9,
            -63,
            111,
            3.98584842908889e-9
           ],
           [
            0.24509803921568626,
            2.4519113385990644e-7,
            -52,
            102,
            4.423829176314342e-7
           ],
           [
            0.25274725274725274,
            0.0000025221536534654515,
            -45,
            91,
            0.0000039794400585879686
           ],
           [
            0.26881720430107525,
            0.000009375635307717017,
            -43,
            93,
            0.000013294722762569045
           ],
           [
            0.3047619047619048,
            0.00007808423662658282,
            -41,
            105,
            0.00009477225139786771
           ],
           [
            0.34782608695652173,
            0.001412957498607674,
            -35,
            115,
            0.0015216827001912625
           ],
           [
            0.35106382978723405,
            0.00507843581282981,
            -28,
            94,
            0.00535545771184176
           ],
           [
            0.3953488372093023,
            0.06615259746138927,
            -18,
            86,
            0.06677920499969492
           ],
           [
            0.4117647058823529,
            0.09183767826908278,
            -18,
            102,
            0.09232654595631029
           ],
           [
            0.4666666666666667,
            0.5984117182335192,
            -6,
            90,
            0.5981614526835279
           ],
           [
            0.4857142857142857,
            0.8453703188825517,
            -3,
            105,
            0.8452520242196513
           ],
           [
            "nan",
            1,
            0,
            0,
            1
           ],
           [
            0.52,
            0.7643534344026669,
            4,
            100,
            0.7641771556220947
           ],
           [
            0.5340909090909091,
            0.59428829514694,
            6,
            88,
            0.5940323405990415
           ],
           [
            0.5434782608695652,
            0.46570744577306195,
            8,
            92,
            0.46551216987418653
           ],
           [
            0.5632183908045977,
            0.2836071084054854,
            11,
            87,
            0.2836694894070203
           ],
           [
            0.6354166666666666,
            0.010345913082728777,
            26,
            96,
            0.010724437603060188
           ],
           [
            0.65625,
            0.002878610081200932,
            30,
            96,
            0.0030783871166717436
           ],
           [
            0.6888888888888889,
            0.0004379221966341338,
            34,
            90,
            0.0005042182294490161
           ],
           [
            0.7446808510638298,
            0.0000022027598315502487,
            46,
            94,
            0.0000034606384363700116
           ],
           [
            0.7252747252747253,
            0.000020283289208145556,
            41,
            91,
            0.000027512032496179728
           ]
          ],
          [
           [
            0.0948905109489051,
            6.84026545842273e-24,
            -111,
            137,
            0
           ],
           [
            0.09401709401709402,
            1.1625691644538388e-20,
            -95,
            117,
            0
           ],
           [
            0.13385826771653545,
            7.386767234722092e-18,
            -93,
            127,
            3.3306690738754696e-16
           ],
           [
            0.1282051282051282,
            4.439257960696856e-17,
            -87,
            117,
            1.887379141862766e-15
           ],
           [
            0.102803738317757,
            4.300826607582504e-18,
            -85,
            107,
            4.440892098500626e-16
           ],
           [
            0.13392857142857142,
            7.121860330286232e-16,
            -82,
            112,
            1.9539925233402755e-14
           ],
           [
            0.1565217391304348,
            2.792528455178105e-14,
            -79,
            115,
            3.5016434196677437e-13
           ],
           [
            0.1721311475409836,
            9.677506062033449e-14,
            -80,
            122,
            8.532063944244328e-13
           ],
           [
            0.14545454545454545,
            1.2897655647164703e-14,
            -78,
            110,
            2.1094237467877974e-13
           ],
           [
            0.192,
            1.9702912858306405e-12,
            -77,
            125,
            1.06341602190696e-11
           ],
           [
            0.1523809523809524,
            1.87131274564586e-13,
            -73,
            105,
            2.1180834863798736e-12
           ],
           [
            0.17543859649122806,
            1.1680094670975612e-12,
            -74,
            114,
            8.082534641573602e-12
           ],
           [
            0.14285714285714285,
            2.4575158375112673e-13,
            -70,
            98,
            3.1682434453728092e-12
           ],
           [
            0.1981981981981982,
            9.633963090742948e-11,
            -67,
            111,
            3.7416092446562743e-10
           ],
           [
            0.18888888888888888,
            1.9482376627755696e-9,
            -56,
            90,
            6.730715207403648e-9
           ],
           [
            0.2247191011235955,
            1.7769640600713887e-7,
            -49,
            89,
            3.618787830506065e-7
           ],
           [
            0.25773195876288657,
            0.0000019187392502875328,
            -47,
            97,
            0.00000300332409342019
           ],
           [
            0.29357798165137616,
            0.00001938048409366411,
            -45,
            109,
            0.000025040352692795587
           ],
           [
            0.3274336283185841,
            0.00030960246353573076,
            -39,
            113,
            0.0003505770414741205
           ],
           [
            0.3333333333333333,
            0.001424496094649118,
            -32,
            96,
            0.0015565730248836562
           ],
           [
            0.37209302325581395,
            0.02298259190715704,
            -22,
            86,
            0.02354410241255278
           ],
           [
            0.4,
            0.04476209415697338,
            -22,
            110,
            0.04525554618596206
           ],
           [
            0.44047619047619047,
            0.3261341711919829,
            -10,
            84,
            0.32610945202048924
           ],
           [
            0.4690265486725664,
            0.5726564757939484,
            -7,
            113,
            0.5724598115575816
           ],
           [
            0.48,
            0.7643534344026669,
            -4,
            100,
            0.7641771556220947
           ],
           [
            "nan",
            1,
            0,
            0,
            1
           ],
           [
            0.5106382978723404,
            0.917923067315743,
            2,
            94,
            0.9178501726683691
           ],
           [
            0.5204081632653061,
            0.7620362195292438,
            4,
            98,
            0.7618549862187098
           ],
           [
            0.5432098765432098,
            0.5052364407669357,
            7,
            81,
            0.5049850750938457
           ],
           [
            0.625,
            0.024622831581791033,
            22,
            88,
            0.025181464404459675
           ],
           [
            0.6101694915254238,
            0.02097002953003506,
            26,
            118,
            0.021366968260868258
           ],
           [
            0.6744186046511628,
            0.0016055649295642408,
            30,
            86,
            0.0017650959193790117
           ],
           [
            0.6810344827586207,
            0.00012034422931947831,
            42,
            116,
            0.00014080242868896864
           ],
           [
            0.6831683168316832,
            0.0002959601961545845,
            37,
            101,
            0.00034079904541117756
           ]
          ],
          [
           [
            0.09929078014184398,
            5.815315210521221e-24,
            -113,
            141,
            0
           ],
           [
            0.08547008547008547,
            1.1819170779356622e-21,
            -97,
            117,
            0
           ],
           [
            0.11382113821138211,
            2.0761409799356805e-19,
            -95,
            123,
            0
           ],
           [
            0.12605042016806722,
            1.450249679735154e-17,
            -89,
            119,
            6.661338147750939e-16
           ],
           [
            0.10810810810810811,
            3.4466261850741707e-18,
            -87,
            111,
            3.3306690738754696e-16
           ],
           [
            0.13793103448275862,
            4.958638770872384e-16,
            -84,
            116,
            1.2989609388114332e-14
           ],
           [
            0.14782608695652175,
            5.056827098324028e-15,
            -81,
            115,
            8.64863736182997e-14
           ],
           [
            0.15254237288135594,
            5.725061244691279e-15,
            -82,
            118,
            8.870681966755001e-14
           ],
           [
            0.1774193548387097,
            1.6601952366746198e-13,
            -80,
            124,
            1.2990719611138957e-12
           ],
           [
            0.1565217391304348,
            2.792528455178105e-14,
            -79,
            115,
            3.5016434196677437e-13
           ],
           [
            0.14953271028037382,
            6.449578410896073e-14,
            -75,
            107,
            8.43769498715119e-13
           ],
           [
            0.1724137931034483,
            4.248735618228405e-13,
            -76,
            116,
            3.3174574198824303e-12
           ],
           [
            0.17857142857142858,
            3.1880856558543937e-12,
            -72,
            112,
            1.961386608684279e-11
           ],
           [
            0.1891891891891892,
            2.3144662509616954e-11,
            -69,
            111,
            1.0873868472316417e-10
           ],
           [
            0.21,
            4.3373666334216375e-9,
            -58,
            100,
            1.1980742842254699e-8
           ],
           [
            0.21348314606741572,
            4.957489567762136e-8,
            -51,
            89,
            1.1580940417754704e-7
           ],
           [
            0.26666666666666666,
            0.0000018534768352189496,
            -49,
            105,
            0.0000028089040436940493
           ],
           [
            0.2956521739130435,
            0.000013800344917800584,
            -47,
            115,
            0.000017905798157413777
           ],
           [
            0.34108527131782945,
            0.00038715513395483516,
            -41,
            129,
            0.00042862152099487627
           ],
           [
            0.3111111111111111,
            0.0004379221966341338,
            -34,
            90,
            0.0005042182294490161
           ],
           [
            0.35714285714285715,
            0.011634454119925825,
            -24,
            84,
            0.012090025148399741
           ],
           [
            0.39285714285714285,
            0.029302222971632798,
            -24,
            112,
            0.029758067435199154
           ],
           [
            0.4318181818181818,
            0.2407931245390016,
            -12,
            88,
            0.24095466870157023
           ],
           [
            0.45794392523364486,
            0.43944010177908255,
            -9,
            107,
            0.4392920848474955
           ],
           [
            0.4659090909090909,
            0.59428829514694,
            -6,
            88,
            0.5940323405990415
           ],
           [
            0.48936170212765956,
            0.917923067315743,
            -2,
            94,
            0.9178501726683691
           ],
           [
            "nan",
            1,
            0,
            0,
            1
           ],
           [
            0.5113636363636364,
            0.9151865048428764,
            2,
            88,
            0.9151060344205056
           ],
           [
            0.5342465753424658,
            0.6399729317539425,
            5,
            73,
            0.6396668933244998
           ],
           [
            0.6111111111111112,
            0.04459752462791592,
            20,
            90,
            0.04520135297652217
           ],
           [
            0.603448275862069,
            0.03227202073309318,
            24,
            116,
            0.03272048483157364
           ],
           [
            0.6555555555555556,
            0.0041651140158244435,
            28,
            90,
            0.004426525857919805
           ],
           [
            0.6923076923076923,
            0.00010959860355569963,
            40,
            104,
            0.00013116297592663528
           ],
           [
            0.6966292134831461,
            0.00026558534298746995,
            35,
            89,
            0.0003133657498484155
           ]
          ],
          [
           [
            0.07407407407407407,
            1.962657178574568e-26,
            -115,
            135,
            0
           ],
           [
            0.08403361344537816,
            3.518195580823734e-22,
            -99,
            119,
            0
           ],
           [
            0.08547008547008547,
            1.1819170779356622e-21,
            -97,
            117,
            0
           ],
           [
            0.1111111111111111,
            8.490021806129161e-19,
            -91,
            117,
            1.1102230246251565e-16
           ],
           [
            0.0990990990990991,
            4.0853725805661456e-19,
            -89,
            111,
            1.1102230246251565e-16
           ],
           [
            0.14754098360655737,
            6.780884736177504e-16,
            -86,
            122,
            1.4099832412739488e-14
           ],
           [
            0.13274336283185842,
            4.098728148755534e-16,
            -83,
            113,
            1.2212453270876722e-14
           ],
           [
            0.13157894736842105,
            2.355799901240388e-16,
            -84,
            114,
            7.66053886991358e-15
           ],
           [
            0.14655172413793102,
            2.9566626383126712e-15,
            -82,
            116,
            5.4511950509095186e-14
           ],
           [
            0.15384615384615385,
            9.723859231682611e-15,
            -81,
            117,
            1.4033219031261979e-13
           ],
           [
            0.1592920353982301,
            7.970114680452795e-14,
            -77,
            113,
            8.710809851208978e-13
           ],
           [
            0.14545454545454545,
            1.2897655647164703e-14,
            -78,
            110,
            2.1094237467877974e-13
           ],
           [
            0.1574074074074074,
            2.0753689196043157e-13,
            -74,
            108,
            2.149391775674303e-12
           ],
           [
            0.1553398058252427,
            5.394032051902122e-13,
            -71,
            103,
            5.29987165265311e-12
           ],
           [
            0.1875,
            4.4469352439058753e-10,
            -60,
            96,
            1.7263480645013374e-9
           ],
           [
            0.2523364485981308,
            2.87737462890791e-7,
            -53,
            107,
            4.981351168220627e-7
           ],
           [
            0.26605504587155965,
            0.000001080908243358372,
            -51,
            109,
            0.0000016750475317905966
           ],
           [
            0.28695652173913044,
            0.000005571423208480338,
            -49,
            115,
            0.00000760462677229512
           ],
           [
            0.3162393162393162,
            0.00008717436729426461,
            -43,
            117,
            0.00010321744149510703
           ],
           [
            0.3235294117647059,
            0.00046860434916208907,
            -36,
            102,
            0.000529214248540133
           ],
           [
            0.3194444444444444,
            0.002942760530124976,
            -26,
            72,
            0.0032162293101274386
           ],
           [
            0.3898305084745763,
            0.02097002953003506,
            -26,
            118,
            0.021366968260868258
           ],
           [
            0.4166666666666667,
            0.15565646371399705,
            -14,
            84,
            0.15606926343163963
           ],
           [
            0.45132743362831856,
            0.34689310509533516,
            -11,
            113,
            0.34684792186514724
           ],
           [
            0.45652173913043476,
            0.46570744577306195,
            -8,
            92,
            0.46551216987418653
           ],
           [
            0.47959183673469385,
            0.7620362195292438,
            -4,
            98,
            0.7618549862187098
           ],
           [
            0.48863636363636365,
            0.9151865048428764,
            -2,
            88,
            0.9151060344205056
           ],
           [
            "nan",
            1,
            0,
            0,
            1
           ],
           [
            0.5205479452054794,
            0.8151212352249976,
            3,
            73,
            0.8149210911464686
           ],
           [
            0.618421052631579,
            0.050452410247217666,
            18,
            76,
            0.05117209797510924
           ],
           [
            0.6,
            0.04476209415697338,
            22,
            110,
            0.04525554618596206
           ],
           [
            0.6911764705882353,
            0.0021862431776861714,
            26,
            68,
            0.0024318453627428793
           ],
           [
            0.6557377049180327,
            0.0007407952274121575,
            38,
            122,
            0.0008086333048041849
           ],
           [
            0.7088607594936709,
            0.000263636776465269,
            33,
            79,
            0.00031787311937403473
           ]
          ],
          [
           [
            0.0661764705882353,
            8.260011277058911e-28,
            -118,
            136,
            0
           ],
           [
            0.06779661016949153,
            4.74093238312722e-24,
            -102,
            118,
            0
           ],
           [
            0.06896551724137931,
            1.6492278067940443e-23,
            -100,
            116,
            0
           ],
           [
            0.10833333333333334,
            1.4958728419663173e-19,
            -94,
            120,
            0
           ],
           [
            0.08181818181818182,
            7.837961736461263e-21,
            -92,
            110,
            0
           ],
           [
            0.12605042016806722,
            1.450249679735154e-17,
            -89,
            119,
            6.661338147750939e-16
           ],
           [
            0.12280701754385964,
            3.487916162229429e-17,
            -86,
            114,
            1.6653345369377348e-15
           ],
           [
            0.14049586776859505,
            1.9786177986614588e-16,
            -87,
            121,
            5.329070518200751e-15
           ],
           [
            0.13043478260869565,
            1.3522957587316638e-16,
            -85,
            115,
            4.773959005888173e-15
           ],
           [
            0.15,
            1.9758911914423336e-15,
            -84,
            120,
            3.5416114485542494e-14
           ],
           [
            0.13636363636363635,
            2.141608136429023e-15,
            -80,
            110,
            4.984901380566953e-14
           ],
           [
            0.15384615384615385,
            9.723859231682611e-15,
            -81,
            117,
            1.4033219031261979e-13
           ],
           [
            0.14678899082568808,
            2.2089187156338813e-14,
            -77,
            109,
            3.3506530883187224e-13
           ],
           [
            0.1509433962264151,
            1.0994809875335328e-13,
            -74,
            106,
            1.3373746554634636e-12
           ],
           [
            0.16842105263157894,
            3.4675436577962654e-11,
            -63,
            95,
            2.0035861858502813e-10
           ],
           [
            0.20212765957446807,
            4.8181440754468005e-9,
            -56,
            94,
            1.4046838026082753e-8
           ],
           [
            0.23529411764705882,
            7.679430153026993e-8,
            -54,
            102,
            1.5394132146795414e-7
           ],
           [
            0.2636363636363636,
            7.293567965336598e-7,
            -52,
            110,
            0.0000011581915660974218
           ],
           [
            0.2982456140350877,
            0.000019596368034800084,
            -46,
            114,
            0.00002501811902921869
           ],
           [
            0.2808988764044944,
            0.00004321520924983878,
            -39,
            89,
            0.00005625527075858727
           ],
           [
            0.29577464788732394,
            0.0007667649897412908,
            -29,
            71,
            0.0008905854024855442
           ],
           [
            0.36936936936936937,
            0.0075848117754316186,
            -29,
            111,
            0.007868934200841227
           ],
           [
            0.38028169014084506,
            0.05681467793283902,
            -17,
            71,
            0.057584115072876085
           ],
           [
            0.4222222222222222,
            0.17024239504607366,
            -14,
            90,
            0.17058693287144122
           ],
           [
            0.4367816091954023,
            0.2836071084054854,
            -11,
            87,
            0.2836694894070203
           ],
           [
            0.4567901234567901,
            0.5052364407669357,
            -7,
            81,
            0.5049850750938457
           ],
           [
            0.4657534246575342,
            0.6399729317539425,
            -5,
            73,
            0.6396668933244998
           ],
           [
            0.4794520547945205,
            0.8151212352249976,
            -3,
            73,
            0.8149210911464686
           ],
           [
            "nan",
            1,
            0,
            0,
            1
           ],
           [
            0.6056338028169014,
            0.09592363141082376,
            15,
            71,
            0.09661420844785251
           ],
           [
            0.5922330097087378,
            0.07561910758625776,
            19,
            103,
            0.07613054594368251
           ],
           [
            0.6385542168674698,
            0.015232201861994662,
            23,
            83,
            0.01574325889345418
           ],
           [
            0.6732673267326733,
            0.000641248502169594,
            35,
            101,
            0.0007166562787336295
           ],
           [
            0.7083333333333334,
            0.0005349642016498918,
            30,
            72,
            0.0006315667182512641
           ]
          ],
          [
           [
            0.059602649006622516,
            6.591678161717244e-32,
            -133,
            151,
            0
           ],
           [
            0.06015037593984962,
            3.8402956425115606e-28,
            -117,
            133,
            0
           ],
           [
            0.07407407407407407,
            1.962657178574568e-26,
            -115,
            135,
            0
           ],
           [
            0.09022556390977443,
            7.805904320346072e-24,
            -109,
            133,
            0
           ],
           [
            0.0916030534351145,
            2.587003859247397e-23,
            -107,
            131,
            0
           ],
           [
            0.10606060606060606,
            1.1384055538138498e-21,
            -104,
            132,
            0
           ],
           [
            0.12030075187969924,
            3.7982000367999554e-20,
            -101,
            133,
            0
           ],
           [
            0.08870967741935484,
            1.7582222198414876e-22,
            -102,
            124,
            0
           ],
           [
            0.0967741935483871,
            1.6733702780891284e-21,
            -100,
            124,
            0
           ],
           [
            0.13333333333333333,
            5.723995795100052e-19,
            -99,
            135,
            0
           ],
           [
            0.10084033613445378,
            3.207808350413538e-20,
            -95,
            119,
            0
           ],
           [
            0.11904761904761904,
            2.788349566618262e-19,
            -96,
            126,
            0
           ],
           [
            0.10344827586206896,
            1.8667049442323873e-19,
            -92,
            116,
            0
           ],
           [
            0.16030534351145037,
            9.432004555623528e-16,
            -89,
            131,
            1.4876988529977098e-14
           ],
           [
            0.125,
            1.4016007077149398e-15,
            -78,
            104,
            4.340972026284362e-14
           ],
           [
            0.1743119266055046,
            3.098472966432261e-12,
            -71,
            109,
            2.017042088908738e-11
           ],
           [
            0.1891891891891892,
            2.3144662509616954e-11,
            -69,
            111,
            1.0873868472316417e-10
           ],
           [
            0.23622047244094488,
            1.984553317143075e-9,
            -67,
            127,
            4.725729252363919e-9
           ],
           [
            0.25203252032520324,
            3.3173529174399884e-8,
            -61,
            123,
            6.3018482210353e-8
           ],
           [
            0.21875,
            2.7069291882474876e-8,
            -54,
            96,
            6.327515134074702e-8
           ],
           [
            0.25,
            0.0000028793907495367242,
            -44,
            88,
            0.000004565673459744346
           ],
           [
            0.31666666666666665,
            0.00007291502428713535,
            -44,
            120,
            0.00008660552398787047
           ],
           [
            0.313953488372093,
            0.0007317100653124087,
            -32,
            86,
            0.0008293287959082463
           ],
           [
            0.35353535353535354,
            0.004640654088434308,
            -29,
            99,
            0.004891311452359326
           ],
           [
            0.3645833333333333,
            0.010345913082728777,
            -26,
            96,
            0.010724437603060188
           ],
           [
            0.375,
            0.024622831581791033,
            -22,
            88,
            0.025181464404459675
           ],
           [
            0.3888888888888889,
            0.04459752462791592,
            -20,
            90,
            0.04520135297652217
           ],
           [
            0.3815789473684211,
            0.050452410247217666,
            -18,
            76,
            0.05117209797510924
           ],
           [
            0.39436619718309857,
            0.09592363141082376,
            -15,
            71,
            0.09661420844785251
           ],
           [
            "nan",
            1,
            0,
            0,
            1
           ],
           [
            0.5172413793103449,
            0.7807391284762693,
            4,
            116,
            0.7805955556973271
           ],
           [
            0.5952380952380952,
            0.27995623852893914,
            8,
            42,
            0.28008721081149757
           ],
           [
            0.5909090909090909,
            0.06956519633623014,
            20,
            110,
            0.07005128462163279
           ],
           [
            0.6,
            0.10534226887460482,
            15,
            75,
            0.10596880912720208
           ]
          ],
          [
           [
            0.046357615894039736,
            2.269603084085948e-34,
            -137,
            151,
            0
           ],
           [
            0.058394160583941604,
            3.0554882002890587e-29,
            -121,
            137,
            0
           ],
           [
            0.06569343065693431,
            4.417855826116116e-28,
            -119,
            137,
            0
           ],
           [
            0.08759124087591241,
            7.0458837577401e-25,
            -113,
            137,
            0
           ],
           [
            0.06299212598425197,
            1.6869953653078252e-26,
            -111,
            127,
            0
           ],
           [
            0.08461538461538462,
            4.6966135406816054e-24,
            -108,
            130,
            0
           ],
           [
            0.06611570247933884,
            7.2744533233669705e-25,
            -105,
            121,
            0
           ],
           [
            0.1267605633802817,
            1.1693737942974311e-20,
            -106,
            142,
            0
           ],
           [
            0.08064516129032258,
            1.6790570008398702e-23,
            -104,
            124,
            0
           ],
           [
            0.088,
            9.630639599627373e-23,
            -103,
            125,
            0
           ],
           [
            0.15384615384615385,
            9.247508456613193e-18,
            -99,
            143,
            2.220446049250313e-16
           ],
           [
            0.0967741935483871,
            1.6733702780891284e-21,
            -100,
            124,
            0
           ],
           [
            0.08620689655172414,
            2.1638104132572854e-21,
            -96,
            116,
            0
           ],
           [
            0.08108108108108109,
            4.2608701445754604e-21,
            -93,
            111,
            0
           ],
           [
            0.19402985074626866,
            4.479313635598752e-13,
            -82,
            134,
            2.608802063264193e-12
           ],
           [
            0.1794871794871795,
            1.1987559175109566e-12,
            -75,
            117,
            7.847611449562919e-12
           ],
           [
            0.19834710743801653,
            1.3442945758766515e-11,
            -73,
            121,
            5.931466429132115e-11
           ],
           [
            0.19658119658119658,
            2.2313814815989472e-11,
            -71,
            117,
            9.703327030763376e-11
           ],
           [
            0.24,
            4.659978428792858e-9,
            -65,
            125,
            1.0384026971621552e-8
           ],
           [
            0.2698412698412698,
            2.364920722052491e-7,
            -58,
            126,
            3.8150176728812824e-7
           ],
           [
            0.27358490566037735,
            0.0000034525612188472383,
            -48,
            106,
            0.0000049939065063231425
           ],
           [
            0.29310344827586204,
            0.000009685884063140466,
            -48,
            116,
            0.00001277988023229426
           ],
           [
            0.3548387096774194,
            0.0015647340261696686,
            -36,
            124,
            0.001671728396484773
           ],
           [
            0.34285714285714286,
            0.0016590268898995495,
            -33,
            105,
            0.0017909060837688617
           ],
           [
            0.34375,
            0.002878610081200932,
            -30,
            96,
            0.0030783871166717436
           ],
           [
            0.3898305084745763,
            0.02097002953003506,
            -26,
            118,
            0.021366968260868258
           ],
           [
            0.39655172413793105,
            0.03227202073309318,
            -24,
            116,
            0.03272048483157364
           ],
           [
            0.4,
            0.04476209415697338,
            -22,
            110,
            0.04525554618596206
           ],
           [
            0.4077669902912621,
            0.07561910758625776,
            -19,
            103,
            0.07613054594368251
           ],
           [
            0.4827586206896552,
            0.7807391284762693,
            -4,
            116,
            0.7805955556973271
           ],
           [
            "nan",
            1,
            0,
            0,
            1
           ],
           [
            0.5175438596491229,
            0.7788760920027011,
            4,
            114,
            0.7787290045873427
           ],
           [
            0.5701754385964912,
            0.15976150778501857,
            16,
            114,
            0.1600573462319449
           ],
           [
            0.5555555555555556,
            0.3148798910376229,
            11,
            99,
            0.31487864133641974
           ]
          ],
          [
           [
            0.04516129032258064,
            1.7074014022960796e-35,
            -141,
            155,
            0
           ],
           [
            0.050359712230215826,
            5.166045778807018e-31,
            -125,
            139,
            0
           ],
           [
            0.06993006993006994,
            1.3833392965568367e-28,
            -123,
            143,
            0
           ],
           [
            0.07913669064748201,
            1.9582705465490264e-26,
            -117,
            139,
            0
           ],
           [
            0.061068702290076333,
            1.3576781839928254e-27,
            -115,
            131,
            0
           ],
           [
            0.08823529411764706,
            1.2868059091640347e-24,
            -112,
            136,
            0
           ],
           [
            0.0962962962962963,
            2.2438953310017013e-23,
            -109,
            135,
            0
           ],
           [
            0.07692307692307693,
            4.263429420007923e-25,
            -110,
            130,
            0
           ],
           [
            0.09701492537313433,
            4.0594773352756886e-23,
            -108,
            134,
            0
           ],
           [
            0.11510791366906475,
            1.2448774653760878e-21,
            -107,
            139,
            0
           ],
           [
            0.08130081300813008,
            3.0898216554634606e-23,
            -103,
            123,
            0
           ],
           [
            0.08064516129032258,
            1.6790570008398702e-23,
            -104,
            124,
            0
           ],
           [
            0.0967741935483871,
            1.6733702780891284e-21,
            -100,
            124,
            0
           ],
           [
            0.12403100775193798,
            3.6361201608796156e-19,
            -97,
            129,
            0
           ],
           [
            0.10909090909090909,
            6.156273065927667e-18,
            -86,
            110,
            5.551115123125783e-16
           ],
           [
            0.14414414414414414,
            7.519631891796862e-15,
            -79,
            111,
            1.326716514427062e-13
           ],
           [
            0.1592920353982301,
            7.970114680452795e-14,
            -77,
            113,
            8.710809851208978e-13
           ],
           [
            0.20930232558139536,
            1.8819747521132473e-11,
            -75,
            129,
            7.252676237357036e-11
           ],
           [
            0.2366412213740458,
            1.1612274833072096e-9,
            -69,
            131,
            2.8296458509657896e-9
           ],
           [
            0.20754716981132076,
            1.0168289347541834e-9,
            -62,
            106,
            3.125944503246103e-9
           ],
           [
            0.20454545454545456,
            2.0783545041774735e-8,
            -52,
            88,
            5.4301301122272605e-8
           ],
           [
            0.28688524590163933,
            0.0000027878838112871152,
            -52,
            122,
            0.000003887218965270556
           ],
           [
            0.2826086956521739,
            0.000036700459237994134,
            -40,
            92,
            0.00004782056236174448
           ],
           [
            0.3238095238095238,
            0.00039070001552236726,
            -37,
            105,
            0.00044267698634337105
           ],
           [
            0.3111111111111111,
            0.0004379221966341338,
            -34,
            90,
            0.0005042182294490161
           ],
           [
            0.32558139534883723,
            0.0016055649295642408,
            -30,
            86,
            0.0017650959193790117
           ],
           [
            0.34444444444444444,
            0.0041651140158244435,
            -28,
            90,
            0.004426525857919805
           ],
           [
            0.3088235294117647,
            0.0021862431776861714,
            -26,
            68,
            0.0024318453627428793
           ],
           [
            0.3614457831325301,
            0.015232201861994662,
            -23,
            83,
            0.01574325889345418
           ],
           [
            0.40476190476190477,
            0.27995623852893914,
            -8,
            42,
            0.28008721081149757
           ],
           [
            0.4824561403508772,
            0.7788760920027011,
            -4,
            114,
            0.7787290045873427
           ],
           [
            "nan",
            1,
            0,
            0,
            1
           ],
           [
            0.5545454545454546,
            0.29423370844429203,
            12,
            110,
            0.2942661043049627
           ],
           [
            0.5421686746987951,
            0.5104099416812344,
            7,
            83,
            0.5101619380844786
           ]
          ],
          [
           [
            0.041916167664670656,
            7.070419183978223e-39,
            -153,
            167,
            0
           ],
           [
            0.034013605442176874,
            6.201799122350081e-36,
            -137,
            147,
            0
           ],
           [
            0.052980132450331126,
            4.116489201690665e-33,
            -135,
            151,
            0
           ],
           [
            0.0425531914893617,
            7.352026653297796e-33,
            -129,
            141,
            0
           ],
           [
            0.06206896551724138,
            2.907347193787138e-30,
            -127,
            145,
            0
           ],
           [
            0.06338028169014084,
            1.9194190323593825e-29,
            -124,
            142,
            0
           ],
           [
            0.07092198581560284,
            4.789729026756024e-28,
            -121,
            141,
            0
           ],
           [
            0.09868421052631579,
            7.854293204336358e-26,
            -122,
            152,
            0
           ],
           [
            0.0945945945945946,
            9.191926693634371e-26,
            -120,
            148,
            0
           ],
           [
            0.07801418439716312,
            5.754681923240256e-27,
            -119,
            141,
            0
           ],
           [
            0.08633093525179857,
            2.108124581703748e-25,
            -115,
            139,
            0
           ],
           [
            0.09722222222222222,
            9.874919036815883e-25,
            -116,
            144,
            0
           ],
           [
            0.09420289855072464,
            3.772426917098371e-24,
            -112,
            138,
            0
           ],
           [
            0.10218978102189781,
            6.118483390473997e-23,
            -109,
            137,
            0
           ],
           [
            0.1597222222222222,
            2.923580700821239e-17,
            -98,
            144,
            6.661338147750939e-16
           ],
           [
            0.136,
            2.2210629525385693e-17,
            -91,
            125,
            7.771561172376096e-16
           ],
           [
            0.12605042016806722,
            1.450249679735154e-17,
            -89,
            119,
            6.661338147750939e-16
           ],
           [
            0.18248175182481752,
            2.403640054084458e-14,
            -87,
            137,
            2.0194956817931597e-13
           ],
           [
            0.20437956204379562,
            1.7449187258294395e-12,
            -81,
            137,
            8.208433932566095e-12
           ],
           [
            0.19672131147540983,
            8.341401161083558e-12,
            -74,
            122,
            3.8663849899478464e-11
           ],
           [
            0.2288135593220339,
            2.6899026850690616e-9,
            -64,
            118,
            6.646532435539143e-9
           ],
           [
            0.25384615384615383,
            1.69872442575104e-8,
            -64,
            130,
            3.286131100566081e-8
           ],
           [
            0.26785714285714285,
            9.322584031886636e-7,
            -52,
            112,
            0.0000014424555103698111
           ],
           [
            0.2905982905982906,
            0.000006775655653746717,
            -49,
            117,
            0.000009096680073095165
           ],
           [
            0.2553191489361702,
            0.0000022027598315502487,
            -46,
            94,
            0.0000034606384363700116
           ],
           [
            0.31896551724137934,
            0.00012034422931947831,
            -42,
            116,
            0.00014080242868896864
           ],
           [
            0.3076923076923077,
            0.00010959860355569963,
            -40,
            104,
            0.00013116297592663528
           ],
           [
            0.3442622950819672,
            0.0007407952274121575,
            -38,
            122,
            0.0008086333048041849
           ],
           [
            0.32673267326732675,
            0.000641248502169594,
            -35,
            101,
            0.0007166562787336295
           ],
           [
            0.4090909090909091,
            0.06956519633623014,
            -20,
            110,
            0.07005128462163279
           ],
           [
            0.4298245614035088,
            0.15976150778501857,
            -16,
            114,
            0.1600573462319449
           ],
           [
            0.44545454545454544,
            0.29423370844429203,
            -12,
            110,
            0.2942661043049627
           ],
           [
            "nan",
            1,
            0,
            0,
            1
           ],
           [
            0.4766355140186916,
            0.6991749840078747,
            -5,
            107,
            0.6989823175822696
           ]
          ],
          [
           [
            0.05952380952380952,
            2.1416199587982634e-35,
            -148,
            168,
            0
           ],
           [
            0.05405405405405406,
            2.797312157195774e-32,
            -132,
            148,
            0
           ],
           [
            0.04861111111111111,
            2.0745989755018755e-32,
            -130,
            144,
            0
           ],
           [
            0.08108108108108109,
            8.95281620858886e-28,
            -124,
            148,
            0
           ],
           [
            0.07042253521126761,
            2.574736689877734e-28,
            -122,
            142,
            0
           ],
           [
            0.0896551724137931,
            5.738497867872483e-26,
            -119,
            145,
            0
           ],
           [
            0.09154929577464789,
            3.4647755616804067e-25,
            -116,
            142,
            0
           ],
           [
            0.10204081632653061,
            1.4907381626203358e-24,
            -117,
            147,
            0
           ],
           [
            0.08633093525179857,
            2.108124581703748e-25,
            -115,
            139,
            0
           ],
           [
            0.08695652173913043,
            3.855331674762765e-25,
            -114,
            138,
            0
           ],
           [
            0.08955223880597014,
            4.283133267277142e-24,
            -110,
            134,
            0
           ],
           [
            0.0948905109489051,
            6.84026545842273e-24,
            -111,
            137,
            0
           ],
           [
            0.09774436090225563,
            7.33836423851677e-23,
            -107,
            133,
            0
           ],
           [
            0.08064516129032258,
            1.6790570008398702e-23,
            -104,
            124,
            0
           ],
           [
            0.10256410256410256,
            1.0387903364952914e-19,
            -93,
            117,
            0
           ],
           [
            0.12931034482758622,
            7.752808767891496e-17,
            -86,
            116,
            2.9976021664879227e-15
           ],
           [
            0.11818181818181818,
            4.700941065418037e-17,
            -84,
            110,
            2.4424906541753444e-15
           ],
           [
            0.19402985074626866,
            4.479313635598752e-13,
            -82,
            134,
            2.608802063264193e-12
           ],
           [
            0.22857142857142856,
            7.793986201015429e-11,
            -76,
            140,
            2.3177670893659297e-10
           ],
           [
            0.1834862385321101,
            1.4176630345560641e-11,
            -69,
            109,
            7.355727138502743e-11
           ],
           [
            0.18947368421052632,
            7.252322160518573e-10,
            -59,
            95,
            2.6703979028042113e-9
           ],
           [
            0.264,
            1.2560405612579237e-7,
            -59,
            125,
            2.1293269891753397e-7
           ],
           [
            0.21686746987951808,
            2.1054542433593656e-7,
            -47,
            83,
            4.437663474465836e-7
           ],
           [
            0.30701754385964913,
            0.00004609247371251201,
            -44,
            114,
            0.00005641646937404321
           ],
           [
            0.27472527472527475,
            0.000020283289208145556,
            -41,
            91,
            0.000027512032496179728
           ],
           [
            0.31683168316831684,
            0.0002959601961545845,
            -37,
            101,
            0.00034079904541117756
           ],
           [
            0.30337078651685395,
            0.00026558534298746995,
            -35,
            89,
            0.0003133657498484155
           ],
           [
            0.2911392405063291,
            0.000263636776465269,
            -33,
            79,
            0.00031787311937403473
           ],
           [
            0.2916666666666667,
            0.0005349642016498918,
            -30,
            72,
            0.0006315667182512641
           ],
           [
            0.4,
            0.10534226887460482,
            -15,
            75,
            0.10596880912720208
           ],
           [
            0.4444444444444444,
            0.3148798910376229,
            -11,
            99,
            0.31487864133641974
           ],
           [
            0.4578313253012048,
            0.5104099416812344,
            -7,
            83,
            0.5101619380844786
           ],
           [
            0.5233644859813084,
            0.6991749840078747,
            5,
            107,
            0.6989823175822696
           ],
           [
            "nan",
            1,
            0,
            0,
            1
           ]
          ]
         ],
         "hovertemplate": "Model A: %{y}<br>Model B: %{x}<br>binom p-value: %{customdata[1]:.4f}<br>chi2 p-value: %{customdata[4]:.4f}<br>A_win / (A_win + B_win): %{customdata[0]:.2f}<br>A_win - B_win: %{customdata[2]}<br>A_win + B_win: %{customdata[3]}<extra></extra>",
         "name": "0",
         "texttemplate": "%{z:.2f}",
         "type": "heatmap",
         "x": [
          "gpt-4-1106-preview",
          "meta-llama-3-70b-instruct",
          "opencodeinterpreter-ds-33b",
          "white-rabbit-neo-33b-v1",
          "opencodeinterpreter-ds-6.7b",
          "deepseek-coder-6.7b-instruct",
          "xwincoder-34b",
          "bigcode--starcoder2-15b-instruct-v0.1",
          "HuggingFaceH4--starchat2-15b-v0.1",
          "mixtral-8x22b-instruct-v0.1",
          "starcoder2-15b-oci",
          "CohereForAI--c4ai-command-r-plus",
          "speechless-starcoder2-15b",
          "Qwen--Qwen1.5-72B-Chat",
          "deepseek-coder-6.7b-base",
          "codegemma-7b-it",
          "speechless-starcoder2-7b",
          "databricks--dbrx-instruct",
          "microsoft--Phi-3-mini-4k-instruct",
          "codegemma-7b",
          "octocoder",
          "mixtral-8x7b-instruct",
          "codegemma-2b",
          "open-hermes-2.5-code-290k-13b",
          "gemma-1.1-7b-it",
          "starcoder2-3b",
          "gemma-7b",
          "codegen-6b",
          "mistral-7b",
          "codet5p-2b",
          "mistralai--Mistral-7B-Instruct-v0.2",
          "codegen-2b",
          "gemma-7b-it",
          "gemma-2b"
         ],
         "xaxis": "x",
         "y": [
          "gpt-4-1106-preview",
          "meta-llama-3-70b-instruct",
          "opencodeinterpreter-ds-33b",
          "white-rabbit-neo-33b-v1",
          "opencodeinterpreter-ds-6.7b",
          "deepseek-coder-6.7b-instruct",
          "xwincoder-34b",
          "bigcode--starcoder2-15b-instruct-v0.1",
          "HuggingFaceH4--starchat2-15b-v0.1",
          "mixtral-8x22b-instruct-v0.1",
          "starcoder2-15b-oci",
          "CohereForAI--c4ai-command-r-plus",
          "speechless-starcoder2-15b",
          "Qwen--Qwen1.5-72B-Chat",
          "deepseek-coder-6.7b-base",
          "codegemma-7b-it",
          "speechless-starcoder2-7b",
          "databricks--dbrx-instruct",
          "microsoft--Phi-3-mini-4k-instruct",
          "codegemma-7b",
          "octocoder",
          "mixtral-8x7b-instruct",
          "codegemma-2b",
          "open-hermes-2.5-code-290k-13b",
          "gemma-1.1-7b-it",
          "starcoder2-3b",
          "gemma-7b",
          "codegen-6b",
          "mistral-7b",
          "codet5p-2b",
          "mistralai--Mistral-7B-Instruct-v0.2",
          "codegen-2b",
          "gemma-7b-it",
          "gemma-2b"
         ],
         "yaxis": "y",
         "z": [
          [
           1,
           0.05589722669971112,
           0.04739297550405176,
           0.007905180027859783,
           0.002942760530124976,
           0.0012632268710478355,
           0.0003129786008370502,
           0.0006393977673643526,
           0.00014163707253552724,
           0.0001206291159979032,
           0.00007657072931048342,
           0.00003761512780416609,
           0.000005656214894965935,
           0.000004935351419046992,
           2.4928338709270455e-8,
           1.6606697571045604e-10,
           2.0744109143956072e-11,
           7.380354309112728e-12,
           5.912079008704511e-13,
           1.4727515742257347e-14,
           1.450249679735154e-17,
           3.162946279828288e-17,
           8.634558219080549e-20,
           4.31422564584497e-22,
           2.587003859247397e-23,
           6.84026545842273e-24,
           5.815315210521221e-24,
           1.962657178574568e-26,
           8.260011277058911e-28,
           6.591678161717244e-32,
           2.269603084085948e-34,
           1.7074014022960796e-35,
           7.070419183978223e-39,
           2.1416199587982634e-35
          ],
          [
           0.05589722669971112,
           1,
           0.8990763136528589,
           0.36629400670329104,
           0.2450608330229457,
           0.10478948242660333,
           0.044046546102150766,
           0.08168153394154003,
           0.030028945411892487,
           0.027340133868077935,
           0.008146902228698568,
           0.009853448195259268,
           0.001263559472435463,
           0.00039404324272610154,
           0.000003753237688593051,
           1.2750032374450517e-8,
           8.055498526741105e-9,
           1.1363565084238009e-7,
           3.221505246540145e-8,
           6.007962189879819e-11,
           9.654706383228215e-14,
           3.5057799981190235e-13,
           4.300826607582504e-18,
           1.1474562133221443e-16,
           4.715659082533631e-18,
           1.1625691644538388e-20,
           1.1819170779356622e-21,
           3.518195580823734e-22,
           4.74093238312722e-24,
           3.8402956425115606e-28,
           3.0554882002890587e-29,
           5.166045778807018e-31,
           6.201799122350081e-36,
           2.797312157195774e-32
          ],
          [
           0.04739297550405176,
           0.8990763136528589,
           1,
           0.49661743531793345,
           0.3817327947933377,
           0.2145391940081784,
           0.10342187831608088,
           0.1539127693264563,
           0.09118649056701154,
           0.07223792719176257,
           0.022462895492509273,
           0.034415913668175036,
           0.006741447363103123,
           0.0012990027709550095,
           0.000022429642158970264,
           0.0000028793907495367242,
           6.221761416347879e-8,
           5.348143171041871e-7,
           5.513580775850052e-8,
           1.0696750216702928e-9,
           3.211393990185144e-14,
           9.952845271763166e-13,
           4.098728148755534e-16,
           2.391242454166262e-18,
           1.0769168220004768e-18,
           7.386767234722092e-18,
           2.0761409799356805e-19,
           1.1819170779356622e-21,
           1.6492278067940443e-23,
           1.962657178574568e-26,
           4.417855826116116e-28,
           1.3833392965568367e-28,
           4.116489201690665e-33,
           2.0745989755018755e-32
          ],
          [
           0.007905180027859783,
           0.36629400670329104,
           0.49661743531793345,
           1,
           0.8974218269914307,
           0.6399729317539425,
           0.36629400670329104,
           0.47036853185814453,
           0.3284320626971897,
           0.2450608330229457,
           0.10885696440971612,
           0.19276043534155876,
           0.03961701489849968,
           0.01865726035402101,
           0.0006393977673643526,
           0.00005083654201844156,
           0.00000641506390670917,
           0.000010902049191089246,
           9.69923242552742e-7,
           1.7194329935998188e-8,
           2.1806410800143945e-11,
           1.6010060804361699e-10,
           2.2089187156338813e-14,
           3.055970137442688e-14,
           5.198609903817759e-18,
           4.439257960696856e-17,
           1.450249679735154e-17,
           8.490021806129161e-19,
           1.4958728419663173e-19,
           7.805904320346072e-24,
           7.0458837577401e-25,
           1.9582705465490264e-26,
           7.352026653297796e-33,
           8.95281620858886e-28
          ],
          [
           0.002942760530124976,
           0.2450608330229457,
           0.3817327947933377,
           0.8974218269914307,
           1,
           0.755228657504631,
           0.5189580031896519,
           0.6353076420876663,
           0.46381761789686937,
           0.3890524605477928,
           0.18821620302302766,
           0.24804574189252784,
           0.08643723427347082,
           0.038460053348927506,
           0.0009142745821630902,
           0.00013037942991199537,
           0.00000814003082672391,
           0.000023726590787439646,
           4.748492975346606e-7,
           1.2968749869187788e-8,
           5.446803038068455e-12,
           1.9393097995260696e-11,
           2.2601502838438826e-13,
           4.721433127339268e-14,
           1.6977475366916752e-17,
           4.300826607582504e-18,
           3.4466261850741707e-18,
           4.0853725805661456e-19,
           7.837961736461263e-21,
           2.587003859247397e-23,
           1.6869953653078252e-26,
           1.3576781839928254e-27,
           2.907347193787138e-30,
           2.574736689877734e-28
          ],
          [
           0.0012632268710478355,
           0.10478948242660333,
           0.2145391940081784,
           0.6399729317539425,
           0.755228657504631,
           1,
           0.7981526273057179,
           0.9035973456835127,
           0.716300760154337,
           0.6146550157654618,
           0.36203179773966154,
           0.39612484029702977,
           0.1945051658673991,
           0.09592363141082376,
           0.002942760530124976,
           0.0003783427631607787,
           0.000029304321745456655,
           0.00010992624937112814,
           0.000004348703111758687,
           1.1363565084238009e-7,
           7.127385901074282e-10,
           1.709865174269227e-9,
           1.0657835390692565e-12,
           2.2601502838438826e-13,
           2.507729768138009e-14,
           7.121860330286232e-16,
           4.958638770872384e-16,
           6.780884736177504e-16,
           1.450249679735154e-17,
           1.1384055538138498e-21,
           4.6966135406816054e-24,
           1.2868059091640347e-24,
           1.9194190323593825e-29,
           5.738497867872483e-26
          ],
          [
           0.0003129786008370502,
           0.044046546102150766,
           0.10342187831608088,
           0.36629400670329104,
           0.5189580031896519,
           0.7981526273057179,
           1,
           1,
           1,
           0.8956832138895906,
           0.5504125118224712,
           0.6444639138942256,
           0.2624375357110438,
           0.1550019040032606,
           0.008554538502693429,
           0.0007645817391550476,
           0.00013083876154198454,
           0.0001206291159979032,
           0.000023726590787439646,
           0.0000011026255560645484,
           1.1934080595966506e-9,
           6.88231823830183e-9,
           1.4176630345560641e-11,
           3.1880856558543937e-12,
           4.045693021158809e-13,
           2.792528455178105e-14,
           5.056827098324028e-15,
           4.098728148755534e-16,
           3.487916162229429e-17,
           3.7982000367999554e-20,
           7.2744533233669705e-25,
           2.2438953310017013e-23,
           4.789729026756024e-28,
           3.4647755616804067e-25
          ],
          [
           0.0006393977673643526,
           0.08168153394154003,
           0.1539127693264563,
           0.47036853185814453,
           0.6353076420876663,
           0.9035973456835127,
           1,
           1,
           0.9087769252754927,
           0.8198929037490488,
           0.4426260049464714,
           0.5764306261883931,
           0.23704711476271959,
           0.17661055306016424,
           0.006309827313666047,
           0.0013352623656219375,
           0.0003783427631607787,
           0.00026558534298746995,
           0.00003803794805755345,
           0.0000012796062450772919,
           4.3373666334216375e-9,
           2.6140393458029345e-8,
           5.560432964003839e-11,
           2.0789169979429998e-11,
           7.237227129476198e-14,
           9.677506062033449e-14,
           5.725061244691279e-15,
           2.355799901240388e-16,
           1.9786177986614588e-16,
           1.7582222198414876e-22,
           1.1693737942974311e-20,
           4.263429420007923e-25,
           7.854293204336358e-26,
           1.4907381626203358e-24
          ],
          [
           0.00014163707253552724,
           0.030028945411892487,
           0.09118649056701154,
           0.3284320626971897,
           0.46381761789686937,
           0.716300760154337,
           1,
           0.9087769252754927,
           1,
           1,
           0.6444639138942256,
           0.7079807541347641,
           0.3317497633694906,
           0.241644723140752,
           0.0198269158458416,
           0.0019314374822250477,
           0.00024439701657757496,
           0.0006102590502807983,
           0.000034799669459257334,
           0.000007366510614966003,
           7.319367989521492e-9,
           4.4793745175678225e-8,
           1.4181822700488308e-10,
           3.098472966432261e-12,
           1.1680094670975612e-12,
           1.2897655647164703e-14,
           1.6601952366746198e-13,
           2.9566626383126712e-15,
           1.3522957587316638e-16,
           1.6733702780891284e-21,
           1.6790570008398702e-23,
           4.0594773352756886e-23,
           9.191926693634371e-26,
           2.108124581703748e-25
          ],
          [
           0.0001206291159979032,
           0.027340133868077935,
           0.07223792719176257,
           0.2450608330229457,
           0.3890524605477928,
           0.6146550157654618,
           0.8956832138895906,
           0.8198929037490488,
           1,
           1,
           0.7343420330298466,
           0.8071946913670247,
           0.46381761789686937,
           0.25285439418811073,
           0.02029840699010744,
           0.0037465093469812305,
           0.0014044946311139559,
           0.0007317100653124087,
           0.00011112062020663294,
           0.000004271012269463366,
           1.7194329935998188e-8,
           4.980762968257179e-8,
           1.4884906475803411e-10,
           5.13116239379527e-12,
           6.366602155148437e-13,
           1.9702912858306405e-12,
           2.792528455178105e-14,
           9.723859231682611e-15,
           1.9758911914423336e-15,
           5.723995795100052e-19,
           9.630639599627373e-23,
           1.2448774653760878e-21,
           5.754681923240256e-27,
           3.855331674762765e-25
          ],
          [
           0.00007657072931048342,
           0.008146902228698568,
           0.022462895492509273,
           0.10885696440971612,
           0.18821620302302766,
           0.36203179773966154,
           0.5504125118224712,
           0.4426260049464714,
           0.6444639138942256,
           0.7343420330298466,
           1,
           1,
           0.7708669945730263,
           0.5715867180030723,
           0.0463534743329112,
           0.007084252673880489,
           0.0021862431776861714,
           0.0041651140158244435,
           0.000986536808184603,
           0.000012653512115621955,
           4.957489567762136e-8,
           0.0000017300043785001778,
           4.157046960834439e-10,
           3.5862160099959136e-10,
           4.2224144708722095e-13,
           1.87131274564586e-13,
           6.449578410896073e-14,
           7.970114680452795e-14,
           2.141608136429023e-15,
           3.207808350413538e-20,
           9.247508456613193e-18,
           3.0898216554634606e-23,
           2.108124581703748e-25,
           4.283133267277142e-24
          ],
          [
           0.00003761512780416609,
           0.009853448195259268,
           0.034415913668175036,
           0.19276043534155876,
           0.24804574189252784,
           0.39612484029702977,
           0.6444639138942256,
           0.5764306261883931,
           0.7079807541347641,
           0.8071946913670247,
           1,
           1,
           0.7122308826373509,
           0.48868297090314317,
           0.06615259746138927,
           0.010546897231105523,
           0.0024442284992149655,
           0.0034618534914423785,
           0.0009231579958033549,
           0.00006550370792480047,
           2.4519113385990644e-7,
           1.3172242120654855e-7,
           2.6899026850690616e-9,
           1.4884906475803411e-10,
           1.419861081655098e-11,
           1.1680094670975612e-12,
           4.248735618228405e-13,
           1.2897655647164703e-14,
           9.723859231682611e-15,
           2.788349566618262e-19,
           1.6733702780891284e-21,
           1.6790570008398702e-23,
           9.874919036815883e-25,
           6.84026545842273e-24
          ],
          [
           0.000005656214894965935,
           0.001263559472435463,
           0.006741447363103123,
           0.03961701489849968,
           0.08643723427347082,
           0.1945051658673991,
           0.2624375357110438,
           0.23704711476271959,
           0.3317497633694906,
           0.46381761789686937,
           0.7708669945730263,
           0.7122308826373509,
           1,
           0.8099490529189248,
           0.11425430684992327,
           0.01861775143319464,
           0.005152397042092064,
           0.008036706377857002,
           0.0015165131944572209,
           0.000032317126198897614,
           1.9409574271727466e-7,
           0.000002736780589985052,
           3.787227599932374e-9,
           6.375481651166934e-10,
           3.7855174633264834e-11,
           2.4575158375112673e-13,
           3.1880856558543937e-12,
           2.0753689196043157e-13,
           2.2089187156338813e-14,
           1.8667049442323873e-19,
           2.1638104132572854e-21,
           1.6733702780891284e-21,
           3.772426917098371e-24,
           7.33836423851677e-23
          ],
          [
           0.000004935351419046992,
           0.00039404324272610154,
           0.0012990027709550095,
           0.01865726035402101,
           0.038460053348927506,
           0.09592363141082376,
           0.1550019040032606,
           0.17661055306016424,
           0.241644723140752,
           0.25285439418811073,
           0.5715867180030723,
           0.48868297090314317,
           0.8099490529189248,
           1,
           0.24804574189252784,
           0.050452410247217666,
           0.028626655508737896,
           0.021383189937144585,
           0.00507843581282981,
           0.000490157948963301,
           3.5883588815862885e-7,
           0.000008635781314660544,
           2.0779877274240742e-8,
           7.127385901074282e-10,
           1.4180922486418413e-9,
           9.633963090742948e-11,
           2.3144662509616954e-11,
           5.394032051902122e-13,
           1.0994809875335328e-13,
           9.432004555623528e-16,
           4.2608701445754604e-21,
           3.6361201608796156e-19,
           6.118483390473997e-23,
           1.6790570008398702e-23
          ],
          [
           2.4928338709270455e-8,
           0.000003753237688593051,
           0.000022429642158970264,
           0.0006393977673643526,
           0.0009142745821630902,
           0.002942760530124976,
           0.008554538502693429,
           0.006309827313666047,
           0.0198269158458416,
           0.02029840699010744,
           0.0463534743329112,
           0.06615259746138927,
           0.11425430684992327,
           0.24804574189252784,
           1,
           0.48278855684402133,
           0.36203179773966154,
           0.2779992890805517,
           0.10735158653318887,
           0.007084252673880489,
           0.00031699928227764087,
           0.0004379221966341338,
           0.000001670436795024911,
           0.000005571423208480338,
           2.4519113385990644e-7,
           1.9482376627755696e-9,
           4.3373666334216375e-9,
           4.4469352439058753e-10,
           3.4675436577962654e-11,
           1.4016007077149398e-15,
           4.479313635598752e-13,
           6.156273065927667e-18,
           2.923580700821239e-17,
           1.0387903364952914e-19
          ],
          [
           1.6606697571045604e-10,
           1.2750032374450517e-8,
           0.0000028793907495367242,
           0.00005083654201844156,
           0.00013037942991199537,
           0.0003783427631607787,
           0.0007645817391550476,
           0.0013352623656219375,
           0.0019314374822250477,
           0.0037465093469812305,
           0.007084252673880489,
           0.010546897231105523,
           0.01861775143319464,
           0.050452410247217666,
           0.48278855684402133,
           1,
           0.9099464518745242,
           0.7546517496104984,
           0.3865726089882613,
           0.07478815428283364,
           0.005013598900146386,
           0.010063333265586338,
           0.00007804247056315925,
           0.000046569869697466,
           0.0000025221536534654515,
           1.7769640600713887e-7,
           4.957489567762136e-8,
           2.87737462890791e-7,
           4.8181440754468005e-9,
           3.098472966432261e-12,
           1.1987559175109566e-12,
           7.519631891796862e-15,
           2.2210629525385693e-17,
           7.752808767891496e-17
          ],
          [
           2.0744109143956072e-11,
           8.055498526741105e-9,
           6.221761416347879e-8,
           0.00000641506390670917,
           0.00000814003082672391,
           0.000029304321745456655,
           0.00013083876154198454,
           0.0003783427631607787,
           0.00024439701657757496,
           0.0014044946311139559,
           0.0021862431776861714,
           0.0024442284992149655,
           0.005152397042092064,
           0.028626655508737896,
           0.36203179773966154,
           0.9099464518745242,
           1,
           0.9142116370824498,
           0.46570744577306195,
           0.1505180638902294,
           0.010546897231105523,
           0.013378703026003939,
           0.0000906079859652185,
           0.00005459154357711447,
           0.000009375635307717017,
           0.0000019187392502875328,
           0.0000018534768352189496,
           0.000001080908243358372,
           7.679430153026993e-8,
           2.3144662509616954e-11,
           1.3442945758766515e-11,
           7.970114680452795e-14,
           1.450249679735154e-17,
           4.700941065418037e-17
          ],
          [
           7.380354309112728e-12,
           1.1363565084238009e-7,
           5.348143171041871e-7,
           0.000010902049191089246,
           0.000023726590787439646,
           0.00010992624937112814,
           0.0001206291159979032,
           0.00026558534298746995,
           0.0006102590502807983,
           0.0007317100653124087,
           0.0041651140158244435,
           0.0034618534914423785,
           0.008036706377857002,
           0.021383189937144585,
           0.2779992890805517,
           0.7546517496104984,
           0.9142116370824498,
           1,
           0.610068266105178,
           0.23690187778029279,
           0.02499073659259804,
           0.03130178457554002,
           0.0011510187915276821,
           0.00028452861891625184,
           0.00007808423662658282,
           0.00001938048409366411,
           0.000013800344917800584,
           0.000005571423208480338,
           7.293567965336598e-7,
           1.984553317143075e-9,
           2.2313814815989472e-11,
           1.8819747521132473e-11,
           2.403640054084458e-14,
           4.479313635598752e-13
          ],
          [
           5.912079008704511e-13,
           3.221505246540145e-8,
           5.513580775850052e-8,
           9.69923242552742e-7,
           4.748492975346606e-7,
           0.000004348703111758687,
           0.000023726590787439646,
           0.00003803794805755345,
           0.000034799669459257334,
           0.00011112062020663294,
           0.000986536808184603,
           0.0009231579958033549,
           0.0015165131944572209,
           0.00507843581282981,
           0.10735158653318887,
           0.3865726089882613,
           0.46570744577306195,
           0.610068266105178,
           1,
           0.5507089135982715,
           0.11446824201255822,
           0.1353504098348154,
           0.00873510868433317,
           0.0022094328919877613,
           0.001412957498607674,
           0.00030960246353573076,
           0.00038715513395483516,
           0.00008717436729426461,
           0.000019596368034800084,
           3.3173529174399884e-8,
           4.659978428792858e-9,
           1.1612274833072096e-9,
           1.7449187258294395e-12,
           7.793986201015429e-11
          ],
          [
           1.4727515742257347e-14,
           6.007962189879819e-11,
           1.0696750216702928e-9,
           1.7194329935998188e-8,
           1.2968749869187788e-8,
           1.1363565084238009e-7,
           0.0000011026255560645484,
           0.0000012796062450772919,
           0.000007366510614966003,
           0.000004271012269463366,
           0.000012653512115621955,
           0.00006550370792480047,
           0.000032317126198897614,
           0.000490157948963301,
           0.007084252673880489,
           0.07478815428283364,
           0.1505180638902294,
           0.23690187778029279,
           0.5507089135982715,
           1,
           0.3481412903192059,
           0.3729436680836294,
           0.0198269158458416,
           0.024793536339643575,
           0.00507843581282981,
           0.001424496094649118,
           0.0004379221966341338,
           0.00046860434916208907,
           0.00004321520924983878,
           2.7069291882474876e-8,
           2.364920722052491e-7,
           1.0168289347541834e-9,
           8.341401161083558e-12,
           1.4176630345560641e-11
          ],
          [
           1.450249679735154e-17,
           9.654706383228215e-14,
           3.211393990185144e-14,
           2.1806410800143945e-11,
           5.446803038068455e-12,
           7.127385901074282e-10,
           1.1934080595966506e-9,
           4.3373666334216375e-9,
           7.319367989521492e-9,
           1.7194329935998188e-8,
           4.957489567762136e-8,
           2.4519113385990644e-7,
           1.9409574271727466e-7,
           3.5883588815862885e-7,
           0.00031699928227764087,
           0.005013598900146386,
           0.010546897231105523,
           0.02499073659259804,
           0.11446824201255822,
           0.3481412903192059,
           1,
           1,
           0.22424452830608183,
           0.15906965188123823,
           0.06615259746138927,
           0.02298259190715704,
           0.011634454119925825,
           0.002942760530124976,
           0.0007667649897412908,
           0.0000028793907495367242,
           0.0000034525612188472383,
           2.0783545041774735e-8,
           2.6899026850690616e-9,
           7.252322160518573e-10
          ],
          [
           3.162946279828288e-17,
           3.5057799981190235e-13,
           9.952845271763166e-13,
           1.6010060804361699e-10,
           1.9393097995260696e-11,
           1.709865174269227e-9,
           6.88231823830183e-9,
           2.6140393458029345e-8,
           4.4793745175678225e-8,
           4.980762968257179e-8,
           0.0000017300043785001778,
           1.3172242120654855e-7,
           0.000002736780589985052,
           0.000008635781314660544,
           0.0004379221966341338,
           0.010063333265586338,
           0.013378703026003939,
           0.03130178457554002,
           0.1353504098348154,
           0.3729436680836294,
           1,
           1,
           0.2897982154050616,
           0.19534905940457784,
           0.09183767826908278,
           0.04476209415697338,
           0.029302222971632798,
           0.02097002953003506,
           0.0075848117754316186,
           0.00007291502428713535,
           0.000009685884063140466,
           0.0000027878838112871152,
           1.69872442575104e-8,
           1.2560405612579237e-7
          ],
          [
           8.634558219080549e-20,
           4.300826607582504e-18,
           4.098728148755534e-16,
           2.2089187156338813e-14,
           2.2601502838438826e-13,
           1.0657835390692565e-12,
           1.4176630345560641e-11,
           5.560432964003839e-11,
           1.4181822700488308e-10,
           1.4884906475803411e-10,
           4.157046960834439e-10,
           2.6899026850690616e-9,
           3.787227599932374e-9,
           2.0779877274240742e-8,
           0.000001670436795024911,
           0.00007804247056315925,
           0.0000906079859652185,
           0.0011510187915276821,
           0.00873510868433317,
           0.0198269158458416,
           0.22424452830608183,
           0.2897982154050616,
           1,
           0.8534084458955624,
           0.5984117182335192,
           0.3261341711919829,
           0.2407931245390016,
           0.15565646371399705,
           0.05681467793283902,
           0.0007317100653124087,
           0.0015647340261696686,
           0.000036700459237994134,
           9.322584031886636e-7,
           2.1054542433593656e-7
          ],
          [
           4.31422564584497e-22,
           1.1474562133221443e-16,
           2.391242454166262e-18,
           3.055970137442688e-14,
           4.721433127339268e-14,
           2.2601502838438826e-13,
           3.1880856558543937e-12,
           2.0789169979429998e-11,
           3.098472966432261e-12,
           5.13116239379527e-12,
           3.5862160099959136e-10,
           1.4884906475803411e-10,
           6.375481651166934e-10,
           7.127385901074282e-10,
           0.000005571423208480338,
           0.000046569869697466,
           0.00005459154357711447,
           0.00028452861891625184,
           0.0022094328919877613,
           0.024793536339643575,
           0.15906965188123823,
           0.19534905940457784,
           0.8534084458955624,
           1,
           0.8453703188825517,
           0.5726564757939484,
           0.43944010177908255,
           0.34689310509533516,
           0.17024239504607366,
           0.004640654088434308,
           0.0016590268898995495,
           0.00039070001552236726,
           0.000006775655653746717,
           0.00004609247371251201
          ],
          [
           2.587003859247397e-23,
           4.715659082533631e-18,
           1.0769168220004768e-18,
           5.198609903817759e-18,
           1.6977475366916752e-17,
           2.507729768138009e-14,
           4.045693021158809e-13,
           7.237227129476198e-14,
           1.1680094670975612e-12,
           6.366602155148437e-13,
           4.2224144708722095e-13,
           1.419861081655098e-11,
           3.7855174633264834e-11,
           1.4180922486418413e-9,
           2.4519113385990644e-7,
           0.0000025221536534654515,
           0.000009375635307717017,
           0.00007808423662658282,
           0.001412957498607674,
           0.00507843581282981,
           0.06615259746138927,
           0.09183767826908278,
           0.5984117182335192,
           0.8453703188825517,
           1,
           0.7643534344026669,
           0.59428829514694,
           0.46570744577306195,
           0.2836071084054854,
           0.010345913082728777,
           0.002878610081200932,
           0.0004379221966341338,
           0.0000022027598315502487,
           0.000020283289208145556
          ],
          [
           6.84026545842273e-24,
           1.1625691644538388e-20,
           7.386767234722092e-18,
           4.439257960696856e-17,
           4.300826607582504e-18,
           7.121860330286232e-16,
           2.792528455178105e-14,
           9.677506062033449e-14,
           1.2897655647164703e-14,
           1.9702912858306405e-12,
           1.87131274564586e-13,
           1.1680094670975612e-12,
           2.4575158375112673e-13,
           9.633963090742948e-11,
           1.9482376627755696e-9,
           1.7769640600713887e-7,
           0.0000019187392502875328,
           0.00001938048409366411,
           0.00030960246353573076,
           0.001424496094649118,
           0.02298259190715704,
           0.04476209415697338,
           0.3261341711919829,
           0.5726564757939484,
           0.7643534344026669,
           1,
           0.917923067315743,
           0.7620362195292438,
           0.5052364407669357,
           0.024622831581791033,
           0.02097002953003506,
           0.0016055649295642408,
           0.00012034422931947831,
           0.0002959601961545845
          ],
          [
           5.815315210521221e-24,
           1.1819170779356622e-21,
           2.0761409799356805e-19,
           1.450249679735154e-17,
           3.4466261850741707e-18,
           4.958638770872384e-16,
           5.056827098324028e-15,
           5.725061244691279e-15,
           1.6601952366746198e-13,
           2.792528455178105e-14,
           6.449578410896073e-14,
           4.248735618228405e-13,
           3.1880856558543937e-12,
           2.3144662509616954e-11,
           4.3373666334216375e-9,
           4.957489567762136e-8,
           0.0000018534768352189496,
           0.000013800344917800584,
           0.00038715513395483516,
           0.0004379221966341338,
           0.011634454119925825,
           0.029302222971632798,
           0.2407931245390016,
           0.43944010177908255,
           0.59428829514694,
           0.917923067315743,
           1,
           0.9151865048428764,
           0.6399729317539425,
           0.04459752462791592,
           0.03227202073309318,
           0.0041651140158244435,
           0.00010959860355569963,
           0.00026558534298746995
          ],
          [
           1.962657178574568e-26,
           3.518195580823734e-22,
           1.1819170779356622e-21,
           8.490021806129161e-19,
           4.0853725805661456e-19,
           6.780884736177504e-16,
           4.098728148755534e-16,
           2.355799901240388e-16,
           2.9566626383126712e-15,
           9.723859231682611e-15,
           7.970114680452795e-14,
           1.2897655647164703e-14,
           2.0753689196043157e-13,
           5.394032051902122e-13,
           4.4469352439058753e-10,
           2.87737462890791e-7,
           0.000001080908243358372,
           0.000005571423208480338,
           0.00008717436729426461,
           0.00046860434916208907,
           0.002942760530124976,
           0.02097002953003506,
           0.15565646371399705,
           0.34689310509533516,
           0.46570744577306195,
           0.7620362195292438,
           0.9151865048428764,
           1,
           0.8151212352249976,
           0.050452410247217666,
           0.04476209415697338,
           0.0021862431776861714,
           0.0007407952274121575,
           0.000263636776465269
          ],
          [
           8.260011277058911e-28,
           4.74093238312722e-24,
           1.6492278067940443e-23,
           1.4958728419663173e-19,
           7.837961736461263e-21,
           1.450249679735154e-17,
           3.487916162229429e-17,
           1.9786177986614588e-16,
           1.3522957587316638e-16,
           1.9758911914423336e-15,
           2.141608136429023e-15,
           9.723859231682611e-15,
           2.2089187156338813e-14,
           1.0994809875335328e-13,
           3.4675436577962654e-11,
           4.8181440754468005e-9,
           7.679430153026993e-8,
           7.293567965336598e-7,
           0.000019596368034800084,
           0.00004321520924983878,
           0.0007667649897412908,
           0.0075848117754316186,
           0.05681467793283902,
           0.17024239504607366,
           0.2836071084054854,
           0.5052364407669357,
           0.6399729317539425,
           0.8151212352249976,
           1,
           0.09592363141082376,
           0.07561910758625776,
           0.015232201861994662,
           0.000641248502169594,
           0.0005349642016498918
          ],
          [
           6.591678161717244e-32,
           3.8402956425115606e-28,
           1.962657178574568e-26,
           7.805904320346072e-24,
           2.587003859247397e-23,
           1.1384055538138498e-21,
           3.7982000367999554e-20,
           1.7582222198414876e-22,
           1.6733702780891284e-21,
           5.723995795100052e-19,
           3.207808350413538e-20,
           2.788349566618262e-19,
           1.8667049442323873e-19,
           9.432004555623528e-16,
           1.4016007077149398e-15,
           3.098472966432261e-12,
           2.3144662509616954e-11,
           1.984553317143075e-9,
           3.3173529174399884e-8,
           2.7069291882474876e-8,
           0.0000028793907495367242,
           0.00007291502428713535,
           0.0007317100653124087,
           0.004640654088434308,
           0.010345913082728777,
           0.024622831581791033,
           0.04459752462791592,
           0.050452410247217666,
           0.09592363141082376,
           1,
           0.7807391284762693,
           0.27995623852893914,
           0.06956519633623014,
           0.10534226887460482
          ],
          [
           2.269603084085948e-34,
           3.0554882002890587e-29,
           4.417855826116116e-28,
           7.0458837577401e-25,
           1.6869953653078252e-26,
           4.6966135406816054e-24,
           7.2744533233669705e-25,
           1.1693737942974311e-20,
           1.6790570008398702e-23,
           9.630639599627373e-23,
           9.247508456613193e-18,
           1.6733702780891284e-21,
           2.1638104132572854e-21,
           4.2608701445754604e-21,
           4.479313635598752e-13,
           1.1987559175109566e-12,
           1.3442945758766515e-11,
           2.2313814815989472e-11,
           4.659978428792858e-9,
           2.364920722052491e-7,
           0.0000034525612188472383,
           0.000009685884063140466,
           0.0015647340261696686,
           0.0016590268898995495,
           0.002878610081200932,
           0.02097002953003506,
           0.03227202073309318,
           0.04476209415697338,
           0.07561910758625776,
           0.7807391284762693,
           1,
           0.7788760920027011,
           0.15976150778501857,
           0.3148798910376229
          ],
          [
           1.7074014022960796e-35,
           5.166045778807018e-31,
           1.3833392965568367e-28,
           1.9582705465490264e-26,
           1.3576781839928254e-27,
           1.2868059091640347e-24,
           2.2438953310017013e-23,
           4.263429420007923e-25,
           4.0594773352756886e-23,
           1.2448774653760878e-21,
           3.0898216554634606e-23,
           1.6790570008398702e-23,
           1.6733702780891284e-21,
           3.6361201608796156e-19,
           6.156273065927667e-18,
           7.519631891796862e-15,
           7.970114680452795e-14,
           1.8819747521132473e-11,
           1.1612274833072096e-9,
           1.0168289347541834e-9,
           2.0783545041774735e-8,
           0.0000027878838112871152,
           0.000036700459237994134,
           0.00039070001552236726,
           0.0004379221966341338,
           0.0016055649295642408,
           0.0041651140158244435,
           0.0021862431776861714,
           0.015232201861994662,
           0.27995623852893914,
           0.7788760920027011,
           1,
           0.29423370844429203,
           0.5104099416812344
          ],
          [
           7.070419183978223e-39,
           6.201799122350081e-36,
           4.116489201690665e-33,
           7.352026653297796e-33,
           2.907347193787138e-30,
           1.9194190323593825e-29,
           4.789729026756024e-28,
           7.854293204336358e-26,
           9.191926693634371e-26,
           5.754681923240256e-27,
           2.108124581703748e-25,
           9.874919036815883e-25,
           3.772426917098371e-24,
           6.118483390473997e-23,
           2.923580700821239e-17,
           2.2210629525385693e-17,
           1.450249679735154e-17,
           2.403640054084458e-14,
           1.7449187258294395e-12,
           8.341401161083558e-12,
           2.6899026850690616e-9,
           1.69872442575104e-8,
           9.322584031886636e-7,
           0.000006775655653746717,
           0.0000022027598315502487,
           0.00012034422931947831,
           0.00010959860355569963,
           0.0007407952274121575,
           0.000641248502169594,
           0.06956519633623014,
           0.15976150778501857,
           0.29423370844429203,
           1,
           0.6991749840078747
          ],
          [
           2.1416199587982634e-35,
           2.797312157195774e-32,
           2.0745989755018755e-32,
           8.95281620858886e-28,
           2.574736689877734e-28,
           5.738497867872483e-26,
           3.4647755616804067e-25,
           1.4907381626203358e-24,
           2.108124581703748e-25,
           3.855331674762765e-25,
           4.283133267277142e-24,
           6.84026545842273e-24,
           7.33836423851677e-23,
           1.6790570008398702e-23,
           1.0387903364952914e-19,
           7.752808767891496e-17,
           4.700941065418037e-17,
           4.479313635598752e-13,
           7.793986201015429e-11,
           1.4176630345560641e-11,
           7.252322160518573e-10,
           1.2560405612579237e-7,
           2.1054542433593656e-7,
           0.00004609247371251201,
           0.000020283289208145556,
           0.0002959601961545845,
           0.00026558534298746995,
           0.000263636776465269,
           0.0005349642016498918,
           0.10534226887460482,
           0.3148798910376229,
           0.5104099416812344,
           0.6991749840078747,
           1
          ]
         ]
        }
       ],
       "layout": {
        "coloraxis": {
         "colorscale": [
          [
           0,
           "#0d0887"
          ],
          [
           0.1111111111111111,
           "#46039f"
          ],
          [
           0.2222222222222222,
           "#7201a8"
          ],
          [
           0.3333333333333333,
           "#9c179e"
          ],
          [
           0.4444444444444444,
           "#bd3786"
          ],
          [
           0.5555555555555556,
           "#d8576b"
          ],
          [
           0.6666666666666666,
           "#ed7953"
          ],
          [
           0.7777777777777778,
           "#fb9f3a"
          ],
          [
           0.8888888888888888,
           "#fdca26"
          ],
          [
           1,
           "#f0f921"
          ]
         ]
        },
        "height": 900,
        "template": {
         "data": {
          "bar": [
           {
            "error_x": {
             "color": "#2a3f5f"
            },
            "error_y": {
             "color": "#2a3f5f"
            },
            "marker": {
             "line": {
              "color": "#E5ECF6",
              "width": 0.5
             },
             "pattern": {
              "fillmode": "overlay",
              "size": 10,
              "solidity": 0.2
             }
            },
            "type": "bar"
           }
          ],
          "barpolar": [
           {
            "marker": {
             "line": {
              "color": "#E5ECF6",
              "width": 0.5
             },
             "pattern": {
              "fillmode": "overlay",
              "size": 10,
              "solidity": 0.2
             }
            },
            "type": "barpolar"
           }
          ],
          "carpet": [
           {
            "aaxis": {
             "endlinecolor": "#2a3f5f",
             "gridcolor": "white",
             "linecolor": "white",
             "minorgridcolor": "white",
             "startlinecolor": "#2a3f5f"
            },
            "baxis": {
             "endlinecolor": "#2a3f5f",
             "gridcolor": "white",
             "linecolor": "white",
             "minorgridcolor": "white",
             "startlinecolor": "#2a3f5f"
            },
            "type": "carpet"
           }
          ],
          "choropleth": [
           {
            "colorbar": {
             "outlinewidth": 0,
             "ticks": ""
            },
            "type": "choropleth"
           }
          ],
          "contour": [
           {
            "colorbar": {
             "outlinewidth": 0,
             "ticks": ""
            },
            "colorscale": [
             [
              0,
              "#0d0887"
             ],
             [
              0.1111111111111111,
              "#46039f"
             ],
             [
              0.2222222222222222,
              "#7201a8"
             ],
             [
              0.3333333333333333,
              "#9c179e"
             ],
             [
              0.4444444444444444,
              "#bd3786"
             ],
             [
              0.5555555555555556,
              "#d8576b"
             ],
             [
              0.6666666666666666,
              "#ed7953"
             ],
             [
              0.7777777777777778,
              "#fb9f3a"
             ],
             [
              0.8888888888888888,
              "#fdca26"
             ],
             [
              1,
              "#f0f921"
             ]
            ],
            "type": "contour"
           }
          ],
          "contourcarpet": [
           {
            "colorbar": {
             "outlinewidth": 0,
             "ticks": ""
            },
            "type": "contourcarpet"
           }
          ],
          "heatmap": [
           {
            "colorbar": {
             "outlinewidth": 0,
             "ticks": ""
            },
            "colorscale": [
             [
              0,
              "#0d0887"
             ],
             [
              0.1111111111111111,
              "#46039f"
             ],
             [
              0.2222222222222222,
              "#7201a8"
             ],
             [
              0.3333333333333333,
              "#9c179e"
             ],
             [
              0.4444444444444444,
              "#bd3786"
             ],
             [
              0.5555555555555556,
              "#d8576b"
             ],
             [
              0.6666666666666666,
              "#ed7953"
             ],
             [
              0.7777777777777778,
              "#fb9f3a"
             ],
             [
              0.8888888888888888,
              "#fdca26"
             ],
             [
              1,
              "#f0f921"
             ]
            ],
            "type": "heatmap"
           }
          ],
          "heatmapgl": [
           {
            "colorbar": {
             "outlinewidth": 0,
             "ticks": ""
            },
            "colorscale": [
             [
              0,
              "#0d0887"
             ],
             [
              0.1111111111111111,
              "#46039f"
             ],
             [
              0.2222222222222222,
              "#7201a8"
             ],
             [
              0.3333333333333333,
              "#9c179e"
             ],
             [
              0.4444444444444444,
              "#bd3786"
             ],
             [
              0.5555555555555556,
              "#d8576b"
             ],
             [
              0.6666666666666666,
              "#ed7953"
             ],
             [
              0.7777777777777778,
              "#fb9f3a"
             ],
             [
              0.8888888888888888,
              "#fdca26"
             ],
             [
              1,
              "#f0f921"
             ]
            ],
            "type": "heatmapgl"
           }
          ],
          "histogram": [
           {
            "marker": {
             "pattern": {
              "fillmode": "overlay",
              "size": 10,
              "solidity": 0.2
             }
            },
            "type": "histogram"
           }
          ],
          "histogram2d": [
           {
            "colorbar": {
             "outlinewidth": 0,
             "ticks": ""
            },
            "colorscale": [
             [
              0,
              "#0d0887"
             ],
             [
              0.1111111111111111,
              "#46039f"
             ],
             [
              0.2222222222222222,
              "#7201a8"
             ],
             [
              0.3333333333333333,
              "#9c179e"
             ],
             [
              0.4444444444444444,
              "#bd3786"
             ],
             [
              0.5555555555555556,
              "#d8576b"
             ],
             [
              0.6666666666666666,
              "#ed7953"
             ],
             [
              0.7777777777777778,
              "#fb9f3a"
             ],
             [
              0.8888888888888888,
              "#fdca26"
             ],
             [
              1,
              "#f0f921"
             ]
            ],
            "type": "histogram2d"
           }
          ],
          "histogram2dcontour": [
           {
            "colorbar": {
             "outlinewidth": 0,
             "ticks": ""
            },
            "colorscale": [
             [
              0,
              "#0d0887"
             ],
             [
              0.1111111111111111,
              "#46039f"
             ],
             [
              0.2222222222222222,
              "#7201a8"
             ],
             [
              0.3333333333333333,
              "#9c179e"
             ],
             [
              0.4444444444444444,
              "#bd3786"
             ],
             [
              0.5555555555555556,
              "#d8576b"
             ],
             [
              0.6666666666666666,
              "#ed7953"
             ],
             [
              0.7777777777777778,
              "#fb9f3a"
             ],
             [
              0.8888888888888888,
              "#fdca26"
             ],
             [
              1,
              "#f0f921"
             ]
            ],
            "type": "histogram2dcontour"
           }
          ],
          "mesh3d": [
           {
            "colorbar": {
             "outlinewidth": 0,
             "ticks": ""
            },
            "type": "mesh3d"
           }
          ],
          "parcoords": [
           {
            "line": {
             "colorbar": {
              "outlinewidth": 0,
              "ticks": ""
             }
            },
            "type": "parcoords"
           }
          ],
          "pie": [
           {
            "automargin": true,
            "type": "pie"
           }
          ],
          "scatter": [
           {
            "fillpattern": {
             "fillmode": "overlay",
             "size": 10,
             "solidity": 0.2
            },
            "type": "scatter"
           }
          ],
          "scatter3d": [
           {
            "line": {
             "colorbar": {
              "outlinewidth": 0,
              "ticks": ""
             }
            },
            "marker": {
             "colorbar": {
              "outlinewidth": 0,
              "ticks": ""
             }
            },
            "type": "scatter3d"
           }
          ],
          "scattercarpet": [
           {
            "marker": {
             "colorbar": {
              "outlinewidth": 0,
              "ticks": ""
             }
            },
            "type": "scattercarpet"
           }
          ],
          "scattergeo": [
           {
            "marker": {
             "colorbar": {
              "outlinewidth": 0,
              "ticks": ""
             }
            },
            "type": "scattergeo"
           }
          ],
          "scattergl": [
           {
            "marker": {
             "colorbar": {
              "outlinewidth": 0,
              "ticks": ""
             }
            },
            "type": "scattergl"
           }
          ],
          "scattermapbox": [
           {
            "marker": {
             "colorbar": {
              "outlinewidth": 0,
              "ticks": ""
             }
            },
            "type": "scattermapbox"
           }
          ],
          "scatterpolar": [
           {
            "marker": {
             "colorbar": {
              "outlinewidth": 0,
              "ticks": ""
             }
            },
            "type": "scatterpolar"
           }
          ],
          "scatterpolargl": [
           {
            "marker": {
             "colorbar": {
              "outlinewidth": 0,
              "ticks": ""
             }
            },
            "type": "scatterpolargl"
           }
          ],
          "scatterternary": [
           {
            "marker": {
             "colorbar": {
              "outlinewidth": 0,
              "ticks": ""
             }
            },
            "type": "scatterternary"
           }
          ],
          "surface": [
           {
            "colorbar": {
             "outlinewidth": 0,
             "ticks": ""
            },
            "colorscale": [
             [
              0,
              "#0d0887"
             ],
             [
              0.1111111111111111,
              "#46039f"
             ],
             [
              0.2222222222222222,
              "#7201a8"
             ],
             [
              0.3333333333333333,
              "#9c179e"
             ],
             [
              0.4444444444444444,
              "#bd3786"
             ],
             [
              0.5555555555555556,
              "#d8576b"
             ],
             [
              0.6666666666666666,
              "#ed7953"
             ],
             [
              0.7777777777777778,
              "#fb9f3a"
             ],
             [
              0.8888888888888888,
              "#fdca26"
             ],
             [
              1,
              "#f0f921"
             ]
            ],
            "type": "surface"
           }
          ],
          "table": [
           {
            "cells": {
             "fill": {
              "color": "#EBF0F8"
             },
             "line": {
              "color": "white"
             }
            },
            "header": {
             "fill": {
              "color": "#C8D4E3"
             },
             "line": {
              "color": "white"
             }
            },
            "type": "table"
           }
          ]
         },
         "layout": {
          "annotationdefaults": {
           "arrowcolor": "#2a3f5f",
           "arrowhead": 0,
           "arrowwidth": 1
          },
          "autotypenumbers": "strict",
          "coloraxis": {
           "colorbar": {
            "outlinewidth": 0,
            "ticks": ""
           }
          },
          "colorscale": {
           "diverging": [
            [
             0,
             "#8e0152"
            ],
            [
             0.1,
             "#c51b7d"
            ],
            [
             0.2,
             "#de77ae"
            ],
            [
             0.3,
             "#f1b6da"
            ],
            [
             0.4,
             "#fde0ef"
            ],
            [
             0.5,
             "#f7f7f7"
            ],
            [
             0.6,
             "#e6f5d0"
            ],
            [
             0.7,
             "#b8e186"
            ],
            [
             0.8,
             "#7fbc41"
            ],
            [
             0.9,
             "#4d9221"
            ],
            [
             1,
             "#276419"
            ]
           ],
           "sequential": [
            [
             0,
             "#0d0887"
            ],
            [
             0.1111111111111111,
             "#46039f"
            ],
            [
             0.2222222222222222,
             "#7201a8"
            ],
            [
             0.3333333333333333,
             "#9c179e"
            ],
            [
             0.4444444444444444,
             "#bd3786"
            ],
            [
             0.5555555555555556,
             "#d8576b"
            ],
            [
             0.6666666666666666,
             "#ed7953"
            ],
            [
             0.7777777777777778,
             "#fb9f3a"
            ],
            [
             0.8888888888888888,
             "#fdca26"
            ],
            [
             1,
             "#f0f921"
            ]
           ],
           "sequentialminus": [
            [
             0,
             "#0d0887"
            ],
            [
             0.1111111111111111,
             "#46039f"
            ],
            [
             0.2222222222222222,
             "#7201a8"
            ],
            [
             0.3333333333333333,
             "#9c179e"
            ],
            [
             0.4444444444444444,
             "#bd3786"
            ],
            [
             0.5555555555555556,
             "#d8576b"
            ],
            [
             0.6666666666666666,
             "#ed7953"
            ],
            [
             0.7777777777777778,
             "#fb9f3a"
            ],
            [
             0.8888888888888888,
             "#fdca26"
            ],
            [
             1,
             "#f0f921"
            ]
           ]
          },
          "colorway": [
           "#636efa",
           "#EF553B",
           "#00cc96",
           "#ab63fa",
           "#FFA15A",
           "#19d3f3",
           "#FF6692",
           "#B6E880",
           "#FF97FF",
           "#FECB52"
          ],
          "font": {
           "color": "#2a3f5f"
          },
          "geo": {
           "bgcolor": "white",
           "lakecolor": "white",
           "landcolor": "#E5ECF6",
           "showlakes": true,
           "showland": true,
           "subunitcolor": "white"
          },
          "hoverlabel": {
           "align": "left"
          },
          "hovermode": "closest",
          "mapbox": {
           "style": "light"
          },
          "paper_bgcolor": "white",
          "plot_bgcolor": "#E5ECF6",
          "polar": {
           "angularaxis": {
            "gridcolor": "white",
            "linecolor": "white",
            "ticks": ""
           },
           "bgcolor": "#E5ECF6",
           "radialaxis": {
            "gridcolor": "white",
            "linecolor": "white",
            "ticks": ""
           }
          },
          "scene": {
           "xaxis": {
            "backgroundcolor": "#E5ECF6",
            "gridcolor": "white",
            "gridwidth": 2,
            "linecolor": "white",
            "showbackground": true,
            "ticks": "",
            "zerolinecolor": "white"
           },
           "yaxis": {
            "backgroundcolor": "#E5ECF6",
            "gridcolor": "white",
            "gridwidth": 2,
            "linecolor": "white",
            "showbackground": true,
            "ticks": "",
            "zerolinecolor": "white"
           },
           "zaxis": {
            "backgroundcolor": "#E5ECF6",
            "gridcolor": "white",
            "gridwidth": 2,
            "linecolor": "white",
            "showbackground": true,
            "ticks": "",
            "zerolinecolor": "white"
           }
          },
          "shapedefaults": {
           "line": {
            "color": "#2a3f5f"
           }
          },
          "ternary": {
           "aaxis": {
            "gridcolor": "white",
            "linecolor": "white",
            "ticks": ""
           },
           "baxis": {
            "gridcolor": "white",
            "linecolor": "white",
            "ticks": ""
           },
           "bgcolor": "#E5ECF6",
           "caxis": {
            "gridcolor": "white",
            "linecolor": "white",
            "ticks": ""
           }
          },
          "title": {
           "x": 0.05
          },
          "xaxis": {
           "automargin": true,
           "gridcolor": "white",
           "linecolor": "white",
           "ticks": "",
           "title": {
            "standoff": 15
           },
           "zerolinecolor": "white",
           "zerolinewidth": 2
          },
          "yaxis": {
           "automargin": true,
           "gridcolor": "white",
           "linecolor": "white",
           "ticks": "",
           "title": {
            "standoff": 15
           },
           "zerolinecolor": "white",
           "zerolinewidth": 2
          }
         }
        },
        "title": {
         "text": "p-values mbpp+",
         "x": 0.5,
         "y": 0.07
        },
        "width": 900,
        "xaxis": {
         "anchor": "y",
         "constrain": "domain",
         "domain": [
          0,
          1
         ],
         "scaleanchor": "y",
         "side": "top",
         "title": {
          "text": " Model B"
         }
        },
        "yaxis": {
         "anchor": "x",
         "autorange": "reversed",
         "constrain": "domain",
         "domain": [
          0,
          1
         ],
         "title": {
          "text": "Model A"
         }
        }
       }
      },
      "text/html": [
       "<div>                            <div id=\"fbaeda59-fbe6-4dfa-b786-3e1d8cb57126\" class=\"plotly-graph-div\" style=\"height:900px; width:900px;\"></div>            <script type=\"text/javascript\">                require([\"plotly\"], function(Plotly) {                    window.PLOTLYENV=window.PLOTLYENV || {};                                    if (document.getElementById(\"fbaeda59-fbe6-4dfa-b786-3e1d8cb57126\")) {                    Plotly.newPlot(                        \"fbaeda59-fbe6-4dfa-b786-3e1d8cb57126\",                        [{\"coloraxis\":\"coloraxis\",\"name\":\"0\",\"texttemplate\":\"%{z:.2f}\",\"x\":[\"gpt-4-1106-preview\",\"meta-llama-3-70b-instruct\",\"opencodeinterpreter-ds-33b\",\"white-rabbit-neo-33b-v1\",\"opencodeinterpreter-ds-6.7b\",\"deepseek-coder-6.7b-instruct\",\"xwincoder-34b\",\"bigcode--starcoder2-15b-instruct-v0.1\",\"HuggingFaceH4--starchat2-15b-v0.1\",\"mixtral-8x22b-instruct-v0.1\",\"starcoder2-15b-oci\",\"CohereForAI--c4ai-command-r-plus\",\"speechless-starcoder2-15b\",\"Qwen--Qwen1.5-72B-Chat\",\"deepseek-coder-6.7b-base\",\"codegemma-7b-it\",\"speechless-starcoder2-7b\",\"databricks--dbrx-instruct\",\"microsoft--Phi-3-mini-4k-instruct\",\"codegemma-7b\",\"octocoder\",\"mixtral-8x7b-instruct\",\"codegemma-2b\",\"open-hermes-2.5-code-290k-13b\",\"gemma-1.1-7b-it\",\"starcoder2-3b\",\"gemma-7b\",\"codegen-6b\",\"mistral-7b\",\"codet5p-2b\",\"mistralai--Mistral-7B-Instruct-v0.2\",\"codegen-2b\",\"gemma-7b-it\",\"gemma-2b\"],\"y\":[\"gpt-4-1106-preview\",\"meta-llama-3-70b-instruct\",\"opencodeinterpreter-ds-33b\",\"white-rabbit-neo-33b-v1\",\"opencodeinterpreter-ds-6.7b\",\"deepseek-coder-6.7b-instruct\",\"xwincoder-34b\",\"bigcode--starcoder2-15b-instruct-v0.1\",\"HuggingFaceH4--starchat2-15b-v0.1\",\"mixtral-8x22b-instruct-v0.1\",\"starcoder2-15b-oci\",\"CohereForAI--c4ai-command-r-plus\",\"speechless-starcoder2-15b\",\"Qwen--Qwen1.5-72B-Chat\",\"deepseek-coder-6.7b-base\",\"codegemma-7b-it\",\"speechless-starcoder2-7b\",\"databricks--dbrx-instruct\",\"microsoft--Phi-3-mini-4k-instruct\",\"codegemma-7b\",\"octocoder\",\"mixtral-8x7b-instruct\",\"codegemma-2b\",\"open-hermes-2.5-code-290k-13b\",\"gemma-1.1-7b-it\",\"starcoder2-3b\",\"gemma-7b\",\"codegen-6b\",\"mistral-7b\",\"codet5p-2b\",\"mistralai--Mistral-7B-Instruct-v0.2\",\"codegen-2b\",\"gemma-7b-it\",\"gemma-2b\"],\"z\":[[1.0,0.05589722669971112,0.04739297550405176,0.007905180027859783,0.002942760530124976,0.0012632268710478355,0.0003129786008370502,0.0006393977673643526,0.00014163707253552724,0.0001206291159979032,0.00007657072931048342,0.00003761512780416609,5.656214894965935e-6,4.935351419046992e-6,2.4928338709270455e-8,1.6606697571045604e-10,2.0744109143956072e-11,7.380354309112728e-12,5.912079008704511e-13,1.4727515742257347e-14,1.450249679735154e-17,3.162946279828288e-17,8.634558219080549e-20,4.31422564584497e-22,2.587003859247397e-23,6.84026545842273e-24,5.815315210521221e-24,1.962657178574568e-26,8.260011277058911e-28,6.591678161717244e-32,2.269603084085948e-34,1.7074014022960796e-35,7.070419183978223e-39,2.1416199587982634e-35],[0.05589722669971112,1.0,0.8990763136528589,0.36629400670329104,0.2450608330229457,0.10478948242660333,0.044046546102150766,0.08168153394154003,0.030028945411892487,0.027340133868077935,0.008146902228698568,0.009853448195259268,0.001263559472435463,0.00039404324272610154,3.753237688593051e-6,1.2750032374450517e-8,8.055498526741105e-9,1.1363565084238009e-7,3.221505246540145e-8,6.007962189879819e-11,9.654706383228215e-14,3.5057799981190235e-13,4.300826607582504e-18,1.1474562133221443e-16,4.715659082533631e-18,1.1625691644538388e-20,1.1819170779356622e-21,3.518195580823734e-22,4.74093238312722e-24,3.8402956425115606e-28,3.0554882002890587e-29,5.166045778807018e-31,6.201799122350081e-36,2.797312157195774e-32],[0.04739297550405176,0.8990763136528589,1.0,0.49661743531793345,0.3817327947933377,0.2145391940081784,0.10342187831608088,0.1539127693264563,0.09118649056701154,0.07223792719176257,0.022462895492509273,0.034415913668175036,0.006741447363103123,0.0012990027709550095,0.000022429642158970264,2.8793907495367242e-6,6.221761416347879e-8,5.348143171041871e-7,5.513580775850052e-8,1.0696750216702928e-9,3.211393990185144e-14,9.952845271763166e-13,4.098728148755534e-16,2.391242454166262e-18,1.0769168220004768e-18,7.386767234722092e-18,2.0761409799356805e-19,1.1819170779356622e-21,1.6492278067940443e-23,1.962657178574568e-26,4.417855826116116e-28,1.3833392965568367e-28,4.116489201690665e-33,2.0745989755018755e-32],[0.007905180027859783,0.36629400670329104,0.49661743531793345,1.0,0.8974218269914307,0.6399729317539425,0.36629400670329104,0.47036853185814453,0.3284320626971897,0.2450608330229457,0.10885696440971612,0.19276043534155876,0.03961701489849968,0.01865726035402101,0.0006393977673643526,0.00005083654201844156,6.41506390670917e-6,0.000010902049191089246,9.69923242552742e-7,1.7194329935998188e-8,2.1806410800143945e-11,1.6010060804361699e-10,2.2089187156338813e-14,3.055970137442688e-14,5.198609903817759e-18,4.439257960696856e-17,1.450249679735154e-17,8.490021806129161e-19,1.4958728419663173e-19,7.805904320346072e-24,7.0458837577401e-25,1.9582705465490264e-26,7.352026653297796e-33,8.95281620858886e-28],[0.002942760530124976,0.2450608330229457,0.3817327947933377,0.8974218269914307,1.0,0.755228657504631,0.5189580031896519,0.6353076420876663,0.46381761789686937,0.3890524605477928,0.18821620302302766,0.24804574189252784,0.08643723427347082,0.038460053348927506,0.0009142745821630902,0.00013037942991199537,8.14003082672391e-6,0.000023726590787439646,4.748492975346606e-7,1.2968749869187788e-8,5.446803038068455e-12,1.9393097995260696e-11,2.2601502838438826e-13,4.721433127339268e-14,1.6977475366916752e-17,4.300826607582504e-18,3.4466261850741707e-18,4.0853725805661456e-19,7.837961736461263e-21,2.587003859247397e-23,1.6869953653078252e-26,1.3576781839928254e-27,2.907347193787138e-30,2.574736689877734e-28],[0.0012632268710478355,0.10478948242660333,0.2145391940081784,0.6399729317539425,0.755228657504631,1.0,0.7981526273057179,0.9035973456835127,0.716300760154337,0.6146550157654618,0.36203179773966154,0.39612484029702977,0.1945051658673991,0.09592363141082376,0.002942760530124976,0.0003783427631607787,0.000029304321745456655,0.00010992624937112814,4.348703111758687e-6,1.1363565084238009e-7,7.127385901074282e-10,1.709865174269227e-9,1.0657835390692565e-12,2.2601502838438826e-13,2.507729768138009e-14,7.121860330286232e-16,4.958638770872384e-16,6.780884736177504e-16,1.450249679735154e-17,1.1384055538138498e-21,4.6966135406816054e-24,1.2868059091640347e-24,1.9194190323593825e-29,5.738497867872483e-26],[0.0003129786008370502,0.044046546102150766,0.10342187831608088,0.36629400670329104,0.5189580031896519,0.7981526273057179,1.0,1.0,1.0,0.8956832138895906,0.5504125118224712,0.6444639138942256,0.2624375357110438,0.1550019040032606,0.008554538502693429,0.0007645817391550476,0.00013083876154198454,0.0001206291159979032,0.000023726590787439646,1.1026255560645484e-6,1.1934080595966506e-9,6.88231823830183e-9,1.4176630345560641e-11,3.1880856558543937e-12,4.045693021158809e-13,2.792528455178105e-14,5.056827098324028e-15,4.098728148755534e-16,3.487916162229429e-17,3.7982000367999554e-20,7.2744533233669705e-25,2.2438953310017013e-23,4.789729026756024e-28,3.4647755616804067e-25],[0.0006393977673643526,0.08168153394154003,0.1539127693264563,0.47036853185814453,0.6353076420876663,0.9035973456835127,1.0,1.0,0.9087769252754927,0.8198929037490488,0.4426260049464714,0.5764306261883931,0.23704711476271959,0.17661055306016424,0.006309827313666047,0.0013352623656219375,0.0003783427631607787,0.00026558534298746995,0.00003803794805755345,1.2796062450772919e-6,4.3373666334216375e-9,2.6140393458029345e-8,5.560432964003839e-11,2.0789169979429998e-11,7.237227129476198e-14,9.677506062033449e-14,5.725061244691279e-15,2.355799901240388e-16,1.9786177986614588e-16,1.7582222198414876e-22,1.1693737942974311e-20,4.263429420007923e-25,7.854293204336358e-26,1.4907381626203358e-24],[0.00014163707253552724,0.030028945411892487,0.09118649056701154,0.3284320626971897,0.46381761789686937,0.716300760154337,1.0,0.9087769252754927,1.0,1.0,0.6444639138942256,0.7079807541347641,0.3317497633694906,0.241644723140752,0.0198269158458416,0.0019314374822250477,0.00024439701657757496,0.0006102590502807983,0.000034799669459257334,7.366510614966003e-6,7.319367989521492e-9,4.4793745175678225e-8,1.4181822700488308e-10,3.098472966432261e-12,1.1680094670975612e-12,1.2897655647164703e-14,1.6601952366746198e-13,2.9566626383126712e-15,1.3522957587316638e-16,1.6733702780891284e-21,1.6790570008398702e-23,4.0594773352756886e-23,9.191926693634371e-26,2.108124581703748e-25],[0.0001206291159979032,0.027340133868077935,0.07223792719176257,0.2450608330229457,0.3890524605477928,0.6146550157654618,0.8956832138895906,0.8198929037490488,1.0,1.0,0.7343420330298466,0.8071946913670247,0.46381761789686937,0.25285439418811073,0.02029840699010744,0.0037465093469812305,0.0014044946311139559,0.0007317100653124087,0.00011112062020663294,4.271012269463366e-6,1.7194329935998188e-8,4.980762968257179e-8,1.4884906475803411e-10,5.13116239379527e-12,6.366602155148437e-13,1.9702912858306405e-12,2.792528455178105e-14,9.723859231682611e-15,1.9758911914423336e-15,5.723995795100052e-19,9.630639599627373e-23,1.2448774653760878e-21,5.754681923240256e-27,3.855331674762765e-25],[0.00007657072931048342,0.008146902228698568,0.022462895492509273,0.10885696440971612,0.18821620302302766,0.36203179773966154,0.5504125118224712,0.4426260049464714,0.6444639138942256,0.7343420330298466,1.0,1.0,0.7708669945730263,0.5715867180030723,0.0463534743329112,0.007084252673880489,0.0021862431776861714,0.0041651140158244435,0.000986536808184603,0.000012653512115621955,4.957489567762136e-8,1.7300043785001778e-6,4.157046960834439e-10,3.5862160099959136e-10,4.2224144708722095e-13,1.87131274564586e-13,6.449578410896073e-14,7.970114680452795e-14,2.141608136429023e-15,3.207808350413538e-20,9.247508456613193e-18,3.0898216554634606e-23,2.108124581703748e-25,4.283133267277142e-24],[0.00003761512780416609,0.009853448195259268,0.034415913668175036,0.19276043534155876,0.24804574189252784,0.39612484029702977,0.6444639138942256,0.5764306261883931,0.7079807541347641,0.8071946913670247,1.0,1.0,0.7122308826373509,0.48868297090314317,0.06615259746138927,0.010546897231105523,0.0024442284992149655,0.0034618534914423785,0.0009231579958033549,0.00006550370792480047,2.4519113385990644e-7,1.3172242120654855e-7,2.6899026850690616e-9,1.4884906475803411e-10,1.419861081655098e-11,1.1680094670975612e-12,4.248735618228405e-13,1.2897655647164703e-14,9.723859231682611e-15,2.788349566618262e-19,1.6733702780891284e-21,1.6790570008398702e-23,9.874919036815883e-25,6.84026545842273e-24],[5.656214894965935e-6,0.001263559472435463,0.006741447363103123,0.03961701489849968,0.08643723427347082,0.1945051658673991,0.2624375357110438,0.23704711476271959,0.3317497633694906,0.46381761789686937,0.7708669945730263,0.7122308826373509,1.0,0.8099490529189248,0.11425430684992327,0.01861775143319464,0.005152397042092064,0.008036706377857002,0.0015165131944572209,0.000032317126198897614,1.9409574271727466e-7,2.736780589985052e-6,3.787227599932374e-9,6.375481651166934e-10,3.7855174633264834e-11,2.4575158375112673e-13,3.1880856558543937e-12,2.0753689196043157e-13,2.2089187156338813e-14,1.8667049442323873e-19,2.1638104132572854e-21,1.6733702780891284e-21,3.772426917098371e-24,7.33836423851677e-23],[4.935351419046992e-6,0.00039404324272610154,0.0012990027709550095,0.01865726035402101,0.038460053348927506,0.09592363141082376,0.1550019040032606,0.17661055306016424,0.241644723140752,0.25285439418811073,0.5715867180030723,0.48868297090314317,0.8099490529189248,1.0,0.24804574189252784,0.050452410247217666,0.028626655508737896,0.021383189937144585,0.00507843581282981,0.000490157948963301,3.5883588815862885e-7,8.635781314660544e-6,2.0779877274240742e-8,7.127385901074282e-10,1.4180922486418413e-9,9.633963090742948e-11,2.3144662509616954e-11,5.394032051902122e-13,1.0994809875335328e-13,9.432004555623528e-16,4.2608701445754604e-21,3.6361201608796156e-19,6.118483390473997e-23,1.6790570008398702e-23],[2.4928338709270455e-8,3.753237688593051e-6,0.000022429642158970264,0.0006393977673643526,0.0009142745821630902,0.002942760530124976,0.008554538502693429,0.006309827313666047,0.0198269158458416,0.02029840699010744,0.0463534743329112,0.06615259746138927,0.11425430684992327,0.24804574189252784,1.0,0.48278855684402133,0.36203179773966154,0.2779992890805517,0.10735158653318887,0.007084252673880489,0.00031699928227764087,0.0004379221966341338,1.670436795024911e-6,5.571423208480338e-6,2.4519113385990644e-7,1.9482376627755696e-9,4.3373666334216375e-9,4.4469352439058753e-10,3.4675436577962654e-11,1.4016007077149398e-15,4.479313635598752e-13,6.156273065927667e-18,2.923580700821239e-17,1.0387903364952914e-19],[1.6606697571045604e-10,1.2750032374450517e-8,2.8793907495367242e-6,0.00005083654201844156,0.00013037942991199537,0.0003783427631607787,0.0007645817391550476,0.0013352623656219375,0.0019314374822250477,0.0037465093469812305,0.007084252673880489,0.010546897231105523,0.01861775143319464,0.050452410247217666,0.48278855684402133,1.0,0.9099464518745242,0.7546517496104984,0.3865726089882613,0.07478815428283364,0.005013598900146386,0.010063333265586338,0.00007804247056315925,0.000046569869697466,2.5221536534654515e-6,1.7769640600713887e-7,4.957489567762136e-8,2.87737462890791e-7,4.8181440754468005e-9,3.098472966432261e-12,1.1987559175109566e-12,7.519631891796862e-15,2.2210629525385693e-17,7.752808767891496e-17],[2.0744109143956072e-11,8.055498526741105e-9,6.221761416347879e-8,6.41506390670917e-6,8.14003082672391e-6,0.000029304321745456655,0.00013083876154198454,0.0003783427631607787,0.00024439701657757496,0.0014044946311139559,0.0021862431776861714,0.0024442284992149655,0.005152397042092064,0.028626655508737896,0.36203179773966154,0.9099464518745242,1.0,0.9142116370824498,0.46570744577306195,0.1505180638902294,0.010546897231105523,0.013378703026003939,0.0000906079859652185,0.00005459154357711447,9.375635307717017e-6,1.9187392502875328e-6,1.8534768352189496e-6,1.080908243358372e-6,7.679430153026993e-8,2.3144662509616954e-11,1.3442945758766515e-11,7.970114680452795e-14,1.450249679735154e-17,4.700941065418037e-17],[7.380354309112728e-12,1.1363565084238009e-7,5.348143171041871e-7,0.000010902049191089246,0.000023726590787439646,0.00010992624937112814,0.0001206291159979032,0.00026558534298746995,0.0006102590502807983,0.0007317100653124087,0.0041651140158244435,0.0034618534914423785,0.008036706377857002,0.021383189937144585,0.2779992890805517,0.7546517496104984,0.9142116370824498,1.0,0.610068266105178,0.23690187778029279,0.02499073659259804,0.03130178457554002,0.0011510187915276821,0.00028452861891625184,0.00007808423662658282,0.00001938048409366411,0.000013800344917800584,5.571423208480338e-6,7.293567965336598e-7,1.984553317143075e-9,2.2313814815989472e-11,1.8819747521132473e-11,2.403640054084458e-14,4.479313635598752e-13],[5.912079008704511e-13,3.221505246540145e-8,5.513580775850052e-8,9.69923242552742e-7,4.748492975346606e-7,4.348703111758687e-6,0.000023726590787439646,0.00003803794805755345,0.000034799669459257334,0.00011112062020663294,0.000986536808184603,0.0009231579958033549,0.0015165131944572209,0.00507843581282981,0.10735158653318887,0.3865726089882613,0.46570744577306195,0.610068266105178,1.0,0.5507089135982715,0.11446824201255822,0.1353504098348154,0.00873510868433317,0.0022094328919877613,0.001412957498607674,0.00030960246353573076,0.00038715513395483516,0.00008717436729426461,0.000019596368034800084,3.3173529174399884e-8,4.659978428792858e-9,1.1612274833072096e-9,1.7449187258294395e-12,7.793986201015429e-11],[1.4727515742257347e-14,6.007962189879819e-11,1.0696750216702928e-9,1.7194329935998188e-8,1.2968749869187788e-8,1.1363565084238009e-7,1.1026255560645484e-6,1.2796062450772919e-6,7.366510614966003e-6,4.271012269463366e-6,0.000012653512115621955,0.00006550370792480047,0.000032317126198897614,0.000490157948963301,0.007084252673880489,0.07478815428283364,0.1505180638902294,0.23690187778029279,0.5507089135982715,1.0,0.3481412903192059,0.3729436680836294,0.0198269158458416,0.024793536339643575,0.00507843581282981,0.001424496094649118,0.0004379221966341338,0.00046860434916208907,0.00004321520924983878,2.7069291882474876e-8,2.364920722052491e-7,1.0168289347541834e-9,8.341401161083558e-12,1.4176630345560641e-11],[1.450249679735154e-17,9.654706383228215e-14,3.211393990185144e-14,2.1806410800143945e-11,5.446803038068455e-12,7.127385901074282e-10,1.1934080595966506e-9,4.3373666334216375e-9,7.319367989521492e-9,1.7194329935998188e-8,4.957489567762136e-8,2.4519113385990644e-7,1.9409574271727466e-7,3.5883588815862885e-7,0.00031699928227764087,0.005013598900146386,0.010546897231105523,0.02499073659259804,0.11446824201255822,0.3481412903192059,1.0,1.0,0.22424452830608183,0.15906965188123823,0.06615259746138927,0.02298259190715704,0.011634454119925825,0.002942760530124976,0.0007667649897412908,2.8793907495367242e-6,3.4525612188472383e-6,2.0783545041774735e-8,2.6899026850690616e-9,7.252322160518573e-10],[3.162946279828288e-17,3.5057799981190235e-13,9.952845271763166e-13,1.6010060804361699e-10,1.9393097995260696e-11,1.709865174269227e-9,6.88231823830183e-9,2.6140393458029345e-8,4.4793745175678225e-8,4.980762968257179e-8,1.7300043785001778e-6,1.3172242120654855e-7,2.736780589985052e-6,8.635781314660544e-6,0.0004379221966341338,0.010063333265586338,0.013378703026003939,0.03130178457554002,0.1353504098348154,0.3729436680836294,1.0,1.0,0.2897982154050616,0.19534905940457784,0.09183767826908278,0.04476209415697338,0.029302222971632798,0.02097002953003506,0.0075848117754316186,0.00007291502428713535,9.685884063140466e-6,2.7878838112871152e-6,1.69872442575104e-8,1.2560405612579237e-7],[8.634558219080549e-20,4.300826607582504e-18,4.098728148755534e-16,2.2089187156338813e-14,2.2601502838438826e-13,1.0657835390692565e-12,1.4176630345560641e-11,5.560432964003839e-11,1.4181822700488308e-10,1.4884906475803411e-10,4.157046960834439e-10,2.6899026850690616e-9,3.787227599932374e-9,2.0779877274240742e-8,1.670436795024911e-6,0.00007804247056315925,0.0000906079859652185,0.0011510187915276821,0.00873510868433317,0.0198269158458416,0.22424452830608183,0.2897982154050616,1.0,0.8534084458955624,0.5984117182335192,0.3261341711919829,0.2407931245390016,0.15565646371399705,0.05681467793283902,0.0007317100653124087,0.0015647340261696686,0.000036700459237994134,9.322584031886636e-7,2.1054542433593656e-7],[4.31422564584497e-22,1.1474562133221443e-16,2.391242454166262e-18,3.055970137442688e-14,4.721433127339268e-14,2.2601502838438826e-13,3.1880856558543937e-12,2.0789169979429998e-11,3.098472966432261e-12,5.13116239379527e-12,3.5862160099959136e-10,1.4884906475803411e-10,6.375481651166934e-10,7.127385901074282e-10,5.571423208480338e-6,0.000046569869697466,0.00005459154357711447,0.00028452861891625184,0.0022094328919877613,0.024793536339643575,0.15906965188123823,0.19534905940457784,0.8534084458955624,1.0,0.8453703188825517,0.5726564757939484,0.43944010177908255,0.34689310509533516,0.17024239504607366,0.004640654088434308,0.0016590268898995495,0.00039070001552236726,6.775655653746717e-6,0.00004609247371251201],[2.587003859247397e-23,4.715659082533631e-18,1.0769168220004768e-18,5.198609903817759e-18,1.6977475366916752e-17,2.507729768138009e-14,4.045693021158809e-13,7.237227129476198e-14,1.1680094670975612e-12,6.366602155148437e-13,4.2224144708722095e-13,1.419861081655098e-11,3.7855174633264834e-11,1.4180922486418413e-9,2.4519113385990644e-7,2.5221536534654515e-6,9.375635307717017e-6,0.00007808423662658282,0.001412957498607674,0.00507843581282981,0.06615259746138927,0.09183767826908278,0.5984117182335192,0.8453703188825517,1.0,0.7643534344026669,0.59428829514694,0.46570744577306195,0.2836071084054854,0.010345913082728777,0.002878610081200932,0.0004379221966341338,2.2027598315502487e-6,0.000020283289208145556],[6.84026545842273e-24,1.1625691644538388e-20,7.386767234722092e-18,4.439257960696856e-17,4.300826607582504e-18,7.121860330286232e-16,2.792528455178105e-14,9.677506062033449e-14,1.2897655647164703e-14,1.9702912858306405e-12,1.87131274564586e-13,1.1680094670975612e-12,2.4575158375112673e-13,9.633963090742948e-11,1.9482376627755696e-9,1.7769640600713887e-7,1.9187392502875328e-6,0.00001938048409366411,0.00030960246353573076,0.001424496094649118,0.02298259190715704,0.04476209415697338,0.3261341711919829,0.5726564757939484,0.7643534344026669,1.0,0.917923067315743,0.7620362195292438,0.5052364407669357,0.024622831581791033,0.02097002953003506,0.0016055649295642408,0.00012034422931947831,0.0002959601961545845],[5.815315210521221e-24,1.1819170779356622e-21,2.0761409799356805e-19,1.450249679735154e-17,3.4466261850741707e-18,4.958638770872384e-16,5.056827098324028e-15,5.725061244691279e-15,1.6601952366746198e-13,2.792528455178105e-14,6.449578410896073e-14,4.248735618228405e-13,3.1880856558543937e-12,2.3144662509616954e-11,4.3373666334216375e-9,4.957489567762136e-8,1.8534768352189496e-6,0.000013800344917800584,0.00038715513395483516,0.0004379221966341338,0.011634454119925825,0.029302222971632798,0.2407931245390016,0.43944010177908255,0.59428829514694,0.917923067315743,1.0,0.9151865048428764,0.6399729317539425,0.04459752462791592,0.03227202073309318,0.0041651140158244435,0.00010959860355569963,0.00026558534298746995],[1.962657178574568e-26,3.518195580823734e-22,1.1819170779356622e-21,8.490021806129161e-19,4.0853725805661456e-19,6.780884736177504e-16,4.098728148755534e-16,2.355799901240388e-16,2.9566626383126712e-15,9.723859231682611e-15,7.970114680452795e-14,1.2897655647164703e-14,2.0753689196043157e-13,5.394032051902122e-13,4.4469352439058753e-10,2.87737462890791e-7,1.080908243358372e-6,5.571423208480338e-6,0.00008717436729426461,0.00046860434916208907,0.002942760530124976,0.02097002953003506,0.15565646371399705,0.34689310509533516,0.46570744577306195,0.7620362195292438,0.9151865048428764,1.0,0.8151212352249976,0.050452410247217666,0.04476209415697338,0.0021862431776861714,0.0007407952274121575,0.000263636776465269],[8.260011277058911e-28,4.74093238312722e-24,1.6492278067940443e-23,1.4958728419663173e-19,7.837961736461263e-21,1.450249679735154e-17,3.487916162229429e-17,1.9786177986614588e-16,1.3522957587316638e-16,1.9758911914423336e-15,2.141608136429023e-15,9.723859231682611e-15,2.2089187156338813e-14,1.0994809875335328e-13,3.4675436577962654e-11,4.8181440754468005e-9,7.679430153026993e-8,7.293567965336598e-7,0.000019596368034800084,0.00004321520924983878,0.0007667649897412908,0.0075848117754316186,0.05681467793283902,0.17024239504607366,0.2836071084054854,0.5052364407669357,0.6399729317539425,0.8151212352249976,1.0,0.09592363141082376,0.07561910758625776,0.015232201861994662,0.000641248502169594,0.0005349642016498918],[6.591678161717244e-32,3.8402956425115606e-28,1.962657178574568e-26,7.805904320346072e-24,2.587003859247397e-23,1.1384055538138498e-21,3.7982000367999554e-20,1.7582222198414876e-22,1.6733702780891284e-21,5.723995795100052e-19,3.207808350413538e-20,2.788349566618262e-19,1.8667049442323873e-19,9.432004555623528e-16,1.4016007077149398e-15,3.098472966432261e-12,2.3144662509616954e-11,1.984553317143075e-9,3.3173529174399884e-8,2.7069291882474876e-8,2.8793907495367242e-6,0.00007291502428713535,0.0007317100653124087,0.004640654088434308,0.010345913082728777,0.024622831581791033,0.04459752462791592,0.050452410247217666,0.09592363141082376,1.0,0.7807391284762693,0.27995623852893914,0.06956519633623014,0.10534226887460482],[2.269603084085948e-34,3.0554882002890587e-29,4.417855826116116e-28,7.0458837577401e-25,1.6869953653078252e-26,4.6966135406816054e-24,7.2744533233669705e-25,1.1693737942974311e-20,1.6790570008398702e-23,9.630639599627373e-23,9.247508456613193e-18,1.6733702780891284e-21,2.1638104132572854e-21,4.2608701445754604e-21,4.479313635598752e-13,1.1987559175109566e-12,1.3442945758766515e-11,2.2313814815989472e-11,4.659978428792858e-9,2.364920722052491e-7,3.4525612188472383e-6,9.685884063140466e-6,0.0015647340261696686,0.0016590268898995495,0.002878610081200932,0.02097002953003506,0.03227202073309318,0.04476209415697338,0.07561910758625776,0.7807391284762693,1.0,0.7788760920027011,0.15976150778501857,0.3148798910376229],[1.7074014022960796e-35,5.166045778807018e-31,1.3833392965568367e-28,1.9582705465490264e-26,1.3576781839928254e-27,1.2868059091640347e-24,2.2438953310017013e-23,4.263429420007923e-25,4.0594773352756886e-23,1.2448774653760878e-21,3.0898216554634606e-23,1.6790570008398702e-23,1.6733702780891284e-21,3.6361201608796156e-19,6.156273065927667e-18,7.519631891796862e-15,7.970114680452795e-14,1.8819747521132473e-11,1.1612274833072096e-9,1.0168289347541834e-9,2.0783545041774735e-8,2.7878838112871152e-6,0.000036700459237994134,0.00039070001552236726,0.0004379221966341338,0.0016055649295642408,0.0041651140158244435,0.0021862431776861714,0.015232201861994662,0.27995623852893914,0.7788760920027011,1.0,0.29423370844429203,0.5104099416812344],[7.070419183978223e-39,6.201799122350081e-36,4.116489201690665e-33,7.352026653297796e-33,2.907347193787138e-30,1.9194190323593825e-29,4.789729026756024e-28,7.854293204336358e-26,9.191926693634371e-26,5.754681923240256e-27,2.108124581703748e-25,9.874919036815883e-25,3.772426917098371e-24,6.118483390473997e-23,2.923580700821239e-17,2.2210629525385693e-17,1.450249679735154e-17,2.403640054084458e-14,1.7449187258294395e-12,8.341401161083558e-12,2.6899026850690616e-9,1.69872442575104e-8,9.322584031886636e-7,6.775655653746717e-6,2.2027598315502487e-6,0.00012034422931947831,0.00010959860355569963,0.0007407952274121575,0.000641248502169594,0.06956519633623014,0.15976150778501857,0.29423370844429203,1.0,0.6991749840078747],[2.1416199587982634e-35,2.797312157195774e-32,2.0745989755018755e-32,8.95281620858886e-28,2.574736689877734e-28,5.738497867872483e-26,3.4647755616804067e-25,1.4907381626203358e-24,2.108124581703748e-25,3.855331674762765e-25,4.283133267277142e-24,6.84026545842273e-24,7.33836423851677e-23,1.6790570008398702e-23,1.0387903364952914e-19,7.752808767891496e-17,4.700941065418037e-17,4.479313635598752e-13,7.793986201015429e-11,1.4176630345560641e-11,7.252322160518573e-10,1.2560405612579237e-7,2.1054542433593656e-7,0.00004609247371251201,0.000020283289208145556,0.0002959601961545845,0.00026558534298746995,0.000263636776465269,0.0005349642016498918,0.10534226887460482,0.3148798910376229,0.5104099416812344,0.6991749840078747,1.0]],\"type\":\"heatmap\",\"xaxis\":\"x\",\"yaxis\":\"y\",\"hovertemplate\":\"Model A: %{y}\\u003cbr\\u003eModel B: %{x}\\u003cbr\\u003ebinom p-value: %{customdata[1]:.4f}\\u003cbr\\u003echi2 p-value: %{customdata[4]:.4f}\\u003cbr\\u003eA_win \\u002f (A_win + B_win): %{customdata[0]:.2f}\\u003cbr\\u003eA_win - B_win: %{customdata[2]}\\u003cbr\\u003eA_win + B_win: %{customdata[3]}\\u003cextra\\u003e\\u003c\\u002fextra\\u003e\",\"customdata\":[[[\"nan\",1.0,0.0,0.0,1.0],[0.6290322580645161,0.05589722669971112,16.0,62.0,0.05677982347435695],[0.6216216216216216,0.04739297550405176,18.0,74.0,0.04813101378106177],[0.6578947368421053,0.007905180027859783,24.0,76.0,0.008332751739180244],[0.6805555555555556,0.002942760530124976,26.0,72.0,0.0032162293101274386],[0.6883116883116883,0.0012632268710478355,29.0,77.0,0.001418322554605278],[0.7105263157894737,0.0003129786008370502,32.0,76.0,0.00037662448096864587],[0.6962025316455697,0.0006393977673643526,31.0,79.0,0.0007374499096730602],[0.726027397260274,0.00014163707253552724,33.0,73.0,0.00018016634498463358],[0.7236842105263158,0.0001206291159979032,34.0,76.0,0.0001534864651312473],[0.7111111111111111,0.00007657072931048342,38.0,90.0,0.00009613610778647086],[0.7341772151898734,0.00003761512780416609,37.0,79.0,0.000051148417964497206],[0.7530864197530864,5.656214894965935e-6,41.0,81.0,8.811927405205644e-6],[0.7391304347826086,4.935351419046992e-6,44.0,92.0,7.3580263503236765e-6],[0.7777777777777778,2.4928338709270455e-8,55.0,99.0,5.724362428516372e-8],[0.8163265306122449,1.6606697571045604e-10,62.0,98.0,7.186338191189634e-10],[0.8333333333333334,2.0744109143956072e-11,64.0,96.0,1.2767908952326934e-10],[0.8367346938775511,7.380354309112728e-12,66.0,98.0,5.168776517905371e-11],[0.839622641509434,5.912079008704511e-13,72.0,106.0,5.343836484428266e-12],[0.8495575221238938,1.4727515742257347e-14,79.0,113.0,2.1738166822160565e-13],[0.8739495798319328,1.450249679735154e-17,89.0,119.0,6.661338147750939e-16],[0.8677685950413223,3.162946279828288e-17,89.0,121.0,1.2212453270876722e-15],[0.8740740740740741,8.634558219080549e-20,101.0,135.0,0.0],[0.9,4.31422564584497e-22,104.0,130.0,0.0],[0.9083969465648855,2.587003859247397e-23,107.0,131.0,0.0],[0.9051094890510949,6.84026545842273e-24,111.0,137.0,0.0],[0.900709219858156,5.815315210521221e-24,113.0,141.0,0.0],[0.9259259259259259,1.962657178574568e-26,115.0,135.0,0.0],[0.9338235294117647,8.260011277058911e-28,118.0,136.0,0.0],[0.9403973509933775,6.591678161717244e-32,133.0,151.0,0.0],[0.9536423841059603,2.269603084085948e-34,137.0,151.0,0.0],[0.9548387096774194,1.7074014022960796e-35,141.0,155.0,0.0],[0.9580838323353293,7.070419183978223e-39,153.0,167.0,0.0],[0.9404761904761905,2.1416199587982634e-35,148.0,168.0,0.0]],[[0.3709677419354839,0.05589722669971112,-16.0,62.0,0.05677982347435695],[\"nan\",1.0,0.0,0.0,1.0],[0.5161290322580645,0.8990763136528589,2.0,62.0,0.8989402980321263],[0.5666666666666667,0.36629400670329104,8.0,60.0,0.3661565601940605],[0.5833333333333334,0.2450608330229457,10.0,60.0,0.2452781168067728],[0.6181818181818182,0.10478948242660333,13.0,55.0,0.10564542920187636],[0.6428571428571429,0.044046546102150766,16.0,56.0,0.04502088100253876],[0.6153846153846154,0.08168153394154003,15.0,65.0,0.08247788747320972],[0.6545454545454545,0.030028945411892487,17.0,55.0,0.03097143165084626],[0.65,0.027340133868077935,18.0,60.0,0.028185802147907335],[0.671875,0.008146902228698568,22.0,64.0,0.008664896726025106],[0.6721311475409836,0.009853448195259268,21.0,61.0,0.01044502138496417],[0.7192982456140351,0.001263559472435463,25.0,57.0,0.0014784647972274634],[0.7333333333333333,0.00039404324272610154,28.0,60.0,0.0004908786448403202],[0.7746478873239436,3.753237688593051e-6,39.0,71.0,6.489785649321789e-6],[0.8382352941176471,1.2750032374450517e-8,46.0,68.0,4.841058065530035e-8],[0.8333333333333334,8.055498526741105e-9,48.0,72.0,3.0419822660832097e-8],[0.7777777777777778,1.1363565084238009e-7,50.0,90.0,2.403701460096386e-7],[0.7692307692307693,3.221505246540145e-8,56.0,104.0,6.921626105604872e-8],[0.8247422680412371,6.007962189879819e-11,63.0,97.0,3.071102261387182e-10],[0.8543689320388349,9.654706383228215e-14,73.0,103.0,1.2994050280212832e-12],[0.8411214953271028,3.5057799981190235e-13,73.0,107.0,3.390621117205228e-12],[0.897196261682243,4.300826607582504e-18,85.0,107.0,4.440892098500626e-16],[0.860655737704918,1.1474562133221443e-16,88.0,122.0,3.3306690738754696e-15],[0.8760330578512396,4.715659082533631e-18,91.0,121.0,3.3306690738754696e-16],[0.905982905982906,1.1625691644538388e-20,95.0,117.0,0.0],[0.9145299145299145,1.1819170779356622e-21,97.0,117.0,0.0],[0.9159663865546218,3.518195580823734e-22,99.0,119.0,0.0],[0.9322033898305084,4.74093238312722e-24,102.0,118.0,0.0],[0.9398496240601504,3.8402956425115606e-28,117.0,133.0,0.0],[0.9416058394160584,3.0554882002890587e-29,121.0,137.0,0.0],[0.9496402877697842,5.166045778807018e-31,125.0,139.0,0.0],[0.9659863945578231,6.201799122350081e-36,137.0,147.0,0.0],[0.9459459459459459,2.797312157195774e-32,132.0,148.0,0.0]],[[0.3783783783783784,0.04739297550405176,-18.0,74.0,0.04813101378106177],[0.4838709677419355,0.8990763136528589,-2.0,62.0,0.8989402980321263],[\"nan\",1.0,0.0,0.0,1.0],[0.5555555555555556,0.49661743531793345,6.0,54.0,0.49624247444426284],[0.5625,0.3817327947933377,8.0,64.0,0.38157390570502125],[0.5846153846153846,0.2145391940081784,11.0,65.0,0.2148469474056489],[0.609375,0.10342187831608088,14.0,64.0,0.10416255883043912],[0.5915492957746479,0.1539127693264563,13.0,71.0,0.15440653110764235],[0.6086956521739131,0.09118649056701154,15.0,69.0,0.09191104899535951],[0.6142857142857143,0.07223792719176257,16.0,70.0,0.07299804543011579],[0.6428571428571429,0.022462895492509273,20.0,70.0,0.023150951985246304],[0.6301369863013698,0.034415913668175036,19.0,73.0,0.035140066579092855],[0.6716417910447762,0.006741447363103123,23.0,67.0,0.007194001885687196],[0.7096774193548387,0.0012990027709550095,26.0,62.0,0.001498348617996581],[0.7466666666666667,0.000022429642158970264,37.0,75.0,0.0000322564145623927],[0.75,2.8793907495367242e-6,44.0,88.0,4.565673459744346e-6],[0.8108108108108109,6.221761416347879e-8,46.0,74.0,1.6846444461648957e-7],[0.7608695652173914,5.348143171041871e-7,48.0,92.0,9.579338275944593e-7],[0.77,5.513580775850052e-8,54.0,100.0,1.1580268077793221e-7],[0.7961165048543689,1.0696750216702928e-9,61.0,103.0,3.3802848298236654e-9],[0.8736842105263158,3.211393990185144e-14,71.0,95.0,6.877831637552845e-13],[0.8380952380952381,9.952845271763166e-13,71.0,105.0,8.414824392843911e-12],[0.8672566371681416,4.098728148755534e-16,83.0,113.0,1.2212453270876722e-14],[0.8981481481481481,2.391242454166262e-18,86.0,108.0,3.3306690738754696e-16],[0.8938053097345132,1.0769168220004768e-18,89.0,113.0,1.1102230246251565e-16],[0.8661417322834646,7.386767234722092e-18,93.0,127.0,3.3306690738754696e-16],[0.8861788617886179,2.0761409799356805e-19,95.0,123.0,0.0],[0.9145299145299145,1.1819170779356622e-21,97.0,117.0,0.0],[0.9310344827586207,1.6492278067940443e-23,100.0,116.0,0.0],[0.9259259259259259,1.962657178574568e-26,115.0,135.0,0.0],[0.9343065693430657,4.417855826116116e-28,119.0,137.0,0.0],[0.9300699300699301,1.3833392965568367e-28,123.0,143.0,0.0],[0.9470198675496688,4.116489201690665e-33,135.0,151.0,0.0],[0.9513888888888888,2.0745989755018755e-32,130.0,144.0,0.0]],[[0.34210526315789475,0.007905180027859783,-24.0,76.0,0.008332751739180244],[0.43333333333333335,0.36629400670329104,-8.0,60.0,0.3661565601940605],[0.4444444444444444,0.49661743531793345,-6.0,54.0,0.49624247444426284],[\"nan\",1.0,0.0,0.0,1.0],[0.5166666666666667,0.8974218269914307,2.0,60.0,0.897278961260083],[0.5342465753424658,0.6399729317539425,5.0,73.0,0.6396668933244998],[0.5666666666666667,0.36629400670329104,8.0,60.0,0.3661565601940605],[0.5507246376811594,0.47036853185814453,7.0,69.0,0.4701007598741287],[0.5671641791044776,0.3284320626971897,9.0,67.0,0.32839315835531246],[0.5833333333333334,0.2450608330229457,10.0,60.0,0.2452781168067728],[0.6060606060606061,0.10885696440971612,14.0,66.0,0.10955657678268615],[0.5764705882352941,0.19276043534155876,13.0,85.0,0.19305906087643565],[0.639344262295082,0.03961701489849968,17.0,61.0,0.040502215582606804],[0.6515151515151515,0.01865726035402101,20.0,66.0,0.019348980200336707],[0.6962025316455697,0.0006393977673643526,31.0,79.0,0.0007374499096730602],[0.7209302325581395,0.00005083654201844156,38.0,86.0,0.00006612551641249631],[0.7564102564102564,6.41506390670917e-6,40.0,78.0,0.000010059968254427787],[0.7333333333333333,0.000010902049191089246,42.0,90.0,0.000015477584790146715],[0.75,9.69923242552742e-7,48.0,96.0,1.611259937583931e-6],[0.7835051546391752,1.7194329935998188e-8,55.0,97.0,4.184822177677461e-8],[0.8282828282828283,2.1806410800143945e-11,65.0,99.0,1.2573531105175562e-10],[0.8037383177570093,1.6010060804361699e-10,65.0,107.0,6.127583995763075e-10],[0.8532110091743119,2.2089187156338813e-14,77.0,109.0,3.3506530883187224e-13],[0.8389830508474576,3.055970137442688e-14,80.0,118.0,3.5282887722587475e-13],[0.9029126213592233,5.198609903817759e-18,83.0,103.0,6.661338147750939e-16],[0.8717948717948718,4.439257960696856e-17,87.0,117.0,1.887379141862766e-15],[0.8739495798319328,1.450249679735154e-17,89.0,119.0,6.661338147750939e-16],[0.8888888888888888,8.490021806129161e-19,91.0,117.0,1.1102230246251565e-16],[0.8916666666666667,1.4958728419663173e-19,94.0,120.0,0.0],[0.9097744360902256,7.805904320346072e-24,109.0,133.0,0.0],[0.9124087591240876,7.0458837577401e-25,113.0,137.0,0.0],[0.920863309352518,1.9582705465490264e-26,117.0,139.0,0.0],[0.9574468085106383,7.352026653297796e-33,129.0,141.0,0.0],[0.918918918918919,8.95281620858886e-28,124.0,148.0,0.0]],[[0.3194444444444444,0.002942760530124976,-26.0,72.0,0.0032162293101274386],[0.4166666666666667,0.2450608330229457,-10.0,60.0,0.2452781168067728],[0.4375,0.3817327947933377,-8.0,64.0,0.38157390570502125],[0.48333333333333334,0.8974218269914307,-2.0,60.0,0.897278961260083],[\"nan\",1.0,0.0,0.0,1.0],[0.5365853658536586,0.755228657504631,3.0,41.0,0.7547764265871045],[0.55,0.5189580031896519,6.0,60.0,0.5186050164287255],[0.5352112676056338,0.6353076420876663,5.0,71.0,0.6349917907446543],[0.5522388059701493,0.46381761789686937,7.0,67.0,0.4635482645312403],[0.5606060606060606,0.3890524605477928,8.0,66.0,0.38888541180776515],[0.5857142857142857,0.18821620302302766,12.0,70.0,0.1885934421817631],[0.5733333333333334,0.24804574189252784,11.0,75.0,0.24821307898992362],[0.6119402985074627,0.08643723427347082,15.0,67.0,0.08719706449021136],[0.6323529411764706,0.038460053348927506,18.0,68.0,0.03925033046769266],[0.6986301369863014,0.0009142745821630902,29.0,73.0,0.0010485985788697416],[0.7093023255813954,0.00013037942991199537,36.0,86.0,0.00016055603247933092],[0.7638888888888888,8.14003082672391e-6,38.0,72.0,0.00001297704350999851],[0.7272727272727273,0.000023726590787439646,40.0,88.0,0.00003218704260965488],[0.7738095238095238,4.748492975346606e-7,46.0,84.0,9.112167294045292e-7],[0.797752808988764,1.2968749869187788e-8,53.0,89.0,3.5480114846109245e-8],[0.8539325842696629,5.446803038068455e-12,63.0,89.0,4.96482854828173e-11],[0.8387096774193549,1.9393097995260696e-11,63.0,93.0,1.2836121054959904e-10],[0.8378378378378378,2.2601502838438826e-13,75.0,111.0,2.1596058275008545e-12],[0.8421052631578947,4.721433127339268e-14,78.0,114.0,5.525579993559404e-13],[0.900990099009901,1.6977475366916752e-17,81.0,101.0,1.6653345369377348e-15],[0.897196261682243,4.300826607582504e-18,85.0,107.0,4.440892098500626e-16],[0.8918918918918919,3.4466261850741707e-18,87.0,111.0,3.3306690738754696e-16],[0.9009009009009009,4.0853725805661456e-19,89.0,111.0,1.1102230246251565e-16],[0.9181818181818182,7.837961736461263e-21,92.0,110.0,0.0],[0.9083969465648855,2.587003859247397e-23,107.0,131.0,0.0],[0.937007874015748,1.6869953653078252e-26,111.0,127.0,0.0],[0.9389312977099237,1.3576781839928254e-27,115.0,131.0,0.0],[0.9379310344827586,2.907347193787138e-30,127.0,145.0,0.0],[0.9295774647887324,2.574736689877734e-28,122.0,142.0,0.0]],[[0.3116883116883117,0.0012632268710478355,-29.0,77.0,0.001418322554605278],[0.38181818181818183,0.10478948242660333,-13.0,55.0,0.10564542920187636],[0.4153846153846154,0.2145391940081784,-11.0,65.0,0.2148469474056489],[0.4657534246575342,0.6399729317539425,-5.0,73.0,0.6396668933244998],[0.4634146341463415,0.755228657504631,-3.0,41.0,0.7547764265871045],[\"nan\",1.0,0.0,0.0,1.0],[0.5245901639344263,0.7981526273057179,3.0,61.0,0.7978938831986565],[0.5147058823529411,0.9035973456835127,2.0,68.0,0.9034789137192296],[0.5294117647058824,0.716300760154337,4.0,68.0,0.716004795504331],[0.5396825396825397,0.6146550157654618,5.0,63.0,0.6142946646634825],[0.5584415584415584,0.36203179773966154,9.0,77.0,0.36193476692119253],[0.5588235294117647,0.39612484029702977,8.0,68.0,0.3959510250893423],[0.5833333333333334,0.1945051658673991,12.0,72.0,0.19485064860886947],[0.6056338028169014,0.09592363141082376,15.0,71.0,0.09661420844785251],[0.6805555555555556,0.002942760530124976,26.0,72.0,0.0032162293101274386],[0.6987951807228916,0.0003783427631607787,33.0,83.0,0.00044398497897857325],[0.7536231884057971,0.000029304321745456655,35.0,69.0,0.000042560914196188016],[0.7078651685393258,0.00010992624937112814,37.0,89.0,0.00013563669654459432],[0.7471264367816092,4.348703111758687e-6,43.0,87.0,6.704106102373153e-6],[0.7777777777777778,1.1363565084238009e-7,50.0,90.0,2.403701460096386e-7],[0.8061224489795918,7.127385901074282e-10,60.0,98.0,2.523923181563248e-9],[0.7941176470588235,1.709865174269227e-9,60.0,102.0,5.161792548946664e-9],[0.8333333333333334,1.0657835390692565e-12,72.0,108.0,8.375189430864793e-12],[0.8378378378378378,2.2601502838438826e-13,75.0,111.0,2.1596058275008545e-12],[0.8482142857142857,2.507729768138009e-14,78.0,112.0,3.4428015993626104e-13],[0.8660714285714286,7.121860330286232e-16,82.0,112.0,1.9539925233402755e-14],[0.8620689655172413,4.958638770872384e-16,84.0,116.0,1.2989609388114332e-14],[0.8524590163934426,6.780884736177504e-16,86.0,122.0,1.4099832412739488e-14],[0.8739495798319328,1.450249679735154e-17,89.0,119.0,6.661338147750939e-16],[0.8939393939393939,1.1384055538138498e-21,104.0,132.0,0.0],[0.9153846153846154,4.6966135406816054e-24,108.0,130.0,0.0],[0.9117647058823529,1.2868059091640347e-24,112.0,136.0,0.0],[0.9366197183098591,1.9194190323593825e-29,124.0,142.0,0.0],[0.9103448275862069,5.738497867872483e-26,119.0,145.0,0.0]],[[0.2894736842105263,0.0003129786008370502,-32.0,76.0,0.00037662448096864587],[0.35714285714285715,0.044046546102150766,-16.0,56.0,0.04502088100253876],[0.390625,0.10342187831608088,-14.0,64.0,0.10416255883043912],[0.43333333333333335,0.36629400670329104,-8.0,60.0,0.3661565601940605],[0.45,0.5189580031896519,-6.0,60.0,0.5186050164287255],[0.47540983606557374,0.7981526273057179,-3.0,61.0,0.7978938831986565],[\"nan\",1.0,0.0,0.0,1.0],[0.49206349206349204,1.0,-1.0,63.0,1.0],[0.5081967213114754,1.0,1.0,61.0,1.0],[0.5172413793103449,0.8956832138895906,2.0,58.0,0.8955329031670437],[0.5428571428571428,0.5504125118224712,6.0,70.0,0.5500973172303969],[0.5333333333333333,0.6444639138942256,5.0,75.0,0.6441672226837103],[0.5882352941176471,0.2624375357110438,9.0,51.0,0.2626182904425206],[0.6,0.1550019040032606,12.0,60.0,0.15558034779219365],[0.6619718309859155,0.008554538502693429,23.0,71.0,0.009029910762692439],[0.6973684210526315,0.0007645817391550476,30.0,76.0,0.000879351401835371],[0.7352941176470589,0.00013083876154198454,32.0,68.0,0.0001703879348371462],[0.7236842105263158,0.0001206291159979032,34.0,76.0,0.0001534864651312473],[0.7272727272727273,0.000023726590787439646,40.0,88.0,0.00003218704260965488],[0.7526881720430108,1.1026255560645484e-6,47.0,93.0,1.8424622734158902e-6],[0.8131868131868132,1.1934080595966506e-9,57.0,91.0,4.347578297370092e-9],[0.7878787878787878,6.88231823830183e-9,57.0,99.0,1.8208745844461305e-8],[0.8165137614678899,1.4176630345560641e-11,69.0,109.0,7.355727138502743e-11],[0.8214285714285714,3.1880856558543937e-12,72.0,112.0,1.961386608684279e-11],[0.831858407079646,4.045693021158809e-13,75.0,113.0,3.3706371027619753e-12],[0.8434782608695652,2.792528455178105e-14,79.0,115.0,3.5016434196677437e-13],[0.8521739130434782,5.056827098324028e-15,81.0,115.0,8.64863736182997e-14],[0.8672566371681416,4.098728148755534e-16,83.0,113.0,1.2212453270876722e-14],[0.8771929824561403,3.487916162229429e-17,86.0,114.0,1.6653345369377348e-15],[0.8796992481203008,3.7982000367999554e-20,101.0,133.0,0.0],[0.9338842975206612,7.2744533233669705e-25,105.0,121.0,0.0],[0.9037037037037037,2.2438953310017013e-23,109.0,135.0,0.0],[0.9290780141843972,4.789729026756024e-28,121.0,141.0,0.0],[0.9084507042253521,3.4647755616804067e-25,116.0,142.0,0.0]],[[0.3037974683544304,0.0006393977673643526,-31.0,79.0,0.0007374499096730602],[0.38461538461538464,0.08168153394154003,-15.0,65.0,0.08247788747320972],[0.4084507042253521,0.1539127693264563,-13.0,71.0,0.15440653110764235],[0.4492753623188406,0.47036853185814453,-7.0,69.0,0.4701007598741287],[0.4647887323943662,0.6353076420876663,-5.0,71.0,0.6349917907446543],[0.4852941176470588,0.9035973456835127,-2.0,68.0,0.9034789137192296],[0.5079365079365079,1.0,1.0,63.0,1.0],[\"nan\",1.0,0.0,0.0,1.0],[0.5131578947368421,0.9087769252754927,2.0,76.0,0.9086766781799486],[0.5194805194805194,0.8198929037490488,3.0,77.0,0.8197075378297882],[0.5573770491803278,0.4426260049464714,7.0,61.0,0.44235573329514033],[0.5375,0.5764306261883931,6.0,80.0,0.5761501220305787],[0.5862068965517241,0.23704711476271959,10.0,58.0,0.2373017786499998],[0.5822784810126582,0.17661055306016424,13.0,79.0,0.17698215046060206],[0.6666666666666666,0.006309827313666047,24.0,72.0,0.006716645502620966],[0.6741573033707865,0.0013352623656219375,31.0,89.0,0.0014727828467661075],[0.6987951807228916,0.0003783427631607787,33.0,83.0,0.00044398497897857325],[0.6966292134831461,0.00026558534298746995,35.0,89.0,0.0003133657498484155],[0.711340206185567,0.00003803794805755345,41.0,97.0,0.00004878251767115316],[0.7448979591836735,1.2796062450772919e-6,48.0,98.0,2.057256577203681e-6],[0.79,4.3373666334216375e-9,58.0,100.0,1.1980742842254699e-8],[0.7636363636363637,2.6140393458029345e-8,58.0,110.0,5.487738741205561e-8],[0.7966101694915254,5.560432964003839e-11,70.0,118.0,2.125818410192437e-10],[0.7967479674796748,2.0789169979429998e-11,73.0,123.0,8.469225321050544e-11],[0.8454545454545455,7.237227129476198e-14,76.0,110.0,8.61644089411584e-13],[0.8278688524590164,9.677506062033449e-14,80.0,122.0,8.532063944244328e-13],[0.847457627118644,5.725061244691279e-15,82.0,118.0,8.870681966755001e-14],[0.868421052631579,2.355799901240388e-16,84.0,114.0,7.66053886991358e-15],[0.859504132231405,1.9786177986614588e-16,87.0,121.0,5.329070518200751e-15],[0.9112903225806451,1.7582222198414876e-22,102.0,124.0,0.0],[0.8732394366197183,1.1693737942974311e-20,106.0,142.0,0.0],[0.9230769230769231,4.263429420007923e-25,110.0,130.0,0.0],[0.9013157894736842,7.854293204336358e-26,122.0,152.0,0.0],[0.8979591836734694,1.4907381626203358e-24,117.0,147.0,0.0]],[[0.273972602739726,0.00014163707253552724,-33.0,73.0,0.00018016634498463358],[0.34545454545454546,0.030028945411892487,-17.0,55.0,0.03097143165084626],[0.391304347826087,0.09118649056701154,-15.0,69.0,0.09191104899535951],[0.43283582089552236,0.3284320626971897,-9.0,67.0,0.32839315835531246],[0.44776119402985076,0.46381761789686937,-7.0,67.0,0.4635482645312403],[0.47058823529411764,0.716300760154337,-4.0,68.0,0.716004795504331],[0.4918032786885246,1.0,-1.0,61.0,1.0],[0.4868421052631579,0.9087769252754927,-2.0,76.0,0.9086766781799486],[\"nan\",1.0,0.0,0.0,1.0],[0.5081967213114754,1.0,1.0,61.0,1.0],[0.5333333333333333,0.6444639138942256,5.0,75.0,0.6441672226837103],[0.53125,0.7079807541347641,4.0,64.0,0.7076604666545525],[0.5769230769230769,0.3317497633694906,8.0,52.0,0.3316850680568626],[0.5753424657534246,0.241644723140752,11.0,73.0,0.24183542123691049],[0.6341463414634146,0.0198269158458416,22.0,82.0,0.020391672237361158],[0.6746987951807228,0.0019314374822250477,29.0,83.0,0.002116351150048157],[0.7246376811594203,0.00024439701657757496,31.0,69.0,0.00030434234335940946],[0.6853932584269663,0.0006102590502807983,33.0,89.0,0.0006938615813185667],[0.7241379310344828,0.000034799669459257334,39.0,87.0,0.00004620699551383112],[0.7211538461538461,7.366510614966003e-6,46.0,104.0,0.000010213043956541767],[0.7916666666666666,7.319367989521492e-9,56.0,96.0,1.983732222932133e-8],[0.7641509433962265,4.4793745175678225e-8,56.0,106.0,9.189001737297531e-8],[0.7931034482758621,1.4181822700488308e-10,68.0,116.0,4.946457687893258e-10],[0.8256880733944955,3.098472966432261e-12,71.0,109.0,2.017042088908738e-11],[0.8245614035087719,1.1680094670975612e-12,74.0,114.0,8.082534641573602e-12],[0.8545454545454545,1.2897655647164703e-14,78.0,110.0,2.1094237467877974e-13],[0.8225806451612904,1.6601952366746198e-13,80.0,124.0,1.2990719611138957e-12],[0.853448275862069,2.9566626383126712e-15,82.0,116.0,5.4511950509095186e-14],[0.8695652173913043,1.3522957587316638e-16,85.0,115.0,4.773959005888173e-15],[0.9032258064516129,1.6733702780891284e-21,100.0,124.0,0.0],[0.9193548387096774,1.6790570008398702e-23,104.0,124.0,0.0],[0.9029850746268657,4.0594773352756886e-23,108.0,134.0,0.0],[0.9054054054054054,9.191926693634371e-26,120.0,148.0,0.0],[0.9136690647482014,2.108124581703748e-25,115.0,139.0,0.0]],[[0.27631578947368424,0.0001206291159979032,-34.0,76.0,0.0001534864651312473],[0.35,0.027340133868077935,-18.0,60.0,0.028185802147907335],[0.38571428571428573,0.07223792719176257,-16.0,70.0,0.07299804543011579],[0.4166666666666667,0.2450608330229457,-10.0,60.0,0.2452781168067728],[0.4393939393939394,0.3890524605477928,-8.0,66.0,0.38888541180776515],[0.4603174603174603,0.6146550157654618,-5.0,63.0,0.6142946646634825],[0.4827586206896552,0.8956832138895906,-2.0,58.0,0.8955329031670437],[0.4805194805194805,0.8198929037490488,-3.0,77.0,0.8197075378297882],[0.4918032786885246,1.0,-1.0,61.0,1.0],[\"nan\",1.0,0.0,0.0,1.0],[0.5256410256410257,0.7343420330298466,4.0,78.0,0.7340951823194757],[0.5223880597014925,0.8071946913670247,3.0,67.0,0.8069683671707382],[0.5522388059701493,0.46381761789686937,7.0,67.0,0.4635482645312403],[0.5806451612903226,0.25285439418811073,10.0,62.0,0.2530381164947547],[0.64,0.02029840699010744,21.0,75.0,0.020921335337794056],[0.6590909090909091,0.0037465093469812305,28.0,88.0,0.003999392249374956],[0.6785714285714286,0.0014044946311139559,30.0,84.0,0.0015553158298389214],[0.686046511627907,0.0007317100653124087,32.0,86.0,0.0008293287959082463],[0.7021276595744681,0.00011112062020663294,38.0,94.0,0.0001354904977910465],[0.7368421052631579,4.271012269463366e-6,45.0,95.0,6.352481595084392e-6],[0.7835051546391752,1.7194329935998188e-8,55.0,97.0,4.184822177677461e-8],[0.7669902912621359,4.980762968257179e-8,55.0,103.0,1.0332436806148593e-7],[0.7964601769911505,1.4884906475803411e-10,67.0,113.0,5.34050803580044e-10],[0.8240740740740741,5.13116239379527e-12,70.0,108.0,3.1468938566092675e-11],[0.8348623853211009,6.366602155148437e-13,73.0,109.0,5.33562083404604e-12],[0.808,1.9702912858306405e-12,77.0,125.0,1.06341602190696e-11],[0.8434782608695652,2.792528455178105e-14,79.0,115.0,3.5016434196677437e-13],[0.8461538461538461,9.723859231682611e-15,81.0,117.0,1.4033219031261979e-13],[0.85,1.9758911914423336e-15,84.0,120.0,3.5416114485542494e-14],[0.8666666666666667,5.723995795100052e-19,99.0,135.0,0.0],[0.912,9.630639599627373e-23,103.0,125.0,0.0],[0.8848920863309353,1.2448774653760878e-21,107.0,139.0,0.0],[0.9219858156028369,5.754681923240256e-27,119.0,141.0,0.0],[0.9130434782608695,3.855331674762765e-25,114.0,138.0,0.0]],[[0.28888888888888886,0.00007657072931048342,-38.0,90.0,0.00009613610778647086],[0.328125,0.008146902228698568,-22.0,64.0,0.008664896726025106],[0.35714285714285715,0.022462895492509273,-20.0,70.0,0.023150951985246304],[0.3939393939393939,0.10885696440971612,-14.0,66.0,0.10955657678268615],[0.4142857142857143,0.18821620302302766,-12.0,70.0,0.1885934421817631],[0.44155844155844154,0.36203179773966154,-9.0,77.0,0.36193476692119253],[0.45714285714285713,0.5504125118224712,-6.0,70.0,0.5500973172303969],[0.4426229508196721,0.4426260049464714,-7.0,61.0,0.44235573329514033],[0.4666666666666667,0.6444639138942256,-5.0,75.0,0.6441672226837103],[0.47435897435897434,0.7343420330298466,-4.0,78.0,0.7340951823194757],[\"nan\",1.0,0.0,0.0,1.0],[0.4935064935064935,1.0,-1.0,77.0,1.0],[0.5319148936170213,0.7708669945730263,3.0,47.0,0.7704930827944241],[0.5384615384615384,0.5715867180030723,6.0,78.0,0.5712996214994485],[0.6307692307692307,0.0463534743329112,17.0,65.0,0.04719391926101513],[0.6621621621621622,0.007084252673880489,24.0,74.0,0.007502049219659579],[0.6911764705882353,0.0021862431776861714,26.0,68.0,0.0024318453627428793],[0.6555555555555556,0.0041651140158244435,28.0,90.0,0.004426525857919805],[0.6666666666666666,0.000986536808184603,34.0,102.0,0.0010850689109981326],[0.735632183908046,0.000012653512115621955,41.0,87.0,0.000017992417668311056],[0.7865168539325843,4.957489567762136e-8,51.0,89.0,1.1580940417754704e-7],[0.7256637168141593,1.7300043785001778e-6,51.0,113.0,2.5560836984794832e-6],[0.8,4.157046960834439e-10,63.0,105.0,1.4432486317161874e-9],[0.7894736842105263,3.5862160099959136e-10,66.0,114.0,1.1446718017893431e-9],[0.8556701030927835,4.2224144708722095e-13,69.0,97.0,5.0431880893597736e-12],[0.8476190476190476,1.87131274564586e-13,73.0,105.0,2.1180834863798736e-12],[0.8504672897196262,6.449578410896073e-14,75.0,107.0,8.43769498715119e-13],[0.8407079646017699,7.970114680452795e-14,77.0,113.0,8.710809851208978e-13],[0.8636363636363636,2.141608136429023e-15,80.0,110.0,4.984901380566953e-14],[0.8991596638655462,3.207808350413538e-20,95.0,119.0,0.0],[0.8461538461538461,9.247508456613193e-18,99.0,143.0,2.220446049250313e-16],[0.9186991869918699,3.0898216554634606e-23,103.0,123.0,0.0],[0.9136690647482014,2.108124581703748e-25,115.0,139.0,0.0],[0.9104477611940298,4.283133267277142e-24,110.0,134.0,0.0]],[[0.26582278481012656,0.00003761512780416609,-37.0,79.0,0.000051148417964497206],[0.32786885245901637,0.009853448195259268,-21.0,61.0,0.01044502138496417],[0.3698630136986301,0.034415913668175036,-19.0,73.0,0.035140066579092855],[0.4235294117647059,0.19276043534155876,-13.0,85.0,0.19305906087643565],[0.4266666666666667,0.24804574189252784,-11.0,75.0,0.24821307898992362],[0.4411764705882353,0.39612484029702977,-8.0,68.0,0.3959510250893423],[0.4666666666666667,0.6444639138942256,-5.0,75.0,0.6441672226837103],[0.4625,0.5764306261883931,-6.0,80.0,0.5761501220305787],[0.46875,0.7079807541347641,-4.0,64.0,0.7076604666545525],[0.47761194029850745,0.8071946913670247,-3.0,67.0,0.8069683671707382],[0.5064935064935064,1.0,1.0,77.0,1.0],[\"nan\",1.0,0.0,0.0,1.0],[0.5303030303030303,0.7122308826373509,4.0,66.0,0.71192315069219],[0.5466666666666666,0.48868297090314317,7.0,75.0,0.4884223166225936],[0.6046511627906976,0.06615259746138927,18.0,86.0,0.06677920499969492],[0.6404494382022472,0.010546897231105523,25.0,89.0,0.010959268093534646],[0.68,0.0024442284992149655,27.0,75.0,0.002680171728068448],[0.6559139784946236,0.0034618534914423785,29.0,93.0,0.003690585198680707],[0.6635514018691588,0.0009231579958033549,35.0,107.0,0.001012953367415026],[0.6944444444444444,0.00006550370792480047,42.0,108.0,0.00007972447000903493],[0.7549019607843137,2.4519113385990644e-7,52.0,102.0,4.423829176314342e-7],[0.7653061224489796,1.3172242120654855e-7,52.0,98.0,2.5802840453170717e-7],[0.7711864406779662,2.6899026850690616e-9,64.0,118.0,6.646532435539143e-9],[0.7964601769911505,1.4884906475803411e-10,67.0,113.0,5.34050803580044e-10],[0.8125,1.419861081655098e-11,70.0,112.0,7.036027316331683e-11],[0.8245614035087719,1.1680094670975612e-12,74.0,114.0,8.082534641573602e-12],[0.8275862068965517,4.248735618228405e-13,76.0,116.0,3.3174574198824303e-12],[0.8545454545454545,1.2897655647164703e-14,78.0,110.0,2.1094237467877974e-13],[0.8461538461538461,9.723859231682611e-15,81.0,117.0,1.4033219031261979e-13],[0.8809523809523809,2.788349566618262e-19,96.0,126.0,0.0],[0.9032258064516129,1.6733702780891284e-21,100.0,124.0,0.0],[0.9193548387096774,1.6790570008398702e-23,104.0,124.0,0.0],[0.9027777777777778,9.874919036815883e-25,116.0,144.0,0.0],[0.9051094890510949,6.84026545842273e-24,111.0,137.0,0.0]],[[0.24691358024691357,5.656214894965935e-6,-41.0,81.0,8.811927405205644e-6],[0.2807017543859649,0.001263559472435463,-25.0,57.0,0.0014784647972274634],[0.3283582089552239,0.006741447363103123,-23.0,67.0,0.007194001885687196],[0.36065573770491804,0.03961701489849968,-17.0,61.0,0.040502215582606804],[0.3880597014925373,0.08643723427347082,-15.0,67.0,0.08719706449021136],[0.4166666666666667,0.1945051658673991,-12.0,72.0,0.19485064860886947],[0.4117647058823529,0.2624375357110438,-9.0,51.0,0.2626182904425206],[0.41379310344827586,0.23704711476271959,-10.0,58.0,0.2373017786499998],[0.4230769230769231,0.3317497633694906,-8.0,52.0,0.3316850680568626],[0.44776119402985076,0.46381761789686937,-7.0,67.0,0.4635482645312403],[0.46808510638297873,0.7708669945730263,-3.0,47.0,0.7704930827944241],[0.4696969696969697,0.7122308826373509,-4.0,66.0,0.71192315069219],[\"nan\",1.0,0.0,0.0,1.0],[0.5217391304347826,0.8099490529189248,3.0,69.0,0.80973205979319],[0.6029411764705882,0.11425430684992327,14.0,68.0,0.11491486452557431],[0.6438356164383562,0.01861775143319464,21.0,73.0,0.019241289593884825],[0.6825396825396826,0.005152397042092064,23.0,63.0,0.005575764332991229],[0.6506024096385542,0.008036706377857002,25.0,83.0,0.008430046878470487],[0.6703296703296703,0.0015165131944572209,31.0,91.0,0.0016616944579834758],[0.7317073170731707,0.000032317126198897614,38.0,82.0,0.000043893718355558775],[0.7790697674418605,1.9409574271727466e-7,48.0,86.0,4.0172117921066786e-7],[0.7307692307692307,2.736780589985052e-6,48.0,104.0,4.051376426561504e-6],[0.7830188679245284,3.787227599932374e-9,60.0,106.0,1.0008392226090734e-8],[0.794392523364486,6.375481651166934e-10,63.0,107.0,2.050360548011554e-9],[0.8173076923076923,3.7855174633264834e-11,66.0,104.0,1.8443180316296548e-10],[0.8571428571428571,2.4575158375112673e-13,70.0,98.0,3.1682434453728092e-12],[0.8214285714285714,3.1880856558543937e-12,72.0,112.0,1.961386608684279e-11],[0.8425925925925926,2.0753689196043157e-13,74.0,108.0,2.149391775674303e-12],[0.8532110091743119,2.2089187156338813e-14,77.0,109.0,3.3506530883187224e-13],[0.896551724137931,1.8667049442323873e-19,92.0,116.0,0.0],[0.9137931034482759,2.1638104132572854e-21,96.0,116.0,0.0],[0.9032258064516129,1.6733702780891284e-21,100.0,124.0,0.0],[0.9057971014492754,3.772426917098371e-24,112.0,138.0,0.0],[0.9022556390977443,7.33836423851677e-23,107.0,133.0,0.0]],[[0.2608695652173913,4.935351419046992e-6,-44.0,92.0,7.3580263503236765e-6],[0.26666666666666666,0.00039404324272610154,-28.0,60.0,0.0004908786448403202],[0.2903225806451613,0.0012990027709550095,-26.0,62.0,0.001498348617996581],[0.3484848484848485,0.01865726035402101,-20.0,66.0,0.019348980200336707],[0.36764705882352944,0.038460053348927506,-18.0,68.0,0.03925033046769266],[0.39436619718309857,0.09592363141082376,-15.0,71.0,0.09661420844785251],[0.4,0.1550019040032606,-12.0,60.0,0.15558034779219365],[0.4177215189873418,0.17661055306016424,-13.0,79.0,0.17698215046060206],[0.4246575342465753,0.241644723140752,-11.0,73.0,0.24183542123691049],[0.41935483870967744,0.25285439418811073,-10.0,62.0,0.2530381164947547],[0.46153846153846156,0.5715867180030723,-6.0,78.0,0.5712996214994485],[0.4533333333333333,0.48868297090314317,-7.0,75.0,0.4884223166225936],[0.4782608695652174,0.8099490529189248,-3.0,69.0,0.80973205979319],[\"nan\",1.0,0.0,0.0,1.0],[0.5733333333333334,0.24804574189252784,11.0,75.0,0.24821307898992362],[0.618421052631579,0.050452410247217666,18.0,76.0,0.05117209797510924],[0.631578947368421,0.028626655508737896,20.0,76.0,0.029298294404550562],[0.6309523809523809,0.021383189937144585,22.0,84.0,0.021946771003246823],[0.648936170212766,0.00507843581282981,28.0,94.0,0.00535545771184176],[0.6804123711340206,0.000490157948963301,35.0,97.0,0.0005560828940536222],[0.7848101265822784,3.5883588815862885e-7,45.0,79.0,7.406614173088855e-7],[0.7227722772277227,8.635781314660544e-6,45.0,101.0,0.000011968347738977592],[0.7714285714285715,2.0779877274240742e-8,57.0,105.0,4.6280136611898115e-8],[0.8061224489795918,7.127385901074282e-10,60.0,98.0,2.523923181563248e-9],[0.7837837837837838,1.4180922486418413e-9,63.0,111.0,3.98584842908889e-9],[0.8018018018018018,9.633963090742948e-11,67.0,111.0,3.7416092446562743e-10],[0.8108108108108109,2.3144662509616954e-11,69.0,111.0,1.0873868472316417e-10],[0.8446601941747572,5.394032051902122e-13,71.0,103.0,5.29987165265311e-12],[0.8490566037735849,1.0994809875335328e-13,74.0,106.0,1.3373746554634636e-12],[0.8396946564885496,9.432004555623528e-16,89.0,131.0,1.4876988529977098e-14],[0.918918918918919,4.2608701445754604e-21,93.0,111.0,0.0],[0.875968992248062,3.6361201608796156e-19,97.0,129.0,0.0],[0.8978102189781022,6.118483390473997e-23,109.0,137.0,0.0],[0.9193548387096774,1.6790570008398702e-23,104.0,124.0,0.0]],[[0.2222222222222222,2.4928338709270455e-8,-55.0,99.0,5.724362428516372e-8],[0.22535211267605634,3.753237688593051e-6,-39.0,71.0,6.489785649321789e-6],[0.25333333333333335,0.000022429642158970264,-37.0,75.0,0.0000322564145623927],[0.3037974683544304,0.0006393977673643526,-31.0,79.0,0.0007374499096730602],[0.3013698630136986,0.0009142745821630902,-29.0,73.0,0.0010485985788697416],[0.3194444444444444,0.002942760530124976,-26.0,72.0,0.0032162293101274386],[0.3380281690140845,0.008554538502693429,-23.0,71.0,0.009029910762692439],[0.3333333333333333,0.006309827313666047,-24.0,72.0,0.006716645502620966],[0.36585365853658536,0.0198269158458416,-22.0,82.0,0.020391672237361158],[0.36,0.02029840699010744,-21.0,75.0,0.020921335337794056],[0.36923076923076925,0.0463534743329112,-17.0,65.0,0.04719391926101513],[0.3953488372093023,0.06615259746138927,-18.0,86.0,0.06677920499969492],[0.39705882352941174,0.11425430684992327,-14.0,68.0,0.11491486452557431],[0.4266666666666667,0.24804574189252784,-11.0,75.0,0.24821307898992362],[\"nan\",1.0,0.0,0.0,1.0],[0.547945205479452,0.48278855684402133,7.0,73.0,0.48252521231388223],[0.5584415584415584,0.36203179773966154,9.0,77.0,0.36193476692119253],[0.5647058823529412,0.2779992890805517,11.0,85.0,0.278075686620885],[0.5858585858585859,0.10735158653318887,17.0,99.0,0.1078219281599685],[0.6621621621621622,0.007084252673880489,24.0,74.0,0.007502049219659579],[0.6976744186046512,0.00031699928227764087,34.0,86.0,0.00037300503570447674],[0.6888888888888889,0.0004379221966341338,34.0,90.0,0.0005042182294490161],[0.75,1.670436795024911e-6,46.0,92.0,2.7111075749930436e-6],[0.7130434782608696,5.571423208480338e-6,49.0,115.0,7.60462677229512e-6],[0.7549019607843137,2.4519113385990644e-7,52.0,102.0,4.423829176314342e-7],[0.8111111111111111,1.9482376627755696e-9,56.0,90.0,6.730715207403648e-9],[0.79,4.3373666334216375e-9,58.0,100.0,1.1980742842254699e-8],[0.8125,4.4469352439058753e-10,60.0,96.0,1.7263480645013374e-9],[0.8315789473684211,3.4675436577962654e-11,63.0,95.0,2.0035861858502813e-10],[0.875,1.4016007077149398e-15,78.0,104.0,4.340972026284362e-14],[0.8059701492537313,4.479313635598752e-13,82.0,134.0,2.608802063264193e-12],[0.8909090909090909,6.156273065927667e-18,86.0,110.0,5.551115123125783e-16],[0.8402777777777778,2.923580700821239e-17,98.0,144.0,6.661338147750939e-16],[0.8974358974358975,1.0387903364952914e-19,93.0,117.0,0.0]],[[0.1836734693877551,1.6606697571045604e-10,-62.0,98.0,7.186338191189634e-10],[0.16176470588235295,1.2750032374450517e-8,-46.0,68.0,4.841058065530035e-8],[0.25,2.8793907495367242e-6,-44.0,88.0,4.565673459744346e-6],[0.27906976744186046,0.00005083654201844156,-38.0,86.0,0.00006612551641249631],[0.29069767441860467,0.00013037942991199537,-36.0,86.0,0.00016055603247933092],[0.30120481927710846,0.0003783427631607787,-33.0,83.0,0.00044398497897857325],[0.3026315789473684,0.0007645817391550476,-30.0,76.0,0.000879351401835371],[0.3258426966292135,0.0013352623656219375,-31.0,89.0,0.0014727828467661075],[0.3253012048192771,0.0019314374822250477,-29.0,83.0,0.002116351150048157],[0.3409090909090909,0.0037465093469812305,-28.0,88.0,0.003999392249374956],[0.33783783783783783,0.007084252673880489,-24.0,74.0,0.007502049219659579],[0.3595505617977528,0.010546897231105523,-25.0,89.0,0.010959268093534646],[0.3561643835616438,0.01861775143319464,-21.0,73.0,0.019241289593884825],[0.3815789473684211,0.050452410247217666,-18.0,76.0,0.05117209797510924],[0.4520547945205479,0.48278855684402133,-7.0,73.0,0.48252521231388223],[\"nan\",1.0,0.0,0.0,1.0],[0.5128205128205128,0.9099464518745242,2.0,78.0,0.9098500327472845],[0.5217391304347826,0.7546517496104984,4.0,92.0,0.7544541774940892],[0.5462962962962963,0.3865726089882613,10.0,108.0,0.3864762307712325],[0.6049382716049383,0.07478815428283364,17.0,81.0,0.0754403596268004],[0.6551724137931034,0.005013598900146386,27.0,87.0,0.00531176689565338],[0.6310679611650486,0.010063333265586338,27.0,103.0,0.01041144396288407],[0.7052631578947368,0.00007804247056315925,39.0,95.0,0.00009670342062695347],[0.7019230769230769,0.000046569869697466,42.0,104.0,0.00005810415079887665],[0.7472527472527473,2.5221536534654515e-6,45.0,91.0,3.9794400585879686e-6],[0.7752808988764045,1.7769640600713887e-7,49.0,89.0,3.618787830506065e-7],[0.7865168539325843,4.957489567762136e-8,51.0,89.0,1.1580940417754704e-7],[0.7476635514018691,2.87737462890791e-7,53.0,107.0,4.981351168220627e-7],[0.7978723404255319,4.8181440754468005e-9,56.0,94.0,1.4046838026082753e-8],[0.8256880733944955,3.098472966432261e-12,71.0,109.0,2.017042088908738e-11],[0.8205128205128205,1.1987559175109566e-12,75.0,117.0,7.847611449562919e-12],[0.8558558558558559,7.519631891796862e-15,79.0,111.0,1.326716514427062e-13],[0.864,2.2210629525385693e-17,91.0,125.0,7.771561172376096e-16],[0.8706896551724138,7.752808767891496e-17,86.0,116.0,2.9976021664879227e-15]],[[0.16666666666666666,2.0744109143956072e-11,-64.0,96.0,1.2767908952326934e-10],[0.16666666666666666,8.055498526741105e-9,-48.0,72.0,3.0419822660832097e-8],[0.1891891891891892,6.221761416347879e-8,-46.0,74.0,1.6846444461648957e-7],[0.24358974358974358,6.41506390670917e-6,-40.0,78.0,0.000010059968254427787],[0.2361111111111111,8.14003082672391e-6,-38.0,72.0,0.00001297704350999851],[0.2463768115942029,0.000029304321745456655,-35.0,69.0,0.000042560914196188016],[0.2647058823529412,0.00013083876154198454,-32.0,68.0,0.0001703879348371462],[0.30120481927710846,0.0003783427631607787,-33.0,83.0,0.00044398497897857325],[0.2753623188405797,0.00024439701657757496,-31.0,69.0,0.00030434234335940946],[0.32142857142857145,0.0014044946311139559,-30.0,84.0,0.0015553158298389214],[0.3088235294117647,0.0021862431776861714,-26.0,68.0,0.0024318453627428793],[0.32,0.0024442284992149655,-27.0,75.0,0.002680171728068448],[0.31746031746031744,0.005152397042092064,-23.0,63.0,0.005575764332991229],[0.3684210526315789,0.028626655508737896,-20.0,76.0,0.029298294404550562],[0.44155844155844154,0.36203179773966154,-9.0,77.0,0.36193476692119253],[0.48717948717948717,0.9099464518745242,-2.0,78.0,0.9098500327472845],[\"nan\",1.0,0.0,0.0,1.0],[0.5116279069767442,0.9142116370824498,2.0,86.0,0.9141283452014198],[0.5434782608695652,0.46570744577306195,8.0,92.0,0.46551216987418653],[0.5789473684210527,0.1505180638902294,15.0,95.0,0.15089717233442645],[0.6404494382022472,0.010546897231105523,25.0,89.0,0.010959268093534646],[0.631578947368421,0.013378703026003939,25.0,95.0,0.0138030648623656],[0.7126436781609196,0.0000906079859652185,37.0,87.0,0.00011357039293058424],[0.7083333333333334,0.00005459154357711447,40.0,96.0,0.00006879337319387613],[0.7311827956989247,9.375635307717017e-6,43.0,93.0,0.000013294722762569045],[0.7422680412371134,1.9187392502875328e-6,47.0,97.0,3.00332409342019e-6],[0.7333333333333333,1.8534768352189496e-6,49.0,105.0,2.8089040436940493e-6],[0.7339449541284404,1.080908243358372e-6,51.0,109.0,1.6750475317905966e-6],[0.7647058823529411,7.679430153026993e-8,54.0,102.0,1.5394132146795414e-7],[0.8108108108108109,2.3144662509616954e-11,69.0,111.0,1.0873868472316417e-10],[0.8016528925619835,1.3442945758766515e-11,73.0,121.0,5.931466429132115e-11],[0.8407079646017699,7.970114680452795e-14,77.0,113.0,8.710809851208978e-13],[0.8739495798319328,1.450249679735154e-17,89.0,119.0,6.661338147750939e-16],[0.8818181818181818,4.700941065418037e-17,84.0,110.0,2.4424906541753444e-15]],[[0.16326530612244897,7.380354309112728e-12,-66.0,98.0,5.168776517905371e-11],[0.2222222222222222,1.1363565084238009e-7,-50.0,90.0,2.403701460096386e-7],[0.2391304347826087,5.348143171041871e-7,-48.0,92.0,9.579338275944593e-7],[0.26666666666666666,0.000010902049191089246,-42.0,90.0,0.000015477584790146715],[0.2727272727272727,0.000023726590787439646,-40.0,88.0,0.00003218704260965488],[0.29213483146067415,0.00010992624937112814,-37.0,89.0,0.00013563669654459432],[0.27631578947368424,0.0001206291159979032,-34.0,76.0,0.0001534864651312473],[0.30337078651685395,0.00026558534298746995,-35.0,89.0,0.0003133657498484155],[0.3146067415730337,0.0006102590502807983,-33.0,89.0,0.0006938615813185667],[0.313953488372093,0.0007317100653124087,-32.0,86.0,0.0008293287959082463],[0.34444444444444444,0.0041651140158244435,-28.0,90.0,0.004426525857919805],[0.34408602150537637,0.0034618534914423785,-29.0,93.0,0.003690585198680707],[0.3493975903614458,0.008036706377857002,-25.0,83.0,0.008430046878470487],[0.36904761904761907,0.021383189937144585,-22.0,84.0,0.021946771003246823],[0.43529411764705883,0.2779992890805517,-11.0,85.0,0.278075686620885],[0.4782608695652174,0.7546517496104984,-4.0,92.0,0.7544541774940892],[0.4883720930232558,0.9142116370824498,-2.0,86.0,0.9141283452014198],[\"nan\",1.0,0.0,0.0,1.0],[0.53125,0.610068266105178,6.0,96.0,0.6098340436734595],[0.5631067961165048,0.23690187778029279,13.0,103.0,0.2370489531527742],[0.6185567010309279,0.02499073659259804,23.0,97.0,0.025498765843179783],[0.6095238095238096,0.03130178457554002,23.0,105.0,0.03179486110380603],[0.6576576576576577,0.0011510187915276821,35.0,111.0,0.0012503549718007045],[0.6792452830188679,0.00028452861891625184,38.0,106.0,0.0003259429757349608],[0.6952380952380952,0.00007808423662658282,41.0,105.0,0.00009477225139786771],[0.7064220183486238,0.00001938048409366411,45.0,109.0,0.000025040352692795587],[0.7043478260869566,0.000013800344917800584,47.0,115.0,0.000017905798157413777],[0.7130434782608696,5.571423208480338e-6,49.0,115.0,7.60462677229512e-6],[0.7363636363636363,7.293567965336598e-7,52.0,110.0,1.1581915660974218e-6],[0.7637795275590551,1.984553317143075e-9,67.0,127.0,4.725729252363919e-9],[0.8034188034188035,2.2313814815989472e-11,71.0,117.0,9.703327030763376e-11],[0.7906976744186046,1.8819747521132473e-11,75.0,129.0,7.252676237357036e-11],[0.8175182481751825,2.403640054084458e-14,87.0,137.0,2.0194956817931597e-13],[0.8059701492537313,4.479313635598752e-13,82.0,134.0,2.608802063264193e-12]],[[0.16037735849056603,5.912079008704511e-13,-72.0,106.0,5.343836484428266e-12],[0.23076923076923078,3.221505246540145e-8,-56.0,104.0,6.921626105604872e-8],[0.23,5.513580775850052e-8,-54.0,100.0,1.1580268077793221e-7],[0.25,9.69923242552742e-7,-48.0,96.0,1.611259937583931e-6],[0.2261904761904762,4.748492975346606e-7,-46.0,84.0,9.112167294045292e-7],[0.25287356321839083,4.348703111758687e-6,-43.0,87.0,6.704106102373153e-6],[0.2727272727272727,0.000023726590787439646,-40.0,88.0,0.00003218704260965488],[0.28865979381443296,0.00003803794805755345,-41.0,97.0,0.00004878251767115316],[0.27586206896551724,0.000034799669459257334,-39.0,87.0,0.00004620699551383112],[0.2978723404255319,0.00011112062020663294,-38.0,94.0,0.0001354904977910465],[0.3333333333333333,0.000986536808184603,-34.0,102.0,0.0010850689109981326],[0.3364485981308411,0.0009231579958033549,-35.0,107.0,0.001012953367415026],[0.32967032967032966,0.0015165131944572209,-31.0,91.0,0.0016616944579834758],[0.35106382978723405,0.00507843581282981,-28.0,94.0,0.00535545771184176],[0.41414141414141414,0.10735158653318887,-17.0,99.0,0.1078219281599685],[0.4537037037037037,0.3865726089882613,-10.0,108.0,0.3864762307712325],[0.45652173913043476,0.46570744577306195,-8.0,92.0,0.46551216987418653],[0.46875,0.610068266105178,-6.0,96.0,0.6098340436734595],[\"nan\",1.0,0.0,0.0,1.0],[0.5346534653465347,0.5507089135982715,7.0,101.0,0.550492482749823],[0.5825242718446602,0.11446824201255822,17.0,103.0,0.11490443706556042],[0.5739130434782609,0.1353504098348154,17.0,115.0,0.13569712855072358],[0.6260869565217392,0.00873510868433317,29.0,115.0,0.00902743397923611],[0.6538461538461539,0.0022094328919877613,32.0,104.0,0.0023673522414633386],[0.6521739130434783,0.001412957498607674,35.0,115.0,0.0015216827001912625],[0.672566371681416,0.00030960246353573076,39.0,113.0,0.0003505770414741205],[0.6589147286821705,0.00038715513395483516,41.0,129.0,0.00042862152099487627],[0.6837606837606838,0.00008717436729426461,43.0,117.0,0.00010321744149510703],[0.7017543859649122,0.000019596368034800084,46.0,114.0,0.00002501811902921869],[0.7479674796747967,3.3173529174399884e-8,61.0,123.0,6.3018482210353e-8],[0.76,4.659978428792858e-9,65.0,125.0,1.0384026971621552e-8],[0.7633587786259542,1.1612274833072096e-9,69.0,131.0,2.8296458509657896e-9],[0.7956204379562044,1.7449187258294395e-12,81.0,137.0,8.208433932566095e-12],[0.7714285714285715,7.793986201015429e-11,76.0,140.0,2.3177670893659297e-10]],[[0.1504424778761062,1.4727515742257347e-14,-79.0,113.0,2.1738166822160565e-13],[0.17525773195876287,6.007962189879819e-11,-63.0,97.0,3.071102261387182e-10],[0.20388349514563106,1.0696750216702928e-9,-61.0,103.0,3.3802848298236654e-9],[0.21649484536082475,1.7194329935998188e-8,-55.0,97.0,4.184822177677461e-8],[0.20224719101123595,1.2968749869187788e-8,-53.0,89.0,3.5480114846109245e-8],[0.2222222222222222,1.1363565084238009e-7,-50.0,90.0,2.403701460096386e-7],[0.24731182795698925,1.1026255560645484e-6,-47.0,93.0,1.8424622734158902e-6],[0.25510204081632654,1.2796062450772919e-6,-48.0,98.0,2.057256577203681e-6],[0.27884615384615385,7.366510614966003e-6,-46.0,104.0,0.000010213043956541767],[0.2631578947368421,4.271012269463366e-6,-45.0,95.0,6.352481595084392e-6],[0.26436781609195403,0.000012653512115621955,-41.0,87.0,0.000017992417668311056],[0.3055555555555556,0.00006550370792480047,-42.0,108.0,0.00007972447000903493],[0.2682926829268293,0.000032317126198897614,-38.0,82.0,0.000043893718355558775],[0.31958762886597936,0.000490157948963301,-35.0,97.0,0.0005560828940536222],[0.33783783783783783,0.007084252673880489,-24.0,74.0,0.007502049219659579],[0.3950617283950617,0.07478815428283364,-17.0,81.0,0.0754403596268004],[0.42105263157894735,0.1505180638902294,-15.0,95.0,0.15089717233442645],[0.4368932038834951,0.23690187778029279,-13.0,103.0,0.2370489531527742],[0.46534653465346537,0.5507089135982715,-7.0,101.0,0.550492482749823],[\"nan\",1.0,0.0,0.0,1.0],[0.5543478260869565,0.3481412903192059,10.0,92.0,0.3480826236329241],[0.5490196078431373,0.3729436680836294,10.0,102.0,0.37285793639518305],[0.6341463414634146,0.0198269158458416,22.0,82.0,0.020391672237361158],[0.6086956521739131,0.024793536339643575,25.0,115.0,0.025220302605390765],[0.648936170212766,0.00507843581282981,28.0,94.0,0.00535545771184176],[0.6666666666666666,0.001424496094649118,32.0,96.0,0.0015565730248836562],[0.6888888888888889,0.0004379221966341338,34.0,90.0,0.0005042182294490161],[0.6764705882352942,0.00046860434916208907,36.0,102.0,0.000529214248540133],[0.7191011235955056,0.00004321520924983878,39.0,89.0,0.00005625527075858727],[0.78125,2.7069291882474876e-8,54.0,96.0,6.327515134074702e-8],[0.7301587301587301,2.364920722052491e-7,58.0,126.0,3.8150176728812824e-7],[0.7924528301886793,1.0168289347541834e-9,62.0,106.0,3.125944503246103e-9],[0.8032786885245902,8.341401161083558e-12,74.0,122.0,3.8663849899478464e-11],[0.8165137614678899,1.4176630345560641e-11,69.0,109.0,7.355727138502743e-11]],[[0.12605042016806722,1.450249679735154e-17,-89.0,119.0,6.661338147750939e-16],[0.14563106796116504,9.654706383228215e-14,-73.0,103.0,1.2994050280212832e-12],[0.12631578947368421,3.211393990185144e-14,-71.0,95.0,6.877831637552845e-13],[0.1717171717171717,2.1806410800143945e-11,-65.0,99.0,1.2573531105175562e-10],[0.14606741573033707,5.446803038068455e-12,-63.0,89.0,4.96482854828173e-11],[0.19387755102040816,7.127385901074282e-10,-60.0,98.0,2.523923181563248e-9],[0.18681318681318682,1.1934080595966506e-9,-57.0,91.0,4.347578297370092e-9],[0.21,4.3373666334216375e-9,-58.0,100.0,1.1980742842254699e-8],[0.20833333333333334,7.319367989521492e-9,-56.0,96.0,1.983732222932133e-8],[0.21649484536082475,1.7194329935998188e-8,-55.0,97.0,4.184822177677461e-8],[0.21348314606741572,4.957489567762136e-8,-51.0,89.0,1.1580940417754704e-7],[0.24509803921568626,2.4519113385990644e-7,-52.0,102.0,4.423829176314342e-7],[0.22093023255813954,1.9409574271727466e-7,-48.0,86.0,4.0172117921066786e-7],[0.21518987341772153,3.5883588815862885e-7,-45.0,79.0,7.406614173088855e-7],[0.3023255813953488,0.00031699928227764087,-34.0,86.0,0.00037300503570447674],[0.3448275862068966,0.005013598900146386,-27.0,87.0,0.00531176689565338],[0.3595505617977528,0.010546897231105523,-25.0,89.0,0.010959268093534646],[0.38144329896907214,0.02499073659259804,-23.0,97.0,0.025498765843179783],[0.4174757281553398,0.11446824201255822,-17.0,103.0,0.11490443706556042],[0.44565217391304346,0.3481412903192059,-10.0,92.0,0.3480826236329241],[\"nan\",1.0,0.0,0.0,1.0],[0.5,1.0,0.0,108.0,0.9233418401809065],[0.573170731707317,0.22424452830608183,12.0,82.0,0.22446268200786768],[0.5757575757575758,0.15906965188123823,15.0,99.0,0.15941169079839512],[0.6046511627906976,0.06615259746138927,18.0,86.0,0.06677920499969492],[0.627906976744186,0.02298259190715704,22.0,86.0,0.02354410241255278],[0.6428571428571429,0.011634454119925825,24.0,84.0,0.012090025148399741],[0.6805555555555556,0.002942760530124976,26.0,72.0,0.0032162293101274386],[0.704225352112676,0.0007667649897412908,29.0,71.0,0.0008905854024855442],[0.75,2.8793907495367242e-6,44.0,88.0,4.565673459744346e-6],[0.7264150943396226,3.4525612188472383e-6,48.0,106.0,4.9939065063231425e-6],[0.7954545454545454,2.0783545041774735e-8,52.0,88.0,5.4301301122272605e-8],[0.7711864406779662,2.6899026850690616e-9,64.0,118.0,6.646532435539143e-9],[0.8105263157894737,7.252322160518573e-10,59.0,95.0,2.6703979028042113e-9]],[[0.1322314049586777,3.162946279828288e-17,-89.0,121.0,1.2212453270876722e-15],[0.1588785046728972,3.5057799981190235e-13,-73.0,107.0,3.390621117205228e-12],[0.1619047619047619,9.952845271763166e-13,-71.0,105.0,8.414824392843911e-12],[0.19626168224299065,1.6010060804361699e-10,-65.0,107.0,6.127583995763075e-10],[0.16129032258064516,1.9393097995260696e-11,-63.0,93.0,1.2836121054959904e-10],[0.20588235294117646,1.709865174269227e-9,-60.0,102.0,5.161792548946664e-9],[0.21212121212121213,6.88231823830183e-9,-57.0,99.0,1.8208745844461305e-8],[0.23636363636363636,2.6140393458029345e-8,-58.0,110.0,5.487738741205561e-8],[0.2358490566037736,4.4793745175678225e-8,-56.0,106.0,9.189001737297531e-8],[0.23300970873786409,4.980762968257179e-8,-55.0,103.0,1.0332436806148593e-7],[0.2743362831858407,1.7300043785001778e-6,-51.0,113.0,2.5560836984794832e-6],[0.23469387755102042,1.3172242120654855e-7,-52.0,98.0,2.5802840453170717e-7],[0.2692307692307692,2.736780589985052e-6,-48.0,104.0,4.051376426561504e-6],[0.27722772277227725,8.635781314660544e-6,-45.0,101.0,0.000011968347738977592],[0.3111111111111111,0.0004379221966341338,-34.0,90.0,0.0005042182294490161],[0.36893203883495146,0.010063333265586338,-27.0,103.0,0.01041144396288407],[0.3684210526315789,0.013378703026003939,-25.0,95.0,0.0138030648623656],[0.3904761904761905,0.03130178457554002,-23.0,105.0,0.03179486110380603],[0.4260869565217391,0.1353504098348154,-17.0,115.0,0.13569712855072358],[0.45098039215686275,0.3729436680836294,-10.0,102.0,0.37285793639518305],[0.5,1.0,0.0,108.0,0.9233418401809065],[\"nan\",1.0,0.0,0.0,1.0],[0.5555555555555556,0.2897982154050616,12.0,108.0,0.289838717607508],[0.5641025641025641,0.19534905940457784,15.0,117.0,0.1955616583996035],[0.5882352941176471,0.09183767826908278,18.0,102.0,0.09232654595631029],[0.6,0.04476209415697338,22.0,110.0,0.04525554618596206],[0.6071428571428571,0.029302222971632798,24.0,112.0,0.029758067435199154],[0.6101694915254238,0.02097002953003506,26.0,118.0,0.021366968260868258],[0.6306306306306306,0.0075848117754316186,29.0,111.0,0.007868934200841227],[0.6833333333333333,0.00007291502428713535,44.0,120.0,0.00008660552398787047],[0.7068965517241379,9.685884063140466e-6,48.0,116.0,0.00001277988023229426],[0.7131147540983607,2.7878838112871152e-6,52.0,122.0,3.887218965270556e-6],[0.7461538461538462,1.69872442575104e-8,64.0,130.0,3.286131100566081e-8],[0.736,1.2560405612579237e-7,59.0,125.0,2.1293269891753397e-7]],[[0.1259259259259259,8.634558219080549e-20,-101.0,135.0,0.0],[0.102803738317757,4.300826607582504e-18,-85.0,107.0,4.440892098500626e-16],[0.13274336283185842,4.098728148755534e-16,-83.0,113.0,1.2212453270876722e-14],[0.14678899082568808,2.2089187156338813e-14,-77.0,109.0,3.3506530883187224e-13],[0.16216216216216217,2.2601502838438826e-13,-75.0,111.0,2.1596058275008545e-12],[0.16666666666666666,1.0657835390692565e-12,-72.0,108.0,8.375189430864793e-12],[0.1834862385321101,1.4176630345560641e-11,-69.0,109.0,7.355727138502743e-11],[0.2033898305084746,5.560432964003839e-11,-70.0,118.0,2.125818410192437e-10],[0.20689655172413793,1.4181822700488308e-10,-68.0,116.0,4.946457687893258e-10],[0.20353982300884957,1.4884906475803411e-10,-67.0,113.0,5.34050803580044e-10],[0.2,4.157046960834439e-10,-63.0,105.0,1.4432486317161874e-9],[0.2288135593220339,2.6899026850690616e-9,-64.0,118.0,6.646532435539143e-9],[0.2169811320754717,3.787227599932374e-9,-60.0,106.0,1.0008392226090734e-8],[0.22857142857142856,2.0779877274240742e-8,-57.0,105.0,4.6280136611898115e-8],[0.25,1.670436795024911e-6,-46.0,92.0,2.7111075749930436e-6],[0.29473684210526313,0.00007804247056315925,-39.0,95.0,0.00009670342062695347],[0.28735632183908044,0.0000906079859652185,-37.0,87.0,0.00011357039293058424],[0.34234234234234234,0.0011510187915276821,-35.0,111.0,0.0012503549718007045],[0.3739130434782609,0.00873510868433317,-29.0,115.0,0.00902743397923611],[0.36585365853658536,0.0198269158458416,-22.0,82.0,0.020391672237361158],[0.4268292682926829,0.22424452830608183,-12.0,82.0,0.22446268200786768],[0.4444444444444444,0.2897982154050616,-12.0,108.0,0.289838717607508],[\"nan\",1.0,0.0,0.0,1.0],[0.5128205128205128,0.8534084458955624,3.0,117.0,0.8533074196871153],[0.5333333333333333,0.5984117182335192,6.0,90.0,0.5981614526835279],[0.5595238095238095,0.3261341711919829,10.0,84.0,0.32610945202048924],[0.5681818181818182,0.2407931245390016,12.0,88.0,0.24095466870157023],[0.5833333333333334,0.15565646371399705,14.0,84.0,0.15606926343163963],[0.6197183098591549,0.05681467793283902,17.0,71.0,0.057584115072876085],[0.686046511627907,0.0007317100653124087,32.0,86.0,0.0008293287959082463],[0.6451612903225806,0.0015647340261696686,36.0,124.0,0.001671728396484773],[0.717391304347826,0.000036700459237994134,40.0,92.0,0.00004782056236174448],[0.7321428571428571,9.322584031886636e-7,52.0,112.0,1.4424555103698111e-6],[0.7831325301204819,2.1054542433593656e-7,47.0,83.0,4.437663474465836e-7]],[[0.1,4.31422564584497e-22,-104.0,130.0,0.0],[0.13934426229508196,1.1474562133221443e-16,-88.0,122.0,3.3306690738754696e-15],[0.10185185185185185,2.391242454166262e-18,-86.0,108.0,3.3306690738754696e-16],[0.16101694915254236,3.055970137442688e-14,-80.0,118.0,3.5282887722587475e-13],[0.15789473684210525,4.721433127339268e-14,-78.0,114.0,5.525579993559404e-13],[0.16216216216216217,2.2601502838438826e-13,-75.0,111.0,2.1596058275008545e-12],[0.17857142857142858,3.1880856558543937e-12,-72.0,112.0,1.961386608684279e-11],[0.2032520325203252,2.0789169979429998e-11,-73.0,123.0,8.469225321050544e-11],[0.1743119266055046,3.098472966432261e-12,-71.0,109.0,2.017042088908738e-11],[0.17592592592592593,5.13116239379527e-12,-70.0,108.0,3.1468938566092675e-11],[0.21052631578947367,3.5862160099959136e-10,-66.0,114.0,1.1446718017893431e-9],[0.20353982300884957,1.4884906475803411e-10,-67.0,113.0,5.34050803580044e-10],[0.205607476635514,6.375481651166934e-10,-63.0,107.0,2.050360548011554e-9],[0.19387755102040816,7.127385901074282e-10,-60.0,98.0,2.523923181563248e-9],[0.28695652173913044,5.571423208480338e-6,-49.0,115.0,7.60462677229512e-6],[0.2980769230769231,0.000046569869697466,-42.0,104.0,0.00005810415079887665],[0.2916666666666667,0.00005459154357711447,-40.0,96.0,0.00006879337319387613],[0.32075471698113206,0.00028452861891625184,-38.0,106.0,0.0003259429757349608],[0.34615384615384615,0.0022094328919877613,-32.0,104.0,0.0023673522414633386],[0.391304347826087,0.024793536339643575,-25.0,115.0,0.025220302605390765],[0.42424242424242425,0.15906965188123823,-15.0,99.0,0.15941169079839512],[0.4358974358974359,0.19534905940457784,-15.0,117.0,0.1955616583996035],[0.48717948717948717,0.8534084458955624,-3.0,117.0,0.8533074196871153],[\"nan\",1.0,0.0,0.0,1.0],[0.5142857142857142,0.8453703188825517,3.0,105.0,0.8452520242196513],[0.5309734513274337,0.5726564757939484,7.0,113.0,0.5724598115575816],[0.5420560747663551,0.43944010177908255,9.0,107.0,0.4392920848474955],[0.5486725663716814,0.34689310509533516,11.0,113.0,0.34684792186514724],[0.5777777777777777,0.17024239504607366,14.0,90.0,0.17058693287144122],[0.6464646464646465,0.004640654088434308,29.0,99.0,0.004891311452359326],[0.6571428571428571,0.0016590268898995495,33.0,105.0,0.0017909060837688617],[0.6761904761904762,0.00039070001552236726,37.0,105.0,0.00044267698634337105],[0.7094017094017094,6.775655653746717e-6,49.0,117.0,9.096680073095165e-6],[0.6929824561403509,0.00004609247371251201,44.0,114.0,0.00005641646937404321]],[[0.0916030534351145,2.587003859247397e-23,-107.0,131.0,0.0],[0.12396694214876033,4.715659082533631e-18,-91.0,121.0,3.3306690738754696e-16],[0.10619469026548672,1.0769168220004768e-18,-89.0,113.0,1.1102230246251565e-16],[0.0970873786407767,5.198609903817759e-18,-83.0,103.0,6.661338147750939e-16],[0.09900990099009901,1.6977475366916752e-17,-81.0,101.0,1.6653345369377348e-15],[0.15178571428571427,2.507729768138009e-14,-78.0,112.0,3.4428015993626104e-13],[0.168141592920354,4.045693021158809e-13,-75.0,113.0,3.3706371027619753e-12],[0.15454545454545454,7.237227129476198e-14,-76.0,110.0,8.61644089411584e-13],[0.17543859649122806,1.1680094670975612e-12,-74.0,114.0,8.082534641573602e-12],[0.1651376146788991,6.366602155148437e-13,-73.0,109.0,5.33562083404604e-12],[0.14432989690721648,4.2224144708722095e-13,-69.0,97.0,5.0431880893597736e-12],[0.1875,1.419861081655098e-11,-70.0,112.0,7.036027316331683e-11],[0.18269230769230768,3.7855174633264834e-11,-66.0,104.0,1.8443180316296548e-10],[0.21621621621621623,1.4180922486418413e-9,-63.0,111.0,3.98584842908889e-9],[0.24509803921568626,2.4519113385990644e-7,-52.0,102.0,4.423829176314342e-7],[0.25274725274725274,2.5221536534654515e-6,-45.0,91.0,3.9794400585879686e-6],[0.26881720430107525,9.375635307717017e-6,-43.0,93.0,0.000013294722762569045],[0.3047619047619048,0.00007808423662658282,-41.0,105.0,0.00009477225139786771],[0.34782608695652173,0.001412957498607674,-35.0,115.0,0.0015216827001912625],[0.35106382978723405,0.00507843581282981,-28.0,94.0,0.00535545771184176],[0.3953488372093023,0.06615259746138927,-18.0,86.0,0.06677920499969492],[0.4117647058823529,0.09183767826908278,-18.0,102.0,0.09232654595631029],[0.4666666666666667,0.5984117182335192,-6.0,90.0,0.5981614526835279],[0.4857142857142857,0.8453703188825517,-3.0,105.0,0.8452520242196513],[\"nan\",1.0,0.0,0.0,1.0],[0.52,0.7643534344026669,4.0,100.0,0.7641771556220947],[0.5340909090909091,0.59428829514694,6.0,88.0,0.5940323405990415],[0.5434782608695652,0.46570744577306195,8.0,92.0,0.46551216987418653],[0.5632183908045977,0.2836071084054854,11.0,87.0,0.2836694894070203],[0.6354166666666666,0.010345913082728777,26.0,96.0,0.010724437603060188],[0.65625,0.002878610081200932,30.0,96.0,0.0030783871166717436],[0.6888888888888889,0.0004379221966341338,34.0,90.0,0.0005042182294490161],[0.7446808510638298,2.2027598315502487e-6,46.0,94.0,3.4606384363700116e-6],[0.7252747252747253,0.000020283289208145556,41.0,91.0,0.000027512032496179728]],[[0.0948905109489051,6.84026545842273e-24,-111.0,137.0,0.0],[0.09401709401709402,1.1625691644538388e-20,-95.0,117.0,0.0],[0.13385826771653545,7.386767234722092e-18,-93.0,127.0,3.3306690738754696e-16],[0.1282051282051282,4.439257960696856e-17,-87.0,117.0,1.887379141862766e-15],[0.102803738317757,4.300826607582504e-18,-85.0,107.0,4.440892098500626e-16],[0.13392857142857142,7.121860330286232e-16,-82.0,112.0,1.9539925233402755e-14],[0.1565217391304348,2.792528455178105e-14,-79.0,115.0,3.5016434196677437e-13],[0.1721311475409836,9.677506062033449e-14,-80.0,122.0,8.532063944244328e-13],[0.14545454545454545,1.2897655647164703e-14,-78.0,110.0,2.1094237467877974e-13],[0.192,1.9702912858306405e-12,-77.0,125.0,1.06341602190696e-11],[0.1523809523809524,1.87131274564586e-13,-73.0,105.0,2.1180834863798736e-12],[0.17543859649122806,1.1680094670975612e-12,-74.0,114.0,8.082534641573602e-12],[0.14285714285714285,2.4575158375112673e-13,-70.0,98.0,3.1682434453728092e-12],[0.1981981981981982,9.633963090742948e-11,-67.0,111.0,3.7416092446562743e-10],[0.18888888888888888,1.9482376627755696e-9,-56.0,90.0,6.730715207403648e-9],[0.2247191011235955,1.7769640600713887e-7,-49.0,89.0,3.618787830506065e-7],[0.25773195876288657,1.9187392502875328e-6,-47.0,97.0,3.00332409342019e-6],[0.29357798165137616,0.00001938048409366411,-45.0,109.0,0.000025040352692795587],[0.3274336283185841,0.00030960246353573076,-39.0,113.0,0.0003505770414741205],[0.3333333333333333,0.001424496094649118,-32.0,96.0,0.0015565730248836562],[0.37209302325581395,0.02298259190715704,-22.0,86.0,0.02354410241255278],[0.4,0.04476209415697338,-22.0,110.0,0.04525554618596206],[0.44047619047619047,0.3261341711919829,-10.0,84.0,0.32610945202048924],[0.4690265486725664,0.5726564757939484,-7.0,113.0,0.5724598115575816],[0.48,0.7643534344026669,-4.0,100.0,0.7641771556220947],[\"nan\",1.0,0.0,0.0,1.0],[0.5106382978723404,0.917923067315743,2.0,94.0,0.9178501726683691],[0.5204081632653061,0.7620362195292438,4.0,98.0,0.7618549862187098],[0.5432098765432098,0.5052364407669357,7.0,81.0,0.5049850750938457],[0.625,0.024622831581791033,22.0,88.0,0.025181464404459675],[0.6101694915254238,0.02097002953003506,26.0,118.0,0.021366968260868258],[0.6744186046511628,0.0016055649295642408,30.0,86.0,0.0017650959193790117],[0.6810344827586207,0.00012034422931947831,42.0,116.0,0.00014080242868896864],[0.6831683168316832,0.0002959601961545845,37.0,101.0,0.00034079904541117756]],[[0.09929078014184398,5.815315210521221e-24,-113.0,141.0,0.0],[0.08547008547008547,1.1819170779356622e-21,-97.0,117.0,0.0],[0.11382113821138211,2.0761409799356805e-19,-95.0,123.0,0.0],[0.12605042016806722,1.450249679735154e-17,-89.0,119.0,6.661338147750939e-16],[0.10810810810810811,3.4466261850741707e-18,-87.0,111.0,3.3306690738754696e-16],[0.13793103448275862,4.958638770872384e-16,-84.0,116.0,1.2989609388114332e-14],[0.14782608695652175,5.056827098324028e-15,-81.0,115.0,8.64863736182997e-14],[0.15254237288135594,5.725061244691279e-15,-82.0,118.0,8.870681966755001e-14],[0.1774193548387097,1.6601952366746198e-13,-80.0,124.0,1.2990719611138957e-12],[0.1565217391304348,2.792528455178105e-14,-79.0,115.0,3.5016434196677437e-13],[0.14953271028037382,6.449578410896073e-14,-75.0,107.0,8.43769498715119e-13],[0.1724137931034483,4.248735618228405e-13,-76.0,116.0,3.3174574198824303e-12],[0.17857142857142858,3.1880856558543937e-12,-72.0,112.0,1.961386608684279e-11],[0.1891891891891892,2.3144662509616954e-11,-69.0,111.0,1.0873868472316417e-10],[0.21,4.3373666334216375e-9,-58.0,100.0,1.1980742842254699e-8],[0.21348314606741572,4.957489567762136e-8,-51.0,89.0,1.1580940417754704e-7],[0.26666666666666666,1.8534768352189496e-6,-49.0,105.0,2.8089040436940493e-6],[0.2956521739130435,0.000013800344917800584,-47.0,115.0,0.000017905798157413777],[0.34108527131782945,0.00038715513395483516,-41.0,129.0,0.00042862152099487627],[0.3111111111111111,0.0004379221966341338,-34.0,90.0,0.0005042182294490161],[0.35714285714285715,0.011634454119925825,-24.0,84.0,0.012090025148399741],[0.39285714285714285,0.029302222971632798,-24.0,112.0,0.029758067435199154],[0.4318181818181818,0.2407931245390016,-12.0,88.0,0.24095466870157023],[0.45794392523364486,0.43944010177908255,-9.0,107.0,0.4392920848474955],[0.4659090909090909,0.59428829514694,-6.0,88.0,0.5940323405990415],[0.48936170212765956,0.917923067315743,-2.0,94.0,0.9178501726683691],[\"nan\",1.0,0.0,0.0,1.0],[0.5113636363636364,0.9151865048428764,2.0,88.0,0.9151060344205056],[0.5342465753424658,0.6399729317539425,5.0,73.0,0.6396668933244998],[0.6111111111111112,0.04459752462791592,20.0,90.0,0.04520135297652217],[0.603448275862069,0.03227202073309318,24.0,116.0,0.03272048483157364],[0.6555555555555556,0.0041651140158244435,28.0,90.0,0.004426525857919805],[0.6923076923076923,0.00010959860355569963,40.0,104.0,0.00013116297592663528],[0.6966292134831461,0.00026558534298746995,35.0,89.0,0.0003133657498484155]],[[0.07407407407407407,1.962657178574568e-26,-115.0,135.0,0.0],[0.08403361344537816,3.518195580823734e-22,-99.0,119.0,0.0],[0.08547008547008547,1.1819170779356622e-21,-97.0,117.0,0.0],[0.1111111111111111,8.490021806129161e-19,-91.0,117.0,1.1102230246251565e-16],[0.0990990990990991,4.0853725805661456e-19,-89.0,111.0,1.1102230246251565e-16],[0.14754098360655737,6.780884736177504e-16,-86.0,122.0,1.4099832412739488e-14],[0.13274336283185842,4.098728148755534e-16,-83.0,113.0,1.2212453270876722e-14],[0.13157894736842105,2.355799901240388e-16,-84.0,114.0,7.66053886991358e-15],[0.14655172413793102,2.9566626383126712e-15,-82.0,116.0,5.4511950509095186e-14],[0.15384615384615385,9.723859231682611e-15,-81.0,117.0,1.4033219031261979e-13],[0.1592920353982301,7.970114680452795e-14,-77.0,113.0,8.710809851208978e-13],[0.14545454545454545,1.2897655647164703e-14,-78.0,110.0,2.1094237467877974e-13],[0.1574074074074074,2.0753689196043157e-13,-74.0,108.0,2.149391775674303e-12],[0.1553398058252427,5.394032051902122e-13,-71.0,103.0,5.29987165265311e-12],[0.1875,4.4469352439058753e-10,-60.0,96.0,1.7263480645013374e-9],[0.2523364485981308,2.87737462890791e-7,-53.0,107.0,4.981351168220627e-7],[0.26605504587155965,1.080908243358372e-6,-51.0,109.0,1.6750475317905966e-6],[0.28695652173913044,5.571423208480338e-6,-49.0,115.0,7.60462677229512e-6],[0.3162393162393162,0.00008717436729426461,-43.0,117.0,0.00010321744149510703],[0.3235294117647059,0.00046860434916208907,-36.0,102.0,0.000529214248540133],[0.3194444444444444,0.002942760530124976,-26.0,72.0,0.0032162293101274386],[0.3898305084745763,0.02097002953003506,-26.0,118.0,0.021366968260868258],[0.4166666666666667,0.15565646371399705,-14.0,84.0,0.15606926343163963],[0.45132743362831856,0.34689310509533516,-11.0,113.0,0.34684792186514724],[0.45652173913043476,0.46570744577306195,-8.0,92.0,0.46551216987418653],[0.47959183673469385,0.7620362195292438,-4.0,98.0,0.7618549862187098],[0.48863636363636365,0.9151865048428764,-2.0,88.0,0.9151060344205056],[\"nan\",1.0,0.0,0.0,1.0],[0.5205479452054794,0.8151212352249976,3.0,73.0,0.8149210911464686],[0.618421052631579,0.050452410247217666,18.0,76.0,0.05117209797510924],[0.6,0.04476209415697338,22.0,110.0,0.04525554618596206],[0.6911764705882353,0.0021862431776861714,26.0,68.0,0.0024318453627428793],[0.6557377049180327,0.0007407952274121575,38.0,122.0,0.0008086333048041849],[0.7088607594936709,0.000263636776465269,33.0,79.0,0.00031787311937403473]],[[0.0661764705882353,8.260011277058911e-28,-118.0,136.0,0.0],[0.06779661016949153,4.74093238312722e-24,-102.0,118.0,0.0],[0.06896551724137931,1.6492278067940443e-23,-100.0,116.0,0.0],[0.10833333333333334,1.4958728419663173e-19,-94.0,120.0,0.0],[0.08181818181818182,7.837961736461263e-21,-92.0,110.0,0.0],[0.12605042016806722,1.450249679735154e-17,-89.0,119.0,6.661338147750939e-16],[0.12280701754385964,3.487916162229429e-17,-86.0,114.0,1.6653345369377348e-15],[0.14049586776859505,1.9786177986614588e-16,-87.0,121.0,5.329070518200751e-15],[0.13043478260869565,1.3522957587316638e-16,-85.0,115.0,4.773959005888173e-15],[0.15,1.9758911914423336e-15,-84.0,120.0,3.5416114485542494e-14],[0.13636363636363635,2.141608136429023e-15,-80.0,110.0,4.984901380566953e-14],[0.15384615384615385,9.723859231682611e-15,-81.0,117.0,1.4033219031261979e-13],[0.14678899082568808,2.2089187156338813e-14,-77.0,109.0,3.3506530883187224e-13],[0.1509433962264151,1.0994809875335328e-13,-74.0,106.0,1.3373746554634636e-12],[0.16842105263157894,3.4675436577962654e-11,-63.0,95.0,2.0035861858502813e-10],[0.20212765957446807,4.8181440754468005e-9,-56.0,94.0,1.4046838026082753e-8],[0.23529411764705882,7.679430153026993e-8,-54.0,102.0,1.5394132146795414e-7],[0.2636363636363636,7.293567965336598e-7,-52.0,110.0,1.1581915660974218e-6],[0.2982456140350877,0.000019596368034800084,-46.0,114.0,0.00002501811902921869],[0.2808988764044944,0.00004321520924983878,-39.0,89.0,0.00005625527075858727],[0.29577464788732394,0.0007667649897412908,-29.0,71.0,0.0008905854024855442],[0.36936936936936937,0.0075848117754316186,-29.0,111.0,0.007868934200841227],[0.38028169014084506,0.05681467793283902,-17.0,71.0,0.057584115072876085],[0.4222222222222222,0.17024239504607366,-14.0,90.0,0.17058693287144122],[0.4367816091954023,0.2836071084054854,-11.0,87.0,0.2836694894070203],[0.4567901234567901,0.5052364407669357,-7.0,81.0,0.5049850750938457],[0.4657534246575342,0.6399729317539425,-5.0,73.0,0.6396668933244998],[0.4794520547945205,0.8151212352249976,-3.0,73.0,0.8149210911464686],[\"nan\",1.0,0.0,0.0,1.0],[0.6056338028169014,0.09592363141082376,15.0,71.0,0.09661420844785251],[0.5922330097087378,0.07561910758625776,19.0,103.0,0.07613054594368251],[0.6385542168674698,0.015232201861994662,23.0,83.0,0.01574325889345418],[0.6732673267326733,0.000641248502169594,35.0,101.0,0.0007166562787336295],[0.7083333333333334,0.0005349642016498918,30.0,72.0,0.0006315667182512641]],[[0.059602649006622516,6.591678161717244e-32,-133.0,151.0,0.0],[0.06015037593984962,3.8402956425115606e-28,-117.0,133.0,0.0],[0.07407407407407407,1.962657178574568e-26,-115.0,135.0,0.0],[0.09022556390977443,7.805904320346072e-24,-109.0,133.0,0.0],[0.0916030534351145,2.587003859247397e-23,-107.0,131.0,0.0],[0.10606060606060606,1.1384055538138498e-21,-104.0,132.0,0.0],[0.12030075187969924,3.7982000367999554e-20,-101.0,133.0,0.0],[0.08870967741935484,1.7582222198414876e-22,-102.0,124.0,0.0],[0.0967741935483871,1.6733702780891284e-21,-100.0,124.0,0.0],[0.13333333333333333,5.723995795100052e-19,-99.0,135.0,0.0],[0.10084033613445378,3.207808350413538e-20,-95.0,119.0,0.0],[0.11904761904761904,2.788349566618262e-19,-96.0,126.0,0.0],[0.10344827586206896,1.8667049442323873e-19,-92.0,116.0,0.0],[0.16030534351145037,9.432004555623528e-16,-89.0,131.0,1.4876988529977098e-14],[0.125,1.4016007077149398e-15,-78.0,104.0,4.340972026284362e-14],[0.1743119266055046,3.098472966432261e-12,-71.0,109.0,2.017042088908738e-11],[0.1891891891891892,2.3144662509616954e-11,-69.0,111.0,1.0873868472316417e-10],[0.23622047244094488,1.984553317143075e-9,-67.0,127.0,4.725729252363919e-9],[0.25203252032520324,3.3173529174399884e-8,-61.0,123.0,6.3018482210353e-8],[0.21875,2.7069291882474876e-8,-54.0,96.0,6.327515134074702e-8],[0.25,2.8793907495367242e-6,-44.0,88.0,4.565673459744346e-6],[0.31666666666666665,0.00007291502428713535,-44.0,120.0,0.00008660552398787047],[0.313953488372093,0.0007317100653124087,-32.0,86.0,0.0008293287959082463],[0.35353535353535354,0.004640654088434308,-29.0,99.0,0.004891311452359326],[0.3645833333333333,0.010345913082728777,-26.0,96.0,0.010724437603060188],[0.375,0.024622831581791033,-22.0,88.0,0.025181464404459675],[0.3888888888888889,0.04459752462791592,-20.0,90.0,0.04520135297652217],[0.3815789473684211,0.050452410247217666,-18.0,76.0,0.05117209797510924],[0.39436619718309857,0.09592363141082376,-15.0,71.0,0.09661420844785251],[\"nan\",1.0,0.0,0.0,1.0],[0.5172413793103449,0.7807391284762693,4.0,116.0,0.7805955556973271],[0.5952380952380952,0.27995623852893914,8.0,42.0,0.28008721081149757],[0.5909090909090909,0.06956519633623014,20.0,110.0,0.07005128462163279],[0.6,0.10534226887460482,15.0,75.0,0.10596880912720208]],[[0.046357615894039736,2.269603084085948e-34,-137.0,151.0,0.0],[0.058394160583941604,3.0554882002890587e-29,-121.0,137.0,0.0],[0.06569343065693431,4.417855826116116e-28,-119.0,137.0,0.0],[0.08759124087591241,7.0458837577401e-25,-113.0,137.0,0.0],[0.06299212598425197,1.6869953653078252e-26,-111.0,127.0,0.0],[0.08461538461538462,4.6966135406816054e-24,-108.0,130.0,0.0],[0.06611570247933884,7.2744533233669705e-25,-105.0,121.0,0.0],[0.1267605633802817,1.1693737942974311e-20,-106.0,142.0,0.0],[0.08064516129032258,1.6790570008398702e-23,-104.0,124.0,0.0],[0.088,9.630639599627373e-23,-103.0,125.0,0.0],[0.15384615384615385,9.247508456613193e-18,-99.0,143.0,2.220446049250313e-16],[0.0967741935483871,1.6733702780891284e-21,-100.0,124.0,0.0],[0.08620689655172414,2.1638104132572854e-21,-96.0,116.0,0.0],[0.08108108108108109,4.2608701445754604e-21,-93.0,111.0,0.0],[0.19402985074626866,4.479313635598752e-13,-82.0,134.0,2.608802063264193e-12],[0.1794871794871795,1.1987559175109566e-12,-75.0,117.0,7.847611449562919e-12],[0.19834710743801653,1.3442945758766515e-11,-73.0,121.0,5.931466429132115e-11],[0.19658119658119658,2.2313814815989472e-11,-71.0,117.0,9.703327030763376e-11],[0.24,4.659978428792858e-9,-65.0,125.0,1.0384026971621552e-8],[0.2698412698412698,2.364920722052491e-7,-58.0,126.0,3.8150176728812824e-7],[0.27358490566037735,3.4525612188472383e-6,-48.0,106.0,4.9939065063231425e-6],[0.29310344827586204,9.685884063140466e-6,-48.0,116.0,0.00001277988023229426],[0.3548387096774194,0.0015647340261696686,-36.0,124.0,0.001671728396484773],[0.34285714285714286,0.0016590268898995495,-33.0,105.0,0.0017909060837688617],[0.34375,0.002878610081200932,-30.0,96.0,0.0030783871166717436],[0.3898305084745763,0.02097002953003506,-26.0,118.0,0.021366968260868258],[0.39655172413793105,0.03227202073309318,-24.0,116.0,0.03272048483157364],[0.4,0.04476209415697338,-22.0,110.0,0.04525554618596206],[0.4077669902912621,0.07561910758625776,-19.0,103.0,0.07613054594368251],[0.4827586206896552,0.7807391284762693,-4.0,116.0,0.7805955556973271],[\"nan\",1.0,0.0,0.0,1.0],[0.5175438596491229,0.7788760920027011,4.0,114.0,0.7787290045873427],[0.5701754385964912,0.15976150778501857,16.0,114.0,0.1600573462319449],[0.5555555555555556,0.3148798910376229,11.0,99.0,0.31487864133641974]],[[0.04516129032258064,1.7074014022960796e-35,-141.0,155.0,0.0],[0.050359712230215826,5.166045778807018e-31,-125.0,139.0,0.0],[0.06993006993006994,1.3833392965568367e-28,-123.0,143.0,0.0],[0.07913669064748201,1.9582705465490264e-26,-117.0,139.0,0.0],[0.061068702290076333,1.3576781839928254e-27,-115.0,131.0,0.0],[0.08823529411764706,1.2868059091640347e-24,-112.0,136.0,0.0],[0.0962962962962963,2.2438953310017013e-23,-109.0,135.0,0.0],[0.07692307692307693,4.263429420007923e-25,-110.0,130.0,0.0],[0.09701492537313433,4.0594773352756886e-23,-108.0,134.0,0.0],[0.11510791366906475,1.2448774653760878e-21,-107.0,139.0,0.0],[0.08130081300813008,3.0898216554634606e-23,-103.0,123.0,0.0],[0.08064516129032258,1.6790570008398702e-23,-104.0,124.0,0.0],[0.0967741935483871,1.6733702780891284e-21,-100.0,124.0,0.0],[0.12403100775193798,3.6361201608796156e-19,-97.0,129.0,0.0],[0.10909090909090909,6.156273065927667e-18,-86.0,110.0,5.551115123125783e-16],[0.14414414414414414,7.519631891796862e-15,-79.0,111.0,1.326716514427062e-13],[0.1592920353982301,7.970114680452795e-14,-77.0,113.0,8.710809851208978e-13],[0.20930232558139536,1.8819747521132473e-11,-75.0,129.0,7.252676237357036e-11],[0.2366412213740458,1.1612274833072096e-9,-69.0,131.0,2.8296458509657896e-9],[0.20754716981132076,1.0168289347541834e-9,-62.0,106.0,3.125944503246103e-9],[0.20454545454545456,2.0783545041774735e-8,-52.0,88.0,5.4301301122272605e-8],[0.28688524590163933,2.7878838112871152e-6,-52.0,122.0,3.887218965270556e-6],[0.2826086956521739,0.000036700459237994134,-40.0,92.0,0.00004782056236174448],[0.3238095238095238,0.00039070001552236726,-37.0,105.0,0.00044267698634337105],[0.3111111111111111,0.0004379221966341338,-34.0,90.0,0.0005042182294490161],[0.32558139534883723,0.0016055649295642408,-30.0,86.0,0.0017650959193790117],[0.34444444444444444,0.0041651140158244435,-28.0,90.0,0.004426525857919805],[0.3088235294117647,0.0021862431776861714,-26.0,68.0,0.0024318453627428793],[0.3614457831325301,0.015232201861994662,-23.0,83.0,0.01574325889345418],[0.40476190476190477,0.27995623852893914,-8.0,42.0,0.28008721081149757],[0.4824561403508772,0.7788760920027011,-4.0,114.0,0.7787290045873427],[\"nan\",1.0,0.0,0.0,1.0],[0.5545454545454546,0.29423370844429203,12.0,110.0,0.2942661043049627],[0.5421686746987951,0.5104099416812344,7.0,83.0,0.5101619380844786]],[[0.041916167664670656,7.070419183978223e-39,-153.0,167.0,0.0],[0.034013605442176874,6.201799122350081e-36,-137.0,147.0,0.0],[0.052980132450331126,4.116489201690665e-33,-135.0,151.0,0.0],[0.0425531914893617,7.352026653297796e-33,-129.0,141.0,0.0],[0.06206896551724138,2.907347193787138e-30,-127.0,145.0,0.0],[0.06338028169014084,1.9194190323593825e-29,-124.0,142.0,0.0],[0.07092198581560284,4.789729026756024e-28,-121.0,141.0,0.0],[0.09868421052631579,7.854293204336358e-26,-122.0,152.0,0.0],[0.0945945945945946,9.191926693634371e-26,-120.0,148.0,0.0],[0.07801418439716312,5.754681923240256e-27,-119.0,141.0,0.0],[0.08633093525179857,2.108124581703748e-25,-115.0,139.0,0.0],[0.09722222222222222,9.874919036815883e-25,-116.0,144.0,0.0],[0.09420289855072464,3.772426917098371e-24,-112.0,138.0,0.0],[0.10218978102189781,6.118483390473997e-23,-109.0,137.0,0.0],[0.1597222222222222,2.923580700821239e-17,-98.0,144.0,6.661338147750939e-16],[0.136,2.2210629525385693e-17,-91.0,125.0,7.771561172376096e-16],[0.12605042016806722,1.450249679735154e-17,-89.0,119.0,6.661338147750939e-16],[0.18248175182481752,2.403640054084458e-14,-87.0,137.0,2.0194956817931597e-13],[0.20437956204379562,1.7449187258294395e-12,-81.0,137.0,8.208433932566095e-12],[0.19672131147540983,8.341401161083558e-12,-74.0,122.0,3.8663849899478464e-11],[0.2288135593220339,2.6899026850690616e-9,-64.0,118.0,6.646532435539143e-9],[0.25384615384615383,1.69872442575104e-8,-64.0,130.0,3.286131100566081e-8],[0.26785714285714285,9.322584031886636e-7,-52.0,112.0,1.4424555103698111e-6],[0.2905982905982906,6.775655653746717e-6,-49.0,117.0,9.096680073095165e-6],[0.2553191489361702,2.2027598315502487e-6,-46.0,94.0,3.4606384363700116e-6],[0.31896551724137934,0.00012034422931947831,-42.0,116.0,0.00014080242868896864],[0.3076923076923077,0.00010959860355569963,-40.0,104.0,0.00013116297592663528],[0.3442622950819672,0.0007407952274121575,-38.0,122.0,0.0008086333048041849],[0.32673267326732675,0.000641248502169594,-35.0,101.0,0.0007166562787336295],[0.4090909090909091,0.06956519633623014,-20.0,110.0,0.07005128462163279],[0.4298245614035088,0.15976150778501857,-16.0,114.0,0.1600573462319449],[0.44545454545454544,0.29423370844429203,-12.0,110.0,0.2942661043049627],[\"nan\",1.0,0.0,0.0,1.0],[0.4766355140186916,0.6991749840078747,-5.0,107.0,0.6989823175822696]],[[0.05952380952380952,2.1416199587982634e-35,-148.0,168.0,0.0],[0.05405405405405406,2.797312157195774e-32,-132.0,148.0,0.0],[0.04861111111111111,2.0745989755018755e-32,-130.0,144.0,0.0],[0.08108108108108109,8.95281620858886e-28,-124.0,148.0,0.0],[0.07042253521126761,2.574736689877734e-28,-122.0,142.0,0.0],[0.0896551724137931,5.738497867872483e-26,-119.0,145.0,0.0],[0.09154929577464789,3.4647755616804067e-25,-116.0,142.0,0.0],[0.10204081632653061,1.4907381626203358e-24,-117.0,147.0,0.0],[0.08633093525179857,2.108124581703748e-25,-115.0,139.0,0.0],[0.08695652173913043,3.855331674762765e-25,-114.0,138.0,0.0],[0.08955223880597014,4.283133267277142e-24,-110.0,134.0,0.0],[0.0948905109489051,6.84026545842273e-24,-111.0,137.0,0.0],[0.09774436090225563,7.33836423851677e-23,-107.0,133.0,0.0],[0.08064516129032258,1.6790570008398702e-23,-104.0,124.0,0.0],[0.10256410256410256,1.0387903364952914e-19,-93.0,117.0,0.0],[0.12931034482758622,7.752808767891496e-17,-86.0,116.0,2.9976021664879227e-15],[0.11818181818181818,4.700941065418037e-17,-84.0,110.0,2.4424906541753444e-15],[0.19402985074626866,4.479313635598752e-13,-82.0,134.0,2.608802063264193e-12],[0.22857142857142856,7.793986201015429e-11,-76.0,140.0,2.3177670893659297e-10],[0.1834862385321101,1.4176630345560641e-11,-69.0,109.0,7.355727138502743e-11],[0.18947368421052632,7.252322160518573e-10,-59.0,95.0,2.6703979028042113e-9],[0.264,1.2560405612579237e-7,-59.0,125.0,2.1293269891753397e-7],[0.21686746987951808,2.1054542433593656e-7,-47.0,83.0,4.437663474465836e-7],[0.30701754385964913,0.00004609247371251201,-44.0,114.0,0.00005641646937404321],[0.27472527472527475,0.000020283289208145556,-41.0,91.0,0.000027512032496179728],[0.31683168316831684,0.0002959601961545845,-37.0,101.0,0.00034079904541117756],[0.30337078651685395,0.00026558534298746995,-35.0,89.0,0.0003133657498484155],[0.2911392405063291,0.000263636776465269,-33.0,79.0,0.00031787311937403473],[0.2916666666666667,0.0005349642016498918,-30.0,72.0,0.0006315667182512641],[0.4,0.10534226887460482,-15.0,75.0,0.10596880912720208],[0.4444444444444444,0.3148798910376229,-11.0,99.0,0.31487864133641974],[0.4578313253012048,0.5104099416812344,-7.0,83.0,0.5101619380844786],[0.5233644859813084,0.6991749840078747,5.0,107.0,0.6989823175822696],[\"nan\",1.0,0.0,0.0,1.0]]]}],                        {\"template\":{\"data\":{\"histogram2dcontour\":[{\"type\":\"histogram2dcontour\",\"colorbar\":{\"outlinewidth\":0,\"ticks\":\"\"},\"colorscale\":[[0.0,\"#0d0887\"],[0.1111111111111111,\"#46039f\"],[0.2222222222222222,\"#7201a8\"],[0.3333333333333333,\"#9c179e\"],[0.4444444444444444,\"#bd3786\"],[0.5555555555555556,\"#d8576b\"],[0.6666666666666666,\"#ed7953\"],[0.7777777777777778,\"#fb9f3a\"],[0.8888888888888888,\"#fdca26\"],[1.0,\"#f0f921\"]]}],\"choropleth\":[{\"type\":\"choropleth\",\"colorbar\":{\"outlinewidth\":0,\"ticks\":\"\"}}],\"histogram2d\":[{\"type\":\"histogram2d\",\"colorbar\":{\"outlinewidth\":0,\"ticks\":\"\"},\"colorscale\":[[0.0,\"#0d0887\"],[0.1111111111111111,\"#46039f\"],[0.2222222222222222,\"#7201a8\"],[0.3333333333333333,\"#9c179e\"],[0.4444444444444444,\"#bd3786\"],[0.5555555555555556,\"#d8576b\"],[0.6666666666666666,\"#ed7953\"],[0.7777777777777778,\"#fb9f3a\"],[0.8888888888888888,\"#fdca26\"],[1.0,\"#f0f921\"]]}],\"heatmap\":[{\"type\":\"heatmap\",\"colorbar\":{\"outlinewidth\":0,\"ticks\":\"\"},\"colorscale\":[[0.0,\"#0d0887\"],[0.1111111111111111,\"#46039f\"],[0.2222222222222222,\"#7201a8\"],[0.3333333333333333,\"#9c179e\"],[0.4444444444444444,\"#bd3786\"],[0.5555555555555556,\"#d8576b\"],[0.6666666666666666,\"#ed7953\"],[0.7777777777777778,\"#fb9f3a\"],[0.8888888888888888,\"#fdca26\"],[1.0,\"#f0f921\"]]}],\"heatmapgl\":[{\"type\":\"heatmapgl\",\"colorbar\":{\"outlinewidth\":0,\"ticks\":\"\"},\"colorscale\":[[0.0,\"#0d0887\"],[0.1111111111111111,\"#46039f\"],[0.2222222222222222,\"#7201a8\"],[0.3333333333333333,\"#9c179e\"],[0.4444444444444444,\"#bd3786\"],[0.5555555555555556,\"#d8576b\"],[0.6666666666666666,\"#ed7953\"],[0.7777777777777778,\"#fb9f3a\"],[0.8888888888888888,\"#fdca26\"],[1.0,\"#f0f921\"]]}],\"contourcarpet\":[{\"type\":\"contourcarpet\",\"colorbar\":{\"outlinewidth\":0,\"ticks\":\"\"}}],\"contour\":[{\"type\":\"contour\",\"colorbar\":{\"outlinewidth\":0,\"ticks\":\"\"},\"colorscale\":[[0.0,\"#0d0887\"],[0.1111111111111111,\"#46039f\"],[0.2222222222222222,\"#7201a8\"],[0.3333333333333333,\"#9c179e\"],[0.4444444444444444,\"#bd3786\"],[0.5555555555555556,\"#d8576b\"],[0.6666666666666666,\"#ed7953\"],[0.7777777777777778,\"#fb9f3a\"],[0.8888888888888888,\"#fdca26\"],[1.0,\"#f0f921\"]]}],\"surface\":[{\"type\":\"surface\",\"colorbar\":{\"outlinewidth\":0,\"ticks\":\"\"},\"colorscale\":[[0.0,\"#0d0887\"],[0.1111111111111111,\"#46039f\"],[0.2222222222222222,\"#7201a8\"],[0.3333333333333333,\"#9c179e\"],[0.4444444444444444,\"#bd3786\"],[0.5555555555555556,\"#d8576b\"],[0.6666666666666666,\"#ed7953\"],[0.7777777777777778,\"#fb9f3a\"],[0.8888888888888888,\"#fdca26\"],[1.0,\"#f0f921\"]]}],\"mesh3d\":[{\"type\":\"mesh3d\",\"colorbar\":{\"outlinewidth\":0,\"ticks\":\"\"}}],\"scatter\":[{\"fillpattern\":{\"fillmode\":\"overlay\",\"size\":10,\"solidity\":0.2},\"type\":\"scatter\"}],\"parcoords\":[{\"type\":\"parcoords\",\"line\":{\"colorbar\":{\"outlinewidth\":0,\"ticks\":\"\"}}}],\"scatterpolargl\":[{\"type\":\"scatterpolargl\",\"marker\":{\"colorbar\":{\"outlinewidth\":0,\"ticks\":\"\"}}}],\"bar\":[{\"error_x\":{\"color\":\"#2a3f5f\"},\"error_y\":{\"color\":\"#2a3f5f\"},\"marker\":{\"line\":{\"color\":\"#E5ECF6\",\"width\":0.5},\"pattern\":{\"fillmode\":\"overlay\",\"size\":10,\"solidity\":0.2}},\"type\":\"bar\"}],\"scattergeo\":[{\"type\":\"scattergeo\",\"marker\":{\"colorbar\":{\"outlinewidth\":0,\"ticks\":\"\"}}}],\"scatterpolar\":[{\"type\":\"scatterpolar\",\"marker\":{\"colorbar\":{\"outlinewidth\":0,\"ticks\":\"\"}}}],\"histogram\":[{\"marker\":{\"pattern\":{\"fillmode\":\"overlay\",\"size\":10,\"solidity\":0.2}},\"type\":\"histogram\"}],\"scattergl\":[{\"type\":\"scattergl\",\"marker\":{\"colorbar\":{\"outlinewidth\":0,\"ticks\":\"\"}}}],\"scatter3d\":[{\"type\":\"scatter3d\",\"line\":{\"colorbar\":{\"outlinewidth\":0,\"ticks\":\"\"}},\"marker\":{\"colorbar\":{\"outlinewidth\":0,\"ticks\":\"\"}}}],\"scattermapbox\":[{\"type\":\"scattermapbox\",\"marker\":{\"colorbar\":{\"outlinewidth\":0,\"ticks\":\"\"}}}],\"scatterternary\":[{\"type\":\"scatterternary\",\"marker\":{\"colorbar\":{\"outlinewidth\":0,\"ticks\":\"\"}}}],\"scattercarpet\":[{\"type\":\"scattercarpet\",\"marker\":{\"colorbar\":{\"outlinewidth\":0,\"ticks\":\"\"}}}],\"carpet\":[{\"aaxis\":{\"endlinecolor\":\"#2a3f5f\",\"gridcolor\":\"white\",\"linecolor\":\"white\",\"minorgridcolor\":\"white\",\"startlinecolor\":\"#2a3f5f\"},\"baxis\":{\"endlinecolor\":\"#2a3f5f\",\"gridcolor\":\"white\",\"linecolor\":\"white\",\"minorgridcolor\":\"white\",\"startlinecolor\":\"#2a3f5f\"},\"type\":\"carpet\"}],\"table\":[{\"cells\":{\"fill\":{\"color\":\"#EBF0F8\"},\"line\":{\"color\":\"white\"}},\"header\":{\"fill\":{\"color\":\"#C8D4E3\"},\"line\":{\"color\":\"white\"}},\"type\":\"table\"}],\"barpolar\":[{\"marker\":{\"line\":{\"color\":\"#E5ECF6\",\"width\":0.5},\"pattern\":{\"fillmode\":\"overlay\",\"size\":10,\"solidity\":0.2}},\"type\":\"barpolar\"}],\"pie\":[{\"automargin\":true,\"type\":\"pie\"}]},\"layout\":{\"autotypenumbers\":\"strict\",\"colorway\":[\"#636efa\",\"#EF553B\",\"#00cc96\",\"#ab63fa\",\"#FFA15A\",\"#19d3f3\",\"#FF6692\",\"#B6E880\",\"#FF97FF\",\"#FECB52\"],\"font\":{\"color\":\"#2a3f5f\"},\"hovermode\":\"closest\",\"hoverlabel\":{\"align\":\"left\"},\"paper_bgcolor\":\"white\",\"plot_bgcolor\":\"#E5ECF6\",\"polar\":{\"bgcolor\":\"#E5ECF6\",\"angularaxis\":{\"gridcolor\":\"white\",\"linecolor\":\"white\",\"ticks\":\"\"},\"radialaxis\":{\"gridcolor\":\"white\",\"linecolor\":\"white\",\"ticks\":\"\"}},\"ternary\":{\"bgcolor\":\"#E5ECF6\",\"aaxis\":{\"gridcolor\":\"white\",\"linecolor\":\"white\",\"ticks\":\"\"},\"baxis\":{\"gridcolor\":\"white\",\"linecolor\":\"white\",\"ticks\":\"\"},\"caxis\":{\"gridcolor\":\"white\",\"linecolor\":\"white\",\"ticks\":\"\"}},\"coloraxis\":{\"colorbar\":{\"outlinewidth\":0,\"ticks\":\"\"}},\"colorscale\":{\"sequential\":[[0.0,\"#0d0887\"],[0.1111111111111111,\"#46039f\"],[0.2222222222222222,\"#7201a8\"],[0.3333333333333333,\"#9c179e\"],[0.4444444444444444,\"#bd3786\"],[0.5555555555555556,\"#d8576b\"],[0.6666666666666666,\"#ed7953\"],[0.7777777777777778,\"#fb9f3a\"],[0.8888888888888888,\"#fdca26\"],[1.0,\"#f0f921\"]],\"sequentialminus\":[[0.0,\"#0d0887\"],[0.1111111111111111,\"#46039f\"],[0.2222222222222222,\"#7201a8\"],[0.3333333333333333,\"#9c179e\"],[0.4444444444444444,\"#bd3786\"],[0.5555555555555556,\"#d8576b\"],[0.6666666666666666,\"#ed7953\"],[0.7777777777777778,\"#fb9f3a\"],[0.8888888888888888,\"#fdca26\"],[1.0,\"#f0f921\"]],\"diverging\":[[0,\"#8e0152\"],[0.1,\"#c51b7d\"],[0.2,\"#de77ae\"],[0.3,\"#f1b6da\"],[0.4,\"#fde0ef\"],[0.5,\"#f7f7f7\"],[0.6,\"#e6f5d0\"],[0.7,\"#b8e186\"],[0.8,\"#7fbc41\"],[0.9,\"#4d9221\"],[1,\"#276419\"]]},\"xaxis\":{\"gridcolor\":\"white\",\"linecolor\":\"white\",\"ticks\":\"\",\"title\":{\"standoff\":15},\"zerolinecolor\":\"white\",\"automargin\":true,\"zerolinewidth\":2},\"yaxis\":{\"gridcolor\":\"white\",\"linecolor\":\"white\",\"ticks\":\"\",\"title\":{\"standoff\":15},\"zerolinecolor\":\"white\",\"automargin\":true,\"zerolinewidth\":2},\"scene\":{\"xaxis\":{\"backgroundcolor\":\"#E5ECF6\",\"gridcolor\":\"white\",\"linecolor\":\"white\",\"showbackground\":true,\"ticks\":\"\",\"zerolinecolor\":\"white\",\"gridwidth\":2},\"yaxis\":{\"backgroundcolor\":\"#E5ECF6\",\"gridcolor\":\"white\",\"linecolor\":\"white\",\"showbackground\":true,\"ticks\":\"\",\"zerolinecolor\":\"white\",\"gridwidth\":2},\"zaxis\":{\"backgroundcolor\":\"#E5ECF6\",\"gridcolor\":\"white\",\"linecolor\":\"white\",\"showbackground\":true,\"ticks\":\"\",\"zerolinecolor\":\"white\",\"gridwidth\":2}},\"shapedefaults\":{\"line\":{\"color\":\"#2a3f5f\"}},\"annotationdefaults\":{\"arrowcolor\":\"#2a3f5f\",\"arrowhead\":0,\"arrowwidth\":1},\"geo\":{\"bgcolor\":\"white\",\"landcolor\":\"#E5ECF6\",\"subunitcolor\":\"white\",\"showland\":true,\"showlakes\":true,\"lakecolor\":\"white\"},\"title\":{\"x\":0.05},\"mapbox\":{\"style\":\"light\"}}},\"xaxis\":{\"anchor\":\"y\",\"domain\":[0.0,1.0],\"scaleanchor\":\"y\",\"constrain\":\"domain\",\"title\":{\"text\":\" Model B\"},\"side\":\"top\"},\"yaxis\":{\"anchor\":\"x\",\"domain\":[0.0,1.0],\"autorange\":\"reversed\",\"constrain\":\"domain\",\"title\":{\"text\":\"Model A\"}},\"coloraxis\":{\"colorscale\":[[0.0,\"#0d0887\"],[0.1111111111111111,\"#46039f\"],[0.2222222222222222,\"#7201a8\"],[0.3333333333333333,\"#9c179e\"],[0.4444444444444444,\"#bd3786\"],[0.5555555555555556,\"#d8576b\"],[0.6666666666666666,\"#ed7953\"],[0.7777777777777778,\"#fb9f3a\"],[0.8888888888888888,\"#fdca26\"],[1.0,\"#f0f921\"]]},\"title\":{\"text\":\"p-values mbpp+\",\"y\":0.07,\"x\":0.5},\"height\":900,\"width\":900},                        {\"responsive\": true}                    ).then(function(){\n",
       "                            \n",
       "var gd = document.getElementById('fbaeda59-fbe6-4dfa-b786-3e1d8cb57126');\n",
       "var x = new MutationObserver(function (mutations, observer) {{\n",
       "        var display = window.getComputedStyle(gd).display;\n",
       "        if (!display || display === 'none') {{\n",
       "            console.log([gd, 'removed!']);\n",
       "            Plotly.purge(gd);\n",
       "            observer.disconnect();\n",
       "        }}\n",
       "}});\n",
       "\n",
       "// Listen for the removal of the full notebook cells\n",
       "var notebookContainer = gd.closest('#notebook-container');\n",
       "if (notebookContainer) {{\n",
       "    x.observe(notebookContainer, {childList: true});\n",
       "}}\n",
       "\n",
       "// Listen for the clearing of the current output cell\n",
       "var outputEl = gd.closest('.output');\n",
       "if (outputEl) {{\n",
       "    x.observe(outputEl, {childList: true});\n",
       "}}\n",
       "\n",
       "                        })                };                });            </script>        </div>"
      ]
     },
     "metadata": {},
     "output_type": "display_data"
    }
   ],
   "source": [
    "\n",
    "def compute_pairwise_win_fraction(battles, max_num_models=30):\n",
    "\n",
    "    num_battles_ptbl = pd.pivot_table(battles,\n",
    "        index=\"model_a\", columns=\"model_b\", aggfunc=\"size\", fill_value=0)\n",
    "    \n",
    "    a_win = pd.pivot_table(\n",
    "        battles[battles['winner'] == \"model_a\"],\n",
    "        index=\"model_a\", columns=\"model_b\", aggfunc=\"size\", fill_value=0) / num_battles_ptbl  \n",
    "    \n",
    "    b_win = pd.pivot_table(\n",
    "        battles[battles['winner'] == \"model_b\"],\n",
    "        index=\"model_a\", columns=\"model_b\", aggfunc=\"size\", fill_value=0) / num_battles_ptbl\n",
    "\n",
    "    neither = pd.pivot_table(\n",
    "        battles[battles['winner'] == \"neither\"],\n",
    "        index=\"model_a\", columns=\"model_b\", aggfunc=\"size\", fill_value=0) / num_battles_ptbl\n",
    "    \n",
    "    both = pd.pivot_table(\n",
    "        battles[battles['winner'] == \"both\"],\n",
    "        index=\"model_a\", columns=\"model_b\", aggfunc=\"size\", fill_value=0) / num_battles_ptbl \n",
    "\n",
    "    \n",
    "    # \n",
    "    prop_wins = a_win.mean(axis=1).sort_values(ascending=False)\n",
    "    prop_wins = prop_wins[:max_num_models]\n",
    "    sort_keys = list(prop_wins.keys())\n",
    "    \n",
    "    return tuple(x.loc[sort_keys, sort_keys] for x in [a_win, b_win, neither, both])\n",
    "\n",
    "def compute_pvalues(battles, max_num_models=100):\n",
    "    # Times each model wins as Model A\n",
    "    a_win_ptbl = pd.pivot_table(\n",
    "        battles[battles['winner'] == \"model_a\"],\n",
    "        index=\"model_a\", columns=\"model_b\", aggfunc=\"size\", fill_value=0)\n",
    "\n",
    "    # Table counting number of A-B pairs\n",
    "    num_battles_ptbl = pd.pivot_table(battles,\n",
    "        index=\"model_a\", columns=\"model_b\", aggfunc=\"size\", fill_value=0)\n",
    "\n",
    "    # Computing the proportion of wins for each model as A and as B\n",
    "    # against all other models\n",
    "    row_beats_col_freq = (\n",
    "        (a_win_ptbl) /\n",
    "        (num_battles_ptbl)\n",
    "    )\n",
    "    # display(mcnemar)\n",
    "    # Arrange ordering according to proprition of wins\n",
    "    prop_wins = row_beats_col_freq.mean(axis=1).sort_values(ascending=False)\n",
    "    prop_wins = prop_wins[:max_num_models]\n",
    "    model_names = list(prop_wins.keys())\n",
    "    row_beats_col = row_beats_col_freq.loc[model_names, model_names]\n",
    "\n",
    "    wins = a_win_ptbl.loc[model_names, model_names]\n",
    "    diffs = (wins - wins.T)\n",
    "    sums = (wins + wins.T)\n",
    "    suf_stats = (pd.concat([wins, wins - wins.T, wins + wins.T])\n",
    "    .stack(dropna=False)\n",
    "    .groupby(level=[0,1])\n",
    "    .apply(tuple)\n",
    "    .unstack()\n",
    "    ).loc[model_names, model_names]\n",
    "    chi2 = suf_stats.applymap(lambda x: 1 if x[2] == 0 else 1 - stats.chi2.cdf( (np.abs(x[1]) - 1)**2 / (x[2]), 1))\n",
    "    binom = suf_stats.applymap(lambda x: stats.binomtest(x[0], x[2], p=0.5).pvalue if x[2] > 0 else 1)\n",
    "    return row_beats_col, binom, diffs, sums, chi2 \n",
    "\n",
    "def visualize_pairwise_win_fraction(battles, title, max_num_models=30):\n",
    "    a_win, b_win, neither, both = compute_pairwise_win_fraction(battles, max_num_models)\n",
    "\n",
    "    fig = px.imshow(a_win, color_continuous_scale='RdBu',\n",
    "                    text_auto=\".2f\", title=title)\n",
    "    fig.update_layout(xaxis_title=\" Model B: Loser\",\n",
    "                  yaxis_title=\"Model A: Winner\",\n",
    "                  xaxis_side=\"top\", height=900, width=900,\n",
    "                  title_y=0.07, title_x=0.5)\n",
    "\n",
    "    sort_keys = a_win.keys()  \n",
    "    extra_info = (pd.concat([a_win, b_win, neither, both])\n",
    "    .stack(dropna=False)\n",
    "    .groupby(level=[0,1])\n",
    "    .apply(tuple).apply(lambda t: tuple(s if not math.isnan(s) else 'nan' for s in t))\n",
    "    .unstack()\n",
    "    ).loc[sort_keys, sort_keys]\n",
    "    fig.update_traces(customdata=extra_info, hovertemplate=\"<br>\".join(\n",
    "        [\n",
    "            \"A Wins: %{customdata[0]:.3f}\",\n",
    "            \"B Wins: %{customdata[1]:.3f}\",\n",
    "            \"Neither: %{customdata[2]:.3f}\",\n",
    "            \"Both: %{customdata[3]:.3f}\",\n",
    "        ])\n",
    "    )\n",
    "\n",
    "    return fig\n",
    "\n",
    "def visualize_pvalues(battles, title, max_num_models=30):\n",
    "    row_beats_col, pvalue, diffs, sums, chi2 = compute_pvalues(battles, max_num_models)\n",
    "    fig = px.imshow(pvalue,\n",
    "                    text_auto=\".2f\", title=title)\n",
    "    fig.update_layout(xaxis_title=\" Model B\",\n",
    "                  yaxis_title=\"Model A\",\n",
    "                  xaxis_side=\"top\", height=900, width=900,\n",
    "                  title_y=0.07, title_x=0.5)\n",
    "\n",
    "    sort_keys = row_beats_col.keys() \n",
    "    extra_info = (pd.concat([row_beats_col, pvalue, diffs, sums, chi2])\n",
    "        .stack(dropna=False)\n",
    "        .groupby(level=[0,1])\n",
    "        .apply(tuple).apply(lambda t: tuple(s if not math.isnan(s) else 'nan' for s in t))\n",
    "        .unstack()\n",
    "    ).loc[sort_keys, sort_keys]\n",
    "    \n",
    "    # display(row_beats_col)\n",
    "    # display(extra_info)\n",
    "    fig.update_traces(customdata=extra_info, hovertemplate=\n",
    "        \"<br>\".join([\n",
    "        \"Model A: %{y}\",\n",
    "        \"Model B: %{x}\", \n",
    "        \"binom p-value: %{customdata[1]:.4f}\",\n",
    "        \"chi2 p-value: %{customdata[4]:.4f}\",\n",
    "        \"A_win frac.: %{customdata[0]:.2f}\",\n",
    "        \"A_win - B_win: %{customdata[2]}\",\n",
    "        \"A_win + B_win: %{customdata[3]}\",\n",
    "        ])  + '<extra></extra>')\n",
    "\n",
    "    return fig\n",
    "\n",
    "\n",
    "fig_pvalues = visualize_pvalues(battles_no_ties, f'p-values {benchmark_id}', max_num_models=60)\n",
    "fig_pairwin = visualize_pairwise_win_fraction(battles, 'win_rates', max_num_models=60)\n",
    "display(fig_pairwin)\n",
    "display(fig_pvalues)\n",
    "template_path=r\"report_template.html\"\n",
    "output_path = rf\"reports/{benchmark_id}.html\"\n",
    "\n",
    "sections = {\n",
    "    \"pairwise wins\": fig_pairwin.to_html(full_html=False),\n",
    "    \"p-values\": fig_pvalues.to_html(full_html=False),\n",
    "}\n",
    "#consider also defining the include_plotlyjs parameter to point to an external Plotly.js as described above\n"
   ]
  },
  {
   "cell_type": "code",
   "execution_count": 51,
   "metadata": {},
   "outputs": [
    {
     "data": {
      "text/html": [
       "<div>\n",
       "<style scoped>\n",
       "    .dataframe tbody tr th:only-of-type {\n",
       "        vertical-align: middle;\n",
       "    }\n",
       "\n",
       "    .dataframe tbody tr th {\n",
       "        vertical-align: top;\n",
       "    }\n",
       "\n",
       "    .dataframe thead th {\n",
       "        text-align: right;\n",
       "    }\n",
       "</style>\n",
       "<table border=\"1\" class=\"dataframe\">\n",
       "  <thead>\n",
       "    <tr style=\"text-align: right;\">\n",
       "      <th></th>\n",
       "      <th>model_a</th>\n",
       "      <th>model_b</th>\n",
       "      <th>p_value</th>\n",
       "      <th>diff</th>\n",
       "      <th>delta(A, B)</th>\n",
       "      <th>models</th>\n",
       "    </tr>\n",
       "  </thead>\n",
       "  <tbody>\n",
       "    <tr>\n",
       "      <th>0</th>\n",
       "      <td>gpt-4-1106-preview</td>\n",
       "      <td>gpt-4-1106-preview</td>\n",
       "      <td>1.000000</td>\n",
       "      <td>0</td>\n",
       "      <td>0.000000</td>\n",
       "      <td>gpt-4-1106-preview vs. gpt-4-1106-preview</td>\n",
       "    </tr>\n",
       "    <tr>\n",
       "      <th>1</th>\n",
       "      <td>opencodeinterpreter-ds-33b</td>\n",
       "      <td>gpt-4-1106-preview</td>\n",
       "      <td>0.047393</td>\n",
       "      <td>-18</td>\n",
       "      <td>0.047619</td>\n",
       "      <td>opencodeinterpreter-ds-33b vs. gpt-4-1106-preview</td>\n",
       "    </tr>\n",
       "    <tr>\n",
       "      <th>2</th>\n",
       "      <td>meta-llama-3-70b-instruct</td>\n",
       "      <td>gpt-4-1106-preview</td>\n",
       "      <td>0.055897</td>\n",
       "      <td>-16</td>\n",
       "      <td>0.042328</td>\n",
       "      <td>meta-llama-3-70b-instruct vs. gpt-4-1106-preview</td>\n",
       "    </tr>\n",
       "    <tr>\n",
       "      <th>3</th>\n",
       "      <td>white-rabbit-neo-33b-v1</td>\n",
       "      <td>gpt-4-1106-preview</td>\n",
       "      <td>0.007905</td>\n",
       "      <td>-24</td>\n",
       "      <td>0.063492</td>\n",
       "      <td>white-rabbit-neo-33b-v1 vs. gpt-4-1106-preview</td>\n",
       "    </tr>\n",
       "    <tr>\n",
       "      <th>4</th>\n",
       "      <td>bigcode--starcoder2-15b-instruct-v0.1</td>\n",
       "      <td>gpt-4-1106-preview</td>\n",
       "      <td>0.000639</td>\n",
       "      <td>-31</td>\n",
       "      <td>0.082011</td>\n",
       "      <td>bigcode--starcoder2-15b-instruct-v0.1 vs. gpt-...</td>\n",
       "    </tr>\n",
       "    <tr>\n",
       "      <th>...</th>\n",
       "      <td>...</td>\n",
       "      <td>...</td>\n",
       "      <td>...</td>\n",
       "      <td>...</td>\n",
       "      <td>...</td>\n",
       "      <td>...</td>\n",
       "    </tr>\n",
       "    <tr>\n",
       "      <th>1151</th>\n",
       "      <td>mistral-7b</td>\n",
       "      <td>gemma-2b</td>\n",
       "      <td>0.000535</td>\n",
       "      <td>30</td>\n",
       "      <td>0.079365</td>\n",
       "      <td>mistral-7b vs. gemma-2b</td>\n",
       "    </tr>\n",
       "    <tr>\n",
       "      <th>1152</th>\n",
       "      <td>codet5p-2b</td>\n",
       "      <td>gemma-2b</td>\n",
       "      <td>0.105342</td>\n",
       "      <td>15</td>\n",
       "      <td>0.039683</td>\n",
       "      <td>codet5p-2b vs. gemma-2b</td>\n",
       "    </tr>\n",
       "    <tr>\n",
       "      <th>1153</th>\n",
       "      <td>gemma-7b-it</td>\n",
       "      <td>gemma-2b</td>\n",
       "      <td>0.699175</td>\n",
       "      <td>-5</td>\n",
       "      <td>0.013228</td>\n",
       "      <td>gemma-7b-it vs. gemma-2b</td>\n",
       "    </tr>\n",
       "    <tr>\n",
       "      <th>1154</th>\n",
       "      <td>codegen-2b</td>\n",
       "      <td>gemma-2b</td>\n",
       "      <td>0.510410</td>\n",
       "      <td>7</td>\n",
       "      <td>0.018519</td>\n",
       "      <td>codegen-2b vs. gemma-2b</td>\n",
       "    </tr>\n",
       "    <tr>\n",
       "      <th>1155</th>\n",
       "      <td>gemma-2b</td>\n",
       "      <td>gemma-2b</td>\n",
       "      <td>1.000000</td>\n",
       "      <td>0</td>\n",
       "      <td>0.000000</td>\n",
       "      <td>gemma-2b vs. gemma-2b</td>\n",
       "    </tr>\n",
       "  </tbody>\n",
       "</table>\n",
       "<p>1156 rows × 6 columns</p>\n",
       "</div>"
      ],
      "text/plain": [
       "                                    model_a             model_b   p_value  \\\n",
       "0                        gpt-4-1106-preview  gpt-4-1106-preview  1.000000   \n",
       "1                opencodeinterpreter-ds-33b  gpt-4-1106-preview  0.047393   \n",
       "2                 meta-llama-3-70b-instruct  gpt-4-1106-preview  0.055897   \n",
       "3                   white-rabbit-neo-33b-v1  gpt-4-1106-preview  0.007905   \n",
       "4     bigcode--starcoder2-15b-instruct-v0.1  gpt-4-1106-preview  0.000639   \n",
       "...                                     ...                 ...       ...   \n",
       "1151                             mistral-7b            gemma-2b  0.000535   \n",
       "1152                             codet5p-2b            gemma-2b  0.105342   \n",
       "1153                            gemma-7b-it            gemma-2b  0.699175   \n",
       "1154                             codegen-2b            gemma-2b  0.510410   \n",
       "1155                               gemma-2b            gemma-2b  1.000000   \n",
       "\n",
       "      diff  delta(A, B)                                             models  \n",
       "0        0     0.000000          gpt-4-1106-preview vs. gpt-4-1106-preview  \n",
       "1      -18     0.047619  opencodeinterpreter-ds-33b vs. gpt-4-1106-preview  \n",
       "2      -16     0.042328   meta-llama-3-70b-instruct vs. gpt-4-1106-preview  \n",
       "3      -24     0.063492     white-rabbit-neo-33b-v1 vs. gpt-4-1106-preview  \n",
       "4      -31     0.082011  bigcode--starcoder2-15b-instruct-v0.1 vs. gpt-...  \n",
       "...    ...          ...                                                ...  \n",
       "1151    30     0.079365                            mistral-7b vs. gemma-2b  \n",
       "1152    15     0.039683                            codet5p-2b vs. gemma-2b  \n",
       "1153    -5     0.013228                           gemma-7b-it vs. gemma-2b  \n",
       "1154     7     0.018519                            codegen-2b vs. gemma-2b  \n",
       "1155     0     0.000000                              gemma-2b vs. gemma-2b  \n",
       "\n",
       "[1156 rows x 6 columns]"
      ]
     },
     "metadata": {},
     "output_type": "display_data"
    }
   ],
   "source": [
    "row_beats_col, pvalue, diffs, sums, chi2 = compute_pvalues(battles, 100)\n",
    "df = pvalue.reset_index()\n",
    "df_pval = df.melt(id_vars='model_a', value_vars=list(df.columns[1:]), var_name='model_b', value_name='p_value')\n",
    "df = diffs.reset_index()\n",
    "df_diffs = df.melt(id_vars='model_a', value_vars=list(df.columns[1:]), var_name='model_b', value_name='diff')\n",
    "benchmark_size = len(set(result['example_id']))\n",
    "df_diffs['delta(A, B)'] = df_diffs['diff'].abs() / benchmark_size\n",
    "df_diffs['models'] = df_diffs['model_a'] + ' vs. ' + df_diffs['model_b']\n",
    "\n",
    "df = df_pval.merge(df_diffs, on=['model_a', 'model_b'])\n",
    "display(df)\n",
    "sections['fig_deltas'] = px.scatter(df, x='delta(A, B)', y='p_value', hover_data='models').to_html(full_html=False)\n"
   ]
  },
  {
   "cell_type": "code",
   "execution_count": 63,
   "metadata": {},
   "outputs": [],
   "source": [
    "from jinja2 import Template\n",
    "with open(output_path, \"w\", encoding=\"utf-8\") as output_file:\n",
    "    with open(template_path) as template_file:\n",
    "        j2_template = Template(template_file.read())\n",
    "        output_file.write(j2_template.render({'benchmark_id': benchmark_id, 'sections': sections}))"
   ]
  },
  {
   "cell_type": "code",
   "execution_count": 70,
   "metadata": {},
   "outputs": [],
   "source": [
    "def compute_mle_elo(\n",
    "    df, SCALE=400, BASE=10, INIT_RATING=1000\n",
    "):\n",
    "    from sklearn.linear_model import LogisticRegression\n",
    "    ptbl_a_win = pd.pivot_table(\n",
    "        df[df[\"winner\"] == \"model_a\"],\n",
    "        index=\"model_a\",\n",
    "        columns=\"model_b\",\n",
    "        aggfunc=\"size\",\n",
    "        fill_value=0,\n",
    "    )\n",
    "    # if no tie, create a zero matrix\n",
    "    if sum(df[\"winner\"].isin([\"both\", \"both\"])) == 0:\n",
    "        ptbl_tie = pd.DataFrame(0, index=ptbl_a_win.index, columns=ptbl_a_win.columns)\n",
    "    else:\n",
    "        ptbl_tie = pd.pivot_table(\n",
    "            df[df[\"winner\"].isin([\"both\", \"neither\"])],\n",
    "            index=\"model_a\",\n",
    "            columns=\"model_b\",\n",
    "            aggfunc=\"size\",\n",
    "            fill_value=0,\n",
    "        )\n",
    "        ptbl_tie = ptbl_tie + ptbl_tie.T\n",
    "\n",
    "    ptbl_b_win = pd.pivot_table(\n",
    "        df[df[\"winner\"] == \"model_b\"],\n",
    "        index=\"model_a\",\n",
    "        columns=\"model_b\",\n",
    "        aggfunc=\"size\",\n",
    "        fill_value=0,\n",
    "    )\n",
    "    ptbl_win = ptbl_a_win * 2 + ptbl_b_win.T * 2 + ptbl_tie\n",
    "    # display(ptbl_win)\n",
    "    # display(ptbl_tie)\n",
    "\n",
    "    models = pd.Series(np.arange(len(ptbl_win.index)), index=ptbl_win.index)\n",
    "\n",
    "    p = len(models)\n",
    "    X = np.zeros([p * (p - 1) * 2, p])\n",
    "    Y = np.zeros(p * (p - 1) * 2)\n",
    "\n",
    "    cur_row = 0\n",
    "    sample_weights = []\n",
    "    for m_a in ptbl_win.index:\n",
    "        for m_b in ptbl_win.columns:\n",
    "            if m_a == m_b:\n",
    "                continue\n",
    "            # if nan skip\n",
    "            if math.isnan(ptbl_win.loc[m_a, m_b]) or math.isnan(ptbl_win.loc[m_b, m_a]):\n",
    "                continue\n",
    "            X[cur_row, models[m_a]] = +math.log(BASE)\n",
    "            X[cur_row, models[m_b]] = -math.log(BASE)\n",
    "            Y[cur_row] = 1.0\n",
    "            sample_weights.append(ptbl_win.loc[m_a, m_b])\n",
    "\n",
    "            X[cur_row + 1, models[m_a]] = math.log(BASE)\n",
    "            X[cur_row + 1, models[m_b]] = -math.log(BASE)\n",
    "            Y[cur_row + 1] = 0.0\n",
    "            sample_weights.append(ptbl_win.loc[m_b, m_a])\n",
    "            cur_row += 2\n",
    "    X = X[:cur_row]\n",
    "    Y = Y[:cur_row]\n",
    "    # fig = px.imshow(X)\n",
    "    # display(fig)\n",
    "    # print(Y, Y.shape)\n",
    "\n",
    "    lr = LogisticRegression(fit_intercept=False, penalty=None, tol=1e-6)\n",
    "    lr.fit(X, Y, sample_weight=sample_weights)\n",
    "    elo_scores = SCALE * lr.coef_[0] + INIT_RATING\n",
    "    if \"gpt-3.5-turbo-0613\" in models.index:\n",
    "        elo_scores += 1000 - elo_scores[models[\"gpt-3.5-turbo-0613\"]]\n",
    "    return pd.Series(elo_scores, index=models.index).sort_values(ascending=False)\n",
    "\n",
    "model_elos = compute_mle_elo(battles_no_ties)"
   ]
  },
  {
   "cell_type": "code",
   "execution_count": 72,
   "metadata": {},
   "outputs": [
    {
     "data": {
      "application/vnd.plotly.v1+json": {
       "config": {
        "plotlyServerURL": "https://plot.ly"
       },
       "data": [
        {
         "hovertemplate": "elo=%{x}<br>win_rate=%{y}<extra></extra>",
         "legendgroup": "",
         "marker": {
          "color": "#636efa",
          "symbol": "circle"
         },
         "mode": "markers",
         "name": "",
         "orientation": "v",
         "showlegend": false,
         "type": "scatter",
         "x": [
          1285.135156754545,
          1225.0494832743245,
          1244.7631730024896,
          1191.6029942254395,
          1149.4823131004703,
          1193.9172752888908,
          1167.4162120190124,
          1125.5425451253068,
          1145.3691293832924,
          1138.260781351818,
          1156.0010332322042,
          1128.275336291691,
          1100.7137665636988,
          1116.7097113489367,
          982.7656763550607,
          1056.7864606991602,
          1004.5525931243602,
          1030.3769156243907,
          1014.0598763433302,
          966.6460245540522,
          926.8710386981627,
          880.7347351019755,
          929.118120737432,
          893.4453092823898,
          865.7553724671842,
          851.5070565789371,
          848.0453576280928,
          837.6289618498531,
          820.8871630848395,
          766.2718444473583
         ],
         "xaxis": "x",
         "y": [
          0.21331569664903005,
          0.17178130511463843,
          0.1698412698412698,
          0.1628747795414462,
          0.15776014109347444,
          0.15485008818342152,
          0.15405643738977073,
          0.15000000000000002,
          0.14991181657848324,
          0.1492063492063492,
          0.14611992945326277,
          0.14329805996472664,
          0.1330687830687831,
          0.13139329805996472,
          0.11940035273368603,
          0.11931216931216929,
          0.1187830687830688,
          0.11419753086419752,
          0.10731922398589065,
          0.10185185185185185,
          0.10123456790123454,
          0.08633156966490299,
          0.08403880070546736,
          0.08192239858906526,
          0.07372134038800705,
          0.07275132275132275,
          0.07134038800705467,
          0.06807760141093475,
          0.059082892416225746,
          0.05881834215167549
         ],
         "yaxis": "y"
        }
       ],
       "layout": {
        "legend": {
         "tracegroupgap": 0
        },
        "margin": {
         "t": 60
        },
        "template": {
         "data": {
          "bar": [
           {
            "error_x": {
             "color": "#2a3f5f"
            },
            "error_y": {
             "color": "#2a3f5f"
            },
            "marker": {
             "line": {
              "color": "#E5ECF6",
              "width": 0.5
             },
             "pattern": {
              "fillmode": "overlay",
              "size": 10,
              "solidity": 0.2
             }
            },
            "type": "bar"
           }
          ],
          "barpolar": [
           {
            "marker": {
             "line": {
              "color": "#E5ECF6",
              "width": 0.5
             },
             "pattern": {
              "fillmode": "overlay",
              "size": 10,
              "solidity": 0.2
             }
            },
            "type": "barpolar"
           }
          ],
          "carpet": [
           {
            "aaxis": {
             "endlinecolor": "#2a3f5f",
             "gridcolor": "white",
             "linecolor": "white",
             "minorgridcolor": "white",
             "startlinecolor": "#2a3f5f"
            },
            "baxis": {
             "endlinecolor": "#2a3f5f",
             "gridcolor": "white",
             "linecolor": "white",
             "minorgridcolor": "white",
             "startlinecolor": "#2a3f5f"
            },
            "type": "carpet"
           }
          ],
          "choropleth": [
           {
            "colorbar": {
             "outlinewidth": 0,
             "ticks": ""
            },
            "type": "choropleth"
           }
          ],
          "contour": [
           {
            "colorbar": {
             "outlinewidth": 0,
             "ticks": ""
            },
            "colorscale": [
             [
              0,
              "#0d0887"
             ],
             [
              0.1111111111111111,
              "#46039f"
             ],
             [
              0.2222222222222222,
              "#7201a8"
             ],
             [
              0.3333333333333333,
              "#9c179e"
             ],
             [
              0.4444444444444444,
              "#bd3786"
             ],
             [
              0.5555555555555556,
              "#d8576b"
             ],
             [
              0.6666666666666666,
              "#ed7953"
             ],
             [
              0.7777777777777778,
              "#fb9f3a"
             ],
             [
              0.8888888888888888,
              "#fdca26"
             ],
             [
              1,
              "#f0f921"
             ]
            ],
            "type": "contour"
           }
          ],
          "contourcarpet": [
           {
            "colorbar": {
             "outlinewidth": 0,
             "ticks": ""
            },
            "type": "contourcarpet"
           }
          ],
          "heatmap": [
           {
            "colorbar": {
             "outlinewidth": 0,
             "ticks": ""
            },
            "colorscale": [
             [
              0,
              "#0d0887"
             ],
             [
              0.1111111111111111,
              "#46039f"
             ],
             [
              0.2222222222222222,
              "#7201a8"
             ],
             [
              0.3333333333333333,
              "#9c179e"
             ],
             [
              0.4444444444444444,
              "#bd3786"
             ],
             [
              0.5555555555555556,
              "#d8576b"
             ],
             [
              0.6666666666666666,
              "#ed7953"
             ],
             [
              0.7777777777777778,
              "#fb9f3a"
             ],
             [
              0.8888888888888888,
              "#fdca26"
             ],
             [
              1,
              "#f0f921"
             ]
            ],
            "type": "heatmap"
           }
          ],
          "heatmapgl": [
           {
            "colorbar": {
             "outlinewidth": 0,
             "ticks": ""
            },
            "colorscale": [
             [
              0,
              "#0d0887"
             ],
             [
              0.1111111111111111,
              "#46039f"
             ],
             [
              0.2222222222222222,
              "#7201a8"
             ],
             [
              0.3333333333333333,
              "#9c179e"
             ],
             [
              0.4444444444444444,
              "#bd3786"
             ],
             [
              0.5555555555555556,
              "#d8576b"
             ],
             [
              0.6666666666666666,
              "#ed7953"
             ],
             [
              0.7777777777777778,
              "#fb9f3a"
             ],
             [
              0.8888888888888888,
              "#fdca26"
             ],
             [
              1,
              "#f0f921"
             ]
            ],
            "type": "heatmapgl"
           }
          ],
          "histogram": [
           {
            "marker": {
             "pattern": {
              "fillmode": "overlay",
              "size": 10,
              "solidity": 0.2
             }
            },
            "type": "histogram"
           }
          ],
          "histogram2d": [
           {
            "colorbar": {
             "outlinewidth": 0,
             "ticks": ""
            },
            "colorscale": [
             [
              0,
              "#0d0887"
             ],
             [
              0.1111111111111111,
              "#46039f"
             ],
             [
              0.2222222222222222,
              "#7201a8"
             ],
             [
              0.3333333333333333,
              "#9c179e"
             ],
             [
              0.4444444444444444,
              "#bd3786"
             ],
             [
              0.5555555555555556,
              "#d8576b"
             ],
             [
              0.6666666666666666,
              "#ed7953"
             ],
             [
              0.7777777777777778,
              "#fb9f3a"
             ],
             [
              0.8888888888888888,
              "#fdca26"
             ],
             [
              1,
              "#f0f921"
             ]
            ],
            "type": "histogram2d"
           }
          ],
          "histogram2dcontour": [
           {
            "colorbar": {
             "outlinewidth": 0,
             "ticks": ""
            },
            "colorscale": [
             [
              0,
              "#0d0887"
             ],
             [
              0.1111111111111111,
              "#46039f"
             ],
             [
              0.2222222222222222,
              "#7201a8"
             ],
             [
              0.3333333333333333,
              "#9c179e"
             ],
             [
              0.4444444444444444,
              "#bd3786"
             ],
             [
              0.5555555555555556,
              "#d8576b"
             ],
             [
              0.6666666666666666,
              "#ed7953"
             ],
             [
              0.7777777777777778,
              "#fb9f3a"
             ],
             [
              0.8888888888888888,
              "#fdca26"
             ],
             [
              1,
              "#f0f921"
             ]
            ],
            "type": "histogram2dcontour"
           }
          ],
          "mesh3d": [
           {
            "colorbar": {
             "outlinewidth": 0,
             "ticks": ""
            },
            "type": "mesh3d"
           }
          ],
          "parcoords": [
           {
            "line": {
             "colorbar": {
              "outlinewidth": 0,
              "ticks": ""
             }
            },
            "type": "parcoords"
           }
          ],
          "pie": [
           {
            "automargin": true,
            "type": "pie"
           }
          ],
          "scatter": [
           {
            "fillpattern": {
             "fillmode": "overlay",
             "size": 10,
             "solidity": 0.2
            },
            "type": "scatter"
           }
          ],
          "scatter3d": [
           {
            "line": {
             "colorbar": {
              "outlinewidth": 0,
              "ticks": ""
             }
            },
            "marker": {
             "colorbar": {
              "outlinewidth": 0,
              "ticks": ""
             }
            },
            "type": "scatter3d"
           }
          ],
          "scattercarpet": [
           {
            "marker": {
             "colorbar": {
              "outlinewidth": 0,
              "ticks": ""
             }
            },
            "type": "scattercarpet"
           }
          ],
          "scattergeo": [
           {
            "marker": {
             "colorbar": {
              "outlinewidth": 0,
              "ticks": ""
             }
            },
            "type": "scattergeo"
           }
          ],
          "scattergl": [
           {
            "marker": {
             "colorbar": {
              "outlinewidth": 0,
              "ticks": ""
             }
            },
            "type": "scattergl"
           }
          ],
          "scattermapbox": [
           {
            "marker": {
             "colorbar": {
              "outlinewidth": 0,
              "ticks": ""
             }
            },
            "type": "scattermapbox"
           }
          ],
          "scatterpolar": [
           {
            "marker": {
             "colorbar": {
              "outlinewidth": 0,
              "ticks": ""
             }
            },
            "type": "scatterpolar"
           }
          ],
          "scatterpolargl": [
           {
            "marker": {
             "colorbar": {
              "outlinewidth": 0,
              "ticks": ""
             }
            },
            "type": "scatterpolargl"
           }
          ],
          "scatterternary": [
           {
            "marker": {
             "colorbar": {
              "outlinewidth": 0,
              "ticks": ""
             }
            },
            "type": "scatterternary"
           }
          ],
          "surface": [
           {
            "colorbar": {
             "outlinewidth": 0,
             "ticks": ""
            },
            "colorscale": [
             [
              0,
              "#0d0887"
             ],
             [
              0.1111111111111111,
              "#46039f"
             ],
             [
              0.2222222222222222,
              "#7201a8"
             ],
             [
              0.3333333333333333,
              "#9c179e"
             ],
             [
              0.4444444444444444,
              "#bd3786"
             ],
             [
              0.5555555555555556,
              "#d8576b"
             ],
             [
              0.6666666666666666,
              "#ed7953"
             ],
             [
              0.7777777777777778,
              "#fb9f3a"
             ],
             [
              0.8888888888888888,
              "#fdca26"
             ],
             [
              1,
              "#f0f921"
             ]
            ],
            "type": "surface"
           }
          ],
          "table": [
           {
            "cells": {
             "fill": {
              "color": "#EBF0F8"
             },
             "line": {
              "color": "white"
             }
            },
            "header": {
             "fill": {
              "color": "#C8D4E3"
             },
             "line": {
              "color": "white"
             }
            },
            "type": "table"
           }
          ]
         },
         "layout": {
          "annotationdefaults": {
           "arrowcolor": "#2a3f5f",
           "arrowhead": 0,
           "arrowwidth": 1
          },
          "autotypenumbers": "strict",
          "coloraxis": {
           "colorbar": {
            "outlinewidth": 0,
            "ticks": ""
           }
          },
          "colorscale": {
           "diverging": [
            [
             0,
             "#8e0152"
            ],
            [
             0.1,
             "#c51b7d"
            ],
            [
             0.2,
             "#de77ae"
            ],
            [
             0.3,
             "#f1b6da"
            ],
            [
             0.4,
             "#fde0ef"
            ],
            [
             0.5,
             "#f7f7f7"
            ],
            [
             0.6,
             "#e6f5d0"
            ],
            [
             0.7,
             "#b8e186"
            ],
            [
             0.8,
             "#7fbc41"
            ],
            [
             0.9,
             "#4d9221"
            ],
            [
             1,
             "#276419"
            ]
           ],
           "sequential": [
            [
             0,
             "#0d0887"
            ],
            [
             0.1111111111111111,
             "#46039f"
            ],
            [
             0.2222222222222222,
             "#7201a8"
            ],
            [
             0.3333333333333333,
             "#9c179e"
            ],
            [
             0.4444444444444444,
             "#bd3786"
            ],
            [
             0.5555555555555556,
             "#d8576b"
            ],
            [
             0.6666666666666666,
             "#ed7953"
            ],
            [
             0.7777777777777778,
             "#fb9f3a"
            ],
            [
             0.8888888888888888,
             "#fdca26"
            ],
            [
             1,
             "#f0f921"
            ]
           ],
           "sequentialminus": [
            [
             0,
             "#0d0887"
            ],
            [
             0.1111111111111111,
             "#46039f"
            ],
            [
             0.2222222222222222,
             "#7201a8"
            ],
            [
             0.3333333333333333,
             "#9c179e"
            ],
            [
             0.4444444444444444,
             "#bd3786"
            ],
            [
             0.5555555555555556,
             "#d8576b"
            ],
            [
             0.6666666666666666,
             "#ed7953"
            ],
            [
             0.7777777777777778,
             "#fb9f3a"
            ],
            [
             0.8888888888888888,
             "#fdca26"
            ],
            [
             1,
             "#f0f921"
            ]
           ]
          },
          "colorway": [
           "#636efa",
           "#EF553B",
           "#00cc96",
           "#ab63fa",
           "#FFA15A",
           "#19d3f3",
           "#FF6692",
           "#B6E880",
           "#FF97FF",
           "#FECB52"
          ],
          "font": {
           "color": "#2a3f5f"
          },
          "geo": {
           "bgcolor": "white",
           "lakecolor": "white",
           "landcolor": "#E5ECF6",
           "showlakes": true,
           "showland": true,
           "subunitcolor": "white"
          },
          "hoverlabel": {
           "align": "left"
          },
          "hovermode": "closest",
          "mapbox": {
           "style": "light"
          },
          "paper_bgcolor": "white",
          "plot_bgcolor": "#E5ECF6",
          "polar": {
           "angularaxis": {
            "gridcolor": "white",
            "linecolor": "white",
            "ticks": ""
           },
           "bgcolor": "#E5ECF6",
           "radialaxis": {
            "gridcolor": "white",
            "linecolor": "white",
            "ticks": ""
           }
          },
          "scene": {
           "xaxis": {
            "backgroundcolor": "#E5ECF6",
            "gridcolor": "white",
            "gridwidth": 2,
            "linecolor": "white",
            "showbackground": true,
            "ticks": "",
            "zerolinecolor": "white"
           },
           "yaxis": {
            "backgroundcolor": "#E5ECF6",
            "gridcolor": "white",
            "gridwidth": 2,
            "linecolor": "white",
            "showbackground": true,
            "ticks": "",
            "zerolinecolor": "white"
           },
           "zaxis": {
            "backgroundcolor": "#E5ECF6",
            "gridcolor": "white",
            "gridwidth": 2,
            "linecolor": "white",
            "showbackground": true,
            "ticks": "",
            "zerolinecolor": "white"
           }
          },
          "shapedefaults": {
           "line": {
            "color": "#2a3f5f"
           }
          },
          "ternary": {
           "aaxis": {
            "gridcolor": "white",
            "linecolor": "white",
            "ticks": ""
           },
           "baxis": {
            "gridcolor": "white",
            "linecolor": "white",
            "ticks": ""
           },
           "bgcolor": "#E5ECF6",
           "caxis": {
            "gridcolor": "white",
            "linecolor": "white",
            "ticks": ""
           }
          },
          "title": {
           "x": 0.05
          },
          "xaxis": {
           "automargin": true,
           "gridcolor": "white",
           "linecolor": "white",
           "ticks": "",
           "title": {
            "standoff": 15
           },
           "zerolinecolor": "white",
           "zerolinewidth": 2
          },
          "yaxis": {
           "automargin": true,
           "gridcolor": "white",
           "linecolor": "white",
           "ticks": "",
           "title": {
            "standoff": 15
           },
           "zerolinecolor": "white",
           "zerolinewidth": 2
          }
         }
        },
        "xaxis": {
         "anchor": "y",
         "domain": [
          0,
          1
         ],
         "title": {
          "text": "elo"
         }
        },
        "yaxis": {
         "anchor": "x",
         "domain": [
          0,
          1
         ],
         "title": {
          "text": "win_rate"
         }
        }
       }
      },
      "text/html": [
       "<div>                            <div id=\"5d518979-cecf-4760-948a-435b9514dcc6\" class=\"plotly-graph-div\" style=\"height:525px; width:100%;\"></div>            <script type=\"text/javascript\">                require([\"plotly\"], function(Plotly) {                    window.PLOTLYENV=window.PLOTLYENV || {};                                    if (document.getElementById(\"5d518979-cecf-4760-948a-435b9514dcc6\")) {                    Plotly.newPlot(                        \"5d518979-cecf-4760-948a-435b9514dcc6\",                        [{\"hovertemplate\":\"elo=%{x}\\u003cbr\\u003ewin_rate=%{y}\\u003cextra\\u003e\\u003c\\u002fextra\\u003e\",\"legendgroup\":\"\",\"marker\":{\"color\":\"#636efa\",\"symbol\":\"circle\"},\"mode\":\"markers\",\"name\":\"\",\"orientation\":\"v\",\"showlegend\":false,\"x\":[1285.135156754545,1225.0494832743245,1244.7631730024896,1191.6029942254395,1149.4823131004703,1193.9172752888908,1167.4162120190124,1125.5425451253068,1145.3691293832924,1138.260781351818,1156.0010332322042,1128.275336291691,1100.7137665636988,1116.7097113489367,982.7656763550607,1056.7864606991602,1004.5525931243602,1030.3769156243907,1014.0598763433302,966.6460245540522,926.8710386981627,880.7347351019755,929.118120737432,893.4453092823898,865.7553724671842,851.5070565789371,848.0453576280928,837.6289618498531,820.8871630848395,766.2718444473583],\"xaxis\":\"x\",\"y\":[0.21331569664903005,0.17178130511463843,0.1698412698412698,0.1628747795414462,0.15776014109347444,0.15485008818342152,0.15405643738977073,0.15000000000000002,0.14991181657848324,0.1492063492063492,0.14611992945326277,0.14329805996472664,0.1330687830687831,0.13139329805996472,0.11940035273368603,0.11931216931216929,0.1187830687830688,0.11419753086419752,0.10731922398589065,0.10185185185185185,0.10123456790123454,0.08633156966490299,0.08403880070546736,0.08192239858906526,0.07372134038800705,0.07275132275132275,0.07134038800705467,0.06807760141093475,0.059082892416225746,0.05881834215167549],\"yaxis\":\"y\",\"type\":\"scatter\"}],                        {\"template\":{\"data\":{\"histogram2dcontour\":[{\"type\":\"histogram2dcontour\",\"colorbar\":{\"outlinewidth\":0,\"ticks\":\"\"},\"colorscale\":[[0.0,\"#0d0887\"],[0.1111111111111111,\"#46039f\"],[0.2222222222222222,\"#7201a8\"],[0.3333333333333333,\"#9c179e\"],[0.4444444444444444,\"#bd3786\"],[0.5555555555555556,\"#d8576b\"],[0.6666666666666666,\"#ed7953\"],[0.7777777777777778,\"#fb9f3a\"],[0.8888888888888888,\"#fdca26\"],[1.0,\"#f0f921\"]]}],\"choropleth\":[{\"type\":\"choropleth\",\"colorbar\":{\"outlinewidth\":0,\"ticks\":\"\"}}],\"histogram2d\":[{\"type\":\"histogram2d\",\"colorbar\":{\"outlinewidth\":0,\"ticks\":\"\"},\"colorscale\":[[0.0,\"#0d0887\"],[0.1111111111111111,\"#46039f\"],[0.2222222222222222,\"#7201a8\"],[0.3333333333333333,\"#9c179e\"],[0.4444444444444444,\"#bd3786\"],[0.5555555555555556,\"#d8576b\"],[0.6666666666666666,\"#ed7953\"],[0.7777777777777778,\"#fb9f3a\"],[0.8888888888888888,\"#fdca26\"],[1.0,\"#f0f921\"]]}],\"heatmap\":[{\"type\":\"heatmap\",\"colorbar\":{\"outlinewidth\":0,\"ticks\":\"\"},\"colorscale\":[[0.0,\"#0d0887\"],[0.1111111111111111,\"#46039f\"],[0.2222222222222222,\"#7201a8\"],[0.3333333333333333,\"#9c179e\"],[0.4444444444444444,\"#bd3786\"],[0.5555555555555556,\"#d8576b\"],[0.6666666666666666,\"#ed7953\"],[0.7777777777777778,\"#fb9f3a\"],[0.8888888888888888,\"#fdca26\"],[1.0,\"#f0f921\"]]}],\"heatmapgl\":[{\"type\":\"heatmapgl\",\"colorbar\":{\"outlinewidth\":0,\"ticks\":\"\"},\"colorscale\":[[0.0,\"#0d0887\"],[0.1111111111111111,\"#46039f\"],[0.2222222222222222,\"#7201a8\"],[0.3333333333333333,\"#9c179e\"],[0.4444444444444444,\"#bd3786\"],[0.5555555555555556,\"#d8576b\"],[0.6666666666666666,\"#ed7953\"],[0.7777777777777778,\"#fb9f3a\"],[0.8888888888888888,\"#fdca26\"],[1.0,\"#f0f921\"]]}],\"contourcarpet\":[{\"type\":\"contourcarpet\",\"colorbar\":{\"outlinewidth\":0,\"ticks\":\"\"}}],\"contour\":[{\"type\":\"contour\",\"colorbar\":{\"outlinewidth\":0,\"ticks\":\"\"},\"colorscale\":[[0.0,\"#0d0887\"],[0.1111111111111111,\"#46039f\"],[0.2222222222222222,\"#7201a8\"],[0.3333333333333333,\"#9c179e\"],[0.4444444444444444,\"#bd3786\"],[0.5555555555555556,\"#d8576b\"],[0.6666666666666666,\"#ed7953\"],[0.7777777777777778,\"#fb9f3a\"],[0.8888888888888888,\"#fdca26\"],[1.0,\"#f0f921\"]]}],\"surface\":[{\"type\":\"surface\",\"colorbar\":{\"outlinewidth\":0,\"ticks\":\"\"},\"colorscale\":[[0.0,\"#0d0887\"],[0.1111111111111111,\"#46039f\"],[0.2222222222222222,\"#7201a8\"],[0.3333333333333333,\"#9c179e\"],[0.4444444444444444,\"#bd3786\"],[0.5555555555555556,\"#d8576b\"],[0.6666666666666666,\"#ed7953\"],[0.7777777777777778,\"#fb9f3a\"],[0.8888888888888888,\"#fdca26\"],[1.0,\"#f0f921\"]]}],\"mesh3d\":[{\"type\":\"mesh3d\",\"colorbar\":{\"outlinewidth\":0,\"ticks\":\"\"}}],\"scatter\":[{\"fillpattern\":{\"fillmode\":\"overlay\",\"size\":10,\"solidity\":0.2},\"type\":\"scatter\"}],\"parcoords\":[{\"type\":\"parcoords\",\"line\":{\"colorbar\":{\"outlinewidth\":0,\"ticks\":\"\"}}}],\"scatterpolargl\":[{\"type\":\"scatterpolargl\",\"marker\":{\"colorbar\":{\"outlinewidth\":0,\"ticks\":\"\"}}}],\"bar\":[{\"error_x\":{\"color\":\"#2a3f5f\"},\"error_y\":{\"color\":\"#2a3f5f\"},\"marker\":{\"line\":{\"color\":\"#E5ECF6\",\"width\":0.5},\"pattern\":{\"fillmode\":\"overlay\",\"size\":10,\"solidity\":0.2}},\"type\":\"bar\"}],\"scattergeo\":[{\"type\":\"scattergeo\",\"marker\":{\"colorbar\":{\"outlinewidth\":0,\"ticks\":\"\"}}}],\"scatterpolar\":[{\"type\":\"scatterpolar\",\"marker\":{\"colorbar\":{\"outlinewidth\":0,\"ticks\":\"\"}}}],\"histogram\":[{\"marker\":{\"pattern\":{\"fillmode\":\"overlay\",\"size\":10,\"solidity\":0.2}},\"type\":\"histogram\"}],\"scattergl\":[{\"type\":\"scattergl\",\"marker\":{\"colorbar\":{\"outlinewidth\":0,\"ticks\":\"\"}}}],\"scatter3d\":[{\"type\":\"scatter3d\",\"line\":{\"colorbar\":{\"outlinewidth\":0,\"ticks\":\"\"}},\"marker\":{\"colorbar\":{\"outlinewidth\":0,\"ticks\":\"\"}}}],\"scattermapbox\":[{\"type\":\"scattermapbox\",\"marker\":{\"colorbar\":{\"outlinewidth\":0,\"ticks\":\"\"}}}],\"scatterternary\":[{\"type\":\"scatterternary\",\"marker\":{\"colorbar\":{\"outlinewidth\":0,\"ticks\":\"\"}}}],\"scattercarpet\":[{\"type\":\"scattercarpet\",\"marker\":{\"colorbar\":{\"outlinewidth\":0,\"ticks\":\"\"}}}],\"carpet\":[{\"aaxis\":{\"endlinecolor\":\"#2a3f5f\",\"gridcolor\":\"white\",\"linecolor\":\"white\",\"minorgridcolor\":\"white\",\"startlinecolor\":\"#2a3f5f\"},\"baxis\":{\"endlinecolor\":\"#2a3f5f\",\"gridcolor\":\"white\",\"linecolor\":\"white\",\"minorgridcolor\":\"white\",\"startlinecolor\":\"#2a3f5f\"},\"type\":\"carpet\"}],\"table\":[{\"cells\":{\"fill\":{\"color\":\"#EBF0F8\"},\"line\":{\"color\":\"white\"}},\"header\":{\"fill\":{\"color\":\"#C8D4E3\"},\"line\":{\"color\":\"white\"}},\"type\":\"table\"}],\"barpolar\":[{\"marker\":{\"line\":{\"color\":\"#E5ECF6\",\"width\":0.5},\"pattern\":{\"fillmode\":\"overlay\",\"size\":10,\"solidity\":0.2}},\"type\":\"barpolar\"}],\"pie\":[{\"automargin\":true,\"type\":\"pie\"}]},\"layout\":{\"autotypenumbers\":\"strict\",\"colorway\":[\"#636efa\",\"#EF553B\",\"#00cc96\",\"#ab63fa\",\"#FFA15A\",\"#19d3f3\",\"#FF6692\",\"#B6E880\",\"#FF97FF\",\"#FECB52\"],\"font\":{\"color\":\"#2a3f5f\"},\"hovermode\":\"closest\",\"hoverlabel\":{\"align\":\"left\"},\"paper_bgcolor\":\"white\",\"plot_bgcolor\":\"#E5ECF6\",\"polar\":{\"bgcolor\":\"#E5ECF6\",\"angularaxis\":{\"gridcolor\":\"white\",\"linecolor\":\"white\",\"ticks\":\"\"},\"radialaxis\":{\"gridcolor\":\"white\",\"linecolor\":\"white\",\"ticks\":\"\"}},\"ternary\":{\"bgcolor\":\"#E5ECF6\",\"aaxis\":{\"gridcolor\":\"white\",\"linecolor\":\"white\",\"ticks\":\"\"},\"baxis\":{\"gridcolor\":\"white\",\"linecolor\":\"white\",\"ticks\":\"\"},\"caxis\":{\"gridcolor\":\"white\",\"linecolor\":\"white\",\"ticks\":\"\"}},\"coloraxis\":{\"colorbar\":{\"outlinewidth\":0,\"ticks\":\"\"}},\"colorscale\":{\"sequential\":[[0.0,\"#0d0887\"],[0.1111111111111111,\"#46039f\"],[0.2222222222222222,\"#7201a8\"],[0.3333333333333333,\"#9c179e\"],[0.4444444444444444,\"#bd3786\"],[0.5555555555555556,\"#d8576b\"],[0.6666666666666666,\"#ed7953\"],[0.7777777777777778,\"#fb9f3a\"],[0.8888888888888888,\"#fdca26\"],[1.0,\"#f0f921\"]],\"sequentialminus\":[[0.0,\"#0d0887\"],[0.1111111111111111,\"#46039f\"],[0.2222222222222222,\"#7201a8\"],[0.3333333333333333,\"#9c179e\"],[0.4444444444444444,\"#bd3786\"],[0.5555555555555556,\"#d8576b\"],[0.6666666666666666,\"#ed7953\"],[0.7777777777777778,\"#fb9f3a\"],[0.8888888888888888,\"#fdca26\"],[1.0,\"#f0f921\"]],\"diverging\":[[0,\"#8e0152\"],[0.1,\"#c51b7d\"],[0.2,\"#de77ae\"],[0.3,\"#f1b6da\"],[0.4,\"#fde0ef\"],[0.5,\"#f7f7f7\"],[0.6,\"#e6f5d0\"],[0.7,\"#b8e186\"],[0.8,\"#7fbc41\"],[0.9,\"#4d9221\"],[1,\"#276419\"]]},\"xaxis\":{\"gridcolor\":\"white\",\"linecolor\":\"white\",\"ticks\":\"\",\"title\":{\"standoff\":15},\"zerolinecolor\":\"white\",\"automargin\":true,\"zerolinewidth\":2},\"yaxis\":{\"gridcolor\":\"white\",\"linecolor\":\"white\",\"ticks\":\"\",\"title\":{\"standoff\":15},\"zerolinecolor\":\"white\",\"automargin\":true,\"zerolinewidth\":2},\"scene\":{\"xaxis\":{\"backgroundcolor\":\"#E5ECF6\",\"gridcolor\":\"white\",\"linecolor\":\"white\",\"showbackground\":true,\"ticks\":\"\",\"zerolinecolor\":\"white\",\"gridwidth\":2},\"yaxis\":{\"backgroundcolor\":\"#E5ECF6\",\"gridcolor\":\"white\",\"linecolor\":\"white\",\"showbackground\":true,\"ticks\":\"\",\"zerolinecolor\":\"white\",\"gridwidth\":2},\"zaxis\":{\"backgroundcolor\":\"#E5ECF6\",\"gridcolor\":\"white\",\"linecolor\":\"white\",\"showbackground\":true,\"ticks\":\"\",\"zerolinecolor\":\"white\",\"gridwidth\":2}},\"shapedefaults\":{\"line\":{\"color\":\"#2a3f5f\"}},\"annotationdefaults\":{\"arrowcolor\":\"#2a3f5f\",\"arrowhead\":0,\"arrowwidth\":1},\"geo\":{\"bgcolor\":\"white\",\"landcolor\":\"#E5ECF6\",\"subunitcolor\":\"white\",\"showland\":true,\"showlakes\":true,\"lakecolor\":\"white\"},\"title\":{\"x\":0.05},\"mapbox\":{\"style\":\"light\"}}},\"xaxis\":{\"anchor\":\"y\",\"domain\":[0.0,1.0],\"title\":{\"text\":\"elo\"}},\"yaxis\":{\"anchor\":\"x\",\"domain\":[0.0,1.0],\"title\":{\"text\":\"win_rate\"}},\"legend\":{\"tracegroupgap\":0},\"margin\":{\"t\":60}},                        {\"responsive\": true}                    ).then(function(){\n",
       "                            \n",
       "var gd = document.getElementById('5d518979-cecf-4760-948a-435b9514dcc6');\n",
       "var x = new MutationObserver(function (mutations, observer) {{\n",
       "        var display = window.getComputedStyle(gd).display;\n",
       "        if (!display || display === 'none') {{\n",
       "            console.log([gd, 'removed!']);\n",
       "            Plotly.purge(gd);\n",
       "            observer.disconnect();\n",
       "        }}\n",
       "}});\n",
       "\n",
       "// Listen for the removal of the full notebook cells\n",
       "var notebookContainer = gd.closest('#notebook-container');\n",
       "if (notebookContainer) {{\n",
       "    x.observe(notebookContainer, {childList: true});\n",
       "}}\n",
       "\n",
       "// Listen for the clearing of the current output cell\n",
       "var outputEl = gd.closest('.output');\n",
       "if (outputEl) {{\n",
       "    x.observe(outputEl, {childList: true});\n",
       "}}\n",
       "\n",
       "                        })                };                });            </script>        </div>"
      ]
     },
     "metadata": {},
     "output_type": "display_data"
    }
   ],
   "source": [
    "pair_stats = compute_pairwise_win_fraction(battles)\n",
    "a_win = pair_stats[0]\n",
    "win_rates = a_win.mean(axis=1).sort_values(ascending=False)\n",
    "win_elo = win_rates.to_frame(name='win_rate').join(model_elos.to_frame(name='elo')).reset_index()\n",
    "all_stats = win_elo.merge(accs, left_on='model_a', right_on='model')[['model', 'pass1', 'win_rate', 'elo']]\n",
    "sections['Ratings table'] = all_stats.to_html(float_format='%10.3f')\n",
    "px.scatter(all_stats, x='elo', y='win_rate')"
   ]
  },
  {
   "cell_type": "code",
   "execution_count": 68,
   "metadata": {},
   "outputs": [
    {
     "data": {
      "application/vnd.plotly.v1+json": {
       "config": {
        "plotlyServerURL": "https://plot.ly"
       },
       "data": [
        {
         "hovertemplate": "elo=%{x}<br>win_rate=%{y}<extra></extra>",
         "legendgroup": "",
         "marker": {
          "color": "#636efa",
          "symbol": "circle"
         },
         "mode": "markers",
         "name": "",
         "orientation": "v",
         "showlegend": false,
         "type": "scatter",
         "x": [
          1285.135156754545,
          1244.7631730024896,
          1225.0494832743245,
          1191.6029942254395,
          1193.9172752888908,
          1167.4162120190124,
          1156.0010332322042,
          1149.4823131004703,
          1145.3691293832924,
          1138.260781351818,
          1128.275336291691,
          1125.5425451253068,
          1116.7097113489367,
          1100.7137665636988,
          1056.7864606991602,
          1030.3769156243907,
          1014.0598763433302,
          1004.5525931243602,
          982.7656763550607,
          966.6460245540522,
          926.8710386981627,
          929.118120737432,
          893.4453092823898,
          880.7347351019755,
          865.7553724671842,
          851.5070565789371,
          848.0453576280928,
          837.6289618498531,
          820.8871630848395,
          774.5208660829818
         ],
         "xaxis": "x",
         "y": [
          0.7949954726358819,
          0.7507096057599337,
          0.7300828722962688,
          0.693643430590223,
          0.6915767757122582,
          0.6650530685287795,
          0.6505813426197491,
          0.6482633338327635,
          0.6390452246753603,
          0.6305955877300784,
          0.6182583319838215,
          0.6133477044543567,
          0.5977487410751188,
          0.5786827242788019,
          0.5260293758923205,
          0.4899233385867228,
          0.4654499779259385,
          0.4638562456798959,
          0.43852160366701776,
          0.4122925643409228,
          0.367050302207172,
          0.3633241896827499,
          0.32266217104107214,
          0.31070155321165227,
          0.2892987034445396,
          0.27618009051212306,
          0.2718772701212264,
          0.2605912994428102,
          0.24177596575764457,
          0.19788113231279675
         ],
         "yaxis": "y"
        }
       ],
       "layout": {
        "legend": {
         "tracegroupgap": 0
        },
        "margin": {
         "t": 60
        },
        "template": {
         "data": {
          "bar": [
           {
            "error_x": {
             "color": "#2a3f5f"
            },
            "error_y": {
             "color": "#2a3f5f"
            },
            "marker": {
             "line": {
              "color": "#E5ECF6",
              "width": 0.5
             },
             "pattern": {
              "fillmode": "overlay",
              "size": 10,
              "solidity": 0.2
             }
            },
            "type": "bar"
           }
          ],
          "barpolar": [
           {
            "marker": {
             "line": {
              "color": "#E5ECF6",
              "width": 0.5
             },
             "pattern": {
              "fillmode": "overlay",
              "size": 10,
              "solidity": 0.2
             }
            },
            "type": "barpolar"
           }
          ],
          "carpet": [
           {
            "aaxis": {
             "endlinecolor": "#2a3f5f",
             "gridcolor": "white",
             "linecolor": "white",
             "minorgridcolor": "white",
             "startlinecolor": "#2a3f5f"
            },
            "baxis": {
             "endlinecolor": "#2a3f5f",
             "gridcolor": "white",
             "linecolor": "white",
             "minorgridcolor": "white",
             "startlinecolor": "#2a3f5f"
            },
            "type": "carpet"
           }
          ],
          "choropleth": [
           {
            "colorbar": {
             "outlinewidth": 0,
             "ticks": ""
            },
            "type": "choropleth"
           }
          ],
          "contour": [
           {
            "colorbar": {
             "outlinewidth": 0,
             "ticks": ""
            },
            "colorscale": [
             [
              0,
              "#0d0887"
             ],
             [
              0.1111111111111111,
              "#46039f"
             ],
             [
              0.2222222222222222,
              "#7201a8"
             ],
             [
              0.3333333333333333,
              "#9c179e"
             ],
             [
              0.4444444444444444,
              "#bd3786"
             ],
             [
              0.5555555555555556,
              "#d8576b"
             ],
             [
              0.6666666666666666,
              "#ed7953"
             ],
             [
              0.7777777777777778,
              "#fb9f3a"
             ],
             [
              0.8888888888888888,
              "#fdca26"
             ],
             [
              1,
              "#f0f921"
             ]
            ],
            "type": "contour"
           }
          ],
          "contourcarpet": [
           {
            "colorbar": {
             "outlinewidth": 0,
             "ticks": ""
            },
            "type": "contourcarpet"
           }
          ],
          "heatmap": [
           {
            "colorbar": {
             "outlinewidth": 0,
             "ticks": ""
            },
            "colorscale": [
             [
              0,
              "#0d0887"
             ],
             [
              0.1111111111111111,
              "#46039f"
             ],
             [
              0.2222222222222222,
              "#7201a8"
             ],
             [
              0.3333333333333333,
              "#9c179e"
             ],
             [
              0.4444444444444444,
              "#bd3786"
             ],
             [
              0.5555555555555556,
              "#d8576b"
             ],
             [
              0.6666666666666666,
              "#ed7953"
             ],
             [
              0.7777777777777778,
              "#fb9f3a"
             ],
             [
              0.8888888888888888,
              "#fdca26"
             ],
             [
              1,
              "#f0f921"
             ]
            ],
            "type": "heatmap"
           }
          ],
          "heatmapgl": [
           {
            "colorbar": {
             "outlinewidth": 0,
             "ticks": ""
            },
            "colorscale": [
             [
              0,
              "#0d0887"
             ],
             [
              0.1111111111111111,
              "#46039f"
             ],
             [
              0.2222222222222222,
              "#7201a8"
             ],
             [
              0.3333333333333333,
              "#9c179e"
             ],
             [
              0.4444444444444444,
              "#bd3786"
             ],
             [
              0.5555555555555556,
              "#d8576b"
             ],
             [
              0.6666666666666666,
              "#ed7953"
             ],
             [
              0.7777777777777778,
              "#fb9f3a"
             ],
             [
              0.8888888888888888,
              "#fdca26"
             ],
             [
              1,
              "#f0f921"
             ]
            ],
            "type": "heatmapgl"
           }
          ],
          "histogram": [
           {
            "marker": {
             "pattern": {
              "fillmode": "overlay",
              "size": 10,
              "solidity": 0.2
             }
            },
            "type": "histogram"
           }
          ],
          "histogram2d": [
           {
            "colorbar": {
             "outlinewidth": 0,
             "ticks": ""
            },
            "colorscale": [
             [
              0,
              "#0d0887"
             ],
             [
              0.1111111111111111,
              "#46039f"
             ],
             [
              0.2222222222222222,
              "#7201a8"
             ],
             [
              0.3333333333333333,
              "#9c179e"
             ],
             [
              0.4444444444444444,
              "#bd3786"
             ],
             [
              0.5555555555555556,
              "#d8576b"
             ],
             [
              0.6666666666666666,
              "#ed7953"
             ],
             [
              0.7777777777777778,
              "#fb9f3a"
             ],
             [
              0.8888888888888888,
              "#fdca26"
             ],
             [
              1,
              "#f0f921"
             ]
            ],
            "type": "histogram2d"
           }
          ],
          "histogram2dcontour": [
           {
            "colorbar": {
             "outlinewidth": 0,
             "ticks": ""
            },
            "colorscale": [
             [
              0,
              "#0d0887"
             ],
             [
              0.1111111111111111,
              "#46039f"
             ],
             [
              0.2222222222222222,
              "#7201a8"
             ],
             [
              0.3333333333333333,
              "#9c179e"
             ],
             [
              0.4444444444444444,
              "#bd3786"
             ],
             [
              0.5555555555555556,
              "#d8576b"
             ],
             [
              0.6666666666666666,
              "#ed7953"
             ],
             [
              0.7777777777777778,
              "#fb9f3a"
             ],
             [
              0.8888888888888888,
              "#fdca26"
             ],
             [
              1,
              "#f0f921"
             ]
            ],
            "type": "histogram2dcontour"
           }
          ],
          "mesh3d": [
           {
            "colorbar": {
             "outlinewidth": 0,
             "ticks": ""
            },
            "type": "mesh3d"
           }
          ],
          "parcoords": [
           {
            "line": {
             "colorbar": {
              "outlinewidth": 0,
              "ticks": ""
             }
            },
            "type": "parcoords"
           }
          ],
          "pie": [
           {
            "automargin": true,
            "type": "pie"
           }
          ],
          "scatter": [
           {
            "fillpattern": {
             "fillmode": "overlay",
             "size": 10,
             "solidity": 0.2
            },
            "type": "scatter"
           }
          ],
          "scatter3d": [
           {
            "line": {
             "colorbar": {
              "outlinewidth": 0,
              "ticks": ""
             }
            },
            "marker": {
             "colorbar": {
              "outlinewidth": 0,
              "ticks": ""
             }
            },
            "type": "scatter3d"
           }
          ],
          "scattercarpet": [
           {
            "marker": {
             "colorbar": {
              "outlinewidth": 0,
              "ticks": ""
             }
            },
            "type": "scattercarpet"
           }
          ],
          "scattergeo": [
           {
            "marker": {
             "colorbar": {
              "outlinewidth": 0,
              "ticks": ""
             }
            },
            "type": "scattergeo"
           }
          ],
          "scattergl": [
           {
            "marker": {
             "colorbar": {
              "outlinewidth": 0,
              "ticks": ""
             }
            },
            "type": "scattergl"
           }
          ],
          "scattermapbox": [
           {
            "marker": {
             "colorbar": {
              "outlinewidth": 0,
              "ticks": ""
             }
            },
            "type": "scattermapbox"
           }
          ],
          "scatterpolar": [
           {
            "marker": {
             "colorbar": {
              "outlinewidth": 0,
              "ticks": ""
             }
            },
            "type": "scatterpolar"
           }
          ],
          "scatterpolargl": [
           {
            "marker": {
             "colorbar": {
              "outlinewidth": 0,
              "ticks": ""
             }
            },
            "type": "scatterpolargl"
           }
          ],
          "scatterternary": [
           {
            "marker": {
             "colorbar": {
              "outlinewidth": 0,
              "ticks": ""
             }
            },
            "type": "scatterternary"
           }
          ],
          "surface": [
           {
            "colorbar": {
             "outlinewidth": 0,
             "ticks": ""
            },
            "colorscale": [
             [
              0,
              "#0d0887"
             ],
             [
              0.1111111111111111,
              "#46039f"
             ],
             [
              0.2222222222222222,
              "#7201a8"
             ],
             [
              0.3333333333333333,
              "#9c179e"
             ],
             [
              0.4444444444444444,
              "#bd3786"
             ],
             [
              0.5555555555555556,
              "#d8576b"
             ],
             [
              0.6666666666666666,
              "#ed7953"
             ],
             [
              0.7777777777777778,
              "#fb9f3a"
             ],
             [
              0.8888888888888888,
              "#fdca26"
             ],
             [
              1,
              "#f0f921"
             ]
            ],
            "type": "surface"
           }
          ],
          "table": [
           {
            "cells": {
             "fill": {
              "color": "#EBF0F8"
             },
             "line": {
              "color": "white"
             }
            },
            "header": {
             "fill": {
              "color": "#C8D4E3"
             },
             "line": {
              "color": "white"
             }
            },
            "type": "table"
           }
          ]
         },
         "layout": {
          "annotationdefaults": {
           "arrowcolor": "#2a3f5f",
           "arrowhead": 0,
           "arrowwidth": 1
          },
          "autotypenumbers": "strict",
          "coloraxis": {
           "colorbar": {
            "outlinewidth": 0,
            "ticks": ""
           }
          },
          "colorscale": {
           "diverging": [
            [
             0,
             "#8e0152"
            ],
            [
             0.1,
             "#c51b7d"
            ],
            [
             0.2,
             "#de77ae"
            ],
            [
             0.3,
             "#f1b6da"
            ],
            [
             0.4,
             "#fde0ef"
            ],
            [
             0.5,
             "#f7f7f7"
            ],
            [
             0.6,
             "#e6f5d0"
            ],
            [
             0.7,
             "#b8e186"
            ],
            [
             0.8,
             "#7fbc41"
            ],
            [
             0.9,
             "#4d9221"
            ],
            [
             1,
             "#276419"
            ]
           ],
           "sequential": [
            [
             0,
             "#0d0887"
            ],
            [
             0.1111111111111111,
             "#46039f"
            ],
            [
             0.2222222222222222,
             "#7201a8"
            ],
            [
             0.3333333333333333,
             "#9c179e"
            ],
            [
             0.4444444444444444,
             "#bd3786"
            ],
            [
             0.5555555555555556,
             "#d8576b"
            ],
            [
             0.6666666666666666,
             "#ed7953"
            ],
            [
             0.7777777777777778,
             "#fb9f3a"
            ],
            [
             0.8888888888888888,
             "#fdca26"
            ],
            [
             1,
             "#f0f921"
            ]
           ],
           "sequentialminus": [
            [
             0,
             "#0d0887"
            ],
            [
             0.1111111111111111,
             "#46039f"
            ],
            [
             0.2222222222222222,
             "#7201a8"
            ],
            [
             0.3333333333333333,
             "#9c179e"
            ],
            [
             0.4444444444444444,
             "#bd3786"
            ],
            [
             0.5555555555555556,
             "#d8576b"
            ],
            [
             0.6666666666666666,
             "#ed7953"
            ],
            [
             0.7777777777777778,
             "#fb9f3a"
            ],
            [
             0.8888888888888888,
             "#fdca26"
            ],
            [
             1,
             "#f0f921"
            ]
           ]
          },
          "colorway": [
           "#636efa",
           "#EF553B",
           "#00cc96",
           "#ab63fa",
           "#FFA15A",
           "#19d3f3",
           "#FF6692",
           "#B6E880",
           "#FF97FF",
           "#FECB52"
          ],
          "font": {
           "color": "#2a3f5f"
          },
          "geo": {
           "bgcolor": "white",
           "lakecolor": "white",
           "landcolor": "#E5ECF6",
           "showlakes": true,
           "showland": true,
           "subunitcolor": "white"
          },
          "hoverlabel": {
           "align": "left"
          },
          "hovermode": "closest",
          "mapbox": {
           "style": "light"
          },
          "paper_bgcolor": "white",
          "plot_bgcolor": "#E5ECF6",
          "polar": {
           "angularaxis": {
            "gridcolor": "white",
            "linecolor": "white",
            "ticks": ""
           },
           "bgcolor": "#E5ECF6",
           "radialaxis": {
            "gridcolor": "white",
            "linecolor": "white",
            "ticks": ""
           }
          },
          "scene": {
           "xaxis": {
            "backgroundcolor": "#E5ECF6",
            "gridcolor": "white",
            "gridwidth": 2,
            "linecolor": "white",
            "showbackground": true,
            "ticks": "",
            "zerolinecolor": "white"
           },
           "yaxis": {
            "backgroundcolor": "#E5ECF6",
            "gridcolor": "white",
            "gridwidth": 2,
            "linecolor": "white",
            "showbackground": true,
            "ticks": "",
            "zerolinecolor": "white"
           },
           "zaxis": {
            "backgroundcolor": "#E5ECF6",
            "gridcolor": "white",
            "gridwidth": 2,
            "linecolor": "white",
            "showbackground": true,
            "ticks": "",
            "zerolinecolor": "white"
           }
          },
          "shapedefaults": {
           "line": {
            "color": "#2a3f5f"
           }
          },
          "ternary": {
           "aaxis": {
            "gridcolor": "white",
            "linecolor": "white",
            "ticks": ""
           },
           "baxis": {
            "gridcolor": "white",
            "linecolor": "white",
            "ticks": ""
           },
           "bgcolor": "#E5ECF6",
           "caxis": {
            "gridcolor": "white",
            "linecolor": "white",
            "ticks": ""
           }
          },
          "title": {
           "x": 0.05
          },
          "xaxis": {
           "automargin": true,
           "gridcolor": "white",
           "linecolor": "white",
           "ticks": "",
           "title": {
            "standoff": 15
           },
           "zerolinecolor": "white",
           "zerolinewidth": 2
          },
          "yaxis": {
           "automargin": true,
           "gridcolor": "white",
           "linecolor": "white",
           "ticks": "",
           "title": {
            "standoff": 15
           },
           "zerolinecolor": "white",
           "zerolinewidth": 2
          }
         }
        },
        "xaxis": {
         "anchor": "y",
         "domain": [
          0,
          1
         ],
         "title": {
          "text": "elo"
         }
        },
        "yaxis": {
         "anchor": "x",
         "domain": [
          0,
          1
         ],
         "title": {
          "text": "win_rate"
         }
        }
       }
      },
      "text/html": [
       "<div>                            <div id=\"df324db5-77de-44a1-b5a4-c950c3915562\" class=\"plotly-graph-div\" style=\"height:525px; width:100%;\"></div>            <script type=\"text/javascript\">                require([\"plotly\"], function(Plotly) {                    window.PLOTLYENV=window.PLOTLYENV || {};                                    if (document.getElementById(\"df324db5-77de-44a1-b5a4-c950c3915562\")) {                    Plotly.newPlot(                        \"df324db5-77de-44a1-b5a4-c950c3915562\",                        [{\"hovertemplate\":\"elo=%{x}\\u003cbr\\u003ewin_rate=%{y}\\u003cextra\\u003e\\u003c\\u002fextra\\u003e\",\"legendgroup\":\"\",\"marker\":{\"color\":\"#636efa\",\"symbol\":\"circle\"},\"mode\":\"markers\",\"name\":\"\",\"orientation\":\"v\",\"showlegend\":false,\"x\":[1285.135156754545,1244.7631730024896,1225.0494832743245,1191.6029942254395,1193.9172752888908,1167.4162120190124,1156.0010332322042,1149.4823131004703,1145.3691293832924,1138.260781351818,1128.275336291691,1125.5425451253068,1116.7097113489367,1100.7137665636988,1056.7864606991602,1030.3769156243907,1014.0598763433302,1004.5525931243602,982.7656763550607,966.6460245540522,926.8710386981627,929.118120737432,893.4453092823898,880.7347351019755,865.7553724671842,851.5070565789371,848.0453576280928,837.6289618498531,820.8871630848395,774.5208660829818],\"xaxis\":\"x\",\"y\":[0.7949954726358819,0.7507096057599337,0.7300828722962688,0.693643430590223,0.6915767757122582,0.6650530685287795,0.6505813426197491,0.6482633338327635,0.6390452246753603,0.6305955877300784,0.6182583319838215,0.6133477044543567,0.5977487410751188,0.5786827242788019,0.5260293758923205,0.4899233385867228,0.4654499779259385,0.4638562456798959,0.43852160366701776,0.4122925643409228,0.367050302207172,0.3633241896827499,0.32266217104107214,0.31070155321165227,0.2892987034445396,0.27618009051212306,0.2718772701212264,0.2605912994428102,0.24177596575764457,0.19788113231279675],\"yaxis\":\"y\",\"type\":\"scatter\"}],                        {\"template\":{\"data\":{\"histogram2dcontour\":[{\"type\":\"histogram2dcontour\",\"colorbar\":{\"outlinewidth\":0,\"ticks\":\"\"},\"colorscale\":[[0.0,\"#0d0887\"],[0.1111111111111111,\"#46039f\"],[0.2222222222222222,\"#7201a8\"],[0.3333333333333333,\"#9c179e\"],[0.4444444444444444,\"#bd3786\"],[0.5555555555555556,\"#d8576b\"],[0.6666666666666666,\"#ed7953\"],[0.7777777777777778,\"#fb9f3a\"],[0.8888888888888888,\"#fdca26\"],[1.0,\"#f0f921\"]]}],\"choropleth\":[{\"type\":\"choropleth\",\"colorbar\":{\"outlinewidth\":0,\"ticks\":\"\"}}],\"histogram2d\":[{\"type\":\"histogram2d\",\"colorbar\":{\"outlinewidth\":0,\"ticks\":\"\"},\"colorscale\":[[0.0,\"#0d0887\"],[0.1111111111111111,\"#46039f\"],[0.2222222222222222,\"#7201a8\"],[0.3333333333333333,\"#9c179e\"],[0.4444444444444444,\"#bd3786\"],[0.5555555555555556,\"#d8576b\"],[0.6666666666666666,\"#ed7953\"],[0.7777777777777778,\"#fb9f3a\"],[0.8888888888888888,\"#fdca26\"],[1.0,\"#f0f921\"]]}],\"heatmap\":[{\"type\":\"heatmap\",\"colorbar\":{\"outlinewidth\":0,\"ticks\":\"\"},\"colorscale\":[[0.0,\"#0d0887\"],[0.1111111111111111,\"#46039f\"],[0.2222222222222222,\"#7201a8\"],[0.3333333333333333,\"#9c179e\"],[0.4444444444444444,\"#bd3786\"],[0.5555555555555556,\"#d8576b\"],[0.6666666666666666,\"#ed7953\"],[0.7777777777777778,\"#fb9f3a\"],[0.8888888888888888,\"#fdca26\"],[1.0,\"#f0f921\"]]}],\"heatmapgl\":[{\"type\":\"heatmapgl\",\"colorbar\":{\"outlinewidth\":0,\"ticks\":\"\"},\"colorscale\":[[0.0,\"#0d0887\"],[0.1111111111111111,\"#46039f\"],[0.2222222222222222,\"#7201a8\"],[0.3333333333333333,\"#9c179e\"],[0.4444444444444444,\"#bd3786\"],[0.5555555555555556,\"#d8576b\"],[0.6666666666666666,\"#ed7953\"],[0.7777777777777778,\"#fb9f3a\"],[0.8888888888888888,\"#fdca26\"],[1.0,\"#f0f921\"]]}],\"contourcarpet\":[{\"type\":\"contourcarpet\",\"colorbar\":{\"outlinewidth\":0,\"ticks\":\"\"}}],\"contour\":[{\"type\":\"contour\",\"colorbar\":{\"outlinewidth\":0,\"ticks\":\"\"},\"colorscale\":[[0.0,\"#0d0887\"],[0.1111111111111111,\"#46039f\"],[0.2222222222222222,\"#7201a8\"],[0.3333333333333333,\"#9c179e\"],[0.4444444444444444,\"#bd3786\"],[0.5555555555555556,\"#d8576b\"],[0.6666666666666666,\"#ed7953\"],[0.7777777777777778,\"#fb9f3a\"],[0.8888888888888888,\"#fdca26\"],[1.0,\"#f0f921\"]]}],\"surface\":[{\"type\":\"surface\",\"colorbar\":{\"outlinewidth\":0,\"ticks\":\"\"},\"colorscale\":[[0.0,\"#0d0887\"],[0.1111111111111111,\"#46039f\"],[0.2222222222222222,\"#7201a8\"],[0.3333333333333333,\"#9c179e\"],[0.4444444444444444,\"#bd3786\"],[0.5555555555555556,\"#d8576b\"],[0.6666666666666666,\"#ed7953\"],[0.7777777777777778,\"#fb9f3a\"],[0.8888888888888888,\"#fdca26\"],[1.0,\"#f0f921\"]]}],\"mesh3d\":[{\"type\":\"mesh3d\",\"colorbar\":{\"outlinewidth\":0,\"ticks\":\"\"}}],\"scatter\":[{\"fillpattern\":{\"fillmode\":\"overlay\",\"size\":10,\"solidity\":0.2},\"type\":\"scatter\"}],\"parcoords\":[{\"type\":\"parcoords\",\"line\":{\"colorbar\":{\"outlinewidth\":0,\"ticks\":\"\"}}}],\"scatterpolargl\":[{\"type\":\"scatterpolargl\",\"marker\":{\"colorbar\":{\"outlinewidth\":0,\"ticks\":\"\"}}}],\"bar\":[{\"error_x\":{\"color\":\"#2a3f5f\"},\"error_y\":{\"color\":\"#2a3f5f\"},\"marker\":{\"line\":{\"color\":\"#E5ECF6\",\"width\":0.5},\"pattern\":{\"fillmode\":\"overlay\",\"size\":10,\"solidity\":0.2}},\"type\":\"bar\"}],\"scattergeo\":[{\"type\":\"scattergeo\",\"marker\":{\"colorbar\":{\"outlinewidth\":0,\"ticks\":\"\"}}}],\"scatterpolar\":[{\"type\":\"scatterpolar\",\"marker\":{\"colorbar\":{\"outlinewidth\":0,\"ticks\":\"\"}}}],\"histogram\":[{\"marker\":{\"pattern\":{\"fillmode\":\"overlay\",\"size\":10,\"solidity\":0.2}},\"type\":\"histogram\"}],\"scattergl\":[{\"type\":\"scattergl\",\"marker\":{\"colorbar\":{\"outlinewidth\":0,\"ticks\":\"\"}}}],\"scatter3d\":[{\"type\":\"scatter3d\",\"line\":{\"colorbar\":{\"outlinewidth\":0,\"ticks\":\"\"}},\"marker\":{\"colorbar\":{\"outlinewidth\":0,\"ticks\":\"\"}}}],\"scattermapbox\":[{\"type\":\"scattermapbox\",\"marker\":{\"colorbar\":{\"outlinewidth\":0,\"ticks\":\"\"}}}],\"scatterternary\":[{\"type\":\"scatterternary\",\"marker\":{\"colorbar\":{\"outlinewidth\":0,\"ticks\":\"\"}}}],\"scattercarpet\":[{\"type\":\"scattercarpet\",\"marker\":{\"colorbar\":{\"outlinewidth\":0,\"ticks\":\"\"}}}],\"carpet\":[{\"aaxis\":{\"endlinecolor\":\"#2a3f5f\",\"gridcolor\":\"white\",\"linecolor\":\"white\",\"minorgridcolor\":\"white\",\"startlinecolor\":\"#2a3f5f\"},\"baxis\":{\"endlinecolor\":\"#2a3f5f\",\"gridcolor\":\"white\",\"linecolor\":\"white\",\"minorgridcolor\":\"white\",\"startlinecolor\":\"#2a3f5f\"},\"type\":\"carpet\"}],\"table\":[{\"cells\":{\"fill\":{\"color\":\"#EBF0F8\"},\"line\":{\"color\":\"white\"}},\"header\":{\"fill\":{\"color\":\"#C8D4E3\"},\"line\":{\"color\":\"white\"}},\"type\":\"table\"}],\"barpolar\":[{\"marker\":{\"line\":{\"color\":\"#E5ECF6\",\"width\":0.5},\"pattern\":{\"fillmode\":\"overlay\",\"size\":10,\"solidity\":0.2}},\"type\":\"barpolar\"}],\"pie\":[{\"automargin\":true,\"type\":\"pie\"}]},\"layout\":{\"autotypenumbers\":\"strict\",\"colorway\":[\"#636efa\",\"#EF553B\",\"#00cc96\",\"#ab63fa\",\"#FFA15A\",\"#19d3f3\",\"#FF6692\",\"#B6E880\",\"#FF97FF\",\"#FECB52\"],\"font\":{\"color\":\"#2a3f5f\"},\"hovermode\":\"closest\",\"hoverlabel\":{\"align\":\"left\"},\"paper_bgcolor\":\"white\",\"plot_bgcolor\":\"#E5ECF6\",\"polar\":{\"bgcolor\":\"#E5ECF6\",\"angularaxis\":{\"gridcolor\":\"white\",\"linecolor\":\"white\",\"ticks\":\"\"},\"radialaxis\":{\"gridcolor\":\"white\",\"linecolor\":\"white\",\"ticks\":\"\"}},\"ternary\":{\"bgcolor\":\"#E5ECF6\",\"aaxis\":{\"gridcolor\":\"white\",\"linecolor\":\"white\",\"ticks\":\"\"},\"baxis\":{\"gridcolor\":\"white\",\"linecolor\":\"white\",\"ticks\":\"\"},\"caxis\":{\"gridcolor\":\"white\",\"linecolor\":\"white\",\"ticks\":\"\"}},\"coloraxis\":{\"colorbar\":{\"outlinewidth\":0,\"ticks\":\"\"}},\"colorscale\":{\"sequential\":[[0.0,\"#0d0887\"],[0.1111111111111111,\"#46039f\"],[0.2222222222222222,\"#7201a8\"],[0.3333333333333333,\"#9c179e\"],[0.4444444444444444,\"#bd3786\"],[0.5555555555555556,\"#d8576b\"],[0.6666666666666666,\"#ed7953\"],[0.7777777777777778,\"#fb9f3a\"],[0.8888888888888888,\"#fdca26\"],[1.0,\"#f0f921\"]],\"sequentialminus\":[[0.0,\"#0d0887\"],[0.1111111111111111,\"#46039f\"],[0.2222222222222222,\"#7201a8\"],[0.3333333333333333,\"#9c179e\"],[0.4444444444444444,\"#bd3786\"],[0.5555555555555556,\"#d8576b\"],[0.6666666666666666,\"#ed7953\"],[0.7777777777777778,\"#fb9f3a\"],[0.8888888888888888,\"#fdca26\"],[1.0,\"#f0f921\"]],\"diverging\":[[0,\"#8e0152\"],[0.1,\"#c51b7d\"],[0.2,\"#de77ae\"],[0.3,\"#f1b6da\"],[0.4,\"#fde0ef\"],[0.5,\"#f7f7f7\"],[0.6,\"#e6f5d0\"],[0.7,\"#b8e186\"],[0.8,\"#7fbc41\"],[0.9,\"#4d9221\"],[1,\"#276419\"]]},\"xaxis\":{\"gridcolor\":\"white\",\"linecolor\":\"white\",\"ticks\":\"\",\"title\":{\"standoff\":15},\"zerolinecolor\":\"white\",\"automargin\":true,\"zerolinewidth\":2},\"yaxis\":{\"gridcolor\":\"white\",\"linecolor\":\"white\",\"ticks\":\"\",\"title\":{\"standoff\":15},\"zerolinecolor\":\"white\",\"automargin\":true,\"zerolinewidth\":2},\"scene\":{\"xaxis\":{\"backgroundcolor\":\"#E5ECF6\",\"gridcolor\":\"white\",\"linecolor\":\"white\",\"showbackground\":true,\"ticks\":\"\",\"zerolinecolor\":\"white\",\"gridwidth\":2},\"yaxis\":{\"backgroundcolor\":\"#E5ECF6\",\"gridcolor\":\"white\",\"linecolor\":\"white\",\"showbackground\":true,\"ticks\":\"\",\"zerolinecolor\":\"white\",\"gridwidth\":2},\"zaxis\":{\"backgroundcolor\":\"#E5ECF6\",\"gridcolor\":\"white\",\"linecolor\":\"white\",\"showbackground\":true,\"ticks\":\"\",\"zerolinecolor\":\"white\",\"gridwidth\":2}},\"shapedefaults\":{\"line\":{\"color\":\"#2a3f5f\"}},\"annotationdefaults\":{\"arrowcolor\":\"#2a3f5f\",\"arrowhead\":0,\"arrowwidth\":1},\"geo\":{\"bgcolor\":\"white\",\"landcolor\":\"#E5ECF6\",\"subunitcolor\":\"white\",\"showland\":true,\"showlakes\":true,\"lakecolor\":\"white\"},\"title\":{\"x\":0.05},\"mapbox\":{\"style\":\"light\"}}},\"xaxis\":{\"anchor\":\"y\",\"domain\":[0.0,1.0],\"title\":{\"text\":\"elo\"}},\"yaxis\":{\"anchor\":\"x\",\"domain\":[0.0,1.0],\"title\":{\"text\":\"win_rate\"}},\"legend\":{\"tracegroupgap\":0},\"margin\":{\"t\":60}},                        {\"responsive\": true}                    ).then(function(){\n",
       "                            \n",
       "var gd = document.getElementById('df324db5-77de-44a1-b5a4-c950c3915562');\n",
       "var x = new MutationObserver(function (mutations, observer) {{\n",
       "        var display = window.getComputedStyle(gd).display;\n",
       "        if (!display || display === 'none') {{\n",
       "            console.log([gd, 'removed!']);\n",
       "            Plotly.purge(gd);\n",
       "            observer.disconnect();\n",
       "        }}\n",
       "}});\n",
       "\n",
       "// Listen for the removal of the full notebook cells\n",
       "var notebookContainer = gd.closest('#notebook-container');\n",
       "if (notebookContainer) {{\n",
       "    x.observe(notebookContainer, {childList: true});\n",
       "}}\n",
       "\n",
       "// Listen for the clearing of the current output cell\n",
       "var outputEl = gd.closest('.output');\n",
       "if (outputEl) {{\n",
       "    x.observe(outputEl, {childList: true});\n",
       "}}\n",
       "\n",
       "                        })                };                });            </script>        </div>"
      ]
     },
     "metadata": {},
     "output_type": "display_data"
    }
   ],
   "source": []
  },
  {
   "cell_type": "code",
   "execution_count": null,
   "metadata": {},
   "outputs": [],
   "source": [
    "import plotly.graph_objects as go\n",
    "\n",
    "records = []\n",
    "len_data = len(set(result['example_id']))\n",
    "for i in np.arange(len_data):\n",
    "    current_id = f'Mbpp/{i}'\n",
    "    example_data = result[result['example_id'] == current_id][['model', 'pass1']]\n",
    "    fit_data = example_data.merge(model_elos.to_frame(name='elo'), left_on = 'model', right_on = 'model_a')\n",
    "    # fit_data['result'] = fit_data['result']\n",
    "    from sklearn.linear_model import LogisticRegression\n",
    "    lr = LogisticRegression()\n",
    "    fit_data['correct'] = np.where(fit_data['pass1'] > 0, 1, 0)\n",
    "    if all(fit_data['correct'].to_numpy() == 0) or all(fit_data['correct'].to_numpy() == 1):\n",
    "        mean = 1 if all(fit_data['correct'].to_numpy() == 1) else 0\n",
    "        records.append({\n",
    "            'sample_id': f'sample_{i}_input',\n",
    "            'elo': -3500 if mean > 0 else 3500,\n",
    "            'elo_var': 0,\n",
    "            'score': 1,\n",
    "            'acc': mean,\n",
    "        })\n",
    "        continue\n",
    "    else:\n",
    "        Xd = fit_data['elo'].to_numpy().reshape(-1, 1)\n",
    "        yd = fit_data['correct'].to_numpy() \n",
    "        lrm = lr.fit(fit_data['elo'].to_numpy().reshape(-1, 1), fit_data['correct'].to_numpy())\n",
    "        X = list(range(500, 1500, 10))\n",
    "        y = [lrm.predict_proba([[x]])[0, 1] for x in X]\n",
    "        elo = -lrm.intercept_[0] / lrm.coef_[0][0]\n",
    "        elo_var = 1/lrm.coef_[0][0]\n",
    "        score = lrm.score(Xd, yd)\n",
    "        records.append({\n",
    "            'sample_id': f'sample_{i}_input',\n",
    "            'elo': elo,\n",
    "            'elo_var': elo_var,\n",
    "            'score': score,\n",
    "            'acc': fit_data['correct'].to_numpy().mean()\n",
    "        })\n",
    "    if 5 < elo_var < 50:\n",
    "        print(elo, elo_var)\n",
    "        print(fit_data)\n",
    "        fig1 = px.scatter(fit_data, x='elo', y='pass1', hover_name='model', title=current_id)\n",
    "        fig1.update_traces(textposition='top center')\n",
    "        fig2 = px.line(x=X, y=y)\n",
    "        fig3 = go.Figure(data=fig1.data + fig2.data, layout=fig1.layout)\n",
    "        display(fig3)\n",
    "    # display(fig3)\n"
   ]
  },
  {
   "cell_type": "code",
   "execution_count": null,
   "metadata": {},
   "outputs": [],
   "source": [
    "import plotly.express as px\n",
    "df = px.data.tips()\n",
    "\n",
    "df = pd.DataFrame.from_records(records)\n",
    "display(df)\n",
    "fig = px.histogram(df, x='acc', marginal=\"rug\")\n",
    "# fig.update_traces(xbins=dict( # bins used for histogram\n",
    "#         start=0.0,\n",
    "#         end=1.1,\n",
    "#         size=0.1,\n",
    "#     ))\n",
    "print(df[df['acc'] < 0.2].describe())\n",
    "# print(18+8+8+12+17+10+17+17+14+20+23)\n",
    "fig"
   ]
  },
  {
   "cell_type": "code",
   "execution_count": null,
   "metadata": {},
   "outputs": [],
   "source": [
    "import sys\n",
    "sys.path.append('/private/home/sida/git/CodeGen/scripts/sida/arena/data/evalplus')\n",
    "\n",
    "\n",
    "from evalplus.data import get_mbpp_plus, write_jsonl\n",
    "\n",
    "samples = [\n",
    "    dict(task_id=task_id, problem=problem['prompt'])\n",
    "    for task_id, problem in get_mbpp_plus().items()\n",
    "]\n",
    "print(samples[77])\n",
    "df = pd.DataFrame(samples)\n",
    "# weird ones 77, 233\n",
    "print(df[df['task_id'] == 'Mbpp/233']['problem'].iloc[0])"
   ]
  }
 ],
 "metadata": {
  "kernelspec": {
   "display_name": "codegen_240116_sida",
   "language": "python",
   "name": "python3"
  },
  "language_info": {
   "codemirror_mode": {
    "name": "ipython",
    "version": 3
   },
   "file_extension": ".py",
   "mimetype": "text/x-python",
   "name": "python",
   "nbconvert_exporter": "python",
   "pygments_lexer": "ipython3",
   "version": "3.10.13"
  }
 },
 "nbformat": 4,
 "nbformat_minor": 2
}
