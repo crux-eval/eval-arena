{
 "cells": [
  {
   "cell_type": "code",
   "execution_count": null,
   "metadata": {},
   "outputs": [],
   "source": [
    "from collections import defaultdict\n",
    "import json, math, glob\n",
    "import numpy as np\n",
    "import pandas as pd\n",
    "import scipy.stats as stats\n",
    "import plotly.express as px\n",
    "from tqdm import tqdm\n",
    "\n",
    "def get_cruxeval(type):\n",
    "    records = []\n",
    "    for fname in glob.glob(f\"evaluation_results/*_temp0.2_{type}.json\"):\n",
    "        name = fname.split('/')[1]\n",
    "        model, temp, typejsonl = name.split('_')\n",
    "        print(model, temp, type)\n",
    "\n",
    "        with open(fname) as f:\n",
    "            res = json.load(f)['raw_scored_generations']\n",
    "            for exid in res:\n",
    "                gotid = np.mean(res[exid])\n",
    "                actualid = exid.replace('sample_', '')\n",
    "                records.append({\n",
    "                    'benchmark_id': f'CRUXEval-{type}',\n",
    "                    'model': model,\n",
    "                    'example_id': f\"CRUXEval-{type}/{actualid}\",\n",
    "                    'pass1': gotid,\n",
    "                    'hyperparams': 'temp0.2'\n",
    "                })\n",
    "    df = pd.DataFrame(records)\n",
    "    display(df.describe())\n",
    "    return df\n",
    "        \n",
    "with open('data/cruxeval_input.jsonl', 'w') as f:\n",
    "    dfi = get_cruxeval('input')\n",
    "    f.write(dfi.to_json(orient='records', lines=True))\n",
    "\n",
    "with open('data/cruxeval_output.jsonl', 'w') as f:\n",
    "    dfo = get_cruxeval('output')\n",
    "    f.write(dfo.to_json(orient='records', lines=True))\n",
    "\n",
    "pass1 = pd.concat([dfi, dfo])\n",
    "display(pass1)\n"
   ]
  }
 ],
 "metadata": {
  "kernelspec": {
   "display_name": "codegen_240116_sida",
   "language": "python",
   "name": "python3"
  },
  "language_info": {
   "codemirror_mode": {
    "name": "ipython",
    "version": 3
   },
   "file_extension": ".py",
   "mimetype": "text/x-python",
   "name": "python",
   "nbconvert_exporter": "python",
   "pygments_lexer": "ipython3",
   "version": "3.10.13"
  }
 },
 "nbformat": 4,
 "nbformat_minor": 2
}
